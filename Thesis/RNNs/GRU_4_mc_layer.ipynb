{
 "cells": [
  {
   "cell_type": "code",
   "execution_count": 1,
   "metadata": {},
   "outputs": [],
   "source": [
    "#tensorboard via command-line:\n",
    "#tensorboard --logdir=where your Logs directory is"
   ]
  },
  {
   "cell_type": "code",
   "execution_count": 2,
   "metadata": {},
   "outputs": [],
   "source": [
    "#~~~~~~~~~~~~~~~~~~~~~~~~~~~~~~~~~~~~~~~~~~~~~~~~~~~~~~~~~~~~~~~~~~~~~~~~~~~~~~~~~~~~~~~~~~~~~~~~~~~~~~~#\n",
    "#What is the maximum flare class produced by an AR in the next 24hrs after a 24hr time sequence?\n",
    "#~~~~~~~~~~~~~~~~~~~~~~~~~~~~~~~~~~~~~~~~~~~~~~~~~~~~~~~~~~~~~~~~~~~~~~~~~~~~~~~~~~~~~~~~~~~~~~~~~~~~~~~#\n",
    "#feature data from - hmi.sharp_720s:::\n",
    "#http://jsoc.stanford.edu/doc/data/hmi/sharp/sharp.htm\n",
    "\n",
    "#label data from - GOES flare events:::\n",
    "#ftp://ftp.swpc.noaa.gov/pub/warehouse/\n",
    "\n",
    "#and from - GOES XRS Report:::\n",
    "#https://www.ngdc.noaa.gov/stp/space-weather/solar-data/solar-features/solar-flares/x-rays/goes/xrs/\n",
    "#~~~~~~~~~~~~~~~~~~~~~~~~~~~~~~~~~~~~~~~~~~~~~~~~~~~~~~~~~~~~~~~~~~~~~~~~~~~~~~~~~~~~~~~~~~~~~~~~~~~~~~~#\n",
    "#binary class - F for flare and N for no flare\n",
    "#multi-class - #6 flare classes: N is no flare, A is smallest, X is largest\n",
    "               #key = {'N', 'A', 'B', 'C', 'M', 'X'}\n",
    "               #['A' class flares generally not listed in official reports due to small size]\n",
    "#~~~~~~~~~~~~~~~~~~~~~~~~~~~~~~~~~~~~~~~~~~~~~~~~~~~~~~~~~~~~~~~~~~~~~~~~~~~~~~~~~~~~~~~~~~~~~~~~~~~~~~~#"
   ]
  },
  {
   "cell_type": "code",
   "execution_count": 3,
   "metadata": {},
   "outputs": [
    {
     "name": "stdout",
     "output_type": "stream",
     "text": [
      "tensorflow version: 2.3.1\n"
     ]
    }
   ],
   "source": [
    "import tensorflow as tf\n",
    "print(\"tensorflow version:\", tf.__version__) #2.3.1 used\n",
    "from tensorflow import keras\n",
    "import os\n",
    "import glob\n",
    "import shutil\n",
    "import datetime\n",
    "import numpy as np\n",
    "import pandas as pd\n",
    "import seaborn as sns\n",
    "from pathlib import Path\n",
    "from astropy.time import Time\n",
    "from matplotlib import pyplot as plt\n",
    "from sklearn.metrics import f1_score, precision_score, recall_score, classification_report, confusion_matrix\n",
    "from sklearn.metrics import plot_confusion_matrix\n",
    "from sklearn.preprocessing import LabelBinarizer\n",
    "from sklearn.model_selection import train_test_split\n",
    "from sklearn.preprocessing import MinMaxScaler\n",
    "from tensorflow.keras.layers import Dropout, Dense, SimpleRNN, LSTM, GRU, GaussianNoise\n",
    "from tensorflow.keras.models import Model, Sequential\n",
    "from tensorflow.keras.optimizers import SGD, RMSprop, Adam\n",
    "import drms #https://pypi.org/project/drms/\n",
    "#~~~~~~~~~~~~~~~~~~~~~~~~~~~~~~~~~~~~~~~~~~~~~~~~~~~~~~~~~~~~~~~~~~~~~~~~~~~~~~~~~~~~~~~~~~~~~~~~~~~~~~~#\n",
    "import Flare_Data\n",
    "import Feature_Years\n",
    "import Make_TB_Logs\n",
    "#~~~~~~~~~~~~~~~~~~~~~~~~~~~~~~~~~~~~~~~~~~~~~~~~~~~~~~~~~~~~~~~~~~~~~~~~~~~~~~~~~~~~~~~~~~~~~~~~~~~~~~~#"
   ]
  },
  {
   "cell_type": "code",
   "execution_count": 4,
   "metadata": {},
   "outputs": [
    {
     "name": "stdout",
     "output_type": "stream",
     "text": [
      "CSVs compiled.\n"
     ]
    }
   ],
   "source": [
    "Feature_Years.generate_all_feature_years()"
   ]
  },
  {
   "cell_type": "code",
   "execution_count": 5,
   "metadata": {},
   "outputs": [],
   "source": [
    "where_logs = Make_TB_Logs.make_clear_tensorboard_folder()"
   ]
  },
  {
   "cell_type": "code",
   "execution_count": 6,
   "metadata": {},
   "outputs": [
    {
     "name": "stdout",
     "output_type": "stream",
     "text": [
      "The time series starts from:  2011-01-01 00:11:26\n",
      "The time series ends on:  2016-12-31 23:47:24\n",
      "(array(['B', 'C', 'M'], dtype='<U1'), array([167, 147, 155], dtype=int64))\n"
     ]
    }
   ],
   "source": [
    "#binary = True for binary classification, binary = False for multi-class classification\n",
    "X_train, X_val, X_test, y_train, y_val, y_test, tim_steps, n_feats, count_of_classes, a_encoder = Flare_Data.getAllData(binary = False)"
   ]
  },
  {
   "cell_type": "code",
   "execution_count": 7,
   "metadata": {},
   "outputs": [
    {
     "name": "stdout",
     "output_type": "stream",
     "text": [
      "(300, 114, 20) (75, 114, 20) (94, 114, 20) (300, 3) (75, 3) (94, 3)\n"
     ]
    }
   ],
   "source": [
    "print(X_train.shape, X_val.shape, X_test.shape, y_train.shape, y_val.shape, y_test.shape)"
   ]
  },
  {
   "cell_type": "code",
   "execution_count": 8,
   "metadata": {},
   "outputs": [],
   "source": [
    "#~~~~~~~~~~~~~~~~~~~~~~~~~~~~~~~~~~~~~~~~~~~~~~~~~~~~~~~~~~~~~~~~~~~~~~~~~~~~~~~~~~~~~~~~~~~~~~~~~~~~~~~~~~~#\n",
    "#~~~~~~~~~~~~~~~~~~~~~~~~~~~~~~~~~~~~~~~~~~~~~~~~~~~~~~~~~~~~~~~~~~~~~~~~~~~~~~~~~~~~~~~~~~~~~~~~~~~~~~~~~~~#"
   ]
  },
  {
   "cell_type": "code",
   "execution_count": 9,
   "metadata": {},
   "outputs": [],
   "source": [
    "batch_size = 10\n",
    "epochs = 100\n",
    "optimizer = Adam(lr=0.0001, beta_1=0.9, beta_2=0.999, epsilon=1e-06, decay=0.0)"
   ]
  },
  {
   "cell_type": "code",
   "execution_count": 10,
   "metadata": {},
   "outputs": [],
   "source": [
    "#~~~~~~~~~~~~~~~~~~~~~~~~~~~~~~~~~~~~~~~~[GRU_4 Model]~~~~~~~~~~~~~~~~~~~~~~~~~~~~~~~~~~~~~~~~~~~~~~~~~~~~~~#\n",
    "#~~~~~~~~~~~~~~~~~~~~~~~~~~~~~~~~~~~~~~~~[Multi-Class]~~~~~~~~~~~~~~~~~~~~~~~~~~~~~~~~~~~~~~~~~~~~~~~~~~~~~~#\n",
    "#~~~~~~~~~~~~~~~~~~~~~~~~~~~~~~~~~~~~~~~~[Multiple Layers]~~~~~~~~~~~~~~~~~~~~~~~~~~~~~~~~~~~~~~~~~~~~~~~~~~#\n",
    "model = Sequential()\n",
    "model.add(GRU(20, return_sequences=True, input_shape=(tim_steps, n_feats)))\n",
    "model.add(GaussianNoise(0.01))\n",
    "model.add(Dropout(0.1))\n",
    "model.add(GRU(10, return_sequences=False))\n",
    "model.add(GaussianNoise(0.01))\n",
    "model.add(Dropout(0.1))\n",
    "model.add(Dense(count_of_classes, activation='softmax'))\n",
    "model.compile(loss='categorical_crossentropy', optimizer=optimizer, metrics=['categorical_accuracy'])\n",
    "#~~~~~~~~~~~~~~~~~~~~~~~~~~~~~~~~~~~~~~~~~~~~~~~~~~~~~~~~~~~~~~~~~~~~~~~~~~~~~~~~~~~~~~~~~~~~~~~~~~~~~~~~~~~#\n",
    "#~~~~~~~~~~~~~~~~~~~~~~~~~~~~~~~~~~~~~~~~~~~~~~~~~~~~~~~~~~~~~~~~~~~~~~~~~~~~~~~~~~~~~~~~~~~~~~~~~~~~~~~~~~~#"
   ]
  },
  {
   "cell_type": "code",
   "execution_count": 11,
   "metadata": {},
   "outputs": [],
   "source": [
    "tensorboard_call = keras.callbacks.TensorBoard(log_dir=where_logs, histogram_freq=1)\n",
    "#val_loss_callback = tf.keras.callbacks.EarlyStopping(monitor='val_loss', patience=10)"
   ]
  },
  {
   "cell_type": "code",
   "execution_count": 12,
   "metadata": {},
   "outputs": [
    {
     "name": "stdout",
     "output_type": "stream",
     "text": [
      "Epoch 1/100\n",
      " 1/30 [>.............................] - ETA: 0s - loss: 1.0745 - categorical_accuracy: 0.4000WARNING:tensorflow:From C:\\ProgramData\\Anaconda3\\lib\\site-packages\\tensorflow\\python\\ops\\summary_ops_v2.py:1277: stop (from tensorflow.python.eager.profiler) is deprecated and will be removed after 2020-07-01.\n",
      "Instructions for updating:\n",
      "use `tf.profiler.experimental.stop` instead.\n",
      " 2/30 [=>............................] - ETA: 5s - loss: 1.0923 - categorical_accuracy: 0.3500WARNING:tensorflow:Callbacks method `on_train_batch_end` is slow compared to the batch time (batch time: 0.0450s vs `on_train_batch_end` time: 0.3357s). Check your callbacks.\n",
      "30/30 [==============================] - 3s 98ms/step - loss: 1.1120 - categorical_accuracy: 0.3400 - val_loss: 1.1155 - val_categorical_accuracy: 0.2933\n",
      "Epoch 2/100\n",
      "30/30 [==============================] - 1s 38ms/step - loss: 1.1077 - categorical_accuracy: 0.3200 - val_loss: 1.1086 - val_categorical_accuracy: 0.2800\n",
      "Epoch 3/100\n",
      "30/30 [==============================] - 1s 41ms/step - loss: 1.1125 - categorical_accuracy: 0.3067 - val_loss: 1.1064 - val_categorical_accuracy: 0.2667\n",
      "Epoch 4/100\n",
      "30/30 [==============================] - 1s 43ms/step - loss: 1.1077 - categorical_accuracy: 0.3233 - val_loss: 1.1047 - val_categorical_accuracy: 0.2533\n",
      "Epoch 5/100\n",
      "30/30 [==============================] - 1s 39ms/step - loss: 1.1005 - categorical_accuracy: 0.3500 - val_loss: 1.1047 - val_categorical_accuracy: 0.2667\n",
      "Epoch 6/100\n",
      "30/30 [==============================] - 1s 41ms/step - loss: 1.1056 - categorical_accuracy: 0.3333 - val_loss: 1.1042 - val_categorical_accuracy: 0.3067\n",
      "Epoch 7/100\n",
      "30/30 [==============================] - 1s 40ms/step - loss: 1.1082 - categorical_accuracy: 0.3500 - val_loss: 1.1042 - val_categorical_accuracy: 0.3467\n",
      "Epoch 8/100\n",
      "30/30 [==============================] - 1s 39ms/step - loss: 1.1009 - categorical_accuracy: 0.3100 - val_loss: 1.1043 - val_categorical_accuracy: 0.3200\n",
      "Epoch 9/100\n",
      "30/30 [==============================] - 1s 39ms/step - loss: 1.0993 - categorical_accuracy: 0.3700 - val_loss: 1.1041 - val_categorical_accuracy: 0.3467\n",
      "Epoch 10/100\n",
      "30/30 [==============================] - 1s 40ms/step - loss: 1.1050 - categorical_accuracy: 0.3367 - val_loss: 1.1042 - val_categorical_accuracy: 0.3467\n",
      "Epoch 11/100\n",
      "30/30 [==============================] - 1s 40ms/step - loss: 1.0970 - categorical_accuracy: 0.3867 - val_loss: 1.1044 - val_categorical_accuracy: 0.3333\n",
      "Epoch 12/100\n",
      "30/30 [==============================] - 1s 39ms/step - loss: 1.0971 - categorical_accuracy: 0.3300 - val_loss: 1.1043 - val_categorical_accuracy: 0.3200\n",
      "Epoch 13/100\n",
      "30/30 [==============================] - 1s 39ms/step - loss: 1.0953 - categorical_accuracy: 0.3333 - val_loss: 1.1043 - val_categorical_accuracy: 0.3067\n",
      "Epoch 14/100\n",
      "30/30 [==============================] - 1s 39ms/step - loss: 1.0948 - categorical_accuracy: 0.3833 - val_loss: 1.1043 - val_categorical_accuracy: 0.3200\n",
      "Epoch 15/100\n",
      "30/30 [==============================] - 1s 39ms/step - loss: 1.0936 - categorical_accuracy: 0.3833 - val_loss: 1.1044 - val_categorical_accuracy: 0.2933\n",
      "Epoch 16/100\n",
      "30/30 [==============================] - 1s 39ms/step - loss: 1.0927 - categorical_accuracy: 0.3567 - val_loss: 1.1044 - val_categorical_accuracy: 0.3200\n",
      "Epoch 17/100\n",
      "30/30 [==============================] - 1s 39ms/step - loss: 1.0965 - categorical_accuracy: 0.3633 - val_loss: 1.1045 - val_categorical_accuracy: 0.3067\n",
      "Epoch 18/100\n",
      "30/30 [==============================] - 1s 41ms/step - loss: 1.1002 - categorical_accuracy: 0.3567 - val_loss: 1.1046 - val_categorical_accuracy: 0.3200\n",
      "Epoch 19/100\n",
      "30/30 [==============================] - 1s 48ms/step - loss: 1.0996 - categorical_accuracy: 0.3400 - val_loss: 1.1046 - val_categorical_accuracy: 0.2933\n",
      "Epoch 20/100\n",
      "30/30 [==============================] - 1s 39ms/step - loss: 1.1007 - categorical_accuracy: 0.3800 - val_loss: 1.1046 - val_categorical_accuracy: 0.2800\n",
      "Epoch 21/100\n",
      "30/30 [==============================] - 1s 41ms/step - loss: 1.1058 - categorical_accuracy: 0.3200 - val_loss: 1.1047 - val_categorical_accuracy: 0.3067\n",
      "Epoch 22/100\n",
      "30/30 [==============================] - 1s 39ms/step - loss: 1.0991 - categorical_accuracy: 0.3400 - val_loss: 1.1046 - val_categorical_accuracy: 0.2667\n",
      "Epoch 23/100\n",
      "30/30 [==============================] - 1s 47ms/step - loss: 1.0964 - categorical_accuracy: 0.3533 - val_loss: 1.1048 - val_categorical_accuracy: 0.2800\n",
      "Epoch 24/100\n",
      "30/30 [==============================] - 1s 48ms/step - loss: 1.0912 - categorical_accuracy: 0.3533 - val_loss: 1.1049 - val_categorical_accuracy: 0.3067\n",
      "Epoch 25/100\n",
      "30/30 [==============================] - 1s 46ms/step - loss: 1.0931 - categorical_accuracy: 0.3700 - val_loss: 1.1051 - val_categorical_accuracy: 0.3333\n",
      "Epoch 26/100\n",
      "30/30 [==============================] - 1s 48ms/step - loss: 1.0977 - categorical_accuracy: 0.3467 - val_loss: 1.1050 - val_categorical_accuracy: 0.2933\n",
      "Epoch 27/100\n",
      "30/30 [==============================] - 1s 46ms/step - loss: 1.0965 - categorical_accuracy: 0.3333 - val_loss: 1.1051 - val_categorical_accuracy: 0.2800\n",
      "Epoch 28/100\n",
      "30/30 [==============================] - 1s 47ms/step - loss: 1.0898 - categorical_accuracy: 0.3533 - val_loss: 1.1051 - val_categorical_accuracy: 0.2800\n",
      "Epoch 29/100\n",
      "30/30 [==============================] - 1s 46ms/step - loss: 1.0907 - categorical_accuracy: 0.3967 - val_loss: 1.1053 - val_categorical_accuracy: 0.3067\n",
      "Epoch 30/100\n",
      "30/30 [==============================] - 1s 46ms/step - loss: 1.1022 - categorical_accuracy: 0.3267 - val_loss: 1.1055 - val_categorical_accuracy: 0.3067\n",
      "Epoch 31/100\n",
      "30/30 [==============================] - 1s 46ms/step - loss: 1.0942 - categorical_accuracy: 0.3800 - val_loss: 1.1053 - val_categorical_accuracy: 0.2933\n",
      "Epoch 32/100\n",
      "30/30 [==============================] - 2s 50ms/step - loss: 1.0922 - categorical_accuracy: 0.3867 - val_loss: 1.1054 - val_categorical_accuracy: 0.2667\n",
      "Epoch 33/100\n",
      "30/30 [==============================] - 1s 47ms/step - loss: 1.0871 - categorical_accuracy: 0.3700 - val_loss: 1.1053 - val_categorical_accuracy: 0.2933\n",
      "Epoch 34/100\n",
      "30/30 [==============================] - 2s 50ms/step - loss: 1.0943 - categorical_accuracy: 0.3767 - val_loss: 1.1054 - val_categorical_accuracy: 0.2667\n",
      "Epoch 35/100\n",
      "30/30 [==============================] - 1s 48ms/step - loss: 1.0993 - categorical_accuracy: 0.3400 - val_loss: 1.1055 - val_categorical_accuracy: 0.2933\n",
      "Epoch 36/100\n",
      "30/30 [==============================] - 1s 47ms/step - loss: 1.0865 - categorical_accuracy: 0.4033 - val_loss: 1.1057 - val_categorical_accuracy: 0.2800\n",
      "Epoch 37/100\n",
      "30/30 [==============================] - 1s 50ms/step - loss: 1.0937 - categorical_accuracy: 0.3467 - val_loss: 1.1056 - val_categorical_accuracy: 0.2667\n",
      "Epoch 38/100\n",
      "30/30 [==============================] - 1s 46ms/step - loss: 1.0864 - categorical_accuracy: 0.3933 - val_loss: 1.1057 - val_categorical_accuracy: 0.2667\n",
      "Epoch 39/100\n",
      "30/30 [==============================] - 1s 50ms/step - loss: 1.0857 - categorical_accuracy: 0.3867 - val_loss: 1.1058 - val_categorical_accuracy: 0.2533\n",
      "Epoch 40/100\n",
      "30/30 [==============================] - 1s 48ms/step - loss: 1.0946 - categorical_accuracy: 0.3800 - val_loss: 1.1060 - val_categorical_accuracy: 0.2533\n",
      "Epoch 41/100\n",
      "30/30 [==============================] - 1s 46ms/step - loss: 1.0939 - categorical_accuracy: 0.3933 - val_loss: 1.1061 - val_categorical_accuracy: 0.2667\n",
      "Epoch 42/100\n",
      "30/30 [==============================] - 2s 51ms/step - loss: 1.0893 - categorical_accuracy: 0.4000 - val_loss: 1.1061 - val_categorical_accuracy: 0.2533\n",
      "Epoch 43/100\n",
      "30/30 [==============================] - 1s 49ms/step - loss: 1.0906 - categorical_accuracy: 0.4000 - val_loss: 1.1063 - val_categorical_accuracy: 0.2933\n",
      "Epoch 44/100\n",
      "30/30 [==============================] - 1s 47ms/step - loss: 1.0884 - categorical_accuracy: 0.3833 - val_loss: 1.1065 - val_categorical_accuracy: 0.2800\n",
      "Epoch 45/100\n",
      "30/30 [==============================] - 1s 45ms/step - loss: 1.0845 - categorical_accuracy: 0.4000 - val_loss: 1.1066 - val_categorical_accuracy: 0.2933\n",
      "Epoch 46/100\n"
     ]
    },
    {
     "name": "stdout",
     "output_type": "stream",
     "text": [
      "30/30 [==============================] - 1s 43ms/step - loss: 1.0948 - categorical_accuracy: 0.3767 - val_loss: 1.1067 - val_categorical_accuracy: 0.2933\n",
      "Epoch 47/100\n",
      "30/30 [==============================] - 1s 47ms/step - loss: 1.0913 - categorical_accuracy: 0.3667 - val_loss: 1.1068 - val_categorical_accuracy: 0.2800\n",
      "Epoch 48/100\n",
      "30/30 [==============================] - 1s 49ms/step - loss: 1.0941 - categorical_accuracy: 0.3500 - val_loss: 1.1069 - val_categorical_accuracy: 0.2400\n",
      "Epoch 49/100\n",
      "30/30 [==============================] - 1s 46ms/step - loss: 1.0880 - categorical_accuracy: 0.3700 - val_loss: 1.1070 - val_categorical_accuracy: 0.2267\n",
      "Epoch 50/100\n",
      "30/30 [==============================] - 1s 45ms/step - loss: 1.0886 - categorical_accuracy: 0.3500 - val_loss: 1.1074 - val_categorical_accuracy: 0.2933\n",
      "Epoch 51/100\n",
      "30/30 [==============================] - 1s 49ms/step - loss: 1.0938 - categorical_accuracy: 0.3700 - val_loss: 1.1075 - val_categorical_accuracy: 0.2800\n",
      "Epoch 52/100\n",
      "30/30 [==============================] - 1s 47ms/step - loss: 1.0915 - categorical_accuracy: 0.3533 - val_loss: 1.1075 - val_categorical_accuracy: 0.2667\n",
      "Epoch 53/100\n",
      "30/30 [==============================] - 1s 45ms/step - loss: 1.0850 - categorical_accuracy: 0.3967 - val_loss: 1.1077 - val_categorical_accuracy: 0.2800\n",
      "Epoch 54/100\n",
      "30/30 [==============================] - 1s 45ms/step - loss: 1.0843 - categorical_accuracy: 0.3967 - val_loss: 1.1077 - val_categorical_accuracy: 0.2667\n",
      "Epoch 55/100\n",
      "30/30 [==============================] - 1s 45ms/step - loss: 1.0874 - categorical_accuracy: 0.3833 - val_loss: 1.1081 - val_categorical_accuracy: 0.2933\n",
      "Epoch 56/100\n",
      "30/30 [==============================] - 1s 48ms/step - loss: 1.0842 - categorical_accuracy: 0.3967 - val_loss: 1.1083 - val_categorical_accuracy: 0.3067\n",
      "Epoch 57/100\n",
      "30/30 [==============================] - 1s 48ms/step - loss: 1.0826 - categorical_accuracy: 0.4000 - val_loss: 1.1081 - val_categorical_accuracy: 0.2933\n",
      "Epoch 58/100\n",
      "30/30 [==============================] - 2s 55ms/step - loss: 1.0854 - categorical_accuracy: 0.3733 - val_loss: 1.1084 - val_categorical_accuracy: 0.2667\n",
      "Epoch 59/100\n",
      "30/30 [==============================] - 2s 55ms/step - loss: 1.0831 - categorical_accuracy: 0.4433 - val_loss: 1.1085 - val_categorical_accuracy: 0.2933\n",
      "Epoch 60/100\n",
      "30/30 [==============================] - 1s 47ms/step - loss: 1.0805 - categorical_accuracy: 0.4200 - val_loss: 1.1086 - val_categorical_accuracy: 0.2933\n",
      "Epoch 61/100\n",
      "30/30 [==============================] - 1s 49ms/step - loss: 1.0816 - categorical_accuracy: 0.4033 - val_loss: 1.1086 - val_categorical_accuracy: 0.2933\n",
      "Epoch 62/100\n",
      "30/30 [==============================] - 1s 50ms/step - loss: 1.0842 - categorical_accuracy: 0.3933 - val_loss: 1.1089 - val_categorical_accuracy: 0.2933\n",
      "Epoch 63/100\n",
      "30/30 [==============================] - 1s 50ms/step - loss: 1.0815 - categorical_accuracy: 0.4000 - val_loss: 1.1089 - val_categorical_accuracy: 0.2933\n",
      "Epoch 64/100\n",
      "30/30 [==============================] - 2s 58ms/step - loss: 1.0847 - categorical_accuracy: 0.4100 - val_loss: 1.1089 - val_categorical_accuracy: 0.2800\n",
      "Epoch 65/100\n",
      "30/30 [==============================] - 1s 47ms/step - loss: 1.0803 - categorical_accuracy: 0.4067 - val_loss: 1.1091 - val_categorical_accuracy: 0.2800\n",
      "Epoch 66/100\n",
      "30/30 [==============================] - 2s 53ms/step - loss: 1.0822 - categorical_accuracy: 0.3933 - val_loss: 1.1093 - val_categorical_accuracy: 0.2933\n",
      "Epoch 67/100\n",
      "30/30 [==============================] - 1s 47ms/step - loss: 1.0834 - categorical_accuracy: 0.4100 - val_loss: 1.1095 - val_categorical_accuracy: 0.2667\n",
      "Epoch 68/100\n",
      "30/30 [==============================] - 1s 49ms/step - loss: 1.0821 - categorical_accuracy: 0.4267 - val_loss: 1.1097 - val_categorical_accuracy: 0.2667\n",
      "Epoch 69/100\n",
      "30/30 [==============================] - 1s 48ms/step - loss: 1.0852 - categorical_accuracy: 0.4100 - val_loss: 1.1099 - val_categorical_accuracy: 0.2800\n",
      "Epoch 70/100\n",
      "30/30 [==============================] - 1s 45ms/step - loss: 1.0763 - categorical_accuracy: 0.4300 - val_loss: 1.1098 - val_categorical_accuracy: 0.2667\n",
      "Epoch 71/100\n",
      "30/30 [==============================] - 1s 48ms/step - loss: 1.0822 - categorical_accuracy: 0.4233 - val_loss: 1.1099 - val_categorical_accuracy: 0.2800\n",
      "Epoch 72/100\n",
      "30/30 [==============================] - 1s 45ms/step - loss: 1.0790 - categorical_accuracy: 0.4067 - val_loss: 1.1100 - val_categorical_accuracy: 0.2667\n",
      "Epoch 73/100\n",
      "30/30 [==============================] - 1s 44ms/step - loss: 1.0789 - categorical_accuracy: 0.4033 - val_loss: 1.1103 - val_categorical_accuracy: 0.2800\n",
      "Epoch 74/100\n",
      "30/30 [==============================] - 1s 45ms/step - loss: 1.0795 - categorical_accuracy: 0.3967 - val_loss: 1.1105 - val_categorical_accuracy: 0.2800\n",
      "Epoch 75/100\n",
      "30/30 [==============================] - 2s 51ms/step - loss: 1.0824 - categorical_accuracy: 0.4000 - val_loss: 1.1105 - val_categorical_accuracy: 0.2800\n",
      "Epoch 76/100\n",
      "30/30 [==============================] - 1s 49ms/step - loss: 1.0774 - categorical_accuracy: 0.4167 - val_loss: 1.1107 - val_categorical_accuracy: 0.2933\n",
      "Epoch 77/100\n",
      "30/30 [==============================] - 2s 53ms/step - loss: 1.0770 - categorical_accuracy: 0.4100 - val_loss: 1.1106 - val_categorical_accuracy: 0.2533\n",
      "Epoch 78/100\n",
      "30/30 [==============================] - 2s 51ms/step - loss: 1.0783 - categorical_accuracy: 0.4500 - val_loss: 1.1107 - val_categorical_accuracy: 0.2533\n",
      "Epoch 79/100\n",
      "30/30 [==============================] - 1s 43ms/step - loss: 1.0753 - categorical_accuracy: 0.4367 - val_loss: 1.1108 - val_categorical_accuracy: 0.2533\n",
      "Epoch 80/100\n",
      "30/30 [==============================] - 1s 43ms/step - loss: 1.0770 - categorical_accuracy: 0.4233 - val_loss: 1.1109 - val_categorical_accuracy: 0.2800\n",
      "Epoch 81/100\n",
      "30/30 [==============================] - 1s 44ms/step - loss: 1.0746 - categorical_accuracy: 0.4467 - val_loss: 1.1112 - val_categorical_accuracy: 0.2800\n",
      "Epoch 82/100\n",
      "30/30 [==============================] - 1s 49ms/step - loss: 1.0760 - categorical_accuracy: 0.4400 - val_loss: 1.1114 - val_categorical_accuracy: 0.2533\n",
      "Epoch 83/100\n",
      "30/30 [==============================] - 1s 46ms/step - loss: 1.0769 - categorical_accuracy: 0.4233 - val_loss: 1.1119 - val_categorical_accuracy: 0.2933\n",
      "Epoch 84/100\n",
      "30/30 [==============================] - 1s 46ms/step - loss: 1.0730 - categorical_accuracy: 0.4267 - val_loss: 1.1118 - val_categorical_accuracy: 0.2667\n",
      "Epoch 85/100\n",
      "30/30 [==============================] - 1s 50ms/step - loss: 1.0706 - categorical_accuracy: 0.4467 - val_loss: 1.1120 - val_categorical_accuracy: 0.3067\n",
      "Epoch 86/100\n",
      "30/30 [==============================] - 1s 46ms/step - loss: 1.0744 - categorical_accuracy: 0.4167 - val_loss: 1.1124 - val_categorical_accuracy: 0.3067\n",
      "Epoch 87/100\n",
      "30/30 [==============================] - 1s 47ms/step - loss: 1.0705 - categorical_accuracy: 0.4533 - val_loss: 1.1124 - val_categorical_accuracy: 0.2533\n",
      "Epoch 88/100\n",
      "30/30 [==============================] - 1s 46ms/step - loss: 1.0799 - categorical_accuracy: 0.4167 - val_loss: 1.1128 - val_categorical_accuracy: 0.2933\n",
      "Epoch 89/100\n",
      "30/30 [==============================] - 1s 46ms/step - loss: 1.0727 - categorical_accuracy: 0.4167 - val_loss: 1.1130 - val_categorical_accuracy: 0.3067\n",
      "Epoch 90/100\n",
      "30/30 [==============================] - 2s 51ms/step - loss: 1.0710 - categorical_accuracy: 0.4333 - val_loss: 1.1135 - val_categorical_accuracy: 0.3067\n",
      "Epoch 91/100\n",
      "30/30 [==============================] - 1s 45ms/step - loss: 1.0776 - categorical_accuracy: 0.4200 - val_loss: 1.1135 - val_categorical_accuracy: 0.3200\n",
      "Epoch 92/100\n",
      "30/30 [==============================] - 1s 44ms/step - loss: 1.0741 - categorical_accuracy: 0.4333 - val_loss: 1.1133 - val_categorical_accuracy: 0.2933\n",
      "Epoch 93/100\n",
      "30/30 [==============================] - 1s 47ms/step - loss: 1.0741 - categorical_accuracy: 0.4400 - val_loss: 1.1140 - val_categorical_accuracy: 0.3067\n",
      "Epoch 94/100\n",
      "30/30 [==============================] - 1s 50ms/step - loss: 1.0699 - categorical_accuracy: 0.4233 - val_loss: 1.1138 - val_categorical_accuracy: 0.2933\n",
      "Epoch 95/100\n"
     ]
    },
    {
     "name": "stdout",
     "output_type": "stream",
     "text": [
      "30/30 [==============================] - 1s 46ms/step - loss: 1.0743 - categorical_accuracy: 0.4333 - val_loss: 1.1143 - val_categorical_accuracy: 0.3067\n",
      "Epoch 96/100\n",
      "30/30 [==============================] - 1s 47ms/step - loss: 1.0740 - categorical_accuracy: 0.4300 - val_loss: 1.1141 - val_categorical_accuracy: 0.2933\n",
      "Epoch 97/100\n",
      "30/30 [==============================] - 1s 45ms/step - loss: 1.0747 - categorical_accuracy: 0.4133 - val_loss: 1.1143 - val_categorical_accuracy: 0.2933\n",
      "Epoch 98/100\n",
      "30/30 [==============================] - 1s 43ms/step - loss: 1.0745 - categorical_accuracy: 0.4300 - val_loss: 1.1150 - val_categorical_accuracy: 0.3067\n",
      "Epoch 99/100\n",
      "30/30 [==============================] - 1s 45ms/step - loss: 1.0676 - categorical_accuracy: 0.4467 - val_loss: 1.1148 - val_categorical_accuracy: 0.3067\n",
      "Epoch 100/100\n",
      "30/30 [==============================] - 1s 46ms/step - loss: 1.0712 - categorical_accuracy: 0.4367 - val_loss: 1.1156 - val_categorical_accuracy: 0.3200\n"
     ]
    }
   ],
   "source": [
    "history = model.fit(X_train, y_train, \n",
    "                    batch_size=batch_size, \n",
    "                    epochs=epochs, \n",
    "                    validation_data=(X_val, y_val), \n",
    "                    verbose=1, \n",
    "                    callbacks=[tensorboard_call]) #, val_loss_callback])"
   ]
  },
  {
   "cell_type": "code",
   "execution_count": 13,
   "metadata": {},
   "outputs": [
    {
     "name": "stdout",
     "output_type": "stream",
     "text": [
      "Model: \"sequential\"\n",
      "_________________________________________________________________\n",
      "Layer (type)                 Output Shape              Param #   \n",
      "=================================================================\n",
      "gru (GRU)                    (None, 114, 20)           2520      \n",
      "_________________________________________________________________\n",
      "gaussian_noise (GaussianNois (None, 114, 20)           0         \n",
      "_________________________________________________________________\n",
      "dropout (Dropout)            (None, 114, 20)           0         \n",
      "_________________________________________________________________\n",
      "gru_1 (GRU)                  (None, 10)                960       \n",
      "_________________________________________________________________\n",
      "gaussian_noise_1 (GaussianNo (None, 10)                0         \n",
      "_________________________________________________________________\n",
      "dropout_1 (Dropout)          (None, 10)                0         \n",
      "_________________________________________________________________\n",
      "dense (Dense)                (None, 3)                 33        \n",
      "=================================================================\n",
      "Total params: 3,513\n",
      "Trainable params: 3,513\n",
      "Non-trainable params: 0\n",
      "_________________________________________________________________\n"
     ]
    }
   ],
   "source": [
    "model.summary()"
   ]
  },
  {
   "cell_type": "code",
   "execution_count": 14,
   "metadata": {},
   "outputs": [
    {
     "name": "stdout",
     "output_type": "stream",
     "text": [
      "94/94 [==============================] - 1s 11ms/step - loss: 1.0995 - categorical_accuracy: 0.3936\n",
      "test loss, test acc: [1.0994755029678345, 0.39361703395843506]\n"
     ]
    }
   ],
   "source": [
    "#evaluate model on test set\n",
    "results = model.evaluate(X_test, y_test, batch_size=1, verbose=1)\n",
    "print(\"test loss, test acc:\", results)"
   ]
  },
  {
   "cell_type": "code",
   "execution_count": 15,
   "metadata": {},
   "outputs": [
    {
     "data": {
      "image/png": "[encoded data removed]",
      "text/plain": [
       "<Figure size 432x288 with 1 Axes>"
      ]
     },
     "metadata": {
      "needs_background": "light"
     },
     "output_type": "display_data"
    }
   ],
   "source": [
    "#summarize history for accuracy\n",
    "plt.plot(history.history[(list(history.history.keys())[1])])\n",
    "plt.plot(history.history[(list(history.history.keys())[3])])\n",
    "plt.title('model accuracy')\n",
    "plt.ylabel('accuracy')\n",
    "plt.xlabel('epoch')\n",
    "plt.legend(['train', 'val'], loc='upper left')\n",
    "plt.show()"
   ]
  },
  {
   "cell_type": "code",
   "execution_count": 16,
   "metadata": {},
   "outputs": [
    {
     "data": {
      "image/png": "[encoded data removed]",
      "text/plain": [
       "<Figure size 432x288 with 1 Axes>"
      ]
     },
     "metadata": {
      "needs_background": "light"
     },
     "output_type": "display_data"
    }
   ],
   "source": [
    "#summarize history for loss\n",
    "plt.plot(history.history[(list(history.history.keys())[0])])\n",
    "plt.plot(history.history[(list(history.history.keys())[2])])\n",
    "plt.title('model loss')\n",
    "plt.ylabel('loss')\n",
    "plt.xlabel('epoch')\n",
    "plt.legend(['train', 'val'], loc='upper left')\n",
    "plt.show()"
   ]
  },
  {
   "cell_type": "code",
   "execution_count": 17,
   "metadata": {},
   "outputs": [
    {
     "name": "stdout",
     "output_type": "stream",
     "text": [
      "predictions: [[0.2985123  0.4130215  0.28846622]\n",
      " [0.3410776  0.3117838  0.34713864]\n",
      " [0.28869382 0.39092785 0.32037836]\n",
      " [0.3142685  0.3239401  0.3617914 ]\n",
      " [0.37279826 0.30636668 0.3208351 ]\n",
      " [0.43622172 0.19641203 0.36736625]\n",
      " [0.34397253 0.3382755  0.31775197]\n",
      " [0.38260424 0.28766724 0.3297285 ]\n",
      " [0.37514377 0.27459198 0.35026425]\n",
      " [0.3528552  0.34109643 0.3060484 ]\n",
      " [0.35126996 0.29939246 0.34933752]\n",
      " [0.43135762 0.24677184 0.32187054]\n",
      " [0.34163454 0.34116584 0.31719962]\n",
      " [0.38935563 0.2121293  0.39851514]\n",
      " [0.30206397 0.39237937 0.3055567 ]\n",
      " [0.3774635  0.30159605 0.32094043]\n",
      " [0.31714532 0.31932083 0.36353394]\n",
      " [0.3472714  0.31764475 0.3350838 ]\n",
      " [0.395147   0.23351716 0.37133586]\n",
      " [0.32967743 0.29209927 0.3782233 ]\n",
      " [0.2919998  0.41353196 0.29446825]\n",
      " [0.37767285 0.30788213 0.31444496]\n",
      " [0.3085731  0.34107867 0.3503482 ]\n",
      " [0.36749738 0.2820392  0.35046342]\n",
      " [0.3483263  0.3550514  0.29662228]\n",
      " [0.3760763  0.32731065 0.296613  ]\n",
      " [0.374735   0.31789005 0.30737486]\n",
      " [0.28166723 0.38193193 0.33640078]\n",
      " [0.33187833 0.3680188  0.30010286]\n",
      " [0.30975667 0.33817193 0.35207146]\n",
      " [0.31938565 0.37184408 0.30877024]\n",
      " [0.36796758 0.25828376 0.37374863]\n",
      " [0.25794527 0.4685003  0.2735544 ]\n",
      " [0.41393697 0.27354088 0.31252217]\n",
      " [0.28359148 0.40745857 0.30894992]\n",
      " [0.33249596 0.2930069  0.37449715]\n",
      " [0.42330927 0.25309053 0.3236002 ]\n",
      " [0.35389793 0.3013165  0.34478554]\n",
      " [0.39612153 0.2547997  0.34907877]\n",
      " [0.3364885  0.31797606 0.34553546]\n",
      " [0.3213925  0.36465016 0.31395727]\n",
      " [0.31461883 0.34646127 0.3389199 ]\n",
      " [0.26248777 0.4096486  0.32786363]\n",
      " [0.3283104  0.34067783 0.33101183]\n",
      " [0.28493905 0.36431202 0.350749  ]\n",
      " [0.33484387 0.30126446 0.36389166]\n",
      " [0.38219464 0.29350725 0.3242982 ]\n",
      " [0.27156514 0.40593398 0.3225008 ]\n",
      " [0.38488385 0.2704339  0.34468225]\n",
      " [0.3425888  0.31626183 0.34114936]\n",
      " [0.40091428 0.26210347 0.3369822 ]\n",
      " [0.37843207 0.2987597  0.32280827]\n",
      " [0.42197907 0.28030515 0.29771575]\n",
      " [0.32434994 0.34140754 0.33424246]\n",
      " [0.32055134 0.35193393 0.32751474]\n",
      " [0.3422374  0.27182904 0.38593352]\n",
      " [0.3405214  0.29779732 0.36168128]\n",
      " [0.30443892 0.38826233 0.30729875]\n",
      " [0.2644846  0.37846366 0.3570518 ]\n",
      " [0.31634432 0.3510033  0.33265236]\n",
      " [0.26786637 0.44780183 0.28433186]\n",
      " [0.35988587 0.2750905  0.36502367]\n",
      " [0.26543888 0.46712577 0.2674354 ]\n",
      " [0.3433436  0.31107795 0.3455785 ]\n",
      " [0.2786017  0.4049351  0.31646323]\n",
      " [0.34398693 0.28677103 0.36924207]\n",
      " [0.37796697 0.29421312 0.32781994]\n",
      " [0.39089113 0.2524136  0.3566953 ]\n",
      " [0.35819417 0.2615548  0.38025105]\n",
      " [0.33609316 0.30357248 0.36033437]\n",
      " [0.3198673  0.3504627  0.32966995]\n",
      " [0.3718087  0.2672558  0.3609355 ]\n",
      " [0.39034718 0.2770737  0.33257902]\n",
      " [0.36211145 0.28142396 0.3564646 ]\n",
      " [0.2476504  0.4879831  0.26436654]\n",
      " [0.40294456 0.2691215  0.32793394]\n",
      " [0.39674395 0.2758789  0.3273772 ]\n",
      " [0.31953642 0.3474072  0.33305633]\n",
      " [0.2739784  0.36634856 0.359673  ]\n",
      " [0.34533995 0.25804284 0.39661717]\n",
      " [0.3361811  0.33296004 0.33085886]\n",
      " [0.30486876 0.37957534 0.31555593]\n",
      " [0.31374112 0.3365711  0.3496878 ]\n",
      " [0.28121823 0.36814365 0.35063812]\n",
      " [0.2837934  0.3601836  0.3560231 ]\n",
      " [0.31576675 0.3174882  0.36674505]\n",
      " [0.27611977 0.42208183 0.30179843]\n",
      " [0.33062002 0.35851642 0.31086358]\n",
      " [0.3438186  0.32688126 0.32930014]\n",
      " [0.32888564 0.3104407  0.3606737 ]\n",
      " [0.4102291  0.22600454 0.36376637]\n",
      " [0.28114438 0.35430366 0.364552  ]\n",
      " [0.29075786 0.34825933 0.36098284]\n",
      " [0.3237812  0.34423244 0.33198637]]\n"
     ]
    }
   ],
   "source": [
    "#generate predictions\n",
    "predictions = model.predict(X_test)\n",
    "print(\"predictions:\", predictions)"
   ]
  },
  {
   "cell_type": "code",
   "execution_count": 18,
   "metadata": {},
   "outputs": [
    {
     "name": "stdout",
     "output_type": "stream",
     "text": [
      "['C' 'M' 'C' 'M' 'B' 'B' 'B' 'B' 'B' 'B' 'B' 'B' 'B' 'M' 'C' 'B' 'M' 'B'\n",
      " 'B' 'M' 'C' 'B' 'M' 'B' 'C' 'B' 'B' 'C' 'C' 'M' 'C' 'M' 'C' 'B' 'C' 'M'\n",
      " 'B' 'B' 'B' 'M' 'C' 'C' 'C' 'C' 'C' 'M' 'B' 'C' 'B' 'B' 'B' 'B' 'B' 'C'\n",
      " 'C' 'M' 'M' 'C' 'C' 'C' 'C' 'M' 'C' 'M' 'C' 'M' 'B' 'B' 'M' 'M' 'C' 'B'\n",
      " 'B' 'B' 'C' 'B' 'B' 'C' 'C' 'M' 'B' 'C' 'M' 'C' 'C' 'M' 'C' 'C' 'B' 'M'\n",
      " 'B' 'M' 'M' 'C']\n"
     ]
    }
   ],
   "source": [
    "#remove encoding\n",
    "real_predictions_B = a_encoder.inverse_transform(predictions)\n",
    "print(real_predictions_B)"
   ]
  },
  {
   "cell_type": "code",
   "execution_count": 19,
   "metadata": {},
   "outputs": [
    {
     "data": {
      "text/plain": [
       "{'B': 36, 'C': 34, 'M': 24}"
      ]
     },
     "execution_count": 19,
     "metadata": {},
     "output_type": "execute_result"
    }
   ],
   "source": [
    "#prediction counts\n",
    "unique, counts = np.unique(real_predictions_B, return_counts=True)\n",
    "dict(zip(unique, counts))"
   ]
  },
  {
   "cell_type": "code",
   "execution_count": 20,
   "metadata": {},
   "outputs": [
    {
     "name": "stdout",
     "output_type": "stream",
     "text": [
      "['C' 'C' 'C' 'M' 'B' 'M' 'B' 'C' 'B' 'M' 'B' 'B' 'M' 'M' 'C' 'C' 'B' 'B'\n",
      " 'C' 'B' 'M' 'C' 'B' 'M' 'B' 'B' 'C' 'C' 'M' 'B' 'B' 'M' 'M' 'C' 'M' 'M'\n",
      " 'M' 'M' 'M' 'M' 'B' 'B' 'B' 'B' 'C' 'B' 'M' 'B' 'M' 'C' 'B' 'M' 'B' 'C'\n",
      " 'C' 'M' 'C' 'C' 'C' 'B' 'M' 'C' 'B' 'M' 'C' 'B' 'B' 'M' 'M' 'M' 'B' 'C'\n",
      " 'B' 'C' 'M' 'C' 'C' 'C' 'C' 'B' 'M' 'M' 'B' 'B' 'C' 'M' 'C' 'C' 'M' 'B'\n",
      " 'B' 'B' 'B' 'M']\n"
     ]
    }
   ],
   "source": [
    "#y_test predictions\n",
    "ytest_predictions = a_encoder.inverse_transform(y_test)\n",
    "print(ytest_predictions)"
   ]
  },
  {
   "cell_type": "code",
   "execution_count": 21,
   "metadata": {},
   "outputs": [
    {
     "data": {
      "text/plain": [
       "{'B': 34, 'C': 29, 'M': 31}"
      ]
     },
     "execution_count": 21,
     "metadata": {},
     "output_type": "execute_result"
    }
   ],
   "source": [
    "#real count\n",
    "unique, counts = np.unique(ytest_predictions, return_counts=True)\n",
    "dict(zip(unique, counts))"
   ]
  },
  {
   "cell_type": "code",
   "execution_count": 22,
   "metadata": {},
   "outputs": [
    {
     "data": {
      "image/png": "[encoded data removed]",
      "text/plain": [
       "<Figure size 432x288 with 2 Axes>"
      ]
     },
     "metadata": {
      "needs_background": "light"
     },
     "output_type": "display_data"
    }
   ],
   "source": [
    "#confusion matrix\n",
    "matrix = confusion_matrix(ytest_predictions, real_predictions_B)\n",
    "#format confusion matrix\n",
    "ax=plt.subplot()\n",
    "sns.heatmap(matrix, annot=True, ax = ax, cmap='Oranges', fmt='g');\n",
    "accuracy = np.trace(matrix) / np.sum(matrix).astype('float')\n",
    "misclass = 1 - accuracy\n",
    "ax.set_xlabel('Predicted label\\naccuracy={:0.4f}; misclass={:0.4f}'.format(accuracy, misclass));\n",
    "ax.set_ylabel('True labels'); \n",
    "ax.set_title('Confusion Matrix');\n",
    "ax.xaxis.set_ticklabels(unique); ax.yaxis.set_ticklabels(unique);"
   ]
  },
  {
   "cell_type": "code",
   "execution_count": 23,
   "metadata": {},
   "outputs": [
    {
     "name": "stdout",
     "output_type": "stream",
     "text": [
      "              precision    recall  f1-score   support\n",
      "\n",
      "           B       0.33      0.35      0.34        34\n",
      "           C       0.44      0.52      0.48        29\n",
      "           M       0.42      0.32      0.36        31\n",
      "\n",
      "    accuracy                           0.39        94\n",
      "   macro avg       0.40      0.40      0.39        94\n",
      "weighted avg       0.39      0.39      0.39        94\n",
      "\n"
     ]
    }
   ],
   "source": [
    "print(classification_report(ytest_predictions, real_predictions_B))"
   ]
  },
  {
   "cell_type": "code",
   "execution_count": 24,
   "metadata": {},
   "outputs": [
    {
     "name": "stdout",
     "output_type": "stream",
     "text": [
      "precision score:0.3971\n",
      "recall score:0.3976\n",
      "f1 score:0.3942\n"
     ]
    }
   ],
   "source": [
    "#macro - calculate metrics for each label, and find their unweighted mean\n",
    "pre_score = precision_score(ytest_predictions, real_predictions_B, average = \"macro\")\n",
    "print('precision score:{:0.4f}'.format(pre_score))\n",
    "recall_score_1 = recall_score(ytest_predictions, real_predictions_B, average= \"macro\")\n",
    "print('recall score:{:0.4f}'.format(recall_score_1))\n",
    "f1_score_1 = f1_score(ytest_predictions, real_predictions_B, average=\"macro\")\n",
    "print('f1 score:{:0.4f}'.format(f1_score_1))"
   ]
  },
  {
   "cell_type": "code",
   "execution_count": null,
   "metadata": {},
   "outputs": [],
   "source": []
  }
 ],
 "metadata": {
  "kernelspec": {
   "display_name": "Python 3",
   "language": "python",
   "name": "python3"
  },
  "language_info": {
   "codemirror_mode": {
    "name": "ipython",
    "version": 3
   },
   "file_extension": ".py",
   "mimetype": "text/x-python",
   "name": "python",
   "nbconvert_exporter": "python",
   "pygments_lexer": "ipython3",
   "version": "3.8.3"
  }
 },
 "nbformat": 4,
 "nbformat_minor": 4
}
