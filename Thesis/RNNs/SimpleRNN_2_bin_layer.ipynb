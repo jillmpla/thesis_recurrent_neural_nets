{
 "cells": [
  {
   "cell_type": "code",
   "execution_count": 1,
   "metadata": {},
   "outputs": [],
   "source": [
    "#tensorboard via command-line:\n",
    "#tensorboard --logdir=where your Logs directory is"
   ]
  },
  {
   "cell_type": "code",
   "execution_count": 2,
   "metadata": {},
   "outputs": [],
   "source": [
    "#~~~~~~~~~~~~~~~~~~~~~~~~~~~~~~~~~~~~~~~~~~~~~~~~~~~~~~~~~~~~~~~~~~~~~~~~~~~~~~~~~~~~~~~~~~~~~~~~~~~~~~~#\n",
    "#Predict whether or not a flare will occur in the next 24hrs after a 24hr time sequence, per monitored AR.\n",
    "#~~~~~~~~~~~~~~~~~~~~~~~~~~~~~~~~~~~~~~~~~~~~~~~~~~~~~~~~~~~~~~~~~~~~~~~~~~~~~~~~~~~~~~~~~~~~~~~~~~~~~~~#\n",
    "#feature data from - hmi.sharp_720s:::\n",
    "#http://jsoc.stanford.edu/doc/data/hmi/sharp/sharp.htm\n",
    "\n",
    "#label data from - GOES flare events:::\n",
    "#ftp://ftp.swpc.noaa.gov/pub/warehouse/\n",
    "\n",
    "#and from - GOES XRS Report:::\n",
    "#https://www.ngdc.noaa.gov/stp/space-weather/solar-data/solar-features/solar-flares/x-rays/goes/xrs/\n",
    "#~~~~~~~~~~~~~~~~~~~~~~~~~~~~~~~~~~~~~~~~~~~~~~~~~~~~~~~~~~~~~~~~~~~~~~~~~~~~~~~~~~~~~~~~~~~~~~~~~~~~~~~#\n",
    "#binary class - F for flare and N for no flare\n",
    "#multi-class - #6 flare classes: N is no flare, A is smallest, X is largest\n",
    "               #key = {'N', 'A', 'B', 'C', 'M', 'X'}\n",
    "               #['A' class flares generally not listed in official reports due to small size]\n",
    "#~~~~~~~~~~~~~~~~~~~~~~~~~~~~~~~~~~~~~~~~~~~~~~~~~~~~~~~~~~~~~~~~~~~~~~~~~~~~~~~~~~~~~~~~~~~~~~~~~~~~~~~#"
   ]
  },
  {
   "cell_type": "code",
   "execution_count": 3,
   "metadata": {},
   "outputs": [
    {
     "name": "stdout",
     "output_type": "stream",
     "text": [
      "tensorflow version: 2.3.1\n"
     ]
    }
   ],
   "source": [
    "import tensorflow as tf\n",
    "print(\"tensorflow version:\", tf.__version__) #2.3.1 used\n",
    "from tensorflow import keras\n",
    "import os\n",
    "import glob\n",
    "import shutil\n",
    "import datetime\n",
    "import numpy as np\n",
    "import pandas as pd\n",
    "import seaborn as sns\n",
    "from pathlib import Path\n",
    "from astropy.time import Time\n",
    "from matplotlib import pyplot as plt\n",
    "from sklearn.metrics import f1_score, precision_score, recall_score, classification_report, confusion_matrix\n",
    "from sklearn.metrics import plot_confusion_matrix\n",
    "from sklearn.preprocessing import LabelBinarizer\n",
    "from sklearn.model_selection import train_test_split\n",
    "from sklearn.preprocessing import MinMaxScaler\n",
    "from tensorflow.keras.layers import Dropout, Dense, SimpleRNN, LSTM, GRU, GaussianNoise\n",
    "from tensorflow.keras.models import Model, Sequential\n",
    "from tensorflow.keras.optimizers import SGD, RMSprop, Adam\n",
    "import drms #https://pypi.org/project/drms/\n",
    "#~~~~~~~~~~~~~~~~~~~~~~~~~~~~~~~~~~~~~~~~~~~~~~~~~~~~~~~~~~~~~~~~~~~~~~~~~~~~~~~~~~~~~~~~~~~~~~~~~~~~~~~#\n",
    "import Flare_Data\n",
    "import Feature_Years\n",
    "import Make_TB_Logs\n",
    "#~~~~~~~~~~~~~~~~~~~~~~~~~~~~~~~~~~~~~~~~~~~~~~~~~~~~~~~~~~~~~~~~~~~~~~~~~~~~~~~~~~~~~~~~~~~~~~~~~~~~~~~#"
   ]
  },
  {
   "cell_type": "code",
   "execution_count": 4,
   "metadata": {},
   "outputs": [
    {
     "name": "stdout",
     "output_type": "stream",
     "text": [
      "CSVs compiled.\n"
     ]
    }
   ],
   "source": [
    "Feature_Years.generate_all_feature_years()"
   ]
  },
  {
   "cell_type": "code",
   "execution_count": 5,
   "metadata": {},
   "outputs": [],
   "source": [
    "where_logs = Make_TB_Logs.make_clear_tensorboard_folder()"
   ]
  },
  {
   "cell_type": "code",
   "execution_count": 6,
   "metadata": {},
   "outputs": [
    {
     "name": "stdout",
     "output_type": "stream",
     "text": [
      "The time series starts from:  2011-01-01 00:11:26\n",
      "The time series ends on:  2016-12-31 23:47:24\n",
      "(array(['F', 'N'], dtype='<U1'), array([741, 729], dtype=int64))\n"
     ]
    }
   ],
   "source": [
    "#binary = True for binary classification, binary = False for multi-class classification\n",
    "X_train, X_val, X_test, y_train, y_val, y_test, tim_steps, n_feats, count_of_classes, a_encoder = Flare_Data.getAllData(binary = True)"
   ]
  },
  {
   "cell_type": "code",
   "execution_count": 7,
   "metadata": {},
   "outputs": [
    {
     "name": "stdout",
     "output_type": "stream",
     "text": [
      "(940, 114, 20) (236, 114, 20) (294, 114, 20) (940, 1) (236, 1) (294, 1)\n"
     ]
    }
   ],
   "source": [
    "print(X_train.shape, X_val.shape, X_test.shape, y_train.shape, y_val.shape, y_test.shape)"
   ]
  },
  {
   "cell_type": "code",
   "execution_count": 8,
   "metadata": {},
   "outputs": [],
   "source": [
    "#~~~~~~~~~~~~~~~~~~~~~~~~~~~~~~~~~~~~~~~~~~~~~~~~~~~~~~~~~~~~~~~~~~~~~~~~~~~~~~~~~~~~~~~~~~~~~~~~~~~~~~~~~~~~#\n",
    "#~~~~~~~~~~~~~~~~~~~~~~~~~~~~~~~~~~~~~~~~~~~~~~~~~~~~~~~~~~~~~~~~~~~~~~~~~~~~~~~~~~~~~~~~~~~~~~~~~~~~~~~~~~~~#"
   ]
  },
  {
   "cell_type": "code",
   "execution_count": 9,
   "metadata": {},
   "outputs": [],
   "source": [
    "batch_size = 50\n",
    "epochs = 100\n",
    "optimizer = Adam(lr=0.001, beta_1=0.9, beta_2=0.999, epsilon=1e-06, decay=0.0)"
   ]
  },
  {
   "cell_type": "code",
   "execution_count": 10,
   "metadata": {},
   "outputs": [],
   "source": [
    "#~~~~~~~~~~~~~~~~~~~~~~~~~~~~~~~~~~~~~~~[SimpleRNN_2 Model]~~~~~~~~~~~~~~~~~~~~~~~~~~~~~~~~~~~~~~~~~~~~~~~~~~#\n",
    "#~~~~~~~~~~~~~~~~~~~~~~~~~~~~~~~~~~~~~~~[Binary-Class]~~~~~~~~~~~~~~~~~~~~~~~~~~~~~~~~~~~~~~~~~~~~~~~~~~~~~~~#\n",
    "#~~~~~~~~~~~~~~~~~~~~~~~~~~~~~~~~~~~~~~~[Multiple Layers]~~~~~~~~~~~~~~~~~~~~~~~~~~~~~~~~~~~~~~~~~~~~~~~~~~~~#\n",
    "model = Sequential()\n",
    "model.add(SimpleRNN(16, return_sequences=True, input_shape=(tim_steps, n_feats), recurrent_dropout=0.05))\n",
    "model.add(GaussianNoise(0.01))\n",
    "model.add(SimpleRNN(6, return_sequences=False, recurrent_dropout=0.05))\n",
    "model.add(GaussianNoise(0.01))\n",
    "model.add(Dense(1, activation='sigmoid'))\n",
    "model.compile(loss='binary_crossentropy', optimizer=optimizer, metrics=['binary_accuracy'])\n",
    "#~~~~~~~~~~~~~~~~~~~~~~~~~~~~~~~~~~~~~~~~~~~~~~~~~~~~~~~~~~~~~~~~~~~~~~~~~~~~~~~~~~~~~~~~~~~~~~~~~~~~~~~~~~~~#\n",
    "#~~~~~~~~~~~~~~~~~~~~~~~~~~~~~~~~~~~~~~~~~~~~~~~~~~~~~~~~~~~~~~~~~~~~~~~~~~~~~~~~~~~~~~~~~~~~~~~~~~~~~~~~~~~~#"
   ]
  },
  {
   "cell_type": "code",
   "execution_count": 11,
   "metadata": {},
   "outputs": [],
   "source": [
    "tensorboard_call = keras.callbacks.TensorBoard(log_dir=where_logs, histogram_freq=1)\n",
    "#val_loss_callback = tf.keras.callbacks.EarlyStopping(monitor='val_loss', patience=10)"
   ]
  },
  {
   "cell_type": "code",
   "execution_count": 12,
   "metadata": {},
   "outputs": [
    {
     "name": "stdout",
     "output_type": "stream",
     "text": [
      "Epoch 1/100\n",
      " 1/19 [>.............................] - ETA: 0s - loss: 0.8424 - binary_accuracy: 0.4800WARNING:tensorflow:From C:\\ProgramData\\Anaconda3\\lib\\site-packages\\tensorflow\\python\\ops\\summary_ops_v2.py:1277: stop (from tensorflow.python.eager.profiler) is deprecated and will be removed after 2020-07-01.\n",
      "Instructions for updating:\n",
      "use `tf.profiler.experimental.stop` instead.\n",
      " 2/19 [==>...........................] - ETA: 2s - loss: 0.8577 - binary_accuracy: 0.4500WARNING:tensorflow:Callbacks method `on_train_batch_end` is slow compared to the batch time (batch time: 0.0420s vs `on_train_batch_end` time: 0.2459s). Check your callbacks.\n",
      "19/19 [==============================] - 1s 64ms/step - loss: 0.7710 - binary_accuracy: 0.4968 - val_loss: 0.7357 - val_binary_accuracy: 0.4746\n",
      "Epoch 2/100\n",
      "19/19 [==============================] - 1s 33ms/step - loss: 0.7111 - binary_accuracy: 0.5043 - val_loss: 0.7208 - val_binary_accuracy: 0.4661\n",
      "Epoch 3/100\n",
      "19/19 [==============================] - 1s 33ms/step - loss: 0.7085 - binary_accuracy: 0.5021 - val_loss: 0.7161 - val_binary_accuracy: 0.4788\n",
      "Epoch 4/100\n",
      "19/19 [==============================] - 1s 33ms/step - loss: 0.6982 - binary_accuracy: 0.5191 - val_loss: 0.7140 - val_binary_accuracy: 0.4788\n",
      "Epoch 5/100\n",
      "19/19 [==============================] - 1s 33ms/step - loss: 0.7007 - binary_accuracy: 0.5043 - val_loss: 0.7138 - val_binary_accuracy: 0.4831\n",
      "Epoch 6/100\n",
      "19/19 [==============================] - 1s 33ms/step - loss: 0.6976 - binary_accuracy: 0.5117 - val_loss: 0.7158 - val_binary_accuracy: 0.4958\n",
      "Epoch 7/100\n",
      "19/19 [==============================] - 1s 33ms/step - loss: 0.6970 - binary_accuracy: 0.5309 - val_loss: 0.7167 - val_binary_accuracy: 0.4746\n",
      "Epoch 8/100\n",
      "19/19 [==============================] - 1s 33ms/step - loss: 0.7006 - binary_accuracy: 0.5106 - val_loss: 0.7168 - val_binary_accuracy: 0.4576\n",
      "Epoch 9/100\n",
      "19/19 [==============================] - 1s 33ms/step - loss: 0.6879 - binary_accuracy: 0.5362 - val_loss: 0.7177 - val_binary_accuracy: 0.4661\n",
      "Epoch 10/100\n",
      "19/19 [==============================] - 1s 32ms/step - loss: 0.6946 - binary_accuracy: 0.5298 - val_loss: 0.7192 - val_binary_accuracy: 0.4534\n",
      "Epoch 11/100\n",
      "19/19 [==============================] - 1s 33ms/step - loss: 0.6839 - binary_accuracy: 0.5521 - val_loss: 0.7194 - val_binary_accuracy: 0.4576\n",
      "Epoch 12/100\n",
      "19/19 [==============================] - 1s 33ms/step - loss: 0.6944 - binary_accuracy: 0.5372 - val_loss: 0.7215 - val_binary_accuracy: 0.4534\n",
      "Epoch 13/100\n",
      "19/19 [==============================] - 1s 33ms/step - loss: 0.6869 - binary_accuracy: 0.5617 - val_loss: 0.7220 - val_binary_accuracy: 0.4619\n",
      "Epoch 14/100\n",
      "19/19 [==============================] - 1s 34ms/step - loss: 0.6848 - binary_accuracy: 0.5628 - val_loss: 0.7259 - val_binary_accuracy: 0.4364\n",
      "Epoch 15/100\n",
      "19/19 [==============================] - 1s 34ms/step - loss: 0.6826 - binary_accuracy: 0.5596 - val_loss: 0.7297 - val_binary_accuracy: 0.4619\n",
      "Epoch 16/100\n",
      "19/19 [==============================] - 1s 33ms/step - loss: 0.6760 - binary_accuracy: 0.5766 - val_loss: 0.7310 - val_binary_accuracy: 0.4576\n",
      "Epoch 17/100\n",
      "19/19 [==============================] - 1s 32ms/step - loss: 0.6784 - binary_accuracy: 0.5723 - val_loss: 0.7313 - val_binary_accuracy: 0.4576\n",
      "Epoch 18/100\n",
      "19/19 [==============================] - 1s 32ms/step - loss: 0.6707 - binary_accuracy: 0.6011 - val_loss: 0.7322 - val_binary_accuracy: 0.4576\n",
      "Epoch 19/100\n",
      "19/19 [==============================] - 1s 32ms/step - loss: 0.6732 - binary_accuracy: 0.5787 - val_loss: 0.7404 - val_binary_accuracy: 0.4915\n",
      "Epoch 20/100\n",
      "19/19 [==============================] - 1s 33ms/step - loss: 0.6762 - binary_accuracy: 0.5723 - val_loss: 0.7377 - val_binary_accuracy: 0.4915\n",
      "Epoch 21/100\n",
      "19/19 [==============================] - 1s 33ms/step - loss: 0.6716 - binary_accuracy: 0.5915 - val_loss: 0.7343 - val_binary_accuracy: 0.4619\n",
      "Epoch 22/100\n",
      "19/19 [==============================] - 1s 33ms/step - loss: 0.6712 - binary_accuracy: 0.5883 - val_loss: 0.7369 - val_binary_accuracy: 0.4915\n",
      "Epoch 23/100\n",
      "19/19 [==============================] - 1s 33ms/step - loss: 0.6608 - binary_accuracy: 0.5989 - val_loss: 0.7381 - val_binary_accuracy: 0.4619\n",
      "Epoch 24/100\n",
      "19/19 [==============================] - 1s 33ms/step - loss: 0.6671 - binary_accuracy: 0.5894 - val_loss: 0.7398 - val_binary_accuracy: 0.4915\n",
      "Epoch 25/100\n",
      "19/19 [==============================] - 1s 32ms/step - loss: 0.6646 - binary_accuracy: 0.5979 - val_loss: 0.7448 - val_binary_accuracy: 0.4958\n",
      "Epoch 26/100\n",
      "19/19 [==============================] - 1s 33ms/step - loss: 0.6622 - binary_accuracy: 0.6032 - val_loss: 0.7428 - val_binary_accuracy: 0.4703\n",
      "Epoch 27/100\n",
      "19/19 [==============================] - 1s 33ms/step - loss: 0.6607 - binary_accuracy: 0.6021 - val_loss: 0.7522 - val_binary_accuracy: 0.4831\n",
      "Epoch 28/100\n",
      "19/19 [==============================] - 1s 33ms/step - loss: 0.6551 - binary_accuracy: 0.6223 - val_loss: 0.7491 - val_binary_accuracy: 0.4831\n",
      "Epoch 29/100\n",
      "19/19 [==============================] - 1s 34ms/step - loss: 0.6610 - binary_accuracy: 0.6064 - val_loss: 0.7565 - val_binary_accuracy: 0.4915\n",
      "Epoch 30/100\n",
      "19/19 [==============================] - 1s 33ms/step - loss: 0.6468 - binary_accuracy: 0.6309 - val_loss: 0.7523 - val_binary_accuracy: 0.4915\n",
      "Epoch 31/100\n",
      "19/19 [==============================] - 1s 33ms/step - loss: 0.6562 - binary_accuracy: 0.5968 - val_loss: 0.7573 - val_binary_accuracy: 0.4958\n",
      "Epoch 32/100\n",
      "19/19 [==============================] - 1s 32ms/step - loss: 0.6653 - binary_accuracy: 0.5989 - val_loss: 0.7622 - val_binary_accuracy: 0.4958\n",
      "Epoch 33/100\n",
      "19/19 [==============================] - 1s 33ms/step - loss: 0.6382 - binary_accuracy: 0.6309 - val_loss: 0.7836 - val_binary_accuracy: 0.4831\n",
      "Epoch 34/100\n",
      "19/19 [==============================] - 1s 33ms/step - loss: 0.6566 - binary_accuracy: 0.6181 - val_loss: 0.7580 - val_binary_accuracy: 0.4915\n",
      "Epoch 35/100\n",
      "19/19 [==============================] - 1s 33ms/step - loss: 0.6514 - binary_accuracy: 0.6021 - val_loss: 0.7668 - val_binary_accuracy: 0.4746\n",
      "Epoch 36/100\n",
      "19/19 [==============================] - 1s 33ms/step - loss: 0.6513 - binary_accuracy: 0.6053 - val_loss: 0.7640 - val_binary_accuracy: 0.4788\n",
      "Epoch 37/100\n",
      "19/19 [==============================] - 1s 33ms/step - loss: 0.6430 - binary_accuracy: 0.6202 - val_loss: 0.7691 - val_binary_accuracy: 0.4746\n",
      "Epoch 38/100\n",
      "19/19 [==============================] - 1s 33ms/step - loss: 0.6406 - binary_accuracy: 0.6340 - val_loss: 0.7644 - val_binary_accuracy: 0.4873\n",
      "Epoch 39/100\n",
      "19/19 [==============================] - 1s 34ms/step - loss: 0.6394 - binary_accuracy: 0.6372 - val_loss: 0.7713 - val_binary_accuracy: 0.4831\n",
      "Epoch 40/100\n",
      "19/19 [==============================] - 1s 33ms/step - loss: 0.6472 - binary_accuracy: 0.6213 - val_loss: 0.7667 - val_binary_accuracy: 0.4746\n",
      "Epoch 41/100\n",
      "19/19 [==============================] - 1s 34ms/step - loss: 0.6424 - binary_accuracy: 0.6394 - val_loss: 0.7791 - val_binary_accuracy: 0.4958\n",
      "Epoch 42/100\n",
      "19/19 [==============================] - 1s 34ms/step - loss: 0.6462 - binary_accuracy: 0.6255 - val_loss: 0.7640 - val_binary_accuracy: 0.4873\n",
      "Epoch 43/100\n",
      "19/19 [==============================] - 1s 33ms/step - loss: 0.6424 - binary_accuracy: 0.6319 - val_loss: 0.7808 - val_binary_accuracy: 0.4788\n",
      "Epoch 44/100\n",
      "19/19 [==============================] - 1s 35ms/step - loss: 0.6349 - binary_accuracy: 0.6500 - val_loss: 0.7770 - val_binary_accuracy: 0.4958\n",
      "Epoch 45/100\n",
      "19/19 [==============================] - 1s 33ms/step - loss: 0.6356 - binary_accuracy: 0.6255 - val_loss: 0.7701 - val_binary_accuracy: 0.4788\n",
      "Epoch 46/100\n",
      "19/19 [==============================] - 1s 33ms/step - loss: 0.6374 - binary_accuracy: 0.6351 - val_loss: 0.7768 - val_binary_accuracy: 0.4915\n",
      "Epoch 47/100\n",
      "19/19 [==============================] - 1s 33ms/step - loss: 0.6322 - binary_accuracy: 0.6436 - val_loss: 0.7847 - val_binary_accuracy: 0.4831\n",
      "Epoch 48/100\n",
      "19/19 [==============================] - 1s 34ms/step - loss: 0.6271 - binary_accuracy: 0.6415 - val_loss: 0.7773 - val_binary_accuracy: 0.4788\n",
      "Epoch 49/100\n"
     ]
    },
    {
     "name": "stdout",
     "output_type": "stream",
     "text": [
      "19/19 [==============================] - 1s 35ms/step - loss: 0.6330 - binary_accuracy: 0.6404 - val_loss: 0.7843 - val_binary_accuracy: 0.4958\n",
      "Epoch 50/100\n",
      "19/19 [==============================] - 1s 36ms/step - loss: 0.6292 - binary_accuracy: 0.6691 - val_loss: 0.7822 - val_binary_accuracy: 0.5042\n",
      "Epoch 51/100\n",
      "19/19 [==============================] - 1s 37ms/step - loss: 0.6380 - binary_accuracy: 0.6340 - val_loss: 0.7734 - val_binary_accuracy: 0.4703\n",
      "Epoch 52/100\n",
      "19/19 [==============================] - 1s 35ms/step - loss: 0.6314 - binary_accuracy: 0.6457 - val_loss: 0.7790 - val_binary_accuracy: 0.4958\n",
      "Epoch 53/100\n",
      "19/19 [==============================] - 1s 35ms/step - loss: 0.6235 - binary_accuracy: 0.6585 - val_loss: 0.7791 - val_binary_accuracy: 0.5000\n",
      "Epoch 54/100\n",
      "19/19 [==============================] - 1s 35ms/step - loss: 0.6193 - binary_accuracy: 0.6543 - val_loss: 0.7906 - val_binary_accuracy: 0.5042\n",
      "Epoch 55/100\n",
      "19/19 [==============================] - 1s 34ms/step - loss: 0.6301 - binary_accuracy: 0.6521 - val_loss: 0.7898 - val_binary_accuracy: 0.4831\n",
      "Epoch 56/100\n",
      "19/19 [==============================] - 1s 35ms/step - loss: 0.6278 - binary_accuracy: 0.6351 - val_loss: 0.7936 - val_binary_accuracy: 0.4873\n",
      "Epoch 57/100\n",
      "19/19 [==============================] - 1s 34ms/step - loss: 0.6206 - binary_accuracy: 0.6670 - val_loss: 0.7902 - val_binary_accuracy: 0.4831\n",
      "Epoch 58/100\n",
      "19/19 [==============================] - 1s 34ms/step - loss: 0.6314 - binary_accuracy: 0.6457 - val_loss: 0.7910 - val_binary_accuracy: 0.4915\n",
      "Epoch 59/100\n",
      "19/19 [==============================] - 1s 37ms/step - loss: 0.6179 - binary_accuracy: 0.6511 - val_loss: 0.7982 - val_binary_accuracy: 0.5169\n",
      "Epoch 60/100\n",
      "19/19 [==============================] - 1s 37ms/step - loss: 0.6183 - binary_accuracy: 0.6681 - val_loss: 0.7848 - val_binary_accuracy: 0.4958\n",
      "Epoch 61/100\n",
      "19/19 [==============================] - 1s 39ms/step - loss: 0.6291 - binary_accuracy: 0.6532 - val_loss: 0.7913 - val_binary_accuracy: 0.4958\n",
      "Epoch 62/100\n",
      "19/19 [==============================] - 1s 37ms/step - loss: 0.6241 - binary_accuracy: 0.6660 - val_loss: 0.7877 - val_binary_accuracy: 0.4831\n",
      "Epoch 63/100\n",
      "19/19 [==============================] - 1s 38ms/step - loss: 0.6232 - binary_accuracy: 0.6585 - val_loss: 0.7915 - val_binary_accuracy: 0.5169\n",
      "Epoch 64/100\n",
      "19/19 [==============================] - 1s 36ms/step - loss: 0.6121 - binary_accuracy: 0.6713 - val_loss: 0.7878 - val_binary_accuracy: 0.4958\n",
      "Epoch 65/100\n",
      "19/19 [==============================] - 1s 37ms/step - loss: 0.6280 - binary_accuracy: 0.6436 - val_loss: 0.7833 - val_binary_accuracy: 0.4958\n",
      "Epoch 66/100\n",
      "19/19 [==============================] - 1s 37ms/step - loss: 0.6238 - binary_accuracy: 0.6532 - val_loss: 0.7860 - val_binary_accuracy: 0.4788\n",
      "Epoch 67/100\n",
      "19/19 [==============================] - 1s 38ms/step - loss: 0.6231 - binary_accuracy: 0.6543 - val_loss: 0.7894 - val_binary_accuracy: 0.4915\n",
      "Epoch 68/100\n",
      "19/19 [==============================] - 1s 37ms/step - loss: 0.6091 - binary_accuracy: 0.6649 - val_loss: 0.7902 - val_binary_accuracy: 0.4915\n",
      "Epoch 69/100\n",
      "19/19 [==============================] - 1s 36ms/step - loss: 0.6126 - binary_accuracy: 0.6766 - val_loss: 0.7899 - val_binary_accuracy: 0.4915\n",
      "Epoch 70/100\n",
      "19/19 [==============================] - 1s 35ms/step - loss: 0.6152 - binary_accuracy: 0.6606 - val_loss: 0.7949 - val_binary_accuracy: 0.5212\n",
      "Epoch 71/100\n",
      "19/19 [==============================] - 1s 35ms/step - loss: 0.6074 - binary_accuracy: 0.6777 - val_loss: 0.7959 - val_binary_accuracy: 0.4958\n",
      "Epoch 72/100\n",
      "19/19 [==============================] - 1s 34ms/step - loss: 0.6048 - binary_accuracy: 0.6787 - val_loss: 0.7964 - val_binary_accuracy: 0.5000\n",
      "Epoch 73/100\n",
      "19/19 [==============================] - 1s 34ms/step - loss: 0.6231 - binary_accuracy: 0.6638 - val_loss: 0.8055 - val_binary_accuracy: 0.5212\n",
      "Epoch 74/100\n",
      "19/19 [==============================] - 1s 36ms/step - loss: 0.6262 - binary_accuracy: 0.6404 - val_loss: 0.7955 - val_binary_accuracy: 0.4958\n",
      "Epoch 75/100\n",
      "19/19 [==============================] - 1s 36ms/step - loss: 0.6059 - binary_accuracy: 0.6755 - val_loss: 0.7896 - val_binary_accuracy: 0.5127\n",
      "Epoch 76/100\n",
      "19/19 [==============================] - 1s 38ms/step - loss: 0.6095 - binary_accuracy: 0.6734 - val_loss: 0.7973 - val_binary_accuracy: 0.5254\n",
      "Epoch 77/100\n",
      "19/19 [==============================] - 1s 36ms/step - loss: 0.6160 - binary_accuracy: 0.6532 - val_loss: 0.7934 - val_binary_accuracy: 0.4788\n",
      "Epoch 78/100\n",
      "19/19 [==============================] - 1s 35ms/step - loss: 0.6019 - binary_accuracy: 0.6787 - val_loss: 0.7983 - val_binary_accuracy: 0.4788\n",
      "Epoch 79/100\n",
      "19/19 [==============================] - 1s 37ms/step - loss: 0.6103 - binary_accuracy: 0.6755 - val_loss: 0.7975 - val_binary_accuracy: 0.4831\n",
      "Epoch 80/100\n",
      "19/19 [==============================] - 1s 35ms/step - loss: 0.6164 - binary_accuracy: 0.6543 - val_loss: 0.7898 - val_binary_accuracy: 0.4873\n",
      "Epoch 81/100\n",
      "19/19 [==============================] - 1s 36ms/step - loss: 0.6130 - binary_accuracy: 0.6617 - val_loss: 0.7917 - val_binary_accuracy: 0.5127\n",
      "Epoch 82/100\n",
      "19/19 [==============================] - 1s 35ms/step - loss: 0.6047 - binary_accuracy: 0.6809 - val_loss: 0.8038 - val_binary_accuracy: 0.5127\n",
      "Epoch 83/100\n",
      "19/19 [==============================] - 1s 35ms/step - loss: 0.6139 - binary_accuracy: 0.6564 - val_loss: 0.7951 - val_binary_accuracy: 0.5042\n",
      "Epoch 84/100\n",
      "19/19 [==============================] - 1s 33ms/step - loss: 0.6124 - binary_accuracy: 0.6585 - val_loss: 0.7909 - val_binary_accuracy: 0.5042\n",
      "Epoch 85/100\n",
      "19/19 [==============================] - 1s 34ms/step - loss: 0.6187 - binary_accuracy: 0.6617 - val_loss: 0.7934 - val_binary_accuracy: 0.5127\n",
      "Epoch 86/100\n",
      "19/19 [==============================] - 1s 37ms/step - loss: 0.6195 - binary_accuracy: 0.6574 - val_loss: 0.7884 - val_binary_accuracy: 0.5000\n",
      "Epoch 87/100\n",
      "19/19 [==============================] - 1s 35ms/step - loss: 0.6106 - binary_accuracy: 0.6702 - val_loss: 0.7935 - val_binary_accuracy: 0.5169\n",
      "Epoch 88/100\n",
      "19/19 [==============================] - 1s 34ms/step - loss: 0.6066 - binary_accuracy: 0.6628 - val_loss: 0.7980 - val_binary_accuracy: 0.4873\n",
      "Epoch 89/100\n",
      "19/19 [==============================] - 1s 34ms/step - loss: 0.5977 - binary_accuracy: 0.6798 - val_loss: 0.8008 - val_binary_accuracy: 0.5254\n",
      "Epoch 90/100\n",
      "19/19 [==============================] - 1s 35ms/step - loss: 0.6085 - binary_accuracy: 0.6543 - val_loss: 0.8041 - val_binary_accuracy: 0.5381\n",
      "Epoch 91/100\n",
      "19/19 [==============================] - 1s 34ms/step - loss: 0.6110 - binary_accuracy: 0.6553 - val_loss: 0.7978 - val_binary_accuracy: 0.5381\n",
      "Epoch 92/100\n",
      "19/19 [==============================] - 1s 35ms/step - loss: 0.6159 - binary_accuracy: 0.6660 - val_loss: 0.7955 - val_binary_accuracy: 0.4746\n",
      "Epoch 93/100\n",
      "19/19 [==============================] - 1s 35ms/step - loss: 0.6039 - binary_accuracy: 0.6787 - val_loss: 0.7926 - val_binary_accuracy: 0.4915\n",
      "Epoch 94/100\n",
      "19/19 [==============================] - 1s 35ms/step - loss: 0.6065 - binary_accuracy: 0.6840 - val_loss: 0.7953 - val_binary_accuracy: 0.4703\n",
      "Epoch 95/100\n",
      "19/19 [==============================] - 1s 36ms/step - loss: 0.6028 - binary_accuracy: 0.6734 - val_loss: 0.8012 - val_binary_accuracy: 0.5381\n",
      "Epoch 96/100\n",
      "19/19 [==============================] - 1s 38ms/step - loss: 0.5953 - binary_accuracy: 0.6862 - val_loss: 0.8038 - val_binary_accuracy: 0.4619\n",
      "Epoch 97/100\n",
      "19/19 [==============================] - 1s 35ms/step - loss: 0.5886 - binary_accuracy: 0.6894 - val_loss: 0.7998 - val_binary_accuracy: 0.4661\n",
      "Epoch 98/100\n",
      "19/19 [==============================] - 1s 35ms/step - loss: 0.6078 - binary_accuracy: 0.6777 - val_loss: 0.8014 - val_binary_accuracy: 0.4788\n",
      "Epoch 99/100\n",
      "19/19 [==============================] - 1s 36ms/step - loss: 0.5944 - binary_accuracy: 0.6681 - val_loss: 0.8059 - val_binary_accuracy: 0.4703\n",
      "Epoch 100/100\n",
      "19/19 [==============================] - 1s 38ms/step - loss: 0.5994 - binary_accuracy: 0.6840 - val_loss: 0.8083 - val_binary_accuracy: 0.5000\n"
     ]
    }
   ],
   "source": [
    "history = model.fit(X_train, y_train, \n",
    "                    batch_size=batch_size, \n",
    "                    epochs=epochs, \n",
    "                    validation_data=(X_val, y_val), \n",
    "                    verbose=1, \n",
    "                    callbacks=[tensorboard_call]) #, val_loss_callback])"
   ]
  },
  {
   "cell_type": "code",
   "execution_count": 13,
   "metadata": {},
   "outputs": [
    {
     "name": "stdout",
     "output_type": "stream",
     "text": [
      "Model: \"sequential\"\n",
      "_________________________________________________________________\n",
      "Layer (type)                 Output Shape              Param #   \n",
      "=================================================================\n",
      "simple_rnn (SimpleRNN)       (None, 114, 16)           592       \n",
      "_________________________________________________________________\n",
      "gaussian_noise (GaussianNois (None, 114, 16)           0         \n",
      "_________________________________________________________________\n",
      "simple_rnn_1 (SimpleRNN)     (None, 6)                 138       \n",
      "_________________________________________________________________\n",
      "gaussian_noise_1 (GaussianNo (None, 6)                 0         \n",
      "_________________________________________________________________\n",
      "dense (Dense)                (None, 1)                 7         \n",
      "=================================================================\n",
      "Total params: 737\n",
      "Trainable params: 737\n",
      "Non-trainable params: 0\n",
      "_________________________________________________________________\n"
     ]
    }
   ],
   "source": [
    "model.summary()"
   ]
  },
  {
   "cell_type": "code",
   "execution_count": 14,
   "metadata": {},
   "outputs": [
    {
     "name": "stdout",
     "output_type": "stream",
     "text": [
      "294/294 [==============================] - 1s 5ms/step - loss: 0.6752 - binary_accuracy: 0.5952\n",
      "test loss, test acc: [0.6751791834831238, 0.5952380895614624]\n"
     ]
    }
   ],
   "source": [
    "#evaluate model on test set\n",
    "results = model.evaluate(X_test, y_test, batch_size=1, verbose=1)\n",
    "print(\"test loss, test acc:\", results)"
   ]
  },
  {
   "cell_type": "code",
   "execution_count": 15,
   "metadata": {},
   "outputs": [
    {
     "data": {
      "image/png": "[encoded data removed]",
      "text/plain": [
       "<Figure size 432x288 with 1 Axes>"
      ]
     },
     "metadata": {
      "needs_background": "light"
     },
     "output_type": "display_data"
    }
   ],
   "source": [
    "#summarize history for accuracy\n",
    "plt.plot(history.history[(list(history.history.keys())[1])])\n",
    "plt.plot(history.history[(list(history.history.keys())[3])])\n",
    "plt.title('model accuracy')\n",
    "plt.ylabel('accuracy')\n",
    "plt.xlabel('epoch')\n",
    "plt.legend(['train', 'val'], loc='upper left')\n",
    "plt.show()"
   ]
  },
  {
   "cell_type": "code",
   "execution_count": 16,
   "metadata": {},
   "outputs": [
    {
     "data": {
      "image/png": "[encoded data removed]",
      "text/plain": [
       "<Figure size 432x288 with 1 Axes>"
      ]
     },
     "metadata": {
      "needs_background": "light"
     },
     "output_type": "display_data"
    }
   ],
   "source": [
    "#summarize history for loss\n",
    "plt.plot(history.history[(list(history.history.keys())[0])])\n",
    "plt.plot(history.history[(list(history.history.keys())[2])])\n",
    "plt.title('model loss')\n",
    "plt.ylabel('loss')\n",
    "plt.xlabel('epoch')\n",
    "plt.legend(['train', 'val'], loc='upper left')\n",
    "plt.show()"
   ]
  },
  {
   "cell_type": "code",
   "execution_count": 17,
   "metadata": {},
   "outputs": [
    {
     "name": "stdout",
     "output_type": "stream",
     "text": [
      "predictions: [[0.50827557]\n",
      " [0.09868452]\n",
      " [0.5182187 ]\n",
      " [0.3031724 ]\n",
      " [0.30896294]\n",
      " [0.5532285 ]\n",
      " [0.71713865]\n",
      " [0.83172953]\n",
      " [0.43015438]\n",
      " [0.22783545]\n",
      " [0.24787393]\n",
      " [0.72165877]\n",
      " [0.49512088]\n",
      " [0.38768238]\n",
      " [0.5930815 ]\n",
      " [0.64966387]\n",
      " [0.17152998]\n",
      " [0.43200678]\n",
      " [0.4286832 ]\n",
      " [0.7046716 ]\n",
      " [0.53855383]\n",
      " [0.71521425]\n",
      " [0.7265487 ]\n",
      " [0.36345202]\n",
      " [0.5367874 ]\n",
      " [0.5639491 ]\n",
      " [0.33765584]\n",
      " [0.30369344]\n",
      " [0.59905565]\n",
      " [0.41072625]\n",
      " [0.87426305]\n",
      " [0.63739526]\n",
      " [0.26314378]\n",
      " [0.4002715 ]\n",
      " [0.80163276]\n",
      " [0.66844314]\n",
      " [0.7263427 ]\n",
      " [0.65076154]\n",
      " [0.60330665]\n",
      " [0.5692775 ]\n",
      " [0.2986616 ]\n",
      " [0.19686806]\n",
      " [0.5258917 ]\n",
      " [0.48794195]\n",
      " [0.43452874]\n",
      " [0.3901016 ]\n",
      " [0.5010573 ]\n",
      " [0.6995333 ]\n",
      " [0.5458366 ]\n",
      " [0.7584748 ]\n",
      " [0.7957528 ]\n",
      " [0.49044853]\n",
      " [0.53912044]\n",
      " [0.57774884]\n",
      " [0.51788443]\n",
      " [0.42093042]\n",
      " [0.68512356]\n",
      " [0.2436037 ]\n",
      " [0.4173561 ]\n",
      " [0.6286983 ]\n",
      " [0.27356517]\n",
      " [0.42154133]\n",
      " [0.32050455]\n",
      " [0.6368339 ]\n",
      " [0.52003324]\n",
      " [0.5354608 ]\n",
      " [0.29927942]\n",
      " [0.51365316]\n",
      " [0.6320822 ]\n",
      " [0.19779095]\n",
      " [0.3527677 ]\n",
      " [0.6314974 ]\n",
      " [0.51476496]\n",
      " [0.36555427]\n",
      " [0.7884191 ]\n",
      " [0.6756404 ]\n",
      " [0.3379575 ]\n",
      " [0.8330209 ]\n",
      " [0.46947   ]\n",
      " [0.803615  ]\n",
      " [0.25345165]\n",
      " [0.5862223 ]\n",
      " [0.46052235]\n",
      " [0.33338535]\n",
      " [0.3079949 ]\n",
      " [0.76447487]\n",
      " [0.8105875 ]\n",
      " [0.3891178 ]\n",
      " [0.5861632 ]\n",
      " [0.75717884]\n",
      " [0.25678834]\n",
      " [0.3827098 ]\n",
      " [0.30375975]\n",
      " [0.299491  ]\n",
      " [0.62126845]\n",
      " [0.48449716]\n",
      " [0.57272065]\n",
      " [0.7406915 ]\n",
      " [0.8101773 ]\n",
      " [0.7641214 ]\n",
      " [0.71688926]\n",
      " [0.7922313 ]\n",
      " [0.7264775 ]\n",
      " [0.41893065]\n",
      " [0.5729595 ]\n",
      " [0.55720496]\n",
      " [0.54911613]\n",
      " [0.6693165 ]\n",
      " [0.4547103 ]\n",
      " [0.6868445 ]\n",
      " [0.30858812]\n",
      " [0.37716064]\n",
      " [0.27885234]\n",
      " [0.6356573 ]\n",
      " [0.62702954]\n",
      " [0.23428893]\n",
      " [0.54734087]\n",
      " [0.3744494 ]\n",
      " [0.37848863]\n",
      " [0.46864367]\n",
      " [0.375843  ]\n",
      " [0.32555848]\n",
      " [0.19189447]\n",
      " [0.27267027]\n",
      " [0.5411828 ]\n",
      " [0.5332697 ]\n",
      " [0.6264883 ]\n",
      " [0.78865325]\n",
      " [0.73865926]\n",
      " [0.52741355]\n",
      " [0.3112304 ]\n",
      " [0.8436612 ]\n",
      " [0.5917474 ]\n",
      " [0.38437834]\n",
      " [0.09378898]\n",
      " [0.39365196]\n",
      " [0.26593277]\n",
      " [0.44951233]\n",
      " [0.2207953 ]\n",
      " [0.20216826]\n",
      " [0.37252623]\n",
      " [0.2701039 ]\n",
      " [0.6801617 ]\n",
      " [0.5314378 ]\n",
      " [0.6445795 ]\n",
      " [0.631423  ]\n",
      " [0.5715626 ]\n",
      " [0.19149029]\n",
      " [0.6872655 ]\n",
      " [0.34236726]\n",
      " [0.20069823]\n",
      " [0.51346016]\n",
      " [0.23148245]\n",
      " [0.59542716]\n",
      " [0.5981792 ]\n",
      " [0.7758657 ]\n",
      " [0.40157577]\n",
      " [0.16368836]\n",
      " [0.7545705 ]\n",
      " [0.5312804 ]\n",
      " [0.6259918 ]\n",
      " [0.17444846]\n",
      " [0.33503675]\n",
      " [0.12964329]\n",
      " [0.6727466 ]\n",
      " [0.73311913]\n",
      " [0.7124929 ]\n",
      " [0.17478311]\n",
      " [0.44663972]\n",
      " [0.44722223]\n",
      " [0.487763  ]\n",
      " [0.81540287]\n",
      " [0.28658685]\n",
      " [0.4409371 ]\n",
      " [0.8209883 ]\n",
      " [0.20623511]\n",
      " [0.58420444]\n",
      " [0.3484168 ]\n",
      " [0.3895231 ]\n",
      " [0.7057745 ]\n",
      " [0.41311663]\n",
      " [0.6380872 ]\n",
      " [0.49632338]\n",
      " [0.71329296]\n",
      " [0.8351663 ]\n",
      " [0.5780227 ]\n",
      " [0.5068269 ]\n",
      " [0.21680105]\n",
      " [0.24119955]\n",
      " [0.8458492 ]\n",
      " [0.31656402]\n",
      " [0.8015536 ]\n",
      " [0.50915796]\n",
      " [0.5264332 ]\n",
      " [0.6593162 ]\n",
      " [0.58238995]\n",
      " [0.8168888 ]\n",
      " [0.58759475]\n",
      " [0.3597865 ]\n",
      " [0.8132408 ]\n",
      " [0.6518382 ]\n",
      " [0.4190166 ]\n",
      " [0.0821383 ]\n",
      " [0.6870803 ]\n",
      " [0.72579014]\n",
      " [0.6915933 ]\n",
      " [0.24987799]\n",
      " [0.5717356 ]\n",
      " [0.72693884]\n",
      " [0.3556099 ]\n",
      " [0.47008118]\n",
      " [0.68398845]\n",
      " [0.4439545 ]\n",
      " [0.37199956]\n",
      " [0.7493052 ]\n",
      " [0.7856616 ]\n",
      " [0.13851568]\n",
      " [0.34887016]\n",
      " [0.25219643]\n",
      " [0.60412484]\n",
      " [0.42370725]\n",
      " [0.65546453]\n",
      " [0.6514379 ]\n",
      " [0.63084793]\n",
      " [0.4496375 ]\n",
      " [0.42751443]\n",
      " [0.78199697]\n",
      " [0.3121785 ]\n",
      " [0.2817499 ]\n",
      " [0.34771958]\n",
      " [0.35941237]\n",
      " [0.7819818 ]\n",
      " [0.6994355 ]\n",
      " [0.252585  ]\n",
      " [0.76649153]\n",
      " [0.16497004]\n",
      " [0.47442457]\n",
      " [0.5690751 ]\n",
      " [0.2567782 ]\n",
      " [0.2613299 ]\n",
      " [0.46701366]\n",
      " [0.4582351 ]\n",
      " [0.39761758]\n",
      " [0.71728814]\n",
      " [0.77454597]\n",
      " [0.7509949 ]\n",
      " [0.8603769 ]\n",
      " [0.7969734 ]\n",
      " [0.5337776 ]\n",
      " [0.73410594]\n",
      " [0.71903646]\n",
      " [0.2585607 ]\n",
      " [0.35292915]\n",
      " [0.49471936]\n",
      " [0.66008914]\n",
      " [0.55977744]\n",
      " [0.5602727 ]\n",
      " [0.66076297]\n",
      " [0.47689885]\n",
      " [0.41041735]\n",
      " [0.7411555 ]\n",
      " [0.45639062]\n",
      " [0.88493466]\n",
      " [0.3247844 ]\n",
      " [0.8009697 ]\n",
      " [0.5744995 ]\n",
      " [0.5741743 ]\n",
      " [0.5860033 ]\n",
      " [0.6846451 ]\n",
      " [0.4524294 ]\n",
      " [0.7282573 ]\n",
      " [0.59625137]\n",
      " [0.21987066]\n",
      " [0.57214403]\n",
      " [0.79466796]\n",
      " [0.6102104 ]\n",
      " [0.41467273]\n",
      " [0.9061061 ]\n",
      " [0.6568135 ]\n",
      " [0.3975894 ]\n",
      " [0.612022  ]\n",
      " [0.73004925]\n",
      " [0.30049068]\n",
      " [0.65997905]\n",
      " [0.6738827 ]\n",
      " [0.7787202 ]\n",
      " [0.53071797]\n",
      " [0.11698237]\n",
      " [0.8099996 ]\n",
      " [0.7055667 ]\n",
      " [0.73490065]\n",
      " [0.35101652]\n",
      " [0.11718819]\n",
      " [0.17672753]]\n"
     ]
    }
   ],
   "source": [
    "#generate predictions\n",
    "predictions = model.predict(X_test)\n",
    "print(\"predictions:\", predictions)"
   ]
  },
  {
   "cell_type": "code",
   "execution_count": 18,
   "metadata": {},
   "outputs": [
    {
     "name": "stdout",
     "output_type": "stream",
     "text": [
      "['N' 'F' 'N' 'F' 'F' 'N' 'N' 'N' 'F' 'F' 'F' 'N' 'F' 'F' 'N' 'N' 'F' 'F'\n",
      " 'F' 'N' 'N' 'N' 'N' 'F' 'N' 'N' 'F' 'F' 'N' 'F' 'N' 'N' 'F' 'F' 'N' 'N'\n",
      " 'N' 'N' 'N' 'N' 'F' 'F' 'N' 'F' 'F' 'F' 'N' 'N' 'N' 'N' 'N' 'F' 'N' 'N'\n",
      " 'N' 'F' 'N' 'F' 'F' 'N' 'F' 'F' 'F' 'N' 'N' 'N' 'F' 'N' 'N' 'F' 'F' 'N'\n",
      " 'N' 'F' 'N' 'N' 'F' 'N' 'F' 'N' 'F' 'N' 'F' 'F' 'F' 'N' 'N' 'F' 'N' 'N'\n",
      " 'F' 'F' 'F' 'F' 'N' 'F' 'N' 'N' 'N' 'N' 'N' 'N' 'N' 'F' 'N' 'N' 'N' 'N'\n",
      " 'F' 'N' 'F' 'F' 'F' 'N' 'N' 'F' 'N' 'F' 'F' 'F' 'F' 'F' 'F' 'F' 'N' 'N'\n",
      " 'N' 'N' 'N' 'N' 'F' 'N' 'N' 'F' 'F' 'F' 'F' 'F' 'F' 'F' 'F' 'F' 'N' 'N'\n",
      " 'N' 'N' 'N' 'F' 'N' 'F' 'F' 'N' 'F' 'N' 'N' 'N' 'F' 'F' 'N' 'N' 'N' 'F'\n",
      " 'F' 'F' 'N' 'N' 'N' 'F' 'F' 'F' 'F' 'N' 'F' 'F' 'N' 'F' 'N' 'F' 'F' 'N'\n",
      " 'F' 'N' 'F' 'N' 'N' 'N' 'N' 'F' 'F' 'N' 'F' 'N' 'N' 'N' 'N' 'N' 'N' 'N'\n",
      " 'F' 'N' 'N' 'F' 'F' 'N' 'N' 'N' 'F' 'N' 'N' 'F' 'F' 'N' 'F' 'F' 'N' 'N'\n",
      " 'F' 'F' 'F' 'N' 'F' 'N' 'N' 'N' 'F' 'F' 'N' 'F' 'F' 'F' 'F' 'N' 'N' 'F'\n",
      " 'N' 'F' 'F' 'N' 'F' 'F' 'F' 'F' 'F' 'N' 'N' 'N' 'N' 'N' 'N' 'N' 'N' 'F'\n",
      " 'F' 'F' 'N' 'N' 'N' 'N' 'F' 'F' 'N' 'F' 'N' 'F' 'N' 'N' 'N' 'N' 'N' 'F'\n",
      " 'N' 'N' 'F' 'N' 'N' 'N' 'F' 'N' 'N' 'F' 'N' 'N' 'F' 'N' 'N' 'N' 'N' 'F'\n",
      " 'N' 'N' 'N' 'F' 'F' 'F']\n"
     ]
    }
   ],
   "source": [
    "#remove encoding\n",
    "real_predictions_B = a_encoder.inverse_transform(predictions)\n",
    "print(real_predictions_B)"
   ]
  },
  {
   "cell_type": "code",
   "execution_count": 19,
   "metadata": {},
   "outputs": [
    {
     "data": {
      "text/plain": [
       "{'F': 133, 'N': 161}"
      ]
     },
     "execution_count": 19,
     "metadata": {},
     "output_type": "execute_result"
    }
   ],
   "source": [
    "#prediction counts\n",
    "unique, counts = np.unique(real_predictions_B, return_counts=True)\n",
    "dict(zip(unique, counts))"
   ]
  },
  {
   "cell_type": "code",
   "execution_count": 20,
   "metadata": {},
   "outputs": [
    {
     "name": "stdout",
     "output_type": "stream",
     "text": [
      "['N' 'F' 'F' 'F' 'F' 'F' 'F' 'F' 'F' 'F' 'F' 'F' 'F' 'F' 'F' 'N' 'F' 'F'\n",
      " 'F' 'N' 'N' 'N' 'F' 'F' 'N' 'F' 'N' 'F' 'N' 'F' 'N' 'N' 'F' 'N' 'N' 'N'\n",
      " 'F' 'F' 'F' 'N' 'F' 'N' 'F' 'F' 'F' 'N' 'F' 'N' 'N' 'N' 'F' 'F' 'N' 'N'\n",
      " 'N' 'N' 'N' 'N' 'N' 'F' 'F' 'F' 'F' 'N' 'F' 'N' 'N' 'N' 'N' 'F' 'F' 'N'\n",
      " 'F' 'N' 'F' 'N' 'N' 'N' 'F' 'N' 'F' 'F' 'N' 'N' 'N' 'F' 'N' 'F' 'N' 'N'\n",
      " 'F' 'N' 'F' 'N' 'N' 'F' 'N' 'F' 'N' 'N' 'N' 'F' 'N' 'N' 'N' 'F' 'N' 'N'\n",
      " 'N' 'F' 'F' 'N' 'F' 'N' 'N' 'N' 'F' 'N' 'N' 'F' 'F' 'F' 'F' 'F' 'N' 'N'\n",
      " 'N' 'F' 'N' 'N' 'N' 'N' 'N' 'N' 'F' 'F' 'N' 'N' 'F' 'F' 'F' 'F' 'F' 'F'\n",
      " 'F' 'F' 'F' 'F' 'N' 'F' 'F' 'F' 'F' 'F' 'N' 'N' 'F' 'F' 'N' 'F' 'N' 'N'\n",
      " 'F' 'N' 'F' 'N' 'N' 'F' 'N' 'N' 'F' 'F' 'F' 'F' 'N' 'N' 'N' 'F' 'F' 'N'\n",
      " 'N' 'F' 'N' 'F' 'N' 'F' 'F' 'F' 'F' 'F' 'F' 'N' 'F' 'F' 'F' 'F' 'F' 'F'\n",
      " 'F' 'F' 'F' 'N' 'F' 'F' 'N' 'N' 'F' 'N' 'N' 'F' 'N' 'F' 'N' 'N' 'F' 'N'\n",
      " 'N' 'N' 'N' 'F' 'N' 'N' 'N' 'N' 'N' 'F' 'N' 'F' 'N' 'F' 'F' 'N' 'N' 'F'\n",
      " 'N' 'F' 'F' 'N' 'F' 'N' 'F' 'N' 'N' 'N' 'N' 'N' 'F' 'N' 'F' 'N' 'N' 'N'\n",
      " 'F' 'N' 'N' 'F' 'F' 'N' 'N' 'N' 'F' 'F' 'N' 'F' 'F' 'F' 'N' 'F' 'N' 'F'\n",
      " 'N' 'F' 'N' 'F' 'N' 'N' 'F' 'N' 'N' 'F' 'N' 'N' 'N' 'F' 'N' 'F' 'F' 'F'\n",
      " 'N' 'F' 'N' 'N' 'F' 'F']\n"
     ]
    }
   ],
   "source": [
    "#y_test predictions\n",
    "ytest_predictions = a_encoder.inverse_transform(y_test)\n",
    "print(ytest_predictions)"
   ]
  },
  {
   "cell_type": "code",
   "execution_count": 21,
   "metadata": {},
   "outputs": [
    {
     "data": {
      "text/plain": [
       "{'F': 148, 'N': 146}"
      ]
     },
     "execution_count": 21,
     "metadata": {},
     "output_type": "execute_result"
    }
   ],
   "source": [
    "#real count\n",
    "unique, counts = np.unique(ytest_predictions, return_counts=True)\n",
    "dict(zip(unique, counts))"
   ]
  },
  {
   "cell_type": "code",
   "execution_count": 22,
   "metadata": {},
   "outputs": [
    {
     "data": {
      "image/png": "[encoded data removed]",
      "text/plain": [
       "<Figure size 432x288 with 2 Axes>"
      ]
     },
     "metadata": {
      "needs_background": "light"
     },
     "output_type": "display_data"
    }
   ],
   "source": [
    "#confusion matrix\n",
    "matrix = confusion_matrix(ytest_predictions, real_predictions_B)\n",
    "#format confusion matrix\n",
    "ax=plt.subplot()\n",
    "sns.heatmap(matrix, annot=True, ax = ax, cmap='Greens', fmt='g');\n",
    "accuracy = np.trace(matrix) / np.sum(matrix).astype('float')\n",
    "misclass = 1 - accuracy\n",
    "ax.set_xlabel('Predicted label\\naccuracy={:0.4f}; misclass={:0.4f}'.format(accuracy, misclass));\n",
    "ax.set_ylabel('True labels'); \n",
    "ax.set_title('Confusion Matrix');\n",
    "ax.xaxis.set_ticklabels(unique); ax.yaxis.set_ticklabels(unique);"
   ]
  },
  {
   "cell_type": "code",
   "execution_count": 23,
   "metadata": {},
   "outputs": [
    {
     "name": "stdout",
     "output_type": "stream",
     "text": [
      "              precision    recall  f1-score   support\n",
      "\n",
      "           F       0.61      0.55      0.58       148\n",
      "           N       0.58      0.64      0.61       146\n",
      "\n",
      "    accuracy                           0.60       294\n",
      "   macro avg       0.60      0.60      0.59       294\n",
      "weighted avg       0.60      0.60      0.59       294\n",
      "\n"
     ]
    }
   ],
   "source": [
    "print(classification_report(ytest_predictions, real_predictions_B))"
   ]
  },
  {
   "cell_type": "code",
   "execution_count": 24,
   "metadata": {},
   "outputs": [
    {
     "name": "stdout",
     "output_type": "stream",
     "text": [
      "precision score:0.5964\n",
      "recall score:0.5956\n",
      "f1 score:0.5944\n"
     ]
    }
   ],
   "source": [
    "#macro - calculate metrics for each label, and find their unweighted mean\n",
    "pre_score = precision_score(ytest_predictions, real_predictions_B, average = \"macro\")\n",
    "print('precision score:{:0.4f}'.format(pre_score))\n",
    "recall_score_1 = recall_score(ytest_predictions, real_predictions_B, average= \"macro\")\n",
    "print('recall score:{:0.4f}'.format(recall_score_1))\n",
    "f1_score_1 = f1_score(ytest_predictions, real_predictions_B, average=\"macro\")\n",
    "print('f1 score:{:0.4f}'.format(f1_score_1))"
   ]
  }
 ],
 "metadata": {
  "kernelspec": {
   "display_name": "Python 3",
   "language": "python",
   "name": "python3"
  },
  "language_info": {
   "codemirror_mode": {
    "name": "ipython",
    "version": 3
   },
   "file_extension": ".py",
   "mimetype": "text/x-python",
   "name": "python",
   "nbconvert_exporter": "python",
   "pygments_lexer": "ipython3",
   "version": "3.8.3"
  }
 },
 "nbformat": 4,
 "nbformat_minor": 4
}
