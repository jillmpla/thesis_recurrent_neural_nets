{
 "cells": [
  {
   "cell_type": "code",
   "execution_count": 1,
   "metadata": {},
   "outputs": [],
   "source": [
    "#tensorboard via command-line:\n",
    "#tensorboard --logdir=where your Logs directory is"
   ]
  },
  {
   "cell_type": "code",
   "execution_count": 2,
   "metadata": {},
   "outputs": [],
   "source": [
    "#~~~~~~~~~~~~~~~~~~~~~~~~~~~~~~~~~~~~~~~~~~~~~~~~~~~~~~~~~~~~~~~~~~~~~~~~~~~~~~~~~~~~~~~~~~~~~~~~~~~~~~~#\n",
    "#What is the maximum flare class produced by an AR in the next 24hrs after a 24hr time sequence?\n",
    "#~~~~~~~~~~~~~~~~~~~~~~~~~~~~~~~~~~~~~~~~~~~~~~~~~~~~~~~~~~~~~~~~~~~~~~~~~~~~~~~~~~~~~~~~~~~~~~~~~~~~~~~#\n",
    "#feature data from - hmi.sharp_720s:::\n",
    "#http://jsoc.stanford.edu/doc/data/hmi/sharp/sharp.htm\n",
    "\n",
    "#label data from - GOES flare events:::\n",
    "#ftp://ftp.swpc.noaa.gov/pub/warehouse/\n",
    "\n",
    "#and from - GOES XRS Report:::\n",
    "#https://www.ngdc.noaa.gov/stp/space-weather/solar-data/solar-features/solar-flares/x-rays/goes/xrs/\n",
    "#~~~~~~~~~~~~~~~~~~~~~~~~~~~~~~~~~~~~~~~~~~~~~~~~~~~~~~~~~~~~~~~~~~~~~~~~~~~~~~~~~~~~~~~~~~~~~~~~~~~~~~~#\n",
    "#binary class - F for flare and N for no flare\n",
    "#multi-class - #6 flare classes: N is no flare, A is smallest, X is largest\n",
    "               #key = {'N', 'A', 'B', 'C', 'M', 'X'}\n",
    "               #['A' class flares generally not listed in official reports due to small size]\n",
    "#~~~~~~~~~~~~~~~~~~~~~~~~~~~~~~~~~~~~~~~~~~~~~~~~~~~~~~~~~~~~~~~~~~~~~~~~~~~~~~~~~~~~~~~~~~~~~~~~~~~~~~~#"
   ]
  },
  {
   "cell_type": "code",
   "execution_count": 3,
   "metadata": {},
   "outputs": [
    {
     "name": "stdout",
     "output_type": "stream",
     "text": [
      "tensorflow version: 2.3.1\n"
     ]
    }
   ],
   "source": [
    "import tensorflow as tf\n",
    "print(\"tensorflow version:\", tf.__version__) #2.3.1 used\n",
    "from tensorflow import keras\n",
    "import os\n",
    "import glob\n",
    "import shutil\n",
    "import datetime\n",
    "import numpy as np\n",
    "import pandas as pd\n",
    "import seaborn as sns\n",
    "from pathlib import Path\n",
    "from astropy.time import Time\n",
    "from matplotlib import pyplot as plt\n",
    "from sklearn.metrics import confusion_matrix\n",
    "from sklearn.metrics import plot_confusion_matrix\n",
    "from sklearn.preprocessing import LabelBinarizer\n",
    "from sklearn.model_selection import train_test_split\n",
    "from sklearn.preprocessing import MinMaxScaler\n",
    "from tensorflow.keras.layers import Dropout, Dense, Embedding, Flatten, SimpleRNN, LSTM, GRU\n",
    "from tensorflow.keras.models import Model, Sequential\n",
    "from tensorflow.keras.optimizers import SGD, Adam\n",
    "import drms #https://pypi.org/project/drms/"
   ]
  },
  {
   "cell_type": "code",
   "execution_count": 4,
   "metadata": {},
   "outputs": [],
   "source": [
    "import Flare_Data"
   ]
  },
  {
   "cell_type": "code",
   "execution_count": 5,
   "metadata": {},
   "outputs": [],
   "source": [
    "################creates/loads csv with 2012's feature data##########\n",
    "current_di = os.getcwd()\n",
    "csv_for_2012 = \"\\\\create_2012_features.csv\"\n",
    "where_2012 = current_di + csv_for_2012\n",
    "\n",
    "if not os.path.exists(where_2012):\n",
    "    import to_create_2012\n",
    "    to_create_2012.get_2012_Features()\n",
    "    df_2012 = pd.read_csv('create_2012_features.csv', index_col=0)\n",
    "    df_2012_done = Flare_Data.convert_time_2012(df_2012)\n",
    "    Flare_Data.save_some_features(df_2012_done) \n",
    "\n",
    "if os.path.exists(where_2012):\n",
    "    df_2012 = pd.read_csv('create_2012_features.csv', index_col=0)\n",
    "    df_2012_done = Flare_Data.convert_time_2012(df_2012)\n",
    "    Flare_Data.save_some_features(df_2012_done)\n",
    "####################################################################"
   ]
  },
  {
   "cell_type": "code",
   "execution_count": 6,
   "metadata": {},
   "outputs": [],
   "source": [
    "################creates/loads csv with 2013's feature data##########\n",
    "current_di = os.getcwd()\n",
    "csv_for_2013 = \"\\\\create_2013_features.csv\"\n",
    "where_2013 = current_di + csv_for_2013\n",
    "\n",
    "if not os.path.exists(where_2013):\n",
    "    import to_create_2013\n",
    "    to_create_2013.get_2013_Features()\n",
    "    df_2013 = pd.read_csv('create_2013_features.csv', index_col=0)\n",
    "    df_2013_done = Flare_Data.convert_time_2013(df_2013)\n",
    "    Flare_Data.save_some_features(df_2013_done) \n",
    "\n",
    "if os.path.exists(where_2013):\n",
    "    df_2013 = pd.read_csv('create_2013_features.csv', index_col=0)\n",
    "    df_2013_done = Flare_Data.convert_time_2013(df_2013)\n",
    "    Flare_Data.save_some_features(df_2013_done)\n",
    "####################################################################"
   ]
  },
  {
   "cell_type": "code",
   "execution_count": 7,
   "metadata": {},
   "outputs": [],
   "source": [
    "################creates/loads csv with 2014's feature data##########\n",
    "current_di = os.getcwd()\n",
    "csv_for_2014 = \"\\\\create_2014_features.csv\"\n",
    "where_2014 = current_di + csv_for_2014\n",
    "\n",
    "if not os.path.exists(where_2014):\n",
    "    import to_create_2014\n",
    "    to_create_2014.get_2014_Features()\n",
    "    df_2014 = pd.read_csv('create_2014_features.csv', index_col=0)\n",
    "    df_2014_done = Flare_Data.convert_time_2014(df_2014)\n",
    "    Flare_Data.save_some_features(df_2014_done) \n",
    "\n",
    "if os.path.exists(where_2014):\n",
    "    df_2014 = pd.read_csv('create_2014_features.csv', index_col=0)\n",
    "    df_2014_done = Flare_Data.convert_time_2014(df_2014)\n",
    "    Flare_Data.save_some_features(df_2014_done)\n",
    "####################################################################"
   ]
  },
  {
   "cell_type": "code",
   "execution_count": 8,
   "metadata": {},
   "outputs": [],
   "source": [
    "################creates/loads csv with 2015's feature data##########\n",
    "current_di = os.getcwd()\n",
    "csv_for_2015 = \"\\\\create_2015_features.csv\"\n",
    "where_2015 = current_di + csv_for_2015\n",
    "\n",
    "if not os.path.exists(where_2015):\n",
    "    import to_create_2015\n",
    "    to_create_2015.get_2015_Features()\n",
    "    df_2015 = pd.read_csv('create_2015_features.csv', index_col=0)\n",
    "    df_2015_done = Flare_Data.convert_time_2015(df_2015)\n",
    "    Flare_Data.save_some_features(df_2015_done) \n",
    "\n",
    "if os.path.exists(where_2015):\n",
    "    df_2015 = pd.read_csv('create_2015_features.csv', index_col=0)\n",
    "    df_2015_done = Flare_Data.convert_time_2015(df_2015)\n",
    "    Flare_Data.save_some_features(df_2015_done)\n",
    "####################################################################"
   ]
  },
  {
   "cell_type": "code",
   "execution_count": 9,
   "metadata": {},
   "outputs": [],
   "source": [
    "#removes old tensorboard Logs and recreates or creates Logs folder\n",
    "current_dir = os.getcwd()\n",
    "l_folder = \"\\\\Logs\"\n",
    "where_logs = current_dir + l_folder\n",
    "\n",
    "if not os.path.exists(where_logs):\n",
    "    os.mkdir(where_logs)\n",
    "    \n",
    "if os.path.exists(where_logs):\n",
    "    shutil.rmtree(where_logs)\n",
    "    os.mkdir(where_logs)"
   ]
  },
  {
   "cell_type": "code",
   "execution_count": 10,
   "metadata": {},
   "outputs": [
    {
     "name": "stdout",
     "output_type": "stream",
     "text": [
      "The time series starts from:  2012-01-01 00:11:26\n",
      "The time series ends on:  2015-12-31 23:47:24\n",
      "(array(['B', 'C', 'M', 'N', 'X'], dtype='<U1'), array([ 73, 436, 128, 766,  16], dtype=int64))\n"
     ]
    }
   ],
   "source": [
    "#binary = True for binary classification, binary = False for multi-class classification\n",
    "X_train, X_val, X_test, y_train, y_val, y_test, tim_steps, n_feats, count_of_classes, a_encoder = Flare_Data.getAllData(binary = False)"
   ]
  },
  {
   "cell_type": "code",
   "execution_count": 11,
   "metadata": {},
   "outputs": [
    {
     "name": "stdout",
     "output_type": "stream",
     "text": [
      "(794, 114, 20) (341, 114, 20) (284, 114, 20) (794, 5) (341, 5) (284, 5)\n"
     ]
    }
   ],
   "source": [
    "print(X_train.shape, X_val.shape, X_test.shape, y_train.shape, y_val.shape, y_test.shape)"
   ]
  },
  {
   "cell_type": "code",
   "execution_count": 12,
   "metadata": {},
   "outputs": [],
   "source": [
    "#~~~~~~~~~~~~~~~~~~~~~~~~~~~~~~~~~~~~~~~~~~~~~~~~~~~~~~~~~~~~~~~~~~~~~~~~~~~~~~~~~~~~~~~~~~~~~~~~~~~~~~~#\n",
    "#~~~~~~~~~~~~~~~~~~~~~~~~~~~~~~~~~~~~~~~~~~~~~~~~~~~~~~~~~~~~~~~~~~~~~~~~~~~~~~~~~~~~~~~~~~~~~~~~~~~~~~~#"
   ]
  },
  {
   "cell_type": "code",
   "execution_count": 13,
   "metadata": {},
   "outputs": [],
   "source": [
    "test_batch_size = 1\n",
    "batch_size = 114\n",
    "epochs = 100"
   ]
  },
  {
   "cell_type": "code",
   "execution_count": 14,
   "metadata": {},
   "outputs": [],
   "source": [
    "#~~~~~~~~~~~~~~~~~~~~~~~~~~~~~~~~~~~~~~~[LSTM2 Model]~~~~~~~~~~~~~~~~~~~~~~~~~~~~~~~~~~~~~~~~~~~~~~~~~~#\n",
    "#~~~~~~~~~~~~~~~~~~~~~~~~~~~~~~~~~~~~~~~[Multi-Class]~~~~~~~~~~~~~~~~~~~~~~~~~~~~~~~~~~~~~~~~~~~~~~~~~~#\n",
    "#~~~~~~~~~~~~~~~~~~~~~~~~~~~~~~~~~~~~~[Multiple Layers]~~~~~~~~~~~~~~~~~~~~~~~~~~~~~~~~~~~~~~~~~~~~~~~~#\n",
    "model = Sequential()\n",
    "model.add(LSTM(50, return_sequences=True, input_shape=(tim_steps, n_feats)))\n",
    "model.add(Dropout(0.2))\n",
    "model.add(LSTM(100, return_sequences=False))\n",
    "model.add(Dropout(0.2))\n",
    "model.add(Dense(count_of_classes, activation='softmax'))\n",
    "model.compile(loss='categorical_crossentropy', optimizer='adam', metrics=['categorical_accuracy'])\n",
    "#~~~~~~~~~~~~~~~~~~~~~~~~~~~~~~~~~~~~~~~~~~~~~~~~~~~~~~~~~~~~~~~~~~~~~~~~~~~~~~~~~~~~~~~~~~~~~~~~~~~~~~~#\n",
    "#~~~~~~~~~~~~~~~~~~~~~~~~~~~~~~~~~~~~~~~~~~~~~~~~~~~~~~~~~~~~~~~~~~~~~~~~~~~~~~~~~~~~~~~~~~~~~~~~~~~~~~~#"
   ]
  },
  {
   "cell_type": "code",
   "execution_count": 15,
   "metadata": {},
   "outputs": [
    {
     "name": "stdout",
     "output_type": "stream",
     "text": [
      "Model: \"sequential\"\n",
      "_________________________________________________________________\n",
      "Layer (type)                 Output Shape              Param #   \n",
      "=================================================================\n",
      "lstm (LSTM)                  (None, 114, 50)           14200     \n",
      "_________________________________________________________________\n",
      "dropout (Dropout)            (None, 114, 50)           0         \n",
      "_________________________________________________________________\n",
      "lstm_1 (LSTM)                (None, 100)               60400     \n",
      "_________________________________________________________________\n",
      "dropout_1 (Dropout)          (None, 100)               0         \n",
      "_________________________________________________________________\n",
      "dense (Dense)                (None, 5)                 505       \n",
      "=================================================================\n",
      "Total params: 75,105\n",
      "Trainable params: 75,105\n",
      "Non-trainable params: 0\n",
      "_________________________________________________________________\n"
     ]
    }
   ],
   "source": [
    "model.summary()"
   ]
  },
  {
   "cell_type": "code",
   "execution_count": 16,
   "metadata": {},
   "outputs": [],
   "source": [
    "tensorboard_call = keras.callbacks.TensorBoard(log_dir=where_logs, histogram_freq=1)"
   ]
  },
  {
   "cell_type": "code",
   "execution_count": 17,
   "metadata": {},
   "outputs": [
    {
     "name": "stdout",
     "output_type": "stream",
     "text": [
      "Epoch 1/100\n",
      "  1/159 [..............................] - ETA: 0s - loss: 1.6168 - categorical_accuracy: 0.4000WARNING:tensorflow:From C:\\ProgramData\\Anaconda3\\lib\\site-packages\\tensorflow\\python\\ops\\summary_ops_v2.py:1277: stop (from tensorflow.python.eager.profiler) is deprecated and will be removed after 2020-07-01.\n",
      "Instructions for updating:\n",
      "use `tf.profiler.experimental.stop` instead.\n",
      "  2/159 [..............................] - ETA: 38s - loss: 1.5811 - categorical_accuracy: 0.4000WARNING:tensorflow:Callbacks method `on_train_batch_end` is slow compared to the batch time (batch time: 0.0839s vs `on_train_batch_end` time: 0.4031s). Check your callbacks.\n",
      "159/159 [==============================] - 14s 86ms/step - loss: 1.1622 - categorical_accuracy: 0.5214 - val_loss: 1.1168 - val_categorical_accuracy: 0.5396\n",
      "Epoch 2/100\n",
      "159/159 [==============================] - 12s 74ms/step - loss: 1.1367 - categorical_accuracy: 0.5214 - val_loss: 1.1189 - val_categorical_accuracy: 0.5396\n",
      "Epoch 3/100\n",
      "159/159 [==============================] - 12s 76ms/step - loss: 1.1245 - categorical_accuracy: 0.5353 - val_loss: 1.1140 - val_categorical_accuracy: 0.5396\n",
      "Epoch 4/100\n",
      "159/159 [==============================] - 12s 76ms/step - loss: 1.1266 - categorical_accuracy: 0.5340 - val_loss: 1.1196 - val_categorical_accuracy: 0.5367\n",
      "Epoch 5/100\n",
      "159/159 [==============================] - 12s 77ms/step - loss: 1.1236 - categorical_accuracy: 0.5227 - val_loss: 1.0999 - val_categorical_accuracy: 0.5396\n",
      "Epoch 6/100\n",
      "159/159 [==============================] - 12s 75ms/step - loss: 1.1261 - categorical_accuracy: 0.5353 - val_loss: 1.1061 - val_categorical_accuracy: 0.5396\n",
      "Epoch 7/100\n",
      "159/159 [==============================] - 12s 77ms/step - loss: 1.1120 - categorical_accuracy: 0.5353 - val_loss: 1.1191 - val_categorical_accuracy: 0.5396\n",
      "Epoch 8/100\n",
      "159/159 [==============================] - 12s 77ms/step - loss: 1.1087 - categorical_accuracy: 0.5353 - val_loss: 1.1048 - val_categorical_accuracy: 0.5396\n",
      "Epoch 9/100\n",
      "159/159 [==============================] - 12s 78ms/step - loss: 1.1026 - categorical_accuracy: 0.5378 - val_loss: 1.1068 - val_categorical_accuracy: 0.5396\n",
      "Epoch 10/100\n",
      "159/159 [==============================] - 12s 77ms/step - loss: 1.1066 - categorical_accuracy: 0.5390 - val_loss: 1.0984 - val_categorical_accuracy: 0.5337\n",
      "Epoch 11/100\n",
      "159/159 [==============================] - 13s 81ms/step - loss: 1.1012 - categorical_accuracy: 0.5365 - val_loss: 1.1780 - val_categorical_accuracy: 0.5396\n",
      "Epoch 12/100\n",
      "159/159 [==============================] - 12s 77ms/step - loss: 1.0963 - categorical_accuracy: 0.5453 - val_loss: 1.0883 - val_categorical_accuracy: 0.5308\n",
      "Epoch 13/100\n",
      "159/159 [==============================] - 12s 75ms/step - loss: 1.0968 - categorical_accuracy: 0.5327 - val_loss: 1.1265 - val_categorical_accuracy: 0.5367\n",
      "Epoch 14/100\n",
      "159/159 [==============================] - 12s 75ms/step - loss: 1.1145 - categorical_accuracy: 0.5202 - val_loss: 1.1061 - val_categorical_accuracy: 0.5396\n",
      "Epoch 15/100\n",
      "159/159 [==============================] - 12s 77ms/step - loss: 1.1075 - categorical_accuracy: 0.5403 - val_loss: 1.1113 - val_categorical_accuracy: 0.5396\n",
      "Epoch 16/100\n",
      "159/159 [==============================] - 12s 75ms/step - loss: 1.1016 - categorical_accuracy: 0.5327 - val_loss: 1.0896 - val_categorical_accuracy: 0.5396\n",
      "Epoch 17/100\n",
      "159/159 [==============================] - 12s 78ms/step - loss: 1.0888 - categorical_accuracy: 0.5365 - val_loss: 1.0861 - val_categorical_accuracy: 0.5367\n",
      "Epoch 18/100\n",
      "159/159 [==============================] - 12s 77ms/step - loss: 1.0860 - categorical_accuracy: 0.5428 - val_loss: 1.1021 - val_categorical_accuracy: 0.5132\n",
      "Epoch 19/100\n",
      "159/159 [==============================] - 13s 81ms/step - loss: 1.0778 - categorical_accuracy: 0.5479 - val_loss: 1.0848 - val_categorical_accuracy: 0.5308\n",
      "Epoch 20/100\n",
      "159/159 [==============================] - 12s 77ms/step - loss: 1.0706 - categorical_accuracy: 0.5403 - val_loss: 1.0948 - val_categorical_accuracy: 0.5367\n",
      "Epoch 21/100\n",
      "159/159 [==============================] - 12s 77ms/step - loss: 1.0627 - categorical_accuracy: 0.5516 - val_loss: 1.0927 - val_categorical_accuracy: 0.5279\n",
      "Epoch 22/100\n",
      "159/159 [==============================] - 13s 79ms/step - loss: 1.0528 - categorical_accuracy: 0.5529 - val_loss: 1.0901 - val_categorical_accuracy: 0.5396\n",
      "Epoch 23/100\n",
      "159/159 [==============================] - 12s 78ms/step - loss: 1.0548 - categorical_accuracy: 0.5466 - val_loss: 1.0964 - val_categorical_accuracy: 0.5337\n",
      "Epoch 24/100\n",
      "159/159 [==============================] - 12s 78ms/step - loss: 1.0435 - categorical_accuracy: 0.5353 - val_loss: 1.0966 - val_categorical_accuracy: 0.5220\n",
      "Epoch 25/100\n",
      "159/159 [==============================] - 13s 80ms/step - loss: 1.0356 - categorical_accuracy: 0.5579 - val_loss: 1.1017 - val_categorical_accuracy: 0.5161\n",
      "Epoch 26/100\n",
      "159/159 [==============================] - 13s 79ms/step - loss: 1.0298 - categorical_accuracy: 0.5542 - val_loss: 1.1088 - val_categorical_accuracy: 0.5396\n",
      "Epoch 27/100\n",
      "159/159 [==============================] - 12s 77ms/step - loss: 1.0249 - categorical_accuracy: 0.5718 - val_loss: 1.1233 - val_categorical_accuracy: 0.5337\n",
      "Epoch 28/100\n",
      "159/159 [==============================] - 12s 78ms/step - loss: 1.0049 - categorical_accuracy: 0.5806 - val_loss: 1.1106 - val_categorical_accuracy: 0.5337\n",
      "Epoch 29/100\n",
      "159/159 [==============================] - 12s 79ms/step - loss: 1.0097 - categorical_accuracy: 0.5554 - val_loss: 1.1206 - val_categorical_accuracy: 0.5073\n",
      "Epoch 30/100\n",
      "159/159 [==============================] - 13s 81ms/step - loss: 0.9930 - categorical_accuracy: 0.5806 - val_loss: 1.1402 - val_categorical_accuracy: 0.5220\n",
      "Epoch 31/100\n",
      "159/159 [==============================] - 12s 78ms/step - loss: 1.0055 - categorical_accuracy: 0.5768 - val_loss: 1.1645 - val_categorical_accuracy: 0.4868\n",
      "Epoch 32/100\n",
      "159/159 [==============================] - 12s 79ms/step - loss: 0.9656 - categorical_accuracy: 0.5730 - val_loss: 1.1535 - val_categorical_accuracy: 0.5103\n",
      "Epoch 33/100\n",
      "159/159 [==============================] - 12s 77ms/step - loss: 0.9623 - categorical_accuracy: 0.6045 - val_loss: 1.1404 - val_categorical_accuracy: 0.5073\n",
      "Epoch 34/100\n",
      "159/159 [==============================] - 12s 76ms/step - loss: 0.9363 - categorical_accuracy: 0.5932 - val_loss: 1.1359 - val_categorical_accuracy: 0.5015\n",
      "Epoch 35/100\n",
      "159/159 [==============================] - 12s 77ms/step - loss: 0.9214 - categorical_accuracy: 0.5894 - val_loss: 1.2474 - val_categorical_accuracy: 0.4985\n",
      "Epoch 36/100\n",
      "159/159 [==============================] - 13s 81ms/step - loss: 0.8998 - categorical_accuracy: 0.6259 - val_loss: 1.2188 - val_categorical_accuracy: 0.5103\n",
      "Epoch 37/100\n",
      "159/159 [==============================] - 13s 81ms/step - loss: 0.8767 - categorical_accuracy: 0.6285 - val_loss: 1.2637 - val_categorical_accuracy: 0.4956\n",
      "Epoch 38/100\n",
      "159/159 [==============================] - 12s 77ms/step - loss: 0.8560 - categorical_accuracy: 0.6423 - val_loss: 1.2598 - val_categorical_accuracy: 0.5425\n",
      "Epoch 39/100\n",
      "159/159 [==============================] - 12s 77ms/step - loss: 0.8278 - categorical_accuracy: 0.6461 - val_loss: 1.2736 - val_categorical_accuracy: 0.4692\n",
      "Epoch 40/100\n",
      "159/159 [==============================] - 13s 81ms/step - loss: 0.8179 - categorical_accuracy: 0.6461 - val_loss: 1.3772 - val_categorical_accuracy: 0.4721\n",
      "Epoch 41/100\n",
      "159/159 [==============================] - 13s 79ms/step - loss: 0.7641 - categorical_accuracy: 0.6889 - val_loss: 1.4059 - val_categorical_accuracy: 0.4721\n",
      "Epoch 42/100\n",
      "159/159 [==============================] - 13s 81ms/step - loss: 0.7891 - categorical_accuracy: 0.6776 - val_loss: 1.2857 - val_categorical_accuracy: 0.4839\n",
      "Epoch 43/100\n",
      "159/159 [==============================] - 13s 79ms/step - loss: 0.7263 - categorical_accuracy: 0.7154 - val_loss: 1.4195 - val_categorical_accuracy: 0.4663\n",
      "Epoch 44/100\n",
      "159/159 [==============================] - 12s 78ms/step - loss: 0.6937 - categorical_accuracy: 0.6940 - val_loss: 1.3633 - val_categorical_accuracy: 0.4663\n",
      "Epoch 45/100\n"
     ]
    },
    {
     "name": "stdout",
     "output_type": "stream",
     "text": [
      "159/159 [==============================] - 13s 79ms/step - loss: 0.6872 - categorical_accuracy: 0.7242 - val_loss: 1.3318 - val_categorical_accuracy: 0.5044\n",
      "Epoch 46/100\n",
      "159/159 [==============================] - 12s 77ms/step - loss: 0.6351 - categorical_accuracy: 0.7443 - val_loss: 1.4116 - val_categorical_accuracy: 0.5161\n",
      "Epoch 47/100\n",
      "159/159 [==============================] - 12s 77ms/step - loss: 0.6332 - categorical_accuracy: 0.7393 - val_loss: 1.4791 - val_categorical_accuracy: 0.4692\n",
      "Epoch 48/100\n",
      "159/159 [==============================] - 12s 78ms/step - loss: 0.5793 - categorical_accuracy: 0.7645 - val_loss: 1.6674 - val_categorical_accuracy: 0.5103\n",
      "Epoch 49/100\n",
      "159/159 [==============================] - 12s 77ms/step - loss: 0.5539 - categorical_accuracy: 0.7783 - val_loss: 1.5921 - val_categorical_accuracy: 0.5044\n",
      "Epoch 50/100\n",
      "159/159 [==============================] - 12s 77ms/step - loss: 0.5169 - categorical_accuracy: 0.7997 - val_loss: 1.6912 - val_categorical_accuracy: 0.4311\n",
      "Epoch 51/100\n",
      "159/159 [==============================] - 12s 77ms/step - loss: 0.5238 - categorical_accuracy: 0.7872 - val_loss: 1.7226 - val_categorical_accuracy: 0.4839\n",
      "Epoch 52/100\n",
      "159/159 [==============================] - 12s 77ms/step - loss: 0.5041 - categorical_accuracy: 0.8023 - val_loss: 1.6199 - val_categorical_accuracy: 0.4340\n",
      "Epoch 53/100\n",
      "159/159 [==============================] - 13s 80ms/step - loss: 0.5001 - categorical_accuracy: 0.7897 - val_loss: 1.8027 - val_categorical_accuracy: 0.4604\n",
      "Epoch 54/100\n",
      "159/159 [==============================] - 12s 77ms/step - loss: 0.4258 - categorical_accuracy: 0.8325 - val_loss: 1.6792 - val_categorical_accuracy: 0.4487\n",
      "Epoch 55/100\n",
      "159/159 [==============================] - 12s 77ms/step - loss: 0.3870 - categorical_accuracy: 0.8526 - val_loss: 2.0343 - val_categorical_accuracy: 0.4721\n",
      "Epoch 56/100\n",
      "159/159 [==============================] - 12s 77ms/step - loss: 0.3703 - categorical_accuracy: 0.8690 - val_loss: 2.1554 - val_categorical_accuracy: 0.3988\n",
      "Epoch 57/100\n",
      "159/159 [==============================] - 12s 76ms/step - loss: 0.3373 - categorical_accuracy: 0.8703 - val_loss: 2.0132 - val_categorical_accuracy: 0.4545\n",
      "Epoch 58/100\n",
      "159/159 [==============================] - 12s 78ms/step - loss: 0.3504 - categorical_accuracy: 0.8652 - val_loss: 1.8935 - val_categorical_accuracy: 0.4575\n",
      "Epoch 59/100\n",
      "159/159 [==============================] - 13s 80ms/step - loss: 0.2835 - categorical_accuracy: 0.9106 - val_loss: 2.2539 - val_categorical_accuracy: 0.4751\n",
      "Epoch 60/100\n",
      "159/159 [==============================] - 13s 80ms/step - loss: 0.2505 - categorical_accuracy: 0.8980 - val_loss: 2.4394 - val_categorical_accuracy: 0.3959\n",
      "Epoch 61/100\n",
      "159/159 [==============================] - 12s 77ms/step - loss: 0.3407 - categorical_accuracy: 0.8703 - val_loss: 2.3151 - val_categorical_accuracy: 0.4516\n",
      "Epoch 62/100\n",
      "159/159 [==============================] - 12s 77ms/step - loss: 0.3030 - categorical_accuracy: 0.8929 - val_loss: 2.1337 - val_categorical_accuracy: 0.4633\n",
      "Epoch 63/100\n",
      "159/159 [==============================] - 13s 79ms/step - loss: 0.1924 - categorical_accuracy: 0.9383 - val_loss: 2.3491 - val_categorical_accuracy: 0.4839\n",
      "Epoch 64/100\n",
      "159/159 [==============================] - 12s 77ms/step - loss: 0.1711 - categorical_accuracy: 0.9358 - val_loss: 2.4414 - val_categorical_accuracy: 0.5015\n",
      "Epoch 65/100\n",
      "159/159 [==============================] - 12s 77ms/step - loss: 0.2556 - categorical_accuracy: 0.9106 - val_loss: 2.4158 - val_categorical_accuracy: 0.4751\n",
      "Epoch 66/100\n",
      "159/159 [==============================] - 12s 77ms/step - loss: 0.1519 - categorical_accuracy: 0.9458 - val_loss: 2.5226 - val_categorical_accuracy: 0.4340\n",
      "Epoch 67/100\n",
      "159/159 [==============================] - 12s 77ms/step - loss: 0.2000 - categorical_accuracy: 0.9207 - val_loss: 2.4477 - val_categorical_accuracy: 0.4721\n",
      "Epoch 68/100\n",
      "159/159 [==============================] - 12s 77ms/step - loss: 0.1975 - categorical_accuracy: 0.9421 - val_loss: 2.5747 - val_categorical_accuracy: 0.4839\n",
      "Epoch 69/100\n",
      "159/159 [==============================] - 13s 79ms/step - loss: 0.2052 - categorical_accuracy: 0.9194 - val_loss: 2.4626 - val_categorical_accuracy: 0.5015\n",
      "Epoch 70/100\n",
      "159/159 [==============================] - 12s 78ms/step - loss: 0.1328 - categorical_accuracy: 0.9597 - val_loss: 2.7546 - val_categorical_accuracy: 0.4487\n",
      "Epoch 71/100\n",
      "159/159 [==============================] - 12s 78ms/step - loss: 0.0942 - categorical_accuracy: 0.9723 - val_loss: 2.8127 - val_categorical_accuracy: 0.4809\n",
      "Epoch 72/100\n",
      "159/159 [==============================] - 12s 77ms/step - loss: 0.0891 - categorical_accuracy: 0.9736 - val_loss: 3.2055 - val_categorical_accuracy: 0.4780\n",
      "Epoch 73/100\n",
      "159/159 [==============================] - 12s 77ms/step - loss: 0.0619 - categorical_accuracy: 0.9861 - val_loss: 3.0976 - val_categorical_accuracy: 0.4721\n",
      "Epoch 74/100\n",
      "159/159 [==============================] - 13s 79ms/step - loss: 0.2402 - categorical_accuracy: 0.9169 - val_loss: 2.5833 - val_categorical_accuracy: 0.4839\n",
      "Epoch 75/100\n",
      "159/159 [==============================] - 13s 81ms/step - loss: 0.1863 - categorical_accuracy: 0.9395 - val_loss: 2.7067 - val_categorical_accuracy: 0.4751\n",
      "Epoch 76/100\n",
      "159/159 [==============================] - 13s 80ms/step - loss: 0.0933 - categorical_accuracy: 0.9736 - val_loss: 2.8801 - val_categorical_accuracy: 0.4370\n",
      "Epoch 77/100\n",
      "159/159 [==============================] - 12s 77ms/step - loss: 0.0445 - categorical_accuracy: 0.9912 - val_loss: 3.0977 - val_categorical_accuracy: 0.4633\n",
      "Epoch 78/100\n",
      "159/159 [==============================] - 13s 80ms/step - loss: 0.0498 - categorical_accuracy: 0.9849 - val_loss: 3.1445 - val_categorical_accuracy: 0.4545\n",
      "Epoch 79/100\n",
      "159/159 [==============================] - 13s 80ms/step - loss: 0.1105 - categorical_accuracy: 0.9710 - val_loss: 3.3754 - val_categorical_accuracy: 0.4311\n",
      "Epoch 80/100\n",
      "159/159 [==============================] - 12s 77ms/step - loss: 0.1252 - categorical_accuracy: 0.9660 - val_loss: 3.3237 - val_categorical_accuracy: 0.4282\n",
      "Epoch 81/100\n",
      "159/159 [==============================] - 13s 81ms/step - loss: 0.1561 - categorical_accuracy: 0.9433 - val_loss: 3.1253 - val_categorical_accuracy: 0.4721\n",
      "Epoch 82/100\n",
      "159/159 [==============================] - 12s 77ms/step - loss: 0.1140 - categorical_accuracy: 0.9622 - val_loss: 3.2903 - val_categorical_accuracy: 0.4487\n",
      "Epoch 83/100\n",
      "159/159 [==============================] - 12s 78ms/step - loss: 0.1490 - categorical_accuracy: 0.9521 - val_loss: 3.1072 - val_categorical_accuracy: 0.4721\n",
      "Epoch 84/100\n",
      "159/159 [==============================] - 12s 77ms/step - loss: 0.1139 - categorical_accuracy: 0.9647 - val_loss: 3.1198 - val_categorical_accuracy: 0.4194\n",
      "Epoch 85/100\n",
      "159/159 [==============================] - 12s 78ms/step - loss: 0.0837 - categorical_accuracy: 0.9811 - val_loss: 3.2390 - val_categorical_accuracy: 0.4311\n",
      "Epoch 86/100\n",
      "159/159 [==============================] - 13s 80ms/step - loss: 0.0758 - categorical_accuracy: 0.9761 - val_loss: 3.3115 - val_categorical_accuracy: 0.4575\n",
      "Epoch 87/100\n",
      "159/159 [==============================] - 13s 79ms/step - loss: 0.0464 - categorical_accuracy: 0.9861 - val_loss: 3.2848 - val_categorical_accuracy: 0.4751\n",
      "Epoch 88/100\n",
      "159/159 [==============================] - 13s 81ms/step - loss: 0.0373 - categorical_accuracy: 0.9912 - val_loss: 3.4555 - val_categorical_accuracy: 0.4516\n",
      "Epoch 89/100\n",
      "159/159 [==============================] - 12s 78ms/step - loss: 0.0462 - categorical_accuracy: 0.9887 - val_loss: 3.5774 - val_categorical_accuracy: 0.4545\n",
      "Epoch 90/100\n",
      "159/159 [==============================] - 12s 77ms/step - loss: 0.0405 - categorical_accuracy: 0.9887 - val_loss: 3.4068 - val_categorical_accuracy: 0.4311\n",
      "Epoch 91/100\n",
      "159/159 [==============================] - 13s 79ms/step - loss: 0.0328 - categorical_accuracy: 0.9950 - val_loss: 3.7281 - val_categorical_accuracy: 0.4604\n",
      "Epoch 92/100\n",
      "159/159 [==============================] - 13s 79ms/step - loss: 0.0350 - categorical_accuracy: 0.9899 - val_loss: 3.7201 - val_categorical_accuracy: 0.4457\n",
      "Epoch 93/100\n"
     ]
    },
    {
     "name": "stdout",
     "output_type": "stream",
     "text": [
      "159/159 [==============================] - 13s 79ms/step - loss: 0.1932 - categorical_accuracy: 0.9446 - val_loss: 3.1227 - val_categorical_accuracy: 0.4751\n",
      "Epoch 94/100\n",
      "159/159 [==============================] - 13s 84ms/step - loss: 0.3339 - categorical_accuracy: 0.9030 - val_loss: 2.7225 - val_categorical_accuracy: 0.4370\n",
      "Epoch 95/100\n",
      "159/159 [==============================] - 13s 84ms/step - loss: 0.0891 - categorical_accuracy: 0.9673 - val_loss: 2.9218 - val_categorical_accuracy: 0.4604\n",
      "Epoch 96/100\n",
      "159/159 [==============================] - 12s 78ms/step - loss: 0.0703 - categorical_accuracy: 0.9786 - val_loss: 3.0483 - val_categorical_accuracy: 0.4399\n",
      "Epoch 97/100\n",
      "159/159 [==============================] - 12s 78ms/step - loss: 0.0322 - categorical_accuracy: 0.9937 - val_loss: 3.1991 - val_categorical_accuracy: 0.4428\n",
      "Epoch 98/100\n",
      "159/159 [==============================] - 13s 79ms/step - loss: 0.0249 - categorical_accuracy: 0.9950 - val_loss: 3.2795 - val_categorical_accuracy: 0.4516\n",
      "Epoch 99/100\n",
      "159/159 [==============================] - 13s 81ms/step - loss: 0.0199 - categorical_accuracy: 0.9962 - val_loss: 3.4599 - val_categorical_accuracy: 0.4399\n",
      "Epoch 100/100\n",
      "159/159 [==============================] - 13s 80ms/step - loss: 0.0153 - categorical_accuracy: 0.9950 - val_loss: 3.6393 - val_categorical_accuracy: 0.4516\n"
     ]
    }
   ],
   "source": [
    "history = model.fit(X_train, y_train, \n",
    "                    batch_size=batch_size, \n",
    "                    epochs=epochs, \n",
    "                    validation_data=(X_val, y_val), \n",
    "                    verbose=1, \n",
    "                    callbacks=[tensorboard_call])"
   ]
  },
  {
   "cell_type": "code",
   "execution_count": 18,
   "metadata": {},
   "outputs": [
    {
     "name": "stdout",
     "output_type": "stream",
     "text": [
      "57/57 [==============================] - 1s 14ms/step - loss: 3.0255 - categorical_accuracy: 0.4859\n",
      "test loss, test acc: [3.0254523754119873, 0.48591548204421997]\n"
     ]
    }
   ],
   "source": [
    "#evaluate model on test set\n",
    "results = model.evaluate(X_test, y_test, batch_size=test_batch_size, verbose=1)\n",
    "print(\"test loss, test acc:\", results)"
   ]
  },
  {
   "cell_type": "code",
   "execution_count": 19,
   "metadata": {},
   "outputs": [
    {
     "data": {
      "image/png": "[encoded data removed]",
      "text/plain": [
       "<Figure size 432x288 with 1 Axes>"
      ]
     },
     "metadata": {
      "needs_background": "light"
     },
     "output_type": "display_data"
    }
   ],
   "source": [
    "#summarize history for accuracy\n",
    "plt.plot(history.history[(list(history.history.keys())[1])])\n",
    "plt.plot(history.history[(list(history.history.keys())[3])])\n",
    "plt.title('model accuracy')\n",
    "plt.ylabel('accuracy')\n",
    "plt.xlabel('epoch')\n",
    "plt.legend(['train', 'val'], loc='upper left')\n",
    "plt.show()"
   ]
  },
  {
   "cell_type": "code",
   "execution_count": 20,
   "metadata": {},
   "outputs": [
    {
     "data": {
      "image/png": "[encoded data removed]",
      "text/plain": [
       "<Figure size 432x288 with 1 Axes>"
      ]
     },
     "metadata": {
      "needs_background": "light"
     },
     "output_type": "display_data"
    }
   ],
   "source": [
    "#summarize history for loss\n",
    "plt.plot(history.history[(list(history.history.keys())[0])])\n",
    "plt.plot(history.history[(list(history.history.keys())[2])])\n",
    "plt.title('model loss')\n",
    "plt.ylabel('loss')\n",
    "plt.xlabel('epoch')\n",
    "plt.legend(['train', 'val'], loc='upper left')\n",
    "plt.show()"
   ]
  },
  {
   "cell_type": "code",
   "execution_count": 21,
   "metadata": {},
   "outputs": [
    {
     "name": "stdout",
     "output_type": "stream",
     "text": [
      "predictions: [[5.9839604e-05 7.2200261e-02 8.1416554e-05 9.2758155e-01 7.6936609e-05]\n",
      " [4.0830860e-06 5.0941278e-04 9.4608106e-03 9.8928660e-01 7.3905109e-04]\n",
      " [5.6127665e-06 6.3630672e-05 1.3159935e-06 9.9990332e-01 2.6121175e-05]\n",
      " ...\n",
      " [2.3083085e-06 1.3256986e-05 2.5993904e-08 9.9998355e-01 7.7957327e-07]\n",
      " [2.8046542e-03 9.8927081e-01 5.4494094e-04 9.5525436e-05 7.2840634e-03]\n",
      " [4.9174286e-04 6.3631587e-02 1.8310739e-05 9.3583280e-01 2.5602620e-05]]\n"
     ]
    }
   ],
   "source": [
    "#generate predictions\n",
    "predictions = model.predict(X_test)\n",
    "print(\"predictions:\", predictions)"
   ]
  },
  {
   "cell_type": "code",
   "execution_count": 22,
   "metadata": {},
   "outputs": [
    {
     "name": "stdout",
     "output_type": "stream",
     "text": [
      "['N' 'N' 'N' 'N' 'N' 'N' 'N' 'N' 'N' 'C' 'C' 'C' 'N' 'M' 'N' 'N' 'C' 'N'\n",
      " 'C' 'N' 'N' 'C' 'N' 'C' 'C' 'C' 'N' 'N' 'N' 'N' 'N' 'N' 'N' 'N' 'N' 'N'\n",
      " 'C' 'N' 'N' 'N' 'C' 'B' 'C' 'C' 'N' 'C' 'C' 'N' 'N' 'N' 'N' 'C' 'C' 'M'\n",
      " 'N' 'N' 'C' 'M' 'C' 'C' 'N' 'N' 'C' 'C' 'M' 'N' 'N' 'N' 'C' 'C' 'C' 'N'\n",
      " 'N' 'C' 'N' 'N' 'N' 'B' 'M' 'N' 'C' 'N' 'C' 'N' 'N' 'N' 'C' 'N' 'C' 'C'\n",
      " 'N' 'B' 'N' 'N' 'C' 'N' 'C' 'N' 'M' 'N' 'N' 'N' 'N' 'C' 'N' 'C' 'N' 'N'\n",
      " 'N' 'N' 'B' 'N' 'N' 'N' 'N' 'C' 'C' 'C' 'C' 'C' 'M' 'N' 'C' 'N' 'N' 'C'\n",
      " 'N' 'N' 'M' 'N' 'N' 'M' 'C' 'C' 'M' 'N' 'N' 'C' 'C' 'B' 'N' 'C' 'N' 'N'\n",
      " 'N' 'N' 'N' 'B' 'N' 'N' 'N' 'N' 'N' 'N' 'C' 'C' 'C' 'N' 'N' 'N' 'N' 'C'\n",
      " 'N' 'N' 'N' 'C' 'N' 'C' 'N' 'N' 'M' 'N' 'B' 'N' 'C' 'N' 'N' 'C' 'N' 'N'\n",
      " 'C' 'N' 'N' 'N' 'N' 'C' 'M' 'M' 'C' 'N' 'N' 'C' 'N' 'N' 'N' 'B' 'N' 'N'\n",
      " 'C' 'N' 'N' 'M' 'N' 'N' 'N' 'N' 'N' 'N' 'N' 'N' 'C' 'N' 'N' 'N' 'C' 'N'\n",
      " 'C' 'C' 'C' 'N' 'C' 'N' 'C' 'N' 'N' 'N' 'C' 'N' 'N' 'N' 'C' 'C' 'X' 'N'\n",
      " 'N' 'N' 'N' 'N' 'M' 'N' 'N' 'N' 'N' 'N' 'N' 'M' 'N' 'C' 'N' 'N' 'C' 'C'\n",
      " 'N' 'N' 'N' 'N' 'M' 'N' 'C' 'C' 'C' 'C' 'N' 'C' 'M' 'C' 'B' 'C' 'N' 'N'\n",
      " 'N' 'N' 'N' 'C' 'C' 'N' 'N' 'C' 'N' 'N' 'N' 'N' 'C' 'N']\n"
     ]
    }
   ],
   "source": [
    "#remove encoding\n",
    "real_predictions_B = a_encoder.inverse_transform(predictions)\n",
    "print(real_predictions_B)"
   ]
  },
  {
   "cell_type": "code",
   "execution_count": 23,
   "metadata": {},
   "outputs": [
    {
     "data": {
      "text/plain": [
       "{'B': 9, 'C': 84, 'M': 18, 'N': 172, 'X': 1}"
      ]
     },
     "execution_count": 23,
     "metadata": {},
     "output_type": "execute_result"
    }
   ],
   "source": [
    "#prediction counts\n",
    "unique, counts = np.unique(real_predictions_B, return_counts=True)\n",
    "dict(zip(unique, counts))"
   ]
  },
  {
   "cell_type": "code",
   "execution_count": 24,
   "metadata": {},
   "outputs": [
    {
     "name": "stdout",
     "output_type": "stream",
     "text": [
      "['C' 'N' 'N' 'N' 'N' 'N' 'N' 'N' 'B' 'N' 'N' 'C' 'C' 'M' 'C' 'C' 'N' 'N'\n",
      " 'X' 'C' 'N' 'N' 'N' 'M' 'N' 'M' 'M' 'C' 'N' 'N' 'N' 'M' 'N' 'C' 'N' 'N'\n",
      " 'C' 'C' 'C' 'M' 'C' 'N' 'N' 'C' 'N' 'N' 'N' 'N' 'X' 'N' 'N' 'M' 'N' 'M'\n",
      " 'C' 'C' 'C' 'M' 'N' 'C' 'N' 'C' 'N' 'N' 'N' 'C' 'C' 'N' 'M' 'C' 'M' 'C'\n",
      " 'N' 'C' 'M' 'N' 'N' 'C' 'N' 'N' 'N' 'C' 'C' 'N' 'N' 'N' 'B' 'N' 'N' 'N'\n",
      " 'N' 'N' 'C' 'N' 'C' 'N' 'M' 'N' 'N' 'C' 'N' 'N' 'N' 'C' 'M' 'B' 'B' 'N'\n",
      " 'N' 'N' 'N' 'N' 'N' 'N' 'C' 'N' 'N' 'C' 'N' 'N' 'M' 'N' 'B' 'N' 'C' 'C'\n",
      " 'N' 'N' 'C' 'N' 'N' 'C' 'C' 'N' 'N' 'N' 'N' 'M' 'N' 'C' 'C' 'N' 'C' 'C'\n",
      " 'C' 'N' 'C' 'C' 'N' 'N' 'N' 'C' 'N' 'M' 'N' 'N' 'M' 'N' 'B' 'C' 'N' 'C'\n",
      " 'N' 'N' 'C' 'N' 'C' 'M' 'N' 'N' 'N' 'N' 'N' 'B' 'N' 'N' 'N' 'C' 'C' 'B'\n",
      " 'B' 'C' 'N' 'N' 'N' 'N' 'M' 'N' 'N' 'N' 'N' 'C' 'N' 'N' 'N' 'C' 'N' 'C'\n",
      " 'N' 'C' 'N' 'N' 'C' 'C' 'C' 'N' 'M' 'N' 'N' 'X' 'M' 'N' 'N' 'N' 'C' 'N'\n",
      " 'C' 'M' 'N' 'M' 'C' 'N' 'C' 'C' 'N' 'N' 'N' 'N' 'C' 'C' 'C' 'C' 'C' 'N'\n",
      " 'C' 'N' 'C' 'C' 'C' 'M' 'N' 'C' 'B' 'N' 'N' 'C' 'C' 'C' 'N' 'N' 'C' 'C'\n",
      " 'C' 'N' 'C' 'N' 'M' 'C' 'B' 'N' 'C' 'C' 'C' 'N' 'N' 'N' 'N' 'B' 'N' 'N'\n",
      " 'N' 'N' 'C' 'B' 'N' 'N' 'N' 'N' 'N' 'C' 'N' 'N' 'B' 'B']\n"
     ]
    }
   ],
   "source": [
    "#y_test predictions\n",
    "ytest_predictions = a_encoder.inverse_transform(y_test)\n",
    "print(ytest_predictions)"
   ]
  },
  {
   "cell_type": "code",
   "execution_count": 36,
   "metadata": {},
   "outputs": [
    {
     "data": {
      "image/png": "[encoded data removed]",
      "text/plain": [
       "<Figure size 432x288 with 2 Axes>"
      ]
     },
     "metadata": {
      "needs_background": "light"
     },
     "output_type": "display_data"
    }
   ],
   "source": [
    "#confusion matrix\n",
    "matrix = confusion_matrix(ytest_predictions, real_predictions_B)\n",
    "#format confusion matrix\n",
    "ax=plt.subplot()\n",
    "sns.heatmap(matrix, annot=True, ax = ax, cmap='Blues', fmt='g');\n",
    "accuracy = np.trace(matrix) / np.sum(matrix).astype('float')\n",
    "misclass = 1 - accuracy\n",
    "ax.set_xlabel('Predicted label\\naccuracy={:0.4f}; misclass={:0.4f}'.format(accuracy, misclass));\n",
    "ax.set_ylabel('True labels'); \n",
    "ax.set_title('Confusion Matrix');\n",
    "ax.xaxis.set_ticklabels(unique); ax.yaxis.set_ticklabels(unique);"
   ]
  },
  {
   "cell_type": "code",
   "execution_count": null,
   "metadata": {},
   "outputs": [],
   "source": []
  }
 ],
 "metadata": {
  "kernelspec": {
   "display_name": "Python 3",
   "language": "python",
   "name": "python3"
  },
  "language_info": {
   "codemirror_mode": {
    "name": "ipython",
    "version": 3
   },
   "file_extension": ".py",
   "mimetype": "text/x-python",
   "name": "python",
   "nbconvert_exporter": "python",
   "pygments_lexer": "ipython3",
   "version": "3.8.3"
  }
 },
 "nbformat": 4,
 "nbformat_minor": 4
}
