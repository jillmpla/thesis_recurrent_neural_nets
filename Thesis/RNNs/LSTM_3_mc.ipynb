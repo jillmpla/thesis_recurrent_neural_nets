{
 "cells": [
  {
   "cell_type": "code",
   "execution_count": 1,
   "metadata": {},
   "outputs": [],
   "source": [
    "#tensorboard via command-line:\n",
    "#tensorboard --logdir=where your Logs directory is"
   ]
  },
  {
   "cell_type": "code",
   "execution_count": 2,
   "metadata": {},
   "outputs": [],
   "source": [
    "#~~~~~~~~~~~~~~~~~~~~~~~~~~~~~~~~~~~~~~~~~~~~~~~~~~~~~~~~~~~~~~~~~~~~~~~~~~~~~~~~~~~~~~~~~~~~~~~~~~~~~~~#\n",
    "#What is the maximum flare class produced by an AR in the next 24hrs after a 24hr time sequence?\n",
    "#~~~~~~~~~~~~~~~~~~~~~~~~~~~~~~~~~~~~~~~~~~~~~~~~~~~~~~~~~~~~~~~~~~~~~~~~~~~~~~~~~~~~~~~~~~~~~~~~~~~~~~~#\n",
    "#feature data from - hmi.sharp_720s:::\n",
    "#http://jsoc.stanford.edu/doc/data/hmi/sharp/sharp.htm\n",
    "\n",
    "#label data from - GOES flare events:::\n",
    "#ftp://ftp.swpc.noaa.gov/pub/warehouse/\n",
    "\n",
    "#and from - GOES XRS Report:::\n",
    "#https://www.ngdc.noaa.gov/stp/space-weather/solar-data/solar-features/solar-flares/x-rays/goes/xrs/\n",
    "#~~~~~~~~~~~~~~~~~~~~~~~~~~~~~~~~~~~~~~~~~~~~~~~~~~~~~~~~~~~~~~~~~~~~~~~~~~~~~~~~~~~~~~~~~~~~~~~~~~~~~~~#\n",
    "#binary class - F for flare and N for no flare\n",
    "#multi-class - #6 flare classes: N is no flare, A is smallest, X is largest\n",
    "               #key = {'N', 'A', 'B', 'C', 'M', 'X'}\n",
    "               #['A' class flares generally not listed in official reports due to small size]\n",
    "#~~~~~~~~~~~~~~~~~~~~~~~~~~~~~~~~~~~~~~~~~~~~~~~~~~~~~~~~~~~~~~~~~~~~~~~~~~~~~~~~~~~~~~~~~~~~~~~~~~~~~~~#"
   ]
  },
  {
   "cell_type": "code",
   "execution_count": 3,
   "metadata": {},
   "outputs": [
    {
     "name": "stdout",
     "output_type": "stream",
     "text": [
      "tensorflow version: 2.3.1\n"
     ]
    }
   ],
   "source": [
    "import tensorflow as tf\n",
    "print(\"tensorflow version:\", tf.__version__) #2.3.1 used\n",
    "from tensorflow import keras\n",
    "import os\n",
    "import glob\n",
    "import shutil\n",
    "import datetime\n",
    "import numpy as np\n",
    "import pandas as pd\n",
    "import seaborn as sns\n",
    "from pathlib import Path\n",
    "from astropy.time import Time\n",
    "from matplotlib import pyplot as plt\n",
    "from sklearn.metrics import f1_score, precision_score, recall_score, classification_report, confusion_matrix\n",
    "from sklearn.metrics import plot_confusion_matrix\n",
    "from sklearn.preprocessing import LabelBinarizer\n",
    "from sklearn.model_selection import train_test_split\n",
    "from sklearn.preprocessing import MinMaxScaler\n",
    "from tensorflow.keras.layers import Dropout, Dense, SimpleRNN, LSTM, GRU, GaussianNoise\n",
    "from tensorflow.keras.models import Model, Sequential\n",
    "from tensorflow.keras.optimizers import SGD, RMSprop, Adam\n",
    "import drms #https://pypi.org/project/drms/\n",
    "#~~~~~~~~~~~~~~~~~~~~~~~~~~~~~~~~~~~~~~~~~~~~~~~~~~~~~~~~~~~~~~~~~~~~~~~~~~~~~~~~~~~~~~~~~~~~~~~~~~~~~~~#\n",
    "import Flare_Data\n",
    "import Feature_Years\n",
    "import Make_TB_Logs\n",
    "#~~~~~~~~~~~~~~~~~~~~~~~~~~~~~~~~~~~~~~~~~~~~~~~~~~~~~~~~~~~~~~~~~~~~~~~~~~~~~~~~~~~~~~~~~~~~~~~~~~~~~~~#"
   ]
  },
  {
   "cell_type": "code",
   "execution_count": 4,
   "metadata": {},
   "outputs": [
    {
     "name": "stdout",
     "output_type": "stream",
     "text": [
      "CSVs compiled.\n"
     ]
    }
   ],
   "source": [
    "Feature_Years.generate_all_feature_years()"
   ]
  },
  {
   "cell_type": "code",
   "execution_count": 5,
   "metadata": {},
   "outputs": [],
   "source": [
    "where_logs = Make_TB_Logs.make_clear_tensorboard_folder()"
   ]
  },
  {
   "cell_type": "code",
   "execution_count": 6,
   "metadata": {},
   "outputs": [
    {
     "name": "stdout",
     "output_type": "stream",
     "text": [
      "The time series starts from:  2011-01-01 00:11:26\n",
      "The time series ends on:  2016-12-31 23:47:24\n",
      "(array(['B', 'C', 'M'], dtype='<U1'), array([167, 147, 155], dtype=int64))\n"
     ]
    }
   ],
   "source": [
    "#binary = True for binary classification, binary = False for multi-class classification\n",
    "X_train, X_val, X_test, y_train, y_val, y_test, tim_steps, n_feats, count_of_classes, a_encoder = Flare_Data.getAllData(binary = False)"
   ]
  },
  {
   "cell_type": "code",
   "execution_count": 7,
   "metadata": {},
   "outputs": [
    {
     "name": "stdout",
     "output_type": "stream",
     "text": [
      "(300, 114, 20) (75, 114, 20) (94, 114, 20) (300, 3) (75, 3) (94, 3)\n"
     ]
    }
   ],
   "source": [
    "print(X_train.shape, X_val.shape, X_test.shape, y_train.shape, y_val.shape, y_test.shape)"
   ]
  },
  {
   "cell_type": "code",
   "execution_count": 8,
   "metadata": {},
   "outputs": [],
   "source": [
    "#~~~~~~~~~~~~~~~~~~~~~~~~~~~~~~~~~~~~~~~~~~~~~~~~~~~~~~~~~~~~~~~~~~~~~~~~~~~~~~~~~~~~~~~~~~~~~~~~~~~~~~~~~~#\n",
    "#~~~~~~~~~~~~~~~~~~~~~~~~~~~~~~~~~~~~~~~~~~~~~~~~~~~~~~~~~~~~~~~~~~~~~~~~~~~~~~~~~~~~~~~~~~~~~~~~~~~~~~~~~~#"
   ]
  },
  {
   "cell_type": "code",
   "execution_count": 9,
   "metadata": {},
   "outputs": [],
   "source": [
    "batch_size = 10\n",
    "epochs = 100\n",
    "optimizer = Adam(lr=0.0001, beta_1=0.9, beta_2=0.999, epsilon=1e-06, decay=0.0)"
   ]
  },
  {
   "cell_type": "code",
   "execution_count": 10,
   "metadata": {},
   "outputs": [],
   "source": [
    "#~~~~~~~~~~~~~~~~~~~~~~~~~~~~~~~~~~~~~~~~~[LSTM_3 Model]~~~~~~~~~~~~~~~~~~~~~~~~~~~~~~~~~~~~~~~~~~~~~~~~~~~#\n",
    "#~~~~~~~~~~~~~~~~~~~~~~~~~~~~~~~~~~~~~~~~~[Multi-Class]~~~~~~~~~~~~~~~~~~~~~~~~~~~~~~~~~~~~~~~~~~~~~~~~~~~~#\n",
    "#~~~~~~~~~~~~~~~~~~~~~~~~~~~~~~~~~~~~~~~~~[Single Layer]~~~~~~~~~~~~~~~~~~~~~~~~~~~~~~~~~~~~~~~~~~~~~~~~~~~#\n",
    "model = Sequential()\n",
    "model.add(LSTM(32, input_shape=(tim_steps, n_feats)))\n",
    "model.add(GaussianNoise(0.01))\n",
    "model.add(Dropout(0.1))\n",
    "model.add(Dense(count_of_classes, activation='softmax'))\n",
    "model.compile(loss='categorical_crossentropy', optimizer=optimizer, metrics=['categorical_accuracy'])\n",
    "#~~~~~~~~~~~~~~~~~~~~~~~~~~~~~~~~~~~~~~~~~~~~~~~~~~~~~~~~~~~~~~~~~~~~~~~~~~~~~~~~~~~~~~~~~~~~~~~~~~~~~~~~~~#\n",
    "#~~~~~~~~~~~~~~~~~~~~~~~~~~~~~~~~~~~~~~~~~~~~~~~~~~~~~~~~~~~~~~~~~~~~~~~~~~~~~~~~~~~~~~~~~~~~~~~~~~~~~~~~~~#"
   ]
  },
  {
   "cell_type": "code",
   "execution_count": 11,
   "metadata": {},
   "outputs": [
    {
     "name": "stdout",
     "output_type": "stream",
     "text": [
      "Model: \"sequential\"\n",
      "_________________________________________________________________\n",
      "Layer (type)                 Output Shape              Param #   \n",
      "=================================================================\n",
      "lstm (LSTM)                  (None, 32)                6784      \n",
      "_________________________________________________________________\n",
      "gaussian_noise (GaussianNois (None, 32)                0         \n",
      "_________________________________________________________________\n",
      "dropout (Dropout)            (None, 32)                0         \n",
      "_________________________________________________________________\n",
      "dense (Dense)                (None, 3)                 99        \n",
      "=================================================================\n",
      "Total params: 6,883\n",
      "Trainable params: 6,883\n",
      "Non-trainable params: 0\n",
      "_________________________________________________________________\n"
     ]
    }
   ],
   "source": [
    "model.summary()"
   ]
  },
  {
   "cell_type": "code",
   "execution_count": 12,
   "metadata": {},
   "outputs": [],
   "source": [
    "tensorboard_call = keras.callbacks.TensorBoard(log_dir=where_logs, histogram_freq=1)\n",
    "#val_loss_callback = tf.keras.callbacks.EarlyStopping(monitor='val_loss', patience=10)"
   ]
  },
  {
   "cell_type": "code",
   "execution_count": 13,
   "metadata": {},
   "outputs": [
    {
     "name": "stdout",
     "output_type": "stream",
     "text": [
      "Epoch 1/100\n",
      " 1/30 [>.............................] - ETA: 0s - loss: 1.1105 - categorical_accuracy: 0.4000WARNING:tensorflow:From C:\\ProgramData\\Anaconda3\\lib\\site-packages\\tensorflow\\python\\ops\\summary_ops_v2.py:1277: stop (from tensorflow.python.eager.profiler) is deprecated and will be removed after 2020-07-01.\n",
      "Instructions for updating:\n",
      "use `tf.profiler.experimental.stop` instead.\n",
      " 2/30 [=>............................] - ETA: 3s - loss: 1.1492 - categorical_accuracy: 0.3500WARNING:tensorflow:Callbacks method `on_train_batch_end` is slow compared to the batch time (batch time: 0.0210s vs `on_train_batch_end` time: 0.2179s). Check your callbacks.\n",
      "30/30 [==============================] - 1s 43ms/step - loss: 1.1343 - categorical_accuracy: 0.3267 - val_loss: 1.1191 - val_categorical_accuracy: 0.3200\n",
      "Epoch 2/100\n",
      "30/30 [==============================] - 1s 18ms/step - loss: 1.1160 - categorical_accuracy: 0.3433 - val_loss: 1.1086 - val_categorical_accuracy: 0.3200\n",
      "Epoch 3/100\n",
      "30/30 [==============================] - 1s 18ms/step - loss: 1.1021 - categorical_accuracy: 0.3467 - val_loss: 1.1029 - val_categorical_accuracy: 0.3200\n",
      "Epoch 4/100\n",
      "30/30 [==============================] - 0s 16ms/step - loss: 1.0972 - categorical_accuracy: 0.3400 - val_loss: 1.1007 - val_categorical_accuracy: 0.3333\n",
      "Epoch 5/100\n",
      "30/30 [==============================] - 1s 19ms/step - loss: 1.1024 - categorical_accuracy: 0.3467 - val_loss: 1.0990 - val_categorical_accuracy: 0.2800\n",
      "Epoch 6/100\n",
      "30/30 [==============================] - 1s 18ms/step - loss: 1.0980 - categorical_accuracy: 0.3467 - val_loss: 1.0986 - val_categorical_accuracy: 0.2933\n",
      "Epoch 7/100\n",
      "30/30 [==============================] - 1s 17ms/step - loss: 1.1003 - categorical_accuracy: 0.3667 - val_loss: 1.0979 - val_categorical_accuracy: 0.2933\n",
      "Epoch 8/100\n",
      "30/30 [==============================] - 1s 17ms/step - loss: 1.1008 - categorical_accuracy: 0.3333 - val_loss: 1.0973 - val_categorical_accuracy: 0.3200\n",
      "Epoch 9/100\n",
      "30/30 [==============================] - 1s 18ms/step - loss: 1.0959 - categorical_accuracy: 0.3633 - val_loss: 1.0968 - val_categorical_accuracy: 0.3067\n",
      "Epoch 10/100\n",
      "30/30 [==============================] - 1s 17ms/step - loss: 1.0930 - categorical_accuracy: 0.3633 - val_loss: 1.0967 - val_categorical_accuracy: 0.3200\n",
      "Epoch 11/100\n",
      "30/30 [==============================] - 0s 16ms/step - loss: 1.0964 - categorical_accuracy: 0.3667 - val_loss: 1.0968 - val_categorical_accuracy: 0.3200\n",
      "Epoch 12/100\n",
      "30/30 [==============================] - 1s 18ms/step - loss: 1.1005 - categorical_accuracy: 0.3700 - val_loss: 1.0966 - val_categorical_accuracy: 0.3333\n",
      "Epoch 13/100\n",
      "30/30 [==============================] - 1s 19ms/step - loss: 1.0993 - categorical_accuracy: 0.3300 - val_loss: 1.0962 - val_categorical_accuracy: 0.3333\n",
      "Epoch 14/100\n",
      "30/30 [==============================] - 1s 18ms/step - loss: 1.1004 - categorical_accuracy: 0.3733 - val_loss: 1.0962 - val_categorical_accuracy: 0.3600\n",
      "Epoch 15/100\n",
      "30/30 [==============================] - 1s 18ms/step - loss: 1.0991 - categorical_accuracy: 0.3500 - val_loss: 1.0962 - val_categorical_accuracy: 0.3467\n",
      "Epoch 16/100\n",
      "30/30 [==============================] - 1s 20ms/step - loss: 1.0957 - categorical_accuracy: 0.3400 - val_loss: 1.0959 - val_categorical_accuracy: 0.4133\n",
      "Epoch 17/100\n",
      "30/30 [==============================] - 1s 18ms/step - loss: 1.0935 - categorical_accuracy: 0.3833 - val_loss: 1.0958 - val_categorical_accuracy: 0.3600\n",
      "Epoch 18/100\n",
      "30/30 [==============================] - 0s 16ms/step - loss: 1.0939 - categorical_accuracy: 0.3767 - val_loss: 1.0960 - val_categorical_accuracy: 0.3733\n",
      "Epoch 19/100\n",
      "30/30 [==============================] - 1s 19ms/step - loss: 1.0923 - categorical_accuracy: 0.3533 - val_loss: 1.0959 - val_categorical_accuracy: 0.4000\n",
      "Epoch 20/100\n",
      "30/30 [==============================] - 1s 19ms/step - loss: 1.0884 - categorical_accuracy: 0.4067 - val_loss: 1.0955 - val_categorical_accuracy: 0.4267\n",
      "Epoch 21/100\n",
      "30/30 [==============================] - 1s 17ms/step - loss: 1.0899 - categorical_accuracy: 0.3967 - val_loss: 1.0958 - val_categorical_accuracy: 0.3333\n",
      "Epoch 22/100\n",
      "30/30 [==============================] - 0s 16ms/step - loss: 1.0961 - categorical_accuracy: 0.3500 - val_loss: 1.0956 - val_categorical_accuracy: 0.4267\n",
      "Epoch 23/100\n",
      "30/30 [==============================] - 1s 19ms/step - loss: 1.0876 - categorical_accuracy: 0.4067 - val_loss: 1.0956 - val_categorical_accuracy: 0.3600\n",
      "Epoch 24/100\n",
      "30/30 [==============================] - 1s 18ms/step - loss: 1.0930 - categorical_accuracy: 0.3733 - val_loss: 1.0954 - val_categorical_accuracy: 0.3600\n",
      "Epoch 25/100\n",
      "30/30 [==============================] - 1s 17ms/step - loss: 1.0936 - categorical_accuracy: 0.3800 - val_loss: 1.0954 - val_categorical_accuracy: 0.4000\n",
      "Epoch 26/100\n",
      "30/30 [==============================] - 1s 17ms/step - loss: 1.0899 - categorical_accuracy: 0.3600 - val_loss: 1.0953 - val_categorical_accuracy: 0.4000\n",
      "Epoch 27/100\n",
      "30/30 [==============================] - 1s 19ms/step - loss: 1.0938 - categorical_accuracy: 0.3400 - val_loss: 1.0955 - val_categorical_accuracy: 0.3067\n",
      "Epoch 28/100\n",
      "30/30 [==============================] - 1s 17ms/step - loss: 1.0919 - categorical_accuracy: 0.3633 - val_loss: 1.0955 - val_categorical_accuracy: 0.4133\n",
      "Epoch 29/100\n",
      "30/30 [==============================] - 0s 16ms/step - loss: 1.0871 - categorical_accuracy: 0.3933 - val_loss: 1.0954 - val_categorical_accuracy: 0.3333\n",
      "Epoch 30/100\n",
      "30/30 [==============================] - 1s 18ms/step - loss: 1.0904 - categorical_accuracy: 0.3800 - val_loss: 1.0957 - val_categorical_accuracy: 0.3200\n",
      "Epoch 31/100\n",
      "30/30 [==============================] - 1s 19ms/step - loss: 1.0809 - categorical_accuracy: 0.4033 - val_loss: 1.0955 - val_categorical_accuracy: 0.3600\n",
      "Epoch 32/100\n",
      "30/30 [==============================] - 1s 20ms/step - loss: 1.0821 - categorical_accuracy: 0.3833 - val_loss: 1.0957 - val_categorical_accuracy: 0.3467\n",
      "Epoch 33/100\n",
      "30/30 [==============================] - 1s 19ms/step - loss: 1.0825 - categorical_accuracy: 0.4133 - val_loss: 1.0957 - val_categorical_accuracy: 0.3867\n",
      "Epoch 34/100\n",
      "30/30 [==============================] - 1s 20ms/step - loss: 1.0904 - categorical_accuracy: 0.3600 - val_loss: 1.0958 - val_categorical_accuracy: 0.3867\n",
      "Epoch 35/100\n",
      "30/30 [==============================] - 1s 19ms/step - loss: 1.0863 - categorical_accuracy: 0.4200 - val_loss: 1.0960 - val_categorical_accuracy: 0.3467\n",
      "Epoch 36/100\n",
      "30/30 [==============================] - 0s 16ms/step - loss: 1.0760 - categorical_accuracy: 0.4433 - val_loss: 1.0959 - val_categorical_accuracy: 0.3467\n",
      "Epoch 37/100\n",
      "30/30 [==============================] - 1s 19ms/step - loss: 1.0824 - categorical_accuracy: 0.4400 - val_loss: 1.0966 - val_categorical_accuracy: 0.3467\n",
      "Epoch 38/100\n",
      "30/30 [==============================] - 1s 18ms/step - loss: 1.0845 - categorical_accuracy: 0.3800 - val_loss: 1.0970 - val_categorical_accuracy: 0.3733\n",
      "Epoch 39/100\n",
      "30/30 [==============================] - 1s 17ms/step - loss: 1.0815 - categorical_accuracy: 0.3933 - val_loss: 1.0971 - val_categorical_accuracy: 0.3333\n",
      "Epoch 40/100\n",
      "30/30 [==============================] - 0s 16ms/step - loss: 1.0899 - categorical_accuracy: 0.3600 - val_loss: 1.0973 - val_categorical_accuracy: 0.3200\n",
      "Epoch 41/100\n",
      "30/30 [==============================] - 1s 19ms/step - loss: 1.0857 - categorical_accuracy: 0.4067 - val_loss: 1.0981 - val_categorical_accuracy: 0.3733\n",
      "Epoch 42/100\n",
      "30/30 [==============================] - 1s 18ms/step - loss: 1.0758 - categorical_accuracy: 0.4367 - val_loss: 1.0980 - val_categorical_accuracy: 0.3200\n",
      "Epoch 43/100\n",
      "30/30 [==============================] - 1s 17ms/step - loss: 1.0766 - categorical_accuracy: 0.3667 - val_loss: 1.0981 - val_categorical_accuracy: 0.3333\n",
      "Epoch 44/100\n",
      "30/30 [==============================] - 1s 17ms/step - loss: 1.0812 - categorical_accuracy: 0.3733 - val_loss: 1.0989 - val_categorical_accuracy: 0.3200\n",
      "Epoch 45/100\n",
      "30/30 [==============================] - 1s 19ms/step - loss: 1.0819 - categorical_accuracy: 0.4167 - val_loss: 1.0992 - val_categorical_accuracy: 0.3333\n",
      "Epoch 46/100\n"
     ]
    },
    {
     "name": "stdout",
     "output_type": "stream",
     "text": [
      "30/30 [==============================] - 1s 17ms/step - loss: 1.0798 - categorical_accuracy: 0.4533 - val_loss: 1.1001 - val_categorical_accuracy: 0.3200\n",
      "Epoch 47/100\n",
      "30/30 [==============================] - 0s 16ms/step - loss: 1.0765 - categorical_accuracy: 0.4000 - val_loss: 1.1011 - val_categorical_accuracy: 0.3067\n",
      "Epoch 48/100\n",
      "30/30 [==============================] - 1s 19ms/step - loss: 1.0777 - categorical_accuracy: 0.4100 - val_loss: 1.1025 - val_categorical_accuracy: 0.3200\n",
      "Epoch 49/100\n",
      "30/30 [==============================] - 1s 18ms/step - loss: 1.0784 - categorical_accuracy: 0.4067 - val_loss: 1.1037 - val_categorical_accuracy: 0.3333\n",
      "Epoch 50/100\n",
      "30/30 [==============================] - 1s 17ms/step - loss: 1.0745 - categorical_accuracy: 0.4267 - val_loss: 1.1028 - val_categorical_accuracy: 0.3067\n",
      "Epoch 51/100\n",
      "30/30 [==============================] - 0s 16ms/step - loss: 1.0698 - categorical_accuracy: 0.4567 - val_loss: 1.1045 - val_categorical_accuracy: 0.3200\n",
      "Epoch 52/100\n",
      "30/30 [==============================] - 1s 19ms/step - loss: 1.0788 - categorical_accuracy: 0.4200 - val_loss: 1.1044 - val_categorical_accuracy: 0.3067\n",
      "Epoch 53/100\n",
      "30/30 [==============================] - 1s 18ms/step - loss: 1.0685 - categorical_accuracy: 0.4000 - val_loss: 1.1065 - val_categorical_accuracy: 0.3200\n",
      "Epoch 54/100\n",
      "30/30 [==============================] - 0s 16ms/step - loss: 1.0690 - categorical_accuracy: 0.4333 - val_loss: 1.1045 - val_categorical_accuracy: 0.3200\n",
      "Epoch 55/100\n",
      "30/30 [==============================] - 1s 17ms/step - loss: 1.0737 - categorical_accuracy: 0.4100 - val_loss: 1.1062 - val_categorical_accuracy: 0.3067\n",
      "Epoch 56/100\n",
      "30/30 [==============================] - 1s 19ms/step - loss: 1.0675 - categorical_accuracy: 0.4333 - val_loss: 1.1077 - val_categorical_accuracy: 0.3333\n",
      "Epoch 57/100\n",
      "30/30 [==============================] - 1s 18ms/step - loss: 1.0688 - categorical_accuracy: 0.4400 - val_loss: 1.1090 - val_categorical_accuracy: 0.3333\n",
      "Epoch 58/100\n",
      "30/30 [==============================] - 0s 16ms/step - loss: 1.0778 - categorical_accuracy: 0.4000 - val_loss: 1.1085 - val_categorical_accuracy: 0.3067\n",
      "Epoch 59/100\n",
      "30/30 [==============================] - 1s 18ms/step - loss: 1.0632 - categorical_accuracy: 0.4400 - val_loss: 1.1110 - val_categorical_accuracy: 0.3200\n",
      "Epoch 60/100\n",
      "30/30 [==============================] - 1s 18ms/step - loss: 1.0621 - categorical_accuracy: 0.4700 - val_loss: 1.1140 - val_categorical_accuracy: 0.3067\n",
      "Epoch 61/100\n",
      "30/30 [==============================] - 1s 17ms/step - loss: 1.0815 - categorical_accuracy: 0.3867 - val_loss: 1.1139 - val_categorical_accuracy: 0.2800\n",
      "Epoch 62/100\n",
      "30/30 [==============================] - 0s 16ms/step - loss: 1.0718 - categorical_accuracy: 0.4067 - val_loss: 1.1165 - val_categorical_accuracy: 0.3600\n",
      "Epoch 63/100\n",
      "30/30 [==============================] - 1s 19ms/step - loss: 1.0598 - categorical_accuracy: 0.4300 - val_loss: 1.1161 - val_categorical_accuracy: 0.3200\n",
      "Epoch 64/100\n",
      "30/30 [==============================] - 1s 18ms/step - loss: 1.0615 - categorical_accuracy: 0.4233 - val_loss: 1.1183 - val_categorical_accuracy: 0.3200\n",
      "Epoch 65/100\n",
      "30/30 [==============================] - 0s 17ms/step - loss: 1.0723 - categorical_accuracy: 0.4233 - val_loss: 1.1189 - val_categorical_accuracy: 0.3333\n",
      "Epoch 66/100\n",
      "30/30 [==============================] - 0s 17ms/step - loss: 1.0642 - categorical_accuracy: 0.4267 - val_loss: 1.1219 - val_categorical_accuracy: 0.3067\n",
      "Epoch 67/100\n",
      "30/30 [==============================] - 1s 19ms/step - loss: 1.0649 - categorical_accuracy: 0.4100 - val_loss: 1.1251 - val_categorical_accuracy: 0.3200\n",
      "Epoch 68/100\n",
      "30/30 [==============================] - 1s 18ms/step - loss: 1.0648 - categorical_accuracy: 0.4133 - val_loss: 1.1197 - val_categorical_accuracy: 0.3067\n",
      "Epoch 69/100\n",
      "30/30 [==============================] - 0s 16ms/step - loss: 1.0575 - categorical_accuracy: 0.4100 - val_loss: 1.1234 - val_categorical_accuracy: 0.2933\n",
      "Epoch 70/100\n",
      "30/30 [==============================] - 1s 18ms/step - loss: 1.0529 - categorical_accuracy: 0.4333 - val_loss: 1.1262 - val_categorical_accuracy: 0.2933\n",
      "Epoch 71/100\n",
      "30/30 [==============================] - 1s 19ms/step - loss: 1.0448 - categorical_accuracy: 0.4500 - val_loss: 1.1295 - val_categorical_accuracy: 0.2800\n",
      "Epoch 72/100\n",
      "30/30 [==============================] - 1s 18ms/step - loss: 1.0546 - categorical_accuracy: 0.4267 - val_loss: 1.1348 - val_categorical_accuracy: 0.2800\n",
      "Epoch 73/100\n",
      "30/30 [==============================] - 0s 16ms/step - loss: 1.0526 - categorical_accuracy: 0.4133 - val_loss: 1.1379 - val_categorical_accuracy: 0.2933\n",
      "Epoch 74/100\n",
      "30/30 [==============================] - 1s 18ms/step - loss: 1.0526 - categorical_accuracy: 0.4333 - val_loss: 1.1376 - val_categorical_accuracy: 0.2667\n",
      "Epoch 75/100\n",
      "30/30 [==============================] - 1s 18ms/step - loss: 1.0565 - categorical_accuracy: 0.4100 - val_loss: 1.1396 - val_categorical_accuracy: 0.2933\n",
      "Epoch 76/100\n",
      "30/30 [==============================] - 1s 17ms/step - loss: 1.0479 - categorical_accuracy: 0.4300 - val_loss: 1.1380 - val_categorical_accuracy: 0.2933\n",
      "Epoch 77/100\n",
      "30/30 [==============================] - 0s 16ms/step - loss: 1.0436 - categorical_accuracy: 0.4467 - val_loss: 1.1387 - val_categorical_accuracy: 0.2800\n",
      "Epoch 78/100\n",
      "30/30 [==============================] - 1s 18ms/step - loss: 1.0413 - categorical_accuracy: 0.4500 - val_loss: 1.1451 - val_categorical_accuracy: 0.2800\n",
      "Epoch 79/100\n",
      "30/30 [==============================] - 1s 18ms/step - loss: 1.0359 - categorical_accuracy: 0.4467 - val_loss: 1.1510 - val_categorical_accuracy: 0.2533\n",
      "Epoch 80/100\n",
      "30/30 [==============================] - 0s 16ms/step - loss: 1.0338 - categorical_accuracy: 0.4633 - val_loss: 1.1489 - val_categorical_accuracy: 0.2667\n",
      "Epoch 81/100\n",
      "30/30 [==============================] - 1s 18ms/step - loss: 1.0311 - categorical_accuracy: 0.4500 - val_loss: 1.1571 - val_categorical_accuracy: 0.3067\n",
      "Epoch 82/100\n",
      "30/30 [==============================] - 1s 18ms/step - loss: 1.0288 - categorical_accuracy: 0.4733 - val_loss: 1.1440 - val_categorical_accuracy: 0.2933\n",
      "Epoch 83/100\n",
      "30/30 [==============================] - 1s 17ms/step - loss: 1.0274 - categorical_accuracy: 0.4800 - val_loss: 1.1477 - val_categorical_accuracy: 0.3467\n",
      "Epoch 84/100\n",
      "30/30 [==============================] - 0s 16ms/step - loss: 1.0310 - categorical_accuracy: 0.4667 - val_loss: 1.1520 - val_categorical_accuracy: 0.3333\n",
      "Epoch 85/100\n",
      "30/30 [==============================] - 1s 18ms/step - loss: 1.0359 - categorical_accuracy: 0.4267 - val_loss: 1.1519 - val_categorical_accuracy: 0.2933\n",
      "Epoch 86/100\n",
      "30/30 [==============================] - 1s 18ms/step - loss: 1.0162 - categorical_accuracy: 0.4667 - val_loss: 1.1622 - val_categorical_accuracy: 0.3067\n",
      "Epoch 87/100\n",
      "30/30 [==============================] - 1s 17ms/step - loss: 1.0177 - categorical_accuracy: 0.4633 - val_loss: 1.1689 - val_categorical_accuracy: 0.3200\n",
      "Epoch 88/100\n",
      "30/30 [==============================] - 0s 16ms/step - loss: 1.0139 - categorical_accuracy: 0.4700 - val_loss: 1.1799 - val_categorical_accuracy: 0.3200\n",
      "Epoch 89/100\n",
      "30/30 [==============================] - 1s 19ms/step - loss: 1.0075 - categorical_accuracy: 0.5100 - val_loss: 1.1699 - val_categorical_accuracy: 0.2933\n",
      "Epoch 90/100\n",
      "30/30 [==============================] - 1s 18ms/step - loss: 1.0051 - categorical_accuracy: 0.5067 - val_loss: 1.1630 - val_categorical_accuracy: 0.2933\n",
      "Epoch 91/100\n",
      "30/30 [==============================] - 0s 17ms/step - loss: 1.0049 - categorical_accuracy: 0.5367 - val_loss: 1.2058 - val_categorical_accuracy: 0.3067\n",
      "Epoch 92/100\n",
      "30/30 [==============================] - 0s 16ms/step - loss: 1.0223 - categorical_accuracy: 0.4567 - val_loss: 1.2073 - val_categorical_accuracy: 0.2933\n",
      "Epoch 93/100\n",
      "30/30 [==============================] - 1s 19ms/step - loss: 0.9986 - categorical_accuracy: 0.4800 - val_loss: 1.1979 - val_categorical_accuracy: 0.3200\n",
      "Epoch 94/100\n",
      "30/30 [==============================] - 1s 18ms/step - loss: 1.0073 - categorical_accuracy: 0.4667 - val_loss: 1.1887 - val_categorical_accuracy: 0.3200\n",
      "Epoch 95/100\n"
     ]
    },
    {
     "name": "stdout",
     "output_type": "stream",
     "text": [
      "30/30 [==============================] - 0s 16ms/step - loss: 0.9828 - categorical_accuracy: 0.5067 - val_loss: 1.1712 - val_categorical_accuracy: 0.2933\n",
      "Epoch 96/100\n",
      "30/30 [==============================] - 1s 18ms/step - loss: 0.9898 - categorical_accuracy: 0.5033 - val_loss: 1.1862 - val_categorical_accuracy: 0.2800\n",
      "Epoch 97/100\n",
      "30/30 [==============================] - 1s 18ms/step - loss: 0.9858 - categorical_accuracy: 0.5000 - val_loss: 1.1822 - val_categorical_accuracy: 0.2933\n",
      "Epoch 98/100\n",
      "30/30 [==============================] - 1s 17ms/step - loss: 0.9829 - categorical_accuracy: 0.4867 - val_loss: 1.1749 - val_categorical_accuracy: 0.2933\n",
      "Epoch 99/100\n",
      "30/30 [==============================] - 0s 16ms/step - loss: 0.9741 - categorical_accuracy: 0.5100 - val_loss: 1.2133 - val_categorical_accuracy: 0.2933\n",
      "Epoch 100/100\n",
      "30/30 [==============================] - 1s 18ms/step - loss: 0.9711 - categorical_accuracy: 0.5467 - val_loss: 1.2088 - val_categorical_accuracy: 0.2800\n"
     ]
    }
   ],
   "source": [
    "history = model.fit(X_train, y_train, \n",
    "                    batch_size=batch_size, \n",
    "                    epochs=epochs, \n",
    "                    validation_data=(X_val, y_val), \n",
    "                    verbose=1, \n",
    "                    callbacks=[tensorboard_call]) #, val_loss_callback])"
   ]
  },
  {
   "cell_type": "code",
   "execution_count": 14,
   "metadata": {},
   "outputs": [
    {
     "name": "stdout",
     "output_type": "stream",
     "text": [
      "94/94 [==============================] - 0s 4ms/step - loss: 1.1645 - categorical_accuracy: 0.3617\n",
      "test loss, test acc: [1.1644885540008545, 0.3617021143436432]\n"
     ]
    }
   ],
   "source": [
    "#evaluate model on test set\n",
    "results = model.evaluate(X_test, y_test, batch_size=1, verbose=1)\n",
    "print(\"test loss, test acc:\", results)"
   ]
  },
  {
   "cell_type": "code",
   "execution_count": 15,
   "metadata": {},
   "outputs": [
    {
     "data": {
      "image/png": "[encoded data removed]",
      "text/plain": [
       "<Figure size 432x288 with 1 Axes>"
      ]
     },
     "metadata": {
      "needs_background": "light"
     },
     "output_type": "display_data"
    }
   ],
   "source": [
    "#summarize history for accuracy\n",
    "plt.plot(history.history[(list(history.history.keys())[1])])\n",
    "plt.plot(history.history[(list(history.history.keys())[3])])\n",
    "plt.title('model accuracy')\n",
    "plt.ylabel('accuracy')\n",
    "plt.xlabel('epoch')\n",
    "plt.legend(['train', 'val'], loc='upper left')\n",
    "plt.show()"
   ]
  },
  {
   "cell_type": "code",
   "execution_count": 16,
   "metadata": {},
   "outputs": [
    {
     "data": {
      "image/png": "[encoded data removed]",
      "text/plain": [
       "<Figure size 432x288 with 1 Axes>"
      ]
     },
     "metadata": {
      "needs_background": "light"
     },
     "output_type": "display_data"
    }
   ],
   "source": [
    "#summarize history for loss\n",
    "plt.plot(history.history[(list(history.history.keys())[0])])\n",
    "plt.plot(history.history[(list(history.history.keys())[2])])\n",
    "plt.title('model loss')\n",
    "plt.ylabel('loss')\n",
    "plt.xlabel('epoch')\n",
    "plt.legend(['train', 'val'], loc='upper left')\n",
    "plt.show()"
   ]
  },
  {
   "cell_type": "code",
   "execution_count": 17,
   "metadata": {},
   "outputs": [
    {
     "name": "stdout",
     "output_type": "stream",
     "text": [
      "predictions: [[0.32709238 0.2323301  0.4405775 ]\n",
      " [0.48016977 0.23047397 0.2893563 ]\n",
      " [0.22742164 0.50529283 0.26728553]\n",
      " [0.3048309  0.19512352 0.5000456 ]\n",
      " [0.4415974  0.13067164 0.42773092]\n",
      " [0.453007   0.21253821 0.33445483]\n",
      " [0.42032376 0.32457107 0.25510526]\n",
      " [0.4545279  0.23514916 0.310323  ]\n",
      " [0.4113814  0.16101584 0.4276028 ]\n",
      " [0.22774713 0.56981796 0.2024349 ]\n",
      " [0.35071042 0.08737093 0.56191874]\n",
      " [0.4043924  0.16436447 0.4312431 ]\n",
      " [0.4111004  0.39629474 0.19260484]\n",
      " [0.3410088  0.27043864 0.38855255]\n",
      " [0.30911756 0.25854212 0.43234035]\n",
      " [0.30892617 0.5538432  0.13723058]\n",
      " [0.36946395 0.45611838 0.1744177 ]\n",
      " [0.31839725 0.22320692 0.45839584]\n",
      " [0.17214026 0.592143   0.23571675]\n",
      " [0.36279607 0.19678438 0.44041955]\n",
      " [0.31005946 0.5574732  0.13246736]\n",
      " [0.5051863  0.34177038 0.15304329]\n",
      " [0.33390266 0.16832061 0.49777678]\n",
      " [0.30899122 0.3905279  0.30048093]\n",
      " [0.3498977  0.39594978 0.2541525 ]\n",
      " [0.4056543  0.3553815  0.23896419]\n",
      " [0.4698851  0.3306016  0.19951327]\n",
      " [0.2876003  0.45382822 0.25857148]\n",
      " [0.44960645 0.3810484  0.16934517]\n",
      " [0.52385604 0.30685025 0.16929375]\n",
      " [0.24649969 0.49670997 0.2567903 ]\n",
      " [0.28652045 0.36924574 0.34423384]\n",
      " [0.31436384 0.2432533  0.4423829 ]\n",
      " [0.409058   0.31361914 0.27732292]\n",
      " [0.38068715 0.1839532  0.4353597 ]\n",
      " [0.32655767 0.17232522 0.50111717]\n",
      " [0.57966524 0.22629029 0.19404452]\n",
      " [0.38739178 0.19911355 0.41349474]\n",
      " [0.3351979  0.26667824 0.39812386]\n",
      " [0.44290882 0.3697232  0.18736805]\n",
      " [0.30936006 0.11044404 0.5801959 ]\n",
      " [0.29880667 0.32924953 0.3719439 ]\n",
      " [0.5050967  0.34155163 0.15335174]\n",
      " [0.32178262 0.50253826 0.17567922]\n",
      " [0.27338272 0.5301165  0.19650081]\n",
      " [0.36635134 0.28969887 0.3439498 ]\n",
      " [0.28820792 0.4469138  0.2648782 ]\n",
      " [0.2212716  0.34491003 0.43381834]\n",
      " [0.32952133 0.4727875  0.19769122]\n",
      " [0.37378085 0.4832417  0.1429775 ]\n",
      " [0.34881294 0.22131132 0.4298758 ]\n",
      " [0.46926692 0.28834575 0.24238732]\n",
      " [0.49354878 0.33294448 0.17350665]\n",
      " [0.27328432 0.42543218 0.3012835 ]\n",
      " [0.44846123 0.23656236 0.31497645]\n",
      " [0.3293506  0.11424416 0.55640525]\n",
      " [0.41728687 0.18962711 0.39308596]\n",
      " [0.23096105 0.42279646 0.3462425 ]\n",
      " [0.15764706 0.59147453 0.25087833]\n",
      " [0.37166768 0.25873792 0.36959442]\n",
      " [0.46236837 0.3841768  0.15345484]\n",
      " [0.42213932 0.23504858 0.34281215]\n",
      " [0.3396087  0.3637109  0.29668036]\n",
      " [0.4534278  0.19179954 0.3547726 ]\n",
      " [0.38961565 0.44314504 0.16723935]\n",
      " [0.38021302 0.35902995 0.26075706]\n",
      " [0.35795206 0.3230469  0.31900102]\n",
      " [0.38626918 0.10940856 0.50432235]\n",
      " [0.39295906 0.15755466 0.4494863 ]\n",
      " [0.53534555 0.27354643 0.19110797]\n",
      " [0.20283307 0.26000392 0.537163  ]\n",
      " [0.32568446 0.10704966 0.56726587]\n",
      " [0.6444107  0.18666415 0.16892508]\n",
      " [0.48625055 0.20482686 0.30892253]\n",
      " [0.42547375 0.42363793 0.15088837]\n",
      " [0.39976335 0.15349844 0.44673827]\n",
      " [0.5223172  0.3119317  0.16575108]\n",
      " [0.37765303 0.25344068 0.36890632]\n",
      " [0.3161448  0.26816472 0.4156905 ]\n",
      " [0.34154728 0.23181723 0.42663547]\n",
      " [0.24024497 0.5492459  0.21050908]\n",
      " [0.28109956 0.520696   0.19820438]\n",
      " [0.15441096 0.6548461  0.19074294]\n",
      " [0.34759718 0.18213014 0.47027266]\n",
      " [0.19921389 0.5212916  0.27949446]\n",
      " [0.3427809  0.479778   0.17744118]\n",
      " [0.5055361  0.19582374 0.29864016]\n",
      " [0.41722205 0.16815712 0.41462088]\n",
      " [0.3940728  0.19423614 0.411691  ]\n",
      " [0.28110594 0.3176341  0.40126   ]\n",
      " [0.31712857 0.46596995 0.21690148]\n",
      " [0.54433036 0.2874355  0.16823408]\n",
      " [0.29621208 0.33979437 0.3639936 ]\n",
      " [0.1787101  0.5870958  0.2341941 ]]\n"
     ]
    }
   ],
   "source": [
    "#generate predictions\n",
    "predictions = model.predict(X_test)\n",
    "print(\"predictions:\", predictions)"
   ]
  },
  {
   "cell_type": "code",
   "execution_count": 18,
   "metadata": {},
   "outputs": [
    {
     "name": "stdout",
     "output_type": "stream",
     "text": [
      "['M' 'B' 'C' 'M' 'B' 'B' 'B' 'B' 'M' 'C' 'M' 'M' 'B' 'M' 'M' 'C' 'C' 'M'\n",
      " 'C' 'M' 'C' 'B' 'M' 'C' 'C' 'B' 'B' 'C' 'B' 'B' 'C' 'C' 'M' 'B' 'M' 'M'\n",
      " 'B' 'M' 'M' 'B' 'M' 'M' 'B' 'C' 'C' 'B' 'C' 'M' 'C' 'C' 'M' 'B' 'B' 'C'\n",
      " 'B' 'M' 'B' 'C' 'C' 'B' 'B' 'B' 'C' 'B' 'C' 'B' 'B' 'M' 'M' 'B' 'M' 'M'\n",
      " 'B' 'B' 'B' 'M' 'B' 'B' 'M' 'M' 'C' 'C' 'C' 'M' 'C' 'C' 'B' 'B' 'M' 'M'\n",
      " 'C' 'B' 'M' 'C']\n"
     ]
    }
   ],
   "source": [
    "#remove encoding\n",
    "real_predictions_B = a_encoder.inverse_transform(predictions)\n",
    "print(real_predictions_B)"
   ]
  },
  {
   "cell_type": "code",
   "execution_count": 19,
   "metadata": {},
   "outputs": [
    {
     "data": {
      "text/plain": [
       "{'B': 35, 'C': 28, 'M': 31}"
      ]
     },
     "execution_count": 19,
     "metadata": {},
     "output_type": "execute_result"
    }
   ],
   "source": [
    "#prediction counts\n",
    "unique, counts = np.unique(real_predictions_B, return_counts=True)\n",
    "dict(zip(unique, counts))"
   ]
  },
  {
   "cell_type": "code",
   "execution_count": 20,
   "metadata": {},
   "outputs": [
    {
     "name": "stdout",
     "output_type": "stream",
     "text": [
      "['C' 'C' 'C' 'M' 'B' 'M' 'B' 'C' 'B' 'M' 'B' 'B' 'M' 'M' 'C' 'C' 'B' 'B'\n",
      " 'C' 'B' 'M' 'C' 'B' 'M' 'B' 'B' 'C' 'C' 'M' 'B' 'B' 'M' 'M' 'C' 'M' 'M'\n",
      " 'M' 'M' 'M' 'M' 'B' 'B' 'B' 'B' 'C' 'B' 'M' 'B' 'M' 'C' 'B' 'M' 'B' 'C'\n",
      " 'C' 'M' 'C' 'C' 'C' 'B' 'M' 'C' 'B' 'M' 'C' 'B' 'B' 'M' 'M' 'M' 'B' 'C'\n",
      " 'B' 'C' 'M' 'C' 'C' 'C' 'C' 'B' 'M' 'M' 'B' 'B' 'C' 'M' 'C' 'C' 'M' 'B'\n",
      " 'B' 'B' 'B' 'M']\n"
     ]
    }
   ],
   "source": [
    "#y_test predictions\n",
    "ytest_predictions = a_encoder.inverse_transform(y_test)\n",
    "print(ytest_predictions)"
   ]
  },
  {
   "cell_type": "code",
   "execution_count": 21,
   "metadata": {},
   "outputs": [
    {
     "data": {
      "text/plain": [
       "{'B': 34, 'C': 29, 'M': 31}"
      ]
     },
     "execution_count": 21,
     "metadata": {},
     "output_type": "execute_result"
    }
   ],
   "source": [
    "#real count\n",
    "unique, counts = np.unique(ytest_predictions, return_counts=True)\n",
    "dict(zip(unique, counts))"
   ]
  },
  {
   "cell_type": "code",
   "execution_count": 22,
   "metadata": {},
   "outputs": [
    {
     "data": {
      "image/png": "[encoded data removed]",
      "text/plain": [
       "<Figure size 432x288 with 2 Axes>"
      ]
     },
     "metadata": {
      "needs_background": "light"
     },
     "output_type": "display_data"
    }
   ],
   "source": [
    "#confusion matrix\n",
    "matrix = confusion_matrix(ytest_predictions, real_predictions_B)\n",
    "#format confusion matrix\n",
    "ax=plt.subplot()\n",
    "sns.heatmap(matrix, annot=True, ax = ax, cmap='Purples', fmt='g');\n",
    "accuracy = np.trace(matrix) / np.sum(matrix).astype('float')\n",
    "misclass = 1 - accuracy\n",
    "ax.set_xlabel('Predicted label\\naccuracy={:0.4f}; misclass={:0.4f}'.format(accuracy, misclass));\n",
    "ax.set_ylabel('True labels'); \n",
    "ax.set_title('Confusion Matrix');\n",
    "ax.xaxis.set_ticklabels(unique); ax.yaxis.set_ticklabels(unique);"
   ]
  },
  {
   "cell_type": "code",
   "execution_count": 23,
   "metadata": {},
   "outputs": [
    {
     "name": "stdout",
     "output_type": "stream",
     "text": [
      "              precision    recall  f1-score   support\n",
      "\n",
      "           B       0.34      0.35      0.35        34\n",
      "           C       0.39      0.38      0.39        29\n",
      "           M       0.35      0.35      0.35        31\n",
      "\n",
      "    accuracy                           0.36        94\n",
      "   macro avg       0.36      0.36      0.36        94\n",
      "weighted avg       0.36      0.36      0.36        94\n",
      "\n"
     ]
    }
   ],
   "source": [
    "print(classification_report(ytest_predictions, real_predictions_B))"
   ]
  },
  {
   "cell_type": "code",
   "execution_count": 24,
   "metadata": {},
   "outputs": [
    {
     "name": "stdout",
     "output_type": "stream",
     "text": [
      "precision score:0.3635\n",
      "recall score:0.3624\n",
      "f1 score:0.3629\n"
     ]
    }
   ],
   "source": [
    "#macro - calculate metrics for each label, and find their unweighted mean\n",
    "pre_score = precision_score(ytest_predictions, real_predictions_B, average = \"macro\")\n",
    "print('precision score:{:0.4f}'.format(pre_score))\n",
    "recall_score_1 = recall_score(ytest_predictions, real_predictions_B, average= \"macro\")\n",
    "print('recall score:{:0.4f}'.format(recall_score_1))\n",
    "f1_score_1 = f1_score(ytest_predictions, real_predictions_B, average=\"macro\")\n",
    "print('f1 score:{:0.4f}'.format(f1_score_1))"
   ]
  },
  {
   "cell_type": "code",
   "execution_count": null,
   "metadata": {},
   "outputs": [],
   "source": []
  }
 ],
 "metadata": {
  "kernelspec": {
   "display_name": "Python 3",
   "language": "python",
   "name": "python3"
  },
  "language_info": {
   "codemirror_mode": {
    "name": "ipython",
    "version": 3
   },
   "file_extension": ".py",
   "mimetype": "text/x-python",
   "name": "python",
   "nbconvert_exporter": "python",
   "pygments_lexer": "ipython3",
   "version": "3.8.3"
  }
 },
 "nbformat": 4,
 "nbformat_minor": 4
}
