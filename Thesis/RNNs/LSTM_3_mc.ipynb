{
 "cells": [
  {
   "cell_type": "code",
   "execution_count": 1,
   "metadata": {},
   "outputs": [],
   "source": [
    "#tensorboard via command-line:\n",
    "#tensorboard --logdir=where your Logs directory is"
   ]
  },
  {
   "cell_type": "code",
   "execution_count": 2,
   "metadata": {},
   "outputs": [],
   "source": [
    "#~~~~~~~~~~~~~~~~~~~~~~~~~~~~~~~~~~~~~~~~~~~~~~~~~~~~~~~~~~~~~~~~~~~~~~~~~~~~~~~~~~~~~~~~~~~~~~~~~~~~~~~#\n",
    "#What is the maximum flare class produced by an AR in the next 24hrs after a 24hr time sequence?\n",
    "#~~~~~~~~~~~~~~~~~~~~~~~~~~~~~~~~~~~~~~~~~~~~~~~~~~~~~~~~~~~~~~~~~~~~~~~~~~~~~~~~~~~~~~~~~~~~~~~~~~~~~~~#\n",
    "#feature data from - hmi.sharp_720s:::\n",
    "#http://jsoc.stanford.edu/doc/data/hmi/sharp/sharp.htm\n",
    "\n",
    "#label data from - GOES flare events:::\n",
    "#ftp://ftp.swpc.noaa.gov/pub/warehouse/\n",
    "\n",
    "#and from - GOES XRS Report:::\n",
    "#https://www.ngdc.noaa.gov/stp/space-weather/solar-data/solar-features/solar-flares/x-rays/goes/xrs/\n",
    "#~~~~~~~~~~~~~~~~~~~~~~~~~~~~~~~~~~~~~~~~~~~~~~~~~~~~~~~~~~~~~~~~~~~~~~~~~~~~~~~~~~~~~~~~~~~~~~~~~~~~~~~#\n",
    "#binary class - F for flare and N for no flare\n",
    "#multi-class - #6 flare classes: N is no flare, A is smallest, X is largest\n",
    "               #key = {'N', 'A', 'B', 'C', 'M', 'X'}\n",
    "               #['A' class flares generally not listed in official reports due to small size]\n",
    "#~~~~~~~~~~~~~~~~~~~~~~~~~~~~~~~~~~~~~~~~~~~~~~~~~~~~~~~~~~~~~~~~~~~~~~~~~~~~~~~~~~~~~~~~~~~~~~~~~~~~~~~#"
   ]
  },
  {
   "cell_type": "code",
   "execution_count": 3,
   "metadata": {},
   "outputs": [
    {
     "name": "stdout",
     "output_type": "stream",
     "text": [
      "tensorflow version: 2.3.1\n"
     ]
    }
   ],
   "source": [
    "import tensorflow as tf\n",
    "print(\"tensorflow version:\", tf.__version__) #2.3.1 used\n",
    "from tensorflow import keras\n",
    "import os\n",
    "import glob\n",
    "import shutil\n",
    "import datetime\n",
    "import numpy as np\n",
    "import pandas as pd\n",
    "import seaborn as sns\n",
    "from pathlib import Path\n",
    "from astropy.time import Time\n",
    "from matplotlib import pyplot as plt\n",
    "from sklearn.metrics import f1_score, precision_score, recall_score, classification_report, confusion_matrix\n",
    "from sklearn.metrics import plot_confusion_matrix\n",
    "from sklearn.preprocessing import LabelBinarizer\n",
    "from sklearn.model_selection import train_test_split\n",
    "from sklearn.preprocessing import MinMaxScaler\n",
    "from tensorflow.keras.layers import Dropout, Dense, SimpleRNN, LSTM, GRU, GaussianNoise\n",
    "from tensorflow.keras.models import Model, Sequential\n",
    "from tensorflow.keras.optimizers import SGD, RMSprop, Adam\n",
    "import drms #https://pypi.org/project/drms/\n",
    "#~~~~~~~~~~~~~~~~~~~~~~~~~~~~~~~~~~~~~~~~~~~~~~~~~~~~~~~~~~~~~~~~~~~~~~~~~~~~~~~~~~~~~~~~~~~~~~~~~~~~~~~#\n",
    "import Flare_Data\n",
    "import Feature_Years\n",
    "import Make_TB_Logs\n",
    "#~~~~~~~~~~~~~~~~~~~~~~~~~~~~~~~~~~~~~~~~~~~~~~~~~~~~~~~~~~~~~~~~~~~~~~~~~~~~~~~~~~~~~~~~~~~~~~~~~~~~~~~#"
   ]
  },
  {
   "cell_type": "code",
   "execution_count": 4,
   "metadata": {},
   "outputs": [
    {
     "name": "stdout",
     "output_type": "stream",
     "text": [
      "CSVs compiled.\n"
     ]
    }
   ],
   "source": [
    "Feature_Years.generate_all_feature_years()"
   ]
  },
  {
   "cell_type": "code",
   "execution_count": 5,
   "metadata": {},
   "outputs": [],
   "source": [
    "where_logs = Make_TB_Logs.make_clear_tensorboard_folder()"
   ]
  },
  {
   "cell_type": "code",
   "execution_count": 6,
   "metadata": {},
   "outputs": [
    {
     "name": "stdout",
     "output_type": "stream",
     "text": [
      "The time series starts from:  2011-01-01 00:11:26\n",
      "The time series ends on:  2016-12-31 23:47:24\n",
      "(array(['B', 'C', 'M'], dtype='<U1'), array([167, 147, 155], dtype=int64))\n"
     ]
    }
   ],
   "source": [
    "#binary = True for binary classification, binary = False for multi-class classification\n",
    "X_train, X_val, X_test, y_train, y_val, y_test, tim_steps, n_feats, count_of_classes, a_encoder = Flare_Data.getAllData(binary = False)"
   ]
  },
  {
   "cell_type": "code",
   "execution_count": 7,
   "metadata": {},
   "outputs": [
    {
     "name": "stdout",
     "output_type": "stream",
     "text": [
      "(300, 114, 20) (75, 114, 20) (94, 114, 20) (300, 3) (75, 3) (94, 3)\n"
     ]
    }
   ],
   "source": [
    "print(X_train.shape, X_val.shape, X_test.shape, y_train.shape, y_val.shape, y_test.shape)"
   ]
  },
  {
   "cell_type": "code",
   "execution_count": 8,
   "metadata": {},
   "outputs": [],
   "source": [
    "#~~~~~~~~~~~~~~~~~~~~~~~~~~~~~~~~~~~~~~~~~~~~~~~~~~~~~~~~~~~~~~~~~~~~~~~~~~~~~~~~~~~~~~~~~~~~~~~~~~~~~~~~~~#\n",
    "#~~~~~~~~~~~~~~~~~~~~~~~~~~~~~~~~~~~~~~~~~~~~~~~~~~~~~~~~~~~~~~~~~~~~~~~~~~~~~~~~~~~~~~~~~~~~~~~~~~~~~~~~~~#"
   ]
  },
  {
   "cell_type": "code",
   "execution_count": 9,
   "metadata": {},
   "outputs": [],
   "source": [
    "batch_size = 300\n",
    "epochs = 100\n",
    "optimizer = Adam(lr=0.0001, beta_1=0.9, beta_2=0.999, epsilon=1e-06, decay=0.0)"
   ]
  },
  {
   "cell_type": "code",
   "execution_count": 10,
   "metadata": {},
   "outputs": [],
   "source": [
    "#~~~~~~~~~~~~~~~~~~~~~~~~~~~~~~~~~~~~~~~~~[LSTM_3 Model]~~~~~~~~~~~~~~~~~~~~~~~~~~~~~~~~~~~~~~~~~~~~~~~~~~~#\n",
    "#~~~~~~~~~~~~~~~~~~~~~~~~~~~~~~~~~~~~~~~~~[Multi-Class]~~~~~~~~~~~~~~~~~~~~~~~~~~~~~~~~~~~~~~~~~~~~~~~~~~~~#\n",
    "#~~~~~~~~~~~~~~~~~~~~~~~~~~~~~~~~~~~~~~~~~[Single Layer]~~~~~~~~~~~~~~~~~~~~~~~~~~~~~~~~~~~~~~~~~~~~~~~~~~~#\n",
    "model = Sequential()\n",
    "model.add(LSTM(32, input_shape=(tim_steps, n_feats)))\n",
    "model.add(GaussianNoise(0.01))\n",
    "model.add(Dropout(0.1))\n",
    "model.add(Dense(count_of_classes, activation='softmax'))\n",
    "model.compile(loss='categorical_crossentropy', optimizer=optimizer, metrics=['categorical_accuracy'])\n",
    "#~~~~~~~~~~~~~~~~~~~~~~~~~~~~~~~~~~~~~~~~~~~~~~~~~~~~~~~~~~~~~~~~~~~~~~~~~~~~~~~~~~~~~~~~~~~~~~~~~~~~~~~~~~#\n",
    "#~~~~~~~~~~~~~~~~~~~~~~~~~~~~~~~~~~~~~~~~~~~~~~~~~~~~~~~~~~~~~~~~~~~~~~~~~~~~~~~~~~~~~~~~~~~~~~~~~~~~~~~~~~#"
   ]
  },
  {
   "cell_type": "code",
   "execution_count": 11,
   "metadata": {},
   "outputs": [
    {
     "name": "stdout",
     "output_type": "stream",
     "text": [
      "Model: \"sequential\"\n",
      "_________________________________________________________________\n",
      "Layer (type)                 Output Shape              Param #   \n",
      "=================================================================\n",
      "lstm (LSTM)                  (None, 32)                6784      \n",
      "_________________________________________________________________\n",
      "gaussian_noise (GaussianNois (None, 32)                0         \n",
      "_________________________________________________________________\n",
      "dropout (Dropout)            (None, 32)                0         \n",
      "_________________________________________________________________\n",
      "dense (Dense)                (None, 3)                 99        \n",
      "=================================================================\n",
      "Total params: 6,883\n",
      "Trainable params: 6,883\n",
      "Non-trainable params: 0\n",
      "_________________________________________________________________\n"
     ]
    }
   ],
   "source": [
    "model.summary()"
   ]
  },
  {
   "cell_type": "code",
   "execution_count": 12,
   "metadata": {},
   "outputs": [],
   "source": [
    "tensorboard_call = keras.callbacks.TensorBoard(log_dir=where_logs, histogram_freq=1)\n",
    "#val_loss_callback = tf.keras.callbacks.EarlyStopping(monitor='val_loss', patience=10)"
   ]
  },
  {
   "cell_type": "code",
   "execution_count": 13,
   "metadata": {},
   "outputs": [
    {
     "name": "stdout",
     "output_type": "stream",
     "text": [
      "Epoch 1/100\n",
      "1/1 [==============================] - 1s 709ms/step - loss: 1.1836 - categorical_accuracy: 0.3533 - val_loss: 1.1659 - val_categorical_accuracy: 0.3600\n",
      "Epoch 2/100\n",
      "WARNING:tensorflow:From C:\\ProgramData\\Anaconda3\\lib\\site-packages\\tensorflow\\python\\ops\\summary_ops_v2.py:1277: stop (from tensorflow.python.eager.profiler) is deprecated and will be removed after 2020-07-01.\n",
      "Instructions for updating:\n",
      "use `tf.profiler.experimental.stop` instead.\n",
      "1/1 [==============================] - 0s 48ms/step - loss: 1.1831 - categorical_accuracy: 0.3533 - val_loss: 1.1636 - val_categorical_accuracy: 0.3600\n",
      "Epoch 3/100\n",
      "1/1 [==============================] - 0s 49ms/step - loss: 1.1734 - categorical_accuracy: 0.3533 - val_loss: 1.1613 - val_categorical_accuracy: 0.3600\n",
      "Epoch 4/100\n",
      "1/1 [==============================] - 0s 64ms/step - loss: 1.1803 - categorical_accuracy: 0.3567 - val_loss: 1.1591 - val_categorical_accuracy: 0.3600\n",
      "Epoch 5/100\n",
      "1/1 [==============================] - 0s 48ms/step - loss: 1.1722 - categorical_accuracy: 0.3500 - val_loss: 1.1569 - val_categorical_accuracy: 0.3600\n",
      "Epoch 6/100\n",
      "1/1 [==============================] - 0s 56ms/step - loss: 1.1750 - categorical_accuracy: 0.3533 - val_loss: 1.1548 - val_categorical_accuracy: 0.3600\n",
      "Epoch 7/100\n",
      "1/1 [==============================] - 0s 48ms/step - loss: 1.1663 - categorical_accuracy: 0.3533 - val_loss: 1.1527 - val_categorical_accuracy: 0.3600\n",
      "Epoch 8/100\n",
      "1/1 [==============================] - 0s 40ms/step - loss: 1.1716 - categorical_accuracy: 0.3533 - val_loss: 1.1507 - val_categorical_accuracy: 0.3600\n",
      "Epoch 9/100\n",
      "1/1 [==============================] - 0s 65ms/step - loss: 1.1632 - categorical_accuracy: 0.3467 - val_loss: 1.1487 - val_categorical_accuracy: 0.3600\n",
      "Epoch 10/100\n",
      "1/1 [==============================] - 0s 40ms/step - loss: 1.1655 - categorical_accuracy: 0.3500 - val_loss: 1.1468 - val_categorical_accuracy: 0.3600\n",
      "Epoch 11/100\n",
      "1/1 [==============================] - 0s 64ms/step - loss: 1.1569 - categorical_accuracy: 0.3533 - val_loss: 1.1449 - val_categorical_accuracy: 0.3600\n",
      "Epoch 12/100\n",
      "1/1 [==============================] - 0s 48ms/step - loss: 1.1529 - categorical_accuracy: 0.3533 - val_loss: 1.1431 - val_categorical_accuracy: 0.3600\n",
      "Epoch 13/100\n",
      "1/1 [==============================] - 0s 59ms/step - loss: 1.1592 - categorical_accuracy: 0.3533 - val_loss: 1.1413 - val_categorical_accuracy: 0.3600\n",
      "Epoch 14/100\n",
      "1/1 [==============================] - 0s 56ms/step - loss: 1.1590 - categorical_accuracy: 0.3500 - val_loss: 1.1396 - val_categorical_accuracy: 0.3600\n",
      "Epoch 15/100\n",
      "1/1 [==============================] - 0s 49ms/step - loss: 1.1582 - categorical_accuracy: 0.3467 - val_loss: 1.1379 - val_categorical_accuracy: 0.3600\n",
      "Epoch 16/100\n",
      "1/1 [==============================] - 0s 56ms/step - loss: 1.1541 - categorical_accuracy: 0.3567 - val_loss: 1.1362 - val_categorical_accuracy: 0.3600\n",
      "Epoch 17/100\n",
      "1/1 [==============================] - 0s 56ms/step - loss: 1.1505 - categorical_accuracy: 0.3533 - val_loss: 1.1347 - val_categorical_accuracy: 0.3600\n",
      "Epoch 18/100\n",
      "1/1 [==============================] - 0s 56ms/step - loss: 1.1481 - categorical_accuracy: 0.3500 - val_loss: 1.1331 - val_categorical_accuracy: 0.3600\n",
      "Epoch 19/100\n",
      "1/1 [==============================] - 0s 61ms/step - loss: 1.1402 - categorical_accuracy: 0.3600 - val_loss: 1.1316 - val_categorical_accuracy: 0.3600\n",
      "Epoch 20/100\n",
      "1/1 [==============================] - 0s 67ms/step - loss: 1.1498 - categorical_accuracy: 0.3433 - val_loss: 1.1302 - val_categorical_accuracy: 0.3600\n",
      "Epoch 21/100\n",
      "1/1 [==============================] - 0s 49ms/step - loss: 1.1555 - categorical_accuracy: 0.3500 - val_loss: 1.1288 - val_categorical_accuracy: 0.3600\n",
      "Epoch 22/100\n",
      "1/1 [==============================] - 0s 64ms/step - loss: 1.1342 - categorical_accuracy: 0.3533 - val_loss: 1.1275 - val_categorical_accuracy: 0.3600\n",
      "Epoch 23/100\n",
      "1/1 [==============================] - 0s 59ms/step - loss: 1.1399 - categorical_accuracy: 0.3500 - val_loss: 1.1261 - val_categorical_accuracy: 0.3600\n",
      "Epoch 24/100\n",
      "1/1 [==============================] - 0s 40ms/step - loss: 1.1445 - categorical_accuracy: 0.3567 - val_loss: 1.1249 - val_categorical_accuracy: 0.3600\n",
      "Epoch 25/100\n",
      "1/1 [==============================] - 0s 56ms/step - loss: 1.1370 - categorical_accuracy: 0.3533 - val_loss: 1.1237 - val_categorical_accuracy: 0.3600\n",
      "Epoch 26/100\n",
      "1/1 [==============================] - 0s 56ms/step - loss: 1.1389 - categorical_accuracy: 0.3433 - val_loss: 1.1225 - val_categorical_accuracy: 0.3600\n",
      "Epoch 27/100\n",
      "1/1 [==============================] - 0s 56ms/step - loss: 1.1378 - categorical_accuracy: 0.3500 - val_loss: 1.1214 - val_categorical_accuracy: 0.3600\n",
      "Epoch 28/100\n",
      "1/1 [==============================] - 0s 55ms/step - loss: 1.1357 - categorical_accuracy: 0.3500 - val_loss: 1.1203 - val_categorical_accuracy: 0.3600\n",
      "Epoch 29/100\n",
      "1/1 [==============================] - 0s 64ms/step - loss: 1.1274 - categorical_accuracy: 0.3533 - val_loss: 1.1192 - val_categorical_accuracy: 0.3600\n",
      "Epoch 30/100\n",
      "1/1 [==============================] - 0s 64ms/step - loss: 1.1391 - categorical_accuracy: 0.3667 - val_loss: 1.1182 - val_categorical_accuracy: 0.3600\n",
      "Epoch 31/100\n",
      "1/1 [==============================] - 0s 72ms/step - loss: 1.1232 - categorical_accuracy: 0.3533 - val_loss: 1.1172 - val_categorical_accuracy: 0.3600\n",
      "Epoch 32/100\n",
      "1/1 [==============================] - 0s 56ms/step - loss: 1.1312 - categorical_accuracy: 0.3533 - val_loss: 1.1163 - val_categorical_accuracy: 0.3600\n",
      "Epoch 33/100\n",
      "1/1 [==============================] - 0s 48ms/step - loss: 1.1292 - categorical_accuracy: 0.3467 - val_loss: 1.1154 - val_categorical_accuracy: 0.3600\n",
      "Epoch 34/100\n",
      "1/1 [==============================] - 0s 80ms/step - loss: 1.1242 - categorical_accuracy: 0.3700 - val_loss: 1.1145 - val_categorical_accuracy: 0.3600\n",
      "Epoch 35/100\n",
      "1/1 [==============================] - 0s 72ms/step - loss: 1.1291 - categorical_accuracy: 0.3500 - val_loss: 1.1137 - val_categorical_accuracy: 0.3600\n",
      "Epoch 36/100\n",
      "1/1 [==============================] - 0s 136ms/step - loss: 1.1199 - categorical_accuracy: 0.3633 - val_loss: 1.1129 - val_categorical_accuracy: 0.3600\n",
      "Epoch 37/100\n",
      "1/1 [==============================] - 0s 64ms/step - loss: 1.1246 - categorical_accuracy: 0.3467 - val_loss: 1.1122 - val_categorical_accuracy: 0.3600\n",
      "Epoch 38/100\n",
      "1/1 [==============================] - 0s 48ms/step - loss: 1.1202 - categorical_accuracy: 0.3533 - val_loss: 1.1114 - val_categorical_accuracy: 0.3600\n",
      "Epoch 39/100\n",
      "1/1 [==============================] - 0s 40ms/step - loss: 1.1191 - categorical_accuracy: 0.3600 - val_loss: 1.1107 - val_categorical_accuracy: 0.3600\n",
      "Epoch 40/100\n",
      "1/1 [==============================] - 0s 45ms/step - loss: 1.1240 - categorical_accuracy: 0.3433 - val_loss: 1.1101 - val_categorical_accuracy: 0.3600\n",
      "Epoch 41/100\n",
      "1/1 [==============================] - 0s 50ms/step - loss: 1.1171 - categorical_accuracy: 0.3700 - val_loss: 1.1094 - val_categorical_accuracy: 0.3600\n",
      "Epoch 42/100\n",
      "1/1 [==============================] - 0s 69ms/step - loss: 1.1164 - categorical_accuracy: 0.3567 - val_loss: 1.1088 - val_categorical_accuracy: 0.3600\n",
      "Epoch 43/100\n",
      "1/1 [==============================] - 0s 51ms/step - loss: 1.1249 - categorical_accuracy: 0.3367 - val_loss: 1.1082 - val_categorical_accuracy: 0.3600\n",
      "Epoch 44/100\n",
      "1/1 [==============================] - 0s 53ms/step - loss: 1.1268 - categorical_accuracy: 0.3267 - val_loss: 1.1077 - val_categorical_accuracy: 0.3467\n",
      "Epoch 45/100\n",
      "1/1 [==============================] - 0s 52ms/step - loss: 1.1075 - categorical_accuracy: 0.3433 - val_loss: 1.1072 - val_categorical_accuracy: 0.3467\n",
      "Epoch 46/100\n",
      "1/1 [==============================] - 0s 45ms/step - loss: 1.1130 - categorical_accuracy: 0.3600 - val_loss: 1.1067 - val_categorical_accuracy: 0.3333\n",
      "Epoch 47/100\n",
      "1/1 [==============================] - 0s 48ms/step - loss: 1.1145 - categorical_accuracy: 0.3500 - val_loss: 1.1062 - val_categorical_accuracy: 0.3200\n",
      "Epoch 48/100\n",
      "1/1 [==============================] - 0s 46ms/step - loss: 1.1155 - categorical_accuracy: 0.3500 - val_loss: 1.1058 - val_categorical_accuracy: 0.3200\n"
     ]
    },
    {
     "name": "stdout",
     "output_type": "stream",
     "text": [
      "Epoch 49/100\n",
      "1/1 [==============================] - 0s 51ms/step - loss: 1.1098 - categorical_accuracy: 0.3533 - val_loss: 1.1053 - val_categorical_accuracy: 0.3200\n",
      "Epoch 50/100\n",
      "1/1 [==============================] - 0s 53ms/step - loss: 1.1166 - categorical_accuracy: 0.3800 - val_loss: 1.1050 - val_categorical_accuracy: 0.3200\n",
      "Epoch 51/100\n",
      "1/1 [==============================] - 0s 54ms/step - loss: 1.1042 - categorical_accuracy: 0.3500 - val_loss: 1.1046 - val_categorical_accuracy: 0.3200\n",
      "Epoch 52/100\n",
      "1/1 [==============================] - 0s 30ms/step - loss: 1.1150 - categorical_accuracy: 0.3300 - val_loss: 1.1042 - val_categorical_accuracy: 0.3067\n",
      "Epoch 53/100\n",
      "1/1 [==============================] - 0s 57ms/step - loss: 1.1213 - categorical_accuracy: 0.3400 - val_loss: 1.1039 - val_categorical_accuracy: 0.3067\n",
      "Epoch 54/100\n",
      "1/1 [==============================] - 0s 47ms/step - loss: 1.1156 - categorical_accuracy: 0.3400 - val_loss: 1.1036 - val_categorical_accuracy: 0.3067\n",
      "Epoch 55/100\n",
      "1/1 [==============================] - 0s 47ms/step - loss: 1.1088 - categorical_accuracy: 0.3500 - val_loss: 1.1033 - val_categorical_accuracy: 0.2933\n",
      "Epoch 56/100\n",
      "1/1 [==============================] - 0s 55ms/step - loss: 1.1081 - categorical_accuracy: 0.3633 - val_loss: 1.1030 - val_categorical_accuracy: 0.3200\n",
      "Epoch 57/100\n",
      "1/1 [==============================] - 0s 46ms/step - loss: 1.1128 - categorical_accuracy: 0.3600 - val_loss: 1.1028 - val_categorical_accuracy: 0.3333\n",
      "Epoch 58/100\n",
      "1/1 [==============================] - 0s 43ms/step - loss: 1.1156 - categorical_accuracy: 0.3300 - val_loss: 1.1026 - val_categorical_accuracy: 0.3200\n",
      "Epoch 59/100\n",
      "1/1 [==============================] - 0s 72ms/step - loss: 1.1062 - categorical_accuracy: 0.3467 - val_loss: 1.1023 - val_categorical_accuracy: 0.3200\n",
      "Epoch 60/100\n",
      "1/1 [==============================] - 0s 61ms/step - loss: 1.1104 - categorical_accuracy: 0.3633 - val_loss: 1.1021 - val_categorical_accuracy: 0.3200\n",
      "Epoch 61/100\n",
      "1/1 [==============================] - 0s 48ms/step - loss: 1.1040 - categorical_accuracy: 0.3667 - val_loss: 1.1019 - val_categorical_accuracy: 0.3200\n",
      "Epoch 62/100\n",
      "1/1 [==============================] - 0s 57ms/step - loss: 1.1087 - categorical_accuracy: 0.3533 - val_loss: 1.1018 - val_categorical_accuracy: 0.3067\n",
      "Epoch 63/100\n",
      "1/1 [==============================] - 0s 72ms/step - loss: 1.1148 - categorical_accuracy: 0.3300 - val_loss: 1.1016 - val_categorical_accuracy: 0.3067\n",
      "Epoch 64/100\n",
      "1/1 [==============================] - 0s 56ms/step - loss: 1.1108 - categorical_accuracy: 0.3467 - val_loss: 1.1015 - val_categorical_accuracy: 0.3200\n",
      "Epoch 65/100\n",
      "1/1 [==============================] - 0s 56ms/step - loss: 1.1111 - categorical_accuracy: 0.3300 - val_loss: 1.1013 - val_categorical_accuracy: 0.3200\n",
      "Epoch 66/100\n",
      "1/1 [==============================] - 0s 35ms/step - loss: 1.1112 - categorical_accuracy: 0.3300 - val_loss: 1.1012 - val_categorical_accuracy: 0.3067\n",
      "Epoch 67/100\n",
      "1/1 [==============================] - 0s 59ms/step - loss: 1.1067 - categorical_accuracy: 0.3400 - val_loss: 1.1011 - val_categorical_accuracy: 0.3067\n",
      "Epoch 68/100\n",
      "1/1 [==============================] - 0s 56ms/step - loss: 1.1118 - categorical_accuracy: 0.3367 - val_loss: 1.1009 - val_categorical_accuracy: 0.3200\n",
      "Epoch 69/100\n",
      "1/1 [==============================] - 0s 59ms/step - loss: 1.1049 - categorical_accuracy: 0.3533 - val_loss: 1.1008 - val_categorical_accuracy: 0.3200\n",
      "Epoch 70/100\n",
      "1/1 [==============================] - 0s 28ms/step - loss: 1.1098 - categorical_accuracy: 0.3300 - val_loss: 1.1007 - val_categorical_accuracy: 0.3200\n",
      "Epoch 71/100\n",
      "1/1 [==============================] - 0s 47ms/step - loss: 1.1142 - categorical_accuracy: 0.3167 - val_loss: 1.1007 - val_categorical_accuracy: 0.3200\n",
      "Epoch 72/100\n",
      "1/1 [==============================] - 0s 35ms/step - loss: 1.1096 - categorical_accuracy: 0.3733 - val_loss: 1.1006 - val_categorical_accuracy: 0.3200\n",
      "Epoch 73/100\n",
      "1/1 [==============================] - 0s 60ms/step - loss: 1.1007 - categorical_accuracy: 0.3467 - val_loss: 1.1005 - val_categorical_accuracy: 0.3200\n",
      "Epoch 74/100\n",
      "1/1 [==============================] - 0s 50ms/step - loss: 1.1060 - categorical_accuracy: 0.3600 - val_loss: 1.1005 - val_categorical_accuracy: 0.3200\n",
      "Epoch 75/100\n",
      "1/1 [==============================] - 0s 37ms/step - loss: 1.1019 - categorical_accuracy: 0.3700 - val_loss: 1.1004 - val_categorical_accuracy: 0.3200\n",
      "Epoch 76/100\n",
      "1/1 [==============================] - 0s 46ms/step - loss: 1.1081 - categorical_accuracy: 0.3600 - val_loss: 1.1004 - val_categorical_accuracy: 0.3067\n",
      "Epoch 77/100\n",
      "1/1 [==============================] - 0s 65ms/step - loss: 1.1013 - categorical_accuracy: 0.3700 - val_loss: 1.1003 - val_categorical_accuracy: 0.3067\n",
      "Epoch 78/100\n",
      "1/1 [==============================] - 0s 51ms/step - loss: 1.1018 - categorical_accuracy: 0.3700 - val_loss: 1.1003 - val_categorical_accuracy: 0.3067\n",
      "Epoch 79/100\n",
      "1/1 [==============================] - 0s 48ms/step - loss: 1.1088 - categorical_accuracy: 0.3500 - val_loss: 1.1002 - val_categorical_accuracy: 0.3067\n",
      "Epoch 80/100\n",
      "1/1 [==============================] - 0s 48ms/step - loss: 1.1009 - categorical_accuracy: 0.3533 - val_loss: 1.1002 - val_categorical_accuracy: 0.3067\n",
      "Epoch 81/100\n",
      "1/1 [==============================] - 0s 44ms/step - loss: 1.1054 - categorical_accuracy: 0.3500 - val_loss: 1.1002 - val_categorical_accuracy: 0.3067\n",
      "Epoch 82/100\n",
      "1/1 [==============================] - 0s 64ms/step - loss: 1.1035 - categorical_accuracy: 0.3467 - val_loss: 1.1002 - val_categorical_accuracy: 0.3067\n",
      "Epoch 83/100\n",
      "1/1 [==============================] - 0s 56ms/step - loss: 1.1036 - categorical_accuracy: 0.3567 - val_loss: 1.1002 - val_categorical_accuracy: 0.3067\n",
      "Epoch 84/100\n",
      "1/1 [==============================] - 0s 56ms/step - loss: 1.1108 - categorical_accuracy: 0.3600 - val_loss: 1.1002 - val_categorical_accuracy: 0.3067\n",
      "Epoch 85/100\n",
      "1/1 [==============================] - 0s 64ms/step - loss: 1.1075 - categorical_accuracy: 0.3433 - val_loss: 1.1001 - val_categorical_accuracy: 0.3067\n",
      "Epoch 86/100\n",
      "1/1 [==============================] - 0s 59ms/step - loss: 1.1062 - categorical_accuracy: 0.3433 - val_loss: 1.1001 - val_categorical_accuracy: 0.3067\n",
      "Epoch 87/100\n",
      "1/1 [==============================] - 0s 51ms/step - loss: 1.1055 - categorical_accuracy: 0.3433 - val_loss: 1.1001 - val_categorical_accuracy: 0.3200\n",
      "Epoch 88/100\n",
      "1/1 [==============================] - 0s 49ms/step - loss: 1.1001 - categorical_accuracy: 0.3567 - val_loss: 1.1001 - val_categorical_accuracy: 0.3200\n",
      "Epoch 89/100\n",
      "1/1 [==============================] - 0s 34ms/step - loss: 1.1018 - categorical_accuracy: 0.3533 - val_loss: 1.1002 - val_categorical_accuracy: 0.3200\n",
      "Epoch 90/100\n",
      "1/1 [==============================] - 0s 39ms/step - loss: 1.1073 - categorical_accuracy: 0.3400 - val_loss: 1.1002 - val_categorical_accuracy: 0.3200\n",
      "Epoch 91/100\n",
      "1/1 [==============================] - 0s 51ms/step - loss: 1.1041 - categorical_accuracy: 0.3433 - val_loss: 1.1002 - val_categorical_accuracy: 0.3067\n",
      "Epoch 92/100\n",
      "1/1 [==============================] - 0s 34ms/step - loss: 1.1094 - categorical_accuracy: 0.3067 - val_loss: 1.1002 - val_categorical_accuracy: 0.3200\n",
      "Epoch 93/100\n",
      "1/1 [==============================] - 0s 45ms/step - loss: 1.1111 - categorical_accuracy: 0.3300 - val_loss: 1.1002 - val_categorical_accuracy: 0.3200\n",
      "Epoch 94/100\n",
      "1/1 [==============================] - 0s 47ms/step - loss: 1.1075 - categorical_accuracy: 0.3267 - val_loss: 1.1002 - val_categorical_accuracy: 0.3200\n",
      "Epoch 95/100\n",
      "1/1 [==============================] - 0s 46ms/step - loss: 1.1009 - categorical_accuracy: 0.3633 - val_loss: 1.1002 - val_categorical_accuracy: 0.3333\n",
      "Epoch 96/100\n",
      "1/1 [==============================] - 0s 51ms/step - loss: 1.1076 - categorical_accuracy: 0.3133 - val_loss: 1.1002 - val_categorical_accuracy: 0.3333\n",
      "Epoch 97/100\n",
      "1/1 [==============================] - 0s 44ms/step - loss: 1.1062 - categorical_accuracy: 0.3300 - val_loss: 1.1003 - val_categorical_accuracy: 0.3333\n",
      "Epoch 98/100\n",
      "1/1 [==============================] - 0s 48ms/step - loss: 1.1027 - categorical_accuracy: 0.3533 - val_loss: 1.1003 - val_categorical_accuracy: 0.3333\n"
     ]
    },
    {
     "name": "stdout",
     "output_type": "stream",
     "text": [
      "Epoch 99/100\n",
      "1/1 [==============================] - 0s 64ms/step - loss: 1.1040 - categorical_accuracy: 0.3733 - val_loss: 1.1003 - val_categorical_accuracy: 0.3333\n",
      "Epoch 100/100\n",
      "1/1 [==============================] - 0s 40ms/step - loss: 1.1008 - categorical_accuracy: 0.3600 - val_loss: 1.1003 - val_categorical_accuracy: 0.3333\n"
     ]
    }
   ],
   "source": [
    "history = model.fit(X_train, y_train, \n",
    "                    batch_size=batch_size, \n",
    "                    epochs=epochs, \n",
    "                    validation_data=(X_val, y_val), \n",
    "                    verbose=1, \n",
    "                    callbacks=[tensorboard_call]) #, val_loss_callback])"
   ]
  },
  {
   "cell_type": "code",
   "execution_count": 14,
   "metadata": {},
   "outputs": [
    {
     "name": "stdout",
     "output_type": "stream",
     "text": [
      "94/94 [==============================] - 1s 7ms/step - loss: 1.0958 - categorical_accuracy: 0.4149\n",
      "test loss, test acc: [1.0958456993103027, 0.41489362716674805]\n"
     ]
    }
   ],
   "source": [
    "#evaluate model on test set\n",
    "results = model.evaluate(X_test, y_test, batch_size=1, verbose=1)\n",
    "print(\"test loss, test acc:\", results)"
   ]
  },
  {
   "cell_type": "code",
   "execution_count": 15,
   "metadata": {},
   "outputs": [
    {
     "data": {
      "image/png": "[encoded data removed]",
      "text/plain": [
       "<Figure size 432x288 with 1 Axes>"
      ]
     },
     "metadata": {
      "needs_background": "light"
     },
     "output_type": "display_data"
    }
   ],
   "source": [
    "#summarize history for accuracy\n",
    "plt.plot(history.history[(list(history.history.keys())[1])])\n",
    "plt.plot(history.history[(list(history.history.keys())[3])])\n",
    "plt.title('model accuracy')\n",
    "plt.ylabel('accuracy')\n",
    "plt.xlabel('epoch')\n",
    "plt.legend(['train', 'val'], loc='upper left')\n",
    "plt.show()"
   ]
  },
  {
   "cell_type": "code",
   "execution_count": 16,
   "metadata": {},
   "outputs": [
    {
     "data": {
      "image/png": "[encoded data removed]",
      "text/plain": [
       "<Figure size 432x288 with 1 Axes>"
      ]
     },
     "metadata": {
      "needs_background": "light"
     },
     "output_type": "display_data"
    }
   ],
   "source": [
    "#summarize history for loss\n",
    "plt.plot(history.history[(list(history.history.keys())[0])])\n",
    "plt.plot(history.history[(list(history.history.keys())[2])])\n",
    "plt.title('model loss')\n",
    "plt.ylabel('loss')\n",
    "plt.xlabel('epoch')\n",
    "plt.legend(['train', 'val'], loc='upper left')\n",
    "plt.show()"
   ]
  },
  {
   "cell_type": "code",
   "execution_count": 17,
   "metadata": {},
   "outputs": [
    {
     "name": "stdout",
     "output_type": "stream",
     "text": [
      "predictions: [[0.39378676 0.2760205  0.33019277]\n",
      " [0.32782954 0.31943092 0.3527395 ]\n",
      " [0.37505192 0.30725032 0.31769773]\n",
      " [0.3175295  0.3369204  0.3455501 ]\n",
      " [0.3433469  0.30427825 0.35237494]\n",
      " [0.3064503  0.34443602 0.34911373]\n",
      " [0.37080818 0.30161303 0.3275788 ]\n",
      " [0.34675434 0.32579532 0.32745036]\n",
      " [0.35606351 0.30483192 0.33910453]\n",
      " [0.3644448  0.30589333 0.32966182]\n",
      " [0.34899983 0.32023993 0.33076024]\n",
      " [0.3265909  0.33174807 0.341661  ]\n",
      " [0.3997247  0.2801346  0.32014078]\n",
      " [0.3048882  0.34054598 0.35456583]\n",
      " [0.3849275  0.2975099  0.3175626 ]\n",
      " [0.36731353 0.3095136  0.32317296]\n",
      " [0.3672779  0.31538376 0.3173383 ]\n",
      " [0.34188226 0.31462225 0.3434955 ]\n",
      " [0.3375546  0.30754992 0.35489544]\n",
      " [0.37747258 0.29345736 0.32907   ]\n",
      " [0.39513618 0.30342227 0.3014416 ]\n",
      " [0.3401709  0.34278107 0.31704804]\n",
      " [0.3385579  0.30933982 0.3521023 ]\n",
      " [0.34536558 0.30903962 0.34559482]\n",
      " [0.35663915 0.30560836 0.33775243]\n",
      " [0.3511711  0.3009003  0.3479286 ]\n",
      " [0.33812723 0.34003702 0.32183573]\n",
      " [0.41526052 0.26881397 0.31592548]\n",
      " [0.360755   0.31398037 0.32526463]\n",
      " [0.37038305 0.31318036 0.31643665]\n",
      " [0.35387206 0.30295742 0.3431705 ]\n",
      " [0.3330618  0.3136481  0.35329008]\n",
      " [0.382056   0.29487795 0.32306603]\n",
      " [0.3384603  0.315883   0.34565675]\n",
      " [0.391311   0.29323807 0.31545097]\n",
      " [0.33564472 0.31127322 0.35308212]\n",
      " [0.36477178 0.30289206 0.33233616]\n",
      " [0.3769773  0.29673225 0.32629043]\n",
      " [0.30717123 0.33745387 0.35537493]\n",
      " [0.40140045 0.2850295  0.31357   ]\n",
      " [0.3612182  0.31870964 0.3200722 ]\n",
      " [0.36723316 0.29887307 0.33389378]\n",
      " [0.41226032 0.28277087 0.3049688 ]\n",
      " [0.39763775 0.28631052 0.31605178]\n",
      " [0.4062755  0.27176762 0.32195687]\n",
      " [0.35853517 0.31328207 0.32818273]\n",
      " [0.33830196 0.3131566  0.34854144]\n",
      " [0.3827223  0.28840488 0.3288729 ]\n",
      " [0.35400695 0.3071218  0.3388712 ]\n",
      " [0.339857   0.32832304 0.33181992]\n",
      " [0.29002523 0.34903434 0.36094043]\n",
      " [0.3602772  0.31295946 0.32676336]\n",
      " [0.32410926 0.3474482  0.32844254]\n",
      " [0.36674803 0.295922   0.33732995]\n",
      " [0.35870618 0.31128228 0.33001152]\n",
      " [0.31937727 0.31892133 0.36170134]\n",
      " [0.35851148 0.3165908  0.32489765]\n",
      " [0.38836598 0.2843377  0.32729635]\n",
      " [0.37864566 0.2907228  0.3306316 ]\n",
      " [0.37362102 0.3088645  0.31751445]\n",
      " [0.40393838 0.28578335 0.31027824]\n",
      " [0.3217824  0.32065347 0.35756412]\n",
      " [0.3928799  0.29280502 0.31431514]\n",
      " [0.33832094 0.30336815 0.3583109 ]\n",
      " [0.41239843 0.27825645 0.3093452 ]\n",
      " [0.3477884  0.3165065  0.3357051 ]\n",
      " [0.38342288 0.2929103  0.32366678]\n",
      " [0.3243895  0.31973025 0.3558803 ]\n",
      " [0.3182805  0.34378824 0.33793128]\n",
      " [0.35510752 0.30356374 0.34132877]\n",
      " [0.3298305  0.3207974  0.34937215]\n",
      " [0.3025757  0.34041986 0.3570044 ]\n",
      " [0.3332223  0.3151983  0.3515794 ]\n",
      " [0.34672454 0.31468868 0.33858675]\n",
      " [0.41807124 0.2756939  0.30623487]\n",
      " [0.3332603  0.29967844 0.36706126]\n",
      " [0.32892293 0.33786583 0.3332112 ]\n",
      " [0.37818208 0.29279384 0.32902414]\n",
      " [0.3647566  0.3130555  0.3221879 ]\n",
      " [0.35785493 0.31231573 0.32982934]\n",
      " [0.3470508  0.31872946 0.33421975]\n",
      " [0.41227293 0.2746929  0.31303418]\n",
      " [0.3829357  0.28424427 0.33281997]\n",
      " [0.38424644 0.29420874 0.3215448 ]\n",
      " [0.357708   0.2986479  0.3436441 ]\n",
      " [0.34371138 0.32376748 0.33252117]\n",
      " [0.3812743  0.2891441  0.32958165]\n",
      " [0.32076985 0.32610145 0.35312876]\n",
      " [0.3513422  0.30351102 0.34514672]\n",
      " [0.35458127 0.31243962 0.33297908]\n",
      " [0.3133325  0.33078665 0.3558809 ]\n",
      " [0.40158498 0.28520516 0.31320986]\n",
      " [0.38477355 0.28614098 0.32908553]\n",
      " [0.35008314 0.31217468 0.3377422 ]]\n"
     ]
    }
   ],
   "source": [
    "#generate predictions\n",
    "predictions = model.predict(X_test)\n",
    "print(\"predictions:\", predictions)"
   ]
  },
  {
   "cell_type": "code",
   "execution_count": 18,
   "metadata": {},
   "outputs": [
    {
     "name": "stdout",
     "output_type": "stream",
     "text": [
      "['B' 'M' 'B' 'M' 'M' 'M' 'B' 'B' 'B' 'B' 'B' 'M' 'B' 'M' 'B' 'B' 'B' 'M'\n",
      " 'M' 'B' 'B' 'C' 'M' 'M' 'B' 'B' 'C' 'B' 'B' 'B' 'B' 'M' 'B' 'M' 'B' 'M'\n",
      " 'B' 'B' 'M' 'B' 'B' 'B' 'B' 'B' 'B' 'B' 'M' 'B' 'B' 'B' 'M' 'B' 'C' 'B'\n",
      " 'B' 'M' 'B' 'B' 'B' 'B' 'B' 'M' 'B' 'M' 'B' 'B' 'B' 'M' 'C' 'B' 'M' 'M'\n",
      " 'M' 'B' 'B' 'M' 'C' 'B' 'B' 'B' 'B' 'B' 'B' 'B' 'B' 'B' 'B' 'M' 'B' 'B'\n",
      " 'M' 'B' 'B' 'B']\n"
     ]
    }
   ],
   "source": [
    "#remove encoding\n",
    "real_predictions_B = a_encoder.inverse_transform(predictions)\n",
    "print(real_predictions_B)"
   ]
  },
  {
   "cell_type": "code",
   "execution_count": 19,
   "metadata": {},
   "outputs": [
    {
     "data": {
      "text/plain": [
       "{'B': 63, 'C': 5, 'M': 26}"
      ]
     },
     "execution_count": 19,
     "metadata": {},
     "output_type": "execute_result"
    }
   ],
   "source": [
    "#prediction counts\n",
    "unique, counts = np.unique(real_predictions_B, return_counts=True)\n",
    "dict(zip(unique, counts))"
   ]
  },
  {
   "cell_type": "code",
   "execution_count": 20,
   "metadata": {},
   "outputs": [
    {
     "name": "stdout",
     "output_type": "stream",
     "text": [
      "['C' 'C' 'C' 'M' 'B' 'M' 'B' 'C' 'B' 'M' 'B' 'B' 'M' 'M' 'C' 'C' 'B' 'B'\n",
      " 'C' 'B' 'M' 'C' 'B' 'M' 'B' 'B' 'C' 'C' 'M' 'B' 'B' 'M' 'M' 'C' 'M' 'M'\n",
      " 'M' 'M' 'M' 'M' 'B' 'B' 'B' 'B' 'C' 'B' 'M' 'B' 'M' 'C' 'B' 'M' 'B' 'C'\n",
      " 'C' 'M' 'C' 'C' 'C' 'B' 'M' 'C' 'B' 'M' 'C' 'B' 'B' 'M' 'M' 'M' 'B' 'C'\n",
      " 'B' 'C' 'M' 'C' 'C' 'C' 'C' 'B' 'M' 'M' 'B' 'B' 'C' 'M' 'C' 'C' 'M' 'B'\n",
      " 'B' 'B' 'B' 'M']\n"
     ]
    }
   ],
   "source": [
    "#y_test predictions\n",
    "ytest_predictions = a_encoder.inverse_transform(y_test)\n",
    "print(ytest_predictions)"
   ]
  },
  {
   "cell_type": "code",
   "execution_count": 21,
   "metadata": {},
   "outputs": [
    {
     "data": {
      "text/plain": [
       "{'B': 34, 'C': 29, 'M': 31}"
      ]
     },
     "execution_count": 21,
     "metadata": {},
     "output_type": "execute_result"
    }
   ],
   "source": [
    "#real count\n",
    "unique, counts = np.unique(ytest_predictions, return_counts=True)\n",
    "dict(zip(unique, counts))"
   ]
  },
  {
   "cell_type": "code",
   "execution_count": 22,
   "metadata": {},
   "outputs": [
    {
     "data": {
      "image/png": "[encoded data removed]",
      "text/plain": [
       "<Figure size 432x288 with 2 Axes>"
      ]
     },
     "metadata": {
      "needs_background": "light"
     },
     "output_type": "display_data"
    }
   ],
   "source": [
    "#confusion matrix\n",
    "matrix = confusion_matrix(ytest_predictions, real_predictions_B)\n",
    "#format confusion matrix\n",
    "ax=plt.subplot()\n",
    "sns.heatmap(matrix, annot=True, ax = ax, cmap='Purples', fmt='g');\n",
    "accuracy = np.trace(matrix) / np.sum(matrix).astype('float')\n",
    "misclass = 1 - accuracy\n",
    "ax.set_xlabel('Predicted label\\naccuracy={:0.4f}; misclass={:0.4f}'.format(accuracy, misclass));\n",
    "ax.set_ylabel('True labels'); \n",
    "ax.set_title('Confusion Matrix');\n",
    "ax.xaxis.set_ticklabels(unique); ax.yaxis.set_ticklabels(unique);"
   ]
  },
  {
   "cell_type": "code",
   "execution_count": 23,
   "metadata": {},
   "outputs": [
    {
     "name": "stdout",
     "output_type": "stream",
     "text": [
      "              precision    recall  f1-score   support\n",
      "\n",
      "           B       0.40      0.74      0.52        34\n",
      "           C       0.60      0.10      0.18        29\n",
      "           M       0.42      0.35      0.39        31\n",
      "\n",
      "    accuracy                           0.41        94\n",
      "   macro avg       0.47      0.40      0.36        94\n",
      "weighted avg       0.47      0.41      0.37        94\n",
      "\n"
     ]
    }
   ],
   "source": [
    "print(classification_report(ytest_predictions, real_predictions_B))"
   ]
  },
  {
   "cell_type": "code",
   "execution_count": 24,
   "metadata": {},
   "outputs": [
    {
     "name": "stdout",
     "output_type": "stream",
     "text": [
      "precision score:0.4733\n",
      "recall score:0.3979\n",
      "f1 score:0.3593\n"
     ]
    }
   ],
   "source": [
    "#macro - calculate metrics for each label, and find their unweighted mean\n",
    "pre_score = precision_score(ytest_predictions, real_predictions_B, average = \"macro\")\n",
    "print('precision score:{:0.4f}'.format(pre_score))\n",
    "recall_score_1 = recall_score(ytest_predictions, real_predictions_B, average= \"macro\")\n",
    "print('recall score:{:0.4f}'.format(recall_score_1))\n",
    "f1_score_1 = f1_score(ytest_predictions, real_predictions_B, average=\"macro\")\n",
    "print('f1 score:{:0.4f}'.format(f1_score_1))"
   ]
  },
  {
   "cell_type": "code",
   "execution_count": null,
   "metadata": {},
   "outputs": [],
   "source": []
  }
 ],
 "metadata": {
  "kernelspec": {
   "display_name": "Python 3",
   "language": "python",
   "name": "python3"
  },
  "language_info": {
   "codemirror_mode": {
    "name": "ipython",
    "version": 3
   },
   "file_extension": ".py",
   "mimetype": "text/x-python",
   "name": "python",
   "nbconvert_exporter": "python",
   "pygments_lexer": "ipython3",
   "version": "3.8.3"
  }
 },
 "nbformat": 4,
 "nbformat_minor": 4
}
