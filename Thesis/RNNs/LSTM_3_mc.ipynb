{
 "cells": [
  {
   "cell_type": "code",
   "execution_count": 1,
   "metadata": {},
   "outputs": [],
   "source": [
    "#tensorboard via command-line:\n",
    "#tensorboard --logdir=where your Logs directory is"
   ]
  },
  {
   "cell_type": "code",
   "execution_count": 2,
   "metadata": {},
   "outputs": [],
   "source": [
    "#~~~~~~~~~~~~~~~~~~~~~~~~~~~~~~~~~~~~~~~~~~~~~~~~~~~~~~~~~~~~~~~~~~~~~~~~~~~~~~~~~~~~~~~~~~~~~~~~~~~~~~~#\n",
    "#What is the maximum flare class produced by an AR in the next 24hrs after a 24hr time sequence?\n",
    "#~~~~~~~~~~~~~~~~~~~~~~~~~~~~~~~~~~~~~~~~~~~~~~~~~~~~~~~~~~~~~~~~~~~~~~~~~~~~~~~~~~~~~~~~~~~~~~~~~~~~~~~#\n",
    "#feature data from - hmi.sharp_720s:::\n",
    "#http://jsoc.stanford.edu/doc/data/hmi/sharp/sharp.htm\n",
    "\n",
    "#label data from - GOES flare events:::\n",
    "#ftp://ftp.swpc.noaa.gov/pub/warehouse/\n",
    "\n",
    "#and from - GOES XRS Report:::\n",
    "#https://www.ngdc.noaa.gov/stp/space-weather/solar-data/solar-features/solar-flares/x-rays/goes/xrs/\n",
    "#~~~~~~~~~~~~~~~~~~~~~~~~~~~~~~~~~~~~~~~~~~~~~~~~~~~~~~~~~~~~~~~~~~~~~~~~~~~~~~~~~~~~~~~~~~~~~~~~~~~~~~~#\n",
    "#binary class - F for flare and N for no flare\n",
    "#multi-class - #6 flare classes: N is no flare, A is smallest, X is largest\n",
    "               #key = {'N', 'A', 'B', 'C', 'M', 'X'}\n",
    "               #['A' class flares generally not listed in official reports due to small size]\n",
    "#~~~~~~~~~~~~~~~~~~~~~~~~~~~~~~~~~~~~~~~~~~~~~~~~~~~~~~~~~~~~~~~~~~~~~~~~~~~~~~~~~~~~~~~~~~~~~~~~~~~~~~~#"
   ]
  },
  {
   "cell_type": "code",
   "execution_count": 3,
   "metadata": {},
   "outputs": [
    {
     "name": "stdout",
     "output_type": "stream",
     "text": [
      "tensorflow version: 2.3.1\n"
     ]
    }
   ],
   "source": [
    "import tensorflow as tf\n",
    "print(\"tensorflow version:\", tf.__version__) #2.3.1 used\n",
    "from tensorflow import keras\n",
    "import os\n",
    "import glob\n",
    "import shutil\n",
    "import datetime\n",
    "import numpy as np\n",
    "import pandas as pd\n",
    "import seaborn as sns\n",
    "from pathlib import Path\n",
    "from astropy.time import Time\n",
    "from matplotlib import pyplot as plt\n",
    "from sklearn.metrics import f1_score, precision_score, recall_score, classification_report, confusion_matrix\n",
    "from sklearn.metrics import plot_confusion_matrix\n",
    "from sklearn.preprocessing import LabelBinarizer\n",
    "from sklearn.model_selection import train_test_split\n",
    "from sklearn.preprocessing import MinMaxScaler\n",
    "from tensorflow.keras.layers import Dropout, Dense, SimpleRNN, LSTM, GRU, GaussianNoise\n",
    "from tensorflow.keras.models import Model, Sequential\n",
    "from tensorflow.keras.optimizers import SGD, RMSprop, Adam\n",
    "import drms #https://pypi.org/project/drms/\n",
    "#~~~~~~~~~~~~~~~~~~~~~~~~~~~~~~~~~~~~~~~~~~~~~~~~~~~~~~~~~~~~~~~~~~~~~~~~~~~~~~~~~~~~~~~~~~~~~~~~~~~~~~~#\n",
    "import Flare_Data\n",
    "import Feature_Years\n",
    "import Make_TB_Logs\n",
    "#~~~~~~~~~~~~~~~~~~~~~~~~~~~~~~~~~~~~~~~~~~~~~~~~~~~~~~~~~~~~~~~~~~~~~~~~~~~~~~~~~~~~~~~~~~~~~~~~~~~~~~~#"
   ]
  },
  {
   "cell_type": "code",
   "execution_count": 4,
   "metadata": {},
   "outputs": [
    {
     "name": "stdout",
     "output_type": "stream",
     "text": [
      "CSVs compiled.\n"
     ]
    }
   ],
   "source": [
    "Feature_Years.generate_all_feature_years()"
   ]
  },
  {
   "cell_type": "code",
   "execution_count": 5,
   "metadata": {},
   "outputs": [],
   "source": [
    "where_logs = Make_TB_Logs.make_clear_tensorboard_folder()"
   ]
  },
  {
   "cell_type": "code",
   "execution_count": 6,
   "metadata": {},
   "outputs": [
    {
     "name": "stdout",
     "output_type": "stream",
     "text": [
      "The time series starts from:  2011-01-01 00:11:26\n",
      "The time series ends on:  2016-12-31 23:47:24\n",
      "(array(['B', 'C', 'M'], dtype='<U1'), array([167, 147, 155], dtype=int64))\n"
     ]
    }
   ],
   "source": [
    "#binary = True for binary classification, binary = False for multi-class classification\n",
    "X_train, X_val, X_test, y_train, y_val, y_test, tim_steps, n_feats, count_of_classes, a_encoder = Flare_Data.getAllData(binary = False)"
   ]
  },
  {
   "cell_type": "code",
   "execution_count": 7,
   "metadata": {},
   "outputs": [
    {
     "name": "stdout",
     "output_type": "stream",
     "text": [
      "(300, 114, 20) (75, 114, 20) (94, 114, 20) (300, 3) (75, 3) (94, 3)\n"
     ]
    }
   ],
   "source": [
    "print(X_train.shape, X_val.shape, X_test.shape, y_train.shape, y_val.shape, y_test.shape)"
   ]
  },
  {
   "cell_type": "code",
   "execution_count": 8,
   "metadata": {},
   "outputs": [],
   "source": [
    "#~~~~~~~~~~~~~~~~~~~~~~~~~~~~~~~~~~~~~~~~~~~~~~~~~~~~~~~~~~~~~~~~~~~~~~~~~~~~~~~~~~~~~~~~~~~~~~~~~~~~~~~~~~#\n",
    "#~~~~~~~~~~~~~~~~~~~~~~~~~~~~~~~~~~~~~~~~~~~~~~~~~~~~~~~~~~~~~~~~~~~~~~~~~~~~~~~~~~~~~~~~~~~~~~~~~~~~~~~~~~#"
   ]
  },
  {
   "cell_type": "code",
   "execution_count": 9,
   "metadata": {},
   "outputs": [],
   "source": [
    "batch_size = 10\n",
    "epochs = 100\n",
    "optimizer = Adam(lr=0.0001, beta_1=0.9, beta_2=0.999, epsilon=1e-06, decay=0.0)"
   ]
  },
  {
   "cell_type": "code",
   "execution_count": 10,
   "metadata": {},
   "outputs": [],
   "source": [
    "#~~~~~~~~~~~~~~~~~~~~~~~~~~~~~~~~~~~~~~~~~[LSTM_3 Model]~~~~~~~~~~~~~~~~~~~~~~~~~~~~~~~~~~~~~~~~~~~~~~~~~~~#\n",
    "#~~~~~~~~~~~~~~~~~~~~~~~~~~~~~~~~~~~~~~~~~[Multi-Class]~~~~~~~~~~~~~~~~~~~~~~~~~~~~~~~~~~~~~~~~~~~~~~~~~~~~#\n",
    "#~~~~~~~~~~~~~~~~~~~~~~~~~~~~~~~~~~~~~~~~~[Single Layer]~~~~~~~~~~~~~~~~~~~~~~~~~~~~~~~~~~~~~~~~~~~~~~~~~~~#\n",
    "model = Sequential()\n",
    "model.add(LSTM(32, input_shape=(tim_steps, n_feats)))\n",
    "model.add(GaussianNoise(0.01))\n",
    "model.add(Dropout(0.1))\n",
    "model.add(Dense(count_of_classes, activation='softmax'))\n",
    "model.compile(loss='categorical_crossentropy', optimizer=optimizer, metrics=['categorical_accuracy'])\n",
    "#~~~~~~~~~~~~~~~~~~~~~~~~~~~~~~~~~~~~~~~~~~~~~~~~~~~~~~~~~~~~~~~~~~~~~~~~~~~~~~~~~~~~~~~~~~~~~~~~~~~~~~~~~~#\n",
    "#~~~~~~~~~~~~~~~~~~~~~~~~~~~~~~~~~~~~~~~~~~~~~~~~~~~~~~~~~~~~~~~~~~~~~~~~~~~~~~~~~~~~~~~~~~~~~~~~~~~~~~~~~~#"
   ]
  },
  {
   "cell_type": "code",
   "execution_count": 11,
   "metadata": {},
   "outputs": [
    {
     "name": "stdout",
     "output_type": "stream",
     "text": [
      "Model: \"sequential\"\n",
      "_________________________________________________________________\n",
      "Layer (type)                 Output Shape              Param #   \n",
      "=================================================================\n",
      "lstm (LSTM)                  (None, 32)                6784      \n",
      "_________________________________________________________________\n",
      "gaussian_noise (GaussianNois (None, 32)                0         \n",
      "_________________________________________________________________\n",
      "dropout (Dropout)            (None, 32)                0         \n",
      "_________________________________________________________________\n",
      "dense (Dense)                (None, 3)                 99        \n",
      "=================================================================\n",
      "Total params: 6,883\n",
      "Trainable params: 6,883\n",
      "Non-trainable params: 0\n",
      "_________________________________________________________________\n"
     ]
    }
   ],
   "source": [
    "model.summary()"
   ]
  },
  {
   "cell_type": "code",
   "execution_count": 12,
   "metadata": {},
   "outputs": [],
   "source": [
    "tensorboard_call = keras.callbacks.TensorBoard(log_dir=where_logs, histogram_freq=1)\n",
    "#val_loss_callback = tf.keras.callbacks.EarlyStopping(monitor='val_loss', patience=10)"
   ]
  },
  {
   "cell_type": "code",
   "execution_count": 13,
   "metadata": {},
   "outputs": [
    {
     "name": "stdout",
     "output_type": "stream",
     "text": [
      "Epoch 1/100\n",
      " 1/30 [>.............................] - ETA: 0s - loss: 1.0218 - categorical_accuracy: 0.5000WARNING:tensorflow:From C:\\ProgramData\\Anaconda3\\lib\\site-packages\\tensorflow\\python\\ops\\summary_ops_v2.py:1277: stop (from tensorflow.python.eager.profiler) is deprecated and will be removed after 2020-07-01.\n",
      "Instructions for updating:\n",
      "use `tf.profiler.experimental.stop` instead.\n",
      " 2/30 [=>............................] - ETA: 4s - loss: 0.9984 - categorical_accuracy: 0.6000WARNING:tensorflow:Callbacks method `on_train_batch_end` is slow compared to the batch time (batch time: 0.0318s vs `on_train_batch_end` time: 0.2752s). Check your callbacks.\n",
      "30/30 [==============================] - 2s 50ms/step - loss: 1.1050 - categorical_accuracy: 0.3333 - val_loss: 1.1137 - val_categorical_accuracy: 0.3333\n",
      "Epoch 2/100\n",
      "30/30 [==============================] - 1s 21ms/step - loss: 1.1024 - categorical_accuracy: 0.3467 - val_loss: 1.1087 - val_categorical_accuracy: 0.2933\n",
      "Epoch 3/100\n",
      "30/30 [==============================] - 1s 22ms/step - loss: 1.1030 - categorical_accuracy: 0.3300 - val_loss: 1.1066 - val_categorical_accuracy: 0.2933\n",
      "Epoch 4/100\n",
      "30/30 [==============================] - 1s 21ms/step - loss: 1.1001 - categorical_accuracy: 0.3100 - val_loss: 1.1054 - val_categorical_accuracy: 0.3067\n",
      "Epoch 5/100\n",
      "30/30 [==============================] - 1s 21ms/step - loss: 1.0998 - categorical_accuracy: 0.3533 - val_loss: 1.1054 - val_categorical_accuracy: 0.2933\n",
      "Epoch 6/100\n",
      "30/30 [==============================] - 1s 21ms/step - loss: 1.0912 - categorical_accuracy: 0.3767 - val_loss: 1.1053 - val_categorical_accuracy: 0.3200\n",
      "Epoch 7/100\n",
      "30/30 [==============================] - 1s 20ms/step - loss: 1.1014 - categorical_accuracy: 0.3367 - val_loss: 1.1051 - val_categorical_accuracy: 0.3333\n",
      "Epoch 8/100\n",
      "30/30 [==============================] - 1s 21ms/step - loss: 1.1056 - categorical_accuracy: 0.3200 - val_loss: 1.1050 - val_categorical_accuracy: 0.3467\n",
      "Epoch 9/100\n",
      "30/30 [==============================] - 1s 22ms/step - loss: 1.1014 - categorical_accuracy: 0.3733 - val_loss: 1.1053 - val_categorical_accuracy: 0.3467\n",
      "Epoch 10/100\n",
      "30/30 [==============================] - 1s 21ms/step - loss: 1.1030 - categorical_accuracy: 0.3367 - val_loss: 1.1054 - val_categorical_accuracy: 0.3467\n",
      "Epoch 11/100\n",
      "30/30 [==============================] - 1s 24ms/step - loss: 1.0967 - categorical_accuracy: 0.3733 - val_loss: 1.1054 - val_categorical_accuracy: 0.3467\n",
      "Epoch 12/100\n",
      "30/30 [==============================] - 1s 21ms/step - loss: 1.0970 - categorical_accuracy: 0.3500 - val_loss: 1.1058 - val_categorical_accuracy: 0.3200\n",
      "Epoch 13/100\n",
      "30/30 [==============================] - 1s 21ms/step - loss: 1.0948 - categorical_accuracy: 0.3267 - val_loss: 1.1065 - val_categorical_accuracy: 0.2933\n",
      "Epoch 14/100\n",
      "30/30 [==============================] - 1s 21ms/step - loss: 1.0893 - categorical_accuracy: 0.3933 - val_loss: 1.1058 - val_categorical_accuracy: 0.3333\n",
      "Epoch 15/100\n",
      "30/30 [==============================] - 1s 21ms/step - loss: 1.0890 - categorical_accuracy: 0.3733 - val_loss: 1.1060 - val_categorical_accuracy: 0.3200\n",
      "Epoch 16/100\n",
      "30/30 [==============================] - 1s 21ms/step - loss: 1.0875 - categorical_accuracy: 0.3900 - val_loss: 1.1060 - val_categorical_accuracy: 0.3333\n",
      "Epoch 17/100\n",
      "30/30 [==============================] - 1s 22ms/step - loss: 1.0912 - categorical_accuracy: 0.3800 - val_loss: 1.1064 - val_categorical_accuracy: 0.3333\n",
      "Epoch 18/100\n",
      "30/30 [==============================] - 1s 21ms/step - loss: 1.0933 - categorical_accuracy: 0.3500 - val_loss: 1.1063 - val_categorical_accuracy: 0.3333\n",
      "Epoch 19/100\n",
      "30/30 [==============================] - 1s 20ms/step - loss: 1.0909 - categorical_accuracy: 0.3633 - val_loss: 1.1068 - val_categorical_accuracy: 0.3200\n",
      "Epoch 20/100\n",
      "30/30 [==============================] - 1s 22ms/step - loss: 1.0915 - categorical_accuracy: 0.4100 - val_loss: 1.1066 - val_categorical_accuracy: 0.3467\n",
      "Epoch 21/100\n",
      "30/30 [==============================] - 1s 21ms/step - loss: 1.0908 - categorical_accuracy: 0.3667 - val_loss: 1.1068 - val_categorical_accuracy: 0.3333\n",
      "Epoch 22/100\n",
      "30/30 [==============================] - 1s 21ms/step - loss: 1.0943 - categorical_accuracy: 0.3633 - val_loss: 1.1071 - val_categorical_accuracy: 0.3067\n",
      "Epoch 23/100\n",
      "30/30 [==============================] - 1s 21ms/step - loss: 1.0898 - categorical_accuracy: 0.3533 - val_loss: 1.1074 - val_categorical_accuracy: 0.3200\n",
      "Epoch 24/100\n",
      "30/30 [==============================] - 1s 21ms/step - loss: 1.0853 - categorical_accuracy: 0.3900 - val_loss: 1.1072 - val_categorical_accuracy: 0.3333\n",
      "Epoch 25/100\n",
      "30/30 [==============================] - 1s 21ms/step - loss: 1.0794 - categorical_accuracy: 0.4300 - val_loss: 1.1082 - val_categorical_accuracy: 0.3333\n",
      "Epoch 26/100\n",
      "30/30 [==============================] - 1s 21ms/step - loss: 1.0848 - categorical_accuracy: 0.4000 - val_loss: 1.1078 - val_categorical_accuracy: 0.2933\n",
      "Epoch 27/100\n",
      "30/30 [==============================] - 1s 21ms/step - loss: 1.0793 - categorical_accuracy: 0.3833 - val_loss: 1.1081 - val_categorical_accuracy: 0.3200\n",
      "Epoch 28/100\n",
      "30/30 [==============================] - 1s 22ms/step - loss: 1.0923 - categorical_accuracy: 0.3400 - val_loss: 1.1091 - val_categorical_accuracy: 0.3067\n",
      "Epoch 29/100\n",
      "30/30 [==============================] - 1s 28ms/step - loss: 1.0860 - categorical_accuracy: 0.3600 - val_loss: 1.1091 - val_categorical_accuracy: 0.3200\n",
      "Epoch 30/100\n",
      "30/30 [==============================] - 1s 21ms/step - loss: 1.0807 - categorical_accuracy: 0.3800 - val_loss: 1.1094 - val_categorical_accuracy: 0.3067\n",
      "Epoch 31/100\n",
      "30/30 [==============================] - 1s 22ms/step - loss: 1.0851 - categorical_accuracy: 0.4033 - val_loss: 1.1099 - val_categorical_accuracy: 0.3333\n",
      "Epoch 32/100\n",
      "30/30 [==============================] - 1s 21ms/step - loss: 1.0804 - categorical_accuracy: 0.4100 - val_loss: 1.1098 - val_categorical_accuracy: 0.3467\n",
      "Epoch 33/100\n",
      "30/30 [==============================] - 1s 21ms/step - loss: 1.0837 - categorical_accuracy: 0.4033 - val_loss: 1.1111 - val_categorical_accuracy: 0.3467\n",
      "Epoch 34/100\n",
      "30/30 [==============================] - 1s 23ms/step - loss: 1.0881 - categorical_accuracy: 0.3667 - val_loss: 1.1114 - val_categorical_accuracy: 0.3067\n",
      "Epoch 35/100\n",
      "30/30 [==============================] - 1s 22ms/step - loss: 1.0912 - categorical_accuracy: 0.3767 - val_loss: 1.1134 - val_categorical_accuracy: 0.3733\n",
      "Epoch 36/100\n",
      "30/30 [==============================] - 1s 23ms/step - loss: 1.0844 - categorical_accuracy: 0.4100 - val_loss: 1.1134 - val_categorical_accuracy: 0.3067\n",
      "Epoch 37/100\n",
      "30/30 [==============================] - 1s 22ms/step - loss: 1.0778 - categorical_accuracy: 0.4067 - val_loss: 1.1142 - val_categorical_accuracy: 0.3200\n",
      "Epoch 38/100\n",
      "30/30 [==============================] - 1s 22ms/step - loss: 1.0764 - categorical_accuracy: 0.4067 - val_loss: 1.1173 - val_categorical_accuracy: 0.3067\n",
      "Epoch 39/100\n",
      "30/30 [==============================] - 1s 21ms/step - loss: 1.0774 - categorical_accuracy: 0.3900 - val_loss: 1.1165 - val_categorical_accuracy: 0.3333\n",
      "Epoch 40/100\n",
      "30/30 [==============================] - 1s 21ms/step - loss: 1.0805 - categorical_accuracy: 0.4100 - val_loss: 1.1191 - val_categorical_accuracy: 0.3067\n",
      "Epoch 41/100\n",
      "30/30 [==============================] - 1s 20ms/step - loss: 1.0690 - categorical_accuracy: 0.4533 - val_loss: 1.1213 - val_categorical_accuracy: 0.3067\n",
      "Epoch 42/100\n",
      "30/30 [==============================] - 1s 23ms/step - loss: 1.0692 - categorical_accuracy: 0.4033 - val_loss: 1.1266 - val_categorical_accuracy: 0.2800\n",
      "Epoch 43/100\n",
      "30/30 [==============================] - 1s 23ms/step - loss: 1.0758 - categorical_accuracy: 0.4100 - val_loss: 1.1326 - val_categorical_accuracy: 0.2800\n",
      "Epoch 44/100\n",
      "30/30 [==============================] - 1s 23ms/step - loss: 1.0710 - categorical_accuracy: 0.4400 - val_loss: 1.1359 - val_categorical_accuracy: 0.2800\n",
      "Epoch 45/100\n",
      "30/30 [==============================] - 1s 22ms/step - loss: 1.0622 - categorical_accuracy: 0.4567 - val_loss: 1.1309 - val_categorical_accuracy: 0.3733\n",
      "Epoch 46/100\n"
     ]
    },
    {
     "name": "stdout",
     "output_type": "stream",
     "text": [
      "30/30 [==============================] - 1s 21ms/step - loss: 1.0790 - categorical_accuracy: 0.3967 - val_loss: 1.1379 - val_categorical_accuracy: 0.2800\n",
      "Epoch 47/100\n",
      "30/30 [==============================] - 1s 22ms/step - loss: 1.0660 - categorical_accuracy: 0.4300 - val_loss: 1.1375 - val_categorical_accuracy: 0.3333\n",
      "Epoch 48/100\n",
      "30/30 [==============================] - 1s 23ms/step - loss: 1.0620 - categorical_accuracy: 0.4600 - val_loss: 1.1398 - val_categorical_accuracy: 0.3333\n",
      "Epoch 49/100\n",
      "30/30 [==============================] - 1s 21ms/step - loss: 1.0635 - categorical_accuracy: 0.4233 - val_loss: 1.1526 - val_categorical_accuracy: 0.2933\n",
      "Epoch 50/100\n",
      "30/30 [==============================] - 1s 22ms/step - loss: 1.0488 - categorical_accuracy: 0.4467 - val_loss: 1.1560 - val_categorical_accuracy: 0.3600\n",
      "Epoch 51/100\n",
      "30/30 [==============================] - 1s 23ms/step - loss: 1.0759 - categorical_accuracy: 0.4133 - val_loss: 1.1590 - val_categorical_accuracy: 0.2667\n",
      "Epoch 52/100\n",
      "30/30 [==============================] - 1s 21ms/step - loss: 1.0568 - categorical_accuracy: 0.4467 - val_loss: 1.1538 - val_categorical_accuracy: 0.3200\n",
      "Epoch 53/100\n",
      "30/30 [==============================] - 1s 21ms/step - loss: 1.0553 - categorical_accuracy: 0.4600 - val_loss: 1.1583 - val_categorical_accuracy: 0.3467\n",
      "Epoch 54/100\n",
      "30/30 [==============================] - 1s 20ms/step - loss: 1.0553 - categorical_accuracy: 0.4333 - val_loss: 1.1696 - val_categorical_accuracy: 0.2933\n",
      "Epoch 55/100\n",
      "30/30 [==============================] - 1s 21ms/step - loss: 1.0622 - categorical_accuracy: 0.4567 - val_loss: 1.1696 - val_categorical_accuracy: 0.2933\n",
      "Epoch 56/100\n",
      "30/30 [==============================] - 1s 22ms/step - loss: 1.0677 - categorical_accuracy: 0.4267 - val_loss: 1.1616 - val_categorical_accuracy: 0.3067\n",
      "Epoch 57/100\n",
      "30/30 [==============================] - 1s 21ms/step - loss: 1.0525 - categorical_accuracy: 0.4300 - val_loss: 1.1597 - val_categorical_accuracy: 0.3333\n",
      "Epoch 58/100\n",
      "30/30 [==============================] - 1s 21ms/step - loss: 1.0430 - categorical_accuracy: 0.4533 - val_loss: 1.1669 - val_categorical_accuracy: 0.3333\n",
      "Epoch 59/100\n",
      "30/30 [==============================] - 1s 21ms/step - loss: 1.0514 - categorical_accuracy: 0.4900 - val_loss: 1.1656 - val_categorical_accuracy: 0.3067\n",
      "Epoch 60/100\n",
      "30/30 [==============================] - 1s 20ms/step - loss: 1.0571 - categorical_accuracy: 0.4600 - val_loss: 1.1801 - val_categorical_accuracy: 0.2800\n",
      "Epoch 61/100\n",
      "30/30 [==============================] - 1s 20ms/step - loss: 1.0493 - categorical_accuracy: 0.4467 - val_loss: 1.1597 - val_categorical_accuracy: 0.3200\n",
      "Epoch 62/100\n",
      "30/30 [==============================] - 1s 20ms/step - loss: 1.0482 - categorical_accuracy: 0.4667 - val_loss: 1.1721 - val_categorical_accuracy: 0.3200\n",
      "Epoch 63/100\n",
      "30/30 [==============================] - 1s 20ms/step - loss: 1.0446 - categorical_accuracy: 0.4733 - val_loss: 1.1685 - val_categorical_accuracy: 0.2933\n",
      "Epoch 64/100\n",
      "30/30 [==============================] - 1s 21ms/step - loss: 1.0387 - categorical_accuracy: 0.4433 - val_loss: 1.1662 - val_categorical_accuracy: 0.3333\n",
      "Epoch 65/100\n",
      "30/30 [==============================] - 1s 22ms/step - loss: 1.0458 - categorical_accuracy: 0.4633 - val_loss: 1.1724 - val_categorical_accuracy: 0.3333\n",
      "Epoch 66/100\n",
      "30/30 [==============================] - 1s 21ms/step - loss: 1.0382 - categorical_accuracy: 0.4700 - val_loss: 1.1740 - val_categorical_accuracy: 0.3200\n",
      "Epoch 67/100\n",
      "30/30 [==============================] - 1s 21ms/step - loss: 1.0484 - categorical_accuracy: 0.4467 - val_loss: 1.1721 - val_categorical_accuracy: 0.3467\n",
      "Epoch 68/100\n",
      "30/30 [==============================] - 1s 22ms/step - loss: 1.0515 - categorical_accuracy: 0.4433 - val_loss: 1.1696 - val_categorical_accuracy: 0.3600\n",
      "Epoch 69/100\n",
      "30/30 [==============================] - 1s 20ms/step - loss: 1.0458 - categorical_accuracy: 0.4467 - val_loss: 1.1708 - val_categorical_accuracy: 0.3067\n",
      "Epoch 70/100\n",
      "30/30 [==============================] - 1s 21ms/step - loss: 1.0429 - categorical_accuracy: 0.4800 - val_loss: 1.1739 - val_categorical_accuracy: 0.3333\n",
      "Epoch 71/100\n",
      "30/30 [==============================] - 1s 24ms/step - loss: 1.0481 - categorical_accuracy: 0.4967 - val_loss: 1.1732 - val_categorical_accuracy: 0.3467\n",
      "Epoch 72/100\n",
      "30/30 [==============================] - 1s 24ms/step - loss: 1.0369 - categorical_accuracy: 0.4900 - val_loss: 1.1832 - val_categorical_accuracy: 0.3467\n",
      "Epoch 73/100\n",
      "30/30 [==============================] - 1s 20ms/step - loss: 1.0454 - categorical_accuracy: 0.4833 - val_loss: 1.1762 - val_categorical_accuracy: 0.3333\n",
      "Epoch 74/100\n",
      "30/30 [==============================] - 1s 22ms/step - loss: 1.0359 - categorical_accuracy: 0.4833 - val_loss: 1.1786 - val_categorical_accuracy: 0.3333\n",
      "Epoch 75/100\n",
      "30/30 [==============================] - 1s 21ms/step - loss: 1.0332 - categorical_accuracy: 0.4867 - val_loss: 1.1855 - val_categorical_accuracy: 0.3333\n",
      "Epoch 76/100\n",
      "30/30 [==============================] - 1s 21ms/step - loss: 1.0295 - categorical_accuracy: 0.4900 - val_loss: 1.1888 - val_categorical_accuracy: 0.3200\n",
      "Epoch 77/100\n",
      "30/30 [==============================] - 1s 21ms/step - loss: 1.0249 - categorical_accuracy: 0.4933 - val_loss: 1.2051 - val_categorical_accuracy: 0.2800\n",
      "Epoch 78/100\n",
      "30/30 [==============================] - 1s 21ms/step - loss: 1.0202 - categorical_accuracy: 0.4933 - val_loss: 1.1976 - val_categorical_accuracy: 0.3200\n",
      "Epoch 79/100\n",
      "30/30 [==============================] - 1s 21ms/step - loss: 1.0262 - categorical_accuracy: 0.5033 - val_loss: 1.2073 - val_categorical_accuracy: 0.2800\n",
      "Epoch 80/100\n",
      "30/30 [==============================] - 1s 21ms/step - loss: 1.0195 - categorical_accuracy: 0.4867 - val_loss: 1.2029 - val_categorical_accuracy: 0.3067\n",
      "Epoch 81/100\n",
      "30/30 [==============================] - 1s 21ms/step - loss: 1.0474 - categorical_accuracy: 0.4800 - val_loss: 1.1830 - val_categorical_accuracy: 0.3467\n",
      "Epoch 82/100\n",
      "30/30 [==============================] - 1s 21ms/step - loss: 1.0227 - categorical_accuracy: 0.4867 - val_loss: 1.2021 - val_categorical_accuracy: 0.2800\n",
      "Epoch 83/100\n",
      "30/30 [==============================] - 1s 21ms/step - loss: 1.0306 - categorical_accuracy: 0.4800 - val_loss: 1.2002 - val_categorical_accuracy: 0.3067\n",
      "Epoch 84/100\n",
      "30/30 [==============================] - 1s 21ms/step - loss: 1.0104 - categorical_accuracy: 0.5067 - val_loss: 1.1773 - val_categorical_accuracy: 0.3733\n",
      "Epoch 85/100\n",
      "30/30 [==============================] - 1s 21ms/step - loss: 1.0348 - categorical_accuracy: 0.5033 - val_loss: 1.2035 - val_categorical_accuracy: 0.2800\n",
      "Epoch 86/100\n",
      "30/30 [==============================] - 1s 21ms/step - loss: 1.0238 - categorical_accuracy: 0.4900 - val_loss: 1.2106 - val_categorical_accuracy: 0.2667\n",
      "Epoch 87/100\n",
      "30/30 [==============================] - 1s 20ms/step - loss: 1.0073 - categorical_accuracy: 0.5067 - val_loss: 1.2014 - val_categorical_accuracy: 0.3067\n",
      "Epoch 88/100\n",
      "30/30 [==============================] - 1s 21ms/step - loss: 1.0218 - categorical_accuracy: 0.4967 - val_loss: 1.2073 - val_categorical_accuracy: 0.2667\n",
      "Epoch 89/100\n",
      "30/30 [==============================] - 1s 21ms/step - loss: 1.0210 - categorical_accuracy: 0.5033 - val_loss: 1.2084 - val_categorical_accuracy: 0.3333\n",
      "Epoch 90/100\n",
      "30/30 [==============================] - 1s 21ms/step - loss: 1.0273 - categorical_accuracy: 0.4533 - val_loss: 1.1992 - val_categorical_accuracy: 0.2800\n",
      "Epoch 91/100\n",
      "30/30 [==============================] - 1s 21ms/step - loss: 1.0261 - categorical_accuracy: 0.4967 - val_loss: 1.1981 - val_categorical_accuracy: 0.2800\n",
      "Epoch 92/100\n",
      "30/30 [==============================] - 1s 21ms/step - loss: 1.0172 - categorical_accuracy: 0.4733 - val_loss: 1.2205 - val_categorical_accuracy: 0.2667\n",
      "Epoch 93/100\n",
      "30/30 [==============================] - 1s 21ms/step - loss: 1.0157 - categorical_accuracy: 0.5100 - val_loss: 1.2019 - val_categorical_accuracy: 0.3600\n",
      "Epoch 94/100\n",
      "30/30 [==============================] - 1s 22ms/step - loss: 1.0332 - categorical_accuracy: 0.4767 - val_loss: 1.2113 - val_categorical_accuracy: 0.2800\n",
      "Epoch 95/100\n"
     ]
    },
    {
     "name": "stdout",
     "output_type": "stream",
     "text": [
      "30/30 [==============================] - 1s 20ms/step - loss: 0.9957 - categorical_accuracy: 0.5033 - val_loss: 1.1872 - val_categorical_accuracy: 0.3067\n",
      "Epoch 96/100\n",
      "30/30 [==============================] - 1s 20ms/step - loss: 1.0179 - categorical_accuracy: 0.5300 - val_loss: 1.2229 - val_categorical_accuracy: 0.2933\n",
      "Epoch 97/100\n",
      "30/30 [==============================] - 1s 20ms/step - loss: 1.0142 - categorical_accuracy: 0.5000 - val_loss: 1.2239 - val_categorical_accuracy: 0.2933\n",
      "Epoch 98/100\n",
      "30/30 [==============================] - 1s 21ms/step - loss: 1.0232 - categorical_accuracy: 0.4900 - val_loss: 1.1843 - val_categorical_accuracy: 0.3067\n",
      "Epoch 99/100\n",
      "30/30 [==============================] - 1s 21ms/step - loss: 1.0309 - categorical_accuracy: 0.4867 - val_loss: 1.2015 - val_categorical_accuracy: 0.3333\n",
      "Epoch 100/100\n",
      "30/30 [==============================] - 1s 20ms/step - loss: 1.0229 - categorical_accuracy: 0.5000 - val_loss: 1.1981 - val_categorical_accuracy: 0.3733\n"
     ]
    }
   ],
   "source": [
    "history = model.fit(X_train, y_train, \n",
    "                    batch_size=batch_size, \n",
    "                    epochs=epochs, \n",
    "                    validation_data=(X_val, y_val), \n",
    "                    verbose=1, \n",
    "                    callbacks=[tensorboard_call]) #, val_loss_callback])"
   ]
  },
  {
   "cell_type": "code",
   "execution_count": 14,
   "metadata": {},
   "outputs": [
    {
     "name": "stdout",
     "output_type": "stream",
     "text": [
      "94/94 [==============================] - 0s 5ms/step - loss: 1.1832 - categorical_accuracy: 0.3404\n",
      "test loss, test acc: [1.183213710784912, 0.3404255211353302]\n"
     ]
    }
   ],
   "source": [
    "#evaluate model on test set\n",
    "results = model.evaluate(X_test, y_test, batch_size=1, verbose=1)\n",
    "print(\"test loss, test acc:\", results)"
   ]
  },
  {
   "cell_type": "code",
   "execution_count": 15,
   "metadata": {},
   "outputs": [
    {
     "data": {
      "image/png": "[encoded data removed]",
      "text/plain": [
       "<Figure size 432x288 with 1 Axes>"
      ]
     },
     "metadata": {
      "needs_background": "light"
     },
     "output_type": "display_data"
    }
   ],
   "source": [
    "#summarize history for accuracy\n",
    "plt.plot(history.history[(list(history.history.keys())[1])])\n",
    "plt.plot(history.history[(list(history.history.keys())[3])])\n",
    "plt.title('model accuracy')\n",
    "plt.ylabel('accuracy')\n",
    "plt.xlabel('epoch')\n",
    "plt.legend(['train', 'val'], loc='upper left')\n",
    "plt.show()"
   ]
  },
  {
   "cell_type": "code",
   "execution_count": 16,
   "metadata": {},
   "outputs": [
    {
     "data": {
      "image/png": "[encoded data removed]",
      "text/plain": [
       "<Figure size 432x288 with 1 Axes>"
      ]
     },
     "metadata": {
      "needs_background": "light"
     },
     "output_type": "display_data"
    }
   ],
   "source": [
    "#summarize history for loss\n",
    "plt.plot(history.history[(list(history.history.keys())[0])])\n",
    "plt.plot(history.history[(list(history.history.keys())[2])])\n",
    "plt.title('model loss')\n",
    "plt.ylabel('loss')\n",
    "plt.xlabel('epoch')\n",
    "plt.legend(['train', 'val'], loc='upper left')\n",
    "plt.show()"
   ]
  },
  {
   "cell_type": "code",
   "execution_count": 17,
   "metadata": {},
   "outputs": [
    {
     "name": "stdout",
     "output_type": "stream",
     "text": [
      "predictions: [[0.38225552 0.21661538 0.40112904]\n",
      " [0.5611268  0.17563856 0.26323456]\n",
      " [0.20443387 0.50327736 0.29228875]\n",
      " [0.5934132  0.23071069 0.17587611]\n",
      " [0.5064087  0.16403529 0.32955605]\n",
      " [0.4221695  0.23659152 0.34123895]\n",
      " [0.45620838 0.24168913 0.30210245]\n",
      " [0.60142195 0.2199879  0.17859018]\n",
      " [0.5529762  0.17610213 0.27092168]\n",
      " [0.5051119  0.30337894 0.19150907]\n",
      " [0.40466702 0.18974048 0.40559253]\n",
      " [0.42108172 0.22656113 0.35235715]\n",
      " [0.41075972 0.2508515  0.3383888 ]\n",
      " [0.33201465 0.22894385 0.4390415 ]\n",
      " [0.1920619  0.4926683  0.31526977]\n",
      " [0.4831838  0.28626692 0.23054935]\n",
      " [0.33504254 0.39041862 0.27453884]\n",
      " [0.30422837 0.265356   0.43041554]\n",
      " [0.63884974 0.1392489  0.22190137]\n",
      " [0.276665   0.29463127 0.42870378]\n",
      " [0.18606715 0.599341   0.21459189]\n",
      " [0.595932   0.21897438 0.18509363]\n",
      " [0.3586417  0.2311095  0.4102487 ]\n",
      " [0.26336104 0.30652732 0.43011162]\n",
      " [0.30186397 0.30444154 0.39369452]\n",
      " [0.43654698 0.23759921 0.32585382]\n",
      " [0.5946933  0.23704536 0.1682613 ]\n",
      " [0.20069061 0.4048426  0.39446685]\n",
      " [0.496355   0.26503795 0.23860699]\n",
      " [0.57553667 0.2589908  0.16547255]\n",
      " [0.25603262 0.46880546 0.27516198]\n",
      " [0.58042765 0.20761812 0.21195424]\n",
      " [0.32845464 0.19608898 0.4754564 ]\n",
      " [0.5003327  0.27866426 0.22100298]\n",
      " [0.22849098 0.44911367 0.32239532]\n",
      " [0.59959245 0.16872735 0.23168024]\n",
      " [0.6072348  0.14630742 0.24645777]\n",
      " [0.41663083 0.2386549  0.34471425]\n",
      " [0.3787738  0.18691763 0.4343085 ]\n",
      " [0.47043395 0.3359359  0.19363014]\n",
      " [0.3850015  0.2421084  0.37289008]\n",
      " [0.24775259 0.31745046 0.4347969 ]\n",
      " [0.414011   0.38693994 0.19904904]\n",
      " [0.18635891 0.5947677  0.21887343]\n",
      " [0.24464923 0.37000462 0.3853461 ]\n",
      " [0.52913254 0.2681221  0.20274541]\n",
      " [0.47618574 0.16778164 0.35603258]\n",
      " [0.30293807 0.23574588 0.461316  ]\n",
      " [0.6034625  0.21240014 0.1841374 ]\n",
      " [0.30924475 0.43616024 0.254595  ]\n",
      " [0.44002286 0.24396056 0.31601653]\n",
      " [0.48237675 0.22570105 0.2919222 ]\n",
      " [0.57748115 0.2544556  0.16806334]\n",
      " [0.19739518 0.4640417  0.3385632 ]\n",
      " [0.5769273  0.15520887 0.26786387]\n",
      " [0.36671394 0.18288165 0.45040444]\n",
      " [0.33030793 0.22725697 0.4424351 ]\n",
      " [0.4487827  0.20794888 0.34326845]\n",
      " [0.17215101 0.48368683 0.34416205]\n",
      " [0.5105173  0.19047284 0.2990099 ]\n",
      " [0.37080407 0.29321644 0.3359795 ]\n",
      " [0.5986724  0.17929487 0.22203277]\n",
      " [0.49764615 0.31651852 0.18583533]\n",
      " [0.6269934  0.18342815 0.1895784 ]\n",
      " [0.54129726 0.21733296 0.24136977]\n",
      " [0.21066473 0.51868945 0.27064577]\n",
      " [0.28357467 0.33384198 0.38258338]\n",
      " [0.3832854  0.22834696 0.38836765]\n",
      " [0.5957699  0.23937343 0.16485667]\n",
      " [0.5633845  0.1826587  0.2539568 ]\n",
      " [0.42500722 0.16791956 0.40707317]\n",
      " [0.2554443  0.37638775 0.3681679 ]\n",
      " [0.60639334 0.17180796 0.22179864]\n",
      " [0.5640921  0.25183153 0.18407641]\n",
      " [0.54680884 0.2604118  0.19277938]\n",
      " [0.35487518 0.22334208 0.42178267]\n",
      " [0.5781957  0.22489758 0.19690672]\n",
      " [0.38004485 0.24103707 0.37891817]\n",
      " [0.18275315 0.53210914 0.28513765]\n",
      " [0.56590325 0.21159801 0.22249871]\n",
      " [0.2822318  0.44993263 0.26783556]\n",
      " [0.48985556 0.29595593 0.2141885 ]\n",
      " [0.21461222 0.42406973 0.36131805]\n",
      " [0.30025873 0.27255473 0.42718652]\n",
      " [0.41776228 0.32217973 0.26005796]\n",
      " [0.498227   0.32609978 0.17567326]\n",
      " [0.3128805  0.26891315 0.4182064 ]\n",
      " [0.23807214 0.38814577 0.37378213]\n",
      " [0.24447358 0.51349616 0.24203034]\n",
      " [0.50132704 0.17599073 0.32268223]\n",
      " [0.38622478 0.3863553  0.22741999]\n",
      " [0.18568455 0.5665803  0.24773523]\n",
      " [0.26919386 0.25387046 0.47693574]\n",
      " [0.21686448 0.46142772 0.32170781]]\n"
     ]
    }
   ],
   "source": [
    "#generate predictions\n",
    "predictions = model.predict(X_test)\n",
    "print(\"predictions:\", predictions)"
   ]
  },
  {
   "cell_type": "code",
   "execution_count": 18,
   "metadata": {},
   "outputs": [
    {
     "name": "stdout",
     "output_type": "stream",
     "text": [
      "['M' 'B' 'C' 'B' 'B' 'B' 'B' 'B' 'B' 'B' 'M' 'B' 'B' 'M' 'C' 'B' 'C' 'M'\n",
      " 'B' 'M' 'C' 'B' 'M' 'M' 'M' 'B' 'B' 'C' 'B' 'B' 'C' 'B' 'M' 'B' 'C' 'B'\n",
      " 'B' 'B' 'M' 'B' 'B' 'M' 'B' 'C' 'M' 'B' 'B' 'M' 'B' 'C' 'B' 'B' 'B' 'C'\n",
      " 'B' 'M' 'M' 'B' 'C' 'B' 'B' 'B' 'B' 'B' 'B' 'C' 'M' 'M' 'B' 'B' 'B' 'C'\n",
      " 'B' 'B' 'B' 'M' 'B' 'B' 'C' 'B' 'C' 'B' 'C' 'M' 'B' 'B' 'M' 'C' 'C' 'B'\n",
      " 'C' 'C' 'M' 'C']\n"
     ]
    }
   ],
   "source": [
    "#remove encoding\n",
    "real_predictions_B = a_encoder.inverse_transform(predictions)\n",
    "print(real_predictions_B)"
   ]
  },
  {
   "cell_type": "code",
   "execution_count": 19,
   "metadata": {},
   "outputs": [
    {
     "data": {
      "text/plain": [
       "{'B': 52, 'C': 21, 'M': 21}"
      ]
     },
     "execution_count": 19,
     "metadata": {},
     "output_type": "execute_result"
    }
   ],
   "source": [
    "#prediction counts\n",
    "unique, counts = np.unique(real_predictions_B, return_counts=True)\n",
    "dict(zip(unique, counts))"
   ]
  },
  {
   "cell_type": "code",
   "execution_count": 20,
   "metadata": {},
   "outputs": [
    {
     "name": "stdout",
     "output_type": "stream",
     "text": [
      "['C' 'C' 'C' 'M' 'B' 'M' 'B' 'C' 'B' 'M' 'B' 'B' 'M' 'M' 'C' 'C' 'B' 'B'\n",
      " 'C' 'B' 'M' 'C' 'B' 'M' 'B' 'B' 'C' 'C' 'M' 'B' 'B' 'M' 'M' 'C' 'M' 'M'\n",
      " 'M' 'M' 'M' 'M' 'B' 'B' 'B' 'B' 'C' 'B' 'M' 'B' 'M' 'C' 'B' 'M' 'B' 'C'\n",
      " 'C' 'M' 'C' 'C' 'C' 'B' 'M' 'C' 'B' 'M' 'C' 'B' 'B' 'M' 'M' 'M' 'B' 'C'\n",
      " 'B' 'C' 'M' 'C' 'C' 'C' 'C' 'B' 'M' 'M' 'B' 'B' 'C' 'M' 'C' 'C' 'M' 'B'\n",
      " 'B' 'B' 'B' 'M']\n"
     ]
    }
   ],
   "source": [
    "#y_test predictions\n",
    "ytest_predictions = a_encoder.inverse_transform(y_test)\n",
    "print(ytest_predictions)"
   ]
  },
  {
   "cell_type": "code",
   "execution_count": 21,
   "metadata": {},
   "outputs": [
    {
     "data": {
      "text/plain": [
       "{'B': 34, 'C': 29, 'M': 31}"
      ]
     },
     "execution_count": 21,
     "metadata": {},
     "output_type": "execute_result"
    }
   ],
   "source": [
    "#real count\n",
    "unique, counts = np.unique(ytest_predictions, return_counts=True)\n",
    "dict(zip(unique, counts))"
   ]
  },
  {
   "cell_type": "code",
   "execution_count": 22,
   "metadata": {},
   "outputs": [
    {
     "data": {
      "image/png": "[encoded data removed]",
      "text/plain": [
       "<Figure size 432x288 with 2 Axes>"
      ]
     },
     "metadata": {
      "needs_background": "light"
     },
     "output_type": "display_data"
    }
   ],
   "source": [
    "#confusion matrix\n",
    "matrix = confusion_matrix(ytest_predictions, real_predictions_B)\n",
    "#format confusion matrix\n",
    "ax=plt.subplot()\n",
    "sns.heatmap(matrix, annot=True, ax = ax, cmap='Purples', fmt='g');\n",
    "accuracy = np.trace(matrix) / np.sum(matrix).astype('float')\n",
    "misclass = 1 - accuracy\n",
    "ax.set_xlabel('Predicted label\\naccuracy={:0.4f}; misclass={:0.4f}'.format(accuracy, misclass));\n",
    "ax.set_ylabel('True labels'); \n",
    "ax.set_title('Confusion Matrix');\n",
    "ax.xaxis.set_ticklabels(unique); ax.yaxis.set_ticklabels(unique);"
   ]
  },
  {
   "cell_type": "code",
   "execution_count": 23,
   "metadata": {},
   "outputs": [
    {
     "name": "stdout",
     "output_type": "stream",
     "text": [
      "              precision    recall  f1-score   support\n",
      "\n",
      "           B       0.33      0.50      0.40        34\n",
      "           C       0.43      0.31      0.36        29\n",
      "           M       0.29      0.19      0.23        31\n",
      "\n",
      "    accuracy                           0.34        94\n",
      "   macro avg       0.35      0.33      0.33        94\n",
      "weighted avg       0.34      0.34      0.33        94\n",
      "\n"
     ]
    }
   ],
   "source": [
    "print(classification_report(ytest_predictions, real_predictions_B))"
   ]
  },
  {
   "cell_type": "code",
   "execution_count": 24,
   "metadata": {},
   "outputs": [
    {
     "name": "stdout",
     "output_type": "stream",
     "text": [
      "precision score:0.3471\n",
      "recall score:0.3346\n",
      "f1 score:0.3287\n"
     ]
    }
   ],
   "source": [
    "#macro - calculate metrics for each label, and find their unweighted mean\n",
    "pre_score = precision_score(ytest_predictions, real_predictions_B, average = \"macro\")\n",
    "print('precision score:{:0.4f}'.format(pre_score))\n",
    "recall_score_1 = recall_score(ytest_predictions, real_predictions_B, average= \"macro\")\n",
    "print('recall score:{:0.4f}'.format(recall_score_1))\n",
    "f1_score_1 = f1_score(ytest_predictions, real_predictions_B, average=\"macro\")\n",
    "print('f1 score:{:0.4f}'.format(f1_score_1))"
   ]
  },
  {
   "cell_type": "code",
   "execution_count": null,
   "metadata": {},
   "outputs": [],
   "source": []
  }
 ],
 "metadata": {
  "kernelspec": {
   "display_name": "Python 3",
   "language": "python",
   "name": "python3"
  },
  "language_info": {
   "codemirror_mode": {
    "name": "ipython",
    "version": 3
   },
   "file_extension": ".py",
   "mimetype": "text/x-python",
   "name": "python",
   "nbconvert_exporter": "python",
   "pygments_lexer": "ipython3",
   "version": "3.8.3"
  }
 },
 "nbformat": 4,
 "nbformat_minor": 4
}
