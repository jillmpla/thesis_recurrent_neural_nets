{
 "cells": [
  {
   "cell_type": "code",
   "execution_count": 1,
   "metadata": {},
   "outputs": [],
   "source": [
    "#tensorboard via command-line:\n",
    "#tensorboard --logdir=where your Logs directory is"
   ]
  },
  {
   "cell_type": "code",
   "execution_count": 2,
   "metadata": {},
   "outputs": [],
   "source": [
    "#~~~~~~~~~~~~~~~~~~~~~~~~~~~~~~~~~~~~~~~~~~~~~~~~~~~~~~~~~~~~~~~~~~~~~~~~~~~~~~~~~~~~~~~~~~~~~~~~~~~~~~~#\n",
    "#Predict whether or not a flare will occur in the next 24hrs after a 24hr time sequence, per monitored AR.\n",
    "#~~~~~~~~~~~~~~~~~~~~~~~~~~~~~~~~~~~~~~~~~~~~~~~~~~~~~~~~~~~~~~~~~~~~~~~~~~~~~~~~~~~~~~~~~~~~~~~~~~~~~~~#\n",
    "#feature data from - hmi.sharp_720s:::\n",
    "#http://jsoc.stanford.edu/doc/data/hmi/sharp/sharp.htm\n",
    "\n",
    "#label data from - GOES flare events:::\n",
    "#ftp://ftp.swpc.noaa.gov/pub/warehouse/\n",
    "\n",
    "#and from - GOES XRS Report:::\n",
    "#https://www.ngdc.noaa.gov/stp/space-weather/solar-data/solar-features/solar-flares/x-rays/goes/xrs/\n",
    "#~~~~~~~~~~~~~~~~~~~~~~~~~~~~~~~~~~~~~~~~~~~~~~~~~~~~~~~~~~~~~~~~~~~~~~~~~~~~~~~~~~~~~~~~~~~~~~~~~~~~~~~#\n",
    "#binary class - F for flare and N for no flare\n",
    "#multi-class - #6 flare classes: N is no flare, A is smallest, X is largest\n",
    "               #key = {'N', 'A', 'B', 'C', 'M', 'X'}\n",
    "               #['A' class flares generally not listed in official reports due to small size]\n",
    "#~~~~~~~~~~~~~~~~~~~~~~~~~~~~~~~~~~~~~~~~~~~~~~~~~~~~~~~~~~~~~~~~~~~~~~~~~~~~~~~~~~~~~~~~~~~~~~~~~~~~~~~#"
   ]
  },
  {
   "cell_type": "code",
   "execution_count": 3,
   "metadata": {},
   "outputs": [
    {
     "name": "stdout",
     "output_type": "stream",
     "text": [
      "tensorflow version: 2.3.1\n"
     ]
    }
   ],
   "source": [
    "import tensorflow as tf\n",
    "print(\"tensorflow version:\", tf.__version__) #2.3.1 used\n",
    "from tensorflow import keras\n",
    "import os\n",
    "import glob\n",
    "import shutil\n",
    "import datetime\n",
    "import numpy as np\n",
    "import pandas as pd\n",
    "import seaborn as sns\n",
    "from pathlib import Path\n",
    "from astropy.time import Time\n",
    "from matplotlib import pyplot as plt\n",
    "from sklearn.metrics import f1_score, precision_score, recall_score, classification_report, confusion_matrix\n",
    "from sklearn.metrics import plot_confusion_matrix\n",
    "from sklearn.preprocessing import LabelBinarizer\n",
    "from sklearn.model_selection import train_test_split\n",
    "from sklearn.preprocessing import MinMaxScaler\n",
    "from tensorflow.keras.layers import Dropout, Dense, SimpleRNN, LSTM, GRU, GaussianNoise\n",
    "from tensorflow.keras.models import Model, Sequential\n",
    "from tensorflow.keras.optimizers import SGD, RMSprop, Adam\n",
    "import drms #https://pypi.org/project/drms/\n",
    "#~~~~~~~~~~~~~~~~~~~~~~~~~~~~~~~~~~~~~~~~~~~~~~~~~~~~~~~~~~~~~~~~~~~~~~~~~~~~~~~~~~~~~~~~~~~~~~~~~~~~~~~#\n",
    "import Flare_Data\n",
    "import Feature_Years\n",
    "import Make_TB_Logs\n",
    "#~~~~~~~~~~~~~~~~~~~~~~~~~~~~~~~~~~~~~~~~~~~~~~~~~~~~~~~~~~~~~~~~~~~~~~~~~~~~~~~~~~~~~~~~~~~~~~~~~~~~~~~#"
   ]
  },
  {
   "cell_type": "code",
   "execution_count": 4,
   "metadata": {},
   "outputs": [
    {
     "name": "stdout",
     "output_type": "stream",
     "text": [
      "CSVs compiled.\n"
     ]
    }
   ],
   "source": [
    "Feature_Years.generate_all_feature_years()"
   ]
  },
  {
   "cell_type": "code",
   "execution_count": 5,
   "metadata": {},
   "outputs": [],
   "source": [
    "where_logs = Make_TB_Logs.make_clear_tensorboard_folder()"
   ]
  },
  {
   "cell_type": "code",
   "execution_count": 6,
   "metadata": {},
   "outputs": [
    {
     "name": "stdout",
     "output_type": "stream",
     "text": [
      "The time series starts from:  2011-01-01 00:11:26\n",
      "The time series ends on:  2016-12-31 23:47:24\n",
      "(array(['F', 'N'], dtype='<U1'), array([741, 729], dtype=int64))\n"
     ]
    }
   ],
   "source": [
    "#binary = True for binary classification, binary = False for multi-class classification\n",
    "X_train, X_val, X_test, y_train, y_val, y_test, tim_steps, n_feats, count_of_classes, a_encoder = Flare_Data.getAllData(binary = True)"
   ]
  },
  {
   "cell_type": "code",
   "execution_count": 7,
   "metadata": {},
   "outputs": [
    {
     "name": "stdout",
     "output_type": "stream",
     "text": [
      "(940, 114, 20) (236, 114, 20) (294, 114, 20) (940, 1) (236, 1) (294, 1)\n"
     ]
    }
   ],
   "source": [
    "print(X_train.shape, X_val.shape, X_test.shape, y_train.shape, y_val.shape, y_test.shape)"
   ]
  },
  {
   "cell_type": "code",
   "execution_count": 8,
   "metadata": {},
   "outputs": [],
   "source": [
    "#~~~~~~~~~~~~~~~~~~~~~~~~~~~~~~~~~~~~~~~~~~~~~~~~~~~~~~~~~~~~~~~~~~~~~~~~~~~~~~~~~~~~~~~~~~~~~~~~~~~~~~~#\n",
    "#~~~~~~~~~~~~~~~~~~~~~~~~~~~~~~~~~~~~~~~~~~~~~~~~~~~~~~~~~~~~~~~~~~~~~~~~~~~~~~~~~~~~~~~~~~~~~~~~~~~~~~~#"
   ]
  },
  {
   "cell_type": "code",
   "execution_count": 9,
   "metadata": {},
   "outputs": [],
   "source": [
    "batch_size = 50\n",
    "epochs = 100\n",
    "optimizer = Adam(lr=0.001, beta_1=0.9, beta_2=0.999, epsilon=1e-06, decay=0.0)"
   ]
  },
  {
   "cell_type": "code",
   "execution_count": 10,
   "metadata": {},
   "outputs": [],
   "source": [
    "#~~~~~~~~~~~~~~~~~~~~~~~~~~~~~~~~~~~~~~~[LSTM_2 Model]~~~~~~~~~~~~~~~~~~~~~~~~~~~~~~~~~~~~~~~~~~~~~~~~~~#\n",
    "#~~~~~~~~~~~~~~~~~~~~~~~~~~~~~~~~~~~~~~~[Binary-Class]~~~~~~~~~~~~~~~~~~~~~~~~~~~~~~~~~~~~~~~~~~~~~~~~~~#\n",
    "#~~~~~~~~~~~~~~~~~~~~~~~~~~~~~~~~~~~~~~~[Multiple Layers]~~~~~~~~~~~~~~~~~~~~~~~~~~~~~~~~~~~~~~~~~~~~~~~#\n",
    "model = Sequential()\n",
    "model.add(LSTM(16, return_sequences=True, input_shape=(tim_steps, n_feats), recurrent_dropout=0.05))\n",
    "model.add(GaussianNoise(0.01))\n",
    "model.add(LSTM(6, return_sequences=False, recurrent_dropout=0.05))\n",
    "model.add(GaussianNoise(0.01))\n",
    "model.add(Dense(1, activation='sigmoid'))\n",
    "model.compile(loss='binary_crossentropy', optimizer=optimizer, metrics=['binary_accuracy'])\n",
    "#~~~~~~~~~~~~~~~~~~~~~~~~~~~~~~~~~~~~~~~~~~~~~~~~~~~~~~~~~~~~~~~~~~~~~~~~~~~~~~~~~~~~~~~~~~~~~~~~~~~~~~~#\n",
    "#~~~~~~~~~~~~~~~~~~~~~~~~~~~~~~~~~~~~~~~~~~~~~~~~~~~~~~~~~~~~~~~~~~~~~~~~~~~~~~~~~~~~~~~~~~~~~~~~~~~~~~~#"
   ]
  },
  {
   "cell_type": "code",
   "execution_count": 11,
   "metadata": {},
   "outputs": [],
   "source": [
    "tensorboard_call = keras.callbacks.TensorBoard(log_dir=where_logs, histogram_freq=1)\n",
    "#val_loss_callback = tf.keras.callbacks.EarlyStopping(monitor='val_loss', patience=10)"
   ]
  },
  {
   "cell_type": "code",
   "execution_count": 12,
   "metadata": {},
   "outputs": [
    {
     "name": "stdout",
     "output_type": "stream",
     "text": [
      "Epoch 1/100\n",
      " 1/19 [>.............................] - ETA: 0s - loss: 0.6864 - binary_accuracy: 0.5600WARNING:tensorflow:From C:\\ProgramData\\Anaconda3\\lib\\site-packages\\tensorflow\\python\\ops\\summary_ops_v2.py:1277: stop (from tensorflow.python.eager.profiler) is deprecated and will be removed after 2020-07-01.\n",
      "Instructions for updating:\n",
      "use `tf.profiler.experimental.stop` instead.\n",
      " 2/19 [==>...........................] - ETA: 6s - loss: 0.7187 - binary_accuracy: 0.4700WARNING:tensorflow:Callbacks method `on_train_batch_end` is slow compared to the batch time (batch time: 0.1279s vs `on_train_batch_end` time: 0.6061s). Check your callbacks.\n",
      "19/19 [==============================] - 3s 171ms/step - loss: 0.6965 - binary_accuracy: 0.5213 - val_loss: 0.6951 - val_binary_accuracy: 0.4873\n",
      "Epoch 2/100\n",
      "19/19 [==============================] - 2s 111ms/step - loss: 0.6894 - binary_accuracy: 0.5511 - val_loss: 0.6971 - val_binary_accuracy: 0.4915\n",
      "Epoch 3/100\n",
      "19/19 [==============================] - 2s 111ms/step - loss: 0.6845 - binary_accuracy: 0.5564 - val_loss: 0.7010 - val_binary_accuracy: 0.4958\n",
      "Epoch 4/100\n",
      "19/19 [==============================] - 2s 118ms/step - loss: 0.6752 - binary_accuracy: 0.5872 - val_loss: 0.7123 - val_binary_accuracy: 0.5000\n",
      "Epoch 5/100\n",
      "19/19 [==============================] - 2s 125ms/step - loss: 0.6666 - binary_accuracy: 0.5979 - val_loss: 0.7247 - val_binary_accuracy: 0.4958\n",
      "Epoch 6/100\n",
      "19/19 [==============================] - 2s 120ms/step - loss: 0.6706 - binary_accuracy: 0.5926 - val_loss: 0.7262 - val_binary_accuracy: 0.4873\n",
      "Epoch 7/100\n",
      "19/19 [==============================] - 2s 116ms/step - loss: 0.6672 - binary_accuracy: 0.6011 - val_loss: 0.7126 - val_binary_accuracy: 0.5212\n",
      "Epoch 8/100\n",
      "19/19 [==============================] - 2s 113ms/step - loss: 0.6644 - binary_accuracy: 0.5989 - val_loss: 0.7215 - val_binary_accuracy: 0.5085\n",
      "Epoch 9/100\n",
      "19/19 [==============================] - 2s 113ms/step - loss: 0.6695 - binary_accuracy: 0.5851 - val_loss: 0.7188 - val_binary_accuracy: 0.5127\n",
      "Epoch 10/100\n",
      "19/19 [==============================] - 2s 113ms/step - loss: 0.6666 - binary_accuracy: 0.5979 - val_loss: 0.7278 - val_binary_accuracy: 0.4746\n",
      "Epoch 11/100\n",
      "19/19 [==============================] - 2s 110ms/step - loss: 0.6619 - binary_accuracy: 0.6043 - val_loss: 0.7197 - val_binary_accuracy: 0.5042\n",
      "Epoch 12/100\n",
      "19/19 [==============================] - 2s 124ms/step - loss: 0.6616 - binary_accuracy: 0.5957 - val_loss: 0.7275 - val_binary_accuracy: 0.4746\n",
      "Epoch 13/100\n",
      "19/19 [==============================] - 2s 119ms/step - loss: 0.6640 - binary_accuracy: 0.5957 - val_loss: 0.7197 - val_binary_accuracy: 0.5297\n",
      "Epoch 14/100\n",
      "19/19 [==============================] - 2s 116ms/step - loss: 0.6605 - binary_accuracy: 0.6170 - val_loss: 0.7223 - val_binary_accuracy: 0.5254\n",
      "Epoch 15/100\n",
      "19/19 [==============================] - 2s 118ms/step - loss: 0.6610 - binary_accuracy: 0.6096 - val_loss: 0.7245 - val_binary_accuracy: 0.5000\n",
      "Epoch 16/100\n",
      "19/19 [==============================] - 2s 117ms/step - loss: 0.6611 - binary_accuracy: 0.6181 - val_loss: 0.7228 - val_binary_accuracy: 0.5297\n",
      "Epoch 17/100\n",
      "19/19 [==============================] - 2s 115ms/step - loss: 0.6612 - binary_accuracy: 0.6043 - val_loss: 0.7285 - val_binary_accuracy: 0.5169\n",
      "Epoch 18/100\n",
      "19/19 [==============================] - 2s 112ms/step - loss: 0.6631 - binary_accuracy: 0.6043 - val_loss: 0.7191 - val_binary_accuracy: 0.5169\n",
      "Epoch 19/100\n",
      "19/19 [==============================] - 2s 113ms/step - loss: 0.6565 - binary_accuracy: 0.6138 - val_loss: 0.7249 - val_binary_accuracy: 0.5212\n",
      "Epoch 20/100\n",
      "19/19 [==============================] - 2s 112ms/step - loss: 0.6557 - binary_accuracy: 0.6223 - val_loss: 0.7285 - val_binary_accuracy: 0.5127\n",
      "Epoch 21/100\n",
      "19/19 [==============================] - 2s 113ms/step - loss: 0.6601 - binary_accuracy: 0.6011 - val_loss: 0.7267 - val_binary_accuracy: 0.5339\n",
      "Epoch 22/100\n",
      "19/19 [==============================] - 2s 111ms/step - loss: 0.6706 - binary_accuracy: 0.5926 - val_loss: 0.7142 - val_binary_accuracy: 0.4958\n",
      "Epoch 23/100\n",
      "19/19 [==============================] - 2s 113ms/step - loss: 0.6537 - binary_accuracy: 0.6245 - val_loss: 0.7254 - val_binary_accuracy: 0.5297\n",
      "Epoch 24/100\n",
      "19/19 [==============================] - 2s 115ms/step - loss: 0.6514 - binary_accuracy: 0.6330 - val_loss: 0.7369 - val_binary_accuracy: 0.5127\n",
      "Epoch 25/100\n",
      "19/19 [==============================] - 2s 116ms/step - loss: 0.6573 - binary_accuracy: 0.6170 - val_loss: 0.7262 - val_binary_accuracy: 0.5254\n",
      "Epoch 26/100\n",
      "19/19 [==============================] - 2s 112ms/step - loss: 0.6484 - binary_accuracy: 0.6362 - val_loss: 0.7267 - val_binary_accuracy: 0.5254\n",
      "Epoch 27/100\n",
      "19/19 [==============================] - 2s 114ms/step - loss: 0.6559 - binary_accuracy: 0.6117 - val_loss: 0.7290 - val_binary_accuracy: 0.5381\n",
      "Epoch 28/100\n",
      "19/19 [==============================] - 2s 120ms/step - loss: 0.6537 - binary_accuracy: 0.6255 - val_loss: 0.7224 - val_binary_accuracy: 0.5085\n",
      "Epoch 29/100\n",
      "19/19 [==============================] - 3s 135ms/step - loss: 0.6524 - binary_accuracy: 0.6255 - val_loss: 0.7233 - val_binary_accuracy: 0.5297\n",
      "Epoch 30/100\n",
      "19/19 [==============================] - 2s 131ms/step - loss: 0.6608 - binary_accuracy: 0.6053 - val_loss: 0.7158 - val_binary_accuracy: 0.4873\n",
      "Epoch 31/100\n",
      "19/19 [==============================] - 2s 125ms/step - loss: 0.6526 - binary_accuracy: 0.6245 - val_loss: 0.7247 - val_binary_accuracy: 0.5339\n",
      "Epoch 32/100\n",
      "19/19 [==============================] - 2s 116ms/step - loss: 0.6500 - binary_accuracy: 0.6128 - val_loss: 0.7332 - val_binary_accuracy: 0.5169\n",
      "Epoch 33/100\n",
      "19/19 [==============================] - 2s 122ms/step - loss: 0.6514 - binary_accuracy: 0.6223 - val_loss: 0.7240 - val_binary_accuracy: 0.5254\n",
      "Epoch 34/100\n",
      "19/19 [==============================] - 2s 121ms/step - loss: 0.6587 - binary_accuracy: 0.5989 - val_loss: 0.7216 - val_binary_accuracy: 0.5085\n",
      "Epoch 35/100\n",
      "19/19 [==============================] - 2s 116ms/step - loss: 0.6473 - binary_accuracy: 0.6287 - val_loss: 0.7258 - val_binary_accuracy: 0.5466\n",
      "Epoch 36/100\n",
      "19/19 [==============================] - 2s 115ms/step - loss: 0.6459 - binary_accuracy: 0.6383 - val_loss: 0.7264 - val_binary_accuracy: 0.5424\n",
      "Epoch 37/100\n",
      "19/19 [==============================] - 2s 121ms/step - loss: 0.6417 - binary_accuracy: 0.6394 - val_loss: 0.7352 - val_binary_accuracy: 0.5424\n",
      "Epoch 38/100\n",
      "19/19 [==============================] - 2s 127ms/step - loss: 0.6483 - binary_accuracy: 0.6255 - val_loss: 0.7248 - val_binary_accuracy: 0.5212\n",
      "Epoch 39/100\n",
      "19/19 [==============================] - 2s 109ms/step - loss: 0.6492 - binary_accuracy: 0.6202 - val_loss: 0.7204 - val_binary_accuracy: 0.5339\n",
      "Epoch 40/100\n",
      "19/19 [==============================] - 2s 109ms/step - loss: 0.6516 - binary_accuracy: 0.6021 - val_loss: 0.7139 - val_binary_accuracy: 0.5297\n",
      "Epoch 41/100\n",
      "19/19 [==============================] - 2s 110ms/step - loss: 0.6409 - binary_accuracy: 0.6362 - val_loss: 0.7364 - val_binary_accuracy: 0.5297\n",
      "Epoch 42/100\n",
      "19/19 [==============================] - 2s 111ms/step - loss: 0.6423 - binary_accuracy: 0.6330 - val_loss: 0.7188 - val_binary_accuracy: 0.5424\n",
      "Epoch 43/100\n",
      "19/19 [==============================] - 2s 107ms/step - loss: 0.6425 - binary_accuracy: 0.6340 - val_loss: 0.7206 - val_binary_accuracy: 0.5424\n",
      "Epoch 44/100\n",
      "19/19 [==============================] - 2s 113ms/step - loss: 0.6430 - binary_accuracy: 0.6447 - val_loss: 0.7305 - val_binary_accuracy: 0.5381\n",
      "Epoch 45/100\n",
      "19/19 [==============================] - 2s 109ms/step - loss: 0.6446 - binary_accuracy: 0.6202 - val_loss: 0.7190 - val_binary_accuracy: 0.5381\n",
      "Epoch 46/100\n",
      "19/19 [==============================] - 2s 110ms/step - loss: 0.6481 - binary_accuracy: 0.6245 - val_loss: 0.7143 - val_binary_accuracy: 0.5381\n",
      "Epoch 47/100\n",
      "19/19 [==============================] - 2s 113ms/step - loss: 0.6386 - binary_accuracy: 0.6245 - val_loss: 0.7276 - val_binary_accuracy: 0.5212\n",
      "Epoch 48/100\n",
      "19/19 [==============================] - 2s 103ms/step - loss: 0.6394 - binary_accuracy: 0.6309 - val_loss: 0.7210 - val_binary_accuracy: 0.5636\n"
     ]
    },
    {
     "name": "stdout",
     "output_type": "stream",
     "text": [
      "Epoch 49/100\n",
      "19/19 [==============================] - 2s 106ms/step - loss: 0.6344 - binary_accuracy: 0.6511 - val_loss: 0.7206 - val_binary_accuracy: 0.5381\n",
      "Epoch 50/100\n",
      "19/19 [==============================] - 2s 108ms/step - loss: 0.6309 - binary_accuracy: 0.6574 - val_loss: 0.7310 - val_binary_accuracy: 0.5678\n",
      "Epoch 51/100\n",
      "19/19 [==============================] - 2s 112ms/step - loss: 0.6342 - binary_accuracy: 0.6426 - val_loss: 0.7273 - val_binary_accuracy: 0.5381\n",
      "Epoch 52/100\n",
      "19/19 [==============================] - 2s 109ms/step - loss: 0.6324 - binary_accuracy: 0.6543 - val_loss: 0.7271 - val_binary_accuracy: 0.5466\n",
      "Epoch 53/100\n",
      "19/19 [==============================] - 2s 107ms/step - loss: 0.6307 - binary_accuracy: 0.6511 - val_loss: 0.7287 - val_binary_accuracy: 0.5424\n",
      "Epoch 54/100\n",
      "19/19 [==============================] - 2s 108ms/step - loss: 0.6467 - binary_accuracy: 0.6170 - val_loss: 0.7102 - val_binary_accuracy: 0.5297\n",
      "Epoch 55/100\n",
      "19/19 [==============================] - 2s 110ms/step - loss: 0.6309 - binary_accuracy: 0.6543 - val_loss: 0.7202 - val_binary_accuracy: 0.5551\n",
      "Epoch 56/100\n",
      "19/19 [==============================] - 2s 107ms/step - loss: 0.6317 - binary_accuracy: 0.6564 - val_loss: 0.7164 - val_binary_accuracy: 0.5508\n",
      "Epoch 57/100\n",
      "19/19 [==============================] - 2s 106ms/step - loss: 0.6394 - binary_accuracy: 0.6372 - val_loss: 0.7120 - val_binary_accuracy: 0.5466\n",
      "Epoch 58/100\n",
      "19/19 [==============================] - 2s 104ms/step - loss: 0.6359 - binary_accuracy: 0.6489 - val_loss: 0.7113 - val_binary_accuracy: 0.5593\n",
      "Epoch 59/100\n",
      "19/19 [==============================] - 2s 105ms/step - loss: 0.6248 - binary_accuracy: 0.6691 - val_loss: 0.7269 - val_binary_accuracy: 0.5636\n",
      "Epoch 60/100\n",
      "19/19 [==============================] - 2s 103ms/step - loss: 0.6306 - binary_accuracy: 0.6479 - val_loss: 0.7127 - val_binary_accuracy: 0.5466\n",
      "Epoch 61/100\n",
      "19/19 [==============================] - 2s 106ms/step - loss: 0.6219 - binary_accuracy: 0.6585 - val_loss: 0.7213 - val_binary_accuracy: 0.5678\n",
      "Epoch 62/100\n",
      "19/19 [==============================] - 2s 104ms/step - loss: 0.6241 - binary_accuracy: 0.6596 - val_loss: 0.7291 - val_binary_accuracy: 0.5254\n",
      "Epoch 63/100\n",
      "19/19 [==============================] - 2s 106ms/step - loss: 0.6258 - binary_accuracy: 0.6617 - val_loss: 0.7214 - val_binary_accuracy: 0.5212\n",
      "Epoch 64/100\n",
      "19/19 [==============================] - 2s 107ms/step - loss: 0.6235 - binary_accuracy: 0.6649 - val_loss: 0.7291 - val_binary_accuracy: 0.5847\n",
      "Epoch 65/100\n",
      "19/19 [==============================] - 2s 104ms/step - loss: 0.6325 - binary_accuracy: 0.6457 - val_loss: 0.7078 - val_binary_accuracy: 0.5763\n",
      "Epoch 66/100\n",
      "19/19 [==============================] - 2s 112ms/step - loss: 0.6224 - binary_accuracy: 0.6585 - val_loss: 0.7152 - val_binary_accuracy: 0.5508\n",
      "Epoch 67/100\n",
      "19/19 [==============================] - 2s 106ms/step - loss: 0.6232 - binary_accuracy: 0.6606 - val_loss: 0.7144 - val_binary_accuracy: 0.5593\n",
      "Epoch 68/100\n",
      "19/19 [==============================] - 2s 105ms/step - loss: 0.6185 - binary_accuracy: 0.6691 - val_loss: 0.7211 - val_binary_accuracy: 0.5508\n",
      "Epoch 69/100\n",
      "19/19 [==============================] - 2s 115ms/step - loss: 0.6132 - binary_accuracy: 0.6713 - val_loss: 0.7186 - val_binary_accuracy: 0.5551\n",
      "Epoch 70/100\n",
      "19/19 [==============================] - 2s 109ms/step - loss: 0.6179 - binary_accuracy: 0.6723 - val_loss: 0.7037 - val_binary_accuracy: 0.5720\n",
      "Epoch 71/100\n",
      "19/19 [==============================] - 2s 110ms/step - loss: 0.6142 - binary_accuracy: 0.6649 - val_loss: 0.7115 - val_binary_accuracy: 0.5890\n",
      "Epoch 72/100\n",
      "19/19 [==============================] - 2s 110ms/step - loss: 0.6064 - binary_accuracy: 0.6723 - val_loss: 0.7117 - val_binary_accuracy: 0.5890\n",
      "Epoch 73/100\n",
      "19/19 [==============================] - 2s 107ms/step - loss: 0.6079 - binary_accuracy: 0.6628 - val_loss: 0.7147 - val_binary_accuracy: 0.5551\n",
      "Epoch 74/100\n",
      "19/19 [==============================] - 2s 109ms/step - loss: 0.6256 - binary_accuracy: 0.6585 - val_loss: 0.7318 - val_binary_accuracy: 0.5636\n",
      "Epoch 75/100\n",
      "19/19 [==============================] - 2s 109ms/step - loss: 0.6443 - binary_accuracy: 0.6447 - val_loss: 0.7345 - val_binary_accuracy: 0.5339\n",
      "Epoch 76/100\n",
      "19/19 [==============================] - 2s 110ms/step - loss: 0.6201 - binary_accuracy: 0.6628 - val_loss: 0.7230 - val_binary_accuracy: 0.5508\n",
      "Epoch 77/100\n",
      "19/19 [==============================] - 2s 109ms/step - loss: 0.6157 - binary_accuracy: 0.6553 - val_loss: 0.7207 - val_binary_accuracy: 0.5424\n",
      "Epoch 78/100\n",
      "19/19 [==============================] - 2s 110ms/step - loss: 0.6066 - binary_accuracy: 0.6734 - val_loss: 0.7274 - val_binary_accuracy: 0.5678\n",
      "Epoch 79/100\n",
      "19/19 [==============================] - 2s 110ms/step - loss: 0.6059 - binary_accuracy: 0.6755 - val_loss: 0.7250 - val_binary_accuracy: 0.5763\n",
      "Epoch 80/100\n",
      "19/19 [==============================] - 2s 110ms/step - loss: 0.6147 - binary_accuracy: 0.6574 - val_loss: 0.7333 - val_binary_accuracy: 0.5508\n",
      "Epoch 81/100\n",
      "19/19 [==============================] - 2s 112ms/step - loss: 0.6060 - binary_accuracy: 0.6734 - val_loss: 0.7330 - val_binary_accuracy: 0.5763\n",
      "Epoch 82/100\n",
      "19/19 [==============================] - 2s 110ms/step - loss: 0.6085 - binary_accuracy: 0.6723 - val_loss: 0.7258 - val_binary_accuracy: 0.5551\n",
      "Epoch 83/100\n",
      "19/19 [==============================] - 2s 111ms/step - loss: 0.6008 - binary_accuracy: 0.6883 - val_loss: 0.7535 - val_binary_accuracy: 0.5169\n",
      "Epoch 84/100\n",
      "19/19 [==============================] - 2s 111ms/step - loss: 0.6026 - binary_accuracy: 0.6904 - val_loss: 0.7245 - val_binary_accuracy: 0.5551\n",
      "Epoch 85/100\n",
      "19/19 [==============================] - 2s 110ms/step - loss: 0.6002 - binary_accuracy: 0.6691 - val_loss: 0.7312 - val_binary_accuracy: 0.5042\n",
      "Epoch 86/100\n",
      "19/19 [==============================] - 2s 110ms/step - loss: 0.6054 - binary_accuracy: 0.6702 - val_loss: 0.7260 - val_binary_accuracy: 0.6017\n",
      "Epoch 87/100\n",
      "19/19 [==============================] - 2s 110ms/step - loss: 0.5984 - binary_accuracy: 0.6851 - val_loss: 0.7218 - val_binary_accuracy: 0.6017\n",
      "Epoch 88/100\n",
      "19/19 [==============================] - 2s 110ms/step - loss: 0.5897 - binary_accuracy: 0.6989 - val_loss: 0.7248 - val_binary_accuracy: 0.5932\n",
      "Epoch 89/100\n",
      "19/19 [==============================] - 2s 110ms/step - loss: 0.6018 - binary_accuracy: 0.6819 - val_loss: 0.7373 - val_binary_accuracy: 0.5424\n",
      "Epoch 90/100\n",
      "19/19 [==============================] - 2s 110ms/step - loss: 0.6048 - binary_accuracy: 0.6819 - val_loss: 0.7188 - val_binary_accuracy: 0.5720\n",
      "Epoch 91/100\n",
      "19/19 [==============================] - 2s 110ms/step - loss: 0.5970 - binary_accuracy: 0.6766 - val_loss: 0.7303 - val_binary_accuracy: 0.5636\n",
      "Epoch 92/100\n",
      "19/19 [==============================] - 2s 110ms/step - loss: 0.5991 - binary_accuracy: 0.6872 - val_loss: 0.7420 - val_binary_accuracy: 0.5551\n",
      "Epoch 93/100\n",
      "19/19 [==============================] - 2s 110ms/step - loss: 0.5842 - binary_accuracy: 0.6915 - val_loss: 0.7509 - val_binary_accuracy: 0.5466\n",
      "Epoch 94/100\n",
      "19/19 [==============================] - 2s 110ms/step - loss: 0.5952 - binary_accuracy: 0.6957 - val_loss: 0.7503 - val_binary_accuracy: 0.4873\n",
      "Epoch 95/100\n",
      "19/19 [==============================] - 2s 109ms/step - loss: 0.5886 - binary_accuracy: 0.6968 - val_loss: 0.7538 - val_binary_accuracy: 0.5551\n",
      "Epoch 96/100\n",
      "19/19 [==============================] - 2s 110ms/step - loss: 0.5824 - binary_accuracy: 0.7000 - val_loss: 0.7608 - val_binary_accuracy: 0.5551\n",
      "Epoch 97/100\n",
      "19/19 [==============================] - 2s 110ms/step - loss: 0.5832 - binary_accuracy: 0.6894 - val_loss: 0.7447 - val_binary_accuracy: 0.5381\n",
      "Epoch 98/100\n",
      "19/19 [==============================] - 2s 111ms/step - loss: 0.5934 - binary_accuracy: 0.6734 - val_loss: 0.7496 - val_binary_accuracy: 0.5466\n",
      "Epoch 99/100\n",
      "19/19 [==============================] - 2s 110ms/step - loss: 0.5783 - binary_accuracy: 0.6936 - val_loss: 0.7651 - val_binary_accuracy: 0.5551\n",
      "Epoch 100/100\n",
      "19/19 [==============================] - 2s 110ms/step - loss: 0.5806 - binary_accuracy: 0.6957 - val_loss: 0.7456 - val_binary_accuracy: 0.5508\n"
     ]
    }
   ],
   "source": [
    "history = model.fit(X_train, y_train, \n",
    "                    batch_size=batch_size, \n",
    "                    epochs=epochs, \n",
    "                    validation_data=(X_val, y_val), \n",
    "                    verbose=1, \n",
    "                    callbacks=[tensorboard_call]) #, vall_loss_callback])"
   ]
  },
  {
   "cell_type": "code",
   "execution_count": 13,
   "metadata": {},
   "outputs": [
    {
     "name": "stdout",
     "output_type": "stream",
     "text": [
      "Model: \"sequential\"\n",
      "_________________________________________________________________\n",
      "Layer (type)                 Output Shape              Param #   \n",
      "=================================================================\n",
      "lstm (LSTM)                  (None, 114, 16)           2368      \n",
      "_________________________________________________________________\n",
      "gaussian_noise (GaussianNois (None, 114, 16)           0         \n",
      "_________________________________________________________________\n",
      "lstm_1 (LSTM)                (None, 6)                 552       \n",
      "_________________________________________________________________\n",
      "gaussian_noise_1 (GaussianNo (None, 6)                 0         \n",
      "_________________________________________________________________\n",
      "dense (Dense)                (None, 1)                 7         \n",
      "=================================================================\n",
      "Total params: 2,927\n",
      "Trainable params: 2,927\n",
      "Non-trainable params: 0\n",
      "_________________________________________________________________\n"
     ]
    }
   ],
   "source": [
    "model.summary()"
   ]
  },
  {
   "cell_type": "code",
   "execution_count": 14,
   "metadata": {},
   "outputs": [
    {
     "name": "stdout",
     "output_type": "stream",
     "text": [
      "294/294 [==============================] - 5s 17ms/step - loss: 0.6746 - binary_accuracy: 0.6190\n",
      "test loss, test acc: [0.6746244430541992, 0.6190476417541504]\n"
     ]
    }
   ],
   "source": [
    "#evaluate model on test set\n",
    "results = model.evaluate(X_test, y_test, batch_size=1, verbose=1)\n",
    "print(\"test loss, test acc:\", results)"
   ]
  },
  {
   "cell_type": "code",
   "execution_count": 15,
   "metadata": {},
   "outputs": [
    {
     "data": {
      "image/png": "[encoded data removed]",
      "text/plain": [
       "<Figure size 432x288 with 1 Axes>"
      ]
     },
     "metadata": {
      "needs_background": "light"
     },
     "output_type": "display_data"
    }
   ],
   "source": [
    "#summarize history for accuracy\n",
    "plt.plot(history.history[(list(history.history.keys())[1])])\n",
    "plt.plot(history.history[(list(history.history.keys())[3])])\n",
    "plt.title('model accuracy')\n",
    "plt.ylabel('accuracy')\n",
    "plt.xlabel('epoch')\n",
    "plt.legend(['train', 'val'], loc='upper left')\n",
    "plt.show()"
   ]
  },
  {
   "cell_type": "code",
   "execution_count": 16,
   "metadata": {},
   "outputs": [
    {
     "data": {
      "image/png": "[encoded data removed]",
      "text/plain": [
       "<Figure size 432x288 with 1 Axes>"
      ]
     },
     "metadata": {
      "needs_background": "light"
     },
     "output_type": "display_data"
    }
   ],
   "source": [
    "#summarize history for loss\n",
    "plt.plot(history.history[(list(history.history.keys())[0])])\n",
    "plt.plot(history.history[(list(history.history.keys())[2])])\n",
    "plt.title('model loss')\n",
    "plt.ylabel('loss')\n",
    "plt.xlabel('epoch')\n",
    "plt.legend(['train', 'val'], loc='upper left')\n",
    "plt.show()"
   ]
  },
  {
   "cell_type": "code",
   "execution_count": 17,
   "metadata": {},
   "outputs": [
    {
     "name": "stdout",
     "output_type": "stream",
     "text": [
      "predictions: [[0.5546567 ]\n",
      " [0.17065436]\n",
      " [0.7757205 ]\n",
      " [0.22596803]\n",
      " [0.15122509]\n",
      " [0.2801571 ]\n",
      " [0.69100976]\n",
      " [0.7836921 ]\n",
      " [0.7264531 ]\n",
      " [0.16587582]\n",
      " [0.2526074 ]\n",
      " [0.67894655]\n",
      " [0.54427284]\n",
      " [0.55051357]\n",
      " [0.17802736]\n",
      " [0.2924207 ]\n",
      " [0.15279362]\n",
      " [0.23778278]\n",
      " [0.23770356]\n",
      " [0.3867457 ]\n",
      " [0.77065635]\n",
      " [0.8173435 ]\n",
      " [0.6126934 ]\n",
      " [0.16166413]\n",
      " [0.73672676]\n",
      " [0.41203487]\n",
      " [0.7682992 ]\n",
      " [0.4048162 ]\n",
      " [0.5703126 ]\n",
      " [0.19162038]\n",
      " [0.79034317]\n",
      " [0.8477733 ]\n",
      " [0.40023065]\n",
      " [0.47972623]\n",
      " [0.6167034 ]\n",
      " [0.7901652 ]\n",
      " [0.47253793]\n",
      " [0.6796882 ]\n",
      " [0.41382563]\n",
      " [0.46992022]\n",
      " [0.4942176 ]\n",
      " [0.1629973 ]\n",
      " [0.5197619 ]\n",
      " [0.25599676]\n",
      " [0.6334174 ]\n",
      " [0.19146171]\n",
      " [0.22018665]\n",
      " [0.77825356]\n",
      " [0.532719  ]\n",
      " [0.7597701 ]\n",
      " [0.7026941 ]\n",
      " [0.80087   ]\n",
      " [0.7718962 ]\n",
      " [0.14246494]\n",
      " [0.72853124]\n",
      " [0.5575813 ]\n",
      " [0.68424547]\n",
      " [0.35734683]\n",
      " [0.74011827]\n",
      " [0.7104078 ]\n",
      " [0.15479657]\n",
      " [0.14147186]\n",
      " [0.13840196]\n",
      " [0.61555326]\n",
      " [0.48287034]\n",
      " [0.23580205]\n",
      " [0.19356498]\n",
      " [0.51209086]\n",
      " [0.3403834 ]\n",
      " [0.15755811]\n",
      " [0.60360557]\n",
      " [0.2903962 ]\n",
      " [0.40342695]\n",
      " [0.30416512]\n",
      " [0.8158462 ]\n",
      " [0.6579687 ]\n",
      " [0.20915833]\n",
      " [0.43228954]\n",
      " [0.2735963 ]\n",
      " [0.6059864 ]\n",
      " [0.49952233]\n",
      " [0.5430593 ]\n",
      " [0.56168324]\n",
      " [0.78295326]\n",
      " [0.77450925]\n",
      " [0.6391875 ]\n",
      " [0.8357827 ]\n",
      " [0.55168396]\n",
      " [0.2696141 ]\n",
      " [0.8258586 ]\n",
      " [0.4830133 ]\n",
      " [0.6735908 ]\n",
      " [0.72914225]\n",
      " [0.46625996]\n",
      " [0.6011116 ]\n",
      " [0.21236888]\n",
      " [0.8202287 ]\n",
      " [0.34652075]\n",
      " [0.7808592 ]\n",
      " [0.53672624]\n",
      " [0.7815542 ]\n",
      " [0.38755503]\n",
      " [0.41572624]\n",
      " [0.31608838]\n",
      " [0.7991688 ]\n",
      " [0.7201184 ]\n",
      " [0.82402825]\n",
      " [0.58133465]\n",
      " [0.36896026]\n",
      " [0.32176268]\n",
      " [0.5273665 ]\n",
      " [0.8256186 ]\n",
      " [0.27446818]\n",
      " [0.608416  ]\n",
      " [0.7905594 ]\n",
      " [0.8120378 ]\n",
      " [0.31691054]\n",
      " [0.5736553 ]\n",
      " [0.30939215]\n",
      " [0.5662494 ]\n",
      " [0.25364536]\n",
      " [0.16042304]\n",
      " [0.17719623]\n",
      " [0.36192587]\n",
      " [0.17796195]\n",
      " [0.31204015]\n",
      " [0.80045915]\n",
      " [0.6844715 ]\n",
      " [0.8155439 ]\n",
      " [0.33971256]\n",
      " [0.38543928]\n",
      " [0.41155043]\n",
      " [0.6652267 ]\n",
      " [0.3899596 ]\n",
      " [0.35755777]\n",
      " [0.5805162 ]\n",
      " [0.57693076]\n",
      " [0.5152437 ]\n",
      " [0.199541  ]\n",
      " [0.28006148]\n",
      " [0.18283072]\n",
      " [0.39986598]\n",
      " [0.7961809 ]\n",
      " [0.5190084 ]\n",
      " [0.61412525]\n",
      " [0.525475  ]\n",
      " [0.3646118 ]\n",
      " [0.73148626]\n",
      " [0.7985053 ]\n",
      " [0.22425756]\n",
      " [0.37247473]\n",
      " [0.6824997 ]\n",
      " [0.18295795]\n",
      " [0.16652873]\n",
      " [0.76559687]\n",
      " [0.4460552 ]\n",
      " [0.23242202]\n",
      " [0.1702699 ]\n",
      " [0.75697875]\n",
      " [0.45482323]\n",
      " [0.8227014 ]\n",
      " [0.27028275]\n",
      " [0.37246764]\n",
      " [0.55040836]\n",
      " [0.4649523 ]\n",
      " [0.76732004]\n",
      " [0.8159447 ]\n",
      " [0.18505228]\n",
      " [0.16773272]\n",
      " [0.21570039]\n",
      " [0.8126285 ]\n",
      " [0.515831  ]\n",
      " [0.1734212 ]\n",
      " [0.68706715]\n",
      " [0.8046875 ]\n",
      " [0.72472984]\n",
      " [0.79604137]\n",
      " [0.6733691 ]\n",
      " [0.5467985 ]\n",
      " [0.7728707 ]\n",
      " [0.30047768]\n",
      " [0.28443623]\n",
      " [0.2860651 ]\n",
      " [0.59736836]\n",
      " [0.7619832 ]\n",
      " [0.6701908 ]\n",
      " [0.3888406 ]\n",
      " [0.1891064 ]\n",
      " [0.57932687]\n",
      " [0.17311907]\n",
      " [0.19394872]\n",
      " [0.5271804 ]\n",
      " [0.45633414]\n",
      " [0.7671331 ]\n",
      " [0.455408  ]\n",
      " [0.48682186]\n",
      " [0.6844425 ]\n",
      " [0.26807046]\n",
      " [0.6499115 ]\n",
      " [0.5060104 ]\n",
      " [0.55303955]\n",
      " [0.81624365]\n",
      " [0.1825091 ]\n",
      " [0.82553774]\n",
      " [0.5191343 ]\n",
      " [0.55879927]\n",
      " [0.2353288 ]\n",
      " [0.5842559 ]\n",
      " [0.549109  ]\n",
      " [0.40148416]\n",
      " [0.48899385]\n",
      " [0.7940626 ]\n",
      " [0.24231553]\n",
      " [0.7573943 ]\n",
      " [0.6599644 ]\n",
      " [0.7757831 ]\n",
      " [0.42006886]\n",
      " [0.5560681 ]\n",
      " [0.283952  ]\n",
      " [0.63297755]\n",
      " [0.69848686]\n",
      " [0.7499831 ]\n",
      " [0.7611475 ]\n",
      " [0.56438005]\n",
      " [0.18293327]\n",
      " [0.56029475]\n",
      " [0.7705331 ]\n",
      " [0.43311694]\n",
      " [0.21475857]\n",
      " [0.79380524]\n",
      " [0.20580205]\n",
      " [0.7820318 ]\n",
      " [0.8397912 ]\n",
      " [0.49160218]\n",
      " [0.73857236]\n",
      " [0.15817475]\n",
      " [0.17850989]\n",
      " [0.18033302]\n",
      " [0.71516633]\n",
      " [0.63898706]\n",
      " [0.6536957 ]\n",
      " [0.67249554]\n",
      " [0.25011015]\n",
      " [0.6618473 ]\n",
      " [0.2859782 ]\n",
      " [0.33198145]\n",
      " [0.31367874]\n",
      " [0.6421101 ]\n",
      " [0.73280185]\n",
      " [0.74859804]\n",
      " [0.6222156 ]\n",
      " [0.362313  ]\n",
      " [0.24129173]\n",
      " [0.52445114]\n",
      " [0.47960278]\n",
      " [0.33870605]\n",
      " [0.23485798]\n",
      " [0.5350586 ]\n",
      " [0.20126161]\n",
      " [0.31901908]\n",
      " [0.24445549]\n",
      " [0.80152404]\n",
      " [0.6682048 ]\n",
      " [0.5721204 ]\n",
      " [0.34056777]\n",
      " [0.6564386 ]\n",
      " [0.35007638]\n",
      " [0.48070276]\n",
      " [0.74854016]\n",
      " [0.44363603]\n",
      " [0.68444437]\n",
      " [0.7940142 ]\n",
      " [0.33989227]\n",
      " [0.68683445]\n",
      " [0.5304371 ]\n",
      " [0.68023694]\n",
      " [0.29767218]\n",
      " [0.80925417]\n",
      " [0.5076983 ]\n",
      " [0.3165471 ]\n",
      " [0.1713512 ]\n",
      " [0.50109357]\n",
      " [0.52549875]\n",
      " [0.7406034 ]\n",
      " [0.696585  ]\n",
      " [0.56348526]\n",
      " [0.26540855]\n",
      " [0.30874822]\n",
      " [0.75379515]\n",
      " [0.79583496]\n",
      " [0.61090696]\n",
      " [0.3782576 ]\n",
      " [0.24046114]\n",
      " [0.17460564]]\n"
     ]
    }
   ],
   "source": [
    "#generate predictions\n",
    "predictions = model.predict(X_test)\n",
    "print(\"predictions:\", predictions)"
   ]
  },
  {
   "cell_type": "code",
   "execution_count": 18,
   "metadata": {},
   "outputs": [
    {
     "name": "stdout",
     "output_type": "stream",
     "text": [
      "['N' 'F' 'N' 'F' 'F' 'F' 'N' 'N' 'N' 'F' 'F' 'N' 'N' 'N' 'F' 'F' 'F' 'F'\n",
      " 'F' 'F' 'N' 'N' 'N' 'F' 'N' 'F' 'N' 'F' 'N' 'F' 'N' 'N' 'F' 'F' 'N' 'N'\n",
      " 'F' 'N' 'F' 'F' 'F' 'F' 'N' 'F' 'N' 'F' 'F' 'N' 'N' 'N' 'N' 'N' 'N' 'F'\n",
      " 'N' 'N' 'N' 'F' 'N' 'N' 'F' 'F' 'F' 'N' 'F' 'F' 'F' 'N' 'F' 'F' 'N' 'F'\n",
      " 'F' 'F' 'N' 'N' 'F' 'F' 'F' 'N' 'F' 'N' 'N' 'N' 'N' 'N' 'N' 'N' 'F' 'N'\n",
      " 'F' 'N' 'N' 'F' 'N' 'F' 'N' 'F' 'N' 'N' 'N' 'F' 'F' 'F' 'N' 'N' 'N' 'N'\n",
      " 'F' 'F' 'N' 'N' 'F' 'N' 'N' 'N' 'F' 'N' 'F' 'N' 'F' 'F' 'F' 'F' 'F' 'F'\n",
      " 'N' 'N' 'N' 'F' 'F' 'F' 'N' 'F' 'F' 'N' 'N' 'N' 'F' 'F' 'F' 'F' 'N' 'N'\n",
      " 'N' 'N' 'F' 'N' 'N' 'F' 'F' 'N' 'F' 'F' 'N' 'F' 'F' 'F' 'N' 'F' 'N' 'F'\n",
      " 'F' 'N' 'F' 'N' 'N' 'F' 'F' 'F' 'N' 'N' 'F' 'N' 'N' 'N' 'N' 'N' 'N' 'N'\n",
      " 'F' 'F' 'F' 'N' 'N' 'N' 'F' 'F' 'N' 'F' 'F' 'N' 'F' 'N' 'F' 'F' 'N' 'F'\n",
      " 'N' 'N' 'N' 'N' 'F' 'N' 'N' 'N' 'F' 'N' 'N' 'F' 'F' 'N' 'F' 'N' 'N' 'N'\n",
      " 'F' 'N' 'F' 'N' 'N' 'N' 'N' 'N' 'F' 'N' 'N' 'F' 'F' 'N' 'F' 'N' 'N' 'F'\n",
      " 'N' 'F' 'F' 'F' 'N' 'N' 'N' 'N' 'F' 'N' 'F' 'F' 'F' 'N' 'N' 'N' 'N' 'F'\n",
      " 'F' 'N' 'F' 'F' 'F' 'N' 'F' 'F' 'F' 'N' 'N' 'N' 'F' 'N' 'F' 'F' 'N' 'F'\n",
      " 'N' 'N' 'F' 'N' 'N' 'N' 'F' 'N' 'N' 'F' 'F' 'N' 'N' 'N' 'N' 'N' 'F' 'F'\n",
      " 'N' 'N' 'N' 'F' 'F' 'F']\n"
     ]
    }
   ],
   "source": [
    "#remove encoding\n",
    "real_predictions_B = a_encoder.inverse_transform(predictions)\n",
    "print(real_predictions_B)"
   ]
  },
  {
   "cell_type": "code",
   "execution_count": 19,
   "metadata": {},
   "outputs": [
    {
     "data": {
      "text/plain": [
       "{'F': 138, 'N': 156}"
      ]
     },
     "execution_count": 19,
     "metadata": {},
     "output_type": "execute_result"
    }
   ],
   "source": [
    "#prediction counts\n",
    "unique, counts = np.unique(real_predictions_B, return_counts=True)\n",
    "dict(zip(unique, counts))"
   ]
  },
  {
   "cell_type": "code",
   "execution_count": 20,
   "metadata": {},
   "outputs": [
    {
     "name": "stdout",
     "output_type": "stream",
     "text": [
      "['N' 'F' 'F' 'F' 'F' 'F' 'F' 'F' 'F' 'F' 'F' 'F' 'F' 'F' 'F' 'N' 'F' 'F'\n",
      " 'F' 'N' 'N' 'N' 'F' 'F' 'N' 'F' 'N' 'F' 'N' 'F' 'N' 'N' 'F' 'N' 'N' 'N'\n",
      " 'F' 'F' 'F' 'N' 'F' 'N' 'F' 'F' 'F' 'N' 'F' 'N' 'N' 'N' 'F' 'F' 'N' 'N'\n",
      " 'N' 'N' 'N' 'N' 'N' 'F' 'F' 'F' 'F' 'N' 'F' 'N' 'N' 'N' 'N' 'F' 'F' 'N'\n",
      " 'F' 'N' 'F' 'N' 'N' 'N' 'F' 'N' 'F' 'F' 'N' 'N' 'N' 'F' 'N' 'F' 'N' 'N'\n",
      " 'F' 'N' 'F' 'N' 'N' 'F' 'N' 'F' 'N' 'N' 'N' 'F' 'N' 'N' 'N' 'F' 'N' 'N'\n",
      " 'N' 'F' 'F' 'N' 'F' 'N' 'N' 'N' 'F' 'N' 'N' 'F' 'F' 'F' 'F' 'F' 'N' 'N'\n",
      " 'N' 'F' 'N' 'N' 'N' 'N' 'N' 'N' 'F' 'F' 'N' 'N' 'F' 'F' 'F' 'F' 'F' 'F'\n",
      " 'F' 'F' 'F' 'F' 'N' 'F' 'F' 'F' 'F' 'F' 'N' 'N' 'F' 'F' 'N' 'F' 'N' 'N'\n",
      " 'F' 'N' 'F' 'N' 'N' 'F' 'N' 'N' 'F' 'F' 'F' 'F' 'N' 'N' 'N' 'F' 'F' 'N'\n",
      " 'N' 'F' 'N' 'F' 'N' 'F' 'F' 'F' 'F' 'F' 'F' 'N' 'F' 'F' 'F' 'F' 'F' 'F'\n",
      " 'F' 'F' 'F' 'N' 'F' 'F' 'N' 'N' 'F' 'N' 'N' 'F' 'N' 'F' 'N' 'N' 'F' 'N'\n",
      " 'N' 'N' 'N' 'F' 'N' 'N' 'N' 'N' 'N' 'F' 'N' 'F' 'N' 'F' 'F' 'N' 'N' 'F'\n",
      " 'N' 'F' 'F' 'N' 'F' 'N' 'F' 'N' 'N' 'N' 'N' 'N' 'F' 'N' 'F' 'N' 'N' 'N'\n",
      " 'F' 'N' 'N' 'F' 'F' 'N' 'N' 'N' 'F' 'F' 'N' 'F' 'F' 'F' 'N' 'F' 'N' 'F'\n",
      " 'N' 'F' 'N' 'F' 'N' 'N' 'F' 'N' 'N' 'F' 'N' 'N' 'N' 'F' 'N' 'F' 'F' 'F'\n",
      " 'N' 'F' 'N' 'N' 'F' 'F']\n"
     ]
    }
   ],
   "source": [
    "#y_test predictions\n",
    "ytest_predictions = a_encoder.inverse_transform(y_test)\n",
    "print(ytest_predictions)"
   ]
  },
  {
   "cell_type": "code",
   "execution_count": 21,
   "metadata": {},
   "outputs": [
    {
     "data": {
      "text/plain": [
       "{'F': 148, 'N': 146}"
      ]
     },
     "execution_count": 21,
     "metadata": {},
     "output_type": "execute_result"
    }
   ],
   "source": [
    "#real count\n",
    "unique, counts = np.unique(ytest_predictions, return_counts=True)\n",
    "dict(zip(unique, counts))"
   ]
  },
  {
   "cell_type": "code",
   "execution_count": 22,
   "metadata": {},
   "outputs": [
    {
     "data": {
      "image/png": "[encoded data removed]",
      "text/plain": [
       "<Figure size 432x288 with 2 Axes>"
      ]
     },
     "metadata": {
      "needs_background": "light"
     },
     "output_type": "display_data"
    }
   ],
   "source": [
    "#confusion matrix\n",
    "matrix = confusion_matrix(ytest_predictions, real_predictions_B)\n",
    "#format confusion matrix\n",
    "ax=plt.subplot()\n",
    "sns.heatmap(matrix, annot=True, ax = ax, cmap='Greens', fmt='g');\n",
    "accuracy = np.trace(matrix) / np.sum(matrix).astype('float')\n",
    "misclass = 1 - accuracy\n",
    "ax.set_xlabel('Predicted label\\naccuracy={:0.4f}; misclass={:0.4f}'.format(accuracy, misclass));\n",
    "ax.set_ylabel('True labels'); \n",
    "ax.set_title('Confusion Matrix');\n",
    "ax.xaxis.set_ticklabels(unique); ax.yaxis.set_ticklabels(unique);"
   ]
  },
  {
   "cell_type": "code",
   "execution_count": 23,
   "metadata": {},
   "outputs": [
    {
     "name": "stdout",
     "output_type": "stream",
     "text": [
      "              precision    recall  f1-score   support\n",
      "\n",
      "           F       0.63      0.59      0.61       148\n",
      "           N       0.61      0.65      0.63       146\n",
      "\n",
      "    accuracy                           0.62       294\n",
      "   macro avg       0.62      0.62      0.62       294\n",
      "weighted avg       0.62      0.62      0.62       294\n",
      "\n"
     ]
    }
   ],
   "source": [
    "print(classification_report(ytest_predictions, real_predictions_B))"
   ]
  },
  {
   "cell_type": "code",
   "execution_count": 24,
   "metadata": {},
   "outputs": [
    {
     "name": "stdout",
     "output_type": "stream",
     "text": [
      "precision score:0.6197\n",
      "recall score:0.6193\n",
      "f1 score:0.6188\n"
     ]
    }
   ],
   "source": [
    "#macro - calculate metrics for each label, and find their unweighted mean\n",
    "pre_score = precision_score(ytest_predictions, real_predictions_B, average = \"macro\")\n",
    "print('precision score:{:0.4f}'.format(pre_score))\n",
    "recall_score_1 = recall_score(ytest_predictions, real_predictions_B, average= \"macro\")\n",
    "print('recall score:{:0.4f}'.format(recall_score_1))\n",
    "f1_score_1 = f1_score(ytest_predictions, real_predictions_B, average=\"macro\")\n",
    "print('f1 score:{:0.4f}'.format(f1_score_1))"
   ]
  }
 ],
 "metadata": {
  "kernelspec": {
   "display_name": "Python 3",
   "language": "python",
   "name": "python3"
  },
  "language_info": {
   "codemirror_mode": {
    "name": "ipython",
    "version": 3
   },
   "file_extension": ".py",
   "mimetype": "text/x-python",
   "name": "python",
   "nbconvert_exporter": "python",
   "pygments_lexer": "ipython3",
   "version": "3.8.3"
  }
 },
 "nbformat": 4,
 "nbformat_minor": 4
}
