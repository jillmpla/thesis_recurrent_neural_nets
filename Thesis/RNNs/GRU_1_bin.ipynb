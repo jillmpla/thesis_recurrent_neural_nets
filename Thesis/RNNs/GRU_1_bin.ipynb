{
 "cells": [
  {
   "cell_type": "code",
   "execution_count": 1,
   "metadata": {},
   "outputs": [],
   "source": [
    "#tensorboard via command-line:\n",
    "#tensorboard --logdir=where your Logs directory is"
   ]
  },
  {
   "cell_type": "code",
   "execution_count": 2,
   "metadata": {},
   "outputs": [],
   "source": [
    "#~~~~~~~~~~~~~~~~~~~~~~~~~~~~~~~~~~~~~~~~~~~~~~~~~~~~~~~~~~~~~~~~~~~~~~~~~~~~~~~~~~~~~~~~~~~~~~~~~~~~~~~#\n",
    "#What is the maximum flare class produced by an AR in the next 24hrs after a 24hr time sequence?\n",
    "#~~~~~~~~~~~~~~~~~~~~~~~~~~~~~~~~~~~~~~~~~~~~~~~~~~~~~~~~~~~~~~~~~~~~~~~~~~~~~~~~~~~~~~~~~~~~~~~~~~~~~~~#\n",
    "#feature data from - hmi.sharp_720s:::\n",
    "#http://jsoc.stanford.edu/doc/data/hmi/sharp/sharp.htm\n",
    "\n",
    "#label data from - GOES flare events:::\n",
    "#ftp://ftp.swpc.noaa.gov/pub/warehouse/\n",
    "\n",
    "#and from - GOES XRS Report:::\n",
    "#https://www.ngdc.noaa.gov/stp/space-weather/solar-data/solar-features/solar-flares/x-rays/goes/xrs/\n",
    "#~~~~~~~~~~~~~~~~~~~~~~~~~~~~~~~~~~~~~~~~~~~~~~~~~~~~~~~~~~~~~~~~~~~~~~~~~~~~~~~~~~~~~~~~~~~~~~~~~~~~~~~#\n",
    "#binary class - F for flare and N for no flare\n",
    "#multi-class - #6 flare classes: N is no flare, A is smallest, X is largest\n",
    "               #key = {'N', 'A', 'B', 'C', 'M', 'X'}\n",
    "               #['A' class flares generally not listed in official reports due to small size]\n",
    "#~~~~~~~~~~~~~~~~~~~~~~~~~~~~~~~~~~~~~~~~~~~~~~~~~~~~~~~~~~~~~~~~~~~~~~~~~~~~~~~~~~~~~~~~~~~~~~~~~~~~~~~#"
   ]
  },
  {
   "cell_type": "code",
   "execution_count": 3,
   "metadata": {},
   "outputs": [
    {
     "name": "stdout",
     "output_type": "stream",
     "text": [
      "tensorflow version: 2.3.1\n"
     ]
    }
   ],
   "source": [
    "import tensorflow as tf\n",
    "print(\"tensorflow version:\", tf.__version__) #2.3.1 used\n",
    "from tensorflow import keras\n",
    "import os\n",
    "import glob\n",
    "import shutil\n",
    "import datetime\n",
    "import numpy as np\n",
    "import pandas as pd\n",
    "import seaborn as sns\n",
    "from pathlib import Path\n",
    "from astropy.time import Time\n",
    "from matplotlib import pyplot as plt\n",
    "from sklearn.metrics import f1_score, precision_score, recall_score, classification_report, confusion_matrix\n",
    "from sklearn.metrics import plot_confusion_matrix\n",
    "from sklearn.preprocessing import LabelBinarizer\n",
    "from sklearn.model_selection import train_test_split\n",
    "from sklearn.preprocessing import MinMaxScaler\n",
    "from tensorflow.keras.layers import Dropout, Dense, Embedding, Flatten, SimpleRNN, LSTM, GRU, Bidirectional\n",
    "from tensorflow.keras.models import Model, Sequential\n",
    "from tensorflow.keras.optimizers import SGD, RMSprop, Adam\n",
    "import drms #https://pypi.org/project/drms/\n",
    "#~~~~~~~~~~~~~~~~~~~~~~~~~~~~~~~~~~~~~~~~~~~~~~~~~~~~~~~~~~~~~~~~~~~~~~~~~~~~~~~~~~~~~~~~~~~~~~~~~~~~~~~#\n",
    "import Flare_Data\n",
    "import Feature_Years\n",
    "import Make_TB_Logs\n",
    "#~~~~~~~~~~~~~~~~~~~~~~~~~~~~~~~~~~~~~~~~~~~~~~~~~~~~~~~~~~~~~~~~~~~~~~~~~~~~~~~~~~~~~~~~~~~~~~~~~~~~~~~#"
   ]
  },
  {
   "cell_type": "code",
   "execution_count": 4,
   "metadata": {},
   "outputs": [
    {
     "name": "stdout",
     "output_type": "stream",
     "text": [
      "CSVs compiled.\n"
     ]
    }
   ],
   "source": [
    "Feature_Years.generate_all_feature_years()"
   ]
  },
  {
   "cell_type": "code",
   "execution_count": 5,
   "metadata": {},
   "outputs": [],
   "source": [
    "where_logs = Make_TB_Logs.make_clear_tensorboard_folder()"
   ]
  },
  {
   "cell_type": "code",
   "execution_count": 6,
   "metadata": {},
   "outputs": [
    {
     "name": "stdout",
     "output_type": "stream",
     "text": [
      "The time series starts from:  2012-01-01 00:11:26\n",
      "The time series ends on:  2015-12-31 23:47:24\n",
      "(array(['F', 'N'], dtype='<U1'), array([564, 536], dtype=int64))\n"
     ]
    }
   ],
   "source": [
    "#binary = True for binary classification, binary = False for multi-class classification\n",
    "X_train, X_val, X_test, y_train, y_val, y_test, tim_steps, n_feats, count_of_classes, a_encoder = Flare_Data.getAllData(binary = True)"
   ]
  },
  {
   "cell_type": "code",
   "execution_count": 7,
   "metadata": {},
   "outputs": [
    {
     "name": "stdout",
     "output_type": "stream",
     "text": [
      "(440, 114, 20) (440, 114, 20) (220, 114, 20) (440, 1) (440, 1) (220, 1)\n"
     ]
    }
   ],
   "source": [
    "print(X_train.shape, X_val.shape, X_test.shape, y_train.shape, y_val.shape, y_test.shape)"
   ]
  },
  {
   "cell_type": "code",
   "execution_count": 8,
   "metadata": {},
   "outputs": [],
   "source": [
    "#~~~~~~~~~~~~~~~~~~~~~~~~~~~~~~~~~~~~~~~~~~~~~~~~~~~~~~~~~~~~~~~~~~~~~~~~~~~~~~~~~~~~~~~~~~~~~~~~~~~~~~~#\n",
    "#~~~~~~~~~~~~~~~~~~~~~~~~~~~~~~~~~~~~~~~~~~~~~~~~~~~~~~~~~~~~~~~~~~~~~~~~~~~~~~~~~~~~~~~~~~~~~~~~~~~~~~~#"
   ]
  },
  {
   "cell_type": "code",
   "execution_count": 120,
   "metadata": {},
   "outputs": [],
   "source": [
    "batch_size = 16\n",
    "epochs = 200\n",
    "optimizer = RMSprop(lr=0.0001, rho=0.9, epsilon=1e-06, decay=0.0)"
   ]
  },
  {
   "cell_type": "code",
   "execution_count": 121,
   "metadata": {},
   "outputs": [],
   "source": [
    "#~~~~~~~~~~~~~~~~~~~~~~~~~~~~~~~~~~~~~~~[GRU_1 Model]~~~~~~~~~~~~~~~~~~~~~~~~~~~~~~~~~~~~~~~~~~~~~~~~~~~#\n",
    "#~~~~~~~~~~~~~~~~~~~~~~~~~~~~~~~~~~~~~~~[Binary-Class]~~~~~~~~~~~~~~~~~~~~~~~~~~~~~~~~~~~~~~~~~~~~~~~~~~#\n",
    "#~~~~~~~~~~~~~~~~~~~~~~~~~~~~~~~~~~~~~~~[Single Layer]~~~~~~~~~~~~~~~~~~~~~~~~~~~~~~~~~~~~~~~~~~~~~~~~~~#\n",
    "model = Sequential()\n",
    "model.add((GRU(16,  input_shape=(tim_steps, n_feats))))\n",
    "model.add(Dense(1, activation='sigmoid'))\n",
    "model.compile(loss='binary_crossentropy', optimizer=optimizer, metrics=['binary_accuracy'])\n",
    "#~~~~~~~~~~~~~~~~~~~~~~~~~~~~~~~~~~~~~~~~~~~~~~~~~~~~~~~~~~~~~~~~~~~~~~~~~~~~~~~~~~~~~~~~~~~~~~~~~~~~~~~#\n",
    "#~~~~~~~~~~~~~~~~~~~~~~~~~~~~~~~~~~~~~~~~~~~~~~~~~~~~~~~~~~~~~~~~~~~~~~~~~~~~~~~~~~~~~~~~~~~~~~~~~~~~~~~#"
   ]
  },
  {
   "cell_type": "code",
   "execution_count": 122,
   "metadata": {},
   "outputs": [],
   "source": [
    "tensorboard_call = keras.callbacks.TensorBoard(log_dir=where_logs, histogram_freq=1)\n",
    "val_loss_callback = tf.keras.callbacks.EarlyStopping(monitor='val_loss', patience=10)"
   ]
  },
  {
   "cell_type": "code",
   "execution_count": 123,
   "metadata": {},
   "outputs": [
    {
     "name": "stdout",
     "output_type": "stream",
     "text": [
      "Epoch 1/200\n",
      " 2/28 [=>............................] - ETA: 30s - loss: 0.7821 - binary_accuracy: 0.5000WARNING:tensorflow:Callbacks method `on_train_batch_end` is slow compared to the batch time (batch time: 0.0400s vs `on_train_batch_end` time: 2.3146s). Check your callbacks.\n",
      "28/28 [==============================] - 4s 137ms/step - loss: 0.7504 - binary_accuracy: 0.5136 - val_loss: 0.7480 - val_binary_accuracy: 0.5045\n",
      "Epoch 2/200\n",
      "28/28 [==============================] - 1s 33ms/step - loss: 0.7270 - binary_accuracy: 0.5068 - val_loss: 0.7311 - val_binary_accuracy: 0.5091\n",
      "Epoch 3/200\n",
      "28/28 [==============================] - 1s 33ms/step - loss: 0.7129 - binary_accuracy: 0.5136 - val_loss: 0.7207 - val_binary_accuracy: 0.5023\n",
      "Epoch 4/200\n",
      "28/28 [==============================] - 1s 31ms/step - loss: 0.7036 - binary_accuracy: 0.5159 - val_loss: 0.7132 - val_binary_accuracy: 0.4955\n",
      "Epoch 5/200\n",
      "28/28 [==============================] - 1s 32ms/step - loss: 0.6976 - binary_accuracy: 0.5250 - val_loss: 0.7090 - val_binary_accuracy: 0.4773\n",
      "Epoch 6/200\n",
      "28/28 [==============================] - 1s 33ms/step - loss: 0.6949 - binary_accuracy: 0.5341 - val_loss: 0.7075 - val_binary_accuracy: 0.4523\n",
      "Epoch 7/200\n",
      "28/28 [==============================] - 1s 32ms/step - loss: 0.6936 - binary_accuracy: 0.5250 - val_loss: 0.7068 - val_binary_accuracy: 0.4727\n",
      "Epoch 8/200\n",
      "28/28 [==============================] - 1s 32ms/step - loss: 0.6930 - binary_accuracy: 0.5295 - val_loss: 0.7065 - val_binary_accuracy: 0.4705\n",
      "Epoch 9/200\n",
      "28/28 [==============================] - 1s 32ms/step - loss: 0.6923 - binary_accuracy: 0.5455 - val_loss: 0.7062 - val_binary_accuracy: 0.4591\n",
      "Epoch 10/200\n",
      "28/28 [==============================] - 1s 32ms/step - loss: 0.6922 - binary_accuracy: 0.5432 - val_loss: 0.7061 - val_binary_accuracy: 0.4568\n",
      "Epoch 11/200\n",
      "28/28 [==============================] - 1s 32ms/step - loss: 0.6917 - binary_accuracy: 0.5568 - val_loss: 0.7060 - val_binary_accuracy: 0.4591\n",
      "Epoch 12/200\n",
      "28/28 [==============================] - 1s 32ms/step - loss: 0.6914 - binary_accuracy: 0.5477 - val_loss: 0.7058 - val_binary_accuracy: 0.4614\n",
      "Epoch 13/200\n",
      "28/28 [==============================] - 1s 31ms/step - loss: 0.6910 - binary_accuracy: 0.5477 - val_loss: 0.7057 - val_binary_accuracy: 0.4705\n",
      "Epoch 14/200\n",
      "28/28 [==============================] - 1s 33ms/step - loss: 0.6908 - binary_accuracy: 0.5500 - val_loss: 0.7056 - val_binary_accuracy: 0.4614\n",
      "Epoch 15/200\n",
      "28/28 [==============================] - 1s 31ms/step - loss: 0.6904 - binary_accuracy: 0.5523 - val_loss: 0.7055 - val_binary_accuracy: 0.4750\n",
      "Epoch 16/200\n",
      "28/28 [==============================] - 1s 33ms/step - loss: 0.6903 - binary_accuracy: 0.5523 - val_loss: 0.7054 - val_binary_accuracy: 0.4659\n",
      "Epoch 17/200\n",
      "28/28 [==============================] - 1s 32ms/step - loss: 0.6899 - binary_accuracy: 0.5455 - val_loss: 0.7054 - val_binary_accuracy: 0.4682\n",
      "Epoch 18/200\n",
      "28/28 [==============================] - 1s 33ms/step - loss: 0.6895 - binary_accuracy: 0.5500 - val_loss: 0.7053 - val_binary_accuracy: 0.4705\n",
      "Epoch 19/200\n",
      "28/28 [==============================] - 1s 31ms/step - loss: 0.6893 - binary_accuracy: 0.5568 - val_loss: 0.7052 - val_binary_accuracy: 0.4773\n",
      "Epoch 20/200\n",
      "28/28 [==============================] - 1s 33ms/step - loss: 0.6890 - binary_accuracy: 0.5568 - val_loss: 0.7050 - val_binary_accuracy: 0.4705\n",
      "Epoch 21/200\n",
      "28/28 [==============================] - 1s 31ms/step - loss: 0.6886 - binary_accuracy: 0.5636 - val_loss: 0.7049 - val_binary_accuracy: 0.4659\n",
      "Epoch 22/200\n",
      "28/28 [==============================] - 1s 32ms/step - loss: 0.6883 - binary_accuracy: 0.5636 - val_loss: 0.7048 - val_binary_accuracy: 0.4659\n",
      "Epoch 23/200\n",
      "28/28 [==============================] - 1s 32ms/step - loss: 0.6883 - binary_accuracy: 0.5636 - val_loss: 0.7047 - val_binary_accuracy: 0.4659\n",
      "Epoch 24/200\n",
      "28/28 [==============================] - 1s 32ms/step - loss: 0.6879 - binary_accuracy: 0.5614 - val_loss: 0.7047 - val_binary_accuracy: 0.4636\n",
      "Epoch 25/200\n",
      "28/28 [==============================] - 1s 33ms/step - loss: 0.6878 - binary_accuracy: 0.5591 - val_loss: 0.7046 - val_binary_accuracy: 0.4636\n",
      "Epoch 26/200\n",
      "28/28 [==============================] - 1s 31ms/step - loss: 0.6874 - binary_accuracy: 0.5636 - val_loss: 0.7045 - val_binary_accuracy: 0.4795\n",
      "Epoch 27/200\n",
      "28/28 [==============================] - 1s 34ms/step - loss: 0.6872 - binary_accuracy: 0.5659 - val_loss: 0.7044 - val_binary_accuracy: 0.4773\n",
      "Epoch 28/200\n",
      "28/28 [==============================] - 1s 31ms/step - loss: 0.6869 - binary_accuracy: 0.5636 - val_loss: 0.7044 - val_binary_accuracy: 0.4795\n",
      "Epoch 29/200\n",
      "28/28 [==============================] - 1s 34ms/step - loss: 0.6866 - binary_accuracy: 0.5682 - val_loss: 0.7043 - val_binary_accuracy: 0.4750\n",
      "Epoch 30/200\n",
      "28/28 [==============================] - 1s 31ms/step - loss: 0.6863 - binary_accuracy: 0.5682 - val_loss: 0.7042 - val_binary_accuracy: 0.4818\n",
      "Epoch 31/200\n",
      "28/28 [==============================] - 1s 33ms/step - loss: 0.6861 - binary_accuracy: 0.5795 - val_loss: 0.7041 - val_binary_accuracy: 0.4818\n",
      "Epoch 32/200\n",
      "28/28 [==============================] - 1s 31ms/step - loss: 0.6858 - binary_accuracy: 0.5795 - val_loss: 0.7041 - val_binary_accuracy: 0.4841\n",
      "Epoch 33/200\n",
      "28/28 [==============================] - 1s 33ms/step - loss: 0.6855 - binary_accuracy: 0.5682 - val_loss: 0.7040 - val_binary_accuracy: 0.4795\n",
      "Epoch 34/200\n",
      "28/28 [==============================] - 1s 32ms/step - loss: 0.6852 - binary_accuracy: 0.5727 - val_loss: 0.7039 - val_binary_accuracy: 0.4795\n",
      "Epoch 35/200\n",
      "28/28 [==============================] - 1s 33ms/step - loss: 0.6849 - binary_accuracy: 0.5682 - val_loss: 0.7038 - val_binary_accuracy: 0.4818\n",
      "Epoch 36/200\n",
      "28/28 [==============================] - 1s 32ms/step - loss: 0.6847 - binary_accuracy: 0.5682 - val_loss: 0.7037 - val_binary_accuracy: 0.4773\n",
      "Epoch 37/200\n",
      "28/28 [==============================] - 1s 33ms/step - loss: 0.6844 - binary_accuracy: 0.5682 - val_loss: 0.7037 - val_binary_accuracy: 0.4773\n",
      "Epoch 38/200\n",
      "28/28 [==============================] - 1s 33ms/step - loss: 0.6842 - binary_accuracy: 0.5795 - val_loss: 0.7036 - val_binary_accuracy: 0.4727\n",
      "Epoch 39/200\n",
      "28/28 [==============================] - 1s 31ms/step - loss: 0.6840 - binary_accuracy: 0.5795 - val_loss: 0.7035 - val_binary_accuracy: 0.4750\n",
      "Epoch 40/200\n",
      "28/28 [==============================] - 1s 33ms/step - loss: 0.6834 - binary_accuracy: 0.5795 - val_loss: 0.7035 - val_binary_accuracy: 0.4864\n",
      "Epoch 41/200\n",
      "28/28 [==============================] - 1s 32ms/step - loss: 0.6834 - binary_accuracy: 0.5818 - val_loss: 0.7034 - val_binary_accuracy: 0.4795\n",
      "Epoch 42/200\n",
      "28/28 [==============================] - 1s 33ms/step - loss: 0.6831 - binary_accuracy: 0.5818 - val_loss: 0.7033 - val_binary_accuracy: 0.4818\n",
      "Epoch 43/200\n",
      "28/28 [==============================] - 1s 32ms/step - loss: 0.6827 - binary_accuracy: 0.5841 - val_loss: 0.7033 - val_binary_accuracy: 0.4795\n",
      "Epoch 44/200\n",
      "28/28 [==============================] - 1s 33ms/step - loss: 0.6827 - binary_accuracy: 0.5682 - val_loss: 0.7032 - val_binary_accuracy: 0.4773\n",
      "Epoch 45/200\n",
      "28/28 [==============================] - 1s 33ms/step - loss: 0.6822 - binary_accuracy: 0.5818 - val_loss: 0.7032 - val_binary_accuracy: 0.4773\n",
      "Epoch 46/200\n",
      "28/28 [==============================] - 1s 34ms/step - loss: 0.6821 - binary_accuracy: 0.5864 - val_loss: 0.7031 - val_binary_accuracy: 0.4818\n",
      "Epoch 47/200\n",
      "28/28 [==============================] - 1s 31ms/step - loss: 0.6818 - binary_accuracy: 0.5909 - val_loss: 0.7030 - val_binary_accuracy: 0.4864\n",
      "Epoch 48/200\n",
      "28/28 [==============================] - 1s 33ms/step - loss: 0.6814 - binary_accuracy: 0.5886 - val_loss: 0.7029 - val_binary_accuracy: 0.4864\n",
      "Epoch 49/200\n",
      "28/28 [==============================] - 1s 31ms/step - loss: 0.6812 - binary_accuracy: 0.5886 - val_loss: 0.7028 - val_binary_accuracy: 0.4841\n",
      "Epoch 50/200\n",
      "28/28 [==============================] - 1s 34ms/step - loss: 0.6808 - binary_accuracy: 0.5864 - val_loss: 0.7028 - val_binary_accuracy: 0.4818\n",
      "Epoch 51/200\n"
     ]
    },
    {
     "name": "stdout",
     "output_type": "stream",
     "text": [
      "28/28 [==============================] - 1s 31ms/step - loss: 0.6806 - binary_accuracy: 0.5886 - val_loss: 0.7027 - val_binary_accuracy: 0.4818\n",
      "Epoch 52/200\n",
      "28/28 [==============================] - 1s 33ms/step - loss: 0.6803 - binary_accuracy: 0.5909 - val_loss: 0.7026 - val_binary_accuracy: 0.4864\n",
      "Epoch 53/200\n",
      "28/28 [==============================] - 1s 31ms/step - loss: 0.6800 - binary_accuracy: 0.5909 - val_loss: 0.7025 - val_binary_accuracy: 0.4841\n",
      "Epoch 54/200\n",
      "28/28 [==============================] - 1s 33ms/step - loss: 0.6798 - binary_accuracy: 0.5932 - val_loss: 0.7025 - val_binary_accuracy: 0.4864\n",
      "Epoch 55/200\n",
      "28/28 [==============================] - 1s 30ms/step - loss: 0.6795 - binary_accuracy: 0.5909 - val_loss: 0.7024 - val_binary_accuracy: 0.4909\n",
      "Epoch 56/200\n",
      "28/28 [==============================] - 1s 34ms/step - loss: 0.6791 - binary_accuracy: 0.5909 - val_loss: 0.7024 - val_binary_accuracy: 0.4864\n",
      "Epoch 57/200\n",
      "28/28 [==============================] - 1s 33ms/step - loss: 0.6791 - binary_accuracy: 0.6045 - val_loss: 0.7023 - val_binary_accuracy: 0.4886\n",
      "Epoch 58/200\n",
      "28/28 [==============================] - 1s 35ms/step - loss: 0.6784 - binary_accuracy: 0.6000 - val_loss: 0.7023 - val_binary_accuracy: 0.4886\n",
      "Epoch 59/200\n",
      "28/28 [==============================] - 1s 32ms/step - loss: 0.6784 - binary_accuracy: 0.6023 - val_loss: 0.7022 - val_binary_accuracy: 0.4909\n",
      "Epoch 60/200\n",
      "28/28 [==============================] - 1s 33ms/step - loss: 0.6780 - binary_accuracy: 0.6068 - val_loss: 0.7020 - val_binary_accuracy: 0.4818\n",
      "Epoch 61/200\n",
      "28/28 [==============================] - 1s 31ms/step - loss: 0.6778 - binary_accuracy: 0.5955 - val_loss: 0.7019 - val_binary_accuracy: 0.4818\n",
      "Epoch 62/200\n",
      "28/28 [==============================] - 1s 31ms/step - loss: 0.6773 - binary_accuracy: 0.6023 - val_loss: 0.7018 - val_binary_accuracy: 0.4795\n",
      "Epoch 63/200\n",
      "28/28 [==============================] - 1s 31ms/step - loss: 0.6774 - binary_accuracy: 0.6091 - val_loss: 0.7018 - val_binary_accuracy: 0.4750\n",
      "Epoch 64/200\n",
      "28/28 [==============================] - 1s 34ms/step - loss: 0.6770 - binary_accuracy: 0.6045 - val_loss: 0.7017 - val_binary_accuracy: 0.4841\n",
      "Epoch 65/200\n",
      "28/28 [==============================] - 1s 33ms/step - loss: 0.6767 - binary_accuracy: 0.5977 - val_loss: 0.7017 - val_binary_accuracy: 0.4750\n",
      "Epoch 66/200\n",
      "28/28 [==============================] - 1s 33ms/step - loss: 0.6763 - binary_accuracy: 0.6068 - val_loss: 0.7016 - val_binary_accuracy: 0.4750\n",
      "Epoch 67/200\n",
      "28/28 [==============================] - 1s 32ms/step - loss: 0.6760 - binary_accuracy: 0.6068 - val_loss: 0.7016 - val_binary_accuracy: 0.4841\n",
      "Epoch 68/200\n",
      "28/28 [==============================] - 1s 48ms/step - loss: 0.6757 - binary_accuracy: 0.6068 - val_loss: 0.7015 - val_binary_accuracy: 0.4818\n",
      "Epoch 69/200\n",
      "28/28 [==============================] - 1s 38ms/step - loss: 0.6755 - binary_accuracy: 0.6000 - val_loss: 0.7014 - val_binary_accuracy: 0.4727\n",
      "Epoch 70/200\n",
      "28/28 [==============================] - 1s 43ms/step - loss: 0.6752 - binary_accuracy: 0.5977 - val_loss: 0.7014 - val_binary_accuracy: 0.4818\n",
      "Epoch 71/200\n",
      "28/28 [==============================] - 1s 36ms/step - loss: 0.6748 - binary_accuracy: 0.6114 - val_loss: 0.7014 - val_binary_accuracy: 0.4864\n",
      "Epoch 72/200\n",
      "28/28 [==============================] - 1s 31ms/step - loss: 0.6744 - binary_accuracy: 0.6068 - val_loss: 0.7013 - val_binary_accuracy: 0.4750\n",
      "Epoch 73/200\n",
      "28/28 [==============================] - 1s 32ms/step - loss: 0.6743 - binary_accuracy: 0.6091 - val_loss: 0.7012 - val_binary_accuracy: 0.4886\n",
      "Epoch 74/200\n",
      "28/28 [==============================] - 1s 30ms/step - loss: 0.6737 - binary_accuracy: 0.6068 - val_loss: 0.7011 - val_binary_accuracy: 0.4864\n",
      "Epoch 75/200\n",
      "28/28 [==============================] - 1s 31ms/step - loss: 0.6736 - binary_accuracy: 0.6227 - val_loss: 0.7010 - val_binary_accuracy: 0.4864\n",
      "Epoch 76/200\n",
      "28/28 [==============================] - 1s 33ms/step - loss: 0.6733 - binary_accuracy: 0.6136 - val_loss: 0.7010 - val_binary_accuracy: 0.4864\n",
      "Epoch 77/200\n",
      "28/28 [==============================] - 1s 32ms/step - loss: 0.6727 - binary_accuracy: 0.6182 - val_loss: 0.7009 - val_binary_accuracy: 0.4864\n",
      "Epoch 78/200\n",
      "28/28 [==============================] - 1s 32ms/step - loss: 0.6725 - binary_accuracy: 0.6205 - val_loss: 0.7009 - val_binary_accuracy: 0.4955\n",
      "Epoch 79/200\n",
      "28/28 [==============================] - 1s 31ms/step - loss: 0.6722 - binary_accuracy: 0.6091 - val_loss: 0.7008 - val_binary_accuracy: 0.5000\n",
      "Epoch 80/200\n",
      "28/28 [==============================] - 1s 31ms/step - loss: 0.6718 - binary_accuracy: 0.6114 - val_loss: 0.7008 - val_binary_accuracy: 0.5000\n",
      "Epoch 81/200\n",
      "28/28 [==============================] - 1s 31ms/step - loss: 0.6719 - binary_accuracy: 0.6114 - val_loss: 0.7007 - val_binary_accuracy: 0.5000\n",
      "Epoch 82/200\n",
      "28/28 [==============================] - 1s 30ms/step - loss: 0.6712 - binary_accuracy: 0.6227 - val_loss: 0.7007 - val_binary_accuracy: 0.5000\n",
      "Epoch 83/200\n",
      "28/28 [==============================] - 1s 31ms/step - loss: 0.6710 - binary_accuracy: 0.6205 - val_loss: 0.7006 - val_binary_accuracy: 0.5000\n",
      "Epoch 84/200\n",
      "28/28 [==============================] - 1s 31ms/step - loss: 0.6703 - binary_accuracy: 0.6273 - val_loss: 0.7006 - val_binary_accuracy: 0.4977\n",
      "Epoch 85/200\n",
      "28/28 [==============================] - 1s 29ms/step - loss: 0.6703 - binary_accuracy: 0.6318 - val_loss: 0.7005 - val_binary_accuracy: 0.4977\n",
      "Epoch 86/200\n",
      "28/28 [==============================] - 1s 31ms/step - loss: 0.6699 - binary_accuracy: 0.6182 - val_loss: 0.7004 - val_binary_accuracy: 0.5045\n",
      "Epoch 87/200\n",
      "28/28 [==============================] - 1s 29ms/step - loss: 0.6695 - binary_accuracy: 0.6250 - val_loss: 0.7004 - val_binary_accuracy: 0.5045\n",
      "Epoch 88/200\n",
      "28/28 [==============================] - 1s 30ms/step - loss: 0.6692 - binary_accuracy: 0.6364 - val_loss: 0.7002 - val_binary_accuracy: 0.5023\n",
      "Epoch 89/200\n",
      "28/28 [==============================] - 1s 36ms/step - loss: 0.6689 - binary_accuracy: 0.6295 - val_loss: 0.7001 - val_binary_accuracy: 0.5023\n",
      "Epoch 90/200\n",
      "28/28 [==============================] - 1s 37ms/step - loss: 0.6684 - binary_accuracy: 0.6273 - val_loss: 0.7001 - val_binary_accuracy: 0.5023\n",
      "Epoch 91/200\n",
      "28/28 [==============================] - 1s 35ms/step - loss: 0.6682 - binary_accuracy: 0.6295 - val_loss: 0.7000 - val_binary_accuracy: 0.5068\n",
      "Epoch 92/200\n",
      "28/28 [==============================] - 1s 31ms/step - loss: 0.6677 - binary_accuracy: 0.6318 - val_loss: 0.6999 - val_binary_accuracy: 0.5000\n",
      "Epoch 93/200\n",
      "28/28 [==============================] - 1s 32ms/step - loss: 0.6674 - binary_accuracy: 0.6250 - val_loss: 0.6999 - val_binary_accuracy: 0.5045\n",
      "Epoch 94/200\n",
      "28/28 [==============================] - 1s 30ms/step - loss: 0.6671 - binary_accuracy: 0.6295 - val_loss: 0.6998 - val_binary_accuracy: 0.5045\n",
      "Epoch 95/200\n",
      "28/28 [==============================] - 1s 31ms/step - loss: 0.6665 - binary_accuracy: 0.6295 - val_loss: 0.6999 - val_binary_accuracy: 0.5091\n",
      "Epoch 96/200\n",
      "28/28 [==============================] - 1s 28ms/step - loss: 0.6663 - binary_accuracy: 0.6318 - val_loss: 0.6997 - val_binary_accuracy: 0.5068\n",
      "Epoch 97/200\n",
      "28/28 [==============================] - 1s 31ms/step - loss: 0.6657 - binary_accuracy: 0.6409 - val_loss: 0.6996 - val_binary_accuracy: 0.5045\n",
      "Epoch 98/200\n",
      "28/28 [==============================] - 1s 30ms/step - loss: 0.6657 - binary_accuracy: 0.6364 - val_loss: 0.6995 - val_binary_accuracy: 0.5114\n",
      "Epoch 99/200\n",
      "28/28 [==============================] - 1s 32ms/step - loss: 0.6652 - binary_accuracy: 0.6318 - val_loss: 0.6994 - val_binary_accuracy: 0.5045\n",
      "Epoch 100/200\n",
      "28/28 [==============================] - 1s 30ms/step - loss: 0.6647 - binary_accuracy: 0.6273 - val_loss: 0.6993 - val_binary_accuracy: 0.5068\n",
      "Epoch 101/200\n",
      "28/28 [==============================] - 1s 31ms/step - loss: 0.6645 - binary_accuracy: 0.6318 - val_loss: 0.6992 - val_binary_accuracy: 0.5068\n",
      "Epoch 102/200\n",
      "28/28 [==============================] - 1s 30ms/step - loss: 0.6640 - binary_accuracy: 0.6386 - val_loss: 0.6991 - val_binary_accuracy: 0.5114\n",
      "Epoch 103/200\n"
     ]
    },
    {
     "name": "stdout",
     "output_type": "stream",
     "text": [
      "28/28 [==============================] - 1s 29ms/step - loss: 0.6639 - binary_accuracy: 0.6273 - val_loss: 0.6990 - val_binary_accuracy: 0.5136\n",
      "Epoch 104/200\n",
      "28/28 [==============================] - 1s 30ms/step - loss: 0.6633 - binary_accuracy: 0.6364 - val_loss: 0.6990 - val_binary_accuracy: 0.5136\n",
      "Epoch 105/200\n",
      "28/28 [==============================] - 1s 31ms/step - loss: 0.6630 - binary_accuracy: 0.6341 - val_loss: 0.6990 - val_binary_accuracy: 0.5136\n",
      "Epoch 106/200\n",
      "28/28 [==============================] - 1s 30ms/step - loss: 0.6627 - binary_accuracy: 0.6318 - val_loss: 0.6989 - val_binary_accuracy: 0.5159\n",
      "Epoch 107/200\n",
      "28/28 [==============================] - 1s 30ms/step - loss: 0.6622 - binary_accuracy: 0.6364 - val_loss: 0.6988 - val_binary_accuracy: 0.5182\n",
      "Epoch 108/200\n",
      "28/28 [==============================] - 1s 31ms/step - loss: 0.6618 - binary_accuracy: 0.6295 - val_loss: 0.6987 - val_binary_accuracy: 0.5205\n",
      "Epoch 109/200\n",
      "28/28 [==============================] - 1s 30ms/step - loss: 0.6612 - binary_accuracy: 0.6227 - val_loss: 0.6986 - val_binary_accuracy: 0.5227\n",
      "Epoch 110/200\n",
      "28/28 [==============================] - 1s 30ms/step - loss: 0.6608 - binary_accuracy: 0.6295 - val_loss: 0.6986 - val_binary_accuracy: 0.5227\n",
      "Epoch 111/200\n",
      "28/28 [==============================] - 1s 30ms/step - loss: 0.6607 - binary_accuracy: 0.6364 - val_loss: 0.6985 - val_binary_accuracy: 0.5227\n",
      "Epoch 112/200\n",
      "28/28 [==============================] - 1s 30ms/step - loss: 0.6600 - binary_accuracy: 0.6318 - val_loss: 0.6984 - val_binary_accuracy: 0.5273\n",
      "Epoch 113/200\n",
      "28/28 [==============================] - 1s 30ms/step - loss: 0.6596 - binary_accuracy: 0.6409 - val_loss: 0.6983 - val_binary_accuracy: 0.5273\n",
      "Epoch 114/200\n",
      "28/28 [==============================] - 1s 30ms/step - loss: 0.6593 - binary_accuracy: 0.6205 - val_loss: 0.6983 - val_binary_accuracy: 0.5273\n",
      "Epoch 115/200\n",
      "28/28 [==============================] - 1s 32ms/step - loss: 0.6588 - binary_accuracy: 0.6409 - val_loss: 0.6983 - val_binary_accuracy: 0.5205\n",
      "Epoch 116/200\n",
      "28/28 [==============================] - 1s 31ms/step - loss: 0.6583 - binary_accuracy: 0.6386 - val_loss: 0.6982 - val_binary_accuracy: 0.5318\n",
      "Epoch 117/200\n",
      "28/28 [==============================] - 1s 32ms/step - loss: 0.6580 - binary_accuracy: 0.6295 - val_loss: 0.6981 - val_binary_accuracy: 0.5250\n",
      "Epoch 118/200\n",
      "28/28 [==============================] - 1s 32ms/step - loss: 0.6574 - binary_accuracy: 0.6364 - val_loss: 0.6982 - val_binary_accuracy: 0.5250\n",
      "Epoch 119/200\n",
      "28/28 [==============================] - 1s 31ms/step - loss: 0.6571 - binary_accuracy: 0.6318 - val_loss: 0.6981 - val_binary_accuracy: 0.5250\n",
      "Epoch 120/200\n",
      "28/28 [==============================] - 1s 31ms/step - loss: 0.6567 - binary_accuracy: 0.6432 - val_loss: 0.6980 - val_binary_accuracy: 0.5273\n",
      "Epoch 121/200\n",
      "28/28 [==============================] - 1s 42ms/step - loss: 0.6559 - binary_accuracy: 0.6295 - val_loss: 0.6981 - val_binary_accuracy: 0.5386\n",
      "Epoch 122/200\n",
      "28/28 [==============================] - 1s 36ms/step - loss: 0.6557 - binary_accuracy: 0.6432 - val_loss: 0.6981 - val_binary_accuracy: 0.5386\n",
      "Epoch 123/200\n",
      "28/28 [==============================] - 1s 32ms/step - loss: 0.6553 - binary_accuracy: 0.6636 - val_loss: 0.6979 - val_binary_accuracy: 0.5227\n",
      "Epoch 124/200\n",
      "28/28 [==============================] - 1s 32ms/step - loss: 0.6548 - binary_accuracy: 0.6318 - val_loss: 0.6978 - val_binary_accuracy: 0.5250\n",
      "Epoch 125/200\n",
      "28/28 [==============================] - 1s 29ms/step - loss: 0.6544 - binary_accuracy: 0.6318 - val_loss: 0.6978 - val_binary_accuracy: 0.5273\n",
      "Epoch 126/200\n",
      "28/28 [==============================] - 1s 33ms/step - loss: 0.6538 - binary_accuracy: 0.6545 - val_loss: 0.6977 - val_binary_accuracy: 0.5273\n",
      "Epoch 127/200\n",
      "28/28 [==============================] - 1s 32ms/step - loss: 0.6535 - binary_accuracy: 0.6432 - val_loss: 0.6976 - val_binary_accuracy: 0.5318\n",
      "Epoch 128/200\n",
      "28/28 [==============================] - 1s 33ms/step - loss: 0.6529 - binary_accuracy: 0.6386 - val_loss: 0.6976 - val_binary_accuracy: 0.5295\n",
      "Epoch 129/200\n",
      "28/28 [==============================] - 1s 30ms/step - loss: 0.6522 - binary_accuracy: 0.6455 - val_loss: 0.6975 - val_binary_accuracy: 0.5318\n",
      "Epoch 130/200\n",
      "28/28 [==============================] - 1s 32ms/step - loss: 0.6519 - binary_accuracy: 0.6455 - val_loss: 0.6975 - val_binary_accuracy: 0.5318\n",
      "Epoch 131/200\n",
      "28/28 [==============================] - 1s 30ms/step - loss: 0.6514 - binary_accuracy: 0.6432 - val_loss: 0.6975 - val_binary_accuracy: 0.5341\n",
      "Epoch 132/200\n",
      "28/28 [==============================] - 1s 32ms/step - loss: 0.6510 - binary_accuracy: 0.6545 - val_loss: 0.6974 - val_binary_accuracy: 0.5295\n",
      "Epoch 133/200\n",
      "28/28 [==============================] - 1s 30ms/step - loss: 0.6506 - binary_accuracy: 0.6455 - val_loss: 0.6974 - val_binary_accuracy: 0.5295\n",
      "Epoch 134/200\n",
      "28/28 [==============================] - 1s 31ms/step - loss: 0.6503 - binary_accuracy: 0.6432 - val_loss: 0.6974 - val_binary_accuracy: 0.5341\n",
      "Epoch 135/200\n",
      "28/28 [==============================] - 1s 32ms/step - loss: 0.6494 - binary_accuracy: 0.6432 - val_loss: 0.6974 - val_binary_accuracy: 0.5318\n",
      "Epoch 136/200\n",
      "28/28 [==============================] - 1s 31ms/step - loss: 0.6495 - binary_accuracy: 0.6523 - val_loss: 0.6974 - val_binary_accuracy: 0.5295\n",
      "Epoch 137/200\n",
      "28/28 [==============================] - 1s 31ms/step - loss: 0.6485 - binary_accuracy: 0.6364 - val_loss: 0.6974 - val_binary_accuracy: 0.5295\n",
      "Epoch 138/200\n",
      "28/28 [==============================] - 1s 29ms/step - loss: 0.6482 - binary_accuracy: 0.6432 - val_loss: 0.6973 - val_binary_accuracy: 0.5364\n",
      "Epoch 139/200\n",
      "28/28 [==============================] - 1s 32ms/step - loss: 0.6478 - binary_accuracy: 0.6477 - val_loss: 0.6974 - val_binary_accuracy: 0.5568\n",
      "Epoch 140/200\n",
      "28/28 [==============================] - 1s 30ms/step - loss: 0.6475 - binary_accuracy: 0.6455 - val_loss: 0.6975 - val_binary_accuracy: 0.5614\n",
      "Epoch 141/200\n",
      "28/28 [==============================] - 1s 31ms/step - loss: 0.6468 - binary_accuracy: 0.6432 - val_loss: 0.6974 - val_binary_accuracy: 0.5477\n",
      "Epoch 142/200\n",
      "28/28 [==============================] - 1s 30ms/step - loss: 0.6464 - binary_accuracy: 0.6477 - val_loss: 0.6973 - val_binary_accuracy: 0.5455\n",
      "Epoch 143/200\n",
      "28/28 [==============================] - 1s 32ms/step - loss: 0.6460 - binary_accuracy: 0.6523 - val_loss: 0.6974 - val_binary_accuracy: 0.5432\n",
      "Epoch 144/200\n",
      "28/28 [==============================] - 1s 31ms/step - loss: 0.6452 - binary_accuracy: 0.6523 - val_loss: 0.6974 - val_binary_accuracy: 0.5432\n",
      "Epoch 145/200\n",
      "28/28 [==============================] - 1s 31ms/step - loss: 0.6450 - binary_accuracy: 0.6364 - val_loss: 0.6974 - val_binary_accuracy: 0.5409\n",
      "Epoch 146/200\n",
      "28/28 [==============================] - 1s 31ms/step - loss: 0.6445 - binary_accuracy: 0.6409 - val_loss: 0.6974 - val_binary_accuracy: 0.5455\n",
      "Epoch 147/200\n",
      "28/28 [==============================] - 1s 31ms/step - loss: 0.6437 - binary_accuracy: 0.6364 - val_loss: 0.6974 - val_binary_accuracy: 0.5432\n",
      "Epoch 148/200\n",
      "28/28 [==============================] - 1s 32ms/step - loss: 0.6437 - binary_accuracy: 0.6477 - val_loss: 0.6976 - val_binary_accuracy: 0.5523\n"
     ]
    }
   ],
   "source": [
    "history = model.fit(X_train, y_train, \n",
    "                    batch_size=batch_size, \n",
    "                    epochs=epochs, \n",
    "                    validation_data=(X_val, y_val), \n",
    "                    verbose=1, \n",
    "                    callbacks=[tensorboard_call, val_loss_callback])"
   ]
  },
  {
   "cell_type": "code",
   "execution_count": 124,
   "metadata": {},
   "outputs": [
    {
     "name": "stdout",
     "output_type": "stream",
     "text": [
      "Model: \"sequential_7\"\n",
      "_________________________________________________________________\n",
      "Layer (type)                 Output Shape              Param #   \n",
      "=================================================================\n",
      "gru_7 (GRU)                  (None, 16)                1824      \n",
      "_________________________________________________________________\n",
      "dense_7 (Dense)              (None, 1)                 17        \n",
      "=================================================================\n",
      "Total params: 1,841\n",
      "Trainable params: 1,841\n",
      "Non-trainable params: 0\n",
      "_________________________________________________________________\n"
     ]
    }
   ],
   "source": [
    "model.summary()"
   ]
  },
  {
   "cell_type": "code",
   "execution_count": 125,
   "metadata": {},
   "outputs": [
    {
     "name": "stdout",
     "output_type": "stream",
     "text": [
      "220/220 [==============================] - 1s 4ms/step - loss: 0.6768 - binary_accuracy: 0.5955\n",
      "test loss, test acc: [0.6767633557319641, 0.5954545736312866]\n"
     ]
    }
   ],
   "source": [
    "#evaluate model on test set\n",
    "results = model.evaluate(X_test, y_test, batch_size=1, verbose=1)\n",
    "print(\"test loss, test acc:\", results)"
   ]
  },
  {
   "cell_type": "code",
   "execution_count": 126,
   "metadata": {},
   "outputs": [
    {
     "data": {
      "image/png": "[encoded data removed]",
      "text/plain": [
       "<Figure size 432x288 with 1 Axes>"
      ]
     },
     "metadata": {
      "needs_background": "light"
     },
     "output_type": "display_data"
    }
   ],
   "source": [
    "#summarize history for accuracy\n",
    "plt.plot(history.history[(list(history.history.keys())[1])])\n",
    "plt.plot(history.history[(list(history.history.keys())[3])])\n",
    "plt.title('model accuracy')\n",
    "plt.ylabel('accuracy')\n",
    "plt.xlabel('epoch')\n",
    "plt.legend(['train', 'val'], loc='upper left')\n",
    "plt.show()"
   ]
  },
  {
   "cell_type": "code",
   "execution_count": 127,
   "metadata": {},
   "outputs": [
    {
     "data": {
      "image/png": "[encoded data removed]",
      "text/plain": [
       "<Figure size 432x288 with 1 Axes>"
      ]
     },
     "metadata": {
      "needs_background": "light"
     },
     "output_type": "display_data"
    }
   ],
   "source": [
    "#summarize history for loss\n",
    "plt.plot(history.history[(list(history.history.keys())[0])])\n",
    "plt.plot(history.history[(list(history.history.keys())[2])])\n",
    "plt.title('model loss')\n",
    "plt.ylabel('loss')\n",
    "plt.xlabel('epoch')\n",
    "plt.legend(['train', 'val'], loc='upper left')\n",
    "plt.show()"
   ]
  },
  {
   "cell_type": "code",
   "execution_count": 128,
   "metadata": {},
   "outputs": [
    {
     "name": "stdout",
     "output_type": "stream",
     "text": [
      "predictions: [[0.39936352]\n",
      " [0.4656846 ]\n",
      " [0.4913335 ]\n",
      " [0.39473352]\n",
      " [0.5455726 ]\n",
      " [0.49555212]\n",
      " [0.6222352 ]\n",
      " [0.5119144 ]\n",
      " [0.7442763 ]\n",
      " [0.38087872]\n",
      " [0.44014314]\n",
      " [0.44752207]\n",
      " [0.4815493 ]\n",
      " [0.45630658]\n",
      " [0.3667209 ]\n",
      " [0.43287686]\n",
      " [0.45022815]\n",
      " [0.47596738]\n",
      " [0.33355916]\n",
      " [0.3506205 ]\n",
      " [0.48042077]\n",
      " [0.3380692 ]\n",
      " [0.4270761 ]\n",
      " [0.4540326 ]\n",
      " [0.40600747]\n",
      " [0.44549057]\n",
      " [0.46420264]\n",
      " [0.46675152]\n",
      " [0.5018329 ]\n",
      " [0.48896542]\n",
      " [0.39572293]\n",
      " [0.6807289 ]\n",
      " [0.6267471 ]\n",
      " [0.58420134]\n",
      " [0.52743375]\n",
      " [0.51344836]\n",
      " [0.57635736]\n",
      " [0.42760372]\n",
      " [0.44309   ]\n",
      " [0.54812825]\n",
      " [0.32978892]\n",
      " [0.65993714]\n",
      " [0.53832537]\n",
      " [0.38144356]\n",
      " [0.46043813]\n",
      " [0.32577574]\n",
      " [0.41969806]\n",
      " [0.22664395]\n",
      " [0.42786348]\n",
      " [0.3853515 ]\n",
      " [0.34193817]\n",
      " [0.58805525]\n",
      " [0.46995178]\n",
      " [0.3575701 ]\n",
      " [0.42663255]\n",
      " [0.5136702 ]\n",
      " [0.5522825 ]\n",
      " [0.49705848]\n",
      " [0.60958076]\n",
      " [0.6637234 ]\n",
      " [0.40045217]\n",
      " [0.35916954]\n",
      " [0.64869505]\n",
      " [0.64158773]\n",
      " [0.6405772 ]\n",
      " [0.3527885 ]\n",
      " [0.35221535]\n",
      " [0.3759547 ]\n",
      " [0.26054817]\n",
      " [0.45046228]\n",
      " [0.5390455 ]\n",
      " [0.39336962]\n",
      " [0.5309244 ]\n",
      " [0.48976108]\n",
      " [0.3681989 ]\n",
      " [0.3778203 ]\n",
      " [0.3133443 ]\n",
      " [0.5759025 ]\n",
      " [0.3444273 ]\n",
      " [0.47115436]\n",
      " [0.46535388]\n",
      " [0.31081408]\n",
      " [0.58151984]\n",
      " [0.4646572 ]\n",
      " [0.33924347]\n",
      " [0.5025292 ]\n",
      " [0.35679758]\n",
      " [0.56174135]\n",
      " [0.5672631 ]\n",
      " [0.5256215 ]\n",
      " [0.4264503 ]\n",
      " [0.57003236]\n",
      " [0.4332778 ]\n",
      " [0.46717787]\n",
      " [0.46525493]\n",
      " [0.59111655]\n",
      " [0.714177  ]\n",
      " [0.4448098 ]\n",
      " [0.4893126 ]\n",
      " [0.41861373]\n",
      " [0.6239075 ]\n",
      " [0.3216457 ]\n",
      " [0.29798102]\n",
      " [0.29870245]\n",
      " [0.7143462 ]\n",
      " [0.2742551 ]\n",
      " [0.5439905 ]\n",
      " [0.7002622 ]\n",
      " [0.39547512]\n",
      " [0.7265432 ]\n",
      " [0.51088405]\n",
      " [0.52550405]\n",
      " [0.589954  ]\n",
      " [0.4665368 ]\n",
      " [0.71732086]\n",
      " [0.42664313]\n",
      " [0.67363966]\n",
      " [0.25176203]\n",
      " [0.6408721 ]\n",
      " [0.35960588]\n",
      " [0.35194284]\n",
      " [0.3621642 ]\n",
      " [0.29395887]\n",
      " [0.4324718 ]\n",
      " [0.4444245 ]\n",
      " [0.43465632]\n",
      " [0.464447  ]\n",
      " [0.6275661 ]\n",
      " [0.51202035]\n",
      " [0.5060736 ]\n",
      " [0.66730314]\n",
      " [0.31363517]\n",
      " [0.4796579 ]\n",
      " [0.49254867]\n",
      " [0.38258246]\n",
      " [0.43043882]\n",
      " [0.6326823 ]\n",
      " [0.45382679]\n",
      " [0.27782792]\n",
      " [0.25118846]\n",
      " [0.50812304]\n",
      " [0.3474888 ]\n",
      " [0.53078556]\n",
      " [0.34640613]\n",
      " [0.3699183 ]\n",
      " [0.5031976 ]\n",
      " [0.46555895]\n",
      " [0.4357434 ]\n",
      " [0.37814948]\n",
      " [0.46815112]\n",
      " [0.5720691 ]\n",
      " [0.48039156]\n",
      " [0.622327  ]\n",
      " [0.31923127]\n",
      " [0.46491507]\n",
      " [0.5835252 ]\n",
      " [0.442355  ]\n",
      " [0.6395985 ]\n",
      " [0.51116997]\n",
      " [0.6167129 ]\n",
      " [0.26505327]\n",
      " [0.3925022 ]\n",
      " [0.5123172 ]\n",
      " [0.29750097]\n",
      " [0.39201948]\n",
      " [0.32648486]\n",
      " [0.5427807 ]\n",
      " [0.7337762 ]\n",
      " [0.46843717]\n",
      " [0.38407823]\n",
      " [0.56074506]\n",
      " [0.47574604]\n",
      " [0.30491537]\n",
      " [0.48942104]\n",
      " [0.49611744]\n",
      " [0.3280663 ]\n",
      " [0.48581383]\n",
      " [0.3210562 ]\n",
      " [0.44913325]\n",
      " [0.4793201 ]\n",
      " [0.5847676 ]\n",
      " [0.3338906 ]\n",
      " [0.37866563]\n",
      " [0.48507625]\n",
      " [0.45874432]\n",
      " [0.3868683 ]\n",
      " [0.5816948 ]\n",
      " [0.5050982 ]\n",
      " [0.2388871 ]\n",
      " [0.69853395]\n",
      " [0.37450254]\n",
      " [0.24596354]\n",
      " [0.3529393 ]\n",
      " [0.6410312 ]\n",
      " [0.4697159 ]\n",
      " [0.5691607 ]\n",
      " [0.5071615 ]\n",
      " [0.60019356]\n",
      " [0.53549564]\n",
      " [0.39833632]\n",
      " [0.4044473 ]\n",
      " [0.32994735]\n",
      " [0.44855538]\n",
      " [0.57725465]\n",
      " [0.50381887]\n",
      " [0.6003663 ]\n",
      " [0.5251888 ]\n",
      " [0.62171453]\n",
      " [0.55501395]\n",
      " [0.45734647]\n",
      " [0.33678216]\n",
      " [0.4465027 ]\n",
      " [0.32987714]\n",
      " [0.63017416]\n",
      " [0.5094994 ]\n",
      " [0.5341799 ]\n",
      " [0.58197975]\n",
      " [0.42267826]\n",
      " [0.53107107]\n",
      " [0.46370125]]\n"
     ]
    }
   ],
   "source": [
    "#generate predictions\n",
    "predictions = model.predict(X_test)\n",
    "print(\"predictions:\", predictions)"
   ]
  },
  {
   "cell_type": "code",
   "execution_count": 129,
   "metadata": {},
   "outputs": [
    {
     "name": "stdout",
     "output_type": "stream",
     "text": [
      "['F' 'F' 'F' 'F' 'N' 'F' 'N' 'N' 'N' 'F' 'F' 'F' 'F' 'F' 'F' 'F' 'F' 'F'\n",
      " 'F' 'F' 'F' 'F' 'F' 'F' 'F' 'F' 'F' 'F' 'N' 'F' 'F' 'N' 'N' 'N' 'N' 'N'\n",
      " 'N' 'F' 'F' 'N' 'F' 'N' 'N' 'F' 'F' 'F' 'F' 'F' 'F' 'F' 'F' 'N' 'F' 'F'\n",
      " 'F' 'N' 'N' 'F' 'N' 'N' 'F' 'F' 'N' 'N' 'N' 'F' 'F' 'F' 'F' 'F' 'N' 'F'\n",
      " 'N' 'F' 'F' 'F' 'F' 'N' 'F' 'F' 'F' 'F' 'N' 'F' 'F' 'N' 'F' 'N' 'N' 'N'\n",
      " 'F' 'N' 'F' 'F' 'F' 'N' 'N' 'F' 'F' 'F' 'N' 'F' 'F' 'F' 'N' 'F' 'N' 'N'\n",
      " 'F' 'N' 'N' 'N' 'N' 'F' 'N' 'F' 'N' 'F' 'N' 'F' 'F' 'F' 'F' 'F' 'F' 'F'\n",
      " 'F' 'N' 'N' 'N' 'N' 'F' 'F' 'F' 'F' 'F' 'N' 'F' 'F' 'F' 'N' 'F' 'N' 'F'\n",
      " 'F' 'N' 'F' 'F' 'F' 'F' 'N' 'F' 'N' 'F' 'F' 'N' 'F' 'N' 'N' 'N' 'F' 'F'\n",
      " 'N' 'F' 'F' 'F' 'N' 'N' 'F' 'F' 'N' 'F' 'F' 'F' 'F' 'F' 'F' 'F' 'F' 'F'\n",
      " 'N' 'F' 'F' 'F' 'F' 'F' 'N' 'N' 'F' 'N' 'F' 'F' 'F' 'N' 'F' 'N' 'N' 'N'\n",
      " 'N' 'F' 'F' 'F' 'F' 'N' 'N' 'N' 'N' 'N' 'N' 'F' 'F' 'F' 'F' 'N' 'N' 'N'\n",
      " 'N' 'F' 'N' 'F']\n"
     ]
    }
   ],
   "source": [
    "#remove encoding\n",
    "real_predictions_B = a_encoder.inverse_transform(predictions)\n",
    "print(real_predictions_B)"
   ]
  },
  {
   "cell_type": "code",
   "execution_count": 130,
   "metadata": {},
   "outputs": [
    {
     "data": {
      "text/plain": [
       "{'F': 138, 'N': 82}"
      ]
     },
     "execution_count": 130,
     "metadata": {},
     "output_type": "execute_result"
    }
   ],
   "source": [
    "#prediction counts\n",
    "unique, counts = np.unique(real_predictions_B, return_counts=True)\n",
    "dict(zip(unique, counts))"
   ]
  },
  {
   "cell_type": "code",
   "execution_count": 131,
   "metadata": {},
   "outputs": [
    {
     "name": "stdout",
     "output_type": "stream",
     "text": [
      "['F' 'F' 'N' 'N' 'F' 'N' 'N' 'N' 'F' 'N' 'F' 'F' 'F' 'N' 'F' 'N' 'F' 'N'\n",
      " 'N' 'F' 'N' 'F' 'F' 'F' 'N' 'N' 'N' 'F' 'F' 'N' 'F' 'N' 'N' 'F' 'N' 'N'\n",
      " 'N' 'F' 'N' 'N' 'F' 'F' 'F' 'N' 'F' 'N' 'N' 'F' 'N' 'F' 'F' 'N' 'N' 'F'\n",
      " 'N' 'N' 'F' 'N' 'N' 'F' 'F' 'N' 'F' 'N' 'F' 'F' 'N' 'F' 'F' 'N' 'F' 'F'\n",
      " 'N' 'N' 'F' 'F' 'N' 'N' 'N' 'F' 'N' 'F' 'N' 'F' 'F' 'N' 'F' 'N' 'N' 'N'\n",
      " 'N' 'N' 'N' 'F' 'F' 'N' 'N' 'F' 'F' 'N' 'F' 'F' 'N' 'N' 'N' 'F' 'F' 'N'\n",
      " 'F' 'N' 'N' 'F' 'N' 'F' 'F' 'F' 'F' 'F' 'F' 'F' 'N' 'F' 'F' 'F' 'F' 'F'\n",
      " 'F' 'N' 'N' 'F' 'N' 'N' 'N' 'N' 'F' 'F' 'N' 'N' 'F' 'F' 'N' 'F' 'N' 'N'\n",
      " 'F' 'F' 'F' 'F' 'F' 'N' 'N' 'N' 'N' 'N' 'N' 'N' 'F' 'F' 'F' 'N' 'F' 'N'\n",
      " 'N' 'N' 'F' 'F' 'N' 'N' 'F' 'F' 'F' 'F' 'N' 'N' 'N' 'F' 'N' 'N' 'F' 'N'\n",
      " 'N' 'N' 'F' 'F' 'F' 'F' 'F' 'N' 'F' 'F' 'N' 'N' 'F' 'F' 'N' 'N' 'N' 'N'\n",
      " 'N' 'F' 'F' 'N' 'F' 'F' 'F' 'N' 'N' 'F' 'N' 'F' 'F' 'F' 'F' 'F' 'F' 'F'\n",
      " 'F' 'N' 'N' 'F']\n"
     ]
    }
   ],
   "source": [
    "#y_test predictions\n",
    "ytest_predictions = a_encoder.inverse_transform(y_test)\n",
    "print(ytest_predictions)"
   ]
  },
  {
   "cell_type": "code",
   "execution_count": 132,
   "metadata": {},
   "outputs": [
    {
     "data": {
      "text/plain": [
       "{'F': 113, 'N': 107}"
      ]
     },
     "execution_count": 132,
     "metadata": {},
     "output_type": "execute_result"
    }
   ],
   "source": [
    "#real count\n",
    "unique, counts = np.unique(ytest_predictions, return_counts=True)\n",
    "dict(zip(unique, counts))"
   ]
  },
  {
   "cell_type": "code",
   "execution_count": 133,
   "metadata": {},
   "outputs": [
    {
     "data": {
      "image/png": "[encoded data removed]",
      "text/plain": [
       "<Figure size 432x288 with 2 Axes>"
      ]
     },
     "metadata": {
      "needs_background": "light"
     },
     "output_type": "display_data"
    }
   ],
   "source": [
    "#confusion matrix\n",
    "matrix = confusion_matrix(ytest_predictions, real_predictions_B)\n",
    "#format confusion matrix\n",
    "ax=plt.subplot()\n",
    "sns.heatmap(matrix, annot=True, ax = ax, cmap='Blues', fmt='g');\n",
    "accuracy = np.trace(matrix) / np.sum(matrix).astype('float')\n",
    "misclass = 1 - accuracy\n",
    "ax.set_xlabel('Predicted label\\naccuracy={:0.4f}; misclass={:0.4f}'.format(accuracy, misclass));\n",
    "ax.set_ylabel('True labels'); \n",
    "ax.set_title('Confusion Matrix');\n",
    "ax.xaxis.set_ticklabels(unique); ax.yaxis.set_ticklabels(unique);"
   ]
  },
  {
   "cell_type": "code",
   "execution_count": 134,
   "metadata": {},
   "outputs": [
    {
     "name": "stdout",
     "output_type": "stream",
     "text": [
      "              precision    recall  f1-score   support\n",
      "\n",
      "           F       0.59      0.72      0.65       113\n",
      "           N       0.61      0.47      0.53       107\n",
      "\n",
      "    accuracy                           0.60       220\n",
      "   macro avg       0.60      0.59      0.59       220\n",
      "weighted avg       0.60      0.60      0.59       220\n",
      "\n"
     ]
    }
   ],
   "source": [
    "print(classification_report(ytest_predictions, real_predictions_B))"
   ]
  },
  {
   "cell_type": "code",
   "execution_count": 135,
   "metadata": {},
   "outputs": [
    {
     "name": "stdout",
     "output_type": "stream",
     "text": [
      "precision score:0.5984\n",
      "recall score:0.5921\n",
      "f1 score:0.5873\n"
     ]
    }
   ],
   "source": [
    "#macro - calculate metrics for each label, and find their unweighted mean\n",
    "pre_score = precision_score(ytest_predictions, real_predictions_B, average = \"macro\")\n",
    "print('precision score:{:0.4f}'.format(pre_score))\n",
    "recall_score_1 = recall_score(ytest_predictions, real_predictions_B, average= \"macro\")\n",
    "print('recall score:{:0.4f}'.format(recall_score_1))\n",
    "f1_score_1 = f1_score(ytest_predictions, real_predictions_B, average=\"macro\")\n",
    "print('f1 score:{:0.4f}'.format(f1_score_1))"
   ]
  },
  {
   "cell_type": "code",
   "execution_count": null,
   "metadata": {},
   "outputs": [],
   "source": []
  }
 ],
 "metadata": {
  "kernelspec": {
   "display_name": "Python 3",
   "language": "python",
   "name": "python3"
  },
  "language_info": {
   "codemirror_mode": {
    "name": "ipython",
    "version": 3
   },
   "file_extension": ".py",
   "mimetype": "text/x-python",
   "name": "python",
   "nbconvert_exporter": "python",
   "pygments_lexer": "ipython3",
   "version": "3.8.3"
  }
 },
 "nbformat": 4,
 "nbformat_minor": 4
}
