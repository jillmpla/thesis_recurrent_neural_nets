{
 "cells": [
  {
   "cell_type": "code",
   "execution_count": 1,
   "metadata": {},
   "outputs": [],
   "source": [
    "#tensorboard via command-line:\n",
    "#tensorboard --logdir=where your Logs directory is"
   ]
  },
  {
   "cell_type": "code",
   "execution_count": 2,
   "metadata": {},
   "outputs": [],
   "source": [
    "#~~~~~~~~~~~~~~~~~~~~~~~~~~~~~~~~~~~~~~~~~~~~~~~~~~~~~~~~~~~~~~~~~~~~~~~~~~~~~~~~~~~~~~~~~~~~~~~~~~~~~~~#\n",
    "#Predict whether or not a flare will occur in the next 24hrs after a 24hr time sequence, per monitored AR.\n",
    "#~~~~~~~~~~~~~~~~~~~~~~~~~~~~~~~~~~~~~~~~~~~~~~~~~~~~~~~~~~~~~~~~~~~~~~~~~~~~~~~~~~~~~~~~~~~~~~~~~~~~~~~#\n",
    "#feature data from - hmi.sharp_720s:::\n",
    "#http://jsoc.stanford.edu/doc/data/hmi/sharp/sharp.htm\n",
    "\n",
    "#label data from - GOES flare events:::\n",
    "#ftp://ftp.swpc.noaa.gov/pub/warehouse/\n",
    "\n",
    "#and from - GOES XRS Report:::\n",
    "#https://www.ngdc.noaa.gov/stp/space-weather/solar-data/solar-features/solar-flares/x-rays/goes/xrs/\n",
    "#~~~~~~~~~~~~~~~~~~~~~~~~~~~~~~~~~~~~~~~~~~~~~~~~~~~~~~~~~~~~~~~~~~~~~~~~~~~~~~~~~~~~~~~~~~~~~~~~~~~~~~~#\n",
    "#binary class - F for flare and N for no flare\n",
    "#multi-class - #6 flare classes: N is no flare, A is smallest, X is largest\n",
    "               #key = {'N', 'A', 'B', 'C', 'M', 'X'}\n",
    "               #['A' class flares generally not listed in official reports due to small size]\n",
    "#~~~~~~~~~~~~~~~~~~~~~~~~~~~~~~~~~~~~~~~~~~~~~~~~~~~~~~~~~~~~~~~~~~~~~~~~~~~~~~~~~~~~~~~~~~~~~~~~~~~~~~~#"
   ]
  },
  {
   "cell_type": "code",
   "execution_count": 3,
   "metadata": {},
   "outputs": [
    {
     "name": "stdout",
     "output_type": "stream",
     "text": [
      "tensorflow version: 2.3.1\n"
     ]
    }
   ],
   "source": [
    "import tensorflow as tf\n",
    "print(\"tensorflow version:\", tf.__version__) #2.3.1 used\n",
    "from tensorflow import keras\n",
    "import os\n",
    "import glob\n",
    "import shutil\n",
    "import datetime\n",
    "import numpy as np\n",
    "import pandas as pd\n",
    "import seaborn as sns\n",
    "from pathlib import Path\n",
    "from astropy.time import Time\n",
    "from matplotlib import pyplot as plt\n",
    "from sklearn.metrics import f1_score, precision_score, recall_score, classification_report, confusion_matrix\n",
    "from sklearn.metrics import plot_confusion_matrix\n",
    "from sklearn.preprocessing import LabelBinarizer\n",
    "from sklearn.model_selection import train_test_split\n",
    "from sklearn.preprocessing import MinMaxScaler\n",
    "from tensorflow.keras.layers import Dropout, Dense, Embedding, Flatten, SimpleRNN, LSTM, GRU, GaussianNoise\n",
    "from tensorflow.keras.models import Model, Sequential\n",
    "from tensorflow.keras.optimizers import SGD, RMSprop, Adam\n",
    "import drms #https://pypi.org/project/drms/\n",
    "#~~~~~~~~~~~~~~~~~~~~~~~~~~~~~~~~~~~~~~~~~~~~~~~~~~~~~~~~~~~~~~~~~~~~~~~~~~~~~~~~~~~~~~~~~~~~~~~~~~~~~~~#\n",
    "import Flare_Data\n",
    "import Feature_Years\n",
    "import Make_TB_Logs\n",
    "#~~~~~~~~~~~~~~~~~~~~~~~~~~~~~~~~~~~~~~~~~~~~~~~~~~~~~~~~~~~~~~~~~~~~~~~~~~~~~~~~~~~~~~~~~~~~~~~~~~~~~~~#"
   ]
  },
  {
   "cell_type": "code",
   "execution_count": 4,
   "metadata": {},
   "outputs": [
    {
     "name": "stdout",
     "output_type": "stream",
     "text": [
      "CSVs compiled.\n"
     ]
    }
   ],
   "source": [
    "Feature_Years.generate_all_feature_years()"
   ]
  },
  {
   "cell_type": "code",
   "execution_count": 5,
   "metadata": {},
   "outputs": [],
   "source": [
    "where_logs = Make_TB_Logs.make_clear_tensorboard_folder()"
   ]
  },
  {
   "cell_type": "code",
   "execution_count": 6,
   "metadata": {},
   "outputs": [
    {
     "name": "stdout",
     "output_type": "stream",
     "text": [
      "The time series starts from:  2011-01-01 00:11:26\n",
      "The time series ends on:  2016-12-31 23:47:24\n",
      "(array(['F', 'N'], dtype='<U1'), array([741, 729], dtype=int64))\n"
     ]
    }
   ],
   "source": [
    "#binary = True for binary classification, binary = False for multi-class classification\n",
    "X_train, X_val, X_test, y_train, y_val, y_test, tim_steps, n_feats, count_of_classes, a_encoder = Flare_Data.getAllData(binary = True)"
   ]
  },
  {
   "cell_type": "code",
   "execution_count": 7,
   "metadata": {},
   "outputs": [
    {
     "name": "stdout",
     "output_type": "stream",
     "text": [
      "(940, 114, 20) (236, 114, 20) (294, 114, 20) (940, 1) (236, 1) (294, 1)\n"
     ]
    }
   ],
   "source": [
    "print(X_train.shape, X_val.shape, X_test.shape, y_train.shape, y_val.shape, y_test.shape)"
   ]
  },
  {
   "cell_type": "code",
   "execution_count": 8,
   "metadata": {},
   "outputs": [],
   "source": [
    "#~~~~~~~~~~~~~~~~~~~~~~~~~~~~~~~~~~~~~~~~~~~~~~~~~~~~~~~~~~~~~~~~~~~~~~~~~~~~~~~~~~~~~~~~~~~~~~~~~~~~~~~#\n",
    "#~~~~~~~~~~~~~~~~~~~~~~~~~~~~~~~~~~~~~~~~~~~~~~~~~~~~~~~~~~~~~~~~~~~~~~~~~~~~~~~~~~~~~~~~~~~~~~~~~~~~~~~#"
   ]
  },
  {
   "cell_type": "code",
   "execution_count": 9,
   "metadata": {},
   "outputs": [],
   "source": [
    "batch_size = 50\n",
    "epochs = 100\n",
    "optimizer = Adam(lr=0.001, beta_1=0.9, beta_2=0.999, epsilon=1e-06, decay=0.0)\n",
    "#optimizer = RMSprop(lr=0.001, rho=0.9, epsilon=1e-06, decay=0.0)"
   ]
  },
  {
   "cell_type": "code",
   "execution_count": 10,
   "metadata": {},
   "outputs": [],
   "source": [
    "#~~~~~~~~~~~~~~~~~~~~~~~~~~~~~~~~~~~~~~~[GRU_1 Model]~~~~~~~~~~~~~~~~~~~~~~~~~~~~~~~~~~~~~~~~~~~~~~~~~~~#\n",
    "#~~~~~~~~~~~~~~~~~~~~~~~~~~~~~~~~~~~~~~~[Binary-Class]~~~~~~~~~~~~~~~~~~~~~~~~~~~~~~~~~~~~~~~~~~~~~~~~~~#\n",
    "#~~~~~~~~~~~~~~~~~~~~~~~~~~~~~~~~~~~~~~~[Single Layer]~~~~~~~~~~~~~~~~~~~~~~~~~~~~~~~~~~~~~~~~~~~~~~~~~~#\n",
    "model = Sequential()\n",
    "model.add(GRU(19,  input_shape=(tim_steps, n_feats), recurrent_dropout=0.05))\n",
    "model.add(GaussianNoise(0.01))\n",
    "model.add(Dense(1, activation='sigmoid'))\n",
    "model.compile(loss='binary_crossentropy', optimizer=optimizer, metrics=['binary_accuracy'])\n",
    "#~~~~~~~~~~~~~~~~~~~~~~~~~~~~~~~~~~~~~~~~~~~~~~~~~~~~~~~~~~~~~~~~~~~~~~~~~~~~~~~~~~~~~~~~~~~~~~~~~~~~~~~#\n",
    "#~~~~~~~~~~~~~~~~~~~~~~~~~~~~~~~~~~~~~~~~~~~~~~~~~~~~~~~~~~~~~~~~~~~~~~~~~~~~~~~~~~~~~~~~~~~~~~~~~~~~~~~#"
   ]
  },
  {
   "cell_type": "code",
   "execution_count": 11,
   "metadata": {},
   "outputs": [],
   "source": [
    "tensorboard_call = keras.callbacks.TensorBoard(log_dir=where_logs, histogram_freq=1)\n",
    "#val_loss_callback = tf.keras.callbacks.EarlyStopping(monitor='val_binary_accuracy', patience=100)"
   ]
  },
  {
   "cell_type": "code",
   "execution_count": 12,
   "metadata": {},
   "outputs": [
    {
     "name": "stdout",
     "output_type": "stream",
     "text": [
      "Epoch 1/100\n",
      " 1/19 [>.............................] - ETA: 0s - loss: 0.6989 - binary_accuracy: 0.5200WARNING:tensorflow:From C:\\ProgramData\\Anaconda3\\lib\\site-packages\\tensorflow\\python\\ops\\summary_ops_v2.py:1277: stop (from tensorflow.python.eager.profiler) is deprecated and will be removed after 2020-07-01.\n",
      "Instructions for updating:\n",
      "use `tf.profiler.experimental.stop` instead.\n",
      " 2/19 [==>...........................] - ETA: 3s - loss: 0.6875 - binary_accuracy: 0.5500WARNING:tensorflow:Callbacks method `on_train_batch_end` is slow compared to the batch time (batch time: 0.0565s vs `on_train_batch_end` time: 0.3502s). Check your callbacks.\n",
      "19/19 [==============================] - 2s 91ms/step - loss: 0.6900 - binary_accuracy: 0.5404 - val_loss: 0.7043 - val_binary_accuracy: 0.4958\n",
      "Epoch 2/100\n",
      "19/19 [==============================] - 1s 49ms/step - loss: 0.6900 - binary_accuracy: 0.5255 - val_loss: 0.7045 - val_binary_accuracy: 0.4534\n",
      "Epoch 3/100\n",
      "19/19 [==============================] - 1s 48ms/step - loss: 0.6861 - binary_accuracy: 0.5298 - val_loss: 0.7050 - val_binary_accuracy: 0.4619\n",
      "Epoch 4/100\n",
      "19/19 [==============================] - 1s 48ms/step - loss: 0.6851 - binary_accuracy: 0.5479 - val_loss: 0.7057 - val_binary_accuracy: 0.4534\n",
      "Epoch 5/100\n",
      "19/19 [==============================] - 1s 48ms/step - loss: 0.6835 - binary_accuracy: 0.5532 - val_loss: 0.7064 - val_binary_accuracy: 0.4619\n",
      "Epoch 6/100\n",
      "19/19 [==============================] - 1s 47ms/step - loss: 0.6819 - binary_accuracy: 0.5638 - val_loss: 0.7076 - val_binary_accuracy: 0.4407\n",
      "Epoch 7/100\n",
      "19/19 [==============================] - 1s 47ms/step - loss: 0.6798 - binary_accuracy: 0.5574 - val_loss: 0.7094 - val_binary_accuracy: 0.4364\n",
      "Epoch 8/100\n",
      "19/19 [==============================] - 1s 47ms/step - loss: 0.6799 - binary_accuracy: 0.5691 - val_loss: 0.7112 - val_binary_accuracy: 0.4449\n",
      "Epoch 9/100\n",
      "19/19 [==============================] - 1s 49ms/step - loss: 0.6805 - binary_accuracy: 0.5606 - val_loss: 0.7117 - val_binary_accuracy: 0.4449\n",
      "Epoch 10/100\n",
      "19/19 [==============================] - 1s 47ms/step - loss: 0.6761 - binary_accuracy: 0.5670 - val_loss: 0.7138 - val_binary_accuracy: 0.4661\n",
      "Epoch 11/100\n",
      "19/19 [==============================] - 1s 47ms/step - loss: 0.6742 - binary_accuracy: 0.5819 - val_loss: 0.7160 - val_binary_accuracy: 0.4788\n",
      "Epoch 12/100\n",
      "19/19 [==============================] - 1s 49ms/step - loss: 0.6719 - binary_accuracy: 0.5649 - val_loss: 0.7203 - val_binary_accuracy: 0.4873\n",
      "Epoch 13/100\n",
      "19/19 [==============================] - 1s 49ms/step - loss: 0.6684 - binary_accuracy: 0.5947 - val_loss: 0.7256 - val_binary_accuracy: 0.4915\n",
      "Epoch 14/100\n",
      "19/19 [==============================] - 1s 47ms/step - loss: 0.6650 - binary_accuracy: 0.5915 - val_loss: 0.7296 - val_binary_accuracy: 0.5212\n",
      "Epoch 15/100\n",
      "19/19 [==============================] - 1s 47ms/step - loss: 0.6594 - binary_accuracy: 0.6085 - val_loss: 0.7425 - val_binary_accuracy: 0.5297\n",
      "Epoch 16/100\n",
      "19/19 [==============================] - 1s 47ms/step - loss: 0.6580 - binary_accuracy: 0.6106 - val_loss: 0.7412 - val_binary_accuracy: 0.5127\n",
      "Epoch 17/100\n",
      "19/19 [==============================] - 1s 47ms/step - loss: 0.6545 - binary_accuracy: 0.6170 - val_loss: 0.7456 - val_binary_accuracy: 0.5169\n",
      "Epoch 18/100\n",
      "19/19 [==============================] - 1s 47ms/step - loss: 0.6501 - binary_accuracy: 0.6170 - val_loss: 0.7395 - val_binary_accuracy: 0.5381\n",
      "Epoch 19/100\n",
      "19/19 [==============================] - 1s 47ms/step - loss: 0.6504 - binary_accuracy: 0.6170 - val_loss: 0.7485 - val_binary_accuracy: 0.4958\n",
      "Epoch 20/100\n",
      "19/19 [==============================] - 1s 47ms/step - loss: 0.6630 - binary_accuracy: 0.6053 - val_loss: 0.7258 - val_binary_accuracy: 0.5169\n",
      "Epoch 21/100\n",
      "19/19 [==============================] - 1s 47ms/step - loss: 0.6518 - binary_accuracy: 0.6340 - val_loss: 0.7264 - val_binary_accuracy: 0.5127\n",
      "Epoch 22/100\n",
      "19/19 [==============================] - 1s 47ms/step - loss: 0.6430 - binary_accuracy: 0.6436 - val_loss: 0.7356 - val_binary_accuracy: 0.5127\n",
      "Epoch 23/100\n",
      "19/19 [==============================] - 1s 48ms/step - loss: 0.6507 - binary_accuracy: 0.6032 - val_loss: 0.7344 - val_binary_accuracy: 0.5466\n",
      "Epoch 24/100\n",
      "19/19 [==============================] - 1s 47ms/step - loss: 0.6404 - binary_accuracy: 0.6309 - val_loss: 0.7315 - val_binary_accuracy: 0.5636\n",
      "Epoch 25/100\n",
      "19/19 [==============================] - 1s 48ms/step - loss: 0.6359 - binary_accuracy: 0.6511 - val_loss: 0.7400 - val_binary_accuracy: 0.5593\n",
      "Epoch 26/100\n",
      "19/19 [==============================] - 1s 47ms/step - loss: 0.6360 - binary_accuracy: 0.6340 - val_loss: 0.7553 - val_binary_accuracy: 0.5339\n",
      "Epoch 27/100\n",
      "19/19 [==============================] - 1s 47ms/step - loss: 0.6399 - binary_accuracy: 0.6191 - val_loss: 0.7345 - val_binary_accuracy: 0.5212\n",
      "Epoch 28/100\n",
      "19/19 [==============================] - 1s 48ms/step - loss: 0.6357 - binary_accuracy: 0.6394 - val_loss: 0.7444 - val_binary_accuracy: 0.5212\n",
      "Epoch 29/100\n",
      "19/19 [==============================] - 1s 47ms/step - loss: 0.6414 - binary_accuracy: 0.6394 - val_loss: 0.7430 - val_binary_accuracy: 0.5169\n",
      "Epoch 30/100\n",
      "19/19 [==============================] - 1s 48ms/step - loss: 0.6481 - binary_accuracy: 0.6202 - val_loss: 0.7406 - val_binary_accuracy: 0.5212\n",
      "Epoch 31/100\n",
      "19/19 [==============================] - 1s 47ms/step - loss: 0.6352 - binary_accuracy: 0.6340 - val_loss: 0.7293 - val_binary_accuracy: 0.5381\n",
      "Epoch 32/100\n",
      "19/19 [==============================] - 1s 48ms/step - loss: 0.6301 - binary_accuracy: 0.6415 - val_loss: 0.7312 - val_binary_accuracy: 0.5720\n",
      "Epoch 33/100\n",
      "19/19 [==============================] - 1s 48ms/step - loss: 0.6254 - binary_accuracy: 0.6457 - val_loss: 0.7361 - val_binary_accuracy: 0.5720\n",
      "Epoch 34/100\n",
      "19/19 [==============================] - 1s 47ms/step - loss: 0.6258 - binary_accuracy: 0.6415 - val_loss: 0.7325 - val_binary_accuracy: 0.5636\n",
      "Epoch 35/100\n",
      "19/19 [==============================] - 1s 48ms/step - loss: 0.6268 - binary_accuracy: 0.6362 - val_loss: 0.7347 - val_binary_accuracy: 0.5381\n",
      "Epoch 36/100\n",
      "19/19 [==============================] - 1s 47ms/step - loss: 0.6227 - binary_accuracy: 0.6574 - val_loss: 0.7319 - val_binary_accuracy: 0.5805\n",
      "Epoch 37/100\n",
      "19/19 [==============================] - 1s 47ms/step - loss: 0.6219 - binary_accuracy: 0.6532 - val_loss: 0.7317 - val_binary_accuracy: 0.5763\n",
      "Epoch 38/100\n",
      "19/19 [==============================] - 1s 47ms/step - loss: 0.6202 - binary_accuracy: 0.6532 - val_loss: 0.7356 - val_binary_accuracy: 0.5720\n",
      "Epoch 39/100\n",
      "19/19 [==============================] - 1s 48ms/step - loss: 0.6205 - binary_accuracy: 0.6596 - val_loss: 0.7241 - val_binary_accuracy: 0.5720\n",
      "Epoch 40/100\n",
      "19/19 [==============================] - 1s 48ms/step - loss: 0.6196 - binary_accuracy: 0.6564 - val_loss: 0.7388 - val_binary_accuracy: 0.5551\n",
      "Epoch 41/100\n",
      "19/19 [==============================] - 1s 47ms/step - loss: 0.6177 - binary_accuracy: 0.6660 - val_loss: 0.7278 - val_binary_accuracy: 0.5805\n",
      "Epoch 42/100\n",
      "19/19 [==============================] - 1s 48ms/step - loss: 0.6216 - binary_accuracy: 0.6564 - val_loss: 0.7315 - val_binary_accuracy: 0.5805\n",
      "Epoch 43/100\n",
      "19/19 [==============================] - 1s 47ms/step - loss: 0.6160 - binary_accuracy: 0.6596 - val_loss: 0.7350 - val_binary_accuracy: 0.5551\n",
      "Epoch 44/100\n",
      "19/19 [==============================] - 1s 47ms/step - loss: 0.6190 - binary_accuracy: 0.6638 - val_loss: 0.7246 - val_binary_accuracy: 0.5720\n",
      "Epoch 45/100\n",
      "19/19 [==============================] - 1s 47ms/step - loss: 0.6113 - binary_accuracy: 0.6702 - val_loss: 0.7271 - val_binary_accuracy: 0.5763\n",
      "Epoch 46/100\n",
      "19/19 [==============================] - 1s 47ms/step - loss: 0.6120 - binary_accuracy: 0.6681 - val_loss: 0.7341 - val_binary_accuracy: 0.5805\n",
      "Epoch 47/100\n",
      "19/19 [==============================] - 1s 47ms/step - loss: 0.6181 - binary_accuracy: 0.6596 - val_loss: 0.7477 - val_binary_accuracy: 0.5466\n",
      "Epoch 48/100\n",
      "19/19 [==============================] - 1s 48ms/step - loss: 0.6185 - binary_accuracy: 0.6670 - val_loss: 0.7156 - val_binary_accuracy: 0.5720\n",
      "Epoch 49/100\n"
     ]
    },
    {
     "name": "stdout",
     "output_type": "stream",
     "text": [
      "19/19 [==============================] - 1s 47ms/step - loss: 0.6098 - binary_accuracy: 0.6638 - val_loss: 0.7302 - val_binary_accuracy: 0.5805\n",
      "Epoch 50/100\n",
      "19/19 [==============================] - 1s 47ms/step - loss: 0.6085 - binary_accuracy: 0.6596 - val_loss: 0.7425 - val_binary_accuracy: 0.5636\n",
      "Epoch 51/100\n",
      "19/19 [==============================] - 1s 47ms/step - loss: 0.6013 - binary_accuracy: 0.6787 - val_loss: 0.7316 - val_binary_accuracy: 0.5551\n",
      "Epoch 52/100\n",
      "19/19 [==============================] - 1s 48ms/step - loss: 0.6069 - binary_accuracy: 0.6745 - val_loss: 0.7329 - val_binary_accuracy: 0.5678\n",
      "Epoch 53/100\n",
      "19/19 [==============================] - 1s 47ms/step - loss: 0.6113 - binary_accuracy: 0.6766 - val_loss: 0.7271 - val_binary_accuracy: 0.5890\n",
      "Epoch 54/100\n",
      "19/19 [==============================] - 1s 49ms/step - loss: 0.6101 - binary_accuracy: 0.6649 - val_loss: 0.7335 - val_binary_accuracy: 0.5593\n",
      "Epoch 55/100\n",
      "19/19 [==============================] - 1s 49ms/step - loss: 0.6176 - binary_accuracy: 0.6489 - val_loss: 0.7219 - val_binary_accuracy: 0.5720\n",
      "Epoch 56/100\n",
      "19/19 [==============================] - 1s 47ms/step - loss: 0.6145 - binary_accuracy: 0.6596 - val_loss: 0.7235 - val_binary_accuracy: 0.5678\n",
      "Epoch 57/100\n",
      "19/19 [==============================] - 1s 47ms/step - loss: 0.6099 - binary_accuracy: 0.6777 - val_loss: 0.7241 - val_binary_accuracy: 0.5720\n",
      "Epoch 58/100\n",
      "19/19 [==============================] - 1s 47ms/step - loss: 0.6002 - binary_accuracy: 0.6745 - val_loss: 0.7315 - val_binary_accuracy: 0.5678\n",
      "Epoch 59/100\n",
      "19/19 [==============================] - 1s 47ms/step - loss: 0.5981 - binary_accuracy: 0.6723 - val_loss: 0.7341 - val_binary_accuracy: 0.5805\n",
      "Epoch 60/100\n",
      "19/19 [==============================] - 1s 49ms/step - loss: 0.6012 - binary_accuracy: 0.6681 - val_loss: 0.7337 - val_binary_accuracy: 0.5847\n",
      "Epoch 61/100\n",
      "19/19 [==============================] - 1s 52ms/step - loss: 0.5985 - binary_accuracy: 0.6766 - val_loss: 0.7397 - val_binary_accuracy: 0.5847\n",
      "Epoch 62/100\n",
      "19/19 [==============================] - 1s 51ms/step - loss: 0.6021 - binary_accuracy: 0.6745 - val_loss: 0.7308 - val_binary_accuracy: 0.5636\n",
      "Epoch 63/100\n",
      "19/19 [==============================] - 1s 49ms/step - loss: 0.6016 - binary_accuracy: 0.6840 - val_loss: 0.7180 - val_binary_accuracy: 0.5720\n",
      "Epoch 64/100\n",
      "19/19 [==============================] - 1s 47ms/step - loss: 0.5947 - binary_accuracy: 0.6809 - val_loss: 0.7299 - val_binary_accuracy: 0.5805\n",
      "Epoch 65/100\n",
      "19/19 [==============================] - 1s 46ms/step - loss: 0.5905 - binary_accuracy: 0.6851 - val_loss: 0.7282 - val_binary_accuracy: 0.5763\n",
      "Epoch 66/100\n",
      "19/19 [==============================] - 1s 45ms/step - loss: 0.5944 - binary_accuracy: 0.6723 - val_loss: 0.7304 - val_binary_accuracy: 0.5720\n",
      "Epoch 67/100\n",
      "19/19 [==============================] - 1s 46ms/step - loss: 0.5916 - binary_accuracy: 0.6819 - val_loss: 0.7376 - val_binary_accuracy: 0.5720\n",
      "Epoch 68/100\n",
      "19/19 [==============================] - 1s 46ms/step - loss: 0.5960 - binary_accuracy: 0.6681 - val_loss: 0.7293 - val_binary_accuracy: 0.5678\n",
      "Epoch 69/100\n",
      "19/19 [==============================] - 1s 46ms/step - loss: 0.5847 - binary_accuracy: 0.6894 - val_loss: 0.7443 - val_binary_accuracy: 0.5593\n",
      "Epoch 70/100\n",
      "19/19 [==============================] - 1s 46ms/step - loss: 0.6045 - binary_accuracy: 0.6766 - val_loss: 0.7173 - val_binary_accuracy: 0.5678\n",
      "Epoch 71/100\n",
      "19/19 [==============================] - 1s 46ms/step - loss: 0.6017 - binary_accuracy: 0.6681 - val_loss: 0.7154 - val_binary_accuracy: 0.5678\n",
      "Epoch 72/100\n",
      "19/19 [==============================] - 1s 46ms/step - loss: 0.6008 - binary_accuracy: 0.6798 - val_loss: 0.7279 - val_binary_accuracy: 0.5890\n",
      "Epoch 73/100\n",
      "19/19 [==============================] - 1s 45ms/step - loss: 0.5957 - binary_accuracy: 0.6745 - val_loss: 0.7295 - val_binary_accuracy: 0.5763\n",
      "Epoch 74/100\n",
      "19/19 [==============================] - 1s 45ms/step - loss: 0.5870 - binary_accuracy: 0.6809 - val_loss: 0.7241 - val_binary_accuracy: 0.5551\n",
      "Epoch 75/100\n",
      "19/19 [==============================] - 1s 46ms/step - loss: 0.5848 - binary_accuracy: 0.6894 - val_loss: 0.7261 - val_binary_accuracy: 0.5636\n",
      "Epoch 76/100\n",
      "19/19 [==============================] - 1s 45ms/step - loss: 0.5851 - binary_accuracy: 0.6926 - val_loss: 0.7244 - val_binary_accuracy: 0.5847\n",
      "Epoch 77/100\n",
      "19/19 [==============================] - 1s 46ms/step - loss: 0.5783 - binary_accuracy: 0.6904 - val_loss: 0.7240 - val_binary_accuracy: 0.5805\n",
      "Epoch 78/100\n",
      "19/19 [==============================] - 1s 45ms/step - loss: 0.5798 - binary_accuracy: 0.6883 - val_loss: 0.7280 - val_binary_accuracy: 0.5763\n",
      "Epoch 79/100\n",
      "19/19 [==============================] - 1s 45ms/step - loss: 0.5848 - binary_accuracy: 0.6798 - val_loss: 0.7643 - val_binary_accuracy: 0.5805\n",
      "Epoch 80/100\n",
      "19/19 [==============================] - 1s 46ms/step - loss: 0.5816 - binary_accuracy: 0.6979 - val_loss: 0.7308 - val_binary_accuracy: 0.6017\n",
      "Epoch 81/100\n",
      "19/19 [==============================] - 1s 45ms/step - loss: 0.5782 - binary_accuracy: 0.6830 - val_loss: 0.7570 - val_binary_accuracy: 0.5763\n",
      "Epoch 82/100\n",
      "19/19 [==============================] - 1s 46ms/step - loss: 0.5920 - binary_accuracy: 0.6713 - val_loss: 0.7093 - val_binary_accuracy: 0.5763\n",
      "Epoch 83/100\n",
      "19/19 [==============================] - 1s 46ms/step - loss: 0.5766 - binary_accuracy: 0.6989 - val_loss: 0.7327 - val_binary_accuracy: 0.5890\n",
      "Epoch 84/100\n",
      "19/19 [==============================] - 1s 46ms/step - loss: 0.5724 - binary_accuracy: 0.7053 - val_loss: 0.7241 - val_binary_accuracy: 0.5890\n",
      "Epoch 85/100\n",
      "19/19 [==============================] - 1s 47ms/step - loss: 0.5779 - binary_accuracy: 0.6915 - val_loss: 0.7381 - val_binary_accuracy: 0.5763\n",
      "Epoch 86/100\n",
      "19/19 [==============================] - 1s 46ms/step - loss: 0.5680 - binary_accuracy: 0.6979 - val_loss: 0.7449 - val_binary_accuracy: 0.5890\n",
      "Epoch 87/100\n",
      "19/19 [==============================] - 1s 46ms/step - loss: 0.5873 - binary_accuracy: 0.6606 - val_loss: 0.7066 - val_binary_accuracy: 0.5636\n",
      "Epoch 88/100\n",
      "19/19 [==============================] - 1s 47ms/step - loss: 0.5669 - binary_accuracy: 0.7011 - val_loss: 0.7491 - val_binary_accuracy: 0.5763\n",
      "Epoch 89/100\n",
      "19/19 [==============================] - 1s 51ms/step - loss: 0.5639 - binary_accuracy: 0.7149 - val_loss: 0.7239 - val_binary_accuracy: 0.5636\n",
      "Epoch 90/100\n",
      "19/19 [==============================] - 1s 47ms/step - loss: 0.5610 - binary_accuracy: 0.7160 - val_loss: 0.7643 - val_binary_accuracy: 0.5805\n",
      "Epoch 91/100\n",
      "19/19 [==============================] - 1s 49ms/step - loss: 0.5754 - binary_accuracy: 0.7011 - val_loss: 0.7169 - val_binary_accuracy: 0.5890\n",
      "Epoch 92/100\n",
      "19/19 [==============================] - 1s 49ms/step - loss: 0.5578 - binary_accuracy: 0.7138 - val_loss: 0.7780 - val_binary_accuracy: 0.5847\n",
      "Epoch 93/100\n",
      "19/19 [==============================] - 1s 48ms/step - loss: 0.5656 - binary_accuracy: 0.7064 - val_loss: 0.7226 - val_binary_accuracy: 0.5847\n",
      "Epoch 94/100\n",
      "19/19 [==============================] - 1s 49ms/step - loss: 0.5584 - binary_accuracy: 0.7106 - val_loss: 0.7370 - val_binary_accuracy: 0.5763\n",
      "Epoch 95/100\n",
      "19/19 [==============================] - 1s 50ms/step - loss: 0.5696 - binary_accuracy: 0.6979 - val_loss: 0.7117 - val_binary_accuracy: 0.5678\n",
      "Epoch 96/100\n",
      "19/19 [==============================] - 1s 47ms/step - loss: 0.5573 - binary_accuracy: 0.7191 - val_loss: 0.7310 - val_binary_accuracy: 0.5890\n",
      "Epoch 97/100\n",
      "19/19 [==============================] - 1s 46ms/step - loss: 0.5644 - binary_accuracy: 0.7043 - val_loss: 0.7165 - val_binary_accuracy: 0.5890\n",
      "Epoch 98/100\n",
      "19/19 [==============================] - 1s 46ms/step - loss: 0.5653 - binary_accuracy: 0.6798 - val_loss: 0.7201 - val_binary_accuracy: 0.5847\n",
      "Epoch 99/100\n",
      "19/19 [==============================] - 1s 46ms/step - loss: 0.5595 - binary_accuracy: 0.7128 - val_loss: 0.7337 - val_binary_accuracy: 0.5720\n",
      "Epoch 100/100\n",
      "19/19 [==============================] - 1s 45ms/step - loss: 0.5539 - binary_accuracy: 0.7096 - val_loss: 0.7336 - val_binary_accuracy: 0.5720\n"
     ]
    }
   ],
   "source": [
    "history = model.fit(X_train, y_train, \n",
    "                    batch_size=batch_size, \n",
    "                    epochs=epochs, \n",
    "                    validation_data=(X_val, y_val), \n",
    "                    verbose=1, \n",
    "                    callbacks=[tensorboard_call]) #, val_loss_callback])"
   ]
  },
  {
   "cell_type": "code",
   "execution_count": 13,
   "metadata": {},
   "outputs": [
    {
     "name": "stdout",
     "output_type": "stream",
     "text": [
      "Model: \"sequential\"\n",
      "_________________________________________________________________\n",
      "Layer (type)                 Output Shape              Param #   \n",
      "=================================================================\n",
      "gru (GRU)                    (None, 19)                2337      \n",
      "_________________________________________________________________\n",
      "gaussian_noise (GaussianNois (None, 19)                0         \n",
      "_________________________________________________________________\n",
      "dense (Dense)                (None, 1)                 20        \n",
      "=================================================================\n",
      "Total params: 2,357\n",
      "Trainable params: 2,357\n",
      "Non-trainable params: 0\n",
      "_________________________________________________________________\n"
     ]
    }
   ],
   "source": [
    "model.summary()"
   ]
  },
  {
   "cell_type": "code",
   "execution_count": 14,
   "metadata": {},
   "outputs": [
    {
     "name": "stdout",
     "output_type": "stream",
     "text": [
      "294/294 [==============================] - 2s 7ms/step - loss: 0.6305 - binary_accuracy: 0.6463\n",
      "test loss, test acc: [0.6305021643638611, 0.646258533000946]\n"
     ]
    }
   ],
   "source": [
    "#evaluate model on test set\n",
    "results = model.evaluate(X_test, y_test, batch_size=1, verbose=1)\n",
    "print(\"test loss, test acc:\", results)"
   ]
  },
  {
   "cell_type": "code",
   "execution_count": 15,
   "metadata": {},
   "outputs": [
    {
     "data": {
      "image/png": "[encoded data removed]",
      "text/plain": [
       "<Figure size 432x288 with 1 Axes>"
      ]
     },
     "metadata": {
      "needs_background": "light"
     },
     "output_type": "display_data"
    }
   ],
   "source": [
    "#summarize history for accuracy\n",
    "plt.plot(history.history[(list(history.history.keys())[1])])\n",
    "plt.plot(history.history[(list(history.history.keys())[3])])\n",
    "plt.title('model accuracy')\n",
    "plt.ylabel('accuracy')\n",
    "plt.xlabel('epoch')\n",
    "plt.legend(['train', 'val'], loc='upper left')\n",
    "plt.show()"
   ]
  },
  {
   "cell_type": "code",
   "execution_count": 16,
   "metadata": {},
   "outputs": [
    {
     "data": {
      "image/png": "[encoded data removed]",
      "text/plain": [
       "<Figure size 432x288 with 1 Axes>"
      ]
     },
     "metadata": {
      "needs_background": "light"
     },
     "output_type": "display_data"
    }
   ],
   "source": [
    "#summarize history for loss\n",
    "plt.plot(history.history[(list(history.history.keys())[0])])\n",
    "plt.plot(history.history[(list(history.history.keys())[2])])\n",
    "plt.title('model loss')\n",
    "plt.ylabel('loss')\n",
    "plt.xlabel('epoch')\n",
    "plt.legend(['train', 'val'], loc='upper left')\n",
    "plt.show()"
   ]
  },
  {
   "cell_type": "code",
   "execution_count": 17,
   "metadata": {},
   "outputs": [
    {
     "name": "stdout",
     "output_type": "stream",
     "text": [
      "predictions: [[0.6924007 ]\n",
      " [0.20380282]\n",
      " [0.39865595]\n",
      " [0.4819612 ]\n",
      " [0.10706583]\n",
      " [0.69424516]\n",
      " [0.46811524]\n",
      " [0.48899123]\n",
      " [0.674518  ]\n",
      " [0.18367285]\n",
      " [0.5556333 ]\n",
      " [0.869472  ]\n",
      " [0.63567984]\n",
      " [0.11480856]\n",
      " [0.18059161]\n",
      " [0.36385995]\n",
      " [0.26188377]\n",
      " [0.27766684]\n",
      " [0.22125533]\n",
      " [0.37606108]\n",
      " [0.80352634]\n",
      " [0.9335673 ]\n",
      " [0.90065795]\n",
      " [0.26500297]\n",
      " [0.8342312 ]\n",
      " [0.34772128]\n",
      " [0.6646462 ]\n",
      " [0.1816169 ]\n",
      " [0.5685893 ]\n",
      " [0.20213601]\n",
      " [0.8106955 ]\n",
      " [0.84966314]\n",
      " [0.52955174]\n",
      " [0.453678  ]\n",
      " [0.80331624]\n",
      " [0.72761947]\n",
      " [0.5313929 ]\n",
      " [0.72459006]\n",
      " [0.6788445 ]\n",
      " [0.6528655 ]\n",
      " [0.28097764]\n",
      " [0.50016224]\n",
      " [0.39054185]\n",
      " [0.3036927 ]\n",
      " [0.5860172 ]\n",
      " [0.40406483]\n",
      " [0.20343322]\n",
      " [0.83827496]\n",
      " [0.85092664]\n",
      " [0.78581524]\n",
      " [0.71416533]\n",
      " [0.7457716 ]\n",
      " [0.43992355]\n",
      " [0.14948079]\n",
      " [0.7901084 ]\n",
      " [0.41040078]\n",
      " [0.8419458 ]\n",
      " [0.32004932]\n",
      " [0.59486836]\n",
      " [0.62584126]\n",
      " [0.2944268 ]\n",
      " [0.12905073]\n",
      " [0.23132995]\n",
      " [0.8702378 ]\n",
      " [0.7012191 ]\n",
      " [0.26934493]\n",
      " [0.1727257 ]\n",
      " [0.4645538 ]\n",
      " [0.48369104]\n",
      " [0.18937448]\n",
      " [0.23825136]\n",
      " [0.41823253]\n",
      " [0.6488583 ]\n",
      " [0.3311878 ]\n",
      " [0.8266773 ]\n",
      " [0.7960347 ]\n",
      " [0.19923964]\n",
      " [0.63850325]\n",
      " [0.677856  ]\n",
      " [0.8354937 ]\n",
      " [0.41959405]\n",
      " [0.6373793 ]\n",
      " [0.88035655]\n",
      " [0.24848968]\n",
      " [0.52406496]\n",
      " [0.8111657 ]\n",
      " [0.9202796 ]\n",
      " [0.3175728 ]\n",
      " [0.25749668]\n",
      " [0.93134713]\n",
      " [0.1179572 ]\n",
      " [0.82706267]\n",
      " [0.4946653 ]\n",
      " [0.3375716 ]\n",
      " [0.5081028 ]\n",
      " [0.64135766]\n",
      " [0.4381822 ]\n",
      " [0.35052615]\n",
      " [0.8076885 ]\n",
      " [0.72332114]\n",
      " [0.5542449 ]\n",
      " [0.32120022]\n",
      " [0.36746943]\n",
      " [0.37480503]\n",
      " [0.9145719 ]\n",
      " [0.37284005]\n",
      " [0.5076523 ]\n",
      " [0.43809396]\n",
      " [0.5208721 ]\n",
      " [0.5929068 ]\n",
      " [0.48620144]\n",
      " [0.59765005]\n",
      " [0.3258202 ]\n",
      " [0.72335494]\n",
      " [0.5475657 ]\n",
      " [0.88067603]\n",
      " [0.30140847]\n",
      " [0.49021775]\n",
      " [0.6868111 ]\n",
      " [0.36401755]\n",
      " [0.25540617]\n",
      " [0.17686385]\n",
      " [0.148355  ]\n",
      " [0.3278364 ]\n",
      " [0.2162978 ]\n",
      " [0.32624602]\n",
      " [0.92826355]\n",
      " [0.6107748 ]\n",
      " [0.832164  ]\n",
      " [0.38112366]\n",
      " [0.37800205]\n",
      " [0.24566963]\n",
      " [0.84929353]\n",
      " [0.8078141 ]\n",
      " [0.26071304]\n",
      " [0.2087416 ]\n",
      " [0.58873516]\n",
      " [0.27337837]\n",
      " [0.11816069]\n",
      " [0.38592926]\n",
      " [0.21592477]\n",
      " [0.4647438 ]\n",
      " [0.80750644]\n",
      " [0.4828524 ]\n",
      " [0.65754056]\n",
      " [0.36885655]\n",
      " [0.38558406]\n",
      " [0.61914253]\n",
      " [0.94456214]\n",
      " [0.13417754]\n",
      " [0.21057463]\n",
      " [0.44213793]\n",
      " [0.11105192]\n",
      " [0.24375314]\n",
      " [0.7441322 ]\n",
      " [0.53459257]\n",
      " [0.21225026]\n",
      " [0.20163012]\n",
      " [0.7156833 ]\n",
      " [0.39956692]\n",
      " [0.8019718 ]\n",
      " [0.28841275]\n",
      " [0.31875637]\n",
      " [0.12192956]\n",
      " [0.4489163 ]\n",
      " [0.78381366]\n",
      " [0.911701  ]\n",
      " [0.20841742]\n",
      " [0.2146931 ]\n",
      " [0.5587175 ]\n",
      " [0.5041275 ]\n",
      " [0.5746777 ]\n",
      " [0.22908247]\n",
      " [0.7085227 ]\n",
      " [0.9112458 ]\n",
      " [0.6797198 ]\n",
      " [0.5415859 ]\n",
      " [0.66321146]\n",
      " [0.27572304]\n",
      " [0.8726915 ]\n",
      " [0.21280462]\n",
      " [0.2842412 ]\n",
      " [0.24561849]\n",
      " [0.5016172 ]\n",
      " [0.52694774]\n",
      " [0.51029104]\n",
      " [0.21108484]\n",
      " [0.3097937 ]\n",
      " [0.13560534]\n",
      " [0.20122299]\n",
      " [0.33096647]\n",
      " [0.7524885 ]\n",
      " [0.40622   ]\n",
      " [0.75693494]\n",
      " [0.183211  ]\n",
      " [0.30357128]\n",
      " [0.7204821 ]\n",
      " [0.5018701 ]\n",
      " [0.45966563]\n",
      " [0.33007675]\n",
      " [0.6465999 ]\n",
      " [0.79894924]\n",
      " [0.12876043]\n",
      " [0.69240123]\n",
      " [0.7498222 ]\n",
      " [0.763018  ]\n",
      " [0.29811713]\n",
      " [0.86098796]\n",
      " [0.8205836 ]\n",
      " [0.2571051 ]\n",
      " [0.1823354 ]\n",
      " [0.8353274 ]\n",
      " [0.22682083]\n",
      " [0.4128648 ]\n",
      " [0.6793222 ]\n",
      " [0.8603766 ]\n",
      " [0.4333781 ]\n",
      " [0.4150745 ]\n",
      " [0.7002677 ]\n",
      " [0.7878487 ]\n",
      " [0.6500981 ]\n",
      " [0.87015367]\n",
      " [0.7955088 ]\n",
      " [0.5563279 ]\n",
      " [0.21349499]\n",
      " [0.6252868 ]\n",
      " [0.61659425]\n",
      " [0.42998025]\n",
      " [0.20257005]\n",
      " [0.74126685]\n",
      " [0.33963042]\n",
      " [0.8968018 ]\n",
      " [0.85798633]\n",
      " [0.3524592 ]\n",
      " [0.8514018 ]\n",
      " [0.1813299 ]\n",
      " [0.4062744 ]\n",
      " [0.19758528]\n",
      " [0.74622846]\n",
      " [0.7406634 ]\n",
      " [0.22381815]\n",
      " [0.92531157]\n",
      " [0.27866906]\n",
      " [0.850091  ]\n",
      " [0.60988826]\n",
      " [0.58146095]\n",
      " [0.6307187 ]\n",
      " [0.6439441 ]\n",
      " [0.28541428]\n",
      " [0.8564808 ]\n",
      " [0.7428589 ]\n",
      " [0.32566488]\n",
      " [0.379011  ]\n",
      " [0.7209643 ]\n",
      " [0.40174508]\n",
      " [0.5623863 ]\n",
      " [0.37454242]\n",
      " [0.30858004]\n",
      " [0.1253972 ]\n",
      " [0.17939362]\n",
      " [0.41120785]\n",
      " [0.6846424 ]\n",
      " [0.7764901 ]\n",
      " [0.2702006 ]\n",
      " [0.40960208]\n",
      " [0.24770617]\n",
      " [0.6260679 ]\n",
      " [0.6749381 ]\n",
      " [0.75719464]\n",
      " [0.53281134]\n",
      " [0.9255372 ]\n",
      " [0.58985996]\n",
      " [0.32478967]\n",
      " [0.3235376 ]\n",
      " [0.6949372 ]\n",
      " [0.8794404 ]\n",
      " [0.3969971 ]\n",
      " [0.93340963]\n",
      " [0.5517045 ]\n",
      " [0.49175823]\n",
      " [0.41820318]\n",
      " [0.8151902 ]\n",
      " [0.58205706]\n",
      " [0.6407439 ]\n",
      " [0.29106963]\n",
      " [0.35701042]\n",
      " [0.3017181 ]\n",
      " [0.19408453]\n",
      " [0.8486147 ]\n",
      " [0.77971315]\n",
      " [0.44558835]\n",
      " [0.4961683 ]\n",
      " [0.33294243]\n",
      " [0.29478294]]\n"
     ]
    }
   ],
   "source": [
    "#generate predictions\n",
    "predictions = model.predict(X_test)\n",
    "print(\"predictions:\", predictions)"
   ]
  },
  {
   "cell_type": "code",
   "execution_count": 18,
   "metadata": {},
   "outputs": [
    {
     "name": "stdout",
     "output_type": "stream",
     "text": [
      "['N' 'F' 'F' 'F' 'F' 'N' 'F' 'F' 'N' 'F' 'N' 'N' 'N' 'F' 'F' 'F' 'F' 'F'\n",
      " 'F' 'F' 'N' 'N' 'N' 'F' 'N' 'F' 'N' 'F' 'N' 'F' 'N' 'N' 'N' 'F' 'N' 'N'\n",
      " 'N' 'N' 'N' 'N' 'F' 'N' 'F' 'F' 'N' 'F' 'F' 'N' 'N' 'N' 'N' 'N' 'F' 'F'\n",
      " 'N' 'F' 'N' 'F' 'N' 'N' 'F' 'F' 'F' 'N' 'N' 'F' 'F' 'F' 'F' 'F' 'F' 'F'\n",
      " 'N' 'F' 'N' 'N' 'F' 'N' 'N' 'N' 'F' 'N' 'N' 'F' 'N' 'N' 'N' 'F' 'F' 'N'\n",
      " 'F' 'N' 'F' 'F' 'N' 'N' 'F' 'F' 'N' 'N' 'N' 'F' 'F' 'F' 'N' 'F' 'N' 'F'\n",
      " 'N' 'N' 'F' 'N' 'F' 'N' 'N' 'N' 'F' 'F' 'N' 'F' 'F' 'F' 'F' 'F' 'F' 'F'\n",
      " 'N' 'N' 'N' 'F' 'F' 'F' 'N' 'N' 'F' 'F' 'N' 'F' 'F' 'F' 'F' 'F' 'N' 'F'\n",
      " 'N' 'F' 'F' 'N' 'N' 'F' 'F' 'F' 'F' 'F' 'N' 'N' 'F' 'F' 'N' 'F' 'N' 'F'\n",
      " 'F' 'F' 'F' 'N' 'N' 'F' 'F' 'N' 'N' 'N' 'F' 'N' 'N' 'N' 'N' 'N' 'F' 'N'\n",
      " 'F' 'F' 'F' 'N' 'N' 'N' 'F' 'F' 'F' 'F' 'F' 'N' 'F' 'N' 'F' 'F' 'N' 'N'\n",
      " 'F' 'F' 'N' 'N' 'F' 'N' 'N' 'N' 'F' 'N' 'N' 'F' 'F' 'N' 'F' 'F' 'N' 'N'\n",
      " 'F' 'F' 'N' 'N' 'N' 'N' 'N' 'N' 'F' 'N' 'N' 'F' 'F' 'N' 'F' 'N' 'N' 'F'\n",
      " 'N' 'F' 'F' 'F' 'N' 'N' 'F' 'N' 'F' 'N' 'N' 'N' 'N' 'N' 'F' 'N' 'N' 'F'\n",
      " 'F' 'N' 'F' 'N' 'F' 'F' 'F' 'F' 'F' 'N' 'N' 'F' 'F' 'F' 'N' 'N' 'N' 'N'\n",
      " 'N' 'N' 'F' 'F' 'N' 'N' 'F' 'N' 'N' 'F' 'F' 'N' 'N' 'N' 'F' 'F' 'F' 'F'\n",
      " 'N' 'N' 'F' 'F' 'F' 'F']\n"
     ]
    }
   ],
   "source": [
    "#remove encoding\n",
    "real_predictions_B = a_encoder.inverse_transform(predictions)\n",
    "print(real_predictions_B)"
   ]
  },
  {
   "cell_type": "code",
   "execution_count": 19,
   "metadata": {},
   "outputs": [
    {
     "data": {
      "text/plain": [
       "{'F': 150, 'N': 144}"
      ]
     },
     "execution_count": 19,
     "metadata": {},
     "output_type": "execute_result"
    }
   ],
   "source": [
    "#prediction counts\n",
    "unique, counts = np.unique(real_predictions_B, return_counts=True)\n",
    "dict(zip(unique, counts))"
   ]
  },
  {
   "cell_type": "code",
   "execution_count": 20,
   "metadata": {},
   "outputs": [
    {
     "name": "stdout",
     "output_type": "stream",
     "text": [
      "['N' 'F' 'F' 'F' 'F' 'F' 'F' 'F' 'F' 'F' 'F' 'F' 'F' 'F' 'F' 'N' 'F' 'F'\n",
      " 'F' 'N' 'N' 'N' 'F' 'F' 'N' 'F' 'N' 'F' 'N' 'F' 'N' 'N' 'F' 'N' 'N' 'N'\n",
      " 'F' 'F' 'F' 'N' 'F' 'N' 'F' 'F' 'F' 'N' 'F' 'N' 'N' 'N' 'F' 'F' 'N' 'N'\n",
      " 'N' 'N' 'N' 'N' 'N' 'F' 'F' 'F' 'F' 'N' 'F' 'N' 'N' 'N' 'N' 'F' 'F' 'N'\n",
      " 'F' 'N' 'F' 'N' 'N' 'N' 'F' 'N' 'F' 'F' 'N' 'N' 'N' 'F' 'N' 'F' 'N' 'N'\n",
      " 'F' 'N' 'F' 'N' 'N' 'F' 'N' 'F' 'N' 'N' 'N' 'F' 'N' 'N' 'N' 'F' 'N' 'N'\n",
      " 'N' 'F' 'F' 'N' 'F' 'N' 'N' 'N' 'F' 'N' 'N' 'F' 'F' 'F' 'F' 'F' 'N' 'N'\n",
      " 'N' 'F' 'N' 'N' 'N' 'N' 'N' 'N' 'F' 'F' 'N' 'N' 'F' 'F' 'F' 'F' 'F' 'F'\n",
      " 'F' 'F' 'F' 'F' 'N' 'F' 'F' 'F' 'F' 'F' 'N' 'N' 'F' 'F' 'N' 'F' 'N' 'N'\n",
      " 'F' 'N' 'F' 'N' 'N' 'F' 'N' 'N' 'F' 'F' 'F' 'F' 'N' 'N' 'N' 'F' 'F' 'N'\n",
      " 'N' 'F' 'N' 'F' 'N' 'F' 'F' 'F' 'F' 'F' 'F' 'N' 'F' 'F' 'F' 'F' 'F' 'F'\n",
      " 'F' 'F' 'F' 'N' 'F' 'F' 'N' 'N' 'F' 'N' 'N' 'F' 'N' 'F' 'N' 'N' 'F' 'N'\n",
      " 'N' 'N' 'N' 'F' 'N' 'N' 'N' 'N' 'N' 'F' 'N' 'F' 'N' 'F' 'F' 'N' 'N' 'F'\n",
      " 'N' 'F' 'F' 'N' 'F' 'N' 'F' 'N' 'N' 'N' 'N' 'N' 'F' 'N' 'F' 'N' 'N' 'N'\n",
      " 'F' 'N' 'N' 'F' 'F' 'N' 'N' 'N' 'F' 'F' 'N' 'F' 'F' 'F' 'N' 'F' 'N' 'F'\n",
      " 'N' 'F' 'N' 'F' 'N' 'N' 'F' 'N' 'N' 'F' 'N' 'N' 'N' 'F' 'N' 'F' 'F' 'F'\n",
      " 'N' 'F' 'N' 'N' 'F' 'F']\n"
     ]
    }
   ],
   "source": [
    "#y_test predictions\n",
    "ytest_predictions = a_encoder.inverse_transform(y_test)\n",
    "print(ytest_predictions)"
   ]
  },
  {
   "cell_type": "code",
   "execution_count": 21,
   "metadata": {},
   "outputs": [
    {
     "data": {
      "text/plain": [
       "{'F': 148, 'N': 146}"
      ]
     },
     "execution_count": 21,
     "metadata": {},
     "output_type": "execute_result"
    }
   ],
   "source": [
    "#real count\n",
    "unique, counts = np.unique(ytest_predictions, return_counts=True)\n",
    "dict(zip(unique, counts))"
   ]
  },
  {
   "cell_type": "code",
   "execution_count": 22,
   "metadata": {},
   "outputs": [
    {
     "data": {
      "image/png": "[encoded data removed]",
      "text/plain": [
       "<Figure size 432x288 with 2 Axes>"
      ]
     },
     "metadata": {
      "needs_background": "light"
     },
     "output_type": "display_data"
    }
   ],
   "source": [
    "#confusion matrix\n",
    "matrix = confusion_matrix(ytest_predictions, real_predictions_B)\n",
    "#format confusion matrix\n",
    "ax=plt.subplot()\n",
    "sns.heatmap(matrix, annot=True, ax = ax, cmap='Blues', fmt='g');\n",
    "accuracy = np.trace(matrix) / np.sum(matrix).astype('float')\n",
    "misclass = 1 - accuracy\n",
    "ax.set_xlabel('Predicted label\\naccuracy={:0.4f}; misclass={:0.4f}'.format(accuracy, misclass));\n",
    "ax.set_ylabel('True labels'); \n",
    "ax.set_title('Confusion Matrix');\n",
    "ax.xaxis.set_ticklabels(unique); ax.yaxis.set_ticklabels(unique);"
   ]
  },
  {
   "cell_type": "code",
   "execution_count": 23,
   "metadata": {},
   "outputs": [
    {
     "name": "stdout",
     "output_type": "stream",
     "text": [
      "              precision    recall  f1-score   support\n",
      "\n",
      "           F       0.65      0.66      0.65       148\n",
      "           N       0.65      0.64      0.64       146\n",
      "\n",
      "    accuracy                           0.65       294\n",
      "   macro avg       0.65      0.65      0.65       294\n",
      "weighted avg       0.65      0.65      0.65       294\n",
      "\n"
     ]
    }
   ],
   "source": [
    "print(classification_report(ytest_predictions, real_predictions_B))"
   ]
  },
  {
   "cell_type": "code",
   "execution_count": 24,
   "metadata": {},
   "outputs": [
    {
     "name": "stdout",
     "output_type": "stream",
     "text": [
      "precision score:0.6462\n",
      "recall score:0.6462\n",
      "f1 score:0.6462\n"
     ]
    }
   ],
   "source": [
    "#macro - calculate metrics for each label, and find their unweighted mean\n",
    "pre_score = precision_score(ytest_predictions, real_predictions_B, average = \"macro\")\n",
    "print('precision score:{:0.4f}'.format(pre_score))\n",
    "recall_score_1 = recall_score(ytest_predictions, real_predictions_B, average= \"macro\")\n",
    "print('recall score:{:0.4f}'.format(recall_score_1))\n",
    "f1_score_1 = f1_score(ytest_predictions, real_predictions_B, average=\"macro\")\n",
    "print('f1 score:{:0.4f}'.format(f1_score_1))"
   ]
  },
  {
   "cell_type": "code",
   "execution_count": null,
   "metadata": {},
   "outputs": [],
   "source": []
  },
  {
   "cell_type": "code",
   "execution_count": null,
   "metadata": {},
   "outputs": [],
   "source": []
  }
 ],
 "metadata": {
  "kernelspec": {
   "display_name": "Python 3",
   "language": "python",
   "name": "python3"
  },
  "language_info": {
   "codemirror_mode": {
    "name": "ipython",
    "version": 3
   },
   "file_extension": ".py",
   "mimetype": "text/x-python",
   "name": "python",
   "nbconvert_exporter": "python",
   "pygments_lexer": "ipython3",
   "version": "3.8.3"
  }
 },
 "nbformat": 4,
 "nbformat_minor": 4
}
