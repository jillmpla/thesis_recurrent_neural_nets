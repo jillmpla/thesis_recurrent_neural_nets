{
 "cells": [
  {
   "cell_type": "code",
   "execution_count": 1,
   "metadata": {},
   "outputs": [],
   "source": [
    "#tensorboard via command-line:\n",
    "#tensorboard --logdir=where your Logs directory is"
   ]
  },
  {
   "cell_type": "code",
   "execution_count": 2,
   "metadata": {},
   "outputs": [],
   "source": [
    "#~~~~~~~~~~~~~~~~~~~~~~~~~~~~~~~~~~~~~~~~~~~~~~~~~~~~~~~~~~~~~~~~~~~~~~~~~~~~~~~~~~~~~~~~~~~~~~~~~~~~~~~#\n",
    "#Predict whether or not a flare will occur in the next 24hrs after a 24hr time sequence, per monitored AR.\n",
    "#~~~~~~~~~~~~~~~~~~~~~~~~~~~~~~~~~~~~~~~~~~~~~~~~~~~~~~~~~~~~~~~~~~~~~~~~~~~~~~~~~~~~~~~~~~~~~~~~~~~~~~~#\n",
    "#feature data from - hmi.sharp_720s:::\n",
    "#http://jsoc.stanford.edu/doc/data/hmi/sharp/sharp.htm\n",
    "\n",
    "#label data from - GOES flare events:::\n",
    "#ftp://ftp.swpc.noaa.gov/pub/warehouse/\n",
    "\n",
    "#and from - GOES XRS Report:::\n",
    "#https://www.ngdc.noaa.gov/stp/space-weather/solar-data/solar-features/solar-flares/x-rays/goes/xrs/\n",
    "#~~~~~~~~~~~~~~~~~~~~~~~~~~~~~~~~~~~~~~~~~~~~~~~~~~~~~~~~~~~~~~~~~~~~~~~~~~~~~~~~~~~~~~~~~~~~~~~~~~~~~~~#\n",
    "#binary class - F for flare and N for no flare\n",
    "#multi-class - #6 flare classes: N is no flare, A is smallest, X is largest\n",
    "               #key = {'N', 'A', 'B', 'C', 'M', 'X'}\n",
    "               #['A' class flares generally not listed in official reports due to small size]\n",
    "#~~~~~~~~~~~~~~~~~~~~~~~~~~~~~~~~~~~~~~~~~~~~~~~~~~~~~~~~~~~~~~~~~~~~~~~~~~~~~~~~~~~~~~~~~~~~~~~~~~~~~~~#"
   ]
  },
  {
   "cell_type": "code",
   "execution_count": 3,
   "metadata": {},
   "outputs": [
    {
     "name": "stdout",
     "output_type": "stream",
     "text": [
      "tensorflow version: 2.3.1\n"
     ]
    }
   ],
   "source": [
    "import tensorflow as tf\n",
    "print(\"tensorflow version:\", tf.__version__) #2.3.1 used\n",
    "from tensorflow import keras\n",
    "import os\n",
    "import glob\n",
    "import shutil\n",
    "import datetime\n",
    "import numpy as np\n",
    "import pandas as pd\n",
    "import seaborn as sns\n",
    "from pathlib import Path\n",
    "from astropy.time import Time\n",
    "from matplotlib import pyplot as plt\n",
    "from sklearn.metrics import f1_score, precision_score, recall_score, classification_report, confusion_matrix\n",
    "from sklearn.metrics import plot_confusion_matrix\n",
    "from sklearn.preprocessing import LabelBinarizer\n",
    "from sklearn.model_selection import train_test_split\n",
    "from sklearn.preprocessing import MinMaxScaler\n",
    "from tensorflow.keras.layers import Dropout, Dense, Embedding, Flatten, SimpleRNN, LSTM, GRU, GaussianNoise\n",
    "from tensorflow.keras.models import Model, Sequential\n",
    "from tensorflow.keras.optimizers import SGD, RMSprop, Adam\n",
    "import drms #https://pypi.org/project/drms/\n",
    "#~~~~~~~~~~~~~~~~~~~~~~~~~~~~~~~~~~~~~~~~~~~~~~~~~~~~~~~~~~~~~~~~~~~~~~~~~~~~~~~~~~~~~~~~~~~~~~~~~~~~~~~#\n",
    "import Flare_Data\n",
    "import Feature_Years\n",
    "import Make_TB_Logs\n",
    "#~~~~~~~~~~~~~~~~~~~~~~~~~~~~~~~~~~~~~~~~~~~~~~~~~~~~~~~~~~~~~~~~~~~~~~~~~~~~~~~~~~~~~~~~~~~~~~~~~~~~~~~#"
   ]
  },
  {
   "cell_type": "code",
   "execution_count": 4,
   "metadata": {},
   "outputs": [
    {
     "name": "stdout",
     "output_type": "stream",
     "text": [
      "CSVs compiled.\n"
     ]
    }
   ],
   "source": [
    "Feature_Years.generate_all_feature_years()"
   ]
  },
  {
   "cell_type": "code",
   "execution_count": 5,
   "metadata": {},
   "outputs": [],
   "source": [
    "where_logs = Make_TB_Logs.make_clear_tensorboard_folder()"
   ]
  },
  {
   "cell_type": "code",
   "execution_count": 6,
   "metadata": {},
   "outputs": [
    {
     "name": "stdout",
     "output_type": "stream",
     "text": [
      "The time series starts from:  2011-01-01 00:11:26\n",
      "The time series ends on:  2016-12-31 23:47:24\n",
      "(array(['F', 'N'], dtype='<U1'), array([741, 729], dtype=int64))\n"
     ]
    }
   ],
   "source": [
    "#binary = True for binary classification, binary = False for multi-class classification\n",
    "X_train, X_val, X_test, y_train, y_val, y_test, tim_steps, n_feats, count_of_classes, a_encoder = Flare_Data.getAllData(binary = True)"
   ]
  },
  {
   "cell_type": "code",
   "execution_count": 7,
   "metadata": {},
   "outputs": [
    {
     "name": "stdout",
     "output_type": "stream",
     "text": [
      "(940, 114, 20) (236, 114, 20) (294, 114, 20) (940, 1) (236, 1) (294, 1)\n"
     ]
    }
   ],
   "source": [
    "print(X_train.shape, X_val.shape, X_test.shape, y_train.shape, y_val.shape, y_test.shape)"
   ]
  },
  {
   "cell_type": "code",
   "execution_count": 8,
   "metadata": {},
   "outputs": [],
   "source": [
    "#~~~~~~~~~~~~~~~~~~~~~~~~~~~~~~~~~~~~~~~~~~~~~~~~~~~~~~~~~~~~~~~~~~~~~~~~~~~~~~~~~~~~~~~~~~~~~~~~~~~~~~~#\n",
    "#~~~~~~~~~~~~~~~~~~~~~~~~~~~~~~~~~~~~~~~~~~~~~~~~~~~~~~~~~~~~~~~~~~~~~~~~~~~~~~~~~~~~~~~~~~~~~~~~~~~~~~~#"
   ]
  },
  {
   "cell_type": "code",
   "execution_count": 9,
   "metadata": {},
   "outputs": [],
   "source": [
    "batch_size = 50\n",
    "epochs = 100\n",
    "optimizer = Adam(lr=0.001, beta_1=0.9, beta_2=0.999, epsilon=1e-06, decay=0.0)\n",
    "#optimizer = RMSprop(lr=0.001, rho=0.9, epsilon=1e-06, decay=0.0)"
   ]
  },
  {
   "cell_type": "code",
   "execution_count": 10,
   "metadata": {},
   "outputs": [],
   "source": [
    "#~~~~~~~~~~~~~~~~~~~~~~~~~~~~~~~~~~~~~~~[GRU_1 Model]~~~~~~~~~~~~~~~~~~~~~~~~~~~~~~~~~~~~~~~~~~~~~~~~~~~#\n",
    "#~~~~~~~~~~~~~~~~~~~~~~~~~~~~~~~~~~~~~~~[Binary-Class]~~~~~~~~~~~~~~~~~~~~~~~~~~~~~~~~~~~~~~~~~~~~~~~~~~#\n",
    "#~~~~~~~~~~~~~~~~~~~~~~~~~~~~~~~~~~~~~~~[Single Layer]~~~~~~~~~~~~~~~~~~~~~~~~~~~~~~~~~~~~~~~~~~~~~~~~~~#\n",
    "model = Sequential()\n",
    "model.add(GRU(19,  input_shape=(tim_steps, n_feats), recurrent_dropout=0.05))\n",
    "model.add(GaussianNoise(0.01))\n",
    "model.add(Dense(1, activation='sigmoid'))\n",
    "model.compile(loss='binary_crossentropy', optimizer=optimizer, metrics=['binary_accuracy'])\n",
    "#~~~~~~~~~~~~~~~~~~~~~~~~~~~~~~~~~~~~~~~~~~~~~~~~~~~~~~~~~~~~~~~~~~~~~~~~~~~~~~~~~~~~~~~~~~~~~~~~~~~~~~~#\n",
    "#~~~~~~~~~~~~~~~~~~~~~~~~~~~~~~~~~~~~~~~~~~~~~~~~~~~~~~~~~~~~~~~~~~~~~~~~~~~~~~~~~~~~~~~~~~~~~~~~~~~~~~~#"
   ]
  },
  {
   "cell_type": "code",
   "execution_count": 11,
   "metadata": {},
   "outputs": [],
   "source": [
    "tensorboard_call = keras.callbacks.TensorBoard(log_dir=where_logs, histogram_freq=1)\n",
    "#val_loss_callback = tf.keras.callbacks.EarlyStopping(monitor='val_binary_accuracy', patience=100)"
   ]
  },
  {
   "cell_type": "code",
   "execution_count": 12,
   "metadata": {},
   "outputs": [
    {
     "name": "stdout",
     "output_type": "stream",
     "text": [
      "Epoch 1/100\n",
      " 1/19 [>.............................] - ETA: 0s - loss: 0.7238 - binary_accuracy: 0.5000WARNING:tensorflow:From C:\\ProgramData\\Anaconda3\\lib\\site-packages\\tensorflow\\python\\ops\\summary_ops_v2.py:1277: stop (from tensorflow.python.eager.profiler) is deprecated and will be removed after 2020-07-01.\n",
      "Instructions for updating:\n",
      "use `tf.profiler.experimental.stop` instead.\n",
      " 2/19 [==>...........................] - ETA: 3s - loss: 0.7250 - binary_accuracy: 0.4900WARNING:tensorflow:Callbacks method `on_train_batch_end` is slow compared to the batch time (batch time: 0.0629s vs `on_train_batch_end` time: 0.3577s). Check your callbacks.\n",
      "19/19 [==============================] - 2s 93ms/step - loss: 0.7012 - binary_accuracy: 0.5064 - val_loss: 0.7030 - val_binary_accuracy: 0.4746\n",
      "Epoch 2/100\n",
      "19/19 [==============================] - 1s 50ms/step - loss: 0.6907 - binary_accuracy: 0.5128 - val_loss: 0.7020 - val_binary_accuracy: 0.4534\n",
      "Epoch 3/100\n",
      "19/19 [==============================] - 1s 53ms/step - loss: 0.6881 - binary_accuracy: 0.5287 - val_loss: 0.7024 - val_binary_accuracy: 0.4534\n",
      "Epoch 4/100\n",
      "19/19 [==============================] - 1s 49ms/step - loss: 0.6861 - binary_accuracy: 0.5532 - val_loss: 0.7035 - val_binary_accuracy: 0.4661\n",
      "Epoch 5/100\n",
      "19/19 [==============================] - 1s 52ms/step - loss: 0.6871 - binary_accuracy: 0.5404 - val_loss: 0.7039 - val_binary_accuracy: 0.4576\n",
      "Epoch 6/100\n",
      "19/19 [==============================] - 1s 52ms/step - loss: 0.6836 - binary_accuracy: 0.5447 - val_loss: 0.7050 - val_binary_accuracy: 0.4534\n",
      "Epoch 7/100\n",
      "19/19 [==============================] - 1s 55ms/step - loss: 0.6818 - binary_accuracy: 0.5606 - val_loss: 0.7065 - val_binary_accuracy: 0.4661\n",
      "Epoch 8/100\n",
      "19/19 [==============================] - 1s 56ms/step - loss: 0.6817 - binary_accuracy: 0.5340 - val_loss: 0.7073 - val_binary_accuracy: 0.4703\n",
      "Epoch 9/100\n",
      "19/19 [==============================] - 1s 53ms/step - loss: 0.6767 - binary_accuracy: 0.5809 - val_loss: 0.7106 - val_binary_accuracy: 0.4915\n",
      "Epoch 10/100\n",
      "19/19 [==============================] - 1s 57ms/step - loss: 0.6762 - binary_accuracy: 0.5819 - val_loss: 0.7123 - val_binary_accuracy: 0.4915\n",
      "Epoch 11/100\n",
      "19/19 [==============================] - 1s 54ms/step - loss: 0.6722 - binary_accuracy: 0.5904 - val_loss: 0.7151 - val_binary_accuracy: 0.4788\n",
      "Epoch 12/100\n",
      "19/19 [==============================] - 1s 55ms/step - loss: 0.6670 - binary_accuracy: 0.5872 - val_loss: 0.7249 - val_binary_accuracy: 0.5042\n",
      "Epoch 13/100\n",
      "19/19 [==============================] - 1s 55ms/step - loss: 0.6646 - binary_accuracy: 0.5809 - val_loss: 0.7310 - val_binary_accuracy: 0.5339\n",
      "Epoch 14/100\n",
      "19/19 [==============================] - 1s 52ms/step - loss: 0.6585 - binary_accuracy: 0.6138 - val_loss: 0.7364 - val_binary_accuracy: 0.5424\n",
      "Epoch 15/100\n",
      "19/19 [==============================] - 1s 57ms/step - loss: 0.6535 - binary_accuracy: 0.6223 - val_loss: 0.7429 - val_binary_accuracy: 0.5424\n",
      "Epoch 16/100\n",
      "19/19 [==============================] - 1s 55ms/step - loss: 0.6600 - binary_accuracy: 0.5872 - val_loss: 0.7321 - val_binary_accuracy: 0.5381\n",
      "Epoch 17/100\n",
      "19/19 [==============================] - 1s 54ms/step - loss: 0.6490 - binary_accuracy: 0.6255 - val_loss: 0.7316 - val_binary_accuracy: 0.5424\n",
      "Epoch 18/100\n",
      "19/19 [==============================] - 1s 55ms/step - loss: 0.6471 - binary_accuracy: 0.6277 - val_loss: 0.7395 - val_binary_accuracy: 0.5381\n",
      "Epoch 19/100\n",
      "19/19 [==============================] - 1s 53ms/step - loss: 0.6449 - binary_accuracy: 0.6383 - val_loss: 0.7423 - val_binary_accuracy: 0.5212\n",
      "Epoch 20/100\n",
      "19/19 [==============================] - 1s 56ms/step - loss: 0.6478 - binary_accuracy: 0.6160 - val_loss: 0.7334 - val_binary_accuracy: 0.5424\n",
      "Epoch 21/100\n",
      "19/19 [==============================] - 1s 54ms/step - loss: 0.6488 - binary_accuracy: 0.6149 - val_loss: 0.7198 - val_binary_accuracy: 0.5339\n",
      "Epoch 22/100\n",
      "19/19 [==============================] - 1s 54ms/step - loss: 0.6407 - binary_accuracy: 0.6351 - val_loss: 0.7274 - val_binary_accuracy: 0.5254\n",
      "Epoch 23/100\n",
      "19/19 [==============================] - 1s 56ms/step - loss: 0.6396 - binary_accuracy: 0.6330 - val_loss: 0.7316 - val_binary_accuracy: 0.5339\n",
      "Epoch 24/100\n",
      "19/19 [==============================] - 1s 52ms/step - loss: 0.6361 - binary_accuracy: 0.6415 - val_loss: 0.7377 - val_binary_accuracy: 0.5212\n",
      "Epoch 25/100\n",
      "19/19 [==============================] - 1s 54ms/step - loss: 0.6418 - binary_accuracy: 0.6234 - val_loss: 0.7253 - val_binary_accuracy: 0.5466\n",
      "Epoch 26/100\n",
      "19/19 [==============================] - 1s 52ms/step - loss: 0.6301 - binary_accuracy: 0.6479 - val_loss: 0.7336 - val_binary_accuracy: 0.5424\n",
      "Epoch 27/100\n",
      "19/19 [==============================] - 1s 53ms/step - loss: 0.6325 - binary_accuracy: 0.6415 - val_loss: 0.7336 - val_binary_accuracy: 0.5424\n",
      "Epoch 28/100\n",
      "19/19 [==============================] - 1s 52ms/step - loss: 0.6309 - binary_accuracy: 0.6468 - val_loss: 0.7277 - val_binary_accuracy: 0.5339\n",
      "Epoch 29/100\n",
      "19/19 [==============================] - 1s 54ms/step - loss: 0.6286 - binary_accuracy: 0.6511 - val_loss: 0.7271 - val_binary_accuracy: 0.5424\n",
      "Epoch 30/100\n",
      "19/19 [==============================] - 1s 51ms/step - loss: 0.6272 - binary_accuracy: 0.6521 - val_loss: 0.7459 - val_binary_accuracy: 0.5212\n",
      "Epoch 31/100\n",
      "19/19 [==============================] - 1s 53ms/step - loss: 0.6368 - binary_accuracy: 0.6543 - val_loss: 0.7223 - val_binary_accuracy: 0.5763\n",
      "Epoch 32/100\n",
      "19/19 [==============================] - 1s 50ms/step - loss: 0.6250 - binary_accuracy: 0.6670 - val_loss: 0.7269 - val_binary_accuracy: 0.5720\n",
      "Epoch 33/100\n",
      "19/19 [==============================] - 1s 53ms/step - loss: 0.6213 - binary_accuracy: 0.6596 - val_loss: 0.7265 - val_binary_accuracy: 0.5508\n",
      "Epoch 34/100\n",
      "19/19 [==============================] - 1s 49ms/step - loss: 0.6223 - binary_accuracy: 0.6596 - val_loss: 0.7209 - val_binary_accuracy: 0.5551\n",
      "Epoch 35/100\n",
      "19/19 [==============================] - 1s 54ms/step - loss: 0.6201 - binary_accuracy: 0.6543 - val_loss: 0.7387 - val_binary_accuracy: 0.5424\n",
      "Epoch 36/100\n",
      "19/19 [==============================] - 1s 51ms/step - loss: 0.6279 - binary_accuracy: 0.6543 - val_loss: 0.7267 - val_binary_accuracy: 0.5593\n",
      "Epoch 37/100\n",
      "19/19 [==============================] - 1s 52ms/step - loss: 0.6167 - binary_accuracy: 0.6649 - val_loss: 0.7218 - val_binary_accuracy: 0.5720\n",
      "Epoch 38/100\n",
      "19/19 [==============================] - 1s 49ms/step - loss: 0.6165 - binary_accuracy: 0.6649 - val_loss: 0.7544 - val_binary_accuracy: 0.5212\n",
      "Epoch 39/100\n",
      "19/19 [==============================] - 1s 52ms/step - loss: 0.6326 - binary_accuracy: 0.6489 - val_loss: 0.7204 - val_binary_accuracy: 0.5508\n",
      "Epoch 40/100\n",
      "19/19 [==============================] - 1s 50ms/step - loss: 0.6162 - binary_accuracy: 0.6606 - val_loss: 0.7212 - val_binary_accuracy: 0.5593\n",
      "Epoch 41/100\n",
      "19/19 [==============================] - 1s 52ms/step - loss: 0.6222 - binary_accuracy: 0.6574 - val_loss: 0.7213 - val_binary_accuracy: 0.5847\n",
      "Epoch 42/100\n",
      "19/19 [==============================] - 1s 49ms/step - loss: 0.6233 - binary_accuracy: 0.6617 - val_loss: 0.7191 - val_binary_accuracy: 0.5551\n",
      "Epoch 43/100\n",
      "19/19 [==============================] - 1s 52ms/step - loss: 0.6243 - binary_accuracy: 0.6596 - val_loss: 0.7234 - val_binary_accuracy: 0.5339\n",
      "Epoch 44/100\n",
      "19/19 [==============================] - 1s 51ms/step - loss: 0.6237 - binary_accuracy: 0.6670 - val_loss: 0.7196 - val_binary_accuracy: 0.5466\n",
      "Epoch 45/100\n",
      "19/19 [==============================] - 1s 53ms/step - loss: 0.6143 - binary_accuracy: 0.6777 - val_loss: 0.7182 - val_binary_accuracy: 0.5890\n",
      "Epoch 46/100\n",
      "19/19 [==============================] - 1s 51ms/step - loss: 0.6199 - binary_accuracy: 0.6628 - val_loss: 0.7290 - val_binary_accuracy: 0.5551\n",
      "Epoch 47/100\n",
      "19/19 [==============================] - 1s 54ms/step - loss: 0.6222 - binary_accuracy: 0.6436 - val_loss: 0.7137 - val_binary_accuracy: 0.5805\n",
      "Epoch 48/100\n",
      "19/19 [==============================] - 1s 53ms/step - loss: 0.6173 - binary_accuracy: 0.6606 - val_loss: 0.7170 - val_binary_accuracy: 0.5763\n",
      "Epoch 49/100\n",
      "19/19 [==============================] - 1s 51ms/step - loss: 0.6139 - binary_accuracy: 0.6638 - val_loss: 0.7172 - val_binary_accuracy: 0.5593\n",
      "Epoch 50/100\n",
      "19/19 [==============================] - 1s 51ms/step - loss: 0.6087 - binary_accuracy: 0.6670 - val_loss: 0.7187 - val_binary_accuracy: 0.5847\n",
      "Epoch 51/100\n",
      "19/19 [==============================] - 1s 52ms/step - loss: 0.6059 - binary_accuracy: 0.6660 - val_loss: 0.7198 - val_binary_accuracy: 0.5847\n",
      "Epoch 52/100\n",
      "19/19 [==============================] - 1s 51ms/step - loss: 0.6080 - binary_accuracy: 0.6702 - val_loss: 0.7167 - val_binary_accuracy: 0.5890\n",
      "Epoch 53/100\n",
      "19/19 [==============================] - 1s 52ms/step - loss: 0.6068 - binary_accuracy: 0.6628 - val_loss: 0.7106 - val_binary_accuracy: 0.5847\n",
      "Epoch 54/100\n",
      "19/19 [==============================] - 1s 58ms/step - loss: 0.6061 - binary_accuracy: 0.6681 - val_loss: 0.7218 - val_binary_accuracy: 0.5636\n",
      "Epoch 55/100\n",
      "19/19 [==============================] - 1s 52ms/step - loss: 0.6073 - binary_accuracy: 0.6702 - val_loss: 0.7089 - val_binary_accuracy: 0.6017\n",
      "Epoch 56/100\n",
      "19/19 [==============================] - 1s 52ms/step - loss: 0.6016 - binary_accuracy: 0.6798 - val_loss: 0.7178 - val_binary_accuracy: 0.5975\n",
      "Epoch 57/100\n",
      "19/19 [==============================] - 1s 51ms/step - loss: 0.6040 - binary_accuracy: 0.6851 - val_loss: 0.7164 - val_binary_accuracy: 0.5975\n",
      "Epoch 58/100\n",
      "19/19 [==============================] - 1s 57ms/step - loss: 0.6039 - binary_accuracy: 0.6745 - val_loss: 0.7128 - val_binary_accuracy: 0.5720\n",
      "Epoch 59/100\n",
      "19/19 [==============================] - 1s 50ms/step - loss: 0.6085 - binary_accuracy: 0.6798 - val_loss: 0.7536 - val_binary_accuracy: 0.5254\n",
      "Epoch 60/100\n",
      "19/19 [==============================] - 1s 54ms/step - loss: 0.6093 - binary_accuracy: 0.6585 - val_loss: 0.7073 - val_binary_accuracy: 0.5678\n",
      "Epoch 61/100\n",
      "19/19 [==============================] - 1s 50ms/step - loss: 0.6007 - binary_accuracy: 0.6702 - val_loss: 0.7169 - val_binary_accuracy: 0.5636\n",
      "Epoch 62/100\n",
      "19/19 [==============================] - 1s 53ms/step - loss: 0.5968 - binary_accuracy: 0.6777 - val_loss: 0.7190 - val_binary_accuracy: 0.6017\n",
      "Epoch 63/100\n",
      "19/19 [==============================] - 1s 50ms/step - loss: 0.6026 - binary_accuracy: 0.6777 - val_loss: 0.7399 - val_binary_accuracy: 0.5551\n",
      "Epoch 64/100\n",
      "19/19 [==============================] - 1s 53ms/step - loss: 0.6123 - binary_accuracy: 0.6628 - val_loss: 0.7002 - val_binary_accuracy: 0.5975\n",
      "Epoch 65/100\n",
      "19/19 [==============================] - 1s 54ms/step - loss: 0.5941 - binary_accuracy: 0.6766 - val_loss: 0.7334 - val_binary_accuracy: 0.5636\n",
      "Epoch 66/100\n",
      "19/19 [==============================] - 1s 52ms/step - loss: 0.6032 - binary_accuracy: 0.6713 - val_loss: 0.7163 - val_binary_accuracy: 0.5805\n",
      "Epoch 67/100\n",
      "19/19 [==============================] - 1s 53ms/step - loss: 0.5921 - binary_accuracy: 0.6830 - val_loss: 0.7183 - val_binary_accuracy: 0.5678\n",
      "Epoch 68/100\n",
      "19/19 [==============================] - 1s 53ms/step - loss: 0.5959 - binary_accuracy: 0.6734 - val_loss: 0.7166 - val_binary_accuracy: 0.5890\n",
      "Epoch 69/100\n",
      "19/19 [==============================] - 1s 50ms/step - loss: 0.5919 - binary_accuracy: 0.6915 - val_loss: 0.7174 - val_binary_accuracy: 0.6017\n",
      "Epoch 70/100\n",
      "19/19 [==============================] - 1s 52ms/step - loss: 0.5891 - binary_accuracy: 0.6947 - val_loss: 0.7275 - val_binary_accuracy: 0.5720\n",
      "Epoch 71/100\n",
      "19/19 [==============================] - 1s 52ms/step - loss: 0.5988 - binary_accuracy: 0.6755 - val_loss: 0.7081 - val_binary_accuracy: 0.5932\n",
      "Epoch 72/100\n",
      "19/19 [==============================] - 1s 52ms/step - loss: 0.5955 - binary_accuracy: 0.6777 - val_loss: 0.7138 - val_binary_accuracy: 0.5975\n",
      "Epoch 73/100\n",
      "19/19 [==============================] - 1s 51ms/step - loss: 0.6012 - binary_accuracy: 0.6723 - val_loss: 0.7233 - val_binary_accuracy: 0.5508\n",
      "Epoch 74/100\n",
      "19/19 [==============================] - 1s 51ms/step - loss: 0.5951 - binary_accuracy: 0.6638 - val_loss: 0.7171 - val_binary_accuracy: 0.5932\n",
      "Epoch 75/100\n",
      "19/19 [==============================] - 1s 50ms/step - loss: 0.5879 - binary_accuracy: 0.6947 - val_loss: 0.7217 - val_binary_accuracy: 0.5975\n",
      "Epoch 76/100\n",
      "19/19 [==============================] - 1s 49ms/step - loss: 0.5866 - binary_accuracy: 0.6883 - val_loss: 0.7241 - val_binary_accuracy: 0.5890\n",
      "Epoch 77/100\n",
      "19/19 [==============================] - 1s 49ms/step - loss: 0.5925 - binary_accuracy: 0.6936 - val_loss: 0.7257 - val_binary_accuracy: 0.5805\n",
      "Epoch 78/100\n",
      "19/19 [==============================] - 1s 50ms/step - loss: 0.5957 - binary_accuracy: 0.6734 - val_loss: 0.7122 - val_binary_accuracy: 0.6017\n",
      "Epoch 79/100\n",
      "19/19 [==============================] - 1s 49ms/step - loss: 0.5814 - binary_accuracy: 0.6894 - val_loss: 0.7242 - val_binary_accuracy: 0.6017\n",
      "Epoch 80/100\n",
      "19/19 [==============================] - 1s 49ms/step - loss: 0.5857 - binary_accuracy: 0.6819 - val_loss: 0.7304 - val_binary_accuracy: 0.5636\n",
      "Epoch 81/100\n",
      "19/19 [==============================] - 1s 50ms/step - loss: 0.5805 - binary_accuracy: 0.6819 - val_loss: 0.7239 - val_binary_accuracy: 0.5678\n",
      "Epoch 82/100\n",
      "19/19 [==============================] - 1s 49ms/step - loss: 0.5861 - binary_accuracy: 0.6862 - val_loss: 0.7284 - val_binary_accuracy: 0.5678\n",
      "Epoch 83/100\n",
      "19/19 [==============================] - 1s 49ms/step - loss: 0.5843 - binary_accuracy: 0.6862 - val_loss: 0.7336 - val_binary_accuracy: 0.5678\n",
      "Epoch 84/100\n",
      "19/19 [==============================] - 1s 50ms/step - loss: 0.5852 - binary_accuracy: 0.6989 - val_loss: 0.7163 - val_binary_accuracy: 0.5720\n",
      "Epoch 85/100\n",
      "19/19 [==============================] - 1s 50ms/step - loss: 0.5824 - binary_accuracy: 0.6745 - val_loss: 0.7358 - val_binary_accuracy: 0.5720\n",
      "Epoch 86/100\n",
      "19/19 [==============================] - 1s 50ms/step - loss: 0.5769 - binary_accuracy: 0.6894 - val_loss: 0.7264 - val_binary_accuracy: 0.5975\n",
      "Epoch 87/100\n",
      "19/19 [==============================] - 1s 50ms/step - loss: 0.5826 - binary_accuracy: 0.6936 - val_loss: 0.7422 - val_binary_accuracy: 0.5720\n",
      "Epoch 88/100\n",
      "19/19 [==============================] - 1s 50ms/step - loss: 0.5904 - binary_accuracy: 0.6787 - val_loss: 0.7378 - val_binary_accuracy: 0.5763\n",
      "Epoch 89/100\n",
      "19/19 [==============================] - 1s 52ms/step - loss: 0.5826 - binary_accuracy: 0.7053 - val_loss: 0.7267 - val_binary_accuracy: 0.5932\n",
      "Epoch 90/100\n",
      "19/19 [==============================] - 1s 51ms/step - loss: 0.5824 - binary_accuracy: 0.6894 - val_loss: 0.7242 - val_binary_accuracy: 0.5678\n",
      "Epoch 91/100\n",
      "19/19 [==============================] - 1s 50ms/step - loss: 0.5765 - binary_accuracy: 0.6840 - val_loss: 0.7285 - val_binary_accuracy: 0.5763\n",
      "Epoch 92/100\n",
      "19/19 [==============================] - 1s 51ms/step - loss: 0.5719 - binary_accuracy: 0.6915 - val_loss: 0.7279 - val_binary_accuracy: 0.6059\n",
      "Epoch 93/100\n",
      "19/19 [==============================] - 1s 51ms/step - loss: 0.5713 - binary_accuracy: 0.6926 - val_loss: 0.7381 - val_binary_accuracy: 0.5678\n",
      "Epoch 94/100\n",
      "19/19 [==============================] - 1s 50ms/step - loss: 0.5693 - binary_accuracy: 0.6926 - val_loss: 0.7296 - val_binary_accuracy: 0.6017\n",
      "Epoch 95/100\n",
      "19/19 [==============================] - 1s 52ms/step - loss: 0.5755 - binary_accuracy: 0.7032 - val_loss: 0.7185 - val_binary_accuracy: 0.6102\n",
      "Epoch 96/100\n",
      "19/19 [==============================] - 1s 50ms/step - loss: 0.5664 - binary_accuracy: 0.6968 - val_loss: 0.7465 - val_binary_accuracy: 0.5636\n",
      "Epoch 97/100\n",
      "19/19 [==============================] - 1s 51ms/step - loss: 0.5875 - binary_accuracy: 0.6840 - val_loss: 0.7432 - val_binary_accuracy: 0.5847\n",
      "Epoch 98/100\n",
      "19/19 [==============================] - 1s 51ms/step - loss: 0.5715 - binary_accuracy: 0.7223 - val_loss: 0.7230 - val_binary_accuracy: 0.5763\n",
      "Epoch 99/100\n",
      "19/19 [==============================] - 1s 52ms/step - loss: 0.5711 - binary_accuracy: 0.6936 - val_loss: 0.7377 - val_binary_accuracy: 0.5763\n",
      "Epoch 100/100\n",
      "19/19 [==============================] - 1s 51ms/step - loss: 0.5698 - binary_accuracy: 0.6968 - val_loss: 0.7385 - val_binary_accuracy: 0.5805\n"
     ]
    }
   ],
   "source": [
    "history = model.fit(X_train, y_train, \n",
    "                    batch_size=batch_size, \n",
    "                    epochs=epochs, \n",
    "                    validation_data=(X_val, y_val), \n",
    "                    verbose=1, \n",
    "                    callbacks=[tensorboard_call]) #, val_loss_callback])"
   ]
  },
  {
   "cell_type": "code",
   "execution_count": 13,
   "metadata": {},
   "outputs": [
    {
     "name": "stdout",
     "output_type": "stream",
     "text": [
      "Model: \"sequential\"\n",
      "_________________________________________________________________\n",
      "Layer (type)                 Output Shape              Param #   \n",
      "=================================================================\n",
      "gru (GRU)                    (None, 19)                2337      \n",
      "_________________________________________________________________\n",
      "gaussian_noise (GaussianNois (None, 19)                0         \n",
      "_________________________________________________________________\n",
      "dense (Dense)                (None, 1)                 20        \n",
      "=================================================================\n",
      "Total params: 2,357\n",
      "Trainable params: 2,357\n",
      "Non-trainable params: 0\n",
      "_________________________________________________________________\n"
     ]
    }
   ],
   "source": [
    "model.summary()"
   ]
  },
  {
   "cell_type": "code",
   "execution_count": 14,
   "metadata": {},
   "outputs": [
    {
     "name": "stdout",
     "output_type": "stream",
     "text": [
      "294/294 [==============================] - 2s 7ms/step - loss: 0.6404 - binary_accuracy: 0.6531\n",
      "test loss, test acc: [0.6404228210449219, 0.6530612111091614]\n"
     ]
    }
   ],
   "source": [
    "#evaluate model on test set\n",
    "results = model.evaluate(X_test, y_test, batch_size=1, verbose=1)\n",
    "print(\"test loss, test acc:\", results)"
   ]
  },
  {
   "cell_type": "code",
   "execution_count": 15,
   "metadata": {},
   "outputs": [
    {
     "data": {
      "image/png": "[encoded data removed]",
      "text/plain": [
       "<Figure size 432x288 with 1 Axes>"
      ]
     },
     "metadata": {
      "needs_background": "light"
     },
     "output_type": "display_data"
    }
   ],
   "source": [
    "#summarize history for accuracy\n",
    "plt.plot(history.history[(list(history.history.keys())[1])])\n",
    "plt.plot(history.history[(list(history.history.keys())[3])])\n",
    "plt.title('model accuracy')\n",
    "plt.ylabel('accuracy')\n",
    "plt.xlabel('epoch')\n",
    "plt.legend(['train', 'val'], loc='upper left')\n",
    "plt.show()"
   ]
  },
  {
   "cell_type": "code",
   "execution_count": 16,
   "metadata": {},
   "outputs": [
    {
     "data": {
      "image/png": "[encoded data removed]",
      "text/plain": [
       "<Figure size 432x288 with 1 Axes>"
      ]
     },
     "metadata": {
      "needs_background": "light"
     },
     "output_type": "display_data"
    }
   ],
   "source": [
    "#summarize history for loss\n",
    "plt.plot(history.history[(list(history.history.keys())[0])])\n",
    "plt.plot(history.history[(list(history.history.keys())[2])])\n",
    "plt.title('model loss')\n",
    "plt.ylabel('loss')\n",
    "plt.xlabel('epoch')\n",
    "plt.legend(['train', 'val'], loc='upper left')\n",
    "plt.show()"
   ]
  },
  {
   "cell_type": "code",
   "execution_count": 17,
   "metadata": {},
   "outputs": [
    {
     "name": "stdout",
     "output_type": "stream",
     "text": [
      "predictions: [[0.44928896]\n",
      " [0.12285054]\n",
      " [0.34373957]\n",
      " [0.40874118]\n",
      " [0.09481996]\n",
      " [0.45487413]\n",
      " [0.51675105]\n",
      " [0.34750128]\n",
      " [0.79186666]\n",
      " [0.13664615]\n",
      " [0.28086048]\n",
      " [0.5468264 ]\n",
      " [0.6711968 ]\n",
      " [0.2229864 ]\n",
      " [0.2067399 ]\n",
      " [0.17122948]\n",
      " [0.17988047]\n",
      " [0.24621889]\n",
      " [0.26609296]\n",
      " [0.29870874]\n",
      " [0.77373254]\n",
      " [0.89019203]\n",
      " [0.8254789 ]\n",
      " [0.15199551]\n",
      " [0.6042824 ]\n",
      " [0.18914187]\n",
      " [0.5582658 ]\n",
      " [0.20202383]\n",
      " [0.27813172]\n",
      " [0.23553401]\n",
      " [0.8574594 ]\n",
      " [0.8114053 ]\n",
      " [0.34209156]\n",
      " [0.4125493 ]\n",
      " [0.7855984 ]\n",
      " [0.67432857]\n",
      " [0.3726589 ]\n",
      " [0.6369019 ]\n",
      " [0.44802487]\n",
      " [0.41642407]\n",
      " [0.20664343]\n",
      " [0.41021514]\n",
      " [0.2785275 ]\n",
      " [0.22852969]\n",
      " [0.63309646]\n",
      " [0.41281077]\n",
      " [0.11721581]\n",
      " [0.6404284 ]\n",
      " [0.6359123 ]\n",
      " [0.6492885 ]\n",
      " [0.66762275]\n",
      " [0.67079544]\n",
      " [0.39969105]\n",
      " [0.23979005]\n",
      " [0.66400504]\n",
      " [0.29900306]\n",
      " [0.5329141 ]\n",
      " [0.30179805]\n",
      " [0.39898622]\n",
      " [0.5832418 ]\n",
      " [0.14343336]\n",
      " [0.1742939 ]\n",
      " [0.30585253]\n",
      " [0.61364216]\n",
      " [0.600156  ]\n",
      " [0.32660085]\n",
      " [0.24272364]\n",
      " [0.29075152]\n",
      " [0.2666119 ]\n",
      " [0.15930343]\n",
      " [0.11647332]\n",
      " [0.29502973]\n",
      " [0.45452857]\n",
      " [0.29123843]\n",
      " [0.8228663 ]\n",
      " [0.62305266]\n",
      " [0.17112416]\n",
      " [0.44280457]\n",
      " [0.31311676]\n",
      " [0.6768866 ]\n",
      " [0.27599669]\n",
      " [0.38518584]\n",
      " [0.7584173 ]\n",
      " [0.22129083]\n",
      " [0.4820876 ]\n",
      " [0.77945924]\n",
      " [0.9059335 ]\n",
      " [0.30878013]\n",
      " [0.2999084 ]\n",
      " [0.80696297]\n",
      " [0.13896424]\n",
      " [0.42899996]\n",
      " [0.37136889]\n",
      " [0.36402047]\n",
      " [0.5828482 ]\n",
      " [0.3059339 ]\n",
      " [0.5044129 ]\n",
      " [0.39116693]\n",
      " [0.77699727]\n",
      " [0.6177529 ]\n",
      " [0.42066312]\n",
      " [0.390625  ]\n",
      " [0.25572008]\n",
      " [0.41207367]\n",
      " [0.8344321 ]\n",
      " [0.33978742]\n",
      " [0.5807987 ]\n",
      " [0.41543317]\n",
      " [0.46552187]\n",
      " [0.49209774]\n",
      " [0.4412759 ]\n",
      " [0.6392823 ]\n",
      " [0.30540645]\n",
      " [0.46348152]\n",
      " [0.5333782 ]\n",
      " [0.612446  ]\n",
      " [0.38270396]\n",
      " [0.31972092]\n",
      " [0.40303358]\n",
      " [0.38098764]\n",
      " [0.22115636]\n",
      " [0.17071295]\n",
      " [0.1335023 ]\n",
      " [0.39757147]\n",
      " [0.22769687]\n",
      " [0.1733588 ]\n",
      " [0.7847095 ]\n",
      " [0.5867535 ]\n",
      " [0.81091636]\n",
      " [0.36380202]\n",
      " [0.28283396]\n",
      " [0.42469695]\n",
      " [0.7565429 ]\n",
      " [0.5489745 ]\n",
      " [0.15473083]\n",
      " [0.20808086]\n",
      " [0.53797156]\n",
      " [0.25688797]\n",
      " [0.15394178]\n",
      " [0.30672196]\n",
      " [0.19556078]\n",
      " [0.34544367]\n",
      " [0.8515034 ]\n",
      " [0.33821547]\n",
      " [0.40936282]\n",
      " [0.3923673 ]\n",
      " [0.2803356 ]\n",
      " [0.38029242]\n",
      " [0.88404095]\n",
      " [0.1500744 ]\n",
      " [0.19794321]\n",
      " [0.25338435]\n",
      " [0.16249335]\n",
      " [0.19997072]\n",
      " [0.5115356 ]\n",
      " [0.4575946 ]\n",
      " [0.26695448]\n",
      " [0.17229307]\n",
      " [0.55627656]\n",
      " [0.29467118]\n",
      " [0.68539953]\n",
      " [0.31141967]\n",
      " [0.2836349 ]\n",
      " [0.22659296]\n",
      " [0.3330971 ]\n",
      " [0.64379597]\n",
      " [0.7608993 ]\n",
      " [0.18870509]\n",
      " [0.13242298]\n",
      " [0.35599983]\n",
      " [0.34170547]\n",
      " [0.4886562 ]\n",
      " [0.27401432]\n",
      " [0.43449888]\n",
      " [0.8445424 ]\n",
      " [0.44973004]\n",
      " [0.6951932 ]\n",
      " [0.49177915]\n",
      " [0.32050493]\n",
      " [0.81768334]\n",
      " [0.25382876]\n",
      " [0.23864996]\n",
      " [0.22064069]\n",
      " [0.2972753 ]\n",
      " [0.6129545 ]\n",
      " [0.75074935]\n",
      " [0.19254753]\n",
      " [0.24412769]\n",
      " [0.10246184]\n",
      " [0.25923377]\n",
      " [0.14997625]\n",
      " [0.6523594 ]\n",
      " [0.36196786]\n",
      " [0.61765015]\n",
      " [0.18003681]\n",
      " [0.28825167]\n",
      " [0.7875831 ]\n",
      " [0.31131852]\n",
      " [0.29693893]\n",
      " [0.38068214]\n",
      " [0.48198417]\n",
      " [0.6144047 ]\n",
      " [0.12624839]\n",
      " [0.7319903 ]\n",
      " [0.58293873]\n",
      " [0.4891082 ]\n",
      " [0.28918502]\n",
      " [0.4300087 ]\n",
      " [0.68299866]\n",
      " [0.16879845]\n",
      " [0.16087925]\n",
      " [0.86035264]\n",
      " [0.22082248]\n",
      " [0.32975507]\n",
      " [0.75856006]\n",
      " [0.7343286 ]\n",
      " [0.46326578]\n",
      " [0.40481398]\n",
      " [0.36244255]\n",
      " [0.44511765]\n",
      " [0.39592206]\n",
      " [0.8365997 ]\n",
      " [0.73444587]\n",
      " [0.5270448 ]\n",
      " [0.2264187 ]\n",
      " [0.4117343 ]\n",
      " [0.49163723]\n",
      " [0.42194396]\n",
      " [0.17301625]\n",
      " [0.5402291 ]\n",
      " [0.13428578]\n",
      " [0.74941224]\n",
      " [0.875292  ]\n",
      " [0.3438918 ]\n",
      " [0.7765425 ]\n",
      " [0.10648796]\n",
      " [0.25895315]\n",
      " [0.2885726 ]\n",
      " [0.4344908 ]\n",
      " [0.44952932]\n",
      " [0.22796318]\n",
      " [0.76880157]\n",
      " [0.29296383]\n",
      " [0.62862754]\n",
      " [0.62797415]\n",
      " [0.63223255]\n",
      " [0.4108647 ]\n",
      " [0.7786597 ]\n",
      " [0.24814484]\n",
      " [0.7729365 ]\n",
      " [0.7663208 ]\n",
      " [0.17774197]\n",
      " [0.4284282 ]\n",
      " [0.4175669 ]\n",
      " [0.3392567 ]\n",
      " [0.23326343]\n",
      " [0.36330763]\n",
      " [0.42053664]\n",
      " [0.10024464]\n",
      " [0.20547104]\n",
      " [0.31757647]\n",
      " [0.5506447 ]\n",
      " [0.71471727]\n",
      " [0.17601654]\n",
      " [0.3323777 ]\n",
      " [0.2131674 ]\n",
      " [0.52180254]\n",
      " [0.579138  ]\n",
      " [0.7392278 ]\n",
      " [0.467295  ]\n",
      " [0.8541252 ]\n",
      " [0.7932131 ]\n",
      " [0.36007378]\n",
      " [0.27451023]\n",
      " [0.6303918 ]\n",
      " [0.6845311 ]\n",
      " [0.29587245]\n",
      " [0.92695844]\n",
      " [0.23455122]\n",
      " [0.3074808 ]\n",
      " [0.2833097 ]\n",
      " [0.6335825 ]\n",
      " [0.5105502 ]\n",
      " [0.6107567 ]\n",
      " [0.16029012]\n",
      " [0.2729336 ]\n",
      " [0.19966692]\n",
      " [0.13752437]\n",
      " [0.83503896]\n",
      " [0.75623804]\n",
      " [0.3654469 ]\n",
      " [0.49476406]\n",
      " [0.13470045]\n",
      " [0.17880669]]\n"
     ]
    }
   ],
   "source": [
    "#generate predictions\n",
    "predictions = model.predict(X_test)\n",
    "print(\"predictions:\", predictions)"
   ]
  },
  {
   "cell_type": "code",
   "execution_count": 18,
   "metadata": {},
   "outputs": [
    {
     "name": "stdout",
     "output_type": "stream",
     "text": [
      "['F' 'F' 'F' 'F' 'F' 'F' 'N' 'F' 'N' 'F' 'F' 'N' 'N' 'F' 'F' 'F' 'F' 'F'\n",
      " 'F' 'F' 'N' 'N' 'N' 'F' 'N' 'F' 'N' 'F' 'F' 'F' 'N' 'N' 'F' 'F' 'N' 'N'\n",
      " 'F' 'N' 'F' 'F' 'F' 'F' 'F' 'F' 'N' 'F' 'F' 'N' 'N' 'N' 'N' 'N' 'F' 'F'\n",
      " 'N' 'F' 'N' 'F' 'F' 'N' 'F' 'F' 'F' 'N' 'N' 'F' 'F' 'F' 'F' 'F' 'F' 'F'\n",
      " 'F' 'F' 'N' 'N' 'F' 'F' 'F' 'N' 'F' 'F' 'N' 'F' 'F' 'N' 'N' 'F' 'F' 'N'\n",
      " 'F' 'F' 'F' 'F' 'N' 'F' 'N' 'F' 'N' 'N' 'F' 'F' 'F' 'F' 'N' 'F' 'N' 'F'\n",
      " 'F' 'F' 'F' 'N' 'F' 'F' 'N' 'N' 'F' 'F' 'F' 'F' 'F' 'F' 'F' 'F' 'F' 'F'\n",
      " 'N' 'N' 'N' 'F' 'F' 'F' 'N' 'N' 'F' 'F' 'N' 'F' 'F' 'F' 'F' 'F' 'N' 'F'\n",
      " 'F' 'F' 'F' 'F' 'N' 'F' 'F' 'F' 'F' 'F' 'N' 'F' 'F' 'F' 'N' 'F' 'N' 'F'\n",
      " 'F' 'F' 'F' 'N' 'N' 'F' 'F' 'F' 'F' 'F' 'F' 'F' 'N' 'F' 'N' 'F' 'F' 'N'\n",
      " 'F' 'F' 'F' 'F' 'N' 'N' 'F' 'F' 'F' 'F' 'F' 'N' 'F' 'N' 'F' 'F' 'N' 'F'\n",
      " 'F' 'F' 'F' 'N' 'F' 'N' 'N' 'F' 'F' 'F' 'N' 'F' 'F' 'N' 'F' 'F' 'N' 'N'\n",
      " 'F' 'F' 'F' 'F' 'F' 'N' 'N' 'N' 'F' 'F' 'F' 'F' 'F' 'N' 'F' 'N' 'N' 'F'\n",
      " 'N' 'F' 'F' 'F' 'F' 'F' 'F' 'N' 'F' 'N' 'N' 'N' 'F' 'N' 'F' 'N' 'N' 'F'\n",
      " 'F' 'F' 'F' 'F' 'F' 'F' 'F' 'F' 'F' 'N' 'N' 'F' 'F' 'F' 'N' 'N' 'N' 'F'\n",
      " 'N' 'N' 'F' 'F' 'N' 'N' 'F' 'N' 'F' 'F' 'F' 'N' 'N' 'N' 'F' 'F' 'F' 'F'\n",
      " 'N' 'N' 'F' 'F' 'F' 'F']\n"
     ]
    }
   ],
   "source": [
    "#remove encoding\n",
    "real_predictions_B = a_encoder.inverse_transform(predictions)\n",
    "print(real_predictions_B)"
   ]
  },
  {
   "cell_type": "code",
   "execution_count": 19,
   "metadata": {},
   "outputs": [
    {
     "data": {
      "text/plain": [
       "{'F': 196, 'N': 98}"
      ]
     },
     "execution_count": 19,
     "metadata": {},
     "output_type": "execute_result"
    }
   ],
   "source": [
    "#prediction counts\n",
    "unique, counts = np.unique(real_predictions_B, return_counts=True)\n",
    "dict(zip(unique, counts))"
   ]
  },
  {
   "cell_type": "code",
   "execution_count": 20,
   "metadata": {},
   "outputs": [
    {
     "name": "stdout",
     "output_type": "stream",
     "text": [
      "['N' 'F' 'F' 'F' 'F' 'F' 'F' 'F' 'F' 'F' 'F' 'F' 'F' 'F' 'F' 'N' 'F' 'F'\n",
      " 'F' 'N' 'N' 'N' 'F' 'F' 'N' 'F' 'N' 'F' 'N' 'F' 'N' 'N' 'F' 'N' 'N' 'N'\n",
      " 'F' 'F' 'F' 'N' 'F' 'N' 'F' 'F' 'F' 'N' 'F' 'N' 'N' 'N' 'F' 'F' 'N' 'N'\n",
      " 'N' 'N' 'N' 'N' 'N' 'F' 'F' 'F' 'F' 'N' 'F' 'N' 'N' 'N' 'N' 'F' 'F' 'N'\n",
      " 'F' 'N' 'F' 'N' 'N' 'N' 'F' 'N' 'F' 'F' 'N' 'N' 'N' 'F' 'N' 'F' 'N' 'N'\n",
      " 'F' 'N' 'F' 'N' 'N' 'F' 'N' 'F' 'N' 'N' 'N' 'F' 'N' 'N' 'N' 'F' 'N' 'N'\n",
      " 'N' 'F' 'F' 'N' 'F' 'N' 'N' 'N' 'F' 'N' 'N' 'F' 'F' 'F' 'F' 'F' 'N' 'N'\n",
      " 'N' 'F' 'N' 'N' 'N' 'N' 'N' 'N' 'F' 'F' 'N' 'N' 'F' 'F' 'F' 'F' 'F' 'F'\n",
      " 'F' 'F' 'F' 'F' 'N' 'F' 'F' 'F' 'F' 'F' 'N' 'N' 'F' 'F' 'N' 'F' 'N' 'N'\n",
      " 'F' 'N' 'F' 'N' 'N' 'F' 'N' 'N' 'F' 'F' 'F' 'F' 'N' 'N' 'N' 'F' 'F' 'N'\n",
      " 'N' 'F' 'N' 'F' 'N' 'F' 'F' 'F' 'F' 'F' 'F' 'N' 'F' 'F' 'F' 'F' 'F' 'F'\n",
      " 'F' 'F' 'F' 'N' 'F' 'F' 'N' 'N' 'F' 'N' 'N' 'F' 'N' 'F' 'N' 'N' 'F' 'N'\n",
      " 'N' 'N' 'N' 'F' 'N' 'N' 'N' 'N' 'N' 'F' 'N' 'F' 'N' 'F' 'F' 'N' 'N' 'F'\n",
      " 'N' 'F' 'F' 'N' 'F' 'N' 'F' 'N' 'N' 'N' 'N' 'N' 'F' 'N' 'F' 'N' 'N' 'N'\n",
      " 'F' 'N' 'N' 'F' 'F' 'N' 'N' 'N' 'F' 'F' 'N' 'F' 'F' 'F' 'N' 'F' 'N' 'F'\n",
      " 'N' 'F' 'N' 'F' 'N' 'N' 'F' 'N' 'N' 'F' 'N' 'N' 'N' 'F' 'N' 'F' 'F' 'F'\n",
      " 'N' 'F' 'N' 'N' 'F' 'F']\n"
     ]
    }
   ],
   "source": [
    "#y_test predictions\n",
    "ytest_predictions = a_encoder.inverse_transform(y_test)\n",
    "print(ytest_predictions)"
   ]
  },
  {
   "cell_type": "code",
   "execution_count": 21,
   "metadata": {},
   "outputs": [
    {
     "data": {
      "text/plain": [
       "{'F': 148, 'N': 146}"
      ]
     },
     "execution_count": 21,
     "metadata": {},
     "output_type": "execute_result"
    }
   ],
   "source": [
    "#real count\n",
    "unique, counts = np.unique(ytest_predictions, return_counts=True)\n",
    "dict(zip(unique, counts))"
   ]
  },
  {
   "cell_type": "code",
   "execution_count": 22,
   "metadata": {},
   "outputs": [
    {
     "data": {
      "image/png": "[encoded data removed]",
      "text/plain": [
       "<Figure size 432x288 with 2 Axes>"
      ]
     },
     "metadata": {
      "needs_background": "light"
     },
     "output_type": "display_data"
    }
   ],
   "source": [
    "#confusion matrix\n",
    "matrix = confusion_matrix(ytest_predictions, real_predictions_B)\n",
    "#format confusion matrix\n",
    "ax=plt.subplot()\n",
    "sns.heatmap(matrix, annot=True, ax = ax, cmap='Blues', fmt='g');\n",
    "accuracy = np.trace(matrix) / np.sum(matrix).astype('float')\n",
    "misclass = 1 - accuracy\n",
    "ax.set_xlabel('Predicted label\\naccuracy={:0.4f}; misclass={:0.4f}'.format(accuracy, misclass));\n",
    "ax.set_ylabel('True labels'); \n",
    "ax.set_title('Confusion Matrix');\n",
    "ax.xaxis.set_ticklabels(unique); ax.yaxis.set_ticklabels(unique);"
   ]
  },
  {
   "cell_type": "code",
   "execution_count": 23,
   "metadata": {},
   "outputs": [
    {
     "name": "stdout",
     "output_type": "stream",
     "text": [
      "              precision    recall  f1-score   support\n",
      "\n",
      "           F       0.62      0.82      0.70       148\n",
      "           N       0.72      0.49      0.58       146\n",
      "\n",
      "    accuracy                           0.65       294\n",
      "   macro avg       0.67      0.65      0.64       294\n",
      "weighted avg       0.67      0.65      0.64       294\n",
      "\n"
     ]
    }
   ],
   "source": [
    "print(classification_report(ytest_predictions, real_predictions_B))"
   ]
  },
  {
   "cell_type": "code",
   "execution_count": 24,
   "metadata": {},
   "outputs": [
    {
     "name": "stdout",
     "output_type": "stream",
     "text": [
      "precision score:0.6709\n",
      "recall score:0.6519\n",
      "f1 score:0.6427\n"
     ]
    }
   ],
   "source": [
    "#macro - calculate metrics for each label, and find their unweighted mean\n",
    "pre_score = precision_score(ytest_predictions, real_predictions_B, average = \"macro\")\n",
    "print('precision score:{:0.4f}'.format(pre_score))\n",
    "recall_score_1 = recall_score(ytest_predictions, real_predictions_B, average= \"macro\")\n",
    "print('recall score:{:0.4f}'.format(recall_score_1))\n",
    "f1_score_1 = f1_score(ytest_predictions, real_predictions_B, average=\"macro\")\n",
    "print('f1 score:{:0.4f}'.format(f1_score_1))"
   ]
  },
  {
   "cell_type": "code",
   "execution_count": null,
   "metadata": {},
   "outputs": [],
   "source": []
  },
  {
   "cell_type": "code",
   "execution_count": null,
   "metadata": {},
   "outputs": [],
   "source": []
  }
 ],
 "metadata": {
  "kernelspec": {
   "display_name": "Python 3",
   "language": "python",
   "name": "python3"
  },
  "language_info": {
   "codemirror_mode": {
    "name": "ipython",
    "version": 3
   },
   "file_extension": ".py",
   "mimetype": "text/x-python",
   "name": "python",
   "nbconvert_exporter": "python",
   "pygments_lexer": "ipython3",
   "version": "3.8.3"
  }
 },
 "nbformat": 4,
 "nbformat_minor": 4
}
