{
 "cells": [
  {
   "cell_type": "code",
   "execution_count": 1,
   "metadata": {},
   "outputs": [],
   "source": [
    "#tensorboard via command-line:\n",
    "#tensorboard --logdir=where your Logs directory is"
   ]
  },
  {
   "cell_type": "code",
   "execution_count": 2,
   "metadata": {},
   "outputs": [],
   "source": [
    "#~~~~~~~~~~~~~~~~~~~~~~~~~~~~~~~~~~~~~~~~~~~~~~~~~~~~~~~~~~~~~~~~~~~~~~~~~~~~~~~~~~~~~~~~~~~~~~~~~~~~~~~#\n",
    "#What is the maximum flare class produced by an AR in the next 24hrs after a 24hr time sequence?\n",
    "#~~~~~~~~~~~~~~~~~~~~~~~~~~~~~~~~~~~~~~~~~~~~~~~~~~~~~~~~~~~~~~~~~~~~~~~~~~~~~~~~~~~~~~~~~~~~~~~~~~~~~~~#\n",
    "#feature data from - hmi.sharp_720s:::\n",
    "#http://jsoc.stanford.edu/doc/data/hmi/sharp/sharp.htm\n",
    "\n",
    "#label data from - GOES flare events:::\n",
    "#ftp://ftp.swpc.noaa.gov/pub/warehouse/\n",
    "\n",
    "#and from - GOES XRS Report:::\n",
    "#https://www.ngdc.noaa.gov/stp/space-weather/solar-data/solar-features/solar-flares/x-rays/goes/xrs/\n",
    "#~~~~~~~~~~~~~~~~~~~~~~~~~~~~~~~~~~~~~~~~~~~~~~~~~~~~~~~~~~~~~~~~~~~~~~~~~~~~~~~~~~~~~~~~~~~~~~~~~~~~~~~#\n",
    "#binary class - F for flare and N for no flare\n",
    "#multi-class - #6 flare classes: N is no flare, A is smallest, X is largest\n",
    "               #key = {'N', 'A', 'B', 'C', 'M', 'X'}\n",
    "               #['A' class flares generally not listed in official reports due to small size]\n",
    "#~~~~~~~~~~~~~~~~~~~~~~~~~~~~~~~~~~~~~~~~~~~~~~~~~~~~~~~~~~~~~~~~~~~~~~~~~~~~~~~~~~~~~~~~~~~~~~~~~~~~~~~#"
   ]
  },
  {
   "cell_type": "code",
   "execution_count": 3,
   "metadata": {},
   "outputs": [
    {
     "name": "stdout",
     "output_type": "stream",
     "text": [
      "tensorflow version: 2.3.1\n"
     ]
    }
   ],
   "source": [
    "import tensorflow as tf\n",
    "print(\"tensorflow version:\", tf.__version__) #2.3.1 used\n",
    "from tensorflow import keras\n",
    "import os\n",
    "import glob\n",
    "import shutil\n",
    "import datetime\n",
    "import numpy as np\n",
    "import pandas as pd\n",
    "import seaborn as sns\n",
    "from pathlib import Path\n",
    "from astropy.time import Time\n",
    "from matplotlib import pyplot as plt\n",
    "from sklearn.metrics import f1_score, precision_score, recall_score, classification_report, confusion_matrix\n",
    "from sklearn.metrics import plot_confusion_matrix\n",
    "from sklearn.preprocessing import LabelBinarizer\n",
    "from sklearn.model_selection import train_test_split\n",
    "from sklearn.preprocessing import MinMaxScaler\n",
    "from tensorflow.keras.layers import Dropout, Dense, SimpleRNN, LSTM, GRU, GaussianNoise\n",
    "from tensorflow.keras.models import Model, Sequential\n",
    "from tensorflow.keras.optimizers import SGD, RMSprop, Adam\n",
    "import drms #https://pypi.org/project/drms/\n",
    "#~~~~~~~~~~~~~~~~~~~~~~~~~~~~~~~~~~~~~~~~~~~~~~~~~~~~~~~~~~~~~~~~~~~~~~~~~~~~~~~~~~~~~~~~~~~~~~~~~~~~~~~#\n",
    "import Flare_Data\n",
    "import Feature_Years\n",
    "import Make_TB_Logs\n",
    "#~~~~~~~~~~~~~~~~~~~~~~~~~~~~~~~~~~~~~~~~~~~~~~~~~~~~~~~~~~~~~~~~~~~~~~~~~~~~~~~~~~~~~~~~~~~~~~~~~~~~~~~#"
   ]
  },
  {
   "cell_type": "code",
   "execution_count": 4,
   "metadata": {},
   "outputs": [
    {
     "name": "stdout",
     "output_type": "stream",
     "text": [
      "CSVs compiled.\n"
     ]
    }
   ],
   "source": [
    "Feature_Years.generate_all_feature_years()"
   ]
  },
  {
   "cell_type": "code",
   "execution_count": 5,
   "metadata": {},
   "outputs": [],
   "source": [
    "where_logs = Make_TB_Logs.make_clear_tensorboard_folder()"
   ]
  },
  {
   "cell_type": "code",
   "execution_count": 6,
   "metadata": {},
   "outputs": [
    {
     "name": "stdout",
     "output_type": "stream",
     "text": [
      "The time series starts from:  2011-01-01 00:11:26\n",
      "The time series ends on:  2016-12-31 23:47:24\n",
      "(array(['B', 'C', 'M'], dtype='<U1'), array([167, 147, 155], dtype=int64))\n"
     ]
    }
   ],
   "source": [
    "#binary = True for binary classification, binary = False for multi-class classification\n",
    "X_train, X_val, X_test, y_train, y_val, y_test, tim_steps, n_feats, count_of_classes, a_encoder = Flare_Data.getAllData(binary = False)"
   ]
  },
  {
   "cell_type": "code",
   "execution_count": 7,
   "metadata": {},
   "outputs": [
    {
     "name": "stdout",
     "output_type": "stream",
     "text": [
      "(300, 114, 20) (75, 114, 20) (94, 114, 20) (300, 3) (75, 3) (94, 3)\n"
     ]
    }
   ],
   "source": [
    "print(X_train.shape, X_val.shape, X_test.shape, y_train.shape, y_val.shape, y_test.shape)"
   ]
  },
  {
   "cell_type": "code",
   "execution_count": 8,
   "metadata": {},
   "outputs": [],
   "source": [
    "#~~~~~~~~~~~~~~~~~~~~~~~~~~~~~~~~~~~~~~~~~~~~~~~~~~~~~~~~~~~~~~~~~~~~~~~~~~~~~~~~~~~~~~~~~~~~~~~~~~~~~~~~~~~#\n",
    "#~~~~~~~~~~~~~~~~~~~~~~~~~~~~~~~~~~~~~~~~~~~~~~~~~~~~~~~~~~~~~~~~~~~~~~~~~~~~~~~~~~~~~~~~~~~~~~~~~~~~~~~~~~~#"
   ]
  },
  {
   "cell_type": "code",
   "execution_count": 9,
   "metadata": {},
   "outputs": [],
   "source": [
    "batch_size = 10\n",
    "epochs = 100\n",
    "optimizer = Adam(lr=0.0001, beta_1=0.9, beta_2=0.999, epsilon=1e-06, decay=0.0)"
   ]
  },
  {
   "cell_type": "code",
   "execution_count": 10,
   "metadata": {},
   "outputs": [],
   "source": [
    "#~~~~~~~~~~~~~~~~~~~~~~~~~~~~~~~~~~~~~~~~[SimpleRNN_4 Model]~~~~~~~~~~~~~~~~~~~~~~~~~~~~~~~~~~~~~~~~~~~~~~~~#\n",
    "#~~~~~~~~~~~~~~~~~~~~~~~~~~~~~~~~~~~~~~~~[Multi-Class]~~~~~~~~~~~~~~~~~~~~~~~~~~~~~~~~~~~~~~~~~~~~~~~~~~~~~~#\n",
    "#~~~~~~~~~~~~~~~~~~~~~~~~~~~~~~~~~~~~~~~~[Multiple Layers]~~~~~~~~~~~~~~~~~~~~~~~~~~~~~~~~~~~~~~~~~~~~~~~~~~#\n",
    "model = Sequential()\n",
    "model.add(SimpleRNN(20, return_sequences=True, input_shape=(tim_steps, n_feats)))\n",
    "model.add(GaussianNoise(0.01))\n",
    "model.add(Dropout(0.1))\n",
    "model.add(SimpleRNN(10, return_sequences=False))\n",
    "model.add(GaussianNoise(0.01))\n",
    "model.add(Dropout(0.1))\n",
    "model.add(Dense(count_of_classes, activation='softmax'))\n",
    "model.compile(loss='categorical_crossentropy', optimizer=optimizer, metrics=['categorical_accuracy'])\n",
    "#~~~~~~~~~~~~~~~~~~~~~~~~~~~~~~~~~~~~~~~~~~~~~~~~~~~~~~~~~~~~~~~~~~~~~~~~~~~~~~~~~~~~~~~~~~~~~~~~~~~~~~~~~~~#\n",
    "#~~~~~~~~~~~~~~~~~~~~~~~~~~~~~~~~~~~~~~~~~~~~~~~~~~~~~~~~~~~~~~~~~~~~~~~~~~~~~~~~~~~~~~~~~~~~~~~~~~~~~~~~~~~#"
   ]
  },
  {
   "cell_type": "code",
   "execution_count": 11,
   "metadata": {},
   "outputs": [
    {
     "name": "stdout",
     "output_type": "stream",
     "text": [
      "Model: \"sequential\"\n",
      "_________________________________________________________________\n",
      "Layer (type)                 Output Shape              Param #   \n",
      "=================================================================\n",
      "simple_rnn (SimpleRNN)       (None, 114, 20)           820       \n",
      "_________________________________________________________________\n",
      "gaussian_noise (GaussianNois (None, 114, 20)           0         \n",
      "_________________________________________________________________\n",
      "dropout (Dropout)            (None, 114, 20)           0         \n",
      "_________________________________________________________________\n",
      "simple_rnn_1 (SimpleRNN)     (None, 10)                310       \n",
      "_________________________________________________________________\n",
      "gaussian_noise_1 (GaussianNo (None, 10)                0         \n",
      "_________________________________________________________________\n",
      "dropout_1 (Dropout)          (None, 10)                0         \n",
      "_________________________________________________________________\n",
      "dense (Dense)                (None, 3)                 33        \n",
      "=================================================================\n",
      "Total params: 1,163\n",
      "Trainable params: 1,163\n",
      "Non-trainable params: 0\n",
      "_________________________________________________________________\n"
     ]
    }
   ],
   "source": [
    "model.summary()"
   ]
  },
  {
   "cell_type": "code",
   "execution_count": 12,
   "metadata": {},
   "outputs": [],
   "source": [
    "tensorboard_call = keras.callbacks.TensorBoard(log_dir=where_logs, histogram_freq=1)\n",
    "#val_loss_callback = tf.keras.callbacks.EarlyStopping(monitor='val_loss', patience=10)"
   ]
  },
  {
   "cell_type": "code",
   "execution_count": 13,
   "metadata": {},
   "outputs": [
    {
     "name": "stdout",
     "output_type": "stream",
     "text": [
      "Epoch 1/100\n",
      " 1/30 [>.............................] - ETA: 0s - loss: 1.2827 - categorical_accuracy: 0.5000WARNING:tensorflow:From C:\\ProgramData\\Anaconda3\\lib\\site-packages\\tensorflow\\python\\ops\\summary_ops_v2.py:1277: stop (from tensorflow.python.eager.profiler) is deprecated and will be removed after 2020-07-01.\n",
      "Instructions for updating:\n",
      "use `tf.profiler.experimental.stop` instead.\n",
      " 2/30 [=>............................] - ETA: 4s - loss: 1.6364 - categorical_accuracy: 0.3500WARNING:tensorflow:Callbacks method `on_train_batch_end` is slow compared to the batch time (batch time: 0.0260s vs `on_train_batch_end` time: 0.2982s). Check your callbacks.\n",
      "30/30 [==============================] - 2s 55ms/step - loss: 1.4404 - categorical_accuracy: 0.3400 - val_loss: 1.3904 - val_categorical_accuracy: 0.3600\n",
      "Epoch 2/100\n",
      "30/30 [==============================] - 1s 26ms/step - loss: 1.3037 - categorical_accuracy: 0.3100 - val_loss: 1.2430 - val_categorical_accuracy: 0.3733\n",
      "Epoch 3/100\n",
      "30/30 [==============================] - 1s 27ms/step - loss: 1.2419 - categorical_accuracy: 0.3233 - val_loss: 1.2033 - val_categorical_accuracy: 0.3200\n",
      "Epoch 4/100\n",
      "30/30 [==============================] - 1s 26ms/step - loss: 1.1866 - categorical_accuracy: 0.3533 - val_loss: 1.1999 - val_categorical_accuracy: 0.3200\n",
      "Epoch 5/100\n",
      "30/30 [==============================] - 1s 26ms/step - loss: 1.2011 - categorical_accuracy: 0.3233 - val_loss: 1.1934 - val_categorical_accuracy: 0.3333\n",
      "Epoch 6/100\n",
      "30/30 [==============================] - 1s 26ms/step - loss: 1.2147 - categorical_accuracy: 0.3000 - val_loss: 1.1854 - val_categorical_accuracy: 0.3333\n",
      "Epoch 7/100\n",
      "30/30 [==============================] - 1s 26ms/step - loss: 1.2217 - categorical_accuracy: 0.3333 - val_loss: 1.1816 - val_categorical_accuracy: 0.3200\n",
      "Epoch 8/100\n",
      "30/30 [==============================] - 1s 26ms/step - loss: 1.1928 - categorical_accuracy: 0.3067 - val_loss: 1.1778 - val_categorical_accuracy: 0.3467\n",
      "Epoch 9/100\n",
      "30/30 [==============================] - 1s 27ms/step - loss: 1.2049 - categorical_accuracy: 0.3333 - val_loss: 1.1813 - val_categorical_accuracy: 0.3467\n",
      "Epoch 10/100\n",
      "30/30 [==============================] - 1s 27ms/step - loss: 1.1957 - categorical_accuracy: 0.3100 - val_loss: 1.1787 - val_categorical_accuracy: 0.3467\n",
      "Epoch 11/100\n",
      "30/30 [==============================] - 1s 26ms/step - loss: 1.1709 - categorical_accuracy: 0.3367 - val_loss: 1.1814 - val_categorical_accuracy: 0.3467\n",
      "Epoch 12/100\n",
      "30/30 [==============================] - 1s 26ms/step - loss: 1.2001 - categorical_accuracy: 0.3433 - val_loss: 1.1828 - val_categorical_accuracy: 0.3333\n",
      "Epoch 13/100\n",
      "30/30 [==============================] - 1s 26ms/step - loss: 1.2033 - categorical_accuracy: 0.3267 - val_loss: 1.1763 - val_categorical_accuracy: 0.3600\n",
      "Epoch 14/100\n",
      "30/30 [==============================] - 1s 28ms/step - loss: 1.2101 - categorical_accuracy: 0.3133 - val_loss: 1.1698 - val_categorical_accuracy: 0.3733\n",
      "Epoch 15/100\n",
      "30/30 [==============================] - 1s 27ms/step - loss: 1.1820 - categorical_accuracy: 0.3200 - val_loss: 1.1669 - val_categorical_accuracy: 0.3733\n",
      "Epoch 16/100\n",
      "30/30 [==============================] - 1s 29ms/step - loss: 1.1651 - categorical_accuracy: 0.3400 - val_loss: 1.1683 - val_categorical_accuracy: 0.3333\n",
      "Epoch 17/100\n",
      "30/30 [==============================] - 1s 27ms/step - loss: 1.1882 - categorical_accuracy: 0.3233 - val_loss: 1.1727 - val_categorical_accuracy: 0.3200\n",
      "Epoch 18/100\n",
      "30/30 [==============================] - 1s 28ms/step - loss: 1.1992 - categorical_accuracy: 0.3167 - val_loss: 1.1777 - val_categorical_accuracy: 0.3200\n",
      "Epoch 19/100\n",
      "30/30 [==============================] - 1s 30ms/step - loss: 1.1980 - categorical_accuracy: 0.3167 - val_loss: 1.1699 - val_categorical_accuracy: 0.3333\n",
      "Epoch 20/100\n",
      "30/30 [==============================] - 1s 27ms/step - loss: 1.1574 - categorical_accuracy: 0.3567 - val_loss: 1.1684 - val_categorical_accuracy: 0.3200\n",
      "Epoch 21/100\n",
      "30/30 [==============================] - 1s 27ms/step - loss: 1.1558 - categorical_accuracy: 0.3433 - val_loss: 1.1686 - val_categorical_accuracy: 0.3200\n",
      "Epoch 22/100\n",
      "30/30 [==============================] - 1s 29ms/step - loss: 1.1781 - categorical_accuracy: 0.3167 - val_loss: 1.1696 - val_categorical_accuracy: 0.2933\n",
      "Epoch 23/100\n",
      "30/30 [==============================] - 1s 29ms/step - loss: 1.1495 - categorical_accuracy: 0.3700 - val_loss: 1.1660 - val_categorical_accuracy: 0.3333\n",
      "Epoch 24/100\n",
      "30/30 [==============================] - 1s 28ms/step - loss: 1.1574 - categorical_accuracy: 0.3267 - val_loss: 1.1606 - val_categorical_accuracy: 0.3467\n",
      "Epoch 25/100\n",
      "30/30 [==============================] - 1s 32ms/step - loss: 1.1643 - categorical_accuracy: 0.3500 - val_loss: 1.1582 - val_categorical_accuracy: 0.3333\n",
      "Epoch 26/100\n",
      "30/30 [==============================] - 1s 30ms/step - loss: 1.1688 - categorical_accuracy: 0.3200 - val_loss: 1.1587 - val_categorical_accuracy: 0.3333\n",
      "Epoch 27/100\n",
      "30/30 [==============================] - 1s 28ms/step - loss: 1.1592 - categorical_accuracy: 0.3833 - val_loss: 1.1572 - val_categorical_accuracy: 0.3200\n",
      "Epoch 28/100\n",
      "30/30 [==============================] - 1s 28ms/step - loss: 1.1729 - categorical_accuracy: 0.3267 - val_loss: 1.1586 - val_categorical_accuracy: 0.3467\n",
      "Epoch 29/100\n",
      "30/30 [==============================] - 1s 29ms/step - loss: 1.1262 - categorical_accuracy: 0.3833 - val_loss: 1.1633 - val_categorical_accuracy: 0.2933\n",
      "Epoch 30/100\n",
      "30/30 [==============================] - 1s 28ms/step - loss: 1.1954 - categorical_accuracy: 0.3133 - val_loss: 1.1615 - val_categorical_accuracy: 0.2933\n",
      "Epoch 31/100\n",
      "30/30 [==============================] - 1s 27ms/step - loss: 1.1746 - categorical_accuracy: 0.3233 - val_loss: 1.1573 - val_categorical_accuracy: 0.3200\n",
      "Epoch 32/100\n",
      "30/30 [==============================] - 1s 27ms/step - loss: 1.1823 - categorical_accuracy: 0.3367 - val_loss: 1.1660 - val_categorical_accuracy: 0.3067\n",
      "Epoch 33/100\n",
      "30/30 [==============================] - 1s 28ms/step - loss: 1.1484 - categorical_accuracy: 0.3667 - val_loss: 1.1651 - val_categorical_accuracy: 0.3067\n",
      "Epoch 34/100\n",
      "30/30 [==============================] - 1s 32ms/step - loss: 1.1496 - categorical_accuracy: 0.3433 - val_loss: 1.1696 - val_categorical_accuracy: 0.2933\n",
      "Epoch 35/100\n",
      "30/30 [==============================] - 1s 32ms/step - loss: 1.1477 - categorical_accuracy: 0.3500 - val_loss: 1.1646 - val_categorical_accuracy: 0.3067\n",
      "Epoch 36/100\n",
      "30/30 [==============================] - 1s 27ms/step - loss: 1.1360 - categorical_accuracy: 0.3567 - val_loss: 1.1694 - val_categorical_accuracy: 0.3067\n",
      "Epoch 37/100\n",
      "30/30 [==============================] - 1s 31ms/step - loss: 1.1409 - categorical_accuracy: 0.3533 - val_loss: 1.1643 - val_categorical_accuracy: 0.2933\n",
      "Epoch 38/100\n",
      "30/30 [==============================] - 1s 30ms/step - loss: 1.1496 - categorical_accuracy: 0.3400 - val_loss: 1.1620 - val_categorical_accuracy: 0.3067\n",
      "Epoch 39/100\n",
      "30/30 [==============================] - 1s 34ms/step - loss: 1.1425 - categorical_accuracy: 0.3700 - val_loss: 1.1562 - val_categorical_accuracy: 0.3200\n",
      "Epoch 40/100\n",
      "30/30 [==============================] - 1s 33ms/step - loss: 1.1426 - categorical_accuracy: 0.3467 - val_loss: 1.1605 - val_categorical_accuracy: 0.3067\n",
      "Epoch 41/100\n",
      "30/30 [==============================] - 1s 34ms/step - loss: 1.1726 - categorical_accuracy: 0.3233 - val_loss: 1.1627 - val_categorical_accuracy: 0.2933\n",
      "Epoch 42/100\n",
      "30/30 [==============================] - 1s 34ms/step - loss: 1.1432 - categorical_accuracy: 0.3667 - val_loss: 1.1638 - val_categorical_accuracy: 0.2933\n",
      "Epoch 43/100\n",
      "30/30 [==============================] - 1s 34ms/step - loss: 1.1387 - categorical_accuracy: 0.3433 - val_loss: 1.1654 - val_categorical_accuracy: 0.2933\n",
      "Epoch 44/100\n",
      "30/30 [==============================] - 1s 29ms/step - loss: 1.1360 - categorical_accuracy: 0.3600 - val_loss: 1.1639 - val_categorical_accuracy: 0.3067\n",
      "Epoch 45/100\n",
      "30/30 [==============================] - 1s 31ms/step - loss: 1.1668 - categorical_accuracy: 0.3133 - val_loss: 1.1572 - val_categorical_accuracy: 0.3067\n",
      "Epoch 46/100\n"
     ]
    },
    {
     "name": "stdout",
     "output_type": "stream",
     "text": [
      "30/30 [==============================] - 1s 35ms/step - loss: 1.1506 - categorical_accuracy: 0.3567 - val_loss: 1.1576 - val_categorical_accuracy: 0.2933\n",
      "Epoch 47/100\n",
      "30/30 [==============================] - 1s 31ms/step - loss: 1.1310 - categorical_accuracy: 0.3200 - val_loss: 1.1482 - val_categorical_accuracy: 0.2800\n",
      "Epoch 48/100\n",
      "30/30 [==============================] - 1s 33ms/step - loss: 1.1413 - categorical_accuracy: 0.3400 - val_loss: 1.1502 - val_categorical_accuracy: 0.3067\n",
      "Epoch 49/100\n",
      "30/30 [==============================] - 1s 33ms/step - loss: 1.1364 - categorical_accuracy: 0.3833 - val_loss: 1.1496 - val_categorical_accuracy: 0.2933\n",
      "Epoch 50/100\n",
      "30/30 [==============================] - 1s 38ms/step - loss: 1.1441 - categorical_accuracy: 0.3833 - val_loss: 1.1655 - val_categorical_accuracy: 0.3200\n",
      "Epoch 51/100\n",
      "30/30 [==============================] - 1s 32ms/step - loss: 1.1209 - categorical_accuracy: 0.3800 - val_loss: 1.1626 - val_categorical_accuracy: 0.2933\n",
      "Epoch 52/100\n",
      "30/30 [==============================] - 1s 36ms/step - loss: 1.1154 - categorical_accuracy: 0.3900 - val_loss: 1.1594 - val_categorical_accuracy: 0.2800\n",
      "Epoch 53/100\n",
      "30/30 [==============================] - 1s 34ms/step - loss: 1.1532 - categorical_accuracy: 0.3267 - val_loss: 1.1612 - val_categorical_accuracy: 0.2800\n",
      "Epoch 54/100\n",
      "30/30 [==============================] - 1s 35ms/step - loss: 1.0980 - categorical_accuracy: 0.4067 - val_loss: 1.1590 - val_categorical_accuracy: 0.2933\n",
      "Epoch 55/100\n",
      "30/30 [==============================] - 1s 34ms/step - loss: 1.1305 - categorical_accuracy: 0.3467 - val_loss: 1.1657 - val_categorical_accuracy: 0.3067\n",
      "Epoch 56/100\n",
      "30/30 [==============================] - 1s 34ms/step - loss: 1.1505 - categorical_accuracy: 0.3800 - val_loss: 1.1608 - val_categorical_accuracy: 0.2800\n",
      "Epoch 57/100\n",
      "30/30 [==============================] - 1s 39ms/step - loss: 1.1070 - categorical_accuracy: 0.3933 - val_loss: 1.1593 - val_categorical_accuracy: 0.2667\n",
      "Epoch 58/100\n",
      "30/30 [==============================] - 1s 33ms/step - loss: 1.1198 - categorical_accuracy: 0.3767 - val_loss: 1.1574 - val_categorical_accuracy: 0.2933\n",
      "Epoch 59/100\n",
      "30/30 [==============================] - 1s 32ms/step - loss: 1.1553 - categorical_accuracy: 0.3833 - val_loss: 1.1635 - val_categorical_accuracy: 0.2800\n",
      "Epoch 60/100\n",
      "30/30 [==============================] - 1s 34ms/step - loss: 1.1081 - categorical_accuracy: 0.3767 - val_loss: 1.1546 - val_categorical_accuracy: 0.3067\n",
      "Epoch 61/100\n",
      "30/30 [==============================] - 1s 35ms/step - loss: 1.1411 - categorical_accuracy: 0.3700 - val_loss: 1.1540 - val_categorical_accuracy: 0.3067\n",
      "Epoch 62/100\n",
      "30/30 [==============================] - 1s 33ms/step - loss: 1.1254 - categorical_accuracy: 0.3867 - val_loss: 1.1646 - val_categorical_accuracy: 0.2800\n",
      "Epoch 63/100\n",
      "30/30 [==============================] - 1s 36ms/step - loss: 1.1425 - categorical_accuracy: 0.3833 - val_loss: 1.1582 - val_categorical_accuracy: 0.3200\n",
      "Epoch 64/100\n",
      "30/30 [==============================] - 1s 34ms/step - loss: 1.1156 - categorical_accuracy: 0.3933 - val_loss: 1.1617 - val_categorical_accuracy: 0.3067\n",
      "Epoch 65/100\n",
      "30/30 [==============================] - 1s 31ms/step - loss: 1.1035 - categorical_accuracy: 0.4233 - val_loss: 1.1693 - val_categorical_accuracy: 0.2933\n",
      "Epoch 66/100\n",
      "30/30 [==============================] - 1s 33ms/step - loss: 1.0783 - categorical_accuracy: 0.4333 - val_loss: 1.1670 - val_categorical_accuracy: 0.3067\n",
      "Epoch 67/100\n",
      "30/30 [==============================] - 1s 38ms/step - loss: 1.0982 - categorical_accuracy: 0.4233 - val_loss: 1.1620 - val_categorical_accuracy: 0.3200\n",
      "Epoch 68/100\n",
      "30/30 [==============================] - 1s 35ms/step - loss: 1.1141 - categorical_accuracy: 0.4167 - val_loss: 1.1601 - val_categorical_accuracy: 0.3067\n",
      "Epoch 69/100\n",
      "30/30 [==============================] - 1s 33ms/step - loss: 1.1400 - categorical_accuracy: 0.3400 - val_loss: 1.1616 - val_categorical_accuracy: 0.3067\n",
      "Epoch 70/100\n",
      "30/30 [==============================] - 1s 35ms/step - loss: 1.1266 - categorical_accuracy: 0.3433 - val_loss: 1.1680 - val_categorical_accuracy: 0.2933\n",
      "Epoch 71/100\n",
      "30/30 [==============================] - 1s 33ms/step - loss: 1.1394 - categorical_accuracy: 0.4100 - val_loss: 1.1722 - val_categorical_accuracy: 0.2667\n",
      "Epoch 72/100\n",
      "30/30 [==============================] - 1s 34ms/step - loss: 1.1173 - categorical_accuracy: 0.3667 - val_loss: 1.1770 - val_categorical_accuracy: 0.2800\n",
      "Epoch 73/100\n",
      "30/30 [==============================] - 1s 36ms/step - loss: 1.1005 - categorical_accuracy: 0.3767 - val_loss: 1.1742 - val_categorical_accuracy: 0.2667\n",
      "Epoch 74/100\n",
      "30/30 [==============================] - 1s 31ms/step - loss: 1.0829 - categorical_accuracy: 0.4500 - val_loss: 1.1730 - val_categorical_accuracy: 0.2933\n",
      "Epoch 75/100\n",
      "30/30 [==============================] - 1s 34ms/step - loss: 1.1398 - categorical_accuracy: 0.4100 - val_loss: 1.1777 - val_categorical_accuracy: 0.2800\n",
      "Epoch 76/100\n",
      "30/30 [==============================] - 1s 28ms/step - loss: 1.0986 - categorical_accuracy: 0.4367 - val_loss: 1.1781 - val_categorical_accuracy: 0.2933\n",
      "Epoch 77/100\n",
      "30/30 [==============================] - 1s 34ms/step - loss: 1.1032 - categorical_accuracy: 0.4100 - val_loss: 1.1752 - val_categorical_accuracy: 0.2800\n",
      "Epoch 78/100\n",
      "30/30 [==============================] - 1s 33ms/step - loss: 1.0894 - categorical_accuracy: 0.3933 - val_loss: 1.1783 - val_categorical_accuracy: 0.2533\n",
      "Epoch 79/100\n",
      "30/30 [==============================] - 1s 31ms/step - loss: 1.1189 - categorical_accuracy: 0.3667 - val_loss: 1.1685 - val_categorical_accuracy: 0.3067\n",
      "Epoch 80/100\n",
      "30/30 [==============================] - 1s 36ms/step - loss: 1.1036 - categorical_accuracy: 0.4100 - val_loss: 1.1722 - val_categorical_accuracy: 0.2933\n",
      "Epoch 81/100\n",
      "30/30 [==============================] - 1s 34ms/step - loss: 1.1180 - categorical_accuracy: 0.4100 - val_loss: 1.1749 - val_categorical_accuracy: 0.2667\n",
      "Epoch 82/100\n",
      "30/30 [==============================] - 1s 35ms/step - loss: 1.1097 - categorical_accuracy: 0.4033 - val_loss: 1.1715 - val_categorical_accuracy: 0.2933\n",
      "Epoch 83/100\n",
      "30/30 [==============================] - 1s 33ms/step - loss: 1.1180 - categorical_accuracy: 0.4200 - val_loss: 1.1719 - val_categorical_accuracy: 0.2933\n",
      "Epoch 84/100\n",
      "30/30 [==============================] - 1s 30ms/step - loss: 1.0953 - categorical_accuracy: 0.4200 - val_loss: 1.1703 - val_categorical_accuracy: 0.2667\n",
      "Epoch 85/100\n",
      "30/30 [==============================] - 1s 37ms/step - loss: 1.0742 - categorical_accuracy: 0.4200 - val_loss: 1.1690 - val_categorical_accuracy: 0.2800\n",
      "Epoch 86/100\n",
      "30/30 [==============================] - 1s 35ms/step - loss: 1.1038 - categorical_accuracy: 0.3800 - val_loss: 1.1787 - val_categorical_accuracy: 0.2400\n",
      "Epoch 87/100\n",
      "30/30 [==============================] - 1s 31ms/step - loss: 1.0888 - categorical_accuracy: 0.4000 - val_loss: 1.1799 - val_categorical_accuracy: 0.2267\n",
      "Epoch 88/100\n",
      "30/30 [==============================] - 1s 30ms/step - loss: 1.0762 - categorical_accuracy: 0.4500 - val_loss: 1.1876 - val_categorical_accuracy: 0.2533\n",
      "Epoch 89/100\n",
      "30/30 [==============================] - 1s 36ms/step - loss: 1.1007 - categorical_accuracy: 0.4300 - val_loss: 1.1742 - val_categorical_accuracy: 0.2800\n",
      "Epoch 90/100\n",
      "30/30 [==============================] - 1s 32ms/step - loss: 1.0909 - categorical_accuracy: 0.4267 - val_loss: 1.1821 - val_categorical_accuracy: 0.2933\n",
      "Epoch 91/100\n",
      "30/30 [==============================] - 1s 33ms/step - loss: 1.0712 - categorical_accuracy: 0.4333 - val_loss: 1.1769 - val_categorical_accuracy: 0.2800\n",
      "Epoch 92/100\n",
      "30/30 [==============================] - 1s 33ms/step - loss: 1.0900 - categorical_accuracy: 0.4000 - val_loss: 1.1833 - val_categorical_accuracy: 0.2933\n",
      "Epoch 93/100\n",
      "30/30 [==============================] - 1s 32ms/step - loss: 1.0985 - categorical_accuracy: 0.3867 - val_loss: 1.1901 - val_categorical_accuracy: 0.2533\n",
      "Epoch 94/100\n",
      "30/30 [==============================] - 1s 37ms/step - loss: 1.0669 - categorical_accuracy: 0.4300 - val_loss: 1.1882 - val_categorical_accuracy: 0.2933\n",
      "Epoch 95/100\n"
     ]
    },
    {
     "name": "stdout",
     "output_type": "stream",
     "text": [
      "30/30 [==============================] - 1s 34ms/step - loss: 1.1089 - categorical_accuracy: 0.4000 - val_loss: 1.1741 - val_categorical_accuracy: 0.2933\n",
      "Epoch 96/100\n",
      "30/30 [==============================] - 1s 34ms/step - loss: 1.1080 - categorical_accuracy: 0.4133 - val_loss: 1.1823 - val_categorical_accuracy: 0.2800\n",
      "Epoch 97/100\n",
      "30/30 [==============================] - 1s 35ms/step - loss: 1.0974 - categorical_accuracy: 0.4133 - val_loss: 1.1888 - val_categorical_accuracy: 0.2667\n",
      "Epoch 98/100\n",
      "30/30 [==============================] - 1s 35ms/step - loss: 1.0829 - categorical_accuracy: 0.4133 - val_loss: 1.1913 - val_categorical_accuracy: 0.2800\n",
      "Epoch 99/100\n",
      "30/30 [==============================] - 1s 33ms/step - loss: 1.0620 - categorical_accuracy: 0.4767 - val_loss: 1.1958 - val_categorical_accuracy: 0.2533\n",
      "Epoch 100/100\n",
      "30/30 [==============================] - 1s 37ms/step - loss: 1.0787 - categorical_accuracy: 0.4300 - val_loss: 1.1964 - val_categorical_accuracy: 0.2533\n"
     ]
    }
   ],
   "source": [
    "history = model.fit(X_train, y_train, \n",
    "                    batch_size=batch_size, \n",
    "                    epochs=epochs, \n",
    "                    validation_data=(X_val, y_val), \n",
    "                    verbose=1, \n",
    "                    callbacks=[tensorboard_call]) #, val_loss_callback])"
   ]
  },
  {
   "cell_type": "code",
   "execution_count": 14,
   "metadata": {},
   "outputs": [
    {
     "name": "stdout",
     "output_type": "stream",
     "text": [
      "94/94 [==============================] - 1s 10ms/step - loss: 1.0796 - categorical_accuracy: 0.3936\n",
      "test loss, test acc: [1.0795708894729614, 0.39361703395843506]\n"
     ]
    }
   ],
   "source": [
    "#evaluate model on test set\n",
    "results = model.evaluate(X_test, y_test, batch_size=1, verbose=1)\n",
    "print(\"test loss, test acc:\", results)"
   ]
  },
  {
   "cell_type": "code",
   "execution_count": 15,
   "metadata": {},
   "outputs": [
    {
     "data": {
      "image/png": "[encoded data removed]",
      "text/plain": [
       "<Figure size 432x288 with 1 Axes>"
      ]
     },
     "metadata": {
      "needs_background": "light"
     },
     "output_type": "display_data"
    }
   ],
   "source": [
    "#summarize history for accuracy\n",
    "plt.plot(history.history[(list(history.history.keys())[1])])\n",
    "plt.plot(history.history[(list(history.history.keys())[3])])\n",
    "plt.title('model accuracy')\n",
    "plt.ylabel('accuracy')\n",
    "plt.xlabel('epoch')\n",
    "plt.legend(['train', 'val'], loc='upper left')\n",
    "plt.show()"
   ]
  },
  {
   "cell_type": "code",
   "execution_count": 16,
   "metadata": {},
   "outputs": [
    {
     "data": {
      "image/png": "[encoded data removed]",
      "text/plain": [
       "<Figure size 432x288 with 1 Axes>"
      ]
     },
     "metadata": {
      "needs_background": "light"
     },
     "output_type": "display_data"
    }
   ],
   "source": [
    "#summarize history for loss\n",
    "plt.plot(history.history[(list(history.history.keys())[0])])\n",
    "plt.plot(history.history[(list(history.history.keys())[2])])\n",
    "plt.title('model loss')\n",
    "plt.ylabel('loss')\n",
    "plt.xlabel('epoch')\n",
    "plt.legend(['train', 'val'], loc='upper left')\n",
    "plt.show()"
   ]
  },
  {
   "cell_type": "code",
   "execution_count": 17,
   "metadata": {},
   "outputs": [
    {
     "name": "stdout",
     "output_type": "stream",
     "text": [
      "predictions: [[0.24114835 0.49435335 0.26449826]\n",
      " [0.28595042 0.4837991  0.23025051]\n",
      " [0.42110607 0.16636485 0.41252908]\n",
      " [0.3891932  0.26139402 0.34941283]\n",
      " [0.1763792  0.35432175 0.46929905]\n",
      " [0.3840568  0.25070846 0.3652347 ]\n",
      " [0.2772783  0.31277436 0.40994734]\n",
      " [0.41590765 0.32643002 0.25766236]\n",
      " [0.46875316 0.18101303 0.35023376]\n",
      " [0.20361283 0.62433106 0.17205615]\n",
      " [0.34755066 0.39151126 0.26093814]\n",
      " [0.6773572  0.16587116 0.15677169]\n",
      " [0.37124786 0.22361329 0.40513885]\n",
      " [0.35453957 0.25518873 0.39027172]\n",
      " [0.26953202 0.45600075 0.27446717]\n",
      " [0.53848726 0.35413334 0.10737941]\n",
      " [0.23319995 0.48935091 0.2774491 ]\n",
      " [0.32801807 0.37585744 0.29612455]\n",
      " [0.46920383 0.20703244 0.3237638 ]\n",
      " [0.50036985 0.36838382 0.13124636]\n",
      " [0.24995339 0.46694952 0.2830971 ]\n",
      " [0.2932979  0.42682227 0.2798799 ]\n",
      " [0.33675545 0.39628834 0.26695618]\n",
      " [0.21536104 0.30442867 0.48021033]\n",
      " [0.34884393 0.19186866 0.45928746]\n",
      " [0.40091187 0.16897063 0.43011743]\n",
      " [0.33621192 0.27603275 0.38775536]\n",
      " [0.23962718 0.46997234 0.2904005 ]\n",
      " [0.19771352 0.44008407 0.36220244]\n",
      " [0.3362292  0.3320556  0.3317152 ]\n",
      " [0.3026806  0.4180081  0.27931133]\n",
      " [0.36839455 0.3420286  0.28957686]\n",
      " [0.28597695 0.2781674  0.43585563]\n",
      " [0.29954556 0.48877996 0.21167448]\n",
      " [0.2818926  0.37773815 0.34036922]\n",
      " [0.2290136  0.47495535 0.2960311 ]\n",
      " [0.517001   0.18563436 0.29736465]\n",
      " [0.31483695 0.33440334 0.35075969]\n",
      " [0.37145588 0.33211    0.2964341 ]\n",
      " [0.25651506 0.492292   0.25119293]\n",
      " [0.23828287 0.30995703 0.4517601 ]\n",
      " [0.44714716 0.25068498 0.30216777]\n",
      " [0.24421716 0.4335541  0.32222867]\n",
      " [0.29832715 0.3105652  0.39110768]\n",
      " [0.27493116 0.34416685 0.38090193]\n",
      " [0.5703432  0.2545825  0.17507432]\n",
      " [0.29127374 0.4196042  0.28912207]\n",
      " [0.24883658 0.302075   0.44908848]\n",
      " [0.31062463 0.30113128 0.38824406]\n",
      " [0.24871442 0.44902453 0.3022611 ]\n",
      " [0.21360828 0.22903082 0.5573609 ]\n",
      " [0.36298233 0.34535417 0.2916635 ]\n",
      " [0.5554163  0.20190485 0.24267882]\n",
      " [0.31898147 0.36191303 0.3191056 ]\n",
      " [0.33183098 0.3515337  0.31663534]\n",
      " [0.33114806 0.17354877 0.49530315]\n",
      " [0.34274524 0.41664132 0.24061346]\n",
      " [0.59072405 0.19055176 0.21872413]\n",
      " [0.40208054 0.30434865 0.29357082]\n",
      " [0.2863787  0.36225805 0.3513633 ]\n",
      " [0.29336134 0.27922913 0.4274095 ]\n",
      " [0.33611575 0.28888372 0.37500054]\n",
      " [0.29022968 0.4273862  0.28238416]\n",
      " [0.29916716 0.35918066 0.34165227]\n",
      " [0.24905325 0.42364132 0.32730553]\n",
      " [0.3840023  0.3978035  0.21819419]\n",
      " [0.35282353 0.35196558 0.29521084]\n",
      " [0.3165017  0.3266253  0.35687304]\n",
      " [0.35035515 0.2862027  0.36344215]\n",
      " [0.34441003 0.38976297 0.26582697]\n",
      " [0.25972295 0.37674367 0.36353335]\n",
      " [0.45785818 0.34331995 0.19882193]\n",
      " [0.5339086  0.15101531 0.31507602]\n",
      " [0.24477226 0.35199043 0.40323728]\n",
      " [0.20062457 0.29106772 0.50830775]\n",
      " [0.463513   0.30835083 0.22813621]\n",
      " [0.4021896  0.2372911  0.36051932]\n",
      " [0.22502205 0.4069736  0.36800432]\n",
      " [0.29198304 0.5023253  0.2056917 ]\n",
      " [0.36340618 0.3409878  0.29560608]\n",
      " [0.45807433 0.19832014 0.34360558]\n",
      " [0.25984314 0.44878104 0.29137576]\n",
      " [0.2897083  0.34656328 0.36372837]\n",
      " [0.42741302 0.2161037  0.35648334]\n",
      " [0.37591556 0.25236443 0.37172008]\n",
      " [0.39322    0.37112662 0.23565343]\n",
      " [0.3693332  0.33339483 0.29727197]\n",
      " [0.3026974  0.2690052  0.4282974 ]\n",
      " [0.36177772 0.29722613 0.34099615]\n",
      " [0.3205847  0.28652218 0.39289314]\n",
      " [0.4476317  0.31489676 0.23747157]\n",
      " [0.42504922 0.23890638 0.33604443]\n",
      " [0.29052508 0.37189907 0.33757594]\n",
      " [0.43706864 0.22934802 0.33358327]]\n"
     ]
    }
   ],
   "source": [
    "#generate predictions\n",
    "predictions = model.predict(X_test)\n",
    "print(\"predictions:\", predictions)"
   ]
  },
  {
   "cell_type": "code",
   "execution_count": 18,
   "metadata": {},
   "outputs": [
    {
     "name": "stdout",
     "output_type": "stream",
     "text": [
      "['C' 'C' 'B' 'B' 'M' 'B' 'M' 'B' 'B' 'C' 'C' 'B' 'M' 'M' 'C' 'B' 'C' 'C'\n",
      " 'B' 'B' 'C' 'C' 'C' 'M' 'M' 'M' 'M' 'C' 'C' 'B' 'C' 'B' 'M' 'C' 'C' 'C'\n",
      " 'B' 'M' 'B' 'C' 'M' 'B' 'C' 'M' 'M' 'B' 'C' 'M' 'M' 'C' 'M' 'B' 'B' 'C'\n",
      " 'C' 'M' 'C' 'B' 'B' 'C' 'M' 'M' 'C' 'C' 'C' 'C' 'B' 'M' 'M' 'C' 'C' 'B'\n",
      " 'B' 'M' 'M' 'B' 'B' 'C' 'C' 'B' 'B' 'C' 'M' 'B' 'B' 'B' 'B' 'M' 'B' 'M'\n",
      " 'B' 'B' 'C' 'B']\n"
     ]
    }
   ],
   "source": [
    "#remove encoding\n",
    "real_predictions_B = a_encoder.inverse_transform(predictions)\n",
    "print(real_predictions_B)"
   ]
  },
  {
   "cell_type": "code",
   "execution_count": 19,
   "metadata": {},
   "outputs": [
    {
     "data": {
      "text/plain": [
       "{'B': 34, 'C': 34, 'M': 26}"
      ]
     },
     "execution_count": 19,
     "metadata": {},
     "output_type": "execute_result"
    }
   ],
   "source": [
    "#prediction counts\n",
    "unique, counts = np.unique(real_predictions_B, return_counts=True)\n",
    "dict(zip(unique, counts))"
   ]
  },
  {
   "cell_type": "code",
   "execution_count": 20,
   "metadata": {},
   "outputs": [
    {
     "name": "stdout",
     "output_type": "stream",
     "text": [
      "['C' 'C' 'C' 'M' 'B' 'M' 'B' 'C' 'B' 'M' 'B' 'B' 'M' 'M' 'C' 'C' 'B' 'B'\n",
      " 'C' 'B' 'M' 'C' 'B' 'M' 'B' 'B' 'C' 'C' 'M' 'B' 'B' 'M' 'M' 'C' 'M' 'M'\n",
      " 'M' 'M' 'M' 'M' 'B' 'B' 'B' 'B' 'C' 'B' 'M' 'B' 'M' 'C' 'B' 'M' 'B' 'C'\n",
      " 'C' 'M' 'C' 'C' 'C' 'B' 'M' 'C' 'B' 'M' 'C' 'B' 'B' 'M' 'M' 'M' 'B' 'C'\n",
      " 'B' 'C' 'M' 'C' 'C' 'C' 'C' 'B' 'M' 'M' 'B' 'B' 'C' 'M' 'C' 'C' 'M' 'B'\n",
      " 'B' 'B' 'B' 'M']\n"
     ]
    }
   ],
   "source": [
    "#y_test predictions\n",
    "ytest_predictions = a_encoder.inverse_transform(y_test)\n",
    "print(ytest_predictions)"
   ]
  },
  {
   "cell_type": "code",
   "execution_count": 21,
   "metadata": {},
   "outputs": [
    {
     "data": {
      "text/plain": [
       "{'B': 34, 'C': 29, 'M': 31}"
      ]
     },
     "execution_count": 21,
     "metadata": {},
     "output_type": "execute_result"
    }
   ],
   "source": [
    "#real count\n",
    "unique, counts = np.unique(ytest_predictions, return_counts=True)\n",
    "dict(zip(unique, counts))"
   ]
  },
  {
   "cell_type": "code",
   "execution_count": 22,
   "metadata": {},
   "outputs": [
    {
     "data": {
      "image/png": "[encoded data removed]",
      "text/plain": [
       "<Figure size 432x288 with 2 Axes>"
      ]
     },
     "metadata": {
      "needs_background": "light"
     },
     "output_type": "display_data"
    }
   ],
   "source": [
    "#confusion matrix\n",
    "matrix = confusion_matrix(ytest_predictions, real_predictions_B)\n",
    "#format confusion matrix\n",
    "ax=plt.subplot()\n",
    "sns.heatmap(matrix, annot=True, ax = ax, cmap='Oranges', fmt='g');\n",
    "accuracy = np.trace(matrix) / np.sum(matrix).astype('float')\n",
    "misclass = 1 - accuracy\n",
    "ax.set_xlabel('Predicted label\\naccuracy={:0.4f}; misclass={:0.4f}'.format(accuracy, misclass));\n",
    "ax.set_ylabel('True labels'); \n",
    "ax.set_title('Confusion Matrix');\n",
    "ax.xaxis.set_ticklabels(unique); ax.yaxis.set_ticklabels(unique);"
   ]
  },
  {
   "cell_type": "code",
   "execution_count": 23,
   "metadata": {},
   "outputs": [
    {
     "name": "stdout",
     "output_type": "stream",
     "text": [
      "              precision    recall  f1-score   support\n",
      "\n",
      "           B       0.38      0.38      0.38        34\n",
      "           C       0.38      0.45      0.41        29\n",
      "           M       0.42      0.35      0.39        31\n",
      "\n",
      "    accuracy                           0.39        94\n",
      "   macro avg       0.40      0.40      0.39        94\n",
      "weighted avg       0.40      0.39      0.39        94\n",
      "\n"
     ]
    }
   ],
   "source": [
    "print(classification_report(ytest_predictions, real_predictions_B))"
   ]
  },
  {
   "cell_type": "code",
   "execution_count": 24,
   "metadata": {},
   "outputs": [
    {
     "name": "stdout",
     "output_type": "stream",
     "text": [
      "precision score:0.3959\n",
      "recall score:0.3952\n",
      "f1 score:0.3937\n"
     ]
    }
   ],
   "source": [
    "#macro - calculate metrics for each label, and find their unweighted mean\n",
    "pre_score = precision_score(ytest_predictions, real_predictions_B, average = \"macro\")\n",
    "print('precision score:{:0.4f}'.format(pre_score))\n",
    "recall_score_1 = recall_score(ytest_predictions, real_predictions_B, average= \"macro\")\n",
    "print('recall score:{:0.4f}'.format(recall_score_1))\n",
    "f1_score_1 = f1_score(ytest_predictions, real_predictions_B, average=\"macro\")\n",
    "print('f1 score:{:0.4f}'.format(f1_score_1))"
   ]
  }
 ],
 "metadata": {
  "kernelspec": {
   "display_name": "Python 3",
   "language": "python",
   "name": "python3"
  },
  "language_info": {
   "codemirror_mode": {
    "name": "ipython",
    "version": 3
   },
   "file_extension": ".py",
   "mimetype": "text/x-python",
   "name": "python",
   "nbconvert_exporter": "python",
   "pygments_lexer": "ipython3",
   "version": "3.8.3"
  }
 },
 "nbformat": 4,
 "nbformat_minor": 4
}
