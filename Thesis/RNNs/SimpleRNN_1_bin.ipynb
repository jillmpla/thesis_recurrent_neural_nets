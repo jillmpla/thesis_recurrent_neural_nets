{
 "cells": [
  {
   "cell_type": "code",
   "execution_count": 1,
   "metadata": {},
   "outputs": [],
   "source": [
    "#tensorboard via command-line:\n",
    "#tensorboard --logdir=where your Logs directory is"
   ]
  },
  {
   "cell_type": "code",
   "execution_count": 2,
   "metadata": {},
   "outputs": [],
   "source": [
    "#~~~~~~~~~~~~~~~~~~~~~~~~~~~~~~~~~~~~~~~~~~~~~~~~~~~~~~~~~~~~~~~~~~~~~~~~~~~~~~~~~~~~~~~~~~~~~~~~~~~~~~~#\n",
    "#What is the maximum flare class produced by an AR in the next 24hrs after a 24hr time sequence?\n",
    "#~~~~~~~~~~~~~~~~~~~~~~~~~~~~~~~~~~~~~~~~~~~~~~~~~~~~~~~~~~~~~~~~~~~~~~~~~~~~~~~~~~~~~~~~~~~~~~~~~~~~~~~#\n",
    "#feature data from - hmi.sharp_720s:::\n",
    "#http://jsoc.stanford.edu/doc/data/hmi/sharp/sharp.htm\n",
    "\n",
    "#label data from - GOES flare events:::\n",
    "#ftp://ftp.swpc.noaa.gov/pub/warehouse/\n",
    "\n",
    "#and from - GOES XRS Report:::\n",
    "#https://www.ngdc.noaa.gov/stp/space-weather/solar-data/solar-features/solar-flares/x-rays/goes/xrs/\n",
    "#~~~~~~~~~~~~~~~~~~~~~~~~~~~~~~~~~~~~~~~~~~~~~~~~~~~~~~~~~~~~~~~~~~~~~~~~~~~~~~~~~~~~~~~~~~~~~~~~~~~~~~~#\n",
    "#binary class - F for flare and N for no flare\n",
    "#multi-class - #6 flare classes: N is no flare, A is smallest, X is largest\n",
    "               #key = {'N', 'A', 'B', 'C', 'M', 'X'}\n",
    "               #['A' class flares generally not listed in official reports due to small size]\n",
    "#~~~~~~~~~~~~~~~~~~~~~~~~~~~~~~~~~~~~~~~~~~~~~~~~~~~~~~~~~~~~~~~~~~~~~~~~~~~~~~~~~~~~~~~~~~~~~~~~~~~~~~~#"
   ]
  },
  {
   "cell_type": "code",
   "execution_count": 3,
   "metadata": {},
   "outputs": [
    {
     "name": "stdout",
     "output_type": "stream",
     "text": [
      "tensorflow version: 2.3.1\n"
     ]
    }
   ],
   "source": [
    "import tensorflow as tf\n",
    "print(\"tensorflow version:\", tf.__version__) #2.3.1 used\n",
    "from tensorflow import keras\n",
    "import os\n",
    "import glob\n",
    "import shutil\n",
    "import datetime\n",
    "import numpy as np\n",
    "import pandas as pd\n",
    "import seaborn as sns\n",
    "from pathlib import Path\n",
    "from astropy.time import Time\n",
    "from matplotlib import pyplot as plt\n",
    "from sklearn.metrics import confusion_matrix\n",
    "from sklearn.metrics import plot_confusion_matrix\n",
    "from sklearn.preprocessing import LabelBinarizer\n",
    "from sklearn.model_selection import train_test_split\n",
    "from sklearn.preprocessing import MinMaxScaler\n",
    "from tensorflow.keras.layers import Dropout, Dense, Embedding, Flatten, SimpleRNN, LSTM, GRU, Bidirectional\n",
    "from tensorflow.keras.models import Model, Sequential\n",
    "from tensorflow.keras.optimizers import SGD, RMSprop, Adam\n",
    "import drms #https://pypi.org/project/drms/\n",
    "#~~~~~~~~~~~~~~~~~~~~~~~~~~~~~~~~~~~~~~~~~~~~~~~~~~~~~~~~~~~~~~~~~~~~~~~~~~~~~~~~~~~~~~~~~~~~~~~~~~~~~~~#\n",
    "import Flare_Data\n",
    "import Feature_Years\n",
    "import Make_TB_Logs\n",
    "#~~~~~~~~~~~~~~~~~~~~~~~~~~~~~~~~~~~~~~~~~~~~~~~~~~~~~~~~~~~~~~~~~~~~~~~~~~~~~~~~~~~~~~~~~~~~~~~~~~~~~~~#"
   ]
  },
  {
   "cell_type": "code",
   "execution_count": 4,
   "metadata": {},
   "outputs": [
    {
     "name": "stdout",
     "output_type": "stream",
     "text": [
      "CSVs compiled.\n"
     ]
    }
   ],
   "source": [
    "Feature_Years.generate_all_feature_years()"
   ]
  },
  {
   "cell_type": "code",
   "execution_count": 5,
   "metadata": {},
   "outputs": [],
   "source": [
    "where_logs = Make_TB_Logs.make_clear_tensorboard_folder()"
   ]
  },
  {
   "cell_type": "code",
   "execution_count": 6,
   "metadata": {},
   "outputs": [
    {
     "name": "stdout",
     "output_type": "stream",
     "text": [
      "The time series starts from:  2012-01-01 00:11:26\n",
      "The time series ends on:  2015-12-31 23:47:24\n",
      "(array(['F', 'N'], dtype='<U1'), array([564, 447], dtype=int64))\n"
     ]
    }
   ],
   "source": [
    "#binary = True for binary classification, binary = False for multi-class classification\n",
    "X_train, X_val, X_test, y_train, y_val, y_test, tim_steps, n_feats, count_of_classes, a_encoder = Flare_Data.getAllData(binary = True)"
   ]
  },
  {
   "cell_type": "code",
   "execution_count": 7,
   "metadata": {},
   "outputs": [
    {
     "name": "stdout",
     "output_type": "stream",
     "text": [
      "(404, 114, 20) (404, 114, 20) (203, 114, 20) (404, 1) (404, 1) (203, 1)\n"
     ]
    }
   ],
   "source": [
    "print(X_train.shape, X_val.shape, X_test.shape, y_train.shape, y_val.shape, y_test.shape)"
   ]
  },
  {
   "cell_type": "code",
   "execution_count": 8,
   "metadata": {},
   "outputs": [],
   "source": [
    "#~~~~~~~~~~~~~~~~~~~~~~~~~~~~~~~~~~~~~~~~~~~~~~~~~~~~~~~~~~~~~~~~~~~~~~~~~~~~~~~~~~~~~~~~~~~~~~~~~~~~~~~~~~~#\n",
    "#~~~~~~~~~~~~~~~~~~~~~~~~~~~~~~~~~~~~~~~~~~~~~~~~~~~~~~~~~~~~~~~~~~~~~~~~~~~~~~~~~~~~~~~~~~~~~~~~~~~~~~~~~~~#"
   ]
  },
  {
   "cell_type": "code",
   "execution_count": 51,
   "metadata": {},
   "outputs": [],
   "source": [
    "batch_size = 16\n",
    "epochs = 100\n",
    "optimizer = RMSprop(lr=0.001)"
   ]
  },
  {
   "cell_type": "code",
   "execution_count": 52,
   "metadata": {},
   "outputs": [],
   "source": [
    "#~~~~~~~~~~~~~~~~~~~~~~~~~~~~~~~~~~~~~~[SimpleRNN_1 Model]~~~~~~~~~~~~~~~~~~~~~~~~~~~~~~~~~~~~~~~~~~~~~~~~~~#\n",
    "#~~~~~~~~~~~~~~~~~~~~~~~~~~~~~~~~~~~~~~[Binary-Class]~~~~~~~~~~~~~~~~~~~~~~~~~~~~~~~~~~~~~~~~~~~~~~~~~~~~~~~#\n",
    "#~~~~~~~~~~~~~~~~~~~~~~~~~~~~~~~~~~~~~~[Single Layer]~~~~~~~~~~~~~~~~~~~~~~~~~~~~~~~~~~~~~~~~~~~~~~~~~~~~~~~#\n",
    "model = Sequential()\n",
<<<<<<< Updated upstream
    "model.add(Bidirectional(SimpleRNN(32,  input_shape=(tim_steps, n_feats))))\n",
=======
    "model.add(SimpleRNN(10, input_shape=(tim_steps, n_feats)))\n",
>>>>>>> Stashed changes
    "model.add(Dropout(0.2))\n",
    "model.add(Dense(1, activation='sigmoid'))\n",
    "model.compile(loss='binary_crossentropy', optimizer=optimizer, metrics=['binary_accuracy'])\n",
    "#~~~~~~~~~~~~~~~~~~~~~~~~~~~~~~~~~~~~~~~~~~~~~~~~~~~~~~~~~~~~~~~~~~~~~~~~~~~~~~~~~~~~~~~~~~~~~~~~~~~~~~~~~~~#\n",
    "#~~~~~~~~~~~~~~~~~~~~~~~~~~~~~~~~~~~~~~~~~~~~~~~~~~~~~~~~~~~~~~~~~~~~~~~~~~~~~~~~~~~~~~~~~~~~~~~~~~~~~~~~~~~#"
   ]
  },
  {
   "cell_type": "code",
   "execution_count": 53,
   "metadata": {},
   "outputs": [
    {
     "name": "stdout",
     "output_type": "stream",
     "text": [
      "Model: \"sequential_3\"\n",
      "_________________________________________________________________\n",
      "Layer (type)                 Output Shape              Param #   \n",
      "=================================================================\n",
      "simple_rnn_3 (SimpleRNN)     (None, 10)                310       \n",
      "_________________________________________________________________\n",
      "dropout_4 (Dropout)          (None, 10)                0         \n",
      "_________________________________________________________________\n",
      "dense_4 (Dense)              (None, 1)                 11        \n",
      "=================================================================\n",
      "Total params: 321\n",
      "Trainable params: 321\n",
      "Non-trainable params: 0\n",
      "_________________________________________________________________\n"
     ]
    }
   ],
   "source": [
    "tensorboard_call = keras.callbacks.TensorBoard(log_dir=where_logs, histogram_freq=1)"
   ]
  },
  {
   "cell_type": "code",
   "execution_count": 54,
   "metadata": {},
   "outputs": [],
   "source": [
    "history = model.fit(X_train, y_train, \n",
    "                    batch_size=batch_size, \n",
    "                    epochs=epochs, \n",
    "                    validation_data=(X_val, y_val), \n",
    "                    verbose=1, \n",
    "                    callbacks=[tensorboard_call])"
   ]
  },
  {
   "cell_type": "code",
   "execution_count": 55,
   "metadata": {},
   "outputs": [
    {
     "name": "stdout",
     "output_type": "stream",
     "text": [
      "Epoch 1/100\n",
      " 2/51 [>.............................] - ETA: 35s - loss: 0.6541 - binary_accuracy: 0.5625WARNING:tensorflow:Callbacks method `on_train_batch_end` is slow compared to the batch time (batch time: 0.0160s vs `on_train_batch_end` time: 1.4425s). Check your callbacks.\n",
      "51/51 [==============================] - 2s 46ms/step - loss: 0.6897 - binary_accuracy: 0.5569 - val_loss: 0.6866 - val_binary_accuracy: 0.5619\n",
      "Epoch 2/100\n",
      "51/51 [==============================] - 1s 14ms/step - loss: 0.6809 - binary_accuracy: 0.5644 - val_loss: 0.6861 - val_binary_accuracy: 0.5743\n",
      "Epoch 3/100\n",
      "51/51 [==============================] - 1s 14ms/step - loss: 0.6759 - binary_accuracy: 0.5594 - val_loss: 0.6860 - val_binary_accuracy: 0.5619\n",
      "Epoch 4/100\n",
      "51/51 [==============================] - 1s 14ms/step - loss: 0.6734 - binary_accuracy: 0.5718 - val_loss: 0.6865 - val_binary_accuracy: 0.5495\n",
      "Epoch 5/100\n",
      "51/51 [==============================] - 1s 14ms/step - loss: 0.6664 - binary_accuracy: 0.6015 - val_loss: 0.6867 - val_binary_accuracy: 0.5396\n",
      "Epoch 6/100\n",
      "51/51 [==============================] - 1s 14ms/step - loss: 0.6676 - binary_accuracy: 0.5792 - val_loss: 0.6879 - val_binary_accuracy: 0.5371\n",
      "Epoch 7/100\n",
      "51/51 [==============================] - 1s 14ms/step - loss: 0.6701 - binary_accuracy: 0.5470 - val_loss: 0.6900 - val_binary_accuracy: 0.5297\n",
      "Epoch 8/100\n",
      "51/51 [==============================] - 1s 14ms/step - loss: 0.6698 - binary_accuracy: 0.5718 - val_loss: 0.6888 - val_binary_accuracy: 0.5272\n",
      "Epoch 9/100\n",
      "51/51 [==============================] - 1s 14ms/step - loss: 0.6635 - binary_accuracy: 0.5767 - val_loss: 0.6902 - val_binary_accuracy: 0.5272\n",
      "Epoch 10/100\n",
      "51/51 [==============================] - 1s 14ms/step - loss: 0.6634 - binary_accuracy: 0.5817 - val_loss: 0.6922 - val_binary_accuracy: 0.5297\n",
      "Epoch 11/100\n",
      "51/51 [==============================] - 1s 14ms/step - loss: 0.6639 - binary_accuracy: 0.5569 - val_loss: 0.6910 - val_binary_accuracy: 0.5173\n",
      "Epoch 12/100\n",
      "51/51 [==============================] - 1s 14ms/step - loss: 0.6547 - binary_accuracy: 0.6015 - val_loss: 0.6942 - val_binary_accuracy: 0.5198\n",
      "Epoch 13/100\n",
      "51/51 [==============================] - 1s 15ms/step - loss: 0.6778 - binary_accuracy: 0.5619 - val_loss: 0.6926 - val_binary_accuracy: 0.5198\n",
      "Epoch 14/100\n",
      "51/51 [==============================] - 1s 15ms/step - loss: 0.6537 - binary_accuracy: 0.6015 - val_loss: 0.6903 - val_binary_accuracy: 0.5248\n",
      "Epoch 15/100\n",
      "51/51 [==============================] - 1s 14ms/step - loss: 0.6528 - binary_accuracy: 0.5965 - val_loss: 0.6912 - val_binary_accuracy: 0.5248\n",
      "Epoch 16/100\n",
      "51/51 [==============================] - 1s 14ms/step - loss: 0.6655 - binary_accuracy: 0.5817 - val_loss: 0.6909 - val_binary_accuracy: 0.5198\n",
      "Epoch 17/100\n",
      "51/51 [==============================] - 1s 14ms/step - loss: 0.6445 - binary_accuracy: 0.6114 - val_loss: 0.6942 - val_binary_accuracy: 0.5248\n",
      "Epoch 18/100\n",
      "51/51 [==============================] - 1s 14ms/step - loss: 0.6451 - binary_accuracy: 0.6262 - val_loss: 0.6926 - val_binary_accuracy: 0.5198\n",
      "Epoch 19/100\n",
      "51/51 [==============================] - 1s 14ms/step - loss: 0.6493 - binary_accuracy: 0.5916 - val_loss: 0.6943 - val_binary_accuracy: 0.5099\n",
      "Epoch 20/100\n",
      "51/51 [==============================] - 1s 14ms/step - loss: 0.6452 - binary_accuracy: 0.6163 - val_loss: 0.6977 - val_binary_accuracy: 0.5248\n",
      "Epoch 21/100\n",
      "51/51 [==============================] - 1s 14ms/step - loss: 0.6511 - binary_accuracy: 0.5891 - val_loss: 0.6960 - val_binary_accuracy: 0.5421\n",
      "Epoch 22/100\n",
      "51/51 [==============================] - 1s 14ms/step - loss: 0.6428 - binary_accuracy: 0.6139 - val_loss: 0.6980 - val_binary_accuracy: 0.5421\n",
      "Epoch 23/100\n",
      "51/51 [==============================] - 1s 14ms/step - loss: 0.6341 - binary_accuracy: 0.6139 - val_loss: 0.6958 - val_binary_accuracy: 0.5272\n",
      "Epoch 24/100\n",
      "51/51 [==============================] - 1s 14ms/step - loss: 0.6302 - binary_accuracy: 0.6337 - val_loss: 0.6967 - val_binary_accuracy: 0.5223\n",
      "Epoch 25/100\n",
      "51/51 [==============================] - 1s 14ms/step - loss: 0.6302 - binary_accuracy: 0.6411 - val_loss: 0.6996 - val_binary_accuracy: 0.5347\n",
      "Epoch 26/100\n",
      "51/51 [==============================] - 1s 14ms/step - loss: 0.6219 - binary_accuracy: 0.6510 - val_loss: 0.7003 - val_binary_accuracy: 0.5545\n",
      "Epoch 27/100\n",
      "51/51 [==============================] - 1s 14ms/step - loss: 0.6234 - binary_accuracy: 0.6361 - val_loss: 0.7006 - val_binary_accuracy: 0.5347\n",
      "Epoch 28/100\n",
      "51/51 [==============================] - 1s 14ms/step - loss: 0.6256 - binary_accuracy: 0.6436 - val_loss: 0.7041 - val_binary_accuracy: 0.5396\n",
      "Epoch 29/100\n",
      "51/51 [==============================] - 1s 14ms/step - loss: 0.6200 - binary_accuracy: 0.6782 - val_loss: 0.7113 - val_binary_accuracy: 0.5396\n",
      "Epoch 30/100\n",
      "51/51 [==============================] - 1s 14ms/step - loss: 0.6062 - binary_accuracy: 0.6757 - val_loss: 0.7067 - val_binary_accuracy: 0.5322\n",
      "Epoch 31/100\n",
      "51/51 [==============================] - 1s 14ms/step - loss: 0.6185 - binary_accuracy: 0.6460 - val_loss: 0.7111 - val_binary_accuracy: 0.5322\n",
      "Epoch 32/100\n",
      "51/51 [==============================] - 1s 14ms/step - loss: 0.6041 - binary_accuracy: 0.6658 - val_loss: 0.7138 - val_binary_accuracy: 0.5569\n",
      "Epoch 33/100\n",
      "51/51 [==============================] - 1s 14ms/step - loss: 0.6075 - binary_accuracy: 0.6733 - val_loss: 0.7116 - val_binary_accuracy: 0.5396\n",
      "Epoch 34/100\n",
      "51/51 [==============================] - 1s 14ms/step - loss: 0.6058 - binary_accuracy: 0.6782 - val_loss: 0.7143 - val_binary_accuracy: 0.5495\n",
      "Epoch 35/100\n",
      "51/51 [==============================] - 1s 14ms/step - loss: 0.6009 - binary_accuracy: 0.6708 - val_loss: 0.7273 - val_binary_accuracy: 0.5248\n",
      "Epoch 36/100\n",
      "51/51 [==============================] - 1s 14ms/step - loss: 0.5992 - binary_accuracy: 0.6807 - val_loss: 0.7208 - val_binary_accuracy: 0.5322\n",
      "Epoch 37/100\n",
      "51/51 [==============================] - 1s 14ms/step - loss: 0.6001 - binary_accuracy: 0.6782 - val_loss: 0.7277 - val_binary_accuracy: 0.5297\n",
      "Epoch 38/100\n",
      "51/51 [==============================] - 1s 14ms/step - loss: 0.6069 - binary_accuracy: 0.6535 - val_loss: 0.7270 - val_binary_accuracy: 0.5272\n",
      "Epoch 39/100\n",
      "51/51 [==============================] - 1s 14ms/step - loss: 0.5997 - binary_accuracy: 0.6535 - val_loss: 0.7202 - val_binary_accuracy: 0.5347\n",
      "Epoch 40/100\n",
      "51/51 [==============================] - 1s 14ms/step - loss: 0.5939 - binary_accuracy: 0.6832 - val_loss: 0.7202 - val_binary_accuracy: 0.5495\n",
      "Epoch 41/100\n",
      "51/51 [==============================] - 1s 14ms/step - loss: 0.5958 - binary_accuracy: 0.6757 - val_loss: 0.7290 - val_binary_accuracy: 0.5347\n",
      "Epoch 42/100\n",
      "51/51 [==============================] - 1s 14ms/step - loss: 0.5946 - binary_accuracy: 0.7153 - val_loss: 0.7218 - val_binary_accuracy: 0.5421\n",
      "Epoch 43/100\n",
      "51/51 [==============================] - 1s 15ms/step - loss: 0.5982 - binary_accuracy: 0.6906 - val_loss: 0.7292 - val_binary_accuracy: 0.5421\n",
      "Epoch 44/100\n",
      "51/51 [==============================] - 1s 14ms/step - loss: 0.6017 - binary_accuracy: 0.6436 - val_loss: 0.7252 - val_binary_accuracy: 0.5421\n",
      "Epoch 45/100\n",
      "51/51 [==============================] - 1s 14ms/step - loss: 0.5684 - binary_accuracy: 0.6980 - val_loss: 0.7286 - val_binary_accuracy: 0.5495\n",
      "Epoch 46/100\n",
      "51/51 [==============================] - 1s 14ms/step - loss: 0.6012 - binary_accuracy: 0.6658 - val_loss: 0.7253 - val_binary_accuracy: 0.5396\n",
      "Epoch 47/100\n",
      "51/51 [==============================] - 1s 16ms/step - loss: 0.5871 - binary_accuracy: 0.6881 - val_loss: 0.7302 - val_binary_accuracy: 0.5446\n",
      "Epoch 48/100\n",
      "51/51 [==============================] - 1s 14ms/step - loss: 0.5816 - binary_accuracy: 0.7054 - val_loss: 0.7308 - val_binary_accuracy: 0.5396\n",
      "Epoch 49/100\n",
      "51/51 [==============================] - 1s 14ms/step - loss: 0.5840 - binary_accuracy: 0.6955 - val_loss: 0.7377 - val_binary_accuracy: 0.5446\n",
      "Epoch 50/100\n",
      "51/51 [==============================] - 1s 14ms/step - loss: 0.5842 - binary_accuracy: 0.6906 - val_loss: 0.7407 - val_binary_accuracy: 0.5347\n",
      "Epoch 51/100\n"
     ]
    },
    {
     "name": "stdout",
     "output_type": "stream",
     "text": [
      "51/51 [==============================] - 1s 14ms/step - loss: 0.5941 - binary_accuracy: 0.6955 - val_loss: 0.7432 - val_binary_accuracy: 0.5371\n",
      "Epoch 52/100\n",
      "51/51 [==============================] - 1s 14ms/step - loss: 0.5786 - binary_accuracy: 0.7005 - val_loss: 0.7351 - val_binary_accuracy: 0.5520\n",
      "Epoch 53/100\n",
      "51/51 [==============================] - 1s 14ms/step - loss: 0.5764 - binary_accuracy: 0.7005 - val_loss: 0.7387 - val_binary_accuracy: 0.5421\n",
      "Epoch 54/100\n",
      "51/51 [==============================] - 1s 14ms/step - loss: 0.5659 - binary_accuracy: 0.7030 - val_loss: 0.7434 - val_binary_accuracy: 0.5545\n",
      "Epoch 55/100\n",
      "51/51 [==============================] - 1s 14ms/step - loss: 0.5851 - binary_accuracy: 0.6683 - val_loss: 0.7476 - val_binary_accuracy: 0.5396\n",
      "Epoch 56/100\n",
      "51/51 [==============================] - 1s 14ms/step - loss: 0.5693 - binary_accuracy: 0.6807 - val_loss: 0.7472 - val_binary_accuracy: 0.5545\n",
      "Epoch 57/100\n",
      "51/51 [==============================] - 1s 14ms/step - loss: 0.5831 - binary_accuracy: 0.6856 - val_loss: 0.7503 - val_binary_accuracy: 0.5272\n",
      "Epoch 58/100\n",
      "51/51 [==============================] - 1s 14ms/step - loss: 0.5706 - binary_accuracy: 0.6733 - val_loss: 0.7569 - val_binary_accuracy: 0.5396\n",
      "Epoch 59/100\n",
      "51/51 [==============================] - 1s 14ms/step - loss: 0.5740 - binary_accuracy: 0.6906 - val_loss: 0.7550 - val_binary_accuracy: 0.5421\n",
      "Epoch 60/100\n",
      "51/51 [==============================] - 1s 14ms/step - loss: 0.5616 - binary_accuracy: 0.7104 - val_loss: 0.7596 - val_binary_accuracy: 0.5470\n",
      "Epoch 61/100\n",
      "51/51 [==============================] - 1s 15ms/step - loss: 0.5540 - binary_accuracy: 0.7054 - val_loss: 0.7541 - val_binary_accuracy: 0.5495\n",
      "Epoch 62/100\n",
      "51/51 [==============================] - 1s 14ms/step - loss: 0.5612 - binary_accuracy: 0.7129 - val_loss: 0.7513 - val_binary_accuracy: 0.5619\n",
      "Epoch 63/100\n",
      "51/51 [==============================] - 1s 14ms/step - loss: 0.5591 - binary_accuracy: 0.6807 - val_loss: 0.7629 - val_binary_accuracy: 0.5421\n",
      "Epoch 64/100\n",
      "51/51 [==============================] - 1s 14ms/step - loss: 0.5488 - binary_accuracy: 0.7351 - val_loss: 0.7587 - val_binary_accuracy: 0.5446\n",
      "Epoch 65/100\n",
      "51/51 [==============================] - 1s 14ms/step - loss: 0.5611 - binary_accuracy: 0.7228 - val_loss: 0.7564 - val_binary_accuracy: 0.5545\n",
      "Epoch 66/100\n",
      "51/51 [==============================] - 1s 14ms/step - loss: 0.5540 - binary_accuracy: 0.7030 - val_loss: 0.7685 - val_binary_accuracy: 0.5396\n",
      "Epoch 67/100\n",
      "51/51 [==============================] - 1s 14ms/step - loss: 0.5677 - binary_accuracy: 0.7104 - val_loss: 0.7627 - val_binary_accuracy: 0.5421\n",
      "Epoch 68/100\n",
      "51/51 [==============================] - 1s 14ms/step - loss: 0.5554 - binary_accuracy: 0.7153 - val_loss: 0.7661 - val_binary_accuracy: 0.5520\n",
      "Epoch 69/100\n",
      "51/51 [==============================] - 1s 15ms/step - loss: 0.5381 - binary_accuracy: 0.7302 - val_loss: 0.7701 - val_binary_accuracy: 0.5371\n",
      "Epoch 70/100\n",
      "51/51 [==============================] - 1s 14ms/step - loss: 0.5434 - binary_accuracy: 0.7351 - val_loss: 0.7731 - val_binary_accuracy: 0.5371\n",
      "Epoch 71/100\n",
      "51/51 [==============================] - 1s 14ms/step - loss: 0.5585 - binary_accuracy: 0.7277 - val_loss: 0.7695 - val_binary_accuracy: 0.5371\n",
      "Epoch 72/100\n",
      "51/51 [==============================] - 1s 14ms/step - loss: 0.5538 - binary_accuracy: 0.7252 - val_loss: 0.7641 - val_binary_accuracy: 0.5470\n",
      "Epoch 73/100\n",
      "51/51 [==============================] - 1s 13ms/step - loss: 0.5386 - binary_accuracy: 0.7178 - val_loss: 0.7622 - val_binary_accuracy: 0.5520\n",
      "Epoch 74/100\n",
      "51/51 [==============================] - 1s 14ms/step - loss: 0.5376 - binary_accuracy: 0.7401 - val_loss: 0.7718 - val_binary_accuracy: 0.5371\n",
      "Epoch 75/100\n",
      "51/51 [==============================] - 1s 14ms/step - loss: 0.5606 - binary_accuracy: 0.7005 - val_loss: 0.7726 - val_binary_accuracy: 0.5470\n",
      "Epoch 76/100\n",
      "51/51 [==============================] - 1s 14ms/step - loss: 0.5281 - binary_accuracy: 0.7302 - val_loss: 0.7742 - val_binary_accuracy: 0.5594\n",
      "Epoch 77/100\n",
      "51/51 [==============================] - 1s 14ms/step - loss: 0.5373 - binary_accuracy: 0.7302 - val_loss: 0.7737 - val_binary_accuracy: 0.5569\n",
      "Epoch 78/100\n",
      "51/51 [==============================] - 1s 14ms/step - loss: 0.5316 - binary_accuracy: 0.7277 - val_loss: 0.7846 - val_binary_accuracy: 0.5421\n",
      "Epoch 79/100\n",
      "51/51 [==============================] - 1s 14ms/step - loss: 0.5423 - binary_accuracy: 0.7079 - val_loss: 0.7836 - val_binary_accuracy: 0.5322\n",
      "Epoch 80/100\n",
      "51/51 [==============================] - 1s 14ms/step - loss: 0.5406 - binary_accuracy: 0.7104 - val_loss: 0.7855 - val_binary_accuracy: 0.5322\n",
      "Epoch 81/100\n",
      "51/51 [==============================] - 1s 14ms/step - loss: 0.5568 - binary_accuracy: 0.6906 - val_loss: 0.7883 - val_binary_accuracy: 0.5297\n",
      "Epoch 82/100\n",
      "51/51 [==============================] - 1s 14ms/step - loss: 0.5406 - binary_accuracy: 0.7376 - val_loss: 0.7810 - val_binary_accuracy: 0.5347\n",
      "Epoch 83/100\n",
      "51/51 [==============================] - 1s 14ms/step - loss: 0.5257 - binary_accuracy: 0.7351 - val_loss: 0.7956 - val_binary_accuracy: 0.5421\n",
      "Epoch 84/100\n",
      "51/51 [==============================] - 1s 14ms/step - loss: 0.5614 - binary_accuracy: 0.7203 - val_loss: 0.7877 - val_binary_accuracy: 0.5421\n",
      "Epoch 85/100\n",
      "51/51 [==============================] - 1s 14ms/step - loss: 0.5250 - binary_accuracy: 0.7302 - val_loss: 0.7947 - val_binary_accuracy: 0.5520\n",
      "Epoch 86/100\n",
      "51/51 [==============================] - 1s 14ms/step - loss: 0.5227 - binary_accuracy: 0.7500 - val_loss: 0.7915 - val_binary_accuracy: 0.5495\n",
      "Epoch 87/100\n",
      "51/51 [==============================] - 1s 14ms/step - loss: 0.5167 - binary_accuracy: 0.7302 - val_loss: 0.7953 - val_binary_accuracy: 0.5470\n",
      "Epoch 88/100\n",
      "51/51 [==============================] - 1s 14ms/step - loss: 0.5275 - binary_accuracy: 0.7426 - val_loss: 0.7944 - val_binary_accuracy: 0.5396\n",
      "Epoch 89/100\n",
      "51/51 [==============================] - 1s 14ms/step - loss: 0.5415 - binary_accuracy: 0.7030 - val_loss: 0.7846 - val_binary_accuracy: 0.5594\n",
      "Epoch 90/100\n",
      "51/51 [==============================] - 1s 14ms/step - loss: 0.5261 - binary_accuracy: 0.7550 - val_loss: 0.7990 - val_binary_accuracy: 0.5396\n",
      "Epoch 91/100\n",
      "51/51 [==============================] - 1s 14ms/step - loss: 0.5395 - binary_accuracy: 0.7277 - val_loss: 0.8088 - val_binary_accuracy: 0.5248\n",
      "Epoch 92/100\n",
      "51/51 [==============================] - 1s 14ms/step - loss: 0.5274 - binary_accuracy: 0.7376 - val_loss: 0.8095 - val_binary_accuracy: 0.5470\n",
      "Epoch 93/100\n",
      "51/51 [==============================] - 1s 14ms/step - loss: 0.5194 - binary_accuracy: 0.7302 - val_loss: 0.8056 - val_binary_accuracy: 0.5297\n",
      "Epoch 94/100\n",
      "51/51 [==============================] - 1s 14ms/step - loss: 0.5223 - binary_accuracy: 0.7550 - val_loss: 0.8052 - val_binary_accuracy: 0.5446\n",
      "Epoch 95/100\n",
      "51/51 [==============================] - 1s 14ms/step - loss: 0.5109 - binary_accuracy: 0.7450 - val_loss: 0.8094 - val_binary_accuracy: 0.5470\n",
      "Epoch 96/100\n",
      "51/51 [==============================] - 1s 14ms/step - loss: 0.5296 - binary_accuracy: 0.7475 - val_loss: 0.8114 - val_binary_accuracy: 0.5396\n",
      "Epoch 97/100\n",
      "51/51 [==============================] - 1s 14ms/step - loss: 0.5260 - binary_accuracy: 0.7302 - val_loss: 0.7971 - val_binary_accuracy: 0.5446\n",
      "Epoch 98/100\n",
      "51/51 [==============================] - 1s 14ms/step - loss: 0.5309 - binary_accuracy: 0.7450 - val_loss: 0.8188 - val_binary_accuracy: 0.5446\n",
      "Epoch 99/100\n",
      "51/51 [==============================] - 1s 14ms/step - loss: 0.5005 - binary_accuracy: 0.7450 - val_loss: 0.8176 - val_binary_accuracy: 0.5569\n",
      "Epoch 100/100\n",
      "51/51 [==============================] - 1s 14ms/step - loss: 0.5027 - binary_accuracy: 0.7550 - val_loss: 0.8244 - val_binary_accuracy: 0.5371\n"
     ]
    }
   ],
   "source": [
    "model.summary()"
   ]
  },
  {
   "cell_type": "code",
   "execution_count": 56,
   "metadata": {},
   "outputs": [
    {
     "name": "stdout",
     "output_type": "stream",
     "text": [
      "203/203 [==============================] - 1s 4ms/step - loss: 0.8428 - binary_accuracy: 0.4926\n",
      "test loss, test acc: [0.8427553176879883, 0.4926108419895172]\n"
     ]
    }
   ],
   "source": [
    "#evaluate model on test set\n",
    "results = model.evaluate(X_test, y_test, batch_size=1, verbose=1)\n",
    "print(\"test loss, test acc:\", results)"
   ]
  },
  {
   "cell_type": "code",
   "execution_count": 57,
   "metadata": {},
   "outputs": [
    {
     "data": {
      "image/png": "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\n",
      "text/plain": [
       "<Figure size 432x288 with 1 Axes>"
      ]
     },
     "metadata": {
      "needs_background": "light"
     },
     "output_type": "display_data"
    }
   ],
   "source": [
    "#summarize history for accuracy\n",
    "plt.plot(history.history[(list(history.history.keys())[1])])\n",
    "plt.plot(history.history[(list(history.history.keys())[3])])\n",
    "plt.title('model accuracy')\n",
    "plt.ylabel('accuracy')\n",
    "plt.xlabel('epoch')\n",
    "plt.legend(['train', 'val'], loc='upper left')\n",
    "plt.show()"
   ]
  },
  {
   "cell_type": "code",
   "execution_count": 58,
   "metadata": {},
   "outputs": [
    {
     "data": {
      "image/png": "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\n",
      "text/plain": [
       "<Figure size 432x288 with 1 Axes>"
      ]
     },
     "metadata": {
      "needs_background": "light"
     },
     "output_type": "display_data"
    }
   ],
   "source": [
    "#summarize history for loss\n",
    "plt.plot(history.history[(list(history.history.keys())[0])])\n",
    "plt.plot(history.history[(list(history.history.keys())[2])])\n",
    "plt.title('model loss')\n",
    "plt.ylabel('loss')\n",
    "plt.xlabel('epoch')\n",
    "plt.legend(['train', 'val'], loc='upper left')\n",
    "plt.show()"
   ]
  },
  {
   "cell_type": "code",
   "execution_count": 59,
   "metadata": {},
   "outputs": [
    {
     "name": "stdout",
     "output_type": "stream",
     "text": [
      "predictions: [[0.287081  ]\n",
      " [0.48041916]\n",
      " [0.54519033]\n",
      " [0.50418407]\n",
      " [0.3854242 ]\n",
      " [0.39536586]\n",
      " [0.1387864 ]\n",
      " [0.8802088 ]\n",
      " [0.31159326]\n",
      " [0.3879402 ]\n",
      " [0.09254164]\n",
      " [0.6529768 ]\n",
      " [0.75391406]\n",
      " [0.80957985]\n",
      " [0.7915111 ]\n",
      " [0.7601491 ]\n",
      " [0.6070682 ]\n",
      " [0.7749677 ]\n",
      " [0.50435656]\n",
      " [0.3209382 ]\n",
      " [0.71072245]\n",
      " [0.2783027 ]\n",
      " [0.2978812 ]\n",
      " [0.62741864]\n",
      " [0.7704643 ]\n",
      " [0.52430797]\n",
      " [0.82058334]\n",
      " [0.18765134]\n",
      " [0.40925348]\n",
      " [0.3971871 ]\n",
      " [0.34187785]\n",
      " [0.44114184]\n",
      " [0.7007812 ]\n",
      " [0.3137642 ]\n",
      " [0.73196614]\n",
      " [0.60146946]\n",
      " [0.52758086]\n",
      " [0.6145458 ]\n",
      " [0.5345987 ]\n",
      " [0.949842  ]\n",
      " [0.07824296]\n",
      " [0.25392902]\n",
      " [0.5725107 ]\n",
      " [0.15773186]\n",
      " [0.18650702]\n",
      " [0.05573046]\n",
      " [0.62419266]\n",
      " [0.18435964]\n",
      " [0.33755767]\n",
      " [0.15155879]\n",
      " [0.42108583]\n",
      " [0.46599934]\n",
      " [0.53764683]\n",
      " [0.5199444 ]\n",
      " [0.38428295]\n",
      " [0.30822548]\n",
      " [0.34519544]\n",
      " [0.82645667]\n",
      " [0.35037863]\n",
      " [0.85926545]\n",
      " [0.1482254 ]\n",
      " [0.6705594 ]\n",
      " [0.9095801 ]\n",
      " [0.1601004 ]\n",
      " [0.78393185]\n",
      " [0.77674496]\n",
      " [0.7432907 ]\n",
      " [0.13464162]\n",
      " [0.22768891]\n",
      " [0.23923242]\n",
      " [0.20680231]\n",
      " [0.9073216 ]\n",
      " [0.6034694 ]\n",
      " [0.28283802]\n",
      " [0.34849492]\n",
      " [0.71160114]\n",
      " [0.31011266]\n",
      " [0.44036198]\n",
      " [0.5532217 ]\n",
      " [0.36128104]\n",
      " [0.46864617]\n",
      " [0.7472205 ]\n",
      " [0.18859383]\n",
      " [0.24701372]\n",
      " [0.11767766]\n",
      " [0.31575364]\n",
      " [0.8316717 ]\n",
      " [0.33957648]\n",
      " [0.0850558 ]\n",
      " [0.3459467 ]\n",
      " [0.06596026]\n",
      " [0.3987694 ]\n",
      " [0.6079971 ]\n",
      " [0.39708576]\n",
      " [0.7059208 ]\n",
      " [0.339564  ]\n",
      " [0.53544444]\n",
      " [0.2833224 ]\n",
      " [0.2227163 ]\n",
      " [0.5438206 ]\n",
      " [0.32985526]\n",
      " [0.16351384]\n",
      " [0.3480953 ]\n",
      " [0.10885412]\n",
      " [0.8368088 ]\n",
      " [0.08148232]\n",
      " [0.5019756 ]\n",
      " [0.6166299 ]\n",
      " [0.6351819 ]\n",
      " [0.40506536]\n",
      " [0.8632227 ]\n",
      " [0.36660326]\n",
      " [0.129554  ]\n",
      " [0.19569707]\n",
      " [0.2102038 ]\n",
      " [0.5703136 ]\n",
      " [0.83896327]\n",
      " [0.86061984]\n",
      " [0.61475044]\n",
      " [0.46726358]\n",
      " [0.51409394]\n",
      " [0.8126557 ]\n",
      " [0.615926  ]\n",
      " [0.10282636]\n",
      " [0.19674388]\n",
      " [0.1665768 ]\n",
      " [0.26009944]\n",
      " [0.36432108]\n",
      " [0.06583291]\n",
      " [0.2409733 ]\n",
      " [0.72883856]\n",
      " [0.83444595]\n",
      " [0.73279285]\n",
      " [0.7942056 ]\n",
      " [0.44632784]\n",
      " [0.20669553]\n",
      " [0.06833389]\n",
      " [0.12017179]\n",
      " [0.15568087]\n",
      " [0.6970668 ]\n",
      " [0.6703115 ]\n",
      " [0.03926757]\n",
      " [0.08949623]\n",
      " [0.15081549]\n",
      " [0.40310168]\n",
      " [0.86914575]\n",
      " [0.89292455]\n",
      " [0.33440012]\n",
      " [0.61007947]\n",
      " [0.58670396]\n",
      " [0.4205258 ]\n",
      " [0.59591347]\n",
      " [0.21462214]\n",
      " [0.6730948 ]\n",
      " [0.23755029]\n",
      " [0.25590408]\n",
      " [0.43344188]\n",
      " [0.07973152]\n",
      " [0.6654043 ]\n",
      " [0.06488684]\n",
      " [0.8861443 ]\n",
      " [0.5438819 ]\n",
      " [0.28457403]\n",
      " [0.16149542]\n",
      " [0.40809798]\n",
      " [0.3149771 ]\n",
      " [0.44694495]\n",
      " [0.34839663]\n",
      " [0.17945135]\n",
      " [0.45037585]\n",
      " [0.75586766]\n",
      " [0.57819986]\n",
      " [0.70578426]\n",
      " [0.76971555]\n",
      " [0.05635685]\n",
      " [0.1743002 ]\n",
      " [0.07684165]\n",
      " [0.6537216 ]\n",
      " [0.19872177]\n",
      " [0.54672706]\n",
      " [0.26401097]\n",
      " [0.50133705]\n",
      " [0.40860775]\n",
      " [0.47395334]\n",
      " [0.6379818 ]\n",
      " [0.03330642]\n",
      " [0.8439101 ]\n",
      " [0.8363023 ]\n",
      " [0.0483717 ]\n",
      " [0.15687451]\n",
      " [0.5444781 ]\n",
      " [0.1395252 ]\n",
      " [0.35289133]\n",
      " [0.38740036]\n",
      " [0.7584239 ]\n",
      " [0.11514941]\n",
      " [0.60116917]\n",
      " [0.5285328 ]\n",
      " [0.6931795 ]\n",
      " [0.6801584 ]\n",
      " [0.37223482]\n",
      " [0.22369751]\n",
      " [0.11943212]]\n"
     ]
    }
   ],
   "source": [
    "#generate predictions\n",
    "predictions = model.predict(X_test)\n",
    "print(\"predictions:\", predictions)"
   ]
  },
  {
   "cell_type": "code",
   "execution_count": 60,
   "metadata": {},
   "outputs": [
    {
     "name": "stdout",
     "output_type": "stream",
     "text": [
      "['F' 'F' 'N' 'N' 'F' 'F' 'F' 'N' 'F' 'F' 'F' 'N' 'N' 'N' 'N' 'N' 'N' 'N'\n",
      " 'N' 'F' 'N' 'F' 'F' 'N' 'N' 'N' 'N' 'F' 'F' 'F' 'F' 'F' 'N' 'F' 'N' 'N'\n",
      " 'N' 'N' 'N' 'N' 'F' 'F' 'N' 'F' 'F' 'F' 'N' 'F' 'F' 'F' 'F' 'F' 'N' 'N'\n",
      " 'F' 'F' 'F' 'N' 'F' 'N' 'F' 'N' 'N' 'F' 'N' 'N' 'N' 'F' 'F' 'F' 'F' 'N'\n",
      " 'N' 'F' 'F' 'N' 'F' 'F' 'N' 'F' 'F' 'N' 'F' 'F' 'F' 'F' 'N' 'F' 'F' 'F'\n",
      " 'F' 'F' 'N' 'F' 'N' 'F' 'N' 'F' 'F' 'N' 'F' 'F' 'F' 'F' 'N' 'F' 'N' 'N'\n",
      " 'N' 'F' 'N' 'F' 'F' 'F' 'F' 'N' 'N' 'N' 'N' 'F' 'N' 'N' 'N' 'F' 'F' 'F'\n",
      " 'F' 'F' 'F' 'F' 'N' 'N' 'N' 'N' 'F' 'F' 'F' 'F' 'F' 'N' 'N' 'F' 'F' 'F'\n",
      " 'F' 'N' 'N' 'F' 'N' 'N' 'F' 'N' 'F' 'N' 'F' 'F' 'F' 'F' 'N' 'F' 'N' 'N'\n",
      " 'F' 'F' 'F' 'F' 'F' 'F' 'F' 'F' 'N' 'N' 'N' 'N' 'F' 'F' 'F' 'N' 'F' 'N'\n",
      " 'F' 'N' 'F' 'F' 'N' 'F' 'N' 'N' 'F' 'F' 'N' 'F' 'F' 'F' 'N' 'F' 'N' 'N'\n",
      " 'N' 'N' 'F' 'F' 'F']\n"
     ]
    }
   ],
   "source": [
    "#remove encoding\n",
    "real_predictions_B = a_encoder.inverse_transform(predictions)\n",
    "print(real_predictions_B)"
   ]
  },
  {
   "cell_type": "code",
   "execution_count": 61,
   "metadata": {},
   "outputs": [
    {
     "data": {
      "text/plain": [
       "{'F': 116, 'N': 87}"
      ]
     },
     "execution_count": 61,
     "metadata": {},
     "output_type": "execute_result"
    }
   ],
   "source": [
    "#prediction counts\n",
    "unique, counts = np.unique(real_predictions_B, return_counts=True)\n",
    "dict(zip(unique, counts))"
   ]
  },
  {
   "cell_type": "code",
   "execution_count": 62,
   "metadata": {},
   "outputs": [
    {
     "name": "stdout",
     "output_type": "stream",
     "text": [
      "['F' 'N' 'F' 'F' 'N' 'F' 'F' 'N' 'N' 'N' 'F' 'N' 'F' 'F' 'F' 'N' 'F' 'N'\n",
      " 'F' 'N' 'N' 'F' 'F' 'F' 'F' 'N' 'F' 'F' 'F' 'N' 'F' 'F' 'F' 'N' 'N' 'F'\n",
      " 'N' 'F' 'F' 'F' 'F' 'N' 'N' 'N' 'F' 'F' 'F' 'N' 'N' 'N' 'F' 'F' 'F' 'F'\n",
      " 'F' 'N' 'N' 'N' 'N' 'N' 'F' 'N' 'F' 'F' 'F' 'F' 'N' 'N' 'N' 'N' 'N' 'F'\n",
      " 'N' 'F' 'F' 'N' 'F' 'N' 'N' 'N' 'F' 'F' 'F' 'N' 'N' 'N' 'F' 'N' 'F' 'F'\n",
      " 'F' 'N' 'F' 'F' 'N' 'F' 'N' 'N' 'N' 'N' 'F' 'F' 'N' 'N' 'N' 'N' 'F' 'F'\n",
      " 'F' 'N' 'F' 'F' 'F' 'F' 'F' 'N' 'N' 'F' 'N' 'N' 'F' 'N' 'N' 'F' 'N' 'F'\n",
      " 'N' 'F' 'F' 'F' 'F' 'F' 'F' 'N' 'F' 'F' 'N' 'N' 'F' 'F' 'N' 'N' 'N' 'F'\n",
      " 'N' 'N' 'F' 'F' 'N' 'N' 'N' 'F' 'F' 'F' 'F' 'F' 'N' 'F' 'N' 'F' 'N' 'F'\n",
      " 'N' 'N' 'N' 'F' 'F' 'F' 'N' 'N' 'F' 'F' 'N' 'F' 'F' 'F' 'F' 'F' 'F' 'F'\n",
      " 'N' 'N' 'N' 'F' 'F' 'F' 'F' 'F' 'F' 'F' 'F' 'N' 'F' 'N' 'N' 'F' 'F' 'N'\n",
      " 'N' 'F' 'N' 'F' 'N']\n"
     ]
    }
   ],
   "source": [
    "#y_test predictions\n",
    "ytest_predictions = a_encoder.inverse_transform(y_test)\n",
    "print(ytest_predictions)"
   ]
  },
  {
   "cell_type": "code",
   "execution_count": 63,
   "metadata": {},
   "outputs": [
    {
     "data": {
      "text/plain": [
       "{'F': 113, 'N': 90}"
      ]
     },
     "execution_count": 63,
     "metadata": {},
     "output_type": "execute_result"
    }
   ],
   "source": [
    "#real count\n",
    "unique, counts = np.unique(ytest_predictions, return_counts=True)\n",
    "dict(zip(unique, counts))"
   ]
  },
  {
   "cell_type": "code",
   "execution_count": 64,
   "metadata": {},
   "outputs": [
    {
     "data": {
      "image/png": "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\n",
      "text/plain": [
       "<Figure size 432x288 with 2 Axes>"
      ]
     },
     "metadata": {
      "needs_background": "light"
     },
     "output_type": "display_data"
    }
   ],
   "source": [
    "#confusion matrix\n",
    "matrix = confusion_matrix(ytest_predictions, real_predictions_B)\n",
    "#format confusion matrix\n",
    "ax=plt.subplot()\n",
    "sns.heatmap(matrix, annot=True, ax = ax, cmap='Blues', fmt='g');\n",
    "accuracy = np.trace(matrix) / np.sum(matrix).astype('float')\n",
    "misclass = 1 - accuracy\n",
    "ax.set_xlabel('Predicted label\\naccuracy={:0.4f}; misclass={:0.4f}'.format(accuracy, misclass));\n",
    "ax.set_ylabel('True labels'); \n",
    "ax.set_title('Confusion Matrix');\n",
    "ax.xaxis.set_ticklabels(unique); ax.yaxis.set_ticklabels(unique);"
   ]
  },
  {
   "cell_type": "code",
   "execution_count": null,
   "metadata": {},
   "outputs": [],
   "source": []
  }
 ],
 "metadata": {
  "kernelspec": {
   "display_name": "Python 3",
   "language": "python",
   "name": "python3"
  },
  "language_info": {
   "codemirror_mode": {
    "name": "ipython",
    "version": 3
   },
   "file_extension": ".py",
   "mimetype": "text/x-python",
   "name": "python",
   "nbconvert_exporter": "python",
   "pygments_lexer": "ipython3",
   "version": "3.8.3"
  }
 },
 "nbformat": 4,
 "nbformat_minor": 4
}
