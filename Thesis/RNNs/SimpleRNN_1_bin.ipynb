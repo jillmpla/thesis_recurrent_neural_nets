{
 "cells": [
  {
   "cell_type": "code",
   "execution_count": 1,
   "metadata": {},
   "outputs": [],
   "source": [
    "#tensorboard via command-line:\n",
    "#tensorboard --logdir=where your Logs directory is"
   ]
  },
  {
   "cell_type": "code",
   "execution_count": 2,
   "metadata": {},
   "outputs": [],
   "source": [
    "#~~~~~~~~~~~~~~~~~~~~~~~~~~~~~~~~~~~~~~~~~~~~~~~~~~~~~~~~~~~~~~~~~~~~~~~~~~~~~~~~~~~~~~~~~~~~~~~~~~~~~~~#\n",
    "#Predict whether or not a flare will occur in the next 24hrs after a 24hr time sequence, per monitored AR.\n",
    "#~~~~~~~~~~~~~~~~~~~~~~~~~~~~~~~~~~~~~~~~~~~~~~~~~~~~~~~~~~~~~~~~~~~~~~~~~~~~~~~~~~~~~~~~~~~~~~~~~~~~~~~#\n",
    "#feature data from - hmi.sharp_720s:::\n",
    "#http://jsoc.stanford.edu/doc/data/hmi/sharp/sharp.htm\n",
    "\n",
    "#label data from - GOES flare events:::\n",
    "#ftp://ftp.swpc.noaa.gov/pub/warehouse/\n",
    "\n",
    "#and from - GOES XRS Report:::\n",
    "#https://www.ngdc.noaa.gov/stp/space-weather/solar-data/solar-features/solar-flares/x-rays/goes/xrs/\n",
    "#~~~~~~~~~~~~~~~~~~~~~~~~~~~~~~~~~~~~~~~~~~~~~~~~~~~~~~~~~~~~~~~~~~~~~~~~~~~~~~~~~~~~~~~~~~~~~~~~~~~~~~~#\n",
    "#binary class - F for flare and N for no flare\n",
    "#multi-class - #6 flare classes: N is no flare, A is smallest, X is largest\n",
    "               #key = {'N', 'A', 'B', 'C', 'M', 'X'}\n",
    "               #['A' class flares generally not listed in official reports due to small size]\n",
    "#~~~~~~~~~~~~~~~~~~~~~~~~~~~~~~~~~~~~~~~~~~~~~~~~~~~~~~~~~~~~~~~~~~~~~~~~~~~~~~~~~~~~~~~~~~~~~~~~~~~~~~~#"
   ]
  },
  {
   "cell_type": "code",
   "execution_count": 3,
   "metadata": {},
   "outputs": [
    {
     "name": "stdout",
     "output_type": "stream",
     "text": [
      "tensorflow version: 2.3.1\n"
     ]
    }
   ],
   "source": [
    "import tensorflow as tf\n",
    "print(\"tensorflow version:\", tf.__version__) #2.3.1 used\n",
    "from tensorflow import keras\n",
    "import os\n",
    "import glob\n",
    "import shutil\n",
    "import datetime\n",
    "import numpy as np\n",
    "import pandas as pd\n",
    "import seaborn as sns\n",
    "from pathlib import Path\n",
    "from astropy.time import Time\n",
    "from matplotlib import pyplot as plt\n",
    "from sklearn.metrics import f1_score, precision_score, recall_score, classification_report, confusion_matrix\n",
    "from sklearn.metrics import plot_confusion_matrix\n",
    "from sklearn.preprocessing import LabelBinarizer\n",
    "from sklearn.model_selection import train_test_split\n",
    "from sklearn.preprocessing import MinMaxScaler\n",
    "from tensorflow.keras.layers import Dropout, Dense, SimpleRNN, LSTM, GRU, GaussianNoise\n",
    "from tensorflow.keras.models import Model, Sequential\n",
    "from tensorflow.keras.optimizers import SGD, RMSprop, Adam\n",
    "import drms #https://pypi.org/project/drms/\n",
    "#~~~~~~~~~~~~~~~~~~~~~~~~~~~~~~~~~~~~~~~~~~~~~~~~~~~~~~~~~~~~~~~~~~~~~~~~~~~~~~~~~~~~~~~~~~~~~~~~~~~~~~~#\n",
    "import Flare_Data\n",
    "import Feature_Years\n",
    "import Make_TB_Logs\n",
    "#~~~~~~~~~~~~~~~~~~~~~~~~~~~~~~~~~~~~~~~~~~~~~~~~~~~~~~~~~~~~~~~~~~~~~~~~~~~~~~~~~~~~~~~~~~~~~~~~~~~~~~~#"
   ]
  },
  {
   "cell_type": "code",
   "execution_count": 4,
   "metadata": {},
   "outputs": [
    {
     "name": "stdout",
     "output_type": "stream",
     "text": [
      "CSVs compiled.\n"
     ]
    }
   ],
   "source": [
    "Feature_Years.generate_all_feature_years()"
   ]
  },
  {
   "cell_type": "code",
   "execution_count": 5,
   "metadata": {},
   "outputs": [],
   "source": [
    "where_logs = Make_TB_Logs.make_clear_tensorboard_folder()"
   ]
  },
  {
   "cell_type": "code",
   "execution_count": 6,
   "metadata": {},
   "outputs": [
    {
     "name": "stdout",
     "output_type": "stream",
     "text": [
      "The time series starts from:  2011-01-01 00:11:26\n",
      "The time series ends on:  2016-12-31 23:47:24\n",
      "(array(['F', 'N'], dtype='<U1'), array([741, 729], dtype=int64))\n"
     ]
    }
   ],
   "source": [
    "#binary = True for binary classification, binary = False for multi-class classification\n",
    "X_train, X_val, X_test, y_train, y_val, y_test, tim_steps, n_feats, count_of_classes, a_encoder = Flare_Data.getAllData(binary = True)"
   ]
  },
  {
   "cell_type": "code",
   "execution_count": 7,
   "metadata": {},
   "outputs": [
    {
     "name": "stdout",
     "output_type": "stream",
     "text": [
      "(940, 114, 20) (236, 114, 20) (294, 114, 20) (940, 1) (236, 1) (294, 1)\n"
     ]
    }
   ],
   "source": [
    "print(X_train.shape, X_val.shape, X_test.shape, y_train.shape, y_val.shape, y_test.shape)"
   ]
  },
  {
   "cell_type": "code",
   "execution_count": 8,
   "metadata": {},
   "outputs": [],
   "source": [
    "#~~~~~~~~~~~~~~~~~~~~~~~~~~~~~~~~~~~~~~~~~~~~~~~~~~~~~~~~~~~~~~~~~~~~~~~~~~~~~~~~~~~~~~~~~~~~~~~~~~~~~~~#\n",
    "#~~~~~~~~~~~~~~~~~~~~~~~~~~~~~~~~~~~~~~~~~~~~~~~~~~~~~~~~~~~~~~~~~~~~~~~~~~~~~~~~~~~~~~~~~~~~~~~~~~~~~~~#"
   ]
  },
  {
   "cell_type": "code",
   "execution_count": 9,
   "metadata": {},
   "outputs": [],
   "source": [
    "batch_size = 50\n",
    "epochs = 100\n",
    "optimizer = Adam(lr=0.001, beta_1=0.9, beta_2=0.999, epsilon=1e-06, decay=0.0)"
   ]
  },
  {
   "cell_type": "code",
   "execution_count": 10,
   "metadata": {},
   "outputs": [],
   "source": [
    "#~~~~~~~~~~~~~~~~~~~~~~~~~~~~~~~~~~~~~~~[SimpleRNN_1 Model]~~~~~~~~~~~~~~~~~~~~~~~~~~~~~~~~~~~~~~~~~~~~~#\n",
    "#~~~~~~~~~~~~~~~~~~~~~~~~~~~~~~~~~~~~~~~[Binary-Class]~~~~~~~~~~~~~~~~~~~~~~~~~~~~~~~~~~~~~~~~~~~~~~~~~~#\n",
    "#~~~~~~~~~~~~~~~~~~~~~~~~~~~~~~~~~~~~~~~[Single Layer]~~~~~~~~~~~~~~~~~~~~~~~~~~~~~~~~~~~~~~~~~~~~~~~~~~#\n",
    "model = Sequential()\n",
    "model.add(SimpleRNN(19,  input_shape=(tim_steps, n_feats), recurrent_dropout=0.05))\n",
    "model.add(GaussianNoise(0.01))\n",
    "model.add(Dense(1, activation='sigmoid'))\n",
    "model.compile(loss='binary_crossentropy', optimizer=optimizer, metrics=['binary_accuracy'])\n",
    "#~~~~~~~~~~~~~~~~~~~~~~~~~~~~~~~~~~~~~~~~~~~~~~~~~~~~~~~~~~~~~~~~~~~~~~~~~~~~~~~~~~~~~~~~~~~~~~~~~~~~~~~#\n",
    "#~~~~~~~~~~~~~~~~~~~~~~~~~~~~~~~~~~~~~~~~~~~~~~~~~~~~~~~~~~~~~~~~~~~~~~~~~~~~~~~~~~~~~~~~~~~~~~~~~~~~~~~#"
   ]
  },
  {
   "cell_type": "code",
   "execution_count": 11,
   "metadata": {},
   "outputs": [],
   "source": [
    "tensorboard_call = keras.callbacks.TensorBoard(log_dir=where_logs, histogram_freq=1)\n",
    "#val_loss_callback = tf.keras.callbacks.EarlyStopping(monitor='val_loss', patience=10)"
   ]
  },
  {
   "cell_type": "code",
   "execution_count": 12,
   "metadata": {},
   "outputs": [
    {
     "name": "stdout",
     "output_type": "stream",
     "text": [
      "Epoch 1/100\n",
      " 1/19 [>.............................] - ETA: 0s - loss: 0.7038 - binary_accuracy: 0.6000WARNING:tensorflow:From C:\\ProgramData\\Anaconda3\\lib\\site-packages\\tensorflow\\python\\ops\\summary_ops_v2.py:1277: stop (from tensorflow.python.eager.profiler) is deprecated and will be removed after 2020-07-01.\n",
      "Instructions for updating:\n",
      "use `tf.profiler.experimental.stop` instead.\n",
      " 2/19 [==>...........................] - ETA: 1s - loss: 0.7346 - binary_accuracy: 0.5700WARNING:tensorflow:Callbacks method `on_train_batch_end` is slow compared to the batch time (batch time: 0.0230s vs `on_train_batch_end` time: 0.1983s). Check your callbacks.\n",
      "19/19 [==============================] - 1s 45ms/step - loss: 0.7285 - binary_accuracy: 0.5117 - val_loss: 0.7266 - val_binary_accuracy: 0.4364\n",
      "Epoch 2/100\n",
      "19/19 [==============================] - 0s 18ms/step - loss: 0.7126 - binary_accuracy: 0.4926 - val_loss: 0.7173 - val_binary_accuracy: 0.4449\n",
      "Epoch 3/100\n",
      "19/19 [==============================] - 0s 20ms/step - loss: 0.7027 - binary_accuracy: 0.5085 - val_loss: 0.7138 - val_binary_accuracy: 0.4534\n",
      "Epoch 4/100\n",
      "19/19 [==============================] - 0s 19ms/step - loss: 0.6933 - binary_accuracy: 0.5287 - val_loss: 0.7138 - val_binary_accuracy: 0.4153\n",
      "Epoch 5/100\n",
      "19/19 [==============================] - 0s 18ms/step - loss: 0.6914 - binary_accuracy: 0.5298 - val_loss: 0.7145 - val_binary_accuracy: 0.4492\n",
      "Epoch 6/100\n",
      "19/19 [==============================] - 0s 19ms/step - loss: 0.6916 - binary_accuracy: 0.5447 - val_loss: 0.7145 - val_binary_accuracy: 0.4534\n",
      "Epoch 7/100\n",
      "19/19 [==============================] - 0s 19ms/step - loss: 0.6823 - binary_accuracy: 0.5511 - val_loss: 0.7147 - val_binary_accuracy: 0.4703\n",
      "Epoch 8/100\n",
      "19/19 [==============================] - 0s 19ms/step - loss: 0.6846 - binary_accuracy: 0.5436 - val_loss: 0.7180 - val_binary_accuracy: 0.4703\n",
      "Epoch 9/100\n",
      "19/19 [==============================] - 0s 20ms/step - loss: 0.6845 - binary_accuracy: 0.5585 - val_loss: 0.7191 - val_binary_accuracy: 0.4788\n",
      "Epoch 10/100\n",
      "19/19 [==============================] - 0s 19ms/step - loss: 0.6803 - binary_accuracy: 0.5851 - val_loss: 0.7232 - val_binary_accuracy: 0.4661\n",
      "Epoch 11/100\n",
      "19/19 [==============================] - 0s 18ms/step - loss: 0.6809 - binary_accuracy: 0.5713 - val_loss: 0.7216 - val_binary_accuracy: 0.4619\n",
      "Epoch 12/100\n",
      "19/19 [==============================] - 0s 19ms/step - loss: 0.6764 - binary_accuracy: 0.5777 - val_loss: 0.7237 - val_binary_accuracy: 0.4492\n",
      "Epoch 13/100\n",
      "19/19 [==============================] - 0s 19ms/step - loss: 0.6796 - binary_accuracy: 0.5745 - val_loss: 0.7243 - val_binary_accuracy: 0.4576\n",
      "Epoch 14/100\n",
      "19/19 [==============================] - 0s 19ms/step - loss: 0.6682 - binary_accuracy: 0.5968 - val_loss: 0.7281 - val_binary_accuracy: 0.4449\n",
      "Epoch 15/100\n",
      "19/19 [==============================] - 0s 19ms/step - loss: 0.6759 - binary_accuracy: 0.5660 - val_loss: 0.7288 - val_binary_accuracy: 0.4534\n",
      "Epoch 16/100\n",
      "19/19 [==============================] - 0s 19ms/step - loss: 0.6750 - binary_accuracy: 0.5968 - val_loss: 0.7283 - val_binary_accuracy: 0.4534\n",
      "Epoch 17/100\n",
      "19/19 [==============================] - 0s 19ms/step - loss: 0.6701 - binary_accuracy: 0.5777 - val_loss: 0.7369 - val_binary_accuracy: 0.4364\n",
      "Epoch 18/100\n",
      "19/19 [==============================] - 0s 19ms/step - loss: 0.6636 - binary_accuracy: 0.5947 - val_loss: 0.7261 - val_binary_accuracy: 0.4703\n",
      "Epoch 19/100\n",
      "19/19 [==============================] - 0s 19ms/step - loss: 0.6654 - binary_accuracy: 0.5851 - val_loss: 0.7330 - val_binary_accuracy: 0.4449\n",
      "Epoch 20/100\n",
      "19/19 [==============================] - 0s 19ms/step - loss: 0.6647 - binary_accuracy: 0.5957 - val_loss: 0.7312 - val_binary_accuracy: 0.4788\n",
      "Epoch 21/100\n",
      "19/19 [==============================] - 0s 19ms/step - loss: 0.6589 - binary_accuracy: 0.6053 - val_loss: 0.7364 - val_binary_accuracy: 0.4449\n",
      "Epoch 22/100\n",
      "19/19 [==============================] - 0s 19ms/step - loss: 0.6603 - binary_accuracy: 0.6181 - val_loss: 0.7350 - val_binary_accuracy: 0.4831\n",
      "Epoch 23/100\n",
      "19/19 [==============================] - 0s 19ms/step - loss: 0.6548 - binary_accuracy: 0.6138 - val_loss: 0.7419 - val_binary_accuracy: 0.4915\n",
      "Epoch 24/100\n",
      "19/19 [==============================] - 0s 19ms/step - loss: 0.6512 - binary_accuracy: 0.5968 - val_loss: 0.7366 - val_binary_accuracy: 0.4703\n",
      "Epoch 25/100\n",
      "19/19 [==============================] - 0s 20ms/step - loss: 0.6605 - binary_accuracy: 0.6074 - val_loss: 0.7306 - val_binary_accuracy: 0.4576\n",
      "Epoch 26/100\n",
      "19/19 [==============================] - 0s 18ms/step - loss: 0.6518 - binary_accuracy: 0.6021 - val_loss: 0.7351 - val_binary_accuracy: 0.5212\n",
      "Epoch 27/100\n",
      "19/19 [==============================] - 0s 19ms/step - loss: 0.6515 - binary_accuracy: 0.6170 - val_loss: 0.7373 - val_binary_accuracy: 0.5000\n",
      "Epoch 28/100\n",
      "19/19 [==============================] - 0s 19ms/step - loss: 0.6460 - binary_accuracy: 0.6223 - val_loss: 0.7315 - val_binary_accuracy: 0.4873\n",
      "Epoch 29/100\n",
      "19/19 [==============================] - 0s 19ms/step - loss: 0.6519 - binary_accuracy: 0.6213 - val_loss: 0.7295 - val_binary_accuracy: 0.4915\n",
      "Epoch 30/100\n",
      "19/19 [==============================] - 0s 19ms/step - loss: 0.6452 - binary_accuracy: 0.6394 - val_loss: 0.7252 - val_binary_accuracy: 0.4831\n",
      "Epoch 31/100\n",
      "19/19 [==============================] - 0s 19ms/step - loss: 0.6482 - binary_accuracy: 0.6287 - val_loss: 0.7302 - val_binary_accuracy: 0.5127\n",
      "Epoch 32/100\n",
      "19/19 [==============================] - 0s 19ms/step - loss: 0.6445 - binary_accuracy: 0.6266 - val_loss: 0.7310 - val_binary_accuracy: 0.5042\n",
      "Epoch 33/100\n",
      "19/19 [==============================] - 0s 19ms/step - loss: 0.6443 - binary_accuracy: 0.6277 - val_loss: 0.7331 - val_binary_accuracy: 0.5424\n",
      "Epoch 34/100\n",
      "19/19 [==============================] - 0s 20ms/step - loss: 0.6370 - binary_accuracy: 0.6404 - val_loss: 0.7399 - val_binary_accuracy: 0.5000\n",
      "Epoch 35/100\n",
      "19/19 [==============================] - 0s 19ms/step - loss: 0.6518 - binary_accuracy: 0.6128 - val_loss: 0.7306 - val_binary_accuracy: 0.5000\n",
      "Epoch 36/100\n",
      "19/19 [==============================] - 0s 19ms/step - loss: 0.6455 - binary_accuracy: 0.6191 - val_loss: 0.7440 - val_binary_accuracy: 0.4958\n",
      "Epoch 37/100\n",
      "19/19 [==============================] - 0s 19ms/step - loss: 0.6405 - binary_accuracy: 0.6340 - val_loss: 0.7304 - val_binary_accuracy: 0.5042\n",
      "Epoch 38/100\n",
      "19/19 [==============================] - 0s 19ms/step - loss: 0.6356 - binary_accuracy: 0.6447 - val_loss: 0.7309 - val_binary_accuracy: 0.5127\n",
      "Epoch 39/100\n",
      "19/19 [==============================] - 0s 21ms/step - loss: 0.6388 - binary_accuracy: 0.6351 - val_loss: 0.7386 - val_binary_accuracy: 0.5424\n",
      "Epoch 40/100\n",
      "19/19 [==============================] - 0s 21ms/step - loss: 0.6489 - binary_accuracy: 0.6149 - val_loss: 0.7310 - val_binary_accuracy: 0.4958\n",
      "Epoch 41/100\n",
      "19/19 [==============================] - 0s 19ms/step - loss: 0.6446 - binary_accuracy: 0.6277 - val_loss: 0.7309 - val_binary_accuracy: 0.5000\n",
      "Epoch 42/100\n",
      "19/19 [==============================] - 0s 20ms/step - loss: 0.6365 - binary_accuracy: 0.6532 - val_loss: 0.7408 - val_binary_accuracy: 0.4958\n",
      "Epoch 43/100\n",
      "19/19 [==============================] - 0s 20ms/step - loss: 0.6320 - binary_accuracy: 0.6372 - val_loss: 0.7519 - val_binary_accuracy: 0.5042\n",
      "Epoch 44/100\n",
      "19/19 [==============================] - 0s 19ms/step - loss: 0.6377 - binary_accuracy: 0.6447 - val_loss: 0.7448 - val_binary_accuracy: 0.5000\n",
      "Epoch 45/100\n",
      "19/19 [==============================] - 0s 20ms/step - loss: 0.6306 - binary_accuracy: 0.6511 - val_loss: 0.7396 - val_binary_accuracy: 0.5508\n",
      "Epoch 46/100\n",
      "19/19 [==============================] - 0s 20ms/step - loss: 0.6342 - binary_accuracy: 0.6351 - val_loss: 0.7316 - val_binary_accuracy: 0.4958\n",
      "Epoch 47/100\n",
      "19/19 [==============================] - 0s 19ms/step - loss: 0.6428 - binary_accuracy: 0.6340 - val_loss: 0.7313 - val_binary_accuracy: 0.5042\n",
      "Epoch 48/100\n",
      "19/19 [==============================] - 0s 19ms/step - loss: 0.6266 - binary_accuracy: 0.6479 - val_loss: 0.7502 - val_binary_accuracy: 0.5169\n",
      "Epoch 49/100\n"
     ]
    },
    {
     "name": "stdout",
     "output_type": "stream",
     "text": [
      "19/19 [==============================] - 0s 19ms/step - loss: 0.6358 - binary_accuracy: 0.6255 - val_loss: 0.7464 - val_binary_accuracy: 0.5297\n",
      "Epoch 50/100\n",
      "19/19 [==============================] - 0s 20ms/step - loss: 0.6289 - binary_accuracy: 0.6489 - val_loss: 0.7541 - val_binary_accuracy: 0.5000\n",
      "Epoch 51/100\n",
      "19/19 [==============================] - 0s 19ms/step - loss: 0.6228 - binary_accuracy: 0.6649 - val_loss: 0.7330 - val_binary_accuracy: 0.5169\n",
      "Epoch 52/100\n",
      "19/19 [==============================] - 0s 19ms/step - loss: 0.6288 - binary_accuracy: 0.6468 - val_loss: 0.7367 - val_binary_accuracy: 0.5381\n",
      "Epoch 53/100\n",
      "19/19 [==============================] - 0s 20ms/step - loss: 0.6288 - binary_accuracy: 0.6479 - val_loss: 0.7575 - val_binary_accuracy: 0.4915\n",
      "Epoch 54/100\n",
      "19/19 [==============================] - 0s 19ms/step - loss: 0.6300 - binary_accuracy: 0.6383 - val_loss: 0.7531 - val_binary_accuracy: 0.4831\n",
      "Epoch 55/100\n",
      "19/19 [==============================] - 0s 20ms/step - loss: 0.6280 - binary_accuracy: 0.6521 - val_loss: 0.7398 - val_binary_accuracy: 0.5085\n",
      "Epoch 56/100\n",
      "19/19 [==============================] - 0s 20ms/step - loss: 0.6266 - binary_accuracy: 0.6362 - val_loss: 0.7467 - val_binary_accuracy: 0.5085\n",
      "Epoch 57/100\n",
      "19/19 [==============================] - 0s 19ms/step - loss: 0.6274 - binary_accuracy: 0.6585 - val_loss: 0.7453 - val_binary_accuracy: 0.5127\n",
      "Epoch 58/100\n",
      "19/19 [==============================] - 0s 19ms/step - loss: 0.6222 - binary_accuracy: 0.6574 - val_loss: 0.7612 - val_binary_accuracy: 0.4915\n",
      "Epoch 59/100\n",
      "19/19 [==============================] - 0s 20ms/step - loss: 0.6112 - binary_accuracy: 0.6606 - val_loss: 0.7562 - val_binary_accuracy: 0.5042\n",
      "Epoch 60/100\n",
      "19/19 [==============================] - 0s 19ms/step - loss: 0.6150 - binary_accuracy: 0.6628 - val_loss: 0.7537 - val_binary_accuracy: 0.5381\n",
      "Epoch 61/100\n",
      "19/19 [==============================] - 0s 20ms/step - loss: 0.6218 - binary_accuracy: 0.6585 - val_loss: 0.7480 - val_binary_accuracy: 0.5297\n",
      "Epoch 62/100\n",
      "19/19 [==============================] - 0s 19ms/step - loss: 0.6389 - binary_accuracy: 0.6298 - val_loss: 0.7492 - val_binary_accuracy: 0.5085\n",
      "Epoch 63/100\n",
      "19/19 [==============================] - 0s 19ms/step - loss: 0.6247 - binary_accuracy: 0.6426 - val_loss: 0.7526 - val_binary_accuracy: 0.4915\n",
      "Epoch 64/100\n",
      "19/19 [==============================] - 0s 20ms/step - loss: 0.6188 - binary_accuracy: 0.6638 - val_loss: 0.7399 - val_binary_accuracy: 0.5212\n",
      "Epoch 65/100\n",
      "19/19 [==============================] - 0s 19ms/step - loss: 0.6091 - binary_accuracy: 0.6745 - val_loss: 0.7560 - val_binary_accuracy: 0.4915\n",
      "Epoch 66/100\n",
      "19/19 [==============================] - 0s 20ms/step - loss: 0.6174 - binary_accuracy: 0.6585 - val_loss: 0.7514 - val_binary_accuracy: 0.5085\n",
      "Epoch 67/100\n",
      "19/19 [==============================] - 0s 19ms/step - loss: 0.6132 - binary_accuracy: 0.6713 - val_loss: 0.7477 - val_binary_accuracy: 0.5085\n",
      "Epoch 68/100\n",
      "19/19 [==============================] - 0s 19ms/step - loss: 0.6231 - binary_accuracy: 0.6372 - val_loss: 0.7505 - val_binary_accuracy: 0.5169\n",
      "Epoch 69/100\n",
      "19/19 [==============================] - 0s 19ms/step - loss: 0.6186 - binary_accuracy: 0.6564 - val_loss: 0.7560 - val_binary_accuracy: 0.5000\n",
      "Epoch 70/100\n",
      "19/19 [==============================] - 0s 19ms/step - loss: 0.6159 - binary_accuracy: 0.6596 - val_loss: 0.7580 - val_binary_accuracy: 0.5169\n",
      "Epoch 71/100\n",
      "19/19 [==============================] - 0s 19ms/step - loss: 0.6119 - binary_accuracy: 0.6574 - val_loss: 0.7560 - val_binary_accuracy: 0.5127\n",
      "Epoch 72/100\n",
      "19/19 [==============================] - 0s 19ms/step - loss: 0.6077 - binary_accuracy: 0.6702 - val_loss: 0.7517 - val_binary_accuracy: 0.5000\n",
      "Epoch 73/100\n",
      "19/19 [==============================] - 0s 18ms/step - loss: 0.6093 - binary_accuracy: 0.6596 - val_loss: 0.7441 - val_binary_accuracy: 0.5085\n",
      "Epoch 74/100\n",
      "19/19 [==============================] - 0s 19ms/step - loss: 0.6081 - binary_accuracy: 0.6840 - val_loss: 0.7416 - val_binary_accuracy: 0.5000\n",
      "Epoch 75/100\n",
      "19/19 [==============================] - 0s 19ms/step - loss: 0.6156 - binary_accuracy: 0.6628 - val_loss: 0.7350 - val_binary_accuracy: 0.5212\n",
      "Epoch 76/100\n",
      "19/19 [==============================] - 0s 20ms/step - loss: 0.6066 - binary_accuracy: 0.6691 - val_loss: 0.7633 - val_binary_accuracy: 0.5000\n",
      "Epoch 77/100\n",
      "19/19 [==============================] - 0s 19ms/step - loss: 0.6070 - binary_accuracy: 0.6638 - val_loss: 0.7601 - val_binary_accuracy: 0.5085\n",
      "Epoch 78/100\n",
      "19/19 [==============================] - 0s 19ms/step - loss: 0.6094 - binary_accuracy: 0.6681 - val_loss: 0.7602 - val_binary_accuracy: 0.5085\n",
      "Epoch 79/100\n",
      "19/19 [==============================] - 0s 20ms/step - loss: 0.6156 - binary_accuracy: 0.6670 - val_loss: 0.7680 - val_binary_accuracy: 0.4831\n",
      "Epoch 80/100\n",
      "19/19 [==============================] - 0s 19ms/step - loss: 0.6132 - binary_accuracy: 0.6755 - val_loss: 0.7585 - val_binary_accuracy: 0.4915\n",
      "Epoch 81/100\n",
      "19/19 [==============================] - 0s 19ms/step - loss: 0.6056 - binary_accuracy: 0.6755 - val_loss: 0.7541 - val_binary_accuracy: 0.4915\n",
      "Epoch 82/100\n",
      "19/19 [==============================] - 0s 20ms/step - loss: 0.6141 - binary_accuracy: 0.6606 - val_loss: 0.7515 - val_binary_accuracy: 0.4915\n",
      "Epoch 83/100\n",
      "19/19 [==============================] - 0s 19ms/step - loss: 0.6036 - binary_accuracy: 0.6766 - val_loss: 0.7584 - val_binary_accuracy: 0.4915\n",
      "Epoch 84/100\n",
      "19/19 [==============================] - 0s 19ms/step - loss: 0.6001 - binary_accuracy: 0.6660 - val_loss: 0.7682 - val_binary_accuracy: 0.4873\n",
      "Epoch 85/100\n",
      "19/19 [==============================] - 0s 19ms/step - loss: 0.5991 - binary_accuracy: 0.6638 - val_loss: 0.7472 - val_binary_accuracy: 0.5085\n",
      "Epoch 86/100\n",
      "19/19 [==============================] - 0s 19ms/step - loss: 0.6063 - binary_accuracy: 0.6904 - val_loss: 0.7461 - val_binary_accuracy: 0.5169\n",
      "Epoch 87/100\n",
      "19/19 [==============================] - 0s 21ms/step - loss: 0.6047 - binary_accuracy: 0.6670 - val_loss: 0.7631 - val_binary_accuracy: 0.5000\n",
      "Epoch 88/100\n",
      "19/19 [==============================] - 0s 20ms/step - loss: 0.5923 - binary_accuracy: 0.6723 - val_loss: 0.7665 - val_binary_accuracy: 0.4915\n",
      "Epoch 89/100\n",
      "19/19 [==============================] - 0s 18ms/step - loss: 0.5989 - binary_accuracy: 0.6649 - val_loss: 0.7796 - val_binary_accuracy: 0.5169\n",
      "Epoch 90/100\n",
      "19/19 [==============================] - 0s 19ms/step - loss: 0.6078 - binary_accuracy: 0.6628 - val_loss: 0.7555 - val_binary_accuracy: 0.5127\n",
      "Epoch 91/100\n",
      "19/19 [==============================] - 0s 19ms/step - loss: 0.6009 - binary_accuracy: 0.6809 - val_loss: 0.7693 - val_binary_accuracy: 0.5127\n",
      "Epoch 92/100\n",
      "19/19 [==============================] - 0s 19ms/step - loss: 0.6125 - binary_accuracy: 0.6596 - val_loss: 0.7648 - val_binary_accuracy: 0.5042\n",
      "Epoch 93/100\n",
      "19/19 [==============================] - 0s 19ms/step - loss: 0.5993 - binary_accuracy: 0.6862 - val_loss: 0.7584 - val_binary_accuracy: 0.4831\n",
      "Epoch 94/100\n",
      "19/19 [==============================] - 0s 19ms/step - loss: 0.5944 - binary_accuracy: 0.6798 - val_loss: 0.7663 - val_binary_accuracy: 0.4873\n",
      "Epoch 95/100\n",
      "19/19 [==============================] - 0s 18ms/step - loss: 0.6012 - binary_accuracy: 0.6755 - val_loss: 0.7610 - val_binary_accuracy: 0.4958\n",
      "Epoch 96/100\n",
      "19/19 [==============================] - 0s 19ms/step - loss: 0.5929 - binary_accuracy: 0.6968 - val_loss: 0.7569 - val_binary_accuracy: 0.5000\n",
      "Epoch 97/100\n",
      "19/19 [==============================] - 0s 19ms/step - loss: 0.5917 - binary_accuracy: 0.7021 - val_loss: 0.7727 - val_binary_accuracy: 0.4958\n",
      "Epoch 98/100\n",
      "19/19 [==============================] - 0s 19ms/step - loss: 0.6008 - binary_accuracy: 0.6638 - val_loss: 0.7848 - val_binary_accuracy: 0.5000\n",
      "Epoch 99/100\n",
      "19/19 [==============================] - 0s 18ms/step - loss: 0.5871 - binary_accuracy: 0.6926 - val_loss: 0.7598 - val_binary_accuracy: 0.5381\n",
      "Epoch 100/100\n",
      "19/19 [==============================] - 0s 18ms/step - loss: 0.5903 - binary_accuracy: 0.6809 - val_loss: 0.7701 - val_binary_accuracy: 0.5000\n"
     ]
    }
   ],
   "source": [
    "history = model.fit(X_train, y_train, \n",
    "                    batch_size=batch_size, \n",
    "                    epochs=epochs, \n",
    "                    validation_data=(X_val, y_val), \n",
    "                    verbose=1, \n",
    "                    callbacks=[tensorboard_call]) #, val_loss_callback])"
   ]
  },
  {
   "cell_type": "code",
   "execution_count": 13,
   "metadata": {},
   "outputs": [
    {
     "name": "stdout",
     "output_type": "stream",
     "text": [
      "Model: \"sequential\"\n",
      "_________________________________________________________________\n",
      "Layer (type)                 Output Shape              Param #   \n",
      "=================================================================\n",
      "simple_rnn (SimpleRNN)       (None, 19)                760       \n",
      "_________________________________________________________________\n",
      "gaussian_noise (GaussianNois (None, 19)                0         \n",
      "_________________________________________________________________\n",
      "dense (Dense)                (None, 1)                 20        \n",
      "=================================================================\n",
      "Total params: 780\n",
      "Trainable params: 780\n",
      "Non-trainable params: 0\n",
      "_________________________________________________________________\n"
     ]
    }
   ],
   "source": [
    "model.summary()"
   ]
  },
  {
   "cell_type": "code",
   "execution_count": 14,
   "metadata": {},
   "outputs": [
    {
     "name": "stdout",
     "output_type": "stream",
     "text": [
      "294/294 [==============================] - 1s 3ms/step - loss: 0.6841 - binary_accuracy: 0.6020\n",
      "test loss, test acc: [0.6840766668319702, 0.6020408272743225]\n"
     ]
    }
   ],
   "source": [
    "#evaluate model on test set\n",
    "results = model.evaluate(X_test, y_test, batch_size=1, verbose=1)\n",
    "print(\"test loss, test acc:\", results)"
   ]
  },
  {
   "cell_type": "code",
   "execution_count": 15,
   "metadata": {},
   "outputs": [
    {
     "data": {
      "image/png": "[encoded data removed]",
      "text/plain": [
       "<Figure size 432x288 with 1 Axes>"
      ]
     },
     "metadata": {
      "needs_background": "light"
     },
     "output_type": "display_data"
    }
   ],
   "source": [
    "#summarize history for accuracy\n",
    "plt.plot(history.history[(list(history.history.keys())[1])])\n",
    "plt.plot(history.history[(list(history.history.keys())[3])])\n",
    "plt.title('model accuracy')\n",
    "plt.ylabel('accuracy')\n",
    "plt.xlabel('epoch')\n",
    "plt.legend(['train', 'val'], loc='upper left')\n",
    "plt.show()"
   ]
  },
  {
   "cell_type": "code",
   "execution_count": 16,
   "metadata": {},
   "outputs": [
    {
     "data": {
      "image/png": "[encoded data removed]",
      "text/plain": [
       "<Figure size 432x288 with 1 Axes>"
      ]
     },
     "metadata": {
      "needs_background": "light"
     },
     "output_type": "display_data"
    }
   ],
   "source": [
    "#summarize history for loss\n",
    "plt.plot(history.history[(list(history.history.keys())[0])])\n",
    "plt.plot(history.history[(list(history.history.keys())[2])])\n",
    "plt.title('model loss')\n",
    "plt.ylabel('loss')\n",
    "plt.xlabel('epoch')\n",
    "plt.legend(['train', 'val'], loc='upper left')\n",
    "plt.show()"
   ]
  },
  {
   "cell_type": "code",
   "execution_count": 17,
   "metadata": {},
   "outputs": [
    {
     "name": "stdout",
     "output_type": "stream",
     "text": [
      "predictions: [[0.56433725]\n",
      " [0.16049975]\n",
      " [0.6420266 ]\n",
      " [0.41649464]\n",
      " [0.18881693]\n",
      " [0.46418396]\n",
      " [0.71678567]\n",
      " [0.5019559 ]\n",
      " [0.6842227 ]\n",
      " [0.2624968 ]\n",
      " [0.09634477]\n",
      " [0.51147115]\n",
      " [0.68152475]\n",
      " [0.44919333]\n",
      " [0.44437778]\n",
      " [0.17230204]\n",
      " [0.42010644]\n",
      " [0.21671766]\n",
      " [0.338664  ]\n",
      " [0.6165146 ]\n",
      " [0.4101821 ]\n",
      " [0.9058464 ]\n",
      " [0.7160303 ]\n",
      " [0.19976637]\n",
      " [0.58871555]\n",
      " [0.6116814 ]\n",
      " [0.23138273]\n",
      " [0.28667253]\n",
      " [0.27490208]\n",
      " [0.51273215]\n",
      " [0.8459329 ]\n",
      " [0.83496374]\n",
      " [0.3911875 ]\n",
      " [0.39506447]\n",
      " [0.5680617 ]\n",
      " [0.8351805 ]\n",
      " [0.5162503 ]\n",
      " [0.6013015 ]\n",
      " [0.39573434]\n",
      " [0.4966074 ]\n",
      " [0.34376442]\n",
      " [0.50706667]\n",
      " [0.6524425 ]\n",
      " [0.24031878]\n",
      " [0.36835474]\n",
      " [0.6456233 ]\n",
      " [0.2884838 ]\n",
      " [0.59830856]\n",
      " [0.5988182 ]\n",
      " [0.79314876]\n",
      " [0.7778544 ]\n",
      " [0.7594634 ]\n",
      " [0.5315306 ]\n",
      " [0.4404612 ]\n",
      " [0.6049681 ]\n",
      " [0.19829458]\n",
      " [0.64129645]\n",
      " [0.45825315]\n",
      " [0.6085129 ]\n",
      " [0.65623975]\n",
      " [0.30517936]\n",
      " [0.43857378]\n",
      " [0.6060256 ]\n",
      " [0.54519874]\n",
      " [0.6279848 ]\n",
      " [0.46030214]\n",
      " [0.27968717]\n",
      " [0.44227004]\n",
      " [0.45976156]\n",
      " [0.2573385 ]\n",
      " [0.13757452]\n",
      " [0.517815  ]\n",
      " [0.38824314]\n",
      " [0.5467893 ]\n",
      " [0.8128088 ]\n",
      " [0.6828894 ]\n",
      " [0.3063277 ]\n",
      " [0.73047924]\n",
      " [0.53414494]\n",
      " [0.6584275 ]\n",
      " [0.38688532]\n",
      " [0.7219395 ]\n",
      " [0.38700584]\n",
      " [0.35131776]\n",
      " [0.6193733 ]\n",
      " [0.66317964]\n",
      " [0.79176813]\n",
      " [0.40698045]\n",
      " [0.5369887 ]\n",
      " [0.67568123]\n",
      " [0.30181652]\n",
      " [0.69805   ]\n",
      " [0.29678655]\n",
      " [0.227965  ]\n",
      " [0.79649436]\n",
      " [0.3205067 ]\n",
      " [0.42470053]\n",
      " [0.37396973]\n",
      " [0.7788062 ]\n",
      " [0.49727595]\n",
      " [0.6825805 ]\n",
      " [0.45969343]\n",
      " [0.4937729 ]\n",
      " [0.33775473]\n",
      " [0.7361386 ]\n",
      " [0.747869  ]\n",
      " [0.54476166]\n",
      " [0.6970929 ]\n",
      " [0.5307224 ]\n",
      " [0.56174487]\n",
      " [0.32898694]\n",
      " [0.70978945]\n",
      " [0.31147516]\n",
      " [0.64080316]\n",
      " [0.6621522 ]\n",
      " [0.64457744]\n",
      " [0.565392  ]\n",
      " [0.1712234 ]\n",
      " [0.35979435]\n",
      " [0.39705265]\n",
      " [0.6589127 ]\n",
      " [0.34129906]\n",
      " [0.12177926]\n",
      " [0.44657898]\n",
      " [0.61425817]\n",
      " [0.313648  ]\n",
      " [0.7114616 ]\n",
      " [0.46709436]\n",
      " [0.8884354 ]\n",
      " [0.43115237]\n",
      " [0.36104363]\n",
      " [0.5766049 ]\n",
      " [0.79065967]\n",
      " [0.682739  ]\n",
      " [0.37577057]\n",
      " [0.41942036]\n",
      " [0.22140124]\n",
      " [0.4336737 ]\n",
      " [0.48433548]\n",
      " [0.35496187]\n",
      " [0.38856286]\n",
      " [0.3375662 ]\n",
      " [0.6324929 ]\n",
      " [0.16824439]\n",
      " [0.5013302 ]\n",
      " [0.17623034]\n",
      " [0.353495  ]\n",
      " [0.42042702]\n",
      " [0.7805285 ]\n",
      " [0.14572033]\n",
      " [0.26515618]\n",
      " [0.4741593 ]\n",
      " [0.12368318]\n",
      " [0.21348089]\n",
      " [0.4241748 ]\n",
      " [0.73672473]\n",
      " [0.29436547]\n",
      " [0.16849643]\n",
      " [0.62819105]\n",
      " [0.60748196]\n",
      " [0.27343416]\n",
      " [0.23206684]\n",
      " [0.34838152]\n",
      " [0.1993964 ]\n",
      " [0.59331596]\n",
      " [0.69540614]\n",
      " [0.6780914 ]\n",
      " [0.4027689 ]\n",
      " [0.29315397]\n",
      " [0.5235606 ]\n",
      " [0.6332243 ]\n",
      " [0.8674841 ]\n",
      " [0.20920074]\n",
      " [0.618885  ]\n",
      " [0.7498076 ]\n",
      " [0.2560083 ]\n",
      " [0.45433196]\n",
      " [0.49987003]\n",
      " [0.26605678]\n",
      " [0.80707616]\n",
      " [0.2439143 ]\n",
      " [0.542092  ]\n",
      " [0.39844567]\n",
      " [0.60560524]\n",
      " [0.55381316]\n",
      " [0.7997726 ]\n",
      " [0.43563163]\n",
      " [0.47973555]\n",
      " [0.26904333]\n",
      " [0.823225  ]\n",
      " [0.14525425]\n",
      " [0.6131178 ]\n",
      " [0.4985677 ]\n",
      " [0.5993506 ]\n",
      " [0.47141662]\n",
      " [0.3765959 ]\n",
      " [0.7611797 ]\n",
      " [0.37598532]\n",
      " [0.4240141 ]\n",
      " [0.44667217]\n",
      " [0.8608868 ]\n",
      " [0.3766618 ]\n",
      " [0.32769084]\n",
      " [0.83931977]\n",
      " [0.705791  ]\n",
      " [0.65917724]\n",
      " [0.45975047]\n",
      " [0.4525156 ]\n",
      " [0.48545814]\n",
      " [0.54888713]\n",
      " [0.46016246]\n",
      " [0.77672625]\n",
      " [0.49437565]\n",
      " [0.16938743]\n",
      " [0.6234635 ]\n",
      " [0.8570993 ]\n",
      " [0.33315486]\n",
      " [0.27285233]\n",
      " [0.5390605 ]\n",
      " [0.5543152 ]\n",
      " [0.58984166]\n",
      " [0.8632786 ]\n",
      " [0.7402551 ]\n",
      " [0.66221297]\n",
      " [0.2534666 ]\n",
      " [0.5307475 ]\n",
      " [0.69854414]\n",
      " [0.40794945]\n",
      " [0.4833942 ]\n",
      " [0.4904149 ]\n",
      " [0.17832151]\n",
      " [0.67695034]\n",
      " [0.7199245 ]\n",
      " [0.3115049 ]\n",
      " [0.8225819 ]\n",
      " [0.26699448]\n",
      " [0.50600207]\n",
      " [0.57831925]\n",
      " [0.49734956]\n",
      " [0.2882933 ]\n",
      " [0.44513315]\n",
      " [0.67931694]\n",
      " [0.26391196]\n",
      " [0.7117974 ]\n",
      " [0.46441275]\n",
      " [0.79619193]\n",
      " [0.6722039 ]\n",
      " [0.7804483 ]\n",
      " [0.67359453]\n",
      " [0.7565176 ]\n",
      " [0.89147055]\n",
      " [0.3332153 ]\n",
      " [0.32738668]\n",
      " [0.4104049 ]\n",
      " [0.8924333 ]\n",
      " [0.47148854]\n",
      " [0.71056354]\n",
      " [0.34142607]\n",
      " [0.5900862 ]\n",
      " [0.41461134]\n",
      " [0.50152236]\n",
      " [0.6653645 ]\n",
      " [0.63902617]\n",
      " [0.7746    ]\n",
      " [0.5533666 ]\n",
      " [0.812349  ]\n",
      " [0.54386926]\n",
      " [0.61727774]\n",
      " [0.7619179 ]\n",
      " [0.62840235]\n",
      " [0.42302504]\n",
      " [0.4736113 ]\n",
      " [0.53763485]\n",
      " [0.4113174 ]\n",
      " [0.680563  ]\n",
      " [0.5989177 ]\n",
      " [0.3102764 ]\n",
      " [0.84543645]\n",
      " [0.37301308]\n",
      " [0.48256224]\n",
      " [0.39770398]\n",
      " [0.7323783 ]\n",
      " [0.39937565]\n",
      " [0.63441026]\n",
      " [0.54403013]\n",
      " [0.4506901 ]\n",
      " [0.37487358]\n",
      " [0.29880726]\n",
      " [0.57635075]\n",
      " [0.71548724]\n",
      " [0.63111365]\n",
      " [0.32804617]\n",
      " [0.14359736]\n",
      " [0.39313936]]\n"
     ]
    }
   ],
   "source": [
    "#generate predictions\n",
    "predictions = model.predict(X_test)\n",
    "print(\"predictions:\", predictions)"
   ]
  },
  {
   "cell_type": "code",
   "execution_count": 18,
   "metadata": {},
   "outputs": [
    {
     "name": "stdout",
     "output_type": "stream",
     "text": [
      "['N' 'F' 'N' 'F' 'F' 'F' 'N' 'N' 'N' 'F' 'F' 'N' 'N' 'F' 'F' 'F' 'F' 'F'\n",
      " 'F' 'N' 'F' 'N' 'N' 'F' 'N' 'N' 'F' 'F' 'F' 'N' 'N' 'N' 'F' 'F' 'N' 'N'\n",
      " 'N' 'N' 'F' 'F' 'F' 'N' 'N' 'F' 'F' 'N' 'F' 'N' 'N' 'N' 'N' 'N' 'N' 'F'\n",
      " 'N' 'F' 'N' 'F' 'N' 'N' 'F' 'F' 'N' 'N' 'N' 'F' 'F' 'F' 'F' 'F' 'F' 'N'\n",
      " 'F' 'N' 'N' 'N' 'F' 'N' 'N' 'N' 'F' 'N' 'F' 'F' 'N' 'N' 'N' 'F' 'N' 'N'\n",
      " 'F' 'N' 'F' 'F' 'N' 'F' 'F' 'F' 'N' 'F' 'N' 'F' 'F' 'F' 'N' 'N' 'N' 'N'\n",
      " 'N' 'N' 'F' 'N' 'F' 'N' 'N' 'N' 'N' 'F' 'F' 'F' 'N' 'F' 'F' 'F' 'N' 'F'\n",
      " 'N' 'F' 'N' 'F' 'F' 'N' 'N' 'N' 'F' 'F' 'F' 'F' 'F' 'F' 'F' 'F' 'N' 'F'\n",
      " 'N' 'F' 'F' 'F' 'N' 'F' 'F' 'F' 'F' 'F' 'F' 'N' 'F' 'F' 'N' 'N' 'F' 'F'\n",
      " 'F' 'F' 'N' 'N' 'N' 'F' 'F' 'N' 'N' 'N' 'F' 'N' 'N' 'F' 'F' 'F' 'F' 'N'\n",
      " 'F' 'N' 'F' 'N' 'N' 'N' 'F' 'F' 'F' 'N' 'F' 'N' 'F' 'N' 'F' 'F' 'N' 'F'\n",
      " 'F' 'F' 'N' 'F' 'F' 'N' 'N' 'N' 'F' 'F' 'F' 'N' 'F' 'N' 'F' 'F' 'N' 'N'\n",
      " 'F' 'F' 'N' 'N' 'N' 'N' 'N' 'N' 'F' 'N' 'N' 'F' 'F' 'F' 'F' 'N' 'N' 'F'\n",
      " 'N' 'F' 'N' 'N' 'F' 'F' 'F' 'N' 'F' 'N' 'F' 'N' 'N' 'N' 'N' 'N' 'N' 'F'\n",
      " 'F' 'F' 'N' 'F' 'N' 'F' 'N' 'F' 'N' 'N' 'N' 'N' 'N' 'N' 'N' 'N' 'N' 'N'\n",
      " 'F' 'F' 'N' 'F' 'N' 'N' 'F' 'N' 'F' 'F' 'F' 'N' 'F' 'N' 'N' 'F' 'F' 'F'\n",
      " 'N' 'N' 'N' 'F' 'F' 'F']\n"
     ]
    }
   ],
   "source": [
    "#remove encoding\n",
    "real_predictions_B = a_encoder.inverse_transform(predictions)\n",
    "print(real_predictions_B)"
   ]
  },
  {
   "cell_type": "code",
   "execution_count": 19,
   "metadata": {},
   "outputs": [
    {
     "data": {
      "text/plain": [
       "{'F': 149, 'N': 145}"
      ]
     },
     "execution_count": 19,
     "metadata": {},
     "output_type": "execute_result"
    }
   ],
   "source": [
    "#prediction counts\n",
    "unique, counts = np.unique(real_predictions_B, return_counts=True)\n",
    "dict(zip(unique, counts))"
   ]
  },
  {
   "cell_type": "code",
   "execution_count": 20,
   "metadata": {},
   "outputs": [
    {
     "name": "stdout",
     "output_type": "stream",
     "text": [
      "['N' 'F' 'F' 'F' 'F' 'F' 'F' 'F' 'F' 'F' 'F' 'F' 'F' 'F' 'F' 'N' 'F' 'F'\n",
      " 'F' 'N' 'N' 'N' 'F' 'F' 'N' 'F' 'N' 'F' 'N' 'F' 'N' 'N' 'F' 'N' 'N' 'N'\n",
      " 'F' 'F' 'F' 'N' 'F' 'N' 'F' 'F' 'F' 'N' 'F' 'N' 'N' 'N' 'F' 'F' 'N' 'N'\n",
      " 'N' 'N' 'N' 'N' 'N' 'F' 'F' 'F' 'F' 'N' 'F' 'N' 'N' 'N' 'N' 'F' 'F' 'N'\n",
      " 'F' 'N' 'F' 'N' 'N' 'N' 'F' 'N' 'F' 'F' 'N' 'N' 'N' 'F' 'N' 'F' 'N' 'N'\n",
      " 'F' 'N' 'F' 'N' 'N' 'F' 'N' 'F' 'N' 'N' 'N' 'F' 'N' 'N' 'N' 'F' 'N' 'N'\n",
      " 'N' 'F' 'F' 'N' 'F' 'N' 'N' 'N' 'F' 'N' 'N' 'F' 'F' 'F' 'F' 'F' 'N' 'N'\n",
      " 'N' 'F' 'N' 'N' 'N' 'N' 'N' 'N' 'F' 'F' 'N' 'N' 'F' 'F' 'F' 'F' 'F' 'F'\n",
      " 'F' 'F' 'F' 'F' 'N' 'F' 'F' 'F' 'F' 'F' 'N' 'N' 'F' 'F' 'N' 'F' 'N' 'N'\n",
      " 'F' 'N' 'F' 'N' 'N' 'F' 'N' 'N' 'F' 'F' 'F' 'F' 'N' 'N' 'N' 'F' 'F' 'N'\n",
      " 'N' 'F' 'N' 'F' 'N' 'F' 'F' 'F' 'F' 'F' 'F' 'N' 'F' 'F' 'F' 'F' 'F' 'F'\n",
      " 'F' 'F' 'F' 'N' 'F' 'F' 'N' 'N' 'F' 'N' 'N' 'F' 'N' 'F' 'N' 'N' 'F' 'N'\n",
      " 'N' 'N' 'N' 'F' 'N' 'N' 'N' 'N' 'N' 'F' 'N' 'F' 'N' 'F' 'F' 'N' 'N' 'F'\n",
      " 'N' 'F' 'F' 'N' 'F' 'N' 'F' 'N' 'N' 'N' 'N' 'N' 'F' 'N' 'F' 'N' 'N' 'N'\n",
      " 'F' 'N' 'N' 'F' 'F' 'N' 'N' 'N' 'F' 'F' 'N' 'F' 'F' 'F' 'N' 'F' 'N' 'F'\n",
      " 'N' 'F' 'N' 'F' 'N' 'N' 'F' 'N' 'N' 'F' 'N' 'N' 'N' 'F' 'N' 'F' 'F' 'F'\n",
      " 'N' 'F' 'N' 'N' 'F' 'F']\n"
     ]
    }
   ],
   "source": [
    "#y_test predictions\n",
    "ytest_predictions = a_encoder.inverse_transform(y_test)\n",
    "print(ytest_predictions)"
   ]
  },
  {
   "cell_type": "code",
   "execution_count": 21,
   "metadata": {},
   "outputs": [
    {
     "data": {
      "text/plain": [
       "{'F': 148, 'N': 146}"
      ]
     },
     "execution_count": 21,
     "metadata": {},
     "output_type": "execute_result"
    }
   ],
   "source": [
    "#real count\n",
    "unique, counts = np.unique(ytest_predictions, return_counts=True)\n",
    "dict(zip(unique, counts))"
   ]
  },
  {
   "cell_type": "code",
   "execution_count": 22,
   "metadata": {},
   "outputs": [
    {
     "data": {
      "image/png": "[encoded data removed]",
      "text/plain": [
       "<Figure size 432x288 with 2 Axes>"
      ]
     },
     "metadata": {
      "needs_background": "light"
     },
     "output_type": "display_data"
    }
   ],
   "source": [
    "#confusion matrix\n",
    "matrix = confusion_matrix(ytest_predictions, real_predictions_B)\n",
    "#format confusion matrix\n",
    "ax=plt.subplot()\n",
    "sns.heatmap(matrix, annot=True, ax = ax, cmap='Blues', fmt='g');\n",
    "accuracy = np.trace(matrix) / np.sum(matrix).astype('float')\n",
    "misclass = 1 - accuracy\n",
    "ax.set_xlabel('Predicted label\\naccuracy={:0.4f}; misclass={:0.4f}'.format(accuracy, misclass));\n",
    "ax.set_ylabel('True labels'); \n",
    "ax.set_title('Confusion Matrix');\n",
    "ax.xaxis.set_ticklabels(unique); ax.yaxis.set_ticklabels(unique);"
   ]
  },
  {
   "cell_type": "code",
   "execution_count": 23,
   "metadata": {},
   "outputs": [
    {
     "name": "stdout",
     "output_type": "stream",
     "text": [
      "              precision    recall  f1-score   support\n",
      "\n",
      "           F       0.60      0.61      0.61       148\n",
      "           N       0.60      0.60      0.60       146\n",
      "\n",
      "    accuracy                           0.60       294\n",
      "   macro avg       0.60      0.60      0.60       294\n",
      "weighted avg       0.60      0.60      0.60       294\n",
      "\n"
     ]
    }
   ],
   "source": [
    "print(classification_report(ytest_predictions, real_predictions_B))"
   ]
  },
  {
   "cell_type": "code",
   "execution_count": 24,
   "metadata": {},
   "outputs": [
    {
     "name": "stdout",
     "output_type": "stream",
     "text": [
      "precision score:0.6020\n",
      "recall score:0.6020\n",
      "f1 score:0.6020\n"
     ]
    }
   ],
   "source": [
    "#macro - calculate metrics for each label, and find their unweighted mean\n",
    "pre_score = precision_score(ytest_predictions, real_predictions_B, average = \"macro\")\n",
    "print('precision score:{:0.4f}'.format(pre_score))\n",
    "recall_score_1 = recall_score(ytest_predictions, real_predictions_B, average= \"macro\")\n",
    "print('recall score:{:0.4f}'.format(recall_score_1))\n",
    "f1_score_1 = f1_score(ytest_predictions, real_predictions_B, average=\"macro\")\n",
    "print('f1 score:{:0.4f}'.format(f1_score_1))"
   ]
  }
 ],
 "metadata": {
  "kernelspec": {
   "display_name": "Python 3",
   "language": "python",
   "name": "python3"
  },
  "language_info": {
   "codemirror_mode": {
    "name": "ipython",
    "version": 3
   },
   "file_extension": ".py",
   "mimetype": "text/x-python",
   "name": "python",
   "nbconvert_exporter": "python",
   "pygments_lexer": "ipython3",
   "version": "3.8.3"
  }
 },
 "nbformat": 4,
 "nbformat_minor": 4
}
