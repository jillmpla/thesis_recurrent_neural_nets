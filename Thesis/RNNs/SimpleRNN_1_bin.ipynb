{
 "cells": [
  {
   "cell_type": "code",
   "execution_count": 1,
   "metadata": {},
   "outputs": [],
   "source": [
    "#tensorboard via command-line:\n",
    "#tensorboard --logdir=where your Logs directory is"
   ]
  },
  {
   "cell_type": "code",
   "execution_count": 2,
   "metadata": {},
   "outputs": [],
   "source": [
    "#~~~~~~~~~~~~~~~~~~~~~~~~~~~~~~~~~~~~~~~~~~~~~~~~~~~~~~~~~~~~~~~~~~~~~~~~~~~~~~~~~~~~~~~~~~~~~~~~~~~~~~~#\n",
    "#What is the maximum flare class produced by an AR in the next 24hrs after a 24hr time sequence?\n",
    "#~~~~~~~~~~~~~~~~~~~~~~~~~~~~~~~~~~~~~~~~~~~~~~~~~~~~~~~~~~~~~~~~~~~~~~~~~~~~~~~~~~~~~~~~~~~~~~~~~~~~~~~#\n",
    "#feature data from - hmi.sharp_720s:::\n",
    "#http://jsoc.stanford.edu/doc/data/hmi/sharp/sharp.htm\n",
    "\n",
    "#label data from - GOES flare events:::\n",
    "#ftp://ftp.swpc.noaa.gov/pub/warehouse/\n",
    "\n",
    "#and from - GOES XRS Report:::\n",
    "#https://www.ngdc.noaa.gov/stp/space-weather/solar-data/solar-features/solar-flares/x-rays/goes/xrs/\n",
    "#~~~~~~~~~~~~~~~~~~~~~~~~~~~~~~~~~~~~~~~~~~~~~~~~~~~~~~~~~~~~~~~~~~~~~~~~~~~~~~~~~~~~~~~~~~~~~~~~~~~~~~~#\n",
    "#binary class - F for flare and N for no flare\n",
    "#multi-class - #6 flare classes: N is no flare, A is smallest, X is largest\n",
    "               #key = {'N', 'A', 'B', 'C', 'M', 'X'}\n",
    "               #['A' class flares generally not listed in official reports due to small size]\n",
    "#~~~~~~~~~~~~~~~~~~~~~~~~~~~~~~~~~~~~~~~~~~~~~~~~~~~~~~~~~~~~~~~~~~~~~~~~~~~~~~~~~~~~~~~~~~~~~~~~~~~~~~~#"
   ]
  },
  {
   "cell_type": "code",
   "execution_count": 3,
   "metadata": {},
   "outputs": [
    {
     "name": "stdout",
     "output_type": "stream",
     "text": [
      "tensorflow version: 2.3.1\n"
     ]
    }
   ],
   "source": [
    "import tensorflow as tf\n",
    "print(\"tensorflow version:\", tf.__version__) #2.3.1 used\n",
    "from tensorflow import keras\n",
    "import os\n",
    "import glob\n",
    "import shutil\n",
    "import datetime\n",
    "import numpy as np\n",
    "import pandas as pd\n",
    "import seaborn as sns\n",
    "from pathlib import Path\n",
    "from astropy.time import Time\n",
    "from matplotlib import pyplot as plt\n",
    "from sklearn.metrics import f1_score, precision_score, recall_score, classification_report, confusion_matrix\n",
    "from sklearn.metrics import plot_confusion_matrix\n",
    "from sklearn.preprocessing import LabelBinarizer\n",
    "from sklearn.model_selection import train_test_split\n",
    "from sklearn.preprocessing import MinMaxScaler\n",
    "from tensorflow.keras.layers import Dropout, Dense, SimpleRNN, LSTM, GRU, GaussianNoise\n",
    "from tensorflow.keras.models import Model, Sequential\n",
    "from tensorflow.keras.optimizers import SGD, RMSprop, Adam\n",
    "import drms #https://pypi.org/project/drms/\n",
    "#~~~~~~~~~~~~~~~~~~~~~~~~~~~~~~~~~~~~~~~~~~~~~~~~~~~~~~~~~~~~~~~~~~~~~~~~~~~~~~~~~~~~~~~~~~~~~~~~~~~~~~~#\n",
    "import Flare_Data\n",
    "import Feature_Years\n",
    "import Make_TB_Logs\n",
    "#~~~~~~~~~~~~~~~~~~~~~~~~~~~~~~~~~~~~~~~~~~~~~~~~~~~~~~~~~~~~~~~~~~~~~~~~~~~~~~~~~~~~~~~~~~~~~~~~~~~~~~~#"
   ]
  },
  {
   "cell_type": "code",
   "execution_count": 4,
   "metadata": {},
   "outputs": [
    {
     "name": "stdout",
     "output_type": "stream",
     "text": [
      "CSVs compiled.\n"
     ]
    }
   ],
   "source": [
    "Feature_Years.generate_all_feature_years()"
   ]
  },
  {
   "cell_type": "code",
   "execution_count": 5,
   "metadata": {},
   "outputs": [],
   "source": [
    "where_logs = Make_TB_Logs.make_clear_tensorboard_folder()"
   ]
  },
  {
   "cell_type": "code",
   "execution_count": 6,
   "metadata": {},
   "outputs": [
    {
     "name": "stdout",
     "output_type": "stream",
     "text": [
      "The time series starts from:  2011-01-01 00:11:26\n",
      "The time series ends on:  2016-12-31 23:47:24\n",
      "(array(['F', 'N'], dtype='<U1'), array([741, 729], dtype=int64))\n"
     ]
    }
   ],
   "source": [
    "#binary = True for binary classification, binary = False for multi-class classification\n",
    "X_train, X_val, X_test, y_train, y_val, y_test, tim_steps, n_feats, count_of_classes, a_encoder = Flare_Data.getAllData(binary = True)"
   ]
  },
  {
   "cell_type": "code",
   "execution_count": 7,
   "metadata": {},
   "outputs": [
    {
     "name": "stdout",
     "output_type": "stream",
     "text": [
      "(940, 114, 20) (236, 114, 20) (294, 114, 20) (940, 1) (236, 1) (294, 1)\n"
     ]
    }
   ],
   "source": [
    "print(X_train.shape, X_val.shape, X_test.shape, y_train.shape, y_val.shape, y_test.shape)"
   ]
  },
  {
   "cell_type": "code",
   "execution_count": 8,
   "metadata": {},
   "outputs": [],
   "source": [
    "#~~~~~~~~~~~~~~~~~~~~~~~~~~~~~~~~~~~~~~~~~~~~~~~~~~~~~~~~~~~~~~~~~~~~~~~~~~~~~~~~~~~~~~~~~~~~~~~~~~~~~~~#\n",
    "#~~~~~~~~~~~~~~~~~~~~~~~~~~~~~~~~~~~~~~~~~~~~~~~~~~~~~~~~~~~~~~~~~~~~~~~~~~~~~~~~~~~~~~~~~~~~~~~~~~~~~~~#"
   ]
  },
  {
   "cell_type": "code",
   "execution_count": 9,
   "metadata": {},
   "outputs": [],
   "source": [
    "batch_size = 50\n",
    "epochs = 100\n",
    "optimizer = Adam(lr=0.001, beta_1=0.9, beta_2=0.999, epsilon=1e-06, decay=0.0)"
   ]
  },
  {
   "cell_type": "code",
   "execution_count": 10,
   "metadata": {},
   "outputs": [],
   "source": [
    "#~~~~~~~~~~~~~~~~~~~~~~~~~~~~~~~~~~~~~~~[SimpleRNN_1 Model]~~~~~~~~~~~~~~~~~~~~~~~~~~~~~~~~~~~~~~~~~~~~~#\n",
    "#~~~~~~~~~~~~~~~~~~~~~~~~~~~~~~~~~~~~~~~[Binary-Class]~~~~~~~~~~~~~~~~~~~~~~~~~~~~~~~~~~~~~~~~~~~~~~~~~~#\n",
    "#~~~~~~~~~~~~~~~~~~~~~~~~~~~~~~~~~~~~~~~[Single Layer]~~~~~~~~~~~~~~~~~~~~~~~~~~~~~~~~~~~~~~~~~~~~~~~~~~#\n",
    "model = Sequential()\n",
    "model.add(SimpleRNN(19,  input_shape=(tim_steps, n_feats), recurrent_dropout=0.05))\n",
    "model.add(GaussianNoise(0.01))\n",
    "model.add(Dense(1, activation='sigmoid'))\n",
    "model.compile(loss='binary_crossentropy', optimizer=optimizer, metrics=['binary_accuracy'])\n",
    "#~~~~~~~~~~~~~~~~~~~~~~~~~~~~~~~~~~~~~~~~~~~~~~~~~~~~~~~~~~~~~~~~~~~~~~~~~~~~~~~~~~~~~~~~~~~~~~~~~~~~~~~#\n",
    "#~~~~~~~~~~~~~~~~~~~~~~~~~~~~~~~~~~~~~~~~~~~~~~~~~~~~~~~~~~~~~~~~~~~~~~~~~~~~~~~~~~~~~~~~~~~~~~~~~~~~~~~#"
   ]
  },
  {
   "cell_type": "code",
   "execution_count": 11,
   "metadata": {},
   "outputs": [],
   "source": [
    "tensorboard_call = keras.callbacks.TensorBoard(log_dir=where_logs, histogram_freq=1)\n",
    "#val_loss_callback = tf.keras.callbacks.EarlyStopping(monitor='val_loss', patience=10)"
   ]
  },
  {
   "cell_type": "code",
   "execution_count": 12,
   "metadata": {},
   "outputs": [
    {
     "name": "stdout",
     "output_type": "stream",
     "text": [
      "Epoch 1/100\n",
      " 1/19 [>.............................] - ETA: 0s - loss: 0.6706 - binary_accuracy: 0.6400WARNING:tensorflow:From C:\\ProgramData\\Anaconda3\\lib\\site-packages\\tensorflow\\python\\ops\\summary_ops_v2.py:1277: stop (from tensorflow.python.eager.profiler) is deprecated and will be removed after 2020-07-01.\n",
      "Instructions for updating:\n",
      "use `tf.profiler.experimental.stop` instead.\n",
      " 2/19 [==>...........................] - ETA: 2s - loss: 0.6685 - binary_accuracy: 0.6000WARNING:tensorflow:Callbacks method `on_train_batch_end` is slow compared to the batch time (batch time: 0.0230s vs `on_train_batch_end` time: 0.2108s). Check your callbacks.\n",
      "19/19 [==============================] - 1s 48ms/step - loss: 0.7054 - binary_accuracy: 0.5117 - val_loss: 0.6984 - val_binary_accuracy: 0.5000\n",
      "Epoch 2/100\n",
      "19/19 [==============================] - 0s 21ms/step - loss: 0.6948 - binary_accuracy: 0.5298 - val_loss: 0.6986 - val_binary_accuracy: 0.5297\n",
      "Epoch 3/100\n",
      "19/19 [==============================] - 0s 20ms/step - loss: 0.6927 - binary_accuracy: 0.5372 - val_loss: 0.7011 - val_binary_accuracy: 0.5339\n",
      "Epoch 4/100\n",
      "19/19 [==============================] - 0s 20ms/step - loss: 0.6925 - binary_accuracy: 0.5298 - val_loss: 0.7006 - val_binary_accuracy: 0.5381\n",
      "Epoch 5/100\n",
      "19/19 [==============================] - 0s 19ms/step - loss: 0.6883 - binary_accuracy: 0.5511 - val_loss: 0.7024 - val_binary_accuracy: 0.5085\n",
      "Epoch 6/100\n",
      "19/19 [==============================] - 0s 19ms/step - loss: 0.6865 - binary_accuracy: 0.5426 - val_loss: 0.7021 - val_binary_accuracy: 0.5466\n",
      "Epoch 7/100\n",
      "19/19 [==============================] - 0s 20ms/step - loss: 0.6794 - binary_accuracy: 0.5691 - val_loss: 0.7035 - val_binary_accuracy: 0.5339\n",
      "Epoch 8/100\n",
      "19/19 [==============================] - 0s 20ms/step - loss: 0.6856 - binary_accuracy: 0.5638 - val_loss: 0.7056 - val_binary_accuracy: 0.5297\n",
      "Epoch 9/100\n",
      "19/19 [==============================] - 0s 19ms/step - loss: 0.6772 - binary_accuracy: 0.5681 - val_loss: 0.7079 - val_binary_accuracy: 0.5381\n",
      "Epoch 10/100\n",
      "19/19 [==============================] - 0s 22ms/step - loss: 0.6727 - binary_accuracy: 0.5734 - val_loss: 0.7209 - val_binary_accuracy: 0.4958\n",
      "Epoch 11/100\n",
      "19/19 [==============================] - 0s 22ms/step - loss: 0.6740 - binary_accuracy: 0.5894 - val_loss: 0.7119 - val_binary_accuracy: 0.5254\n",
      "Epoch 12/100\n",
      "19/19 [==============================] - 0s 21ms/step - loss: 0.6693 - binary_accuracy: 0.5840 - val_loss: 0.7172 - val_binary_accuracy: 0.5169\n",
      "Epoch 13/100\n",
      "19/19 [==============================] - 0s 22ms/step - loss: 0.6636 - binary_accuracy: 0.5968 - val_loss: 0.7198 - val_binary_accuracy: 0.5212\n",
      "Epoch 14/100\n",
      "19/19 [==============================] - 0s 23ms/step - loss: 0.6640 - binary_accuracy: 0.6011 - val_loss: 0.7257 - val_binary_accuracy: 0.5212\n",
      "Epoch 15/100\n",
      "19/19 [==============================] - 0s 22ms/step - loss: 0.6686 - binary_accuracy: 0.5840 - val_loss: 0.7278 - val_binary_accuracy: 0.5127\n",
      "Epoch 16/100\n",
      "19/19 [==============================] - 0s 19ms/step - loss: 0.6633 - binary_accuracy: 0.6096 - val_loss: 0.7196 - val_binary_accuracy: 0.5212\n",
      "Epoch 17/100\n",
      "19/19 [==============================] - 0s 23ms/step - loss: 0.6599 - binary_accuracy: 0.6064 - val_loss: 0.7219 - val_binary_accuracy: 0.5297\n",
      "Epoch 18/100\n",
      "19/19 [==============================] - 0s 22ms/step - loss: 0.6579 - binary_accuracy: 0.6149 - val_loss: 0.7270 - val_binary_accuracy: 0.5212\n",
      "Epoch 19/100\n",
      "19/19 [==============================] - 0s 24ms/step - loss: 0.6652 - binary_accuracy: 0.6170 - val_loss: 0.7379 - val_binary_accuracy: 0.5000\n",
      "Epoch 20/100\n",
      "19/19 [==============================] - 0s 21ms/step - loss: 0.6708 - binary_accuracy: 0.5926 - val_loss: 0.7201 - val_binary_accuracy: 0.5127\n",
      "Epoch 21/100\n",
      "19/19 [==============================] - 0s 21ms/step - loss: 0.6675 - binary_accuracy: 0.5862 - val_loss: 0.7183 - val_binary_accuracy: 0.5085\n",
      "Epoch 22/100\n",
      "19/19 [==============================] - 0s 22ms/step - loss: 0.6649 - binary_accuracy: 0.5957 - val_loss: 0.7176 - val_binary_accuracy: 0.5381\n",
      "Epoch 23/100\n",
      "19/19 [==============================] - 0s 21ms/step - loss: 0.6611 - binary_accuracy: 0.5926 - val_loss: 0.7186 - val_binary_accuracy: 0.5127\n",
      "Epoch 24/100\n",
      "19/19 [==============================] - 0s 22ms/step - loss: 0.6596 - binary_accuracy: 0.6181 - val_loss: 0.7238 - val_binary_accuracy: 0.5212\n",
      "Epoch 25/100\n",
      "19/19 [==============================] - 0s 21ms/step - loss: 0.6531 - binary_accuracy: 0.6213 - val_loss: 0.7300 - val_binary_accuracy: 0.5042\n",
      "Epoch 26/100\n",
      "19/19 [==============================] - 0s 21ms/step - loss: 0.6665 - binary_accuracy: 0.5915 - val_loss: 0.7270 - val_binary_accuracy: 0.5042\n",
      "Epoch 27/100\n",
      "19/19 [==============================] - 0s 20ms/step - loss: 0.6539 - binary_accuracy: 0.6106 - val_loss: 0.7230 - val_binary_accuracy: 0.5127\n",
      "Epoch 28/100\n",
      "19/19 [==============================] - 0s 21ms/step - loss: 0.6524 - binary_accuracy: 0.6298 - val_loss: 0.7278 - val_binary_accuracy: 0.5339\n",
      "Epoch 29/100\n",
      "19/19 [==============================] - 0s 21ms/step - loss: 0.6529 - binary_accuracy: 0.6160 - val_loss: 0.7419 - val_binary_accuracy: 0.5085\n",
      "Epoch 30/100\n",
      "19/19 [==============================] - 0s 20ms/step - loss: 0.6462 - binary_accuracy: 0.6340 - val_loss: 0.7320 - val_binary_accuracy: 0.5339\n",
      "Epoch 31/100\n",
      "19/19 [==============================] - 0s 22ms/step - loss: 0.6575 - binary_accuracy: 0.6096 - val_loss: 0.7231 - val_binary_accuracy: 0.5085\n",
      "Epoch 32/100\n",
      "19/19 [==============================] - 0s 22ms/step - loss: 0.6554 - binary_accuracy: 0.6117 - val_loss: 0.7247 - val_binary_accuracy: 0.5212\n",
      "Epoch 33/100\n",
      "19/19 [==============================] - 0s 21ms/step - loss: 0.6486 - binary_accuracy: 0.6223 - val_loss: 0.7276 - val_binary_accuracy: 0.5042\n",
      "Epoch 34/100\n",
      "19/19 [==============================] - 0s 21ms/step - loss: 0.6434 - binary_accuracy: 0.6351 - val_loss: 0.7408 - val_binary_accuracy: 0.5042\n",
      "Epoch 35/100\n",
      "19/19 [==============================] - 0s 22ms/step - loss: 0.6668 - binary_accuracy: 0.5936 - val_loss: 0.7263 - val_binary_accuracy: 0.5000\n",
      "Epoch 36/100\n",
      "19/19 [==============================] - 0s 22ms/step - loss: 0.6589 - binary_accuracy: 0.5989 - val_loss: 0.7264 - val_binary_accuracy: 0.5127\n",
      "Epoch 37/100\n",
      "19/19 [==============================] - 0s 20ms/step - loss: 0.6533 - binary_accuracy: 0.6266 - val_loss: 0.7259 - val_binary_accuracy: 0.4958\n",
      "Epoch 38/100\n",
      "19/19 [==============================] - 0s 21ms/step - loss: 0.6499 - binary_accuracy: 0.6255 - val_loss: 0.7299 - val_binary_accuracy: 0.5085\n",
      "Epoch 39/100\n",
      "19/19 [==============================] - 0s 22ms/step - loss: 0.6430 - binary_accuracy: 0.6330 - val_loss: 0.7280 - val_binary_accuracy: 0.5254\n",
      "Epoch 40/100\n",
      "19/19 [==============================] - 0s 21ms/step - loss: 0.6504 - binary_accuracy: 0.6309 - val_loss: 0.7294 - val_binary_accuracy: 0.5212\n",
      "Epoch 41/100\n",
      "19/19 [==============================] - 0s 22ms/step - loss: 0.6480 - binary_accuracy: 0.6372 - val_loss: 0.7366 - val_binary_accuracy: 0.5169\n",
      "Epoch 42/100\n",
      "19/19 [==============================] - 0s 21ms/step - loss: 0.6484 - binary_accuracy: 0.6277 - val_loss: 0.7338 - val_binary_accuracy: 0.5042\n",
      "Epoch 43/100\n",
      "19/19 [==============================] - 0s 21ms/step - loss: 0.6444 - binary_accuracy: 0.6330 - val_loss: 0.7355 - val_binary_accuracy: 0.5169\n",
      "Epoch 44/100\n",
      "19/19 [==============================] - 0s 21ms/step - loss: 0.6498 - binary_accuracy: 0.6319 - val_loss: 0.7368 - val_binary_accuracy: 0.5127\n",
      "Epoch 45/100\n",
      "19/19 [==============================] - 0s 21ms/step - loss: 0.6490 - binary_accuracy: 0.6085 - val_loss: 0.7453 - val_binary_accuracy: 0.5085\n",
      "Epoch 46/100\n",
      "19/19 [==============================] - 0s 21ms/step - loss: 0.6510 - binary_accuracy: 0.6032 - val_loss: 0.7351 - val_binary_accuracy: 0.5085\n",
      "Epoch 47/100\n",
      "19/19 [==============================] - 0s 20ms/step - loss: 0.6458 - binary_accuracy: 0.6309 - val_loss: 0.7278 - val_binary_accuracy: 0.5212\n",
      "Epoch 48/100\n",
      "19/19 [==============================] - 0s 21ms/step - loss: 0.6465 - binary_accuracy: 0.6181 - val_loss: 0.7301 - val_binary_accuracy: 0.5254\n",
      "Epoch 49/100\n"
     ]
    },
    {
     "name": "stdout",
     "output_type": "stream",
     "text": [
      "19/19 [==============================] - 0s 20ms/step - loss: 0.6429 - binary_accuracy: 0.6223 - val_loss: 0.7302 - val_binary_accuracy: 0.5339\n",
      "Epoch 50/100\n",
      "19/19 [==============================] - 0s 20ms/step - loss: 0.6409 - binary_accuracy: 0.6287 - val_loss: 0.7346 - val_binary_accuracy: 0.5339\n",
      "Epoch 51/100\n",
      "19/19 [==============================] - 0s 22ms/step - loss: 0.6342 - binary_accuracy: 0.6426 - val_loss: 0.7343 - val_binary_accuracy: 0.5381\n",
      "Epoch 52/100\n",
      "19/19 [==============================] - 0s 21ms/step - loss: 0.6480 - binary_accuracy: 0.6160 - val_loss: 0.7297 - val_binary_accuracy: 0.5297\n",
      "Epoch 53/100\n",
      "19/19 [==============================] - 0s 21ms/step - loss: 0.6334 - binary_accuracy: 0.6521 - val_loss: 0.7394 - val_binary_accuracy: 0.5212\n",
      "Epoch 54/100\n",
      "19/19 [==============================] - 0s 20ms/step - loss: 0.6316 - binary_accuracy: 0.6426 - val_loss: 0.7376 - val_binary_accuracy: 0.5212\n",
      "Epoch 55/100\n",
      "19/19 [==============================] - 0s 21ms/step - loss: 0.6447 - binary_accuracy: 0.6160 - val_loss: 0.7451 - val_binary_accuracy: 0.5424\n",
      "Epoch 56/100\n",
      "19/19 [==============================] - 0s 20ms/step - loss: 0.6377 - binary_accuracy: 0.6383 - val_loss: 0.7361 - val_binary_accuracy: 0.5169\n",
      "Epoch 57/100\n",
      "19/19 [==============================] - 0s 20ms/step - loss: 0.6373 - binary_accuracy: 0.6500 - val_loss: 0.7293 - val_binary_accuracy: 0.5339\n",
      "Epoch 58/100\n",
      "19/19 [==============================] - 0s 21ms/step - loss: 0.6317 - binary_accuracy: 0.6532 - val_loss: 0.7392 - val_binary_accuracy: 0.5508\n",
      "Epoch 59/100\n",
      "19/19 [==============================] - 0s 22ms/step - loss: 0.6556 - binary_accuracy: 0.6160 - val_loss: 0.7391 - val_binary_accuracy: 0.5212\n",
      "Epoch 60/100\n",
      "19/19 [==============================] - 0s 20ms/step - loss: 0.6398 - binary_accuracy: 0.6351 - val_loss: 0.7326 - val_binary_accuracy: 0.5169\n",
      "Epoch 61/100\n",
      "19/19 [==============================] - 0s 21ms/step - loss: 0.6268 - binary_accuracy: 0.6532 - val_loss: 0.7338 - val_binary_accuracy: 0.5508\n",
      "Epoch 62/100\n",
      "19/19 [==============================] - 0s 21ms/step - loss: 0.6398 - binary_accuracy: 0.6468 - val_loss: 0.7331 - val_binary_accuracy: 0.5636\n",
      "Epoch 63/100\n",
      "19/19 [==============================] - 0s 21ms/step - loss: 0.6278 - binary_accuracy: 0.6383 - val_loss: 0.7334 - val_binary_accuracy: 0.5339\n",
      "Epoch 64/100\n",
      "19/19 [==============================] - 0s 21ms/step - loss: 0.6381 - binary_accuracy: 0.6394 - val_loss: 0.7409 - val_binary_accuracy: 0.5212\n",
      "Epoch 65/100\n",
      "19/19 [==============================] - 0s 22ms/step - loss: 0.6369 - binary_accuracy: 0.6340 - val_loss: 0.7399 - val_binary_accuracy: 0.5339\n",
      "Epoch 66/100\n",
      "19/19 [==============================] - 0s 21ms/step - loss: 0.6329 - binary_accuracy: 0.6340 - val_loss: 0.7340 - val_binary_accuracy: 0.5424\n",
      "Epoch 67/100\n",
      "19/19 [==============================] - 0s 21ms/step - loss: 0.6361 - binary_accuracy: 0.6372 - val_loss: 0.7323 - val_binary_accuracy: 0.5508\n",
      "Epoch 68/100\n",
      "19/19 [==============================] - 0s 21ms/step - loss: 0.6259 - binary_accuracy: 0.6511 - val_loss: 0.7344 - val_binary_accuracy: 0.5466\n",
      "Epoch 69/100\n",
      "19/19 [==============================] - 0s 21ms/step - loss: 0.6284 - binary_accuracy: 0.6511 - val_loss: 0.7350 - val_binary_accuracy: 0.5381\n",
      "Epoch 70/100\n",
      "19/19 [==============================] - 0s 21ms/step - loss: 0.6280 - binary_accuracy: 0.6638 - val_loss: 0.7421 - val_binary_accuracy: 0.5508\n",
      "Epoch 71/100\n",
      "19/19 [==============================] - 0s 21ms/step - loss: 0.6282 - binary_accuracy: 0.6500 - val_loss: 0.7537 - val_binary_accuracy: 0.5169\n",
      "Epoch 72/100\n",
      "19/19 [==============================] - 0s 21ms/step - loss: 0.6344 - binary_accuracy: 0.6457 - val_loss: 0.7340 - val_binary_accuracy: 0.5339\n",
      "Epoch 73/100\n",
      "19/19 [==============================] - 0s 20ms/step - loss: 0.6262 - binary_accuracy: 0.6553 - val_loss: 0.7436 - val_binary_accuracy: 0.5678\n",
      "Epoch 74/100\n",
      "19/19 [==============================] - 0s 21ms/step - loss: 0.6285 - binary_accuracy: 0.6574 - val_loss: 0.7538 - val_binary_accuracy: 0.5169\n",
      "Epoch 75/100\n",
      "19/19 [==============================] - 0s 21ms/step - loss: 0.6404 - binary_accuracy: 0.6298 - val_loss: 0.7327 - val_binary_accuracy: 0.5169\n",
      "Epoch 76/100\n",
      "19/19 [==============================] - 0s 20ms/step - loss: 0.6277 - binary_accuracy: 0.6457 - val_loss: 0.7417 - val_binary_accuracy: 0.5339\n",
      "Epoch 77/100\n",
      "19/19 [==============================] - 0s 21ms/step - loss: 0.6332 - binary_accuracy: 0.6574 - val_loss: 0.7373 - val_binary_accuracy: 0.5636\n",
      "Epoch 78/100\n",
      "19/19 [==============================] - 0s 21ms/step - loss: 0.6277 - binary_accuracy: 0.6532 - val_loss: 0.7270 - val_binary_accuracy: 0.5381\n",
      "Epoch 79/100\n",
      "19/19 [==============================] - 0s 21ms/step - loss: 0.6253 - binary_accuracy: 0.6543 - val_loss: 0.7497 - val_binary_accuracy: 0.5254\n",
      "Epoch 80/100\n",
      "19/19 [==============================] - 0s 20ms/step - loss: 0.6264 - binary_accuracy: 0.6585 - val_loss: 0.7349 - val_binary_accuracy: 0.5254\n",
      "Epoch 81/100\n",
      "19/19 [==============================] - 0s 21ms/step - loss: 0.6294 - binary_accuracy: 0.6670 - val_loss: 0.7296 - val_binary_accuracy: 0.5593\n",
      "Epoch 82/100\n",
      "19/19 [==============================] - 0s 21ms/step - loss: 0.6304 - binary_accuracy: 0.6468 - val_loss: 0.7385 - val_binary_accuracy: 0.5381\n",
      "Epoch 83/100\n",
      "19/19 [==============================] - 0s 20ms/step - loss: 0.6290 - binary_accuracy: 0.6426 - val_loss: 0.7323 - val_binary_accuracy: 0.5381\n",
      "Epoch 84/100\n",
      "19/19 [==============================] - 0s 21ms/step - loss: 0.6240 - binary_accuracy: 0.6532 - val_loss: 0.7577 - val_binary_accuracy: 0.5212\n",
      "Epoch 85/100\n",
      "19/19 [==============================] - 0s 21ms/step - loss: 0.6341 - binary_accuracy: 0.6447 - val_loss: 0.7415 - val_binary_accuracy: 0.5254\n",
      "Epoch 86/100\n",
      "19/19 [==============================] - 0s 20ms/step - loss: 0.6308 - binary_accuracy: 0.6457 - val_loss: 0.7420 - val_binary_accuracy: 0.5297\n",
      "Epoch 87/100\n",
      "19/19 [==============================] - 0s 20ms/step - loss: 0.6308 - binary_accuracy: 0.6521 - val_loss: 0.7408 - val_binary_accuracy: 0.5678\n",
      "Epoch 88/100\n",
      "19/19 [==============================] - 0s 21ms/step - loss: 0.6186 - binary_accuracy: 0.6681 - val_loss: 0.7374 - val_binary_accuracy: 0.5254\n",
      "Epoch 89/100\n",
      "19/19 [==============================] - 0s 20ms/step - loss: 0.6165 - binary_accuracy: 0.6691 - val_loss: 0.7412 - val_binary_accuracy: 0.5424\n",
      "Epoch 90/100\n",
      "19/19 [==============================] - 0s 20ms/step - loss: 0.6106 - binary_accuracy: 0.6691 - val_loss: 0.7374 - val_binary_accuracy: 0.5636\n",
      "Epoch 91/100\n",
      "19/19 [==============================] - 0s 21ms/step - loss: 0.6217 - binary_accuracy: 0.6511 - val_loss: 0.7423 - val_binary_accuracy: 0.5381\n",
      "Epoch 92/100\n",
      "19/19 [==============================] - 0s 21ms/step - loss: 0.6141 - binary_accuracy: 0.6670 - val_loss: 0.7406 - val_binary_accuracy: 0.5381\n",
      "Epoch 93/100\n",
      "19/19 [==============================] - 0s 20ms/step - loss: 0.6293 - binary_accuracy: 0.6372 - val_loss: 0.7520 - val_binary_accuracy: 0.5297\n",
      "Epoch 94/100\n",
      "19/19 [==============================] - 0s 21ms/step - loss: 0.6092 - binary_accuracy: 0.6787 - val_loss: 0.7498 - val_binary_accuracy: 0.5424\n",
      "Epoch 95/100\n",
      "19/19 [==============================] - 0s 21ms/step - loss: 0.6137 - binary_accuracy: 0.6734 - val_loss: 0.7438 - val_binary_accuracy: 0.5297\n",
      "Epoch 96/100\n",
      "19/19 [==============================] - 0s 22ms/step - loss: 0.6213 - binary_accuracy: 0.6596 - val_loss: 0.7423 - val_binary_accuracy: 0.5297\n",
      "Epoch 97/100\n",
      "19/19 [==============================] - 0s 22ms/step - loss: 0.6186 - binary_accuracy: 0.6628 - val_loss: 0.7382 - val_binary_accuracy: 0.5297\n",
      "Epoch 98/100\n",
      "19/19 [==============================] - 0s 22ms/step - loss: 0.6202 - binary_accuracy: 0.6585 - val_loss: 0.7510 - val_binary_accuracy: 0.5339\n",
      "Epoch 99/100\n",
      "19/19 [==============================] - 0s 21ms/step - loss: 0.6223 - binary_accuracy: 0.6606 - val_loss: 0.7479 - val_binary_accuracy: 0.5339\n",
      "Epoch 100/100\n",
      "19/19 [==============================] - 0s 21ms/step - loss: 0.6184 - binary_accuracy: 0.6670 - val_loss: 0.7388 - val_binary_accuracy: 0.5297\n"
     ]
    }
   ],
   "source": [
    "history = model.fit(X_train, y_train, \n",
    "                    batch_size=batch_size, \n",
    "                    epochs=epochs, \n",
    "                    validation_data=(X_val, y_val), \n",
    "                    verbose=1, \n",
    "                    callbacks=[tensorboard_call]) #, val_loss_callback])"
   ]
  },
  {
   "cell_type": "code",
   "execution_count": 13,
   "metadata": {},
   "outputs": [
    {
     "name": "stdout",
     "output_type": "stream",
     "text": [
      "Model: \"sequential\"\n",
      "_________________________________________________________________\n",
      "Layer (type)                 Output Shape              Param #   \n",
      "=================================================================\n",
      "simple_rnn (SimpleRNN)       (None, 19)                760       \n",
      "_________________________________________________________________\n",
      "gaussian_noise (GaussianNois (None, 19)                0         \n",
      "_________________________________________________________________\n",
      "dense (Dense)                (None, 1)                 20        \n",
      "=================================================================\n",
      "Total params: 780\n",
      "Trainable params: 780\n",
      "Non-trainable params: 0\n",
      "_________________________________________________________________\n"
     ]
    }
   ],
   "source": [
    "model.summary()"
   ]
  },
  {
   "cell_type": "code",
   "execution_count": 14,
   "metadata": {},
   "outputs": [
    {
     "name": "stdout",
     "output_type": "stream",
     "text": [
      "294/294 [==============================] - 1s 4ms/step - loss: 0.6764 - binary_accuracy: 0.6088\n",
      "test loss, test acc: [0.6764319539070129, 0.6088435649871826]\n"
     ]
    }
   ],
   "source": [
    "#evaluate model on test set\n",
    "results = model.evaluate(X_test, y_test, batch_size=1, verbose=1)\n",
    "print(\"test loss, test acc:\", results)"
   ]
  },
  {
   "cell_type": "code",
   "execution_count": 15,
   "metadata": {},
   "outputs": [
    {
     "data": {
      "image/png": "[encoded data removed]",
      "text/plain": [
       "<Figure size 432x288 with 1 Axes>"
      ]
     },
     "metadata": {
      "needs_background": "light"
     },
     "output_type": "display_data"
    }
   ],
   "source": [
    "#summarize history for accuracy\n",
    "plt.plot(history.history[(list(history.history.keys())[1])])\n",
    "plt.plot(history.history[(list(history.history.keys())[3])])\n",
    "plt.title('model accuracy')\n",
    "plt.ylabel('accuracy')\n",
    "plt.xlabel('epoch')\n",
    "plt.legend(['train', 'val'], loc='upper left')\n",
    "plt.show()"
   ]
  },
  {
   "cell_type": "code",
   "execution_count": 16,
   "metadata": {},
   "outputs": [
    {
     "data": {
      "image/png": "[encoded data removed]",
      "text/plain": [
       "<Figure size 432x288 with 1 Axes>"
      ]
     },
     "metadata": {
      "needs_background": "light"
     },
     "output_type": "display_data"
    }
   ],
   "source": [
    "#summarize history for loss\n",
    "plt.plot(history.history[(list(history.history.keys())[0])])\n",
    "plt.plot(history.history[(list(history.history.keys())[2])])\n",
    "plt.title('model loss')\n",
    "plt.ylabel('loss')\n",
    "plt.xlabel('epoch')\n",
    "plt.legend(['train', 'val'], loc='upper left')\n",
    "plt.show()"
   ]
  },
  {
   "cell_type": "code",
   "execution_count": 17,
   "metadata": {},
   "outputs": [
    {
     "name": "stdout",
     "output_type": "stream",
     "text": [
      "predictions: [[0.4293462 ]\n",
      " [0.18094054]\n",
      " [0.46774223]\n",
      " [0.3629561 ]\n",
      " [0.20906371]\n",
      " [0.46815172]\n",
      " [0.644788  ]\n",
      " [0.40193713]\n",
      " [0.65074277]\n",
      " [0.21767154]\n",
      " [0.24359024]\n",
      " [0.55088776]\n",
      " [0.5491122 ]\n",
      " [0.36751798]\n",
      " [0.2705437 ]\n",
      " [0.25152892]\n",
      " [0.25829172]\n",
      " [0.31505698]\n",
      " [0.48594552]\n",
      " [0.6247238 ]\n",
      " [0.641762  ]\n",
      " [0.8277596 ]\n",
      " [0.67895615]\n",
      " [0.37154287]\n",
      " [0.39428085]\n",
      " [0.5504287 ]\n",
      " [0.2717197 ]\n",
      " [0.17874539]\n",
      " [0.3114194 ]\n",
      " [0.3257535 ]\n",
      " [0.7443466 ]\n",
      " [0.54026455]\n",
      " [0.45455757]\n",
      " [0.40884694]\n",
      " [0.60532236]\n",
      " [0.4311288 ]\n",
      " [0.56214535]\n",
      " [0.3980887 ]\n",
      " [0.4991657 ]\n",
      " [0.37585738]\n",
      " [0.46705195]\n",
      " [0.25612456]\n",
      " [0.36980116]\n",
      " [0.33401626]\n",
      " [0.52974904]\n",
      " [0.27034312]\n",
      " [0.34204954]\n",
      " [0.37254274]\n",
      " [0.63206327]\n",
      " [0.4619149 ]\n",
      " [0.8296596 ]\n",
      " [0.6591638 ]\n",
      " [0.5163203 ]\n",
      " [0.34399378]\n",
      " [0.68616486]\n",
      " [0.21236166]\n",
      " [0.40753177]\n",
      " [0.24910986]\n",
      " [0.53568697]\n",
      " [0.76197386]\n",
      " [0.29527038]\n",
      " [0.318286  ]\n",
      " [0.3530771 ]\n",
      " [0.38692743]\n",
      " [0.6411815 ]\n",
      " [0.39157355]\n",
      " [0.22922394]\n",
      " [0.35926658]\n",
      " [0.3756634 ]\n",
      " [0.37140918]\n",
      " [0.2936498 ]\n",
      " [0.6188987 ]\n",
      " [0.22800168]\n",
      " [0.5318526 ]\n",
      " [0.789868  ]\n",
      " [0.47672492]\n",
      " [0.33881235]\n",
      " [0.6411876 ]\n",
      " [0.27776766]\n",
      " [0.7431842 ]\n",
      " [0.43310738]\n",
      " [0.34818748]\n",
      " [0.6913686 ]\n",
      " [0.18099964]\n",
      " [0.42189503]\n",
      " [0.7018574 ]\n",
      " [0.82270837]\n",
      " [0.33052543]\n",
      " [0.6284176 ]\n",
      " [0.7442578 ]\n",
      " [0.18764514]\n",
      " [0.42366385]\n",
      " [0.3301149 ]\n",
      " [0.23580456]\n",
      " [0.6266177 ]\n",
      " [0.34218502]\n",
      " [0.5088421 ]\n",
      " [0.34071139]\n",
      " [0.78881943]\n",
      " [0.4197653 ]\n",
      " [0.50025105]\n",
      " [0.6103335 ]\n",
      " [0.60458803]\n",
      " [0.24315506]\n",
      " [0.72185177]\n",
      " [0.3663335 ]\n",
      " [0.32103103]\n",
      " [0.63024527]\n",
      " [0.50197923]\n",
      " [0.3196709 ]\n",
      " [0.40167364]\n",
      " [0.6280865 ]\n",
      " [0.26018012]\n",
      " [0.49935913]\n",
      " [0.34970674]\n",
      " [0.5445607 ]\n",
      " [0.41792735]\n",
      " [0.26451892]\n",
      " [0.36638272]\n",
      " [0.41342804]\n",
      " [0.5603377 ]\n",
      " [0.38310575]\n",
      " [0.21124512]\n",
      " [0.36485195]\n",
      " [0.39499736]\n",
      " [0.24171683]\n",
      " [0.75473905]\n",
      " [0.53182113]\n",
      " [0.69439113]\n",
      " [0.47388154]\n",
      " [0.27106288]\n",
      " [0.42465186]\n",
      " [0.59916496]\n",
      " [0.5766787 ]\n",
      " [0.30030555]\n",
      " [0.33594918]\n",
      " [0.30532902]\n",
      " [0.4358613 ]\n",
      " [0.33738625]\n",
      " [0.53616583]\n",
      " [0.27490503]\n",
      " [0.53970855]\n",
      " [0.605871  ]\n",
      " [0.35006407]\n",
      " [0.60852695]\n",
      " [0.3599994 ]\n",
      " [0.35693544]\n",
      " [0.46654314]\n",
      " [0.75149816]\n",
      " [0.33926737]\n",
      " [0.36024356]\n",
      " [0.32347536]\n",
      " [0.22437304]\n",
      " [0.2724008 ]\n",
      " [0.5191197 ]\n",
      " [0.53937024]\n",
      " [0.3633777 ]\n",
      " [0.21863776]\n",
      " [0.47819757]\n",
      " [0.47187155]\n",
      " [0.70156   ]\n",
      " [0.30342805]\n",
      " [0.33665264]\n",
      " [0.2891732 ]\n",
      " [0.6445786 ]\n",
      " [0.68675464]\n",
      " [0.6173569 ]\n",
      " [0.32634592]\n",
      " [0.29397753]\n",
      " [0.5181165 ]\n",
      " [0.53580755]\n",
      " [0.5498255 ]\n",
      " [0.15707895]\n",
      " [0.23014551]\n",
      " [0.8214625 ]\n",
      " [0.25298762]\n",
      " [0.60703546]\n",
      " [0.48831826]\n",
      " [0.38519806]\n",
      " [0.61488473]\n",
      " [0.44405589]\n",
      " [0.24985132]\n",
      " [0.29969418]\n",
      " [0.49345902]\n",
      " [0.38941407]\n",
      " [0.5544969 ]\n",
      " [0.3496695 ]\n",
      " [0.3588183 ]\n",
      " [0.19479483]\n",
      " [0.45085514]\n",
      " [0.26439583]\n",
      " [0.708122  ]\n",
      " [0.4607784 ]\n",
      " [0.39054498]\n",
      " [0.708877  ]\n",
      " [0.45657915]\n",
      " [0.7644727 ]\n",
      " [0.44198185]\n",
      " [0.48243022]\n",
      " [0.50349796]\n",
      " [0.62928   ]\n",
      " [0.5268753 ]\n",
      " [0.26567844]\n",
      " [0.7167275 ]\n",
      " [0.49342147]\n",
      " [0.45339683]\n",
      " [0.44920614]\n",
      " [0.3590843 ]\n",
      " [0.7126827 ]\n",
      " [0.50779843]\n",
      " [0.29232347]\n",
      " [0.5966161 ]\n",
      " [0.23057023]\n",
      " [0.32344764]\n",
      " [0.6895323 ]\n",
      " [0.6859486 ]\n",
      " [0.20137173]\n",
      " [0.25159484]\n",
      " [0.52138126]\n",
      " [0.454634  ]\n",
      " [0.35355347]\n",
      " [0.7352488 ]\n",
      " [0.5798086 ]\n",
      " [0.51754016]\n",
      " [0.570128  ]\n",
      " [0.44708374]\n",
      " [0.54327446]\n",
      " [0.38539073]\n",
      " [0.27789438]\n",
      " [0.34471914]\n",
      " [0.2837089 ]\n",
      " [0.5408787 ]\n",
      " [0.77585363]\n",
      " [0.20133781]\n",
      " [0.75185   ]\n",
      " [0.24241745]\n",
      " [0.3758781 ]\n",
      " [0.29541826]\n",
      " [0.29051328]\n",
      " [0.38215736]\n",
      " [0.5599508 ]\n",
      " [0.8251489 ]\n",
      " [0.3048502 ]\n",
      " [0.5166585 ]\n",
      " [0.329458  ]\n",
      " [0.589942  ]\n",
      " [0.35215163]\n",
      " [0.72006875]\n",
      " [0.5349993 ]\n",
      " [0.5983198 ]\n",
      " [0.7037924 ]\n",
      " [0.22388995]\n",
      " [0.3777696 ]\n",
      " [0.3488344 ]\n",
      " [0.7876258 ]\n",
      " [0.2538405 ]\n",
      " [0.5349186 ]\n",
      " [0.49525142]\n",
      " [0.51527166]\n",
      " [0.2819618 ]\n",
      " [0.55078614]\n",
      " [0.4787437 ]\n",
      " [0.7348242 ]\n",
      " [0.51146406]\n",
      " [0.31360412]\n",
      " [0.537249  ]\n",
      " [0.39928603]\n",
      " [0.37451813]\n",
      " [0.56265575]\n",
      " [0.5648407 ]\n",
      " [0.6851769 ]\n",
      " [0.29833168]\n",
      " [0.3389969 ]\n",
      " [0.42670128]\n",
      " [0.54279196]\n",
      " [0.45837316]\n",
      " [0.31291538]\n",
      " [0.7756471 ]\n",
      " [0.31413755]\n",
      " [0.32051447]\n",
      " [0.51984787]\n",
      " [0.67602575]\n",
      " [0.5639832 ]\n",
      " [0.48316267]\n",
      " [0.2938538 ]\n",
      " [0.54142773]\n",
      " [0.37065142]\n",
      " [0.24715543]\n",
      " [0.58676875]\n",
      " [0.6406094 ]\n",
      " [0.7770791 ]\n",
      " [0.49473485]\n",
      " [0.22552323]\n",
      " [0.2811484 ]]\n"
     ]
    }
   ],
   "source": [
    "#generate predictions\n",
    "predictions = model.predict(X_test)\n",
    "print(\"predictions:\", predictions)"
   ]
  },
  {
   "cell_type": "code",
   "execution_count": 18,
   "metadata": {},
   "outputs": [
    {
     "name": "stdout",
     "output_type": "stream",
     "text": [
      "['F' 'F' 'F' 'F' 'F' 'F' 'N' 'F' 'N' 'F' 'F' 'N' 'N' 'F' 'F' 'F' 'F' 'F'\n",
      " 'F' 'N' 'N' 'N' 'N' 'F' 'F' 'N' 'F' 'F' 'F' 'F' 'N' 'N' 'F' 'F' 'N' 'F'\n",
      " 'N' 'F' 'F' 'F' 'F' 'F' 'F' 'F' 'N' 'F' 'F' 'F' 'N' 'F' 'N' 'N' 'N' 'F'\n",
      " 'N' 'F' 'F' 'F' 'N' 'N' 'F' 'F' 'F' 'F' 'N' 'F' 'F' 'F' 'F' 'F' 'F' 'N'\n",
      " 'F' 'N' 'N' 'F' 'F' 'N' 'F' 'N' 'F' 'F' 'N' 'F' 'F' 'N' 'N' 'F' 'N' 'N'\n",
      " 'F' 'F' 'F' 'F' 'N' 'F' 'N' 'F' 'N' 'F' 'N' 'N' 'N' 'F' 'N' 'F' 'F' 'N'\n",
      " 'N' 'F' 'F' 'N' 'F' 'F' 'F' 'N' 'F' 'F' 'F' 'F' 'N' 'F' 'F' 'F' 'F' 'F'\n",
      " 'N' 'N' 'N' 'F' 'F' 'F' 'N' 'N' 'F' 'F' 'F' 'F' 'F' 'N' 'F' 'N' 'N' 'F'\n",
      " 'N' 'F' 'F' 'F' 'N' 'F' 'F' 'F' 'F' 'F' 'N' 'N' 'F' 'F' 'F' 'F' 'N' 'F'\n",
      " 'F' 'F' 'N' 'N' 'N' 'F' 'F' 'N' 'N' 'N' 'F' 'F' 'N' 'F' 'N' 'F' 'F' 'N'\n",
      " 'F' 'F' 'F' 'F' 'F' 'N' 'F' 'F' 'F' 'F' 'F' 'N' 'F' 'F' 'N' 'F' 'N' 'F'\n",
      " 'F' 'N' 'N' 'N' 'F' 'N' 'F' 'F' 'F' 'F' 'N' 'N' 'F' 'N' 'F' 'F' 'N' 'N'\n",
      " 'F' 'F' 'N' 'F' 'F' 'N' 'N' 'N' 'N' 'F' 'N' 'F' 'F' 'F' 'F' 'N' 'N' 'F'\n",
      " 'N' 'F' 'F' 'F' 'F' 'F' 'N' 'N' 'F' 'N' 'F' 'N' 'F' 'N' 'N' 'N' 'N' 'F'\n",
      " 'F' 'F' 'N' 'F' 'N' 'F' 'N' 'F' 'N' 'F' 'N' 'N' 'F' 'N' 'F' 'F' 'N' 'N'\n",
      " 'N' 'F' 'F' 'F' 'N' 'F' 'F' 'N' 'F' 'F' 'N' 'N' 'N' 'F' 'F' 'N' 'F' 'F'\n",
      " 'N' 'N' 'N' 'F' 'F' 'F']\n"
     ]
    }
   ],
   "source": [
    "#remove encoding\n",
    "real_predictions_B = a_encoder.inverse_transform(predictions)\n",
    "print(real_predictions_B)"
   ]
  },
  {
   "cell_type": "code",
   "execution_count": 19,
   "metadata": {},
   "outputs": [
    {
     "data": {
      "text/plain": [
       "{'F': 179, 'N': 115}"
      ]
     },
     "execution_count": 19,
     "metadata": {},
     "output_type": "execute_result"
    }
   ],
   "source": [
    "#prediction counts\n",
    "unique, counts = np.unique(real_predictions_B, return_counts=True)\n",
    "dict(zip(unique, counts))"
   ]
  },
  {
   "cell_type": "code",
   "execution_count": 20,
   "metadata": {},
   "outputs": [
    {
     "name": "stdout",
     "output_type": "stream",
     "text": [
      "['N' 'F' 'F' 'F' 'F' 'F' 'F' 'F' 'F' 'F' 'F' 'F' 'F' 'F' 'F' 'N' 'F' 'F'\n",
      " 'F' 'N' 'N' 'N' 'F' 'F' 'N' 'F' 'N' 'F' 'N' 'F' 'N' 'N' 'F' 'N' 'N' 'N'\n",
      " 'F' 'F' 'F' 'N' 'F' 'N' 'F' 'F' 'F' 'N' 'F' 'N' 'N' 'N' 'F' 'F' 'N' 'N'\n",
      " 'N' 'N' 'N' 'N' 'N' 'F' 'F' 'F' 'F' 'N' 'F' 'N' 'N' 'N' 'N' 'F' 'F' 'N'\n",
      " 'F' 'N' 'F' 'N' 'N' 'N' 'F' 'N' 'F' 'F' 'N' 'N' 'N' 'F' 'N' 'F' 'N' 'N'\n",
      " 'F' 'N' 'F' 'N' 'N' 'F' 'N' 'F' 'N' 'N' 'N' 'F' 'N' 'N' 'N' 'F' 'N' 'N'\n",
      " 'N' 'F' 'F' 'N' 'F' 'N' 'N' 'N' 'F' 'N' 'N' 'F' 'F' 'F' 'F' 'F' 'N' 'N'\n",
      " 'N' 'F' 'N' 'N' 'N' 'N' 'N' 'N' 'F' 'F' 'N' 'N' 'F' 'F' 'F' 'F' 'F' 'F'\n",
      " 'F' 'F' 'F' 'F' 'N' 'F' 'F' 'F' 'F' 'F' 'N' 'N' 'F' 'F' 'N' 'F' 'N' 'N'\n",
      " 'F' 'N' 'F' 'N' 'N' 'F' 'N' 'N' 'F' 'F' 'F' 'F' 'N' 'N' 'N' 'F' 'F' 'N'\n",
      " 'N' 'F' 'N' 'F' 'N' 'F' 'F' 'F' 'F' 'F' 'F' 'N' 'F' 'F' 'F' 'F' 'F' 'F'\n",
      " 'F' 'F' 'F' 'N' 'F' 'F' 'N' 'N' 'F' 'N' 'N' 'F' 'N' 'F' 'N' 'N' 'F' 'N'\n",
      " 'N' 'N' 'N' 'F' 'N' 'N' 'N' 'N' 'N' 'F' 'N' 'F' 'N' 'F' 'F' 'N' 'N' 'F'\n",
      " 'N' 'F' 'F' 'N' 'F' 'N' 'F' 'N' 'N' 'N' 'N' 'N' 'F' 'N' 'F' 'N' 'N' 'N'\n",
      " 'F' 'N' 'N' 'F' 'F' 'N' 'N' 'N' 'F' 'F' 'N' 'F' 'F' 'F' 'N' 'F' 'N' 'F'\n",
      " 'N' 'F' 'N' 'F' 'N' 'N' 'F' 'N' 'N' 'F' 'N' 'N' 'N' 'F' 'N' 'F' 'F' 'F'\n",
      " 'N' 'F' 'N' 'N' 'F' 'F']\n"
     ]
    }
   ],
   "source": [
    "#y_test predictions\n",
    "ytest_predictions = a_encoder.inverse_transform(y_test)\n",
    "print(ytest_predictions)"
   ]
  },
  {
   "cell_type": "code",
   "execution_count": 21,
   "metadata": {},
   "outputs": [
    {
     "data": {
      "text/plain": [
       "{'F': 148, 'N': 146}"
      ]
     },
     "execution_count": 21,
     "metadata": {},
     "output_type": "execute_result"
    }
   ],
   "source": [
    "#real count\n",
    "unique, counts = np.unique(ytest_predictions, return_counts=True)\n",
    "dict(zip(unique, counts))"
   ]
  },
  {
   "cell_type": "code",
   "execution_count": 22,
   "metadata": {},
   "outputs": [
    {
     "data": {
      "image/png": "[encoded data removed]",
      "text/plain": [
       "<Figure size 432x288 with 2 Axes>"
      ]
     },
     "metadata": {
      "needs_background": "light"
     },
     "output_type": "display_data"
    }
   ],
   "source": [
    "#confusion matrix\n",
    "matrix = confusion_matrix(ytest_predictions, real_predictions_B)\n",
    "#format confusion matrix\n",
    "ax=plt.subplot()\n",
    "sns.heatmap(matrix, annot=True, ax = ax, cmap='Blues', fmt='g');\n",
    "accuracy = np.trace(matrix) / np.sum(matrix).astype('float')\n",
    "misclass = 1 - accuracy\n",
    "ax.set_xlabel('Predicted label\\naccuracy={:0.4f}; misclass={:0.4f}'.format(accuracy, misclass));\n",
    "ax.set_ylabel('True labels'); \n",
    "ax.set_title('Confusion Matrix');\n",
    "ax.xaxis.set_ticklabels(unique); ax.yaxis.set_ticklabels(unique);"
   ]
  },
  {
   "cell_type": "code",
   "execution_count": 23,
   "metadata": {},
   "outputs": [
    {
     "name": "stdout",
     "output_type": "stream",
     "text": [
      "              precision    recall  f1-score   support\n",
      "\n",
      "           F       0.59      0.72      0.65       148\n",
      "           N       0.63      0.50      0.56       146\n",
      "\n",
      "    accuracy                           0.61       294\n",
      "   macro avg       0.61      0.61      0.60       294\n",
      "weighted avg       0.61      0.61      0.60       294\n",
      "\n"
     ]
    }
   ],
   "source": [
    "print(classification_report(ytest_predictions, real_predictions_B))"
   ]
  },
  {
   "cell_type": "code",
   "execution_count": 24,
   "metadata": {},
   "outputs": [
    {
     "name": "stdout",
     "output_type": "stream",
     "text": [
      "precision score:0.6135\n",
      "recall score:0.6081\n",
      "f1 score:0.6039\n"
     ]
    }
   ],
   "source": [
    "#macro - calculate metrics for each label, and find their unweighted mean\n",
    "pre_score = precision_score(ytest_predictions, real_predictions_B, average = \"macro\")\n",
    "print('precision score:{:0.4f}'.format(pre_score))\n",
    "recall_score_1 = recall_score(ytest_predictions, real_predictions_B, average= \"macro\")\n",
    "print('recall score:{:0.4f}'.format(recall_score_1))\n",
    "f1_score_1 = f1_score(ytest_predictions, real_predictions_B, average=\"macro\")\n",
    "print('f1 score:{:0.4f}'.format(f1_score_1))"
   ]
  }
 ],
 "metadata": {
  "kernelspec": {
   "display_name": "Python 3",
   "language": "python",
   "name": "python3"
  },
  "language_info": {
   "codemirror_mode": {
    "name": "ipython",
    "version": 3
   },
   "file_extension": ".py",
   "mimetype": "text/x-python",
   "name": "python",
   "nbconvert_exporter": "python",
   "pygments_lexer": "ipython3",
   "version": "3.8.3"
  }
 },
 "nbformat": 4,
 "nbformat_minor": 4
}
