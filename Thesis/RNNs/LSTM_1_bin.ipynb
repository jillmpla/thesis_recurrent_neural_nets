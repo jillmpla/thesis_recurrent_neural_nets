{
 "cells": [
  {
   "cell_type": "code",
   "execution_count": 1,
   "metadata": {},
   "outputs": [],
   "source": [
    "#tensorboard via command-line:\n",
    "#tensorboard --logdir=where your Logs directory is"
   ]
  },
  {
   "cell_type": "code",
   "execution_count": 2,
   "metadata": {},
   "outputs": [],
   "source": [
    "#~~~~~~~~~~~~~~~~~~~~~~~~~~~~~~~~~~~~~~~~~~~~~~~~~~~~~~~~~~~~~~~~~~~~~~~~~~~~~~~~~~~~~~~~~~~~~~~~~~~~~~~#\n",
    "#Predict whether or not a flare will occur in the next 24hrs after a 24hr time sequence, per monitored AR.\n",
    "#~~~~~~~~~~~~~~~~~~~~~~~~~~~~~~~~~~~~~~~~~~~~~~~~~~~~~~~~~~~~~~~~~~~~~~~~~~~~~~~~~~~~~~~~~~~~~~~~~~~~~~~#\n",
    "#feature data from - hmi.sharp_720s:::\n",
    "#http://jsoc.stanford.edu/doc/data/hmi/sharp/sharp.htm\n",
    "\n",
    "#label data from - GOES flare events:::\n",
    "#ftp://ftp.swpc.noaa.gov/pub/warehouse/\n",
    "\n",
    "#and from - GOES XRS Report:::\n",
    "#https://www.ngdc.noaa.gov/stp/space-weather/solar-data/solar-features/solar-flares/x-rays/goes/xrs/\n",
    "#~~~~~~~~~~~~~~~~~~~~~~~~~~~~~~~~~~~~~~~~~~~~~~~~~~~~~~~~~~~~~~~~~~~~~~~~~~~~~~~~~~~~~~~~~~~~~~~~~~~~~~~#\n",
    "#binary class - F for flare and N for no flare\n",
    "#multi-class - #6 flare classes: N is no flare, A is smallest, X is largest\n",
    "               #key = {'N', 'A', 'B', 'C', 'M', 'X'}\n",
    "               #['A' class flares generally not listed in official reports due to small size]\n",
    "#~~~~~~~~~~~~~~~~~~~~~~~~~~~~~~~~~~~~~~~~~~~~~~~~~~~~~~~~~~~~~~~~~~~~~~~~~~~~~~~~~~~~~~~~~~~~~~~~~~~~~~~#"
   ]
  },
  {
   "cell_type": "code",
   "execution_count": 3,
   "metadata": {},
   "outputs": [
    {
     "name": "stdout",
     "output_type": "stream",
     "text": [
      "tensorflow version: 2.3.1\n"
     ]
    }
   ],
   "source": [
    "import tensorflow as tf\n",
    "print(\"tensorflow version:\", tf.__version__) #2.3.1 used\n",
    "from tensorflow import keras\n",
    "import os\n",
    "import glob\n",
    "import shutil\n",
    "import datetime\n",
    "import numpy as np\n",
    "import pandas as pd\n",
    "import seaborn as sns\n",
    "from pathlib import Path\n",
    "from astropy.time import Time\n",
    "from matplotlib import pyplot as plt\n",
    "from sklearn.metrics import f1_score, precision_score, recall_score, classification_report, confusion_matrix\n",
    "from sklearn.metrics import plot_confusion_matrix\n",
    "from sklearn.preprocessing import LabelBinarizer\n",
    "from sklearn.model_selection import train_test_split\n",
    "from sklearn.preprocessing import MinMaxScaler\n",
    "from tensorflow.keras.layers import Dropout, Dense, SimpleRNN, LSTM, GRU, GaussianNoise\n",
    "from tensorflow.keras.models import Model, Sequential\n",
    "from tensorflow.keras.optimizers import SGD, RMSprop, Adam\n",
    "import drms #https://pypi.org/project/drms/\n",
    "#~~~~~~~~~~~~~~~~~~~~~~~~~~~~~~~~~~~~~~~~~~~~~~~~~~~~~~~~~~~~~~~~~~~~~~~~~~~~~~~~~~~~~~~~~~~~~~~~~~~~~~~#\n",
    "import Flare_Data\n",
    "import Feature_Years\n",
    "import Make_TB_Logs\n",
    "#~~~~~~~~~~~~~~~~~~~~~~~~~~~~~~~~~~~~~~~~~~~~~~~~~~~~~~~~~~~~~~~~~~~~~~~~~~~~~~~~~~~~~~~~~~~~~~~~~~~~~~~#"
   ]
  },
  {
   "cell_type": "code",
   "execution_count": 4,
   "metadata": {},
   "outputs": [
    {
     "name": "stdout",
     "output_type": "stream",
     "text": [
      "CSVs compiled.\n"
     ]
    }
   ],
   "source": [
    "Feature_Years.generate_all_feature_years()"
   ]
  },
  {
   "cell_type": "code",
   "execution_count": 5,
   "metadata": {},
   "outputs": [],
   "source": [
    "where_logs = Make_TB_Logs.make_clear_tensorboard_folder()"
   ]
  },
  {
   "cell_type": "code",
   "execution_count": 6,
   "metadata": {},
   "outputs": [
    {
     "name": "stdout",
     "output_type": "stream",
     "text": [
      "The time series starts from:  2011-01-01 00:11:26\n",
      "The time series ends on:  2016-12-31 23:47:24\n",
      "(array(['F', 'N'], dtype='<U1'), array([741, 729], dtype=int64))\n"
     ]
    }
   ],
   "source": [
    "#binary = True for binary classification, binary = False for multi-class classification\n",
    "X_train, X_val, X_test, y_train, y_val, y_test, tim_steps, n_feats, count_of_classes, a_encoder = Flare_Data.getAllData(binary = True)"
   ]
  },
  {
   "cell_type": "code",
   "execution_count": 7,
   "metadata": {},
   "outputs": [
    {
     "name": "stdout",
     "output_type": "stream",
     "text": [
      "(940, 114, 20) (236, 114, 20) (294, 114, 20) (940, 1) (236, 1) (294, 1)\n"
     ]
    }
   ],
   "source": [
    "print(X_train.shape, X_val.shape, X_test.shape, y_train.shape, y_val.shape, y_test.shape)"
   ]
  },
  {
   "cell_type": "code",
   "execution_count": 8,
   "metadata": {},
   "outputs": [],
   "source": [
    "#~~~~~~~~~~~~~~~~~~~~~~~~~~~~~~~~~~~~~~~~~~~~~~~~~~~~~~~~~~~~~~~~~~~~~~~~~~~~~~~~~~~~~~~~~~~~~~~~~~~~~~~#\n",
    "#~~~~~~~~~~~~~~~~~~~~~~~~~~~~~~~~~~~~~~~~~~~~~~~~~~~~~~~~~~~~~~~~~~~~~~~~~~~~~~~~~~~~~~~~~~~~~~~~~~~~~~~#"
   ]
  },
  {
   "cell_type": "code",
   "execution_count": 9,
   "metadata": {},
   "outputs": [],
   "source": [
    "batch_size = 50\n",
    "epochs = 100\n",
    "optimizer = Adam(lr=0.001, beta_1=0.9, beta_2=0.999, epsilon=1e-06, decay=0.0)"
   ]
  },
  {
   "cell_type": "code",
   "execution_count": 10,
   "metadata": {},
   "outputs": [],
   "source": [
    "#~~~~~~~~~~~~~~~~~~~~~~~~~~~~~~~~~~~~~~~[LSTM_1 Model]~~~~~~~~~~~~~~~~~~~~~~~~~~~~~~~~~~~~~~~~~~~~~~~~~~#\n",
    "#~~~~~~~~~~~~~~~~~~~~~~~~~~~~~~~~~~~~~~~[Binary-Class]~~~~~~~~~~~~~~~~~~~~~~~~~~~~~~~~~~~~~~~~~~~~~~~~~~#\n",
    "#~~~~~~~~~~~~~~~~~~~~~~~~~~~~~~~~~~~~~~~[Single Layer]~~~~~~~~~~~~~~~~~~~~~~~~~~~~~~~~~~~~~~~~~~~~~~~~~~#\n",
    "model = Sequential()\n",
    "model.add(LSTM(19,  input_shape=(tim_steps, n_feats), recurrent_dropout=0.05))\n",
    "model.add(GaussianNoise(0.01))\n",
    "model.add(Dense(1, activation='sigmoid'))\n",
    "model.compile(loss='binary_crossentropy', optimizer=optimizer, metrics=['binary_accuracy'])\n",
    "#~~~~~~~~~~~~~~~~~~~~~~~~~~~~~~~~~~~~~~~~~~~~~~~~~~~~~~~~~~~~~~~~~~~~~~~~~~~~~~~~~~~~~~~~~~~~~~~~~~~~~~~#\n",
    "#~~~~~~~~~~~~~~~~~~~~~~~~~~~~~~~~~~~~~~~~~~~~~~~~~~~~~~~~~~~~~~~~~~~~~~~~~~~~~~~~~~~~~~~~~~~~~~~~~~~~~~~#"
   ]
  },
  {
   "cell_type": "code",
   "execution_count": 11,
   "metadata": {},
   "outputs": [],
   "source": [
    "tensorboard_call = keras.callbacks.TensorBoard(log_dir=where_logs, histogram_freq=1)\n",
    "#val_loss_callback = tf.keras.callbacks.EarlyStopping(monitor='val_loss', patience=10)"
   ]
  },
  {
   "cell_type": "code",
   "execution_count": 12,
   "metadata": {},
   "outputs": [
    {
     "name": "stdout",
     "output_type": "stream",
     "text": [
      "Epoch 1/100\n",
      " 1/19 [>.............................] - ETA: 0s - loss: 0.6932 - binary_accuracy: 0.5400WARNING:tensorflow:From C:\\ProgramData\\Anaconda3\\lib\\site-packages\\tensorflow\\python\\ops\\summary_ops_v2.py:1277: stop (from tensorflow.python.eager.profiler) is deprecated and will be removed after 2020-07-01.\n",
      "Instructions for updating:\n",
      "use `tf.profiler.experimental.stop` instead.\n",
      " 2/19 [==>...........................] - ETA: 3s - loss: 0.6966 - binary_accuracy: 0.5000WARNING:tensorflow:Callbacks method `on_train_batch_end` is slow compared to the batch time (batch time: 0.0626s vs `on_train_batch_end` time: 0.3440s). Check your callbacks.\n",
      "19/19 [==============================] - 2s 94ms/step - loss: 0.6893 - binary_accuracy: 0.5319 - val_loss: 0.6969 - val_binary_accuracy: 0.5000\n",
      "Epoch 2/100\n",
      "19/19 [==============================] - 1s 56ms/step - loss: 0.6856 - binary_accuracy: 0.5362 - val_loss: 0.6995 - val_binary_accuracy: 0.4958\n",
      "Epoch 3/100\n",
      "19/19 [==============================] - 1s 56ms/step - loss: 0.6813 - binary_accuracy: 0.5670 - val_loss: 0.7066 - val_binary_accuracy: 0.5169\n",
      "Epoch 4/100\n",
      "19/19 [==============================] - 1s 59ms/step - loss: 0.6757 - binary_accuracy: 0.5755 - val_loss: 0.7171 - val_binary_accuracy: 0.4958\n",
      "Epoch 5/100\n",
      "19/19 [==============================] - 1s 56ms/step - loss: 0.6717 - binary_accuracy: 0.5894 - val_loss: 0.7208 - val_binary_accuracy: 0.4661\n",
      "Epoch 6/100\n",
      "19/19 [==============================] - 1s 55ms/step - loss: 0.6708 - binary_accuracy: 0.5862 - val_loss: 0.7313 - val_binary_accuracy: 0.4492\n",
      "Epoch 7/100\n",
      "19/19 [==============================] - 1s 56ms/step - loss: 0.6653 - binary_accuracy: 0.5915 - val_loss: 0.7281 - val_binary_accuracy: 0.5000\n",
      "Epoch 8/100\n",
      "19/19 [==============================] - 1s 59ms/step - loss: 0.6696 - binary_accuracy: 0.5926 - val_loss: 0.7242 - val_binary_accuracy: 0.4958\n",
      "Epoch 9/100\n",
      "19/19 [==============================] - 1s 54ms/step - loss: 0.6679 - binary_accuracy: 0.5904 - val_loss: 0.7359 - val_binary_accuracy: 0.5127\n",
      "Epoch 10/100\n",
      "19/19 [==============================] - 1s 54ms/step - loss: 0.6659 - binary_accuracy: 0.6106 - val_loss: 0.7262 - val_binary_accuracy: 0.4915\n",
      "Epoch 11/100\n",
      "19/19 [==============================] - 1s 54ms/step - loss: 0.6616 - binary_accuracy: 0.5957 - val_loss: 0.7321 - val_binary_accuracy: 0.4873\n",
      "Epoch 12/100\n",
      "19/19 [==============================] - 1s 55ms/step - loss: 0.6517 - binary_accuracy: 0.6277 - val_loss: 0.7443 - val_binary_accuracy: 0.5000\n",
      "Epoch 13/100\n",
      "19/19 [==============================] - 1s 55ms/step - loss: 0.6570 - binary_accuracy: 0.6213 - val_loss: 0.7332 - val_binary_accuracy: 0.4915\n",
      "Epoch 14/100\n",
      "19/19 [==============================] - 1s 55ms/step - loss: 0.6520 - binary_accuracy: 0.6085 - val_loss: 0.7335 - val_binary_accuracy: 0.4958\n",
      "Epoch 15/100\n",
      "19/19 [==============================] - 1s 56ms/step - loss: 0.6500 - binary_accuracy: 0.6266 - val_loss: 0.7386 - val_binary_accuracy: 0.5085\n",
      "Epoch 16/100\n",
      "19/19 [==============================] - 1s 55ms/step - loss: 0.6534 - binary_accuracy: 0.6170 - val_loss: 0.7351 - val_binary_accuracy: 0.5085\n",
      "Epoch 17/100\n",
      "19/19 [==============================] - 1s 55ms/step - loss: 0.6516 - binary_accuracy: 0.6138 - val_loss: 0.7331 - val_binary_accuracy: 0.4746\n",
      "Epoch 18/100\n",
      "19/19 [==============================] - 1s 55ms/step - loss: 0.6520 - binary_accuracy: 0.6053 - val_loss: 0.7244 - val_binary_accuracy: 0.5085\n",
      "Epoch 19/100\n",
      "19/19 [==============================] - 1s 55ms/step - loss: 0.6529 - binary_accuracy: 0.6053 - val_loss: 0.7334 - val_binary_accuracy: 0.4831\n",
      "Epoch 20/100\n",
      "19/19 [==============================] - 1s 55ms/step - loss: 0.6513 - binary_accuracy: 0.6160 - val_loss: 0.7321 - val_binary_accuracy: 0.5127\n",
      "Epoch 21/100\n",
      "19/19 [==============================] - 1s 55ms/step - loss: 0.6522 - binary_accuracy: 0.6213 - val_loss: 0.7321 - val_binary_accuracy: 0.5212\n",
      "Epoch 22/100\n",
      "19/19 [==============================] - 1s 54ms/step - loss: 0.6581 - binary_accuracy: 0.6011 - val_loss: 0.7263 - val_binary_accuracy: 0.5212\n",
      "Epoch 23/100\n",
      "19/19 [==============================] - 1s 56ms/step - loss: 0.6513 - binary_accuracy: 0.6213 - val_loss: 0.7280 - val_binary_accuracy: 0.5000\n",
      "Epoch 24/100\n",
      "19/19 [==============================] - 1s 54ms/step - loss: 0.6453 - binary_accuracy: 0.6340 - val_loss: 0.7402 - val_binary_accuracy: 0.5042\n",
      "Epoch 25/100\n",
      "19/19 [==============================] - 1s 52ms/step - loss: 0.6477 - binary_accuracy: 0.6245 - val_loss: 0.7326 - val_binary_accuracy: 0.5127\n",
      "Epoch 26/100\n",
      "19/19 [==============================] - 1s 52ms/step - loss: 0.6378 - binary_accuracy: 0.6372 - val_loss: 0.7475 - val_binary_accuracy: 0.5169\n",
      "Epoch 27/100\n",
      "19/19 [==============================] - 1s 53ms/step - loss: 0.6437 - binary_accuracy: 0.6191 - val_loss: 0.7310 - val_binary_accuracy: 0.5212\n",
      "Epoch 28/100\n",
      "19/19 [==============================] - 1s 52ms/step - loss: 0.6404 - binary_accuracy: 0.6319 - val_loss: 0.7448 - val_binary_accuracy: 0.5085\n",
      "Epoch 29/100\n",
      "19/19 [==============================] - 1s 52ms/step - loss: 0.6582 - binary_accuracy: 0.5989 - val_loss: 0.7172 - val_binary_accuracy: 0.5085\n",
      "Epoch 30/100\n",
      "19/19 [==============================] - 1s 52ms/step - loss: 0.6500 - binary_accuracy: 0.6128 - val_loss: 0.7189 - val_binary_accuracy: 0.5169\n",
      "Epoch 31/100\n",
      "19/19 [==============================] - 1s 53ms/step - loss: 0.6528 - binary_accuracy: 0.6191 - val_loss: 0.7322 - val_binary_accuracy: 0.5254\n",
      "Epoch 32/100\n",
      "19/19 [==============================] - 1s 52ms/step - loss: 0.6447 - binary_accuracy: 0.6255 - val_loss: 0.7299 - val_binary_accuracy: 0.5042\n",
      "Epoch 33/100\n",
      "19/19 [==============================] - 1s 54ms/step - loss: 0.6410 - binary_accuracy: 0.6330 - val_loss: 0.7360 - val_binary_accuracy: 0.5381\n",
      "Epoch 34/100\n",
      "19/19 [==============================] - 1s 53ms/step - loss: 0.6388 - binary_accuracy: 0.6319 - val_loss: 0.7354 - val_binary_accuracy: 0.5042\n",
      "Epoch 35/100\n",
      "19/19 [==============================] - 1s 53ms/step - loss: 0.6375 - binary_accuracy: 0.6436 - val_loss: 0.7404 - val_binary_accuracy: 0.5042\n",
      "Epoch 36/100\n",
      "19/19 [==============================] - 1s 53ms/step - loss: 0.6350 - binary_accuracy: 0.6394 - val_loss: 0.7311 - val_binary_accuracy: 0.5212\n",
      "Epoch 37/100\n",
      "19/19 [==============================] - 1s 52ms/step - loss: 0.6378 - binary_accuracy: 0.6351 - val_loss: 0.7267 - val_binary_accuracy: 0.5297\n",
      "Epoch 38/100\n",
      "19/19 [==============================] - 1s 52ms/step - loss: 0.6432 - binary_accuracy: 0.6351 - val_loss: 0.7283 - val_binary_accuracy: 0.5297\n",
      "Epoch 39/100\n",
      "19/19 [==============================] - 1s 53ms/step - loss: 0.6330 - binary_accuracy: 0.6543 - val_loss: 0.7382 - val_binary_accuracy: 0.5381\n",
      "Epoch 40/100\n",
      "19/19 [==============================] - 1s 53ms/step - loss: 0.6329 - binary_accuracy: 0.6404 - val_loss: 0.7246 - val_binary_accuracy: 0.5424\n",
      "Epoch 41/100\n",
      "19/19 [==============================] - 1s 53ms/step - loss: 0.6330 - binary_accuracy: 0.6447 - val_loss: 0.7287 - val_binary_accuracy: 0.5424\n",
      "Epoch 42/100\n",
      "19/19 [==============================] - 1s 53ms/step - loss: 0.6352 - binary_accuracy: 0.6383 - val_loss: 0.7279 - val_binary_accuracy: 0.5381\n",
      "Epoch 43/100\n",
      "19/19 [==============================] - 1s 52ms/step - loss: 0.6371 - binary_accuracy: 0.6223 - val_loss: 0.7251 - val_binary_accuracy: 0.5169\n",
      "Epoch 44/100\n",
      "19/19 [==============================] - 1s 52ms/step - loss: 0.6297 - binary_accuracy: 0.6383 - val_loss: 0.7335 - val_binary_accuracy: 0.5212\n",
      "Epoch 45/100\n",
      "19/19 [==============================] - 1s 52ms/step - loss: 0.6289 - binary_accuracy: 0.6383 - val_loss: 0.7314 - val_binary_accuracy: 0.5212\n",
      "Epoch 46/100\n",
      "19/19 [==============================] - 1s 53ms/step - loss: 0.6320 - binary_accuracy: 0.6340 - val_loss: 0.7254 - val_binary_accuracy: 0.5593\n",
      "Epoch 47/100\n",
      "19/19 [==============================] - 1s 52ms/step - loss: 0.6296 - binary_accuracy: 0.6404 - val_loss: 0.7308 - val_binary_accuracy: 0.5254\n",
      "Epoch 48/100\n",
      "19/19 [==============================] - 1s 53ms/step - loss: 0.6279 - binary_accuracy: 0.6298 - val_loss: 0.7414 - val_binary_accuracy: 0.5127\n",
      "Epoch 49/100\n"
     ]
    },
    {
     "name": "stdout",
     "output_type": "stream",
     "text": [
      "19/19 [==============================] - 1s 51ms/step - loss: 0.6296 - binary_accuracy: 0.6521 - val_loss: 0.7318 - val_binary_accuracy: 0.5466\n",
      "Epoch 50/100\n",
      "19/19 [==============================] - 1s 51ms/step - loss: 0.6219 - binary_accuracy: 0.6436 - val_loss: 0.7310 - val_binary_accuracy: 0.5254\n",
      "Epoch 51/100\n",
      "19/19 [==============================] - 1s 51ms/step - loss: 0.6181 - binary_accuracy: 0.6585 - val_loss: 0.7266 - val_binary_accuracy: 0.5381\n",
      "Epoch 52/100\n",
      "19/19 [==============================] - 1s 53ms/step - loss: 0.6255 - binary_accuracy: 0.6287 - val_loss: 0.7106 - val_binary_accuracy: 0.5339\n",
      "Epoch 53/100\n",
      "19/19 [==============================] - 1s 52ms/step - loss: 0.6412 - binary_accuracy: 0.6287 - val_loss: 0.7287 - val_binary_accuracy: 0.5593\n",
      "Epoch 54/100\n",
      "19/19 [==============================] - 1s 52ms/step - loss: 0.6286 - binary_accuracy: 0.6511 - val_loss: 0.7547 - val_binary_accuracy: 0.5508\n",
      "Epoch 55/100\n",
      "19/19 [==============================] - 1s 54ms/step - loss: 0.6282 - binary_accuracy: 0.6543 - val_loss: 0.7328 - val_binary_accuracy: 0.5466\n",
      "Epoch 56/100\n",
      "19/19 [==============================] - 1s 51ms/step - loss: 0.6332 - binary_accuracy: 0.6330 - val_loss: 0.7288 - val_binary_accuracy: 0.5636\n",
      "Epoch 57/100\n",
      "19/19 [==============================] - 1s 51ms/step - loss: 0.6208 - binary_accuracy: 0.6649 - val_loss: 0.7494 - val_binary_accuracy: 0.5508\n",
      "Epoch 58/100\n",
      "19/19 [==============================] - 1s 52ms/step - loss: 0.6323 - binary_accuracy: 0.6330 - val_loss: 0.7181 - val_binary_accuracy: 0.5297\n",
      "Epoch 59/100\n",
      "19/19 [==============================] - 1s 51ms/step - loss: 0.6208 - binary_accuracy: 0.6511 - val_loss: 0.7287 - val_binary_accuracy: 0.5508\n",
      "Epoch 60/100\n",
      "19/19 [==============================] - 1s 51ms/step - loss: 0.6127 - binary_accuracy: 0.6585 - val_loss: 0.7282 - val_binary_accuracy: 0.5551\n",
      "Epoch 61/100\n",
      "19/19 [==============================] - 1s 53ms/step - loss: 0.6119 - binary_accuracy: 0.6532 - val_loss: 0.7351 - val_binary_accuracy: 0.5678\n",
      "Epoch 62/100\n",
      "19/19 [==============================] - 1s 53ms/step - loss: 0.6210 - binary_accuracy: 0.6564 - val_loss: 0.7386 - val_binary_accuracy: 0.5212\n",
      "Epoch 63/100\n",
      "19/19 [==============================] - 1s 52ms/step - loss: 0.6250 - binary_accuracy: 0.6660 - val_loss: 0.7242 - val_binary_accuracy: 0.5636\n",
      "Epoch 64/100\n",
      "19/19 [==============================] - 1s 51ms/step - loss: 0.6031 - binary_accuracy: 0.6723 - val_loss: 0.7237 - val_binary_accuracy: 0.5678\n",
      "Epoch 65/100\n",
      "19/19 [==============================] - 1s 52ms/step - loss: 0.6223 - binary_accuracy: 0.6543 - val_loss: 0.7341 - val_binary_accuracy: 0.5636\n",
      "Epoch 66/100\n",
      "19/19 [==============================] - 1s 51ms/step - loss: 0.6152 - binary_accuracy: 0.6447 - val_loss: 0.7297 - val_binary_accuracy: 0.5212\n",
      "Epoch 67/100\n",
      "19/19 [==============================] - 1s 52ms/step - loss: 0.6093 - binary_accuracy: 0.6702 - val_loss: 0.7311 - val_binary_accuracy: 0.5720\n",
      "Epoch 68/100\n",
      "19/19 [==============================] - 1s 52ms/step - loss: 0.6108 - binary_accuracy: 0.6628 - val_loss: 0.7093 - val_binary_accuracy: 0.5593\n",
      "Epoch 69/100\n",
      "19/19 [==============================] - 1s 52ms/step - loss: 0.6058 - binary_accuracy: 0.6564 - val_loss: 0.7374 - val_binary_accuracy: 0.5551\n",
      "Epoch 70/100\n",
      "19/19 [==============================] - 1s 56ms/step - loss: 0.6026 - binary_accuracy: 0.6670 - val_loss: 0.7366 - val_binary_accuracy: 0.5424\n",
      "Epoch 71/100\n",
      "19/19 [==============================] - 1s 57ms/step - loss: 0.6112 - binary_accuracy: 0.6479 - val_loss: 0.7163 - val_binary_accuracy: 0.5551\n",
      "Epoch 72/100\n",
      "19/19 [==============================] - 1s 57ms/step - loss: 0.6160 - binary_accuracy: 0.6574 - val_loss: 0.7313 - val_binary_accuracy: 0.5678\n",
      "Epoch 73/100\n",
      "19/19 [==============================] - 1s 51ms/step - loss: 0.5972 - binary_accuracy: 0.6585 - val_loss: 0.7386 - val_binary_accuracy: 0.5551\n",
      "Epoch 74/100\n",
      "19/19 [==============================] - 1s 51ms/step - loss: 0.6019 - binary_accuracy: 0.6691 - val_loss: 0.7325 - val_binary_accuracy: 0.5636\n",
      "Epoch 75/100\n",
      "19/19 [==============================] - 1s 52ms/step - loss: 0.6014 - binary_accuracy: 0.6638 - val_loss: 0.7253 - val_binary_accuracy: 0.5636\n",
      "Epoch 76/100\n",
      "19/19 [==============================] - 1s 51ms/step - loss: 0.6108 - binary_accuracy: 0.6787 - val_loss: 0.7258 - val_binary_accuracy: 0.5678\n",
      "Epoch 77/100\n",
      "19/19 [==============================] - 1s 51ms/step - loss: 0.6143 - binary_accuracy: 0.6606 - val_loss: 0.7165 - val_binary_accuracy: 0.5297\n",
      "Epoch 78/100\n",
      "19/19 [==============================] - 1s 52ms/step - loss: 0.6061 - binary_accuracy: 0.6872 - val_loss: 0.7207 - val_binary_accuracy: 0.5805\n",
      "Epoch 79/100\n",
      "19/19 [==============================] - 1s 51ms/step - loss: 0.5947 - binary_accuracy: 0.6798 - val_loss: 0.7334 - val_binary_accuracy: 0.5847\n",
      "Epoch 80/100\n",
      "19/19 [==============================] - 1s 51ms/step - loss: 0.6004 - binary_accuracy: 0.6511 - val_loss: 0.7200 - val_binary_accuracy: 0.5593\n",
      "Epoch 81/100\n",
      "19/19 [==============================] - 1s 52ms/step - loss: 0.6115 - binary_accuracy: 0.6500 - val_loss: 0.7229 - val_binary_accuracy: 0.5466\n",
      "Epoch 82/100\n",
      "19/19 [==============================] - 1s 52ms/step - loss: 0.6167 - binary_accuracy: 0.6511 - val_loss: 0.7255 - val_binary_accuracy: 0.5297\n",
      "Epoch 83/100\n",
      "19/19 [==============================] - 1s 52ms/step - loss: 0.6094 - binary_accuracy: 0.6787 - val_loss: 0.7463 - val_binary_accuracy: 0.5720\n",
      "Epoch 84/100\n",
      "19/19 [==============================] - 1s 52ms/step - loss: 0.5927 - binary_accuracy: 0.6830 - val_loss: 0.7240 - val_binary_accuracy: 0.5975\n",
      "Epoch 85/100\n",
      "19/19 [==============================] - 1s 51ms/step - loss: 0.5969 - binary_accuracy: 0.6809 - val_loss: 0.7218 - val_binary_accuracy: 0.5890\n",
      "Epoch 86/100\n",
      "19/19 [==============================] - 1s 54ms/step - loss: 0.5855 - binary_accuracy: 0.6702 - val_loss: 0.7212 - val_binary_accuracy: 0.5678\n",
      "Epoch 87/100\n",
      "19/19 [==============================] - 1s 52ms/step - loss: 0.5936 - binary_accuracy: 0.6840 - val_loss: 0.7550 - val_binary_accuracy: 0.5636\n",
      "Epoch 88/100\n",
      "19/19 [==============================] - 1s 52ms/step - loss: 0.6045 - binary_accuracy: 0.6553 - val_loss: 0.7182 - val_binary_accuracy: 0.5508\n",
      "Epoch 89/100\n",
      "19/19 [==============================] - 1s 54ms/step - loss: 0.6043 - binary_accuracy: 0.6660 - val_loss: 0.7357 - val_binary_accuracy: 0.5678\n",
      "Epoch 90/100\n",
      "19/19 [==============================] - 1s 51ms/step - loss: 0.5874 - binary_accuracy: 0.6840 - val_loss: 0.7411 - val_binary_accuracy: 0.5636\n",
      "Epoch 91/100\n",
      "19/19 [==============================] - 1s 52ms/step - loss: 0.5850 - binary_accuracy: 0.6809 - val_loss: 0.7138 - val_binary_accuracy: 0.5636\n",
      "Epoch 92/100\n",
      "19/19 [==============================] - 1s 51ms/step - loss: 0.5811 - binary_accuracy: 0.7032 - val_loss: 0.7583 - val_binary_accuracy: 0.5297\n",
      "Epoch 93/100\n",
      "19/19 [==============================] - 1s 52ms/step - loss: 0.5937 - binary_accuracy: 0.6819 - val_loss: 0.7278 - val_binary_accuracy: 0.5678\n",
      "Epoch 94/100\n",
      "19/19 [==============================] - 1s 52ms/step - loss: 0.5888 - binary_accuracy: 0.6989 - val_loss: 0.7172 - val_binary_accuracy: 0.5297\n",
      "Epoch 95/100\n",
      "19/19 [==============================] - 1s 51ms/step - loss: 0.5925 - binary_accuracy: 0.6830 - val_loss: 0.7340 - val_binary_accuracy: 0.5678\n",
      "Epoch 96/100\n",
      "19/19 [==============================] - 1s 53ms/step - loss: 0.5773 - binary_accuracy: 0.6894 - val_loss: 0.7284 - val_binary_accuracy: 0.5805\n",
      "Epoch 97/100\n",
      "19/19 [==============================] - 1s 52ms/step - loss: 0.5833 - binary_accuracy: 0.6904 - val_loss: 0.7147 - val_binary_accuracy: 0.5636\n",
      "Epoch 98/100\n",
      "19/19 [==============================] - 1s 52ms/step - loss: 0.5830 - binary_accuracy: 0.7043 - val_loss: 0.8127 - val_binary_accuracy: 0.5212\n",
      "Epoch 99/100\n",
      "19/19 [==============================] - 1s 52ms/step - loss: 0.6041 - binary_accuracy: 0.6691 - val_loss: 0.7121 - val_binary_accuracy: 0.5847\n",
      "Epoch 100/100\n",
      "19/19 [==============================] - 1s 52ms/step - loss: 0.5917 - binary_accuracy: 0.6755 - val_loss: 0.7143 - val_binary_accuracy: 0.5975\n"
     ]
    }
   ],
   "source": [
    "history = model.fit(X_train, y_train, \n",
    "                    batch_size=batch_size, \n",
    "                    epochs=epochs, \n",
    "                    validation_data=(X_val, y_val), \n",
    "                    verbose=1, \n",
    "                    callbacks=[tensorboard_call]) #, val_loss_callback])"
   ]
  },
  {
   "cell_type": "code",
   "execution_count": 13,
   "metadata": {},
   "outputs": [
    {
     "name": "stdout",
     "output_type": "stream",
     "text": [
      "Model: \"sequential\"\n",
      "_________________________________________________________________\n",
      "Layer (type)                 Output Shape              Param #   \n",
      "=================================================================\n",
      "lstm (LSTM)                  (None, 19)                3040      \n",
      "_________________________________________________________________\n",
      "gaussian_noise (GaussianNois (None, 19)                0         \n",
      "_________________________________________________________________\n",
      "dense (Dense)                (None, 1)                 20        \n",
      "=================================================================\n",
      "Total params: 3,060\n",
      "Trainable params: 3,060\n",
      "Non-trainable params: 0\n",
      "_________________________________________________________________\n"
     ]
    }
   ],
   "source": [
    "model.summary()"
   ]
  },
  {
   "cell_type": "code",
   "execution_count": 14,
   "metadata": {},
   "outputs": [
    {
     "name": "stdout",
     "output_type": "stream",
     "text": [
      "294/294 [==============================] - 2s 6ms/step - loss: 0.6351 - binary_accuracy: 0.6497\n",
      "test loss, test acc: [0.635115385055542, 0.6496598720550537]\n"
     ]
    }
   ],
   "source": [
    "#evaluate model on test set\n",
    "results = model.evaluate(X_test, y_test, batch_size=1, verbose=1)\n",
    "print(\"test loss, test acc:\", results)"
   ]
  },
  {
   "cell_type": "code",
   "execution_count": 15,
   "metadata": {},
   "outputs": [
    {
     "data": {
      "image/png": "[encoded data removed]",
      "text/plain": [
       "<Figure size 432x288 with 1 Axes>"
      ]
     },
     "metadata": {
      "needs_background": "light"
     },
     "output_type": "display_data"
    }
   ],
   "source": [
    "#summarize history for accuracy\n",
    "plt.plot(history.history[(list(history.history.keys())[1])])\n",
    "plt.plot(history.history[(list(history.history.keys())[3])])\n",
    "plt.title('model accuracy')\n",
    "plt.ylabel('accuracy')\n",
    "plt.xlabel('epoch')\n",
    "plt.legend(['train', 'val'], loc='upper left')\n",
    "plt.show()"
   ]
  },
  {
   "cell_type": "code",
   "execution_count": 16,
   "metadata": {},
   "outputs": [
    {
     "data": {
      "image/png": "[encoded data removed]",
      "text/plain": [
       "<Figure size 432x288 with 1 Axes>"
      ]
     },
     "metadata": {
      "needs_background": "light"
     },
     "output_type": "display_data"
    }
   ],
   "source": [
    "#summarize history for loss\n",
    "plt.plot(history.history[(list(history.history.keys())[0])])\n",
    "plt.plot(history.history[(list(history.history.keys())[2])])\n",
    "plt.title('model loss')\n",
    "plt.ylabel('loss')\n",
    "plt.xlabel('epoch')\n",
    "plt.legend(['train', 'val'], loc='upper left')\n",
    "plt.show()"
   ]
  },
  {
   "cell_type": "code",
   "execution_count": 17,
   "metadata": {},
   "outputs": [
    {
     "name": "stdout",
     "output_type": "stream",
     "text": [
      "predictions: [[0.68928576]\n",
      " [0.26132172]\n",
      " [0.4790182 ]\n",
      " [0.464603  ]\n",
      " [0.20044878]\n",
      " [0.30681443]\n",
      " [0.6965828 ]\n",
      " [0.53550214]\n",
      " [0.7767078 ]\n",
      " [0.18091992]\n",
      " [0.3752572 ]\n",
      " [0.40731227]\n",
      " [0.83470094]\n",
      " [0.21142498]\n",
      " [0.25216156]\n",
      " [0.22755209]\n",
      " [0.28900865]\n",
      " [0.28566527]\n",
      " [0.4149298 ]\n",
      " [0.44234365]\n",
      " [0.75890374]\n",
      " [0.85636187]\n",
      " [0.67443234]\n",
      " [0.25444025]\n",
      " [0.68171775]\n",
      " [0.33688396]\n",
      " [0.5805523 ]\n",
      " [0.29132223]\n",
      " [0.46694472]\n",
      " [0.38619518]\n",
      " [0.65528214]\n",
      " [0.8645432 ]\n",
      " [0.3676306 ]\n",
      " [0.561444  ]\n",
      " [0.6378277 ]\n",
      " [0.80754507]\n",
      " [0.38110656]\n",
      " [0.56563973]\n",
      " [0.58089817]\n",
      " [0.5295915 ]\n",
      " [0.3856495 ]\n",
      " [0.28321075]\n",
      " [0.48657706]\n",
      " [0.2887114 ]\n",
      " [0.78524053]\n",
      " [0.40532145]\n",
      " [0.2539872 ]\n",
      " [0.6119618 ]\n",
      " [0.5893848 ]\n",
      " [0.63241476]\n",
      " [0.7696247 ]\n",
      " [0.71294105]\n",
      " [0.36791778]\n",
      " [0.2342101 ]\n",
      " [0.8209199 ]\n",
      " [0.30676684]\n",
      " [0.8102218 ]\n",
      " [0.24615544]\n",
      " [0.7511693 ]\n",
      " [0.70999855]\n",
      " [0.17161477]\n",
      " [0.16133645]\n",
      " [0.25673854]\n",
      " [0.46023664]\n",
      " [0.6965026 ]\n",
      " [0.32410234]\n",
      " [0.33335882]\n",
      " [0.37236133]\n",
      " [0.338257  ]\n",
      " [0.25344098]\n",
      " [0.25546888]\n",
      " [0.3732934 ]\n",
      " [0.50895315]\n",
      " [0.49896055]\n",
      " [0.82194716]\n",
      " [0.7789514 ]\n",
      " [0.35674354]\n",
      " [0.65903705]\n",
      " [0.33245373]\n",
      " [0.5997002 ]\n",
      " [0.59451663]\n",
      " [0.3653484 ]\n",
      " [0.83724546]\n",
      " [0.45990527]\n",
      " [0.5719338 ]\n",
      " [0.72487843]\n",
      " [0.90976524]\n",
      " [0.480085  ]\n",
      " [0.45567334]\n",
      " [0.7905119 ]\n",
      " [0.33907688]\n",
      " [0.60643566]\n",
      " [0.34799865]\n",
      " [0.38198647]\n",
      " [0.65568316]\n",
      " [0.42068028]\n",
      " [0.66813856]\n",
      " [0.24853581]\n",
      " [0.7713136 ]\n",
      " [0.602857  ]\n",
      " [0.59913534]\n",
      " [0.4934306 ]\n",
      " [0.5312998 ]\n",
      " [0.5171438 ]\n",
      " [0.7810351 ]\n",
      " [0.69748145]\n",
      " [0.49487308]\n",
      " [0.79881454]\n",
      " [0.45670548]\n",
      " [0.3360541 ]\n",
      " [0.5746044 ]\n",
      " [0.8079984 ]\n",
      " [0.24000561]\n",
      " [0.8046807 ]\n",
      " [0.71992517]\n",
      " [0.81806946]\n",
      " [0.3467127 ]\n",
      " [0.5742666 ]\n",
      " [0.56476665]\n",
      " [0.69352895]\n",
      " [0.34734085]\n",
      " [0.17578948]\n",
      " [0.22835982]\n",
      " [0.36280006]\n",
      " [0.3519745 ]\n",
      " [0.32238075]\n",
      " [0.8734458 ]\n",
      " [0.60845995]\n",
      " [0.83691907]\n",
      " [0.5563625 ]\n",
      " [0.58160794]\n",
      " [0.29557306]\n",
      " [0.8630777 ]\n",
      " [0.48582122]\n",
      " [0.29048178]\n",
      " [0.23130572]\n",
      " [0.40507764]\n",
      " [0.25996727]\n",
      " [0.25863716]\n",
      " [0.30037105]\n",
      " [0.34038493]\n",
      " [0.45273304]\n",
      " [0.7361896 ]\n",
      " [0.46732414]\n",
      " [0.68931884]\n",
      " [0.6318604 ]\n",
      " [0.32256687]\n",
      " [0.4576704 ]\n",
      " [0.90275526]\n",
      " [0.24936274]\n",
      " [0.45685595]\n",
      " [0.37247074]\n",
      " [0.20761946]\n",
      " [0.25101504]\n",
      " [0.7281175 ]\n",
      " [0.54842305]\n",
      " [0.38649404]\n",
      " [0.22599405]\n",
      " [0.60915595]\n",
      " [0.40034756]\n",
      " [0.79805964]\n",
      " [0.28028828]\n",
      " [0.5551753 ]\n",
      " [0.23328093]\n",
      " [0.50379974]\n",
      " [0.6347373 ]\n",
      " [0.8430784 ]\n",
      " [0.28146446]\n",
      " [0.18130293]\n",
      " [0.52016395]\n",
      " [0.60906106]\n",
      " [0.7085741 ]\n",
      " [0.38343802]\n",
      " [0.4049807 ]\n",
      " [0.85397005]\n",
      " [0.70403385]\n",
      " [0.6617615 ]\n",
      " [0.44590393]\n",
      " [0.4567235 ]\n",
      " [0.7062316 ]\n",
      " [0.3703363 ]\n",
      " [0.34032083]\n",
      " [0.20636338]\n",
      " [0.5622384 ]\n",
      " [0.59787226]\n",
      " [0.6173523 ]\n",
      " [0.25817418]\n",
      " [0.26828405]\n",
      " [0.17031604]\n",
      " [0.42905068]\n",
      " [0.17381111]\n",
      " [0.7571821 ]\n",
      " [0.47977847]\n",
      " [0.78874433]\n",
      " [0.24509996]\n",
      " [0.39282095]\n",
      " [0.7810129 ]\n",
      " [0.3128587 ]\n",
      " [0.43036288]\n",
      " [0.2851521 ]\n",
      " [0.49146345]\n",
      " [0.7007718 ]\n",
      " [0.16714472]\n",
      " [0.61707187]\n",
      " [0.6788623 ]\n",
      " [0.6388509 ]\n",
      " [0.36441797]\n",
      " [0.5606424 ]\n",
      " [0.79496443]\n",
      " [0.5825557 ]\n",
      " [0.3887459 ]\n",
      " [0.7137191 ]\n",
      " [0.33122903]\n",
      " [0.3659877 ]\n",
      " [0.800532  ]\n",
      " [0.8190917 ]\n",
      " [0.33018893]\n",
      " [0.3590675 ]\n",
      " [0.43102968]\n",
      " [0.4168476 ]\n",
      " [0.5548386 ]\n",
      " [0.87822515]\n",
      " [0.7476922 ]\n",
      " [0.6541343 ]\n",
      " [0.18924367]\n",
      " [0.5148197 ]\n",
      " [0.7571604 ]\n",
      " [0.3095427 ]\n",
      " [0.26284027]\n",
      " [0.5844631 ]\n",
      " [0.1958422 ]\n",
      " [0.7605388 ]\n",
      " [0.87392217]\n",
      " [0.39209807]\n",
      " [0.79395556]\n",
      " [0.16476136]\n",
      " [0.47029907]\n",
      " [0.27468345]\n",
      " [0.62993205]\n",
      " [0.45276186]\n",
      " [0.41772446]\n",
      " [0.84669954]\n",
      " [0.22472551]\n",
      " [0.396228  ]\n",
      " [0.33881825]\n",
      " [0.6464002 ]\n",
      " [0.47426522]\n",
      " [0.44402072]\n",
      " [0.72065914]\n",
      " [0.6824325 ]\n",
      " [0.722608  ]\n",
      " [0.3864504 ]\n",
      " [0.5660225 ]\n",
      " [0.45189622]\n",
      " [0.7137884 ]\n",
      " [0.28922248]\n",
      " [0.2616656 ]\n",
      " [0.49447995]\n",
      " [0.26845372]\n",
      " [0.32416815]\n",
      " [0.38544494]\n",
      " [0.80170166]\n",
      " [0.81982416]\n",
      " [0.64627814]\n",
      " [0.47072345]\n",
      " [0.40752724]\n",
      " [0.44655797]\n",
      " [0.8342394 ]\n",
      " [0.67069143]\n",
      " [0.4747079 ]\n",
      " [0.7532768 ]\n",
      " [0.56570256]\n",
      " [0.49160272]\n",
      " [0.3094225 ]\n",
      " [0.6988732 ]\n",
      " [0.7077949 ]\n",
      " [0.2542345 ]\n",
      " [0.86310244]\n",
      " [0.4156348 ]\n",
      " [0.2614952 ]\n",
      " [0.313002  ]\n",
      " [0.73277676]\n",
      " [0.5537215 ]\n",
      " [0.56947684]\n",
      " [0.24779126]\n",
      " [0.33675653]\n",
      " [0.27564123]\n",
      " [0.292606  ]\n",
      " [0.75589883]\n",
      " [0.7464386 ]\n",
      " [0.5185383 ]\n",
      " [0.74514854]\n",
      " [0.31608838]\n",
      " [0.22194406]]\n"
     ]
    }
   ],
   "source": [
    "#generate predictions\n",
    "predictions = model.predict(X_test)\n",
    "print(\"predictions:\", predictions)"
   ]
  },
  {
   "cell_type": "code",
   "execution_count": 18,
   "metadata": {},
   "outputs": [
    {
     "name": "stdout",
     "output_type": "stream",
     "text": [
      "['N' 'F' 'F' 'F' 'F' 'F' 'N' 'N' 'N' 'F' 'F' 'F' 'N' 'F' 'F' 'F' 'F' 'F'\n",
      " 'F' 'F' 'N' 'N' 'N' 'F' 'N' 'F' 'N' 'F' 'F' 'F' 'N' 'N' 'F' 'N' 'N' 'N'\n",
      " 'F' 'N' 'N' 'N' 'F' 'F' 'F' 'F' 'N' 'F' 'F' 'N' 'N' 'N' 'N' 'N' 'F' 'F'\n",
      " 'N' 'F' 'N' 'F' 'N' 'N' 'F' 'F' 'F' 'F' 'N' 'F' 'F' 'F' 'F' 'F' 'F' 'F'\n",
      " 'N' 'F' 'N' 'N' 'F' 'N' 'F' 'N' 'N' 'F' 'N' 'F' 'N' 'N' 'N' 'F' 'F' 'N'\n",
      " 'F' 'N' 'F' 'F' 'N' 'F' 'N' 'F' 'N' 'N' 'N' 'F' 'N' 'N' 'N' 'N' 'F' 'N'\n",
      " 'F' 'F' 'N' 'N' 'F' 'N' 'N' 'N' 'F' 'N' 'N' 'N' 'F' 'F' 'F' 'F' 'F' 'F'\n",
      " 'N' 'N' 'N' 'N' 'N' 'F' 'N' 'F' 'F' 'F' 'F' 'F' 'F' 'F' 'F' 'F' 'N' 'F'\n",
      " 'N' 'N' 'F' 'F' 'N' 'F' 'F' 'F' 'F' 'F' 'N' 'N' 'F' 'F' 'N' 'F' 'N' 'F'\n",
      " 'N' 'F' 'N' 'N' 'N' 'F' 'F' 'N' 'N' 'N' 'F' 'F' 'N' 'N' 'N' 'F' 'F' 'N'\n",
      " 'F' 'F' 'F' 'N' 'N' 'N' 'F' 'F' 'F' 'F' 'F' 'N' 'F' 'N' 'F' 'F' 'N' 'F'\n",
      " 'F' 'F' 'F' 'N' 'F' 'N' 'N' 'N' 'F' 'N' 'N' 'N' 'F' 'N' 'F' 'F' 'N' 'N'\n",
      " 'F' 'F' 'F' 'F' 'N' 'N' 'N' 'N' 'F' 'N' 'N' 'F' 'F' 'N' 'F' 'N' 'N' 'F'\n",
      " 'N' 'F' 'F' 'F' 'N' 'F' 'F' 'N' 'F' 'F' 'F' 'N' 'F' 'F' 'N' 'N' 'N' 'F'\n",
      " 'N' 'F' 'N' 'F' 'F' 'F' 'F' 'F' 'F' 'N' 'N' 'N' 'F' 'F' 'F' 'N' 'N' 'F'\n",
      " 'N' 'N' 'F' 'F' 'N' 'N' 'F' 'N' 'F' 'F' 'F' 'N' 'N' 'N' 'F' 'F' 'F' 'F'\n",
      " 'N' 'N' 'N' 'N' 'F' 'F']\n"
     ]
    }
   ],
   "source": [
    "#remove encoding\n",
    "real_predictions_B = a_encoder.inverse_transform(predictions)\n",
    "print(real_predictions_B)"
   ]
  },
  {
   "cell_type": "code",
   "execution_count": 19,
   "metadata": {},
   "outputs": [
    {
     "data": {
      "text/plain": [
       "{'F': 159, 'N': 135}"
      ]
     },
     "execution_count": 19,
     "metadata": {},
     "output_type": "execute_result"
    }
   ],
   "source": [
    "#prediction counts\n",
    "unique, counts = np.unique(real_predictions_B, return_counts=True)\n",
    "dict(zip(unique, counts))"
   ]
  },
  {
   "cell_type": "code",
   "execution_count": 20,
   "metadata": {},
   "outputs": [
    {
     "name": "stdout",
     "output_type": "stream",
     "text": [
      "['N' 'F' 'F' 'F' 'F' 'F' 'F' 'F' 'F' 'F' 'F' 'F' 'F' 'F' 'F' 'N' 'F' 'F'\n",
      " 'F' 'N' 'N' 'N' 'F' 'F' 'N' 'F' 'N' 'F' 'N' 'F' 'N' 'N' 'F' 'N' 'N' 'N'\n",
      " 'F' 'F' 'F' 'N' 'F' 'N' 'F' 'F' 'F' 'N' 'F' 'N' 'N' 'N' 'F' 'F' 'N' 'N'\n",
      " 'N' 'N' 'N' 'N' 'N' 'F' 'F' 'F' 'F' 'N' 'F' 'N' 'N' 'N' 'N' 'F' 'F' 'N'\n",
      " 'F' 'N' 'F' 'N' 'N' 'N' 'F' 'N' 'F' 'F' 'N' 'N' 'N' 'F' 'N' 'F' 'N' 'N'\n",
      " 'F' 'N' 'F' 'N' 'N' 'F' 'N' 'F' 'N' 'N' 'N' 'F' 'N' 'N' 'N' 'F' 'N' 'N'\n",
      " 'N' 'F' 'F' 'N' 'F' 'N' 'N' 'N' 'F' 'N' 'N' 'F' 'F' 'F' 'F' 'F' 'N' 'N'\n",
      " 'N' 'F' 'N' 'N' 'N' 'N' 'N' 'N' 'F' 'F' 'N' 'N' 'F' 'F' 'F' 'F' 'F' 'F'\n",
      " 'F' 'F' 'F' 'F' 'N' 'F' 'F' 'F' 'F' 'F' 'N' 'N' 'F' 'F' 'N' 'F' 'N' 'N'\n",
      " 'F' 'N' 'F' 'N' 'N' 'F' 'N' 'N' 'F' 'F' 'F' 'F' 'N' 'N' 'N' 'F' 'F' 'N'\n",
      " 'N' 'F' 'N' 'F' 'N' 'F' 'F' 'F' 'F' 'F' 'F' 'N' 'F' 'F' 'F' 'F' 'F' 'F'\n",
      " 'F' 'F' 'F' 'N' 'F' 'F' 'N' 'N' 'F' 'N' 'N' 'F' 'N' 'F' 'N' 'N' 'F' 'N'\n",
      " 'N' 'N' 'N' 'F' 'N' 'N' 'N' 'N' 'N' 'F' 'N' 'F' 'N' 'F' 'F' 'N' 'N' 'F'\n",
      " 'N' 'F' 'F' 'N' 'F' 'N' 'F' 'N' 'N' 'N' 'N' 'N' 'F' 'N' 'F' 'N' 'N' 'N'\n",
      " 'F' 'N' 'N' 'F' 'F' 'N' 'N' 'N' 'F' 'F' 'N' 'F' 'F' 'F' 'N' 'F' 'N' 'F'\n",
      " 'N' 'F' 'N' 'F' 'N' 'N' 'F' 'N' 'N' 'F' 'N' 'N' 'N' 'F' 'N' 'F' 'F' 'F'\n",
      " 'N' 'F' 'N' 'N' 'F' 'F']\n"
     ]
    }
   ],
   "source": [
    "#y_test predictions\n",
    "ytest_predictions = a_encoder.inverse_transform(y_test)\n",
    "print(ytest_predictions)"
   ]
  },
  {
   "cell_type": "code",
   "execution_count": 21,
   "metadata": {},
   "outputs": [
    {
     "data": {
      "text/plain": [
       "{'F': 148, 'N': 146}"
      ]
     },
     "execution_count": 21,
     "metadata": {},
     "output_type": "execute_result"
    }
   ],
   "source": [
    "#real count\n",
    "unique, counts = np.unique(ytest_predictions, return_counts=True)\n",
    "dict(zip(unique, counts))"
   ]
  },
  {
   "cell_type": "code",
   "execution_count": 22,
   "metadata": {},
   "outputs": [
    {
     "data": {
      "image/png": "[encoded data removed]",
      "text/plain": [
       "<Figure size 432x288 with 2 Axes>"
      ]
     },
     "metadata": {
      "needs_background": "light"
     },
     "output_type": "display_data"
    }
   ],
   "source": [
    "#confusion matrix\n",
    "matrix = confusion_matrix(ytest_predictions, real_predictions_B)\n",
    "#format confusion matrix\n",
    "ax=plt.subplot()\n",
    "sns.heatmap(matrix, annot=True, ax = ax, cmap='Blues', fmt='g');\n",
    "accuracy = np.trace(matrix) / np.sum(matrix).astype('float')\n",
    "misclass = 1 - accuracy\n",
    "ax.set_xlabel('Predicted label\\naccuracy={:0.4f}; misclass={:0.4f}'.format(accuracy, misclass));\n",
    "ax.set_ylabel('True labels'); \n",
    "ax.set_title('Confusion Matrix');\n",
    "ax.xaxis.set_ticklabels(unique); ax.yaxis.set_ticklabels(unique);"
   ]
  },
  {
   "cell_type": "code",
   "execution_count": 23,
   "metadata": {},
   "outputs": [
    {
     "name": "stdout",
     "output_type": "stream",
     "text": [
      "              precision    recall  f1-score   support\n",
      "\n",
      "           F       0.64      0.69      0.66       148\n",
      "           N       0.66      0.61      0.63       146\n",
      "\n",
      "    accuracy                           0.65       294\n",
      "   macro avg       0.65      0.65      0.65       294\n",
      "weighted avg       0.65      0.65      0.65       294\n",
      "\n"
     ]
    }
   ],
   "source": [
    "print(classification_report(ytest_predictions, real_predictions_B))"
   ]
  },
  {
   "cell_type": "code",
   "execution_count": 24,
   "metadata": {},
   "outputs": [
    {
     "name": "stdout",
     "output_type": "stream",
     "text": [
      "precision score:0.6504\n",
      "recall score:0.6494\n",
      "f1 score:0.6490\n"
     ]
    }
   ],
   "source": [
    "#macro - calculate metrics for each label, and find their unweighted mean\n",
    "pre_score = precision_score(ytest_predictions, real_predictions_B, average = \"macro\")\n",
    "print('precision score:{:0.4f}'.format(pre_score))\n",
    "recall_score_1 = recall_score(ytest_predictions, real_predictions_B, average= \"macro\")\n",
    "print('recall score:{:0.4f}'.format(recall_score_1))\n",
    "f1_score_1 = f1_score(ytest_predictions, real_predictions_B, average=\"macro\")\n",
    "print('f1 score:{:0.4f}'.format(f1_score_1))"
   ]
  },
  {
   "cell_type": "code",
   "execution_count": null,
   "metadata": {},
   "outputs": [],
   "source": []
  }
 ],
 "metadata": {
  "kernelspec": {
   "display_name": "Python 3",
   "language": "python",
   "name": "python3"
  },
  "language_info": {
   "codemirror_mode": {
    "name": "ipython",
    "version": 3
   },
   "file_extension": ".py",
   "mimetype": "text/x-python",
   "name": "python",
   "nbconvert_exporter": "python",
   "pygments_lexer": "ipython3",
   "version": "3.8.3"
  }
 },
 "nbformat": 4,
 "nbformat_minor": 4
}
