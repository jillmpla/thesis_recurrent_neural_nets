{
 "cells": [
  {
   "cell_type": "code",
   "execution_count": 1,
   "metadata": {},
   "outputs": [],
   "source": [
    "#tensorboard via command-line:\n",
    "#tensorboard --logdir=where your Logs directory is"
   ]
  },
  {
   "cell_type": "code",
   "execution_count": 2,
   "metadata": {},
   "outputs": [],
   "source": [
    "#~~~~~~~~~~~~~~~~~~~~~~~~~~~~~~~~~~~~~~~~~~~~~~~~~~~~~~~~~~~~~~~~~~~~~~~~~~~~~~~~~~~~~~~~~~~~~~~~~~~~~~~#\n",
    "#What is the maximum flare class produced by an AR in the next 24hrs after a 24hr time sequence?\n",
    "#~~~~~~~~~~~~~~~~~~~~~~~~~~~~~~~~~~~~~~~~~~~~~~~~~~~~~~~~~~~~~~~~~~~~~~~~~~~~~~~~~~~~~~~~~~~~~~~~~~~~~~~#\n",
    "#feature data from - hmi.sharp_720s:::\n",
    "#http://jsoc.stanford.edu/doc/data/hmi/sharp/sharp.htm\n",
    "\n",
    "#label data from - GOES flare events:::\n",
    "#ftp://ftp.swpc.noaa.gov/pub/warehouse/\n",
    "\n",
    "#and from - GOES XRS Report:::\n",
    "#https://www.ngdc.noaa.gov/stp/space-weather/solar-data/solar-features/solar-flares/x-rays/goes/xrs/\n",
    "#~~~~~~~~~~~~~~~~~~~~~~~~~~~~~~~~~~~~~~~~~~~~~~~~~~~~~~~~~~~~~~~~~~~~~~~~~~~~~~~~~~~~~~~~~~~~~~~~~~~~~~~#\n",
    "#binary class - F for flare and N for no flare\n",
    "#multi-class - #6 flare classes: N is no flare, A is smallest, X is largest\n",
    "               #key = {'N', 'A', 'B', 'C', 'M', 'X'}\n",
    "               #['A' class flares generally not listed in official reports due to small size]\n",
    "#~~~~~~~~~~~~~~~~~~~~~~~~~~~~~~~~~~~~~~~~~~~~~~~~~~~~~~~~~~~~~~~~~~~~~~~~~~~~~~~~~~~~~~~~~~~~~~~~~~~~~~~#"
   ]
  },
  {
   "cell_type": "code",
   "execution_count": 3,
   "metadata": {},
   "outputs": [
    {
     "name": "stdout",
     "output_type": "stream",
     "text": [
      "tensorflow version: 2.3.1\n"
     ]
    }
   ],
   "source": [
    "import tensorflow as tf\n",
    "print(\"tensorflow version:\", tf.__version__) #2.3.1 used\n",
    "from tensorflow import keras\n",
    "import os\n",
    "import glob\n",
    "import shutil\n",
    "import datetime\n",
    "import numpy as np\n",
    "import pandas as pd\n",
    "import seaborn as sns\n",
    "from pathlib import Path\n",
    "from astropy.time import Time\n",
    "from matplotlib import pyplot as plt\n",
    "from sklearn.metrics import f1_score, precision_score, recall_score, classification_report, confusion_matrix\n",
    "from sklearn.metrics import plot_confusion_matrix\n",
    "from sklearn.preprocessing import LabelBinarizer\n",
    "from sklearn.model_selection import train_test_split\n",
    "from sklearn.preprocessing import MinMaxScaler\n",
    "from tensorflow.keras.layers import Dropout, Dense, SimpleRNN, LSTM, GRU, GaussianNoise\n",
    "from tensorflow.keras.models import Model, Sequential\n",
    "from tensorflow.keras.optimizers import SGD, RMSprop, Adam\n",
    "import drms #https://pypi.org/project/drms/\n",
    "#~~~~~~~~~~~~~~~~~~~~~~~~~~~~~~~~~~~~~~~~~~~~~~~~~~~~~~~~~~~~~~~~~~~~~~~~~~~~~~~~~~~~~~~~~~~~~~~~~~~~~~~#\n",
    "import Flare_Data\n",
    "import Feature_Years\n",
    "import Make_TB_Logs\n",
    "#~~~~~~~~~~~~~~~~~~~~~~~~~~~~~~~~~~~~~~~~~~~~~~~~~~~~~~~~~~~~~~~~~~~~~~~~~~~~~~~~~~~~~~~~~~~~~~~~~~~~~~~#"
   ]
  },
  {
   "cell_type": "code",
   "execution_count": 4,
   "metadata": {},
   "outputs": [
    {
     "name": "stdout",
     "output_type": "stream",
     "text": [
      "CSVs compiled.\n"
     ]
    }
   ],
   "source": [
    "Feature_Years.generate_all_feature_years()"
   ]
  },
  {
   "cell_type": "code",
   "execution_count": 5,
   "metadata": {},
   "outputs": [],
   "source": [
    "where_logs = Make_TB_Logs.make_clear_tensorboard_folder()"
   ]
  },
  {
   "cell_type": "code",
   "execution_count": 6,
   "metadata": {},
   "outputs": [
    {
     "name": "stdout",
     "output_type": "stream",
     "text": [
      "The time series starts from:  2011-01-01 00:11:26\n",
      "The time series ends on:  2016-12-31 23:47:24\n",
      "(array(['B', 'C', 'M'], dtype='<U1'), array([167, 147, 155], dtype=int64))\n"
     ]
    }
   ],
   "source": [
    "#binary = True for binary classification, binary = False for multi-class classification\n",
    "X_train, X_val, X_test, y_train, y_val, y_test, tim_steps, n_feats, count_of_classes, a_encoder = Flare_Data.getAllData(binary = False)"
   ]
  },
  {
   "cell_type": "code",
   "execution_count": 7,
   "metadata": {},
   "outputs": [
    {
     "name": "stdout",
     "output_type": "stream",
     "text": [
      "(300, 114, 20) (75, 114, 20) (94, 114, 20) (300, 3) (75, 3) (94, 3)\n"
     ]
    }
   ],
   "source": [
    "print(X_train.shape, X_val.shape, X_test.shape, y_train.shape, y_val.shape, y_test.shape)"
   ]
  },
  {
   "cell_type": "code",
   "execution_count": 8,
   "metadata": {},
   "outputs": [],
   "source": [
    "#~~~~~~~~~~~~~~~~~~~~~~~~~~~~~~~~~~~~~~~~~~~~~~~~~~~~~~~~~~~~~~~~~~~~~~~~~~~~~~~~~~~~~~~~~~~~~~~~~~~~~~~~~~#\n",
    "#~~~~~~~~~~~~~~~~~~~~~~~~~~~~~~~~~~~~~~~~~~~~~~~~~~~~~~~~~~~~~~~~~~~~~~~~~~~~~~~~~~~~~~~~~~~~~~~~~~~~~~~~~~#"
   ]
  },
  {
   "cell_type": "code",
   "execution_count": 9,
   "metadata": {},
   "outputs": [],
   "source": [
    "batch_size = 10\n",
    "epochs = 100\n",
    "optimizer = Adam(lr=0.0001, beta_1=0.9, beta_2=0.999, epsilon=1e-06, decay=0.0)"
   ]
  },
  {
   "cell_type": "code",
   "execution_count": 10,
   "metadata": {},
   "outputs": [],
   "source": [
    "#~~~~~~~~~~~~~~~~~~~~~~~~~~~~~~~~~~~~~~~~~[GRU_3 Model]~~~~~~~~~~~~~~~~~~~~~~~~~~~~~~~~~~~~~~~~~~~~~~~~~~~~#\n",
    "#~~~~~~~~~~~~~~~~~~~~~~~~~~~~~~~~~~~~~~~~~[Multi-Class]~~~~~~~~~~~~~~~~~~~~~~~~~~~~~~~~~~~~~~~~~~~~~~~~~~~~#\n",
    "#~~~~~~~~~~~~~~~~~~~~~~~~~~~~~~~~~~~~~~~~~[Single Layer]~~~~~~~~~~~~~~~~~~~~~~~~~~~~~~~~~~~~~~~~~~~~~~~~~~~#\n",
    "model = Sequential()\n",
    "model.add(GRU(32, input_shape=(tim_steps, n_feats)))\n",
    "model.add(GaussianNoise(0.01))\n",
    "model.add(Dropout(0.1))\n",
    "model.add(Dense(count_of_classes, activation='softmax'))\n",
    "model.compile(loss='categorical_crossentropy', optimizer=optimizer, metrics=['categorical_accuracy'])\n",
    "#~~~~~~~~~~~~~~~~~~~~~~~~~~~~~~~~~~~~~~~~~~~~~~~~~~~~~~~~~~~~~~~~~~~~~~~~~~~~~~~~~~~~~~~~~~~~~~~~~~~~~~~~~~#\n",
    "#~~~~~~~~~~~~~~~~~~~~~~~~~~~~~~~~~~~~~~~~~~~~~~~~~~~~~~~~~~~~~~~~~~~~~~~~~~~~~~~~~~~~~~~~~~~~~~~~~~~~~~~~~~#"
   ]
  },
  {
   "cell_type": "code",
   "execution_count": 11,
   "metadata": {},
   "outputs": [],
   "source": [
    "tensorboard_call = keras.callbacks.TensorBoard(log_dir=where_logs, histogram_freq=1)\n",
    "#val_loss_callback = tf.keras.callbacks.EarlyStopping(monitor='val_loss', patience=10)"
   ]
  },
  {
   "cell_type": "code",
   "execution_count": 12,
   "metadata": {},
   "outputs": [
    {
     "name": "stdout",
     "output_type": "stream",
     "text": [
      "Epoch 1/100\n",
      " 1/30 [>.............................] - ETA: 0s - loss: 1.1101 - categorical_accuracy: 0.4000WARNING:tensorflow:From C:\\ProgramData\\Anaconda3\\lib\\site-packages\\tensorflow\\python\\ops\\summary_ops_v2.py:1277: stop (from tensorflow.python.eager.profiler) is deprecated and will be removed after 2020-07-01.\n",
      "Instructions for updating:\n",
      "use `tf.profiler.experimental.stop` instead.\n",
      " 2/30 [=>............................] - ETA: 3s - loss: 1.0669 - categorical_accuracy: 0.4500WARNING:tensorflow:Callbacks method `on_train_batch_end` is slow compared to the batch time (batch time: 0.0210s vs `on_train_batch_end` time: 0.2453s). Check your callbacks.\n",
      "30/30 [==============================] - 2s 63ms/step - loss: 1.1124 - categorical_accuracy: 0.3267 - val_loss: 1.0895 - val_categorical_accuracy: 0.3867\n",
      "Epoch 2/100\n",
      "30/30 [==============================] - 1s 20ms/step - loss: 1.1221 - categorical_accuracy: 0.3100 - val_loss: 1.0877 - val_categorical_accuracy: 0.4000\n",
      "Epoch 3/100\n",
      "30/30 [==============================] - 1s 25ms/step - loss: 1.1102 - categorical_accuracy: 0.3400 - val_loss: 1.0871 - val_categorical_accuracy: 0.4267\n",
      "Epoch 4/100\n",
      "30/30 [==============================] - 1s 24ms/step - loss: 1.1128 - categorical_accuracy: 0.3567 - val_loss: 1.0870 - val_categorical_accuracy: 0.4267\n",
      "Epoch 5/100\n",
      "30/30 [==============================] - 1s 21ms/step - loss: 1.1136 - categorical_accuracy: 0.2933 - val_loss: 1.0872 - val_categorical_accuracy: 0.4000\n",
      "Epoch 6/100\n",
      "30/30 [==============================] - 1s 20ms/step - loss: 1.1085 - categorical_accuracy: 0.3000 - val_loss: 1.0869 - val_categorical_accuracy: 0.4667\n",
      "Epoch 7/100\n",
      "30/30 [==============================] - 1s 19ms/step - loss: 1.1056 - categorical_accuracy: 0.3233 - val_loss: 1.0868 - val_categorical_accuracy: 0.4533\n",
      "Epoch 8/100\n",
      "30/30 [==============================] - 1s 20ms/step - loss: 1.1003 - categorical_accuracy: 0.3567 - val_loss: 1.0866 - val_categorical_accuracy: 0.4533\n",
      "Epoch 9/100\n",
      "30/30 [==============================] - 1s 20ms/step - loss: 1.1079 - categorical_accuracy: 0.3500 - val_loss: 1.0864 - val_categorical_accuracy: 0.4267\n",
      "Epoch 10/100\n",
      "30/30 [==============================] - 1s 20ms/step - loss: 1.1080 - categorical_accuracy: 0.3433 - val_loss: 1.0863 - val_categorical_accuracy: 0.4533\n",
      "Epoch 11/100\n",
      "30/30 [==============================] - 1s 19ms/step - loss: 1.1013 - categorical_accuracy: 0.3300 - val_loss: 1.0861 - val_categorical_accuracy: 0.4533\n",
      "Epoch 12/100\n",
      "30/30 [==============================] - 1s 19ms/step - loss: 1.1053 - categorical_accuracy: 0.3200 - val_loss: 1.0861 - val_categorical_accuracy: 0.4267\n",
      "Epoch 13/100\n",
      "30/30 [==============================] - 1s 20ms/step - loss: 1.1038 - categorical_accuracy: 0.3500 - val_loss: 1.0861 - val_categorical_accuracy: 0.4133\n",
      "Epoch 14/100\n",
      "30/30 [==============================] - 1s 19ms/step - loss: 1.0973 - categorical_accuracy: 0.3567 - val_loss: 1.0859 - val_categorical_accuracy: 0.4133\n",
      "Epoch 15/100\n",
      "30/30 [==============================] - 1s 19ms/step - loss: 1.0954 - categorical_accuracy: 0.3400 - val_loss: 1.0859 - val_categorical_accuracy: 0.4267\n",
      "Epoch 16/100\n",
      "30/30 [==============================] - 1s 19ms/step - loss: 1.1107 - categorical_accuracy: 0.2933 - val_loss: 1.0855 - val_categorical_accuracy: 0.4000\n",
      "Epoch 17/100\n",
      "30/30 [==============================] - 1s 19ms/step - loss: 1.0981 - categorical_accuracy: 0.3667 - val_loss: 1.0856 - val_categorical_accuracy: 0.4133\n",
      "Epoch 18/100\n",
      "30/30 [==============================] - 1s 19ms/step - loss: 1.1043 - categorical_accuracy: 0.3300 - val_loss: 1.0854 - val_categorical_accuracy: 0.4000\n",
      "Epoch 19/100\n",
      "30/30 [==============================] - 1s 19ms/step - loss: 1.1003 - categorical_accuracy: 0.3400 - val_loss: 1.0854 - val_categorical_accuracy: 0.4000\n",
      "Epoch 20/100\n",
      "30/30 [==============================] - 1s 20ms/step - loss: 1.1081 - categorical_accuracy: 0.3167 - val_loss: 1.0853 - val_categorical_accuracy: 0.4000\n",
      "Epoch 21/100\n",
      "30/30 [==============================] - 1s 18ms/step - loss: 1.1066 - categorical_accuracy: 0.3367 - val_loss: 1.0852 - val_categorical_accuracy: 0.3733\n",
      "Epoch 22/100\n",
      "30/30 [==============================] - 1s 17ms/step - loss: 1.0952 - categorical_accuracy: 0.3867 - val_loss: 1.0851 - val_categorical_accuracy: 0.3733\n",
      "Epoch 23/100\n",
      "30/30 [==============================] - 1s 19ms/step - loss: 1.0934 - categorical_accuracy: 0.3433 - val_loss: 1.0852 - val_categorical_accuracy: 0.3600\n",
      "Epoch 24/100\n",
      "30/30 [==============================] - 1s 18ms/step - loss: 1.0977 - categorical_accuracy: 0.3533 - val_loss: 1.0851 - val_categorical_accuracy: 0.3600\n",
      "Epoch 25/100\n",
      "30/30 [==============================] - 1s 17ms/step - loss: 1.0989 - categorical_accuracy: 0.3400 - val_loss: 1.0849 - val_categorical_accuracy: 0.3733\n",
      "Epoch 26/100\n",
      "30/30 [==============================] - 1s 17ms/step - loss: 1.0980 - categorical_accuracy: 0.3733 - val_loss: 1.0850 - val_categorical_accuracy: 0.3733\n",
      "Epoch 27/100\n",
      "30/30 [==============================] - 1s 18ms/step - loss: 1.0917 - categorical_accuracy: 0.3667 - val_loss: 1.0848 - val_categorical_accuracy: 0.3867\n",
      "Epoch 28/100\n",
      "30/30 [==============================] - 0s 16ms/step - loss: 1.1097 - categorical_accuracy: 0.3133 - val_loss: 1.0848 - val_categorical_accuracy: 0.3733\n",
      "Epoch 29/100\n",
      "30/30 [==============================] - 0s 15ms/step - loss: 1.1025 - categorical_accuracy: 0.3533 - val_loss: 1.0848 - val_categorical_accuracy: 0.3600\n",
      "Epoch 30/100\n",
      "30/30 [==============================] - 1s 17ms/step - loss: 1.0953 - categorical_accuracy: 0.3567 - val_loss: 1.0847 - val_categorical_accuracy: 0.4133\n",
      "Epoch 31/100\n",
      "30/30 [==============================] - 0s 16ms/step - loss: 1.0953 - categorical_accuracy: 0.3700 - val_loss: 1.0846 - val_categorical_accuracy: 0.3733\n",
      "Epoch 32/100\n",
      "30/30 [==============================] - 0s 15ms/step - loss: 1.1000 - categorical_accuracy: 0.3533 - val_loss: 1.0847 - val_categorical_accuracy: 0.3733\n",
      "Epoch 33/100\n",
      "30/30 [==============================] - 0s 16ms/step - loss: 1.0948 - categorical_accuracy: 0.3867 - val_loss: 1.0849 - val_categorical_accuracy: 0.3600\n",
      "Epoch 34/100\n",
      "30/30 [==============================] - 1s 17ms/step - loss: 1.0895 - categorical_accuracy: 0.3767 - val_loss: 1.0849 - val_categorical_accuracy: 0.3600\n",
      "Epoch 35/100\n",
      "30/30 [==============================] - 0s 16ms/step - loss: 1.0963 - categorical_accuracy: 0.3500 - val_loss: 1.0848 - val_categorical_accuracy: 0.3600\n",
      "Epoch 36/100\n",
      "30/30 [==============================] - 0s 15ms/step - loss: 1.0954 - categorical_accuracy: 0.3567 - val_loss: 1.0849 - val_categorical_accuracy: 0.3333\n",
      "Epoch 37/100\n",
      "30/30 [==============================] - 0s 16ms/step - loss: 1.0939 - categorical_accuracy: 0.3700 - val_loss: 1.0846 - val_categorical_accuracy: 0.3733\n",
      "Epoch 38/100\n",
      "30/30 [==============================] - 1s 17ms/step - loss: 1.0977 - categorical_accuracy: 0.3400 - val_loss: 1.0846 - val_categorical_accuracy: 0.3600\n",
      "Epoch 39/100\n",
      "30/30 [==============================] - 0s 16ms/step - loss: 1.0927 - categorical_accuracy: 0.4000 - val_loss: 1.0849 - val_categorical_accuracy: 0.3467\n",
      "Epoch 40/100\n",
      "30/30 [==============================] - 0s 15ms/step - loss: 1.0908 - categorical_accuracy: 0.3600 - val_loss: 1.0847 - val_categorical_accuracy: 0.3467\n",
      "Epoch 41/100\n",
      "30/30 [==============================] - 0s 16ms/step - loss: 1.0845 - categorical_accuracy: 0.3967 - val_loss: 1.0846 - val_categorical_accuracy: 0.3600\n",
      "Epoch 42/100\n",
      "30/30 [==============================] - 1s 18ms/step - loss: 1.0883 - categorical_accuracy: 0.3733 - val_loss: 1.0848 - val_categorical_accuracy: 0.3467\n",
      "Epoch 43/100\n",
      "30/30 [==============================] - 0s 17ms/step - loss: 1.0953 - categorical_accuracy: 0.3433 - val_loss: 1.0848 - val_categorical_accuracy: 0.3333\n",
      "Epoch 44/100\n",
      "30/30 [==============================] - 0s 16ms/step - loss: 1.0880 - categorical_accuracy: 0.3667 - val_loss: 1.0849 - val_categorical_accuracy: 0.3733\n",
      "Epoch 45/100\n",
      "30/30 [==============================] - 1s 17ms/step - loss: 1.0889 - categorical_accuracy: 0.3433 - val_loss: 1.0849 - val_categorical_accuracy: 0.3333\n",
      "Epoch 46/100\n"
     ]
    },
    {
     "name": "stdout",
     "output_type": "stream",
     "text": [
      "30/30 [==============================] - 1s 17ms/step - loss: 1.0870 - categorical_accuracy: 0.3700 - val_loss: 1.0849 - val_categorical_accuracy: 0.3467\n",
      "Epoch 47/100\n",
      "30/30 [==============================] - 0s 16ms/step - loss: 1.0834 - categorical_accuracy: 0.3833 - val_loss: 1.0850 - val_categorical_accuracy: 0.3600\n",
      "Epoch 48/100\n",
      "30/30 [==============================] - 0s 15ms/step - loss: 1.0896 - categorical_accuracy: 0.3567 - val_loss: 1.0848 - val_categorical_accuracy: 0.3333\n",
      "Epoch 49/100\n",
      "30/30 [==============================] - 0s 17ms/step - loss: 1.0926 - categorical_accuracy: 0.3500 - val_loss: 1.0850 - val_categorical_accuracy: 0.3733\n",
      "Epoch 50/100\n",
      "30/30 [==============================] - 1s 17ms/step - loss: 1.0840 - categorical_accuracy: 0.3633 - val_loss: 1.0848 - val_categorical_accuracy: 0.3467\n",
      "Epoch 51/100\n",
      "30/30 [==============================] - 1s 17ms/step - loss: 1.0810 - categorical_accuracy: 0.3700 - val_loss: 1.0848 - val_categorical_accuracy: 0.3467\n",
      "Epoch 52/100\n",
      "30/30 [==============================] - 0s 16ms/step - loss: 1.0893 - categorical_accuracy: 0.3467 - val_loss: 1.0852 - val_categorical_accuracy: 0.3600\n",
      "Epoch 53/100\n",
      "30/30 [==============================] - 1s 19ms/step - loss: 1.0877 - categorical_accuracy: 0.3833 - val_loss: 1.0851 - val_categorical_accuracy: 0.3467\n",
      "Epoch 54/100\n",
      "30/30 [==============================] - 1s 17ms/step - loss: 1.0885 - categorical_accuracy: 0.3433 - val_loss: 1.0855 - val_categorical_accuracy: 0.3600\n",
      "Epoch 55/100\n",
      "30/30 [==============================] - 0s 16ms/step - loss: 1.0870 - categorical_accuracy: 0.3700 - val_loss: 1.0848 - val_categorical_accuracy: 0.3200\n",
      "Epoch 56/100\n",
      "30/30 [==============================] - 0s 16ms/step - loss: 1.0815 - categorical_accuracy: 0.3867 - val_loss: 1.0851 - val_categorical_accuracy: 0.3467\n",
      "Epoch 57/100\n",
      "30/30 [==============================] - 1s 18ms/step - loss: 1.0858 - categorical_accuracy: 0.4067 - val_loss: 1.0850 - val_categorical_accuracy: 0.3467\n",
      "Epoch 58/100\n",
      "30/30 [==============================] - 0s 16ms/step - loss: 1.0763 - categorical_accuracy: 0.3867 - val_loss: 1.0852 - val_categorical_accuracy: 0.3467\n",
      "Epoch 59/100\n",
      "30/30 [==============================] - 0s 16ms/step - loss: 1.0791 - categorical_accuracy: 0.4133 - val_loss: 1.0854 - val_categorical_accuracy: 0.3600\n",
      "Epoch 60/100\n",
      "30/30 [==============================] - 0s 15ms/step - loss: 1.0870 - categorical_accuracy: 0.3733 - val_loss: 1.0850 - val_categorical_accuracy: 0.3333\n",
      "Epoch 61/100\n",
      "30/30 [==============================] - 1s 17ms/step - loss: 1.0770 - categorical_accuracy: 0.4400 - val_loss: 1.0852 - val_categorical_accuracy: 0.3467\n",
      "Epoch 62/100\n",
      "30/30 [==============================] - 1s 17ms/step - loss: 1.0891 - categorical_accuracy: 0.3800 - val_loss: 1.0859 - val_categorical_accuracy: 0.3733\n",
      "Epoch 63/100\n",
      "30/30 [==============================] - 1s 17ms/step - loss: 1.0836 - categorical_accuracy: 0.3767 - val_loss: 1.0854 - val_categorical_accuracy: 0.3467\n",
      "Epoch 64/100\n",
      "30/30 [==============================] - 0s 15ms/step - loss: 1.0777 - categorical_accuracy: 0.3833 - val_loss: 1.0852 - val_categorical_accuracy: 0.3467\n",
      "Epoch 65/100\n",
      "30/30 [==============================] - 0s 17ms/step - loss: 1.0642 - categorical_accuracy: 0.4333 - val_loss: 1.0856 - val_categorical_accuracy: 0.3733\n",
      "Epoch 66/100\n",
      "30/30 [==============================] - 0s 16ms/step - loss: 1.0786 - categorical_accuracy: 0.4033 - val_loss: 1.0854 - val_categorical_accuracy: 0.3600\n",
      "Epoch 67/100\n",
      "30/30 [==============================] - 0s 15ms/step - loss: 1.0819 - categorical_accuracy: 0.3967 - val_loss: 1.0855 - val_categorical_accuracy: 0.3333\n",
      "Epoch 68/100\n",
      "30/30 [==============================] - 0s 15ms/step - loss: 1.0786 - categorical_accuracy: 0.4033 - val_loss: 1.0854 - val_categorical_accuracy: 0.3333\n",
      "Epoch 69/100\n",
      "30/30 [==============================] - 0s 17ms/step - loss: 1.0845 - categorical_accuracy: 0.3700 - val_loss: 1.0854 - val_categorical_accuracy: 0.3467\n",
      "Epoch 70/100\n",
      "30/30 [==============================] - 0s 16ms/step - loss: 1.0924 - categorical_accuracy: 0.3300 - val_loss: 1.0858 - val_categorical_accuracy: 0.3067\n",
      "Epoch 71/100\n",
      "30/30 [==============================] - 0s 15ms/step - loss: 1.0803 - categorical_accuracy: 0.4100 - val_loss: 1.0863 - val_categorical_accuracy: 0.3333\n",
      "Epoch 72/100\n",
      "30/30 [==============================] - 0s 15ms/step - loss: 1.0721 - categorical_accuracy: 0.4233 - val_loss: 1.0860 - val_categorical_accuracy: 0.3867\n",
      "Epoch 73/100\n",
      "30/30 [==============================] - 1s 17ms/step - loss: 1.0705 - categorical_accuracy: 0.4333 - val_loss: 1.0861 - val_categorical_accuracy: 0.4000\n",
      "Epoch 74/100\n",
      "30/30 [==============================] - 0s 16ms/step - loss: 1.0793 - categorical_accuracy: 0.4200 - val_loss: 1.0857 - val_categorical_accuracy: 0.3333\n",
      "Epoch 75/100\n",
      "30/30 [==============================] - 1s 17ms/step - loss: 1.0709 - categorical_accuracy: 0.4300 - val_loss: 1.0861 - val_categorical_accuracy: 0.3333\n",
      "Epoch 76/100\n",
      "30/30 [==============================] - 0s 14ms/step - loss: 1.0815 - categorical_accuracy: 0.3800 - val_loss: 1.0864 - val_categorical_accuracy: 0.3333\n",
      "Epoch 77/100\n",
      "30/30 [==============================] - 0s 16ms/step - loss: 1.0757 - categorical_accuracy: 0.3833 - val_loss: 1.0860 - val_categorical_accuracy: 0.3733\n",
      "Epoch 78/100\n",
      "30/30 [==============================] - 0s 16ms/step - loss: 1.0743 - categorical_accuracy: 0.4267 - val_loss: 1.0862 - val_categorical_accuracy: 0.3600\n",
      "Epoch 79/100\n",
      "30/30 [==============================] - 0s 16ms/step - loss: 1.0707 - categorical_accuracy: 0.4233 - val_loss: 1.0864 - val_categorical_accuracy: 0.3600\n",
      "Epoch 80/100\n",
      "30/30 [==============================] - 0s 14ms/step - loss: 1.0786 - categorical_accuracy: 0.4167 - val_loss: 1.0867 - val_categorical_accuracy: 0.3600\n",
      "Epoch 81/100\n",
      "30/30 [==============================] - 0s 16ms/step - loss: 1.0655 - categorical_accuracy: 0.3733 - val_loss: 1.0864 - val_categorical_accuracy: 0.3733\n",
      "Epoch 82/100\n",
      "30/30 [==============================] - 0s 17ms/step - loss: 1.0731 - categorical_accuracy: 0.4433 - val_loss: 1.0864 - val_categorical_accuracy: 0.3467\n",
      "Epoch 83/100\n",
      "30/30 [==============================] - 0s 17ms/step - loss: 1.0709 - categorical_accuracy: 0.4100 - val_loss: 1.0869 - val_categorical_accuracy: 0.3600\n",
      "Epoch 84/100\n",
      "30/30 [==============================] - 0s 15ms/step - loss: 1.0771 - categorical_accuracy: 0.3800 - val_loss: 1.0865 - val_categorical_accuracy: 0.3200\n",
      "Epoch 85/100\n",
      "30/30 [==============================] - 1s 18ms/step - loss: 1.0700 - categorical_accuracy: 0.4267 - val_loss: 1.0865 - val_categorical_accuracy: 0.3200\n",
      "Epoch 86/100\n",
      "30/30 [==============================] - 1s 17ms/step - loss: 1.0707 - categorical_accuracy: 0.4133 - val_loss: 1.0870 - val_categorical_accuracy: 0.3733\n",
      "Epoch 87/100\n",
      "30/30 [==============================] - 0s 17ms/step - loss: 1.0705 - categorical_accuracy: 0.4000 - val_loss: 1.0872 - val_categorical_accuracy: 0.3600\n",
      "Epoch 88/100\n",
      "30/30 [==============================] - 0s 15ms/step - loss: 1.0581 - categorical_accuracy: 0.4567 - val_loss: 1.0874 - val_categorical_accuracy: 0.3867\n",
      "Epoch 89/100\n",
      "30/30 [==============================] - 1s 17ms/step - loss: 1.0582 - categorical_accuracy: 0.4433 - val_loss: 1.0868 - val_categorical_accuracy: 0.3333\n",
      "Epoch 90/100\n",
      "30/30 [==============================] - 0s 16ms/step - loss: 1.0657 - categorical_accuracy: 0.4533 - val_loss: 1.0871 - val_categorical_accuracy: 0.3867\n",
      "Epoch 91/100\n",
      "30/30 [==============================] - 0s 16ms/step - loss: 1.0722 - categorical_accuracy: 0.4100 - val_loss: 1.0870 - val_categorical_accuracy: 0.3600\n",
      "Epoch 92/100\n",
      "30/30 [==============================] - 0s 14ms/step - loss: 1.0671 - categorical_accuracy: 0.4033 - val_loss: 1.0873 - val_categorical_accuracy: 0.3733\n",
      "Epoch 93/100\n",
      "30/30 [==============================] - 0s 16ms/step - loss: 1.0664 - categorical_accuracy: 0.4067 - val_loss: 1.0873 - val_categorical_accuracy: 0.3733\n",
      "Epoch 94/100\n",
      "30/30 [==============================] - 0s 16ms/step - loss: 1.0681 - categorical_accuracy: 0.4100 - val_loss: 1.0872 - val_categorical_accuracy: 0.2933\n",
      "Epoch 95/100\n"
     ]
    },
    {
     "name": "stdout",
     "output_type": "stream",
     "text": [
      "30/30 [==============================] - 0s 16ms/step - loss: 1.0665 - categorical_accuracy: 0.4267 - val_loss: 1.0876 - val_categorical_accuracy: 0.3733\n",
      "Epoch 96/100\n",
      "30/30 [==============================] - 0s 14ms/step - loss: 1.0647 - categorical_accuracy: 0.4133 - val_loss: 1.0878 - val_categorical_accuracy: 0.3600\n",
      "Epoch 97/100\n",
      "30/30 [==============================] - 0s 16ms/step - loss: 1.0643 - categorical_accuracy: 0.4267 - val_loss: 1.0876 - val_categorical_accuracy: 0.3600\n",
      "Epoch 98/100\n",
      "30/30 [==============================] - 0s 16ms/step - loss: 1.0732 - categorical_accuracy: 0.4467 - val_loss: 1.0882 - val_categorical_accuracy: 0.3600\n",
      "Epoch 99/100\n",
      "30/30 [==============================] - 0s 16ms/step - loss: 1.0593 - categorical_accuracy: 0.4333 - val_loss: 1.0881 - val_categorical_accuracy: 0.3733\n",
      "Epoch 100/100\n",
      "30/30 [==============================] - 0s 15ms/step - loss: 1.0620 - categorical_accuracy: 0.4067 - val_loss: 1.0889 - val_categorical_accuracy: 0.3600\n"
     ]
    }
   ],
   "source": [
    "history = model.fit(X_train, y_train, \n",
    "                    batch_size=batch_size, \n",
    "                    epochs=epochs, \n",
    "                    validation_data=(X_val, y_val), \n",
    "                    verbose=1, \n",
    "                    callbacks=[tensorboard_call]) #, val_loss_callback])"
   ]
  },
  {
   "cell_type": "code",
   "execution_count": 13,
   "metadata": {},
   "outputs": [
    {
     "name": "stdout",
     "output_type": "stream",
     "text": [
      "Model: \"sequential\"\n",
      "_________________________________________________________________\n",
      "Layer (type)                 Output Shape              Param #   \n",
      "=================================================================\n",
      "gru (GRU)                    (None, 32)                5184      \n",
      "_________________________________________________________________\n",
      "gaussian_noise (GaussianNois (None, 32)                0         \n",
      "_________________________________________________________________\n",
      "dropout (Dropout)            (None, 32)                0         \n",
      "_________________________________________________________________\n",
      "dense (Dense)                (None, 3)                 99        \n",
      "=================================================================\n",
      "Total params: 5,283\n",
      "Trainable params: 5,283\n",
      "Non-trainable params: 0\n",
      "_________________________________________________________________\n"
     ]
    }
   ],
   "source": [
    "model.summary()"
   ]
  },
  {
   "cell_type": "code",
   "execution_count": 14,
   "metadata": {},
   "outputs": [
    {
     "name": "stdout",
     "output_type": "stream",
     "text": [
      "94/94 [==============================] - 0s 4ms/step - loss: 1.1251 - categorical_accuracy: 0.3085\n",
      "test loss, test acc: [1.1251362562179565, 0.3085106313228607]\n"
     ]
    }
   ],
   "source": [
    "#evaluate model on test set\n",
    "results = model.evaluate(X_test, y_test, batch_size=1, verbose=1)\n",
    "print(\"test loss, test acc:\", results)"
   ]
  },
  {
   "cell_type": "code",
   "execution_count": 15,
   "metadata": {},
   "outputs": [
    {
     "data": {
      "image/png": "[encoded data removed]",
      "text/plain": [
       "<Figure size 432x288 with 1 Axes>"
      ]
     },
     "metadata": {
      "needs_background": "light"
     },
     "output_type": "display_data"
    }
   ],
   "source": [
    "#summarize history for accuracy\n",
    "plt.plot(history.history[(list(history.history.keys())[1])])\n",
    "plt.plot(history.history[(list(history.history.keys())[3])])\n",
    "plt.title('model accuracy')\n",
    "plt.ylabel('accuracy')\n",
    "plt.xlabel('epoch')\n",
    "plt.legend(['train', 'val'], loc='upper left')\n",
    "plt.show()"
   ]
  },
  {
   "cell_type": "code",
   "execution_count": 16,
   "metadata": {},
   "outputs": [
    {
     "data": {
      "image/png": "[encoded data removed]",
      "text/plain": [
       "<Figure size 432x288 with 1 Axes>"
      ]
     },
     "metadata": {
      "needs_background": "light"
     },
     "output_type": "display_data"
    }
   ],
   "source": [
    "#summarize history for loss\n",
    "plt.plot(history.history[(list(history.history.keys())[0])])\n",
    "plt.plot(history.history[(list(history.history.keys())[2])])\n",
    "plt.title('model loss')\n",
    "plt.ylabel('loss')\n",
    "plt.xlabel('epoch')\n",
    "plt.legend(['train', 'val'], loc='upper left')\n",
    "plt.show()"
   ]
  },
  {
   "cell_type": "code",
   "execution_count": 17,
   "metadata": {},
   "outputs": [
    {
     "name": "stdout",
     "output_type": "stream",
     "text": [
      "predictions: [[0.3498762  0.30278602 0.34733775]\n",
      " [0.3650162  0.29458356 0.34040028]\n",
      " [0.32218167 0.37113813 0.30668017]\n",
      " [0.3444377  0.2779848  0.37757748]\n",
      " [0.364611   0.32557064 0.30981842]\n",
      " [0.42402557 0.20928289 0.3666916 ]\n",
      " [0.3868147  0.39323187 0.21995339]\n",
      " [0.37417197 0.36472353 0.2611045 ]\n",
      " [0.34811416 0.27723175 0.374654  ]\n",
      " [0.39318427 0.37538573 0.23142995]\n",
      " [0.31441814 0.31292874 0.37265316]\n",
      " [0.3487346  0.35309768 0.29816777]\n",
      " [0.32722238 0.36412248 0.3086551 ]\n",
      " [0.30713364 0.27511957 0.41774675]\n",
      " [0.3580508  0.36285743 0.27909175]\n",
      " [0.3827032  0.383488   0.23380879]\n",
      " [0.3066636  0.3686687  0.32466766]\n",
      " [0.3270054  0.29075935 0.38223532]\n",
      " [0.3300189  0.31552947 0.3544517 ]\n",
      " [0.3519846  0.3341245  0.31389096]\n",
      " [0.340029   0.40250325 0.2574678 ]\n",
      " [0.38742334 0.32593036 0.28664625]\n",
      " [0.38474312 0.30669007 0.3085669 ]\n",
      " [0.39650002 0.2813471  0.3221529 ]\n",
      " [0.30870286 0.39443442 0.29686272]\n",
      " [0.39848602 0.30550614 0.29600787]\n",
      " [0.4129559  0.3565676  0.2304765 ]\n",
      " [0.26983947 0.35682264 0.3733379 ]\n",
      " [0.3918983  0.33528963 0.2728121 ]\n",
      " [0.34261602 0.3333228  0.32406124]\n",
      " [0.37138078 0.34889725 0.27972203]\n",
      " [0.3493898  0.26225474 0.38835552]\n",
      " [0.3262128  0.4064914  0.2672958 ]\n",
      " [0.36134854 0.27697542 0.361676  ]\n",
      " [0.35297486 0.39716688 0.24985814]\n",
      " [0.44946918 0.25227892 0.29825184]\n",
      " [0.43206483 0.32678512 0.24115005]\n",
      " [0.38437665 0.32552898 0.2900944 ]\n",
      " [0.396696   0.26505867 0.33824533]\n",
      " [0.38858312 0.2976141  0.31380278]\n",
      " [0.39372924 0.2810792  0.32519156]\n",
      " [0.31658912 0.38371783 0.29969308]\n",
      " [0.31137708 0.38233843 0.30628446]\n",
      " [0.36031687 0.3427731  0.29691   ]\n",
      " [0.27311736 0.3830069  0.3438757 ]\n",
      " [0.3320204  0.33282167 0.3351579 ]\n",
      " [0.38784128 0.3285765  0.28358224]\n",
      " [0.33199602 0.370463   0.29754096]\n",
      " [0.3466604  0.41194224 0.24139738]\n",
      " [0.38682744 0.27460098 0.3385716 ]\n",
      " [0.38213605 0.25940487 0.358459  ]\n",
      " [0.39303884 0.32497144 0.28198975]\n",
      " [0.39583415 0.38408607 0.22007982]\n",
      " [0.35083887 0.3285407  0.32062036]\n",
      " [0.36532593 0.29732114 0.3373529 ]\n",
      " [0.3234533  0.24896182 0.42758486]\n",
      " [0.31171235 0.33294353 0.3553441 ]\n",
      " [0.33693954 0.36794123 0.2951193 ]\n",
      " [0.2970546  0.2857324  0.41721305]\n",
      " [0.33625636 0.37590474 0.28783897]\n",
      " [0.26950607 0.43284285 0.29765108]\n",
      " [0.3253862  0.2940543  0.38055947]\n",
      " [0.34687695 0.4251814  0.2279416 ]\n",
      " [0.4261311  0.26705652 0.3068124 ]\n",
      " [0.3327275  0.41974983 0.24752271]\n",
      " [0.3682314  0.27707654 0.35469204]\n",
      " [0.35645926 0.34416226 0.29937848]\n",
      " [0.38077995 0.28566444 0.33355564]\n",
      " [0.37155434 0.3410692  0.28737646]\n",
      " [0.38049737 0.35939452 0.2601081 ]\n",
      " [0.33819324 0.2615725  0.40023425]\n",
      " [0.32294643 0.2566576  0.42039606]\n",
      " [0.36815083 0.31449187 0.3173573 ]\n",
      " [0.39824823 0.22487582 0.37687603]\n",
      " [0.34807503 0.39951938 0.25240558]\n",
      " [0.43651775 0.24868117 0.3148011 ]\n",
      " [0.39403307 0.29734474 0.30862218]\n",
      " [0.31100228 0.36691546 0.3220822 ]\n",
      " [0.30077052 0.31520197 0.38402748]\n",
      " [0.38971972 0.33416173 0.27611858]\n",
      " [0.32723403 0.33653986 0.33622617]\n",
      " [0.31404415 0.40335456 0.28260136]\n",
      " [0.3142365  0.33034942 0.355414  ]\n",
      " [0.28265846 0.47876772 0.23857382]\n",
      " [0.32560167 0.30098477 0.37341353]\n",
      " [0.36409006 0.3008129  0.33509704]\n",
      " [0.35222152 0.37493348 0.27284497]\n",
      " [0.3017716  0.35266232 0.34556606]\n",
      " [0.32981622 0.33707988 0.33310384]\n",
      " [0.36642146 0.30164242 0.33193618]\n",
      " [0.35918736 0.23862912 0.40218356]\n",
      " [0.28654093 0.38347116 0.32998794]\n",
      " [0.31529462 0.38376623 0.3009391 ]\n",
      " [0.31210798 0.29861012 0.38928187]]\n"
     ]
    }
   ],
   "source": [
    "#generate predictions\n",
    "predictions = model.predict(X_test)\n",
    "print(\"predictions:\", predictions)"
   ]
  },
  {
   "cell_type": "code",
   "execution_count": 18,
   "metadata": {},
   "outputs": [
    {
     "name": "stdout",
     "output_type": "stream",
     "text": [
      "['B' 'B' 'C' 'M' 'B' 'B' 'C' 'B' 'M' 'B' 'M' 'C' 'C' 'M' 'C' 'C' 'C' 'M'\n",
      " 'M' 'B' 'C' 'B' 'B' 'B' 'C' 'B' 'B' 'M' 'B' 'B' 'B' 'M' 'C' 'M' 'C' 'B'\n",
      " 'B' 'B' 'B' 'B' 'B' 'C' 'C' 'B' 'C' 'M' 'B' 'C' 'C' 'B' 'B' 'B' 'B' 'B'\n",
      " 'B' 'M' 'M' 'C' 'M' 'C' 'C' 'M' 'C' 'B' 'C' 'B' 'B' 'B' 'B' 'B' 'M' 'M'\n",
      " 'B' 'B' 'C' 'B' 'B' 'C' 'M' 'B' 'C' 'C' 'M' 'C' 'M' 'B' 'C' 'C' 'C' 'B'\n",
      " 'M' 'C' 'C' 'M']\n"
     ]
    }
   ],
   "source": [
    "#remove encoding\n",
    "real_predictions_B = a_encoder.inverse_transform(predictions)\n",
    "print(real_predictions_B)"
   ]
  },
  {
   "cell_type": "code",
   "execution_count": 19,
   "metadata": {},
   "outputs": [
    {
     "data": {
      "text/plain": [
       "{'B': 42, 'C': 31, 'M': 21}"
      ]
     },
     "execution_count": 19,
     "metadata": {},
     "output_type": "execute_result"
    }
   ],
   "source": [
    "#prediction counts\n",
    "unique, counts = np.unique(real_predictions_B, return_counts=True)\n",
    "dict(zip(unique, counts))"
   ]
  },
  {
   "cell_type": "code",
   "execution_count": 20,
   "metadata": {},
   "outputs": [
    {
     "name": "stdout",
     "output_type": "stream",
     "text": [
      "['C' 'C' 'C' 'M' 'B' 'M' 'B' 'C' 'B' 'M' 'B' 'B' 'M' 'M' 'C' 'C' 'B' 'B'\n",
      " 'C' 'B' 'M' 'C' 'B' 'M' 'B' 'B' 'C' 'C' 'M' 'B' 'B' 'M' 'M' 'C' 'M' 'M'\n",
      " 'M' 'M' 'M' 'M' 'B' 'B' 'B' 'B' 'C' 'B' 'M' 'B' 'M' 'C' 'B' 'M' 'B' 'C'\n",
      " 'C' 'M' 'C' 'C' 'C' 'B' 'M' 'C' 'B' 'M' 'C' 'B' 'B' 'M' 'M' 'M' 'B' 'C'\n",
      " 'B' 'C' 'M' 'C' 'C' 'C' 'C' 'B' 'M' 'M' 'B' 'B' 'C' 'M' 'C' 'C' 'M' 'B'\n",
      " 'B' 'B' 'B' 'M']\n"
     ]
    }
   ],
   "source": [
    "#y_test predictions\n",
    "ytest_predictions = a_encoder.inverse_transform(y_test)\n",
    "print(ytest_predictions)"
   ]
  },
  {
   "cell_type": "code",
   "execution_count": 21,
   "metadata": {},
   "outputs": [
    {
     "data": {
      "text/plain": [
       "{'B': 34, 'C': 29, 'M': 31}"
      ]
     },
     "execution_count": 21,
     "metadata": {},
     "output_type": "execute_result"
    }
   ],
   "source": [
    "#real count\n",
    "unique, counts = np.unique(ytest_predictions, return_counts=True)\n",
    "dict(zip(unique, counts))"
   ]
  },
  {
   "cell_type": "code",
   "execution_count": 22,
   "metadata": {
    "scrolled": true
   },
   "outputs": [
    {
     "data": {
      "image/png": "[encoded data removed]",
      "text/plain": [
       "<Figure size 432x288 with 2 Axes>"
      ]
     },
     "metadata": {
      "needs_background": "light"
     },
     "output_type": "display_data"
    }
   ],
   "source": [
    "#confusion matrix\n",
    "matrix = confusion_matrix(ytest_predictions, real_predictions_B)\n",
    "#format confusion matrix\n",
    "ax=plt.subplot()\n",
    "sns.heatmap(matrix, annot=True, ax = ax, cmap='Purples', fmt='g');\n",
    "accuracy = np.trace(matrix) / np.sum(matrix).astype('float')\n",
    "misclass = 1 - accuracy\n",
    "ax.set_xlabel('Predicted label\\naccuracy={:0.4f}; misclass={:0.4f}'.format(accuracy, misclass));\n",
    "ax.set_ylabel('True labels'); \n",
    "ax.set_title('Confusion Matrix');\n",
    "ax.xaxis.set_ticklabels(unique); ax.yaxis.set_ticklabels(unique);"
   ]
  },
  {
   "cell_type": "code",
   "execution_count": 23,
   "metadata": {},
   "outputs": [
    {
     "name": "stdout",
     "output_type": "stream",
     "text": [
      "              precision    recall  f1-score   support\n",
      "\n",
      "           B       0.36      0.44      0.39        34\n",
      "           C       0.29      0.31      0.30        29\n",
      "           M       0.24      0.16      0.19        31\n",
      "\n",
      "    accuracy                           0.31        94\n",
      "   macro avg       0.30      0.30      0.30        94\n",
      "weighted avg       0.30      0.31      0.30        94\n",
      "\n"
     ]
    }
   ],
   "source": [
    "print(classification_report(ytest_predictions, real_predictions_B))"
   ]
  },
  {
   "cell_type": "code",
   "execution_count": 24,
   "metadata": {},
   "outputs": [
    {
     "name": "stdout",
     "output_type": "stream",
     "text": [
      "precision score:0.2952\n",
      "recall score:0.3043\n",
      "f1 score:0.2957\n"
     ]
    }
   ],
   "source": [
    "#macro - calculate metrics for each label, and find their unweighted mean\n",
    "pre_score = precision_score(ytest_predictions, real_predictions_B, average = \"macro\")\n",
    "print('precision score:{:0.4f}'.format(pre_score))\n",
    "recall_score_1 = recall_score(ytest_predictions, real_predictions_B, average= \"macro\")\n",
    "print('recall score:{:0.4f}'.format(recall_score_1))\n",
    "f1_score_1 = f1_score(ytest_predictions, real_predictions_B, average=\"macro\")\n",
    "print('f1 score:{:0.4f}'.format(f1_score_1))"
   ]
  },
  {
   "cell_type": "code",
   "execution_count": null,
   "metadata": {},
   "outputs": [],
   "source": []
  },
  {
   "cell_type": "code",
   "execution_count": null,
   "metadata": {},
   "outputs": [],
   "source": []
  }
 ],
 "metadata": {
  "kernelspec": {
   "display_name": "Python 3",
   "language": "python",
   "name": "python3"
  },
  "language_info": {
   "codemirror_mode": {
    "name": "ipython",
    "version": 3
   },
   "file_extension": ".py",
   "mimetype": "text/x-python",
   "name": "python",
   "nbconvert_exporter": "python",
   "pygments_lexer": "ipython3",
   "version": "3.8.3"
  }
 },
 "nbformat": 4,
 "nbformat_minor": 4
}
