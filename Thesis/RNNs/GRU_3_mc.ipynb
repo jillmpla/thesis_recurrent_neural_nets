{
 "cells": [
  {
   "cell_type": "code",
   "execution_count": null,
   "metadata": {},
   "outputs": [],
   "source": [
    "#tensorboard via command-line:\n",
    "#tensorboard --logdir=where your Logs directory is"
   ]
  },
  {
   "cell_type": "code",
   "execution_count": null,
   "metadata": {},
   "outputs": [],
   "source": [
    "#~~~~~~~~~~~~~~~~~~~~~~~~~~~~~~~~~~~~~~~~~~~~~~~~~~~~~~~~~~~~~~~~~~~~~~~~~~~~~~~~~~~~~~~~~~~~~~~~~~~~~~~#\n",
    "#What is the maximum flare class produced by an AR in the next 24hrs after a 24hr time sequence?\n",
    "#~~~~~~~~~~~~~~~~~~~~~~~~~~~~~~~~~~~~~~~~~~~~~~~~~~~~~~~~~~~~~~~~~~~~~~~~~~~~~~~~~~~~~~~~~~~~~~~~~~~~~~~#\n",
    "#feature data from - hmi.sharp_720s:::\n",
    "#http://jsoc.stanford.edu/doc/data/hmi/sharp/sharp.htm\n",
    "\n",
    "#label data from - GOES flare events:::\n",
    "#ftp://ftp.swpc.noaa.gov/pub/warehouse/\n",
    "\n",
    "#and from - GOES XRS Report:::\n",
    "#https://www.ngdc.noaa.gov/stp/space-weather/solar-data/solar-features/solar-flares/x-rays/goes/xrs/\n",
    "#~~~~~~~~~~~~~~~~~~~~~~~~~~~~~~~~~~~~~~~~~~~~~~~~~~~~~~~~~~~~~~~~~~~~~~~~~~~~~~~~~~~~~~~~~~~~~~~~~~~~~~~#\n",
    "#binary class - F for flare and N for no flare\n",
    "#multi-class - #6 flare classes: N is no flare, A is smallest, X is largest\n",
    "               #key = {'N', 'A', 'B', 'C', 'M', 'X'}\n",
    "               #['A' class flares generally not listed in official reports due to small size]\n",
    "#~~~~~~~~~~~~~~~~~~~~~~~~~~~~~~~~~~~~~~~~~~~~~~~~~~~~~~~~~~~~~~~~~~~~~~~~~~~~~~~~~~~~~~~~~~~~~~~~~~~~~~~#"
   ]
  },
  {
   "cell_type": "code",
   "execution_count": 1,
   "metadata": {},
   "outputs": [
    {
     "name": "stdout",
     "output_type": "stream",
     "text": [
      "tensorflow version: 2.3.1\n"
     ]
    }
   ],
   "source": [
    "import tensorflow as tf\n",
    "print(\"tensorflow version:\", tf.__version__) #2.3.1 used\n",
    "from tensorflow import keras\n",
    "import os\n",
    "import glob\n",
    "import shutil\n",
    "import datetime\n",
    "import numpy as np\n",
    "import pandas as pd\n",
    "import seaborn as sns\n",
    "from pathlib import Path\n",
    "from astropy.time import Time\n",
    "from matplotlib import pyplot as plt\n",
    "from sklearn.metrics import f1_score, precision_score, recall_score, classification_report, confusion_matrix\n",
    "from sklearn.metrics import plot_confusion_matrix\n",
    "from sklearn.preprocessing import LabelBinarizer\n",
    "from sklearn.model_selection import train_test_split\n",
    "from sklearn.preprocessing import MinMaxScaler\n",
    "from tensorflow.keras.layers import Dropout, Dense, SimpleRNN, LSTM, GRU, GaussianNoise\n",
    "from tensorflow.keras.models import Model, Sequential\n",
    "from tensorflow.keras.optimizers import SGD, RMSprop, Adam\n",
    "import drms #https://pypi.org/project/drms/\n",
    "#~~~~~~~~~~~~~~~~~~~~~~~~~~~~~~~~~~~~~~~~~~~~~~~~~~~~~~~~~~~~~~~~~~~~~~~~~~~~~~~~~~~~~~~~~~~~~~~~~~~~~~~#\n",
    "import Flare_Data\n",
    "import Feature_Years\n",
    "import Make_TB_Logs\n",
    "#~~~~~~~~~~~~~~~~~~~~~~~~~~~~~~~~~~~~~~~~~~~~~~~~~~~~~~~~~~~~~~~~~~~~~~~~~~~~~~~~~~~~~~~~~~~~~~~~~~~~~~~#"
   ]
  },
  {
   "cell_type": "code",
   "execution_count": 2,
   "metadata": {},
   "outputs": [
    {
     "name": "stdout",
     "output_type": "stream",
     "text": [
      "CSVs compiled.\n"
     ]
    }
   ],
   "source": [
    "Feature_Years.generate_all_feature_years()"
   ]
  },
  {
   "cell_type": "code",
   "execution_count": 3,
   "metadata": {},
   "outputs": [],
   "source": [
    "where_logs = Make_TB_Logs.make_clear_tensorboard_folder()"
   ]
  },
  {
   "cell_type": "code",
   "execution_count": 4,
   "metadata": {},
   "outputs": [
    {
     "name": "stdout",
     "output_type": "stream",
     "text": [
      "The time series starts from:  2011-01-01 00:11:26\n",
      "The time series ends on:  2016-12-31 23:47:24\n",
      "(array(['C', 'M', 'N'], dtype='<U1'), array([147, 155, 183], dtype=int64))\n"
     ]
    }
   ],
   "source": [
    "#binary = True for binary classification, binary = False for multi-class classification\n",
    "X_train, X_val, X_test, y_train, y_val, y_test, tim_steps, n_feats, count_of_classes, a_encoder = Flare_Data.getAllData(binary = False)"
   ]
  },
  {
   "cell_type": "code",
   "execution_count": 5,
   "metadata": {},
   "outputs": [
    {
     "name": "stdout",
     "output_type": "stream",
     "text": [
      "(310, 114, 20) (78, 114, 20) (97, 114, 20) (310, 3) (78, 3) (97, 3)\n"
     ]
    }
   ],
   "source": [
    "print(X_train.shape, X_val.shape, X_test.shape, y_train.shape, y_val.shape, y_test.shape)"
   ]
  },
  {
   "cell_type": "code",
   "execution_count": 6,
   "metadata": {},
   "outputs": [],
   "source": [
    "#~~~~~~~~~~~~~~~~~~~~~~~~~~~~~~~~~~~~~~~~~~~~~~~~~~~~~~~~~~~~~~~~~~~~~~~~~~~~~~~~~~~~~~~~~~~~~~~~~~~~~~~~~~#\n",
    "#~~~~~~~~~~~~~~~~~~~~~~~~~~~~~~~~~~~~~~~~~~~~~~~~~~~~~~~~~~~~~~~~~~~~~~~~~~~~~~~~~~~~~~~~~~~~~~~~~~~~~~~~~~#"
   ]
  },
  {
   "cell_type": "code",
   "execution_count": 72,
   "metadata": {},
   "outputs": [],
   "source": [
    "batch_size = 50\n",
    "epochs = 100\n",
    "optimizer = Adam(lr=0.001, beta_1=0.9, beta_2=0.999, epsilon=1e-06, decay=0.0)"
   ]
  },
  {
   "cell_type": "code",
   "execution_count": 73,
   "metadata": {},
   "outputs": [],
   "source": [
    "#~~~~~~~~~~~~~~~~~~~~~~~~~~~~~~~~~~~~~~~~~[GRU_3 Model]~~~~~~~~~~~~~~~~~~~~~~~~~~~~~~~~~~~~~~~~~~~~~~~~~~~~#\n",
    "#~~~~~~~~~~~~~~~~~~~~~~~~~~~~~~~~~~~~~~~~~[Multi-Class]~~~~~~~~~~~~~~~~~~~~~~~~~~~~~~~~~~~~~~~~~~~~~~~~~~~~#\n",
    "#~~~~~~~~~~~~~~~~~~~~~~~~~~~~~~~~~~~~~~~~~[Single Layer]~~~~~~~~~~~~~~~~~~~~~~~~~~~~~~~~~~~~~~~~~~~~~~~~~~~#\n",
    "model = Sequential()\n",
    "model.add(GRU(7, input_shape=(tim_steps, n_feats), recurrent_dropout=0.05))\n",
    "model.add(GaussianNoise(0.1))\n",
    "model.add(Dense(count_of_classes, activation='softmax'))\n",
    "model.compile(loss='categorical_crossentropy', optimizer=optimizer, metrics=['categorical_accuracy'])\n",
    "#~~~~~~~~~~~~~~~~~~~~~~~~~~~~~~~~~~~~~~~~~~~~~~~~~~~~~~~~~~~~~~~~~~~~~~~~~~~~~~~~~~~~~~~~~~~~~~~~~~~~~~~~~~#\n",
    "#~~~~~~~~~~~~~~~~~~~~~~~~~~~~~~~~~~~~~~~~~~~~~~~~~~~~~~~~~~~~~~~~~~~~~~~~~~~~~~~~~~~~~~~~~~~~~~~~~~~~~~~~~~#"
   ]
  },
  {
   "cell_type": "code",
   "execution_count": 74,
   "metadata": {},
   "outputs": [],
   "source": [
    "tensorboard_call = keras.callbacks.TensorBoard(log_dir=where_logs, histogram_freq=1)\n",
    "#val_loss_callback = tf.keras.callbacks.EarlyStopping(monitor='val_loss', patience=10)"
   ]
  },
  {
   "cell_type": "code",
   "execution_count": 75,
   "metadata": {},
   "outputs": [
    {
     "name": "stdout",
     "output_type": "stream",
     "text": [
      "Epoch 1/100\n",
      "2/7 [=======>......................] - ETA: 15s - loss: 1.2286 - categorical_accuracy: 0.2900WARNING:tensorflow:Callbacks method `on_train_batch_end` is slow compared to the batch time (batch time: 0.0669s vs `on_train_batch_end` time: 6.1977s). Check your callbacks.\n",
      "7/7 [==============================] - 7s 1s/step - loss: 1.1651 - categorical_accuracy: 0.3387 - val_loss: 1.1631 - val_categorical_accuracy: 0.3077\n",
      "Epoch 2/100\n",
      "7/7 [==============================] - 0s 53ms/step - loss: 1.1401 - categorical_accuracy: 0.3484 - val_loss: 1.1413 - val_categorical_accuracy: 0.2821\n",
      "Epoch 3/100\n",
      "7/7 [==============================] - 0s 54ms/step - loss: 1.1164 - categorical_accuracy: 0.3516 - val_loss: 1.1281 - val_categorical_accuracy: 0.2692\n",
      "Epoch 4/100\n",
      "7/7 [==============================] - 0s 56ms/step - loss: 1.1194 - categorical_accuracy: 0.3452 - val_loss: 1.1207 - val_categorical_accuracy: 0.2821\n",
      "Epoch 5/100\n",
      "7/7 [==============================] - 0s 53ms/step - loss: 1.1051 - categorical_accuracy: 0.3516 - val_loss: 1.1182 - val_categorical_accuracy: 0.2692\n",
      "Epoch 6/100\n",
      "7/7 [==============================] - 0s 55ms/step - loss: 1.1006 - categorical_accuracy: 0.3677 - val_loss: 1.1175 - val_categorical_accuracy: 0.2949\n",
      "Epoch 7/100\n",
      "7/7 [==============================] - 0s 53ms/step - loss: 1.0997 - categorical_accuracy: 0.3516 - val_loss: 1.1177 - val_categorical_accuracy: 0.3462\n",
      "Epoch 8/100\n",
      "7/7 [==============================] - 0s 54ms/step - loss: 1.0991 - categorical_accuracy: 0.3806 - val_loss: 1.1179 - val_categorical_accuracy: 0.3590\n",
      "Epoch 9/100\n",
      "7/7 [==============================] - 0s 52ms/step - loss: 1.1017 - categorical_accuracy: 0.3613 - val_loss: 1.1178 - val_categorical_accuracy: 0.3077\n",
      "Epoch 10/100\n",
      "7/7 [==============================] - 0s 54ms/step - loss: 1.1003 - categorical_accuracy: 0.3452 - val_loss: 1.1178 - val_categorical_accuracy: 0.3077\n",
      "Epoch 11/100\n",
      "7/7 [==============================] - 0s 58ms/step - loss: 1.1097 - categorical_accuracy: 0.3516 - val_loss: 1.1176 - val_categorical_accuracy: 0.3077\n",
      "Epoch 12/100\n",
      "7/7 [==============================] - 0s 55ms/step - loss: 1.0967 - categorical_accuracy: 0.3484 - val_loss: 1.1169 - val_categorical_accuracy: 0.3205\n",
      "Epoch 13/100\n",
      "7/7 [==============================] - 0s 54ms/step - loss: 1.0997 - categorical_accuracy: 0.3484 - val_loss: 1.1162 - val_categorical_accuracy: 0.3077\n",
      "Epoch 14/100\n",
      "7/7 [==============================] - 0s 55ms/step - loss: 1.1000 - categorical_accuracy: 0.3258 - val_loss: 1.1162 - val_categorical_accuracy: 0.2949\n",
      "Epoch 15/100\n",
      "7/7 [==============================] - 0s 57ms/step - loss: 1.0977 - categorical_accuracy: 0.3548 - val_loss: 1.1162 - val_categorical_accuracy: 0.2949\n",
      "Epoch 16/100\n",
      "7/7 [==============================] - 0s 55ms/step - loss: 1.0803 - categorical_accuracy: 0.3806 - val_loss: 1.1166 - val_categorical_accuracy: 0.3077\n",
      "Epoch 17/100\n",
      "7/7 [==============================] - 0s 56ms/step - loss: 1.0792 - categorical_accuracy: 0.3742 - val_loss: 1.1167 - val_categorical_accuracy: 0.3205\n",
      "Epoch 18/100\n",
      "7/7 [==============================] - 0s 56ms/step - loss: 1.0860 - categorical_accuracy: 0.3355 - val_loss: 1.1167 - val_categorical_accuracy: 0.2949\n",
      "Epoch 19/100\n",
      "7/7 [==============================] - 0s 53ms/step - loss: 1.0829 - categorical_accuracy: 0.3742 - val_loss: 1.1166 - val_categorical_accuracy: 0.2949\n",
      "Epoch 20/100\n",
      "7/7 [==============================] - 0s 54ms/step - loss: 1.0821 - categorical_accuracy: 0.4097 - val_loss: 1.1166 - val_categorical_accuracy: 0.2949\n",
      "Epoch 21/100\n",
      "7/7 [==============================] - 0s 55ms/step - loss: 1.0886 - categorical_accuracy: 0.3903 - val_loss: 1.1167 - val_categorical_accuracy: 0.2821\n",
      "Epoch 22/100\n",
      "7/7 [==============================] - 0s 56ms/step - loss: 1.0873 - categorical_accuracy: 0.3452 - val_loss: 1.1170 - val_categorical_accuracy: 0.2949\n",
      "Epoch 23/100\n",
      "7/7 [==============================] - 0s 54ms/step - loss: 1.0895 - categorical_accuracy: 0.3613 - val_loss: 1.1169 - val_categorical_accuracy: 0.2692\n",
      "Epoch 24/100\n",
      "7/7 [==============================] - 0s 56ms/step - loss: 1.0810 - categorical_accuracy: 0.3806 - val_loss: 1.1166 - val_categorical_accuracy: 0.2692\n",
      "Epoch 25/100\n",
      "7/7 [==============================] - 0s 54ms/step - loss: 1.0865 - categorical_accuracy: 0.3742 - val_loss: 1.1166 - val_categorical_accuracy: 0.2692\n",
      "Epoch 26/100\n",
      "7/7 [==============================] - 0s 55ms/step - loss: 1.0927 - categorical_accuracy: 0.3419 - val_loss: 1.1171 - val_categorical_accuracy: 0.3333\n",
      "Epoch 27/100\n",
      "7/7 [==============================] - 0s 56ms/step - loss: 1.0842 - categorical_accuracy: 0.3839 - val_loss: 1.1170 - val_categorical_accuracy: 0.3205\n",
      "Epoch 28/100\n",
      "7/7 [==============================] - 0s 53ms/step - loss: 1.0765 - categorical_accuracy: 0.3742 - val_loss: 1.1168 - val_categorical_accuracy: 0.3205\n",
      "Epoch 29/100\n",
      "7/7 [==============================] - 0s 54ms/step - loss: 1.0774 - categorical_accuracy: 0.4097 - val_loss: 1.1166 - val_categorical_accuracy: 0.3077\n",
      "Epoch 30/100\n",
      "7/7 [==============================] - 0s 54ms/step - loss: 1.0843 - categorical_accuracy: 0.3774 - val_loss: 1.1164 - val_categorical_accuracy: 0.2692\n",
      "Epoch 31/100\n",
      "7/7 [==============================] - 0s 55ms/step - loss: 1.0804 - categorical_accuracy: 0.3806 - val_loss: 1.1160 - val_categorical_accuracy: 0.2821\n",
      "Epoch 32/100\n",
      "7/7 [==============================] - 0s 53ms/step - loss: 1.0807 - categorical_accuracy: 0.3710 - val_loss: 1.1160 - val_categorical_accuracy: 0.2821\n",
      "Epoch 33/100\n",
      "7/7 [==============================] - 0s 54ms/step - loss: 1.0748 - categorical_accuracy: 0.4065 - val_loss: 1.1160 - val_categorical_accuracy: 0.2949\n",
      "Epoch 34/100\n",
      "7/7 [==============================] - 0s 56ms/step - loss: 1.0719 - categorical_accuracy: 0.3774 - val_loss: 1.1157 - val_categorical_accuracy: 0.2821\n",
      "Epoch 35/100\n",
      "7/7 [==============================] - 0s 55ms/step - loss: 1.0775 - categorical_accuracy: 0.3710 - val_loss: 1.1158 - val_categorical_accuracy: 0.2692\n",
      "Epoch 36/100\n",
      "7/7 [==============================] - 0s 54ms/step - loss: 1.0838 - categorical_accuracy: 0.4000 - val_loss: 1.1155 - val_categorical_accuracy: 0.2949\n",
      "Epoch 37/100\n",
      "7/7 [==============================] - 0s 54ms/step - loss: 1.0794 - categorical_accuracy: 0.3774 - val_loss: 1.1149 - val_categorical_accuracy: 0.2821\n",
      "Epoch 38/100\n",
      "7/7 [==============================] - ETA: 0s - loss: 1.0761 - categorical_accuracy: 0.37 - 0s 55ms/step - loss: 1.0761 - categorical_accuracy: 0.3742 - val_loss: 1.1146 - val_categorical_accuracy: 0.2692\n",
      "Epoch 39/100\n",
      "7/7 [==============================] - ETA: 0s - loss: 1.0793 - categorical_accuracy: 0.33 - 0s 57ms/step - loss: 1.0793 - categorical_accuracy: 0.3387 - val_loss: 1.1149 - val_categorical_accuracy: 0.2821\n",
      "Epoch 40/100\n",
      "7/7 [==============================] - 0s 57ms/step - loss: 1.0805 - categorical_accuracy: 0.3710 - val_loss: 1.1146 - val_categorical_accuracy: 0.2821\n",
      "Epoch 41/100\n",
      "7/7 [==============================] - 0s 58ms/step - loss: 1.0728 - categorical_accuracy: 0.4097 - val_loss: 1.1139 - val_categorical_accuracy: 0.2692\n",
      "Epoch 42/100\n",
      "7/7 [==============================] - 0s 55ms/step - loss: 1.0723 - categorical_accuracy: 0.4000 - val_loss: 1.1142 - val_categorical_accuracy: 0.2821\n",
      "Epoch 43/100\n",
      "7/7 [==============================] - 0s 54ms/step - loss: 1.0752 - categorical_accuracy: 0.3548 - val_loss: 1.1141 - val_categorical_accuracy: 0.2821\n",
      "Epoch 44/100\n",
      "7/7 [==============================] - 0s 55ms/step - loss: 1.0782 - categorical_accuracy: 0.3968 - val_loss: 1.1140 - val_categorical_accuracy: 0.2821\n",
      "Epoch 45/100\n",
      "7/7 [==============================] - 0s 58ms/step - loss: 1.0642 - categorical_accuracy: 0.4032 - val_loss: 1.1135 - val_categorical_accuracy: 0.2821\n",
      "Epoch 46/100\n",
      "7/7 [==============================] - 0s 59ms/step - loss: 1.0729 - categorical_accuracy: 0.3742 - val_loss: 1.1133 - val_categorical_accuracy: 0.2692\n",
      "Epoch 47/100\n",
      "7/7 [==============================] - 0s 58ms/step - loss: 1.0748 - categorical_accuracy: 0.3806 - val_loss: 1.1127 - val_categorical_accuracy: 0.2821\n",
      "Epoch 48/100\n"
     ]
    },
    {
     "name": "stdout",
     "output_type": "stream",
     "text": [
      "7/7 [==============================] - 0s 53ms/step - loss: 1.0793 - categorical_accuracy: 0.3806 - val_loss: 1.1124 - val_categorical_accuracy: 0.2692\n",
      "Epoch 49/100\n",
      "7/7 [==============================] - 0s 54ms/step - loss: 1.0832 - categorical_accuracy: 0.3516 - val_loss: 1.1123 - val_categorical_accuracy: 0.2821\n",
      "Epoch 50/100\n",
      "7/7 [==============================] - 0s 54ms/step - loss: 1.0797 - categorical_accuracy: 0.3839 - val_loss: 1.1121 - val_categorical_accuracy: 0.2821\n",
      "Epoch 51/100\n",
      "7/7 [==============================] - 0s 52ms/step - loss: 1.0740 - categorical_accuracy: 0.3871 - val_loss: 1.1118 - val_categorical_accuracy: 0.2692\n",
      "Epoch 52/100\n",
      "7/7 [==============================] - 0s 55ms/step - loss: 1.0682 - categorical_accuracy: 0.4032 - val_loss: 1.1116 - val_categorical_accuracy: 0.2821\n",
      "Epoch 53/100\n",
      "7/7 [==============================] - 0s 54ms/step - loss: 1.0733 - categorical_accuracy: 0.3774 - val_loss: 1.1116 - val_categorical_accuracy: 0.2692\n",
      "Epoch 54/100\n",
      "7/7 [==============================] - 0s 53ms/step - loss: 1.0701 - categorical_accuracy: 0.3806 - val_loss: 1.1117 - val_categorical_accuracy: 0.2821\n",
      "Epoch 55/100\n",
      "7/7 [==============================] - 0s 54ms/step - loss: 1.0774 - categorical_accuracy: 0.3871 - val_loss: 1.1120 - val_categorical_accuracy: 0.3077\n",
      "Epoch 56/100\n",
      "7/7 [==============================] - 0s 52ms/step - loss: 1.0626 - categorical_accuracy: 0.4032 - val_loss: 1.1113 - val_categorical_accuracy: 0.2821\n",
      "Epoch 57/100\n",
      "7/7 [==============================] - 0s 56ms/step - loss: 1.0645 - categorical_accuracy: 0.3806 - val_loss: 1.1120 - val_categorical_accuracy: 0.2949\n",
      "Epoch 58/100\n",
      "7/7 [==============================] - 0s 54ms/step - loss: 1.0581 - categorical_accuracy: 0.3806 - val_loss: 1.1120 - val_categorical_accuracy: 0.2949\n",
      "Epoch 59/100\n",
      "7/7 [==============================] - 0s 55ms/step - loss: 1.0738 - categorical_accuracy: 0.3935 - val_loss: 1.1125 - val_categorical_accuracy: 0.2949\n",
      "Epoch 60/100\n",
      "7/7 [==============================] - 0s 55ms/step - loss: 1.0698 - categorical_accuracy: 0.4065 - val_loss: 1.1117 - val_categorical_accuracy: 0.3077\n",
      "Epoch 61/100\n",
      "7/7 [==============================] - 0s 57ms/step - loss: 1.0754 - categorical_accuracy: 0.3645 - val_loss: 1.1116 - val_categorical_accuracy: 0.2821\n",
      "Epoch 62/100\n",
      "7/7 [==============================] - 0s 56ms/step - loss: 1.0648 - categorical_accuracy: 0.4000 - val_loss: 1.1116 - val_categorical_accuracy: 0.2821\n",
      "Epoch 63/100\n",
      "7/7 [==============================] - 0s 56ms/step - loss: 1.0719 - categorical_accuracy: 0.3903 - val_loss: 1.1114 - val_categorical_accuracy: 0.2949\n",
      "Epoch 64/100\n",
      "7/7 [==============================] - 0s 58ms/step - loss: 1.0735 - categorical_accuracy: 0.3613 - val_loss: 1.1113 - val_categorical_accuracy: 0.2821\n",
      "Epoch 65/100\n",
      "7/7 [==============================] - 0s 53ms/step - loss: 1.0666 - categorical_accuracy: 0.4097 - val_loss: 1.1114 - val_categorical_accuracy: 0.2949\n",
      "Epoch 66/100\n",
      "7/7 [==============================] - 0s 54ms/step - loss: 1.0631 - categorical_accuracy: 0.3903 - val_loss: 1.1115 - val_categorical_accuracy: 0.2949\n",
      "Epoch 67/100\n",
      "7/7 [==============================] - 0s 57ms/step - loss: 1.0557 - categorical_accuracy: 0.4161 - val_loss: 1.1114 - val_categorical_accuracy: 0.3077\n",
      "Epoch 68/100\n",
      "7/7 [==============================] - 0s 54ms/step - loss: 1.0632 - categorical_accuracy: 0.4194 - val_loss: 1.1114 - val_categorical_accuracy: 0.2949\n",
      "Epoch 69/100\n",
      "7/7 [==============================] - 0s 53ms/step - loss: 1.0548 - categorical_accuracy: 0.4097 - val_loss: 1.1113 - val_categorical_accuracy: 0.2949\n",
      "Epoch 70/100\n",
      "7/7 [==============================] - 0s 57ms/step - loss: 1.0561 - categorical_accuracy: 0.4452 - val_loss: 1.1112 - val_categorical_accuracy: 0.2949\n",
      "Epoch 71/100\n",
      "7/7 [==============================] - 0s 54ms/step - loss: 1.0679 - categorical_accuracy: 0.3742 - val_loss: 1.1112 - val_categorical_accuracy: 0.3077\n",
      "Epoch 72/100\n",
      "7/7 [==============================] - 0s 54ms/step - loss: 1.0571 - categorical_accuracy: 0.4194 - val_loss: 1.1115 - val_categorical_accuracy: 0.3077\n",
      "Epoch 73/100\n",
      "7/7 [==============================] - 0s 54ms/step - loss: 1.0600 - categorical_accuracy: 0.4290 - val_loss: 1.1121 - val_categorical_accuracy: 0.3205\n",
      "Epoch 74/100\n",
      "7/7 [==============================] - 0s 54ms/step - loss: 1.0501 - categorical_accuracy: 0.4452 - val_loss: 1.1116 - val_categorical_accuracy: 0.3077\n",
      "Epoch 75/100\n",
      "7/7 [==============================] - 0s 56ms/step - loss: 1.0675 - categorical_accuracy: 0.4032 - val_loss: 1.1109 - val_categorical_accuracy: 0.3205\n",
      "Epoch 76/100\n",
      "7/7 [==============================] - 0s 52ms/step - loss: 1.0561 - categorical_accuracy: 0.4387 - val_loss: 1.1102 - val_categorical_accuracy: 0.3205\n",
      "Epoch 77/100\n",
      "7/7 [==============================] - 0s 58ms/step - loss: 1.0633 - categorical_accuracy: 0.4129 - val_loss: 1.1101 - val_categorical_accuracy: 0.3205\n",
      "Epoch 78/100\n",
      "7/7 [==============================] - 0s 54ms/step - loss: 1.0641 - categorical_accuracy: 0.3935 - val_loss: 1.1101 - val_categorical_accuracy: 0.3205\n",
      "Epoch 79/100\n",
      "7/7 [==============================] - 0s 55ms/step - loss: 1.0485 - categorical_accuracy: 0.4419 - val_loss: 1.1098 - val_categorical_accuracy: 0.3333\n",
      "Epoch 80/100\n",
      "7/7 [==============================] - 0s 55ms/step - loss: 1.0534 - categorical_accuracy: 0.4290 - val_loss: 1.1096 - val_categorical_accuracy: 0.3205\n",
      "Epoch 81/100\n",
      "7/7 [==============================] - 0s 56ms/step - loss: 1.0508 - categorical_accuracy: 0.4258 - val_loss: 1.1103 - val_categorical_accuracy: 0.3462\n",
      "Epoch 82/100\n",
      "7/7 [==============================] - 0s 55ms/step - loss: 1.0612 - categorical_accuracy: 0.4161 - val_loss: 1.1107 - val_categorical_accuracy: 0.3462\n",
      "Epoch 83/100\n",
      "7/7 [==============================] - 0s 55ms/step - loss: 1.0419 - categorical_accuracy: 0.4645 - val_loss: 1.1104 - val_categorical_accuracy: 0.2949\n",
      "Epoch 84/100\n",
      "7/7 [==============================] - 0s 55ms/step - loss: 1.0533 - categorical_accuracy: 0.4484 - val_loss: 1.1104 - val_categorical_accuracy: 0.3205\n",
      "Epoch 85/100\n",
      "7/7 [==============================] - 0s 51ms/step - loss: 1.0494 - categorical_accuracy: 0.4323 - val_loss: 1.1107 - val_categorical_accuracy: 0.3333\n",
      "Epoch 86/100\n",
      "7/7 [==============================] - 0s 57ms/step - loss: 1.0433 - categorical_accuracy: 0.4645 - val_loss: 1.1099 - val_categorical_accuracy: 0.3333\n",
      "Epoch 87/100\n",
      "7/7 [==============================] - 0s 65ms/step - loss: 1.0515 - categorical_accuracy: 0.4323 - val_loss: 1.1092 - val_categorical_accuracy: 0.3205\n",
      "Epoch 88/100\n",
      "7/7 [==============================] - 0s 52ms/step - loss: 1.0423 - categorical_accuracy: 0.4323 - val_loss: 1.1092 - val_categorical_accuracy: 0.3205\n",
      "Epoch 89/100\n",
      "7/7 [==============================] - 0s 57ms/step - loss: 1.0422 - categorical_accuracy: 0.4774 - val_loss: 1.1098 - val_categorical_accuracy: 0.3333\n",
      "Epoch 90/100\n",
      "7/7 [==============================] - 0s 56ms/step - loss: 1.0439 - categorical_accuracy: 0.4452 - val_loss: 1.1095 - val_categorical_accuracy: 0.3333\n",
      "Epoch 91/100\n",
      "7/7 [==============================] - 0s 53ms/step - loss: 1.0401 - categorical_accuracy: 0.4677 - val_loss: 1.1093 - val_categorical_accuracy: 0.3333\n",
      "Epoch 92/100\n",
      "7/7 [==============================] - 0s 56ms/step - loss: 1.0404 - categorical_accuracy: 0.4548 - val_loss: 1.1095 - val_categorical_accuracy: 0.3333\n",
      "Epoch 93/100\n",
      "7/7 [==============================] - 0s 54ms/step - loss: 1.0429 - categorical_accuracy: 0.4387 - val_loss: 1.1103 - val_categorical_accuracy: 0.3077\n",
      "Epoch 94/100\n",
      "7/7 [==============================] - 0s 56ms/step - loss: 1.0451 - categorical_accuracy: 0.4000 - val_loss: 1.1099 - val_categorical_accuracy: 0.3333\n",
      "Epoch 95/100\n",
      "7/7 [==============================] - 0s 56ms/step - loss: 1.0443 - categorical_accuracy: 0.4355 - val_loss: 1.1094 - val_categorical_accuracy: 0.3590\n",
      "Epoch 96/100\n",
      "7/7 [==============================] - 0s 55ms/step - loss: 1.0451 - categorical_accuracy: 0.4290 - val_loss: 1.1092 - val_categorical_accuracy: 0.3718\n",
      "Epoch 97/100\n",
      "7/7 [==============================] - 0s 54ms/step - loss: 1.0484 - categorical_accuracy: 0.4129 - val_loss: 1.1091 - val_categorical_accuracy: 0.3590\n"
     ]
    },
    {
     "name": "stdout",
     "output_type": "stream",
     "text": [
      "Epoch 98/100\n",
      "7/7 [==============================] - 0s 55ms/step - loss: 1.0408 - categorical_accuracy: 0.4645 - val_loss: 1.1086 - val_categorical_accuracy: 0.3718\n",
      "Epoch 99/100\n",
      "7/7 [==============================] - 0s 52ms/step - loss: 1.0443 - categorical_accuracy: 0.4161 - val_loss: 1.1085 - val_categorical_accuracy: 0.3718\n",
      "Epoch 100/100\n",
      "7/7 [==============================] - 0s 53ms/step - loss: 1.0464 - categorical_accuracy: 0.4194 - val_loss: 1.1094 - val_categorical_accuracy: 0.3718\n"
     ]
    }
   ],
   "source": [
    "history = model.fit(X_train, y_train, \n",
    "                    batch_size=batch_size, \n",
    "                    epochs=epochs, \n",
    "                    validation_data=(X_val, y_val), \n",
    "                    verbose=1, \n",
    "                    callbacks=[tensorboard_call]) #, val_loss_callback])"
   ]
  },
  {
   "cell_type": "code",
   "execution_count": 76,
   "metadata": {},
   "outputs": [
    {
     "name": "stdout",
     "output_type": "stream",
     "text": [
      "Model: \"sequential_5\"\n",
      "_________________________________________________________________\n",
      "Layer (type)                 Output Shape              Param #   \n",
      "=================================================================\n",
      "gru_5 (GRU)                  (None, 7)                 609       \n",
      "_________________________________________________________________\n",
      "gaussian_noise_5 (GaussianNo (None, 7)                 0         \n",
      "_________________________________________________________________\n",
      "dense_5 (Dense)              (None, 3)                 24        \n",
      "=================================================================\n",
      "Total params: 633\n",
      "Trainable params: 633\n",
      "Non-trainable params: 0\n",
      "_________________________________________________________________\n"
     ]
    }
   ],
   "source": [
    "model.summary()"
   ]
  },
  {
   "cell_type": "code",
   "execution_count": 77,
   "metadata": {},
   "outputs": [
    {
     "name": "stdout",
     "output_type": "stream",
     "text": [
      "97/97 [==============================] - 1s 10ms/step - loss: 1.0953 - categorical_accuracy: 0.3608\n",
      "test loss, test acc: [1.095333456993103, 0.36082473397254944]\n"
     ]
    }
   ],
   "source": [
    "#evaluate model on test set\n",
    "results = model.evaluate(X_test, y_test, batch_size=1, verbose=1)\n",
    "print(\"test loss, test acc:\", results)"
   ]
  },
  {
   "cell_type": "code",
   "execution_count": 78,
   "metadata": {},
   "outputs": [
    {
     "data": {
      "image/png": "[encoded data removed]",
      "text/plain": [
       "<Figure size 432x288 with 1 Axes>"
      ]
     },
     "metadata": {
      "needs_background": "light"
     },
     "output_type": "display_data"
    }
   ],
   "source": [
    "#summarize history for accuracy\n",
    "plt.plot(history.history[(list(history.history.keys())[1])])\n",
    "plt.plot(history.history[(list(history.history.keys())[3])])\n",
    "plt.title('model accuracy')\n",
    "plt.ylabel('accuracy')\n",
    "plt.xlabel('epoch')\n",
    "plt.legend(['train', 'val'], loc='upper left')\n",
    "plt.show()"
   ]
  },
  {
   "cell_type": "code",
   "execution_count": 79,
   "metadata": {},
   "outputs": [
    {
     "data": {
      "image/png": "[encoded data removed]",
      "text/plain": [
       "<Figure size 432x288 with 1 Axes>"
      ]
     },
     "metadata": {
      "needs_background": "light"
     },
     "output_type": "display_data"
    }
   ],
   "source": [
    "#summarize history for loss\n",
    "plt.plot(history.history[(list(history.history.keys())[0])])\n",
    "plt.plot(history.history[(list(history.history.keys())[2])])\n",
    "plt.title('model loss')\n",
    "plt.ylabel('loss')\n",
    "plt.xlabel('epoch')\n",
    "plt.legend(['train', 'val'], loc='upper left')\n",
    "plt.show()"
   ]
  },
  {
   "cell_type": "code",
   "execution_count": 80,
   "metadata": {},
   "outputs": [
    {
     "name": "stdout",
     "output_type": "stream",
     "text": [
      "predictions: [[0.252445   0.30689108 0.44066393]\n",
      " [0.19364525 0.38421345 0.42214125]\n",
      " [0.3434693  0.25254413 0.4039866 ]\n",
      " [0.27277127 0.33097506 0.39625368]\n",
      " [0.30933502 0.254706   0.435959  ]\n",
      " [0.39166006 0.38204098 0.22629891]\n",
      " [0.26941478 0.28946826 0.441117  ]\n",
      " [0.44051486 0.3198531  0.23963208]\n",
      " [0.23149699 0.3116286  0.4568744 ]\n",
      " [0.22488293 0.365735   0.40938208]\n",
      " [0.37096685 0.35103512 0.277998  ]\n",
      " [0.2597089  0.31406116 0.42622992]\n",
      " [0.33224595 0.30256692 0.36518714]\n",
      " [0.32133314 0.30191594 0.37675092]\n",
      " [0.37231585 0.26987982 0.3578043 ]\n",
      " [0.2958204  0.34886742 0.35531223]\n",
      " [0.32256544 0.24508536 0.43234918]\n",
      " [0.38174403 0.28147087 0.33678514]\n",
      " [0.39773846 0.33881727 0.2634443 ]\n",
      " [0.3362044  0.30764124 0.35615435]\n",
      " [0.2483682  0.35500497 0.39662686]\n",
      " [0.37016743 0.21665226 0.4131803 ]\n",
      " [0.23487535 0.35243866 0.412686  ]\n",
      " [0.29186958 0.3239072  0.38422322]\n",
      " [0.42377424 0.35426623 0.22195944]\n",
      " [0.28743494 0.39038998 0.32217506]\n",
      " [0.26483616 0.30883342 0.42633042]\n",
      " [0.32479122 0.39536738 0.27984136]\n",
      " [0.36280766 0.3210822  0.31611016]\n",
      " [0.30165794 0.2916317  0.40671033]\n",
      " [0.18254086 0.34023222 0.47722697]\n",
      " [0.25312573 0.3582594  0.38861486]\n",
      " [0.414176   0.3188753  0.26694864]\n",
      " [0.24483274 0.26622877 0.48893854]\n",
      " [0.35673735 0.36955953 0.27370313]\n",
      " [0.3103007  0.3171716  0.37252775]\n",
      " [0.29890555 0.34634307 0.3547514 ]\n",
      " [0.28144363 0.35229555 0.36626083]\n",
      " [0.33759463 0.3825198  0.27988562]\n",
      " [0.31655845 0.3013844  0.38205716]\n",
      " [0.3719359  0.30479234 0.32327184]\n",
      " [0.2994291  0.26616094 0.43440998]\n",
      " [0.38740692 0.35401708 0.258576  ]\n",
      " [0.15755734 0.38307792 0.4593647 ]\n",
      " [0.29491356 0.27246732 0.43261915]\n",
      " [0.21606666 0.19179764 0.59213567]\n",
      " [0.25172526 0.42682576 0.32144907]\n",
      " [0.280144   0.4007566  0.3190994 ]\n",
      " [0.4647382  0.33956367 0.19569808]\n",
      " [0.38123208 0.34976032 0.2690076 ]\n",
      " [0.38182074 0.299173   0.31900626]\n",
      " [0.3115845  0.40358517 0.28483036]\n",
      " [0.3416155  0.39417785 0.26420656]\n",
      " [0.2605471  0.2776124  0.46184048]\n",
      " [0.2810508  0.28855088 0.43039823]\n",
      " [0.2640079  0.35546324 0.3805289 ]\n",
      " [0.39170775 0.31520712 0.29308513]\n",
      " [0.27742523 0.3583197  0.36425504]\n",
      " [0.30694482 0.34565052 0.34740463]\n",
      " [0.3875911  0.2997983  0.31261063]\n",
      " [0.3912689  0.33361733 0.2751138 ]\n",
      " [0.23311798 0.33486453 0.43201753]\n",
      " [0.4080184  0.38646075 0.20552082]\n",
      " [0.3571493  0.2786881  0.36416256]\n",
      " [0.22365926 0.32465282 0.45168787]\n",
      " [0.24609882 0.38165691 0.3722443 ]\n",
      " [0.26297885 0.37298334 0.36403784]\n",
      " [0.24734022 0.43332523 0.3193346 ]\n",
      " [0.34966245 0.33319104 0.31714648]\n",
      " [0.40656143 0.31562448 0.2778141 ]\n",
      " [0.3284717  0.41548815 0.2560401 ]\n",
      " [0.28005958 0.34915754 0.3707829 ]\n",
      " [0.24238843 0.25342238 0.5041892 ]\n",
      " [0.19148184 0.29042503 0.5180931 ]\n",
      " [0.29368043 0.36809862 0.33822095]\n",
      " [0.29147035 0.27491274 0.4336169 ]\n",
      " [0.31263348 0.33124742 0.35611907]\n",
      " [0.21522559 0.29396462 0.4908098 ]\n",
      " [0.3639946  0.36761093 0.26839447]\n",
      " [0.36048606 0.36765447 0.27185947]\n",
      " [0.4236935  0.29307464 0.28323177]\n",
      " [0.3115276  0.35839173 0.33008066]\n",
      " [0.28225788 0.34014827 0.37759387]\n",
      " [0.31738478 0.29925242 0.3833628 ]\n",
      " [0.3071152  0.30336276 0.38952205]\n",
      " [0.36131585 0.32942533 0.3092588 ]\n",
      " [0.2452352  0.33192176 0.422843  ]\n",
      " [0.37178057 0.31087506 0.31734434]\n",
      " [0.32473022 0.30916712 0.36610264]\n",
      " [0.4262816  0.31437817 0.2593402 ]\n",
      " [0.26942253 0.28306803 0.44750944]\n",
      " [0.2254488  0.32008055 0.4544707 ]\n",
      " [0.21435975 0.40631095 0.3793293 ]\n",
      " [0.29846922 0.26928315 0.43224767]\n",
      " [0.36068124 0.33178306 0.30753568]\n",
      " [0.38402182 0.37800613 0.23797213]\n",
      " [0.4022741  0.31644785 0.28127807]]\n"
     ]
    }
   ],
   "source": [
    "#generate predictions\n",
    "predictions = model.predict(X_test)\n",
    "print(\"predictions:\", predictions)"
   ]
  },
  {
   "cell_type": "code",
   "execution_count": 81,
   "metadata": {},
   "outputs": [
    {
     "name": "stdout",
     "output_type": "stream",
     "text": [
      "['N' 'N' 'N' 'N' 'N' 'C' 'N' 'C' 'N' 'N' 'C' 'N' 'N' 'N' 'C' 'N' 'N' 'C'\n",
      " 'C' 'N' 'N' 'N' 'N' 'N' 'C' 'M' 'N' 'M' 'C' 'N' 'N' 'N' 'C' 'N' 'M' 'N'\n",
      " 'N' 'N' 'M' 'N' 'C' 'N' 'C' 'N' 'N' 'N' 'M' 'M' 'C' 'C' 'C' 'M' 'M' 'N'\n",
      " 'N' 'N' 'C' 'N' 'N' 'C' 'C' 'N' 'C' 'N' 'N' 'M' 'M' 'M' 'C' 'C' 'M' 'N'\n",
      " 'N' 'N' 'M' 'N' 'N' 'N' 'M' 'M' 'C' 'M' 'N' 'N' 'N' 'C' 'N' 'C' 'N' 'C'\n",
      " 'N' 'N' 'M' 'N' 'C' 'C' 'C']\n"
     ]
    }
   ],
   "source": [
    "#remove encoding\n",
    "real_predictions_B = a_encoder.inverse_transform(predictions)\n",
    "print(real_predictions_B)"
   ]
  },
  {
   "cell_type": "code",
   "execution_count": 82,
   "metadata": {},
   "outputs": [
    {
     "data": {
      "text/plain": [
       "{'C': 27, 'M': 17, 'N': 53}"
      ]
     },
     "execution_count": 82,
     "metadata": {},
     "output_type": "execute_result"
    }
   ],
   "source": [
    "#prediction counts\n",
    "unique, counts = np.unique(real_predictions_B, return_counts=True)\n",
    "dict(zip(unique, counts))"
   ]
  },
  {
   "cell_type": "code",
   "execution_count": 83,
   "metadata": {},
   "outputs": [
    {
     "name": "stdout",
     "output_type": "stream",
     "text": [
      "['N' 'M' 'M' 'N' 'M' 'N' 'N' 'C' 'C' 'N' 'M' 'M' 'M' 'C' 'N' 'C' 'N' 'C'\n",
      " 'N' 'M' 'C' 'C' 'N' 'N' 'N' 'C' 'C' 'M' 'C' 'N' 'N' 'N' 'M' 'C' 'C' 'M'\n",
      " 'M' 'M' 'C' 'M' 'C' 'N' 'C' 'N' 'C' 'C' 'N' 'M' 'C' 'N' 'N' 'C' 'N' 'N'\n",
      " 'N' 'N' 'M' 'N' 'N' 'M' 'C' 'N' 'C' 'C' 'C' 'N' 'N' 'N' 'N' 'M' 'M' 'C'\n",
      " 'M' 'M' 'C' 'N' 'M' 'M' 'N' 'M' 'M' 'C' 'C' 'M' 'C' 'N' 'N' 'N' 'M' 'C'\n",
      " 'M' 'M' 'M' 'N' 'M' 'N' 'M']\n"
     ]
    }
   ],
   "source": [
    "#y_test predictions\n",
    "ytest_predictions = a_encoder.inverse_transform(y_test)\n",
    "print(ytest_predictions)"
   ]
  },
  {
   "cell_type": "code",
   "execution_count": 84,
   "metadata": {},
   "outputs": [
    {
     "data": {
      "text/plain": [
       "{'C': 29, 'M': 31, 'N': 37}"
      ]
     },
     "execution_count": 84,
     "metadata": {},
     "output_type": "execute_result"
    }
   ],
   "source": [
    "#real count\n",
    "unique, counts = np.unique(ytest_predictions, return_counts=True)\n",
    "dict(zip(unique, counts))"
   ]
  },
  {
   "cell_type": "code",
   "execution_count": 85,
   "metadata": {},
   "outputs": [
    {
     "data": {
      "image/png": "[encoded data removed]",
      "text/plain": [
       "<Figure size 432x288 with 2 Axes>"
      ]
     },
     "metadata": {
      "needs_background": "light"
     },
     "output_type": "display_data"
    }
   ],
   "source": [
    "#confusion matrix\n",
    "matrix = confusion_matrix(ytest_predictions, real_predictions_B)\n",
    "#format confusion matrix\n",
    "ax=plt.subplot()\n",
    "sns.heatmap(matrix, annot=True, ax = ax, cmap='Blues', fmt='g');\n",
    "accuracy = np.trace(matrix) / np.sum(matrix).astype('float')\n",
    "misclass = 1 - accuracy\n",
    "ax.set_xlabel('Predicted label\\naccuracy={:0.4f}; misclass={:0.4f}'.format(accuracy, misclass));\n",
    "ax.set_ylabel('True labels'); \n",
    "ax.set_title('Confusion Matrix');\n",
    "ax.xaxis.set_ticklabels(unique); ax.yaxis.set_ticklabels(unique);"
   ]
  },
  {
   "cell_type": "code",
   "execution_count": 86,
   "metadata": {},
   "outputs": [
    {
     "name": "stdout",
     "output_type": "stream",
     "text": [
      "              precision    recall  f1-score   support\n",
      "\n",
      "           C       0.33      0.31      0.32        29\n",
      "           M       0.29      0.16      0.21        31\n",
      "           N       0.40      0.57      0.47        37\n",
      "\n",
      "    accuracy                           0.36        97\n",
      "   macro avg       0.34      0.35      0.33        97\n",
      "weighted avg       0.34      0.36      0.34        97\n",
      "\n"
     ]
    }
   ],
   "source": [
    "print(classification_report(ytest_predictions, real_predictions_B))"
   ]
  },
  {
   "cell_type": "code",
   "execution_count": 87,
   "metadata": {},
   "outputs": [
    {
     "name": "stdout",
     "output_type": "stream",
     "text": [
      "precision score:0.3412\n",
      "recall score:0.3464\n",
      "f1 score:0.3321\n"
     ]
    }
   ],
   "source": [
    "#macro - calculate metrics for each label, and find their unweighted mean\n",
    "pre_score = precision_score(ytest_predictions, real_predictions_B, average = \"macro\")\n",
    "print('precision score:{:0.4f}'.format(pre_score))\n",
    "recall_score_1 = recall_score(ytest_predictions, real_predictions_B, average= \"macro\")\n",
    "print('recall score:{:0.4f}'.format(recall_score_1))\n",
    "f1_score_1 = f1_score(ytest_predictions, real_predictions_B, average=\"macro\")\n",
    "print('f1 score:{:0.4f}'.format(f1_score_1))"
   ]
  },
  {
   "cell_type": "code",
   "execution_count": null,
   "metadata": {},
   "outputs": [],
   "source": []
  },
  {
   "cell_type": "code",
   "execution_count": null,
   "metadata": {},
   "outputs": [],
   "source": []
  }
 ],
 "metadata": {
  "kernelspec": {
   "display_name": "Python 3",
   "language": "python",
   "name": "python3"
  },
  "language_info": {
   "codemirror_mode": {
    "name": "ipython",
    "version": 3
   },
   "file_extension": ".py",
   "mimetype": "text/x-python",
   "name": "python",
   "nbconvert_exporter": "python",
   "pygments_lexer": "ipython3",
   "version": "3.8.3"
  }
 },
 "nbformat": 4,
 "nbformat_minor": 4
}
