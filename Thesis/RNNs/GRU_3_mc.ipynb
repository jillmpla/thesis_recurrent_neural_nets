{
 "cells": [
  {
   "cell_type": "code",
   "execution_count": null,
   "metadata": {},
   "outputs": [],
   "source": [
    "#tensorboard via command-line:\n",
    "#tensorboard --logdir=where your Logs directory is"
   ]
  },
  {
   "cell_type": "code",
   "execution_count": null,
   "metadata": {},
   "outputs": [],
   "source": [
    "#~~~~~~~~~~~~~~~~~~~~~~~~~~~~~~~~~~~~~~~~~~~~~~~~~~~~~~~~~~~~~~~~~~~~~~~~~~~~~~~~~~~~~~~~~~~~~~~~~~~~~~~#\n",
    "#What is the maximum flare class produced by an AR in the next 24hrs after a 24hr time sequence?\n",
    "#~~~~~~~~~~~~~~~~~~~~~~~~~~~~~~~~~~~~~~~~~~~~~~~~~~~~~~~~~~~~~~~~~~~~~~~~~~~~~~~~~~~~~~~~~~~~~~~~~~~~~~~#\n",
    "#feature data from - hmi.sharp_720s:::\n",
    "#http://jsoc.stanford.edu/doc/data/hmi/sharp/sharp.htm\n",
    "\n",
    "#label data from - GOES flare events:::\n",
    "#ftp://ftp.swpc.noaa.gov/pub/warehouse/\n",
    "\n",
    "#and from - GOES XRS Report:::\n",
    "#https://www.ngdc.noaa.gov/stp/space-weather/solar-data/solar-features/solar-flares/x-rays/goes/xrs/\n",
    "#~~~~~~~~~~~~~~~~~~~~~~~~~~~~~~~~~~~~~~~~~~~~~~~~~~~~~~~~~~~~~~~~~~~~~~~~~~~~~~~~~~~~~~~~~~~~~~~~~~~~~~~#\n",
    "#binary class - F for flare and N for no flare\n",
    "#multi-class - #6 flare classes: N is no flare, A is smallest, X is largest\n",
    "               #key = {'N', 'A', 'B', 'C', 'M', 'X'}\n",
    "               #['A' class flares generally not listed in official reports due to small size]\n",
    "#~~~~~~~~~~~~~~~~~~~~~~~~~~~~~~~~~~~~~~~~~~~~~~~~~~~~~~~~~~~~~~~~~~~~~~~~~~~~~~~~~~~~~~~~~~~~~~~~~~~~~~~#"
   ]
  },
  {
   "cell_type": "code",
   "execution_count": 3,
   "metadata": {},
   "outputs": [
    {
     "name": "stdout",
     "output_type": "stream",
     "text": [
      "tensorflow version: 2.3.1\n"
     ]
    }
   ],
   "source": [
    "import tensorflow as tf\n",
    "print(\"tensorflow version:\", tf.__version__) #2.3.1 used\n",
    "from tensorflow import keras\n",
    "import os\n",
    "import glob\n",
    "import shutil\n",
    "import datetime\n",
    "import numpy as np\n",
    "import pandas as pd\n",
    "import seaborn as sns\n",
    "from pathlib import Path\n",
    "from astropy.time import Time\n",
    "from matplotlib import pyplot as plt\n",
    "from sklearn.metrics import f1_score, precision_score, recall_score, classification_report, confusion_matrix\n",
    "from sklearn.metrics import plot_confusion_matrix\n",
    "from sklearn.preprocessing import LabelBinarizer\n",
    "from sklearn.model_selection import train_test_split\n",
    "from sklearn.preprocessing import MinMaxScaler\n",
    "from tensorflow.keras.layers import Dropout, Dense, SimpleRNN, LSTM, GRU, GaussianNoise\n",
    "from tensorflow.keras.models import Model, Sequential\n",
    "from tensorflow.keras.optimizers import SGD, RMSprop, Adam\n",
    "import drms #https://pypi.org/project/drms/\n",
    "#~~~~~~~~~~~~~~~~~~~~~~~~~~~~~~~~~~~~~~~~~~~~~~~~~~~~~~~~~~~~~~~~~~~~~~~~~~~~~~~~~~~~~~~~~~~~~~~~~~~~~~~#\n",
    "import Flare_Data\n",
    "import Feature_Years\n",
    "import Make_TB_Logs\n",
    "#~~~~~~~~~~~~~~~~~~~~~~~~~~~~~~~~~~~~~~~~~~~~~~~~~~~~~~~~~~~~~~~~~~~~~~~~~~~~~~~~~~~~~~~~~~~~~~~~~~~~~~~#"
   ]
  },
  {
   "cell_type": "code",
   "execution_count": 4,
   "metadata": {},
   "outputs": [
    {
     "name": "stdout",
     "output_type": "stream",
     "text": [
      "CSVs compiled.\n"
     ]
    }
   ],
   "source": [
    "Feature_Years.generate_all_feature_years()"
   ]
  },
  {
   "cell_type": "code",
   "execution_count": 5,
   "metadata": {},
   "outputs": [],
   "source": [
    "where_logs = Make_TB_Logs.make_clear_tensorboard_folder()"
   ]
  },
  {
   "cell_type": "code",
   "execution_count": 6,
   "metadata": {},
   "outputs": [
    {
     "name": "stdout",
     "output_type": "stream",
     "text": [
      "The time series starts from:  2011-01-01 00:11:26\n",
      "The time series ends on:  2016-12-31 23:47:24\n",
      "469 114 20\n",
      "(array(['B', 'C', 'M'], dtype='<U1'), array([167, 147, 155], dtype=int64))\n"
     ]
    }
   ],
   "source": [
    "#binary = True for binary classification, binary = False for multi-class classification\n",
    "X_train, X_val, X_test, y_train, y_val, y_test, tim_steps, n_feats, count_of_classes, a_encoder = Flare_Data.getAllData(binary = False)"
   ]
  },
  {
   "cell_type": "code",
   "execution_count": 7,
   "metadata": {},
   "outputs": [
    {
     "name": "stdout",
     "output_type": "stream",
     "text": [
      "(300, 114, 20) (75, 114, 20) (94, 114, 20) (300, 3) (75, 3) (94, 3)\n"
     ]
    }
   ],
   "source": [
    "print(X_train.shape, X_val.shape, X_test.shape, y_train.shape, y_val.shape, y_test.shape)"
   ]
  },
  {
   "cell_type": "code",
   "execution_count": null,
   "metadata": {},
   "outputs": [],
   "source": [
    "#~~~~~~~~~~~~~~~~~~~~~~~~~~~~~~~~~~~~~~~~~~~~~~~~~~~~~~~~~~~~~~~~~~~~~~~~~~~~~~~~~~~~~~~~~~~~~~~~~~~~~~~~~~#\n",
    "#~~~~~~~~~~~~~~~~~~~~~~~~~~~~~~~~~~~~~~~~~~~~~~~~~~~~~~~~~~~~~~~~~~~~~~~~~~~~~~~~~~~~~~~~~~~~~~~~~~~~~~~~~~#"
   ]
  },
  {
   "cell_type": "code",
   "execution_count": 79,
   "metadata": {},
   "outputs": [],
   "source": [
    "batch_size = 25\n",
    "epochs = 100\n",
    "optimizer = Adam(lr=0.001, beta_1=0.9, beta_2=0.999, epsilon=1e-06, decay=0.0)"
   ]
  },
  {
   "cell_type": "code",
   "execution_count": 80,
   "metadata": {},
   "outputs": [],
   "source": [
    "#~~~~~~~~~~~~~~~~~~~~~~~~~~~~~~~~~~~~~~~~~[GRU_3 Model]~~~~~~~~~~~~~~~~~~~~~~~~~~~~~~~~~~~~~~~~~~~~~~~~~~~~#\n",
    "#~~~~~~~~~~~~~~~~~~~~~~~~~~~~~~~~~~~~~~~~~[Multi-Class]~~~~~~~~~~~~~~~~~~~~~~~~~~~~~~~~~~~~~~~~~~~~~~~~~~~~#\n",
    "#~~~~~~~~~~~~~~~~~~~~~~~~~~~~~~~~~~~~~~~~~[Single Layer]~~~~~~~~~~~~~~~~~~~~~~~~~~~~~~~~~~~~~~~~~~~~~~~~~~~#\n",
    "model = Sequential()\n",
    "model.add(GRU(6, input_shape=(tim_steps, n_feats), recurrent_dropout=0.05))\n",
    "model.add(GaussianNoise(0.1))\n",
    "model.add(Dense(count_of_classes, activation='softmax'))\n",
    "model.compile(loss='categorical_crossentropy', optimizer=optimizer, metrics=['categorical_accuracy'])\n",
    "#~~~~~~~~~~~~~~~~~~~~~~~~~~~~~~~~~~~~~~~~~~~~~~~~~~~~~~~~~~~~~~~~~~~~~~~~~~~~~~~~~~~~~~~~~~~~~~~~~~~~~~~~~~#\n",
    "#~~~~~~~~~~~~~~~~~~~~~~~~~~~~~~~~~~~~~~~~~~~~~~~~~~~~~~~~~~~~~~~~~~~~~~~~~~~~~~~~~~~~~~~~~~~~~~~~~~~~~~~~~~#"
   ]
  },
  {
   "cell_type": "code",
   "execution_count": 81,
   "metadata": {},
   "outputs": [],
   "source": [
    "tensorboard_call = keras.callbacks.TensorBoard(log_dir=where_logs, histogram_freq=1)\n",
    "#val_loss_callback = tf.keras.callbacks.EarlyStopping(monitor='val_loss', patience=10)"
   ]
  },
  {
   "cell_type": "code",
   "execution_count": 82,
   "metadata": {},
   "outputs": [
    {
     "name": "stdout",
     "output_type": "stream",
     "text": [
      "Epoch 1/100\n",
      " 2/12 [====>.........................] - ETA: 11s - loss: 1.1564 - categorical_accuracy: 0.3000WARNING:tensorflow:Callbacks method `on_train_batch_end` is slow compared to the batch time (batch time: 0.0340s vs `on_train_batch_end` time: 2.2690s). Check your callbacks.\n",
      "12/12 [==============================] - 3s 250ms/step - loss: 1.1421 - categorical_accuracy: 0.2933 - val_loss: 1.1489 - val_categorical_accuracy: 0.2800\n",
      "Epoch 2/100\n",
      "12/12 [==============================] - 0s 30ms/step - loss: 1.1076 - categorical_accuracy: 0.3367 - val_loss: 1.1315 - val_categorical_accuracy: 0.3733\n",
      "Epoch 3/100\n",
      "12/12 [==============================] - 0s 30ms/step - loss: 1.1002 - categorical_accuracy: 0.3500 - val_loss: 1.1275 - val_categorical_accuracy: 0.2667\n",
      "Epoch 4/100\n",
      "12/12 [==============================] - 0s 30ms/step - loss: 1.0935 - categorical_accuracy: 0.3833 - val_loss: 1.1266 - val_categorical_accuracy: 0.2400\n",
      "Epoch 5/100\n",
      "12/12 [==============================] - 0s 28ms/step - loss: 1.0894 - categorical_accuracy: 0.4200 - val_loss: 1.1260 - val_categorical_accuracy: 0.2400\n",
      "Epoch 6/100\n",
      "12/12 [==============================] - 0s 30ms/step - loss: 1.0898 - categorical_accuracy: 0.3933 - val_loss: 1.1252 - val_categorical_accuracy: 0.2533\n",
      "Epoch 7/100\n",
      "12/12 [==============================] - 0s 31ms/step - loss: 1.0850 - categorical_accuracy: 0.3867 - val_loss: 1.1246 - val_categorical_accuracy: 0.2400\n",
      "Epoch 8/100\n",
      "12/12 [==============================] - 0s 30ms/step - loss: 1.0957 - categorical_accuracy: 0.3633 - val_loss: 1.1241 - val_categorical_accuracy: 0.2400\n",
      "Epoch 9/100\n",
      "12/12 [==============================] - 0s 30ms/step - loss: 1.0910 - categorical_accuracy: 0.3400 - val_loss: 1.1237 - val_categorical_accuracy: 0.2667\n",
      "Epoch 10/100\n",
      "12/12 [==============================] - 0s 30ms/step - loss: 1.0920 - categorical_accuracy: 0.3933 - val_loss: 1.1232 - val_categorical_accuracy: 0.2533\n",
      "Epoch 11/100\n",
      "12/12 [==============================] - 0s 30ms/step - loss: 1.0866 - categorical_accuracy: 0.4033 - val_loss: 1.1231 - val_categorical_accuracy: 0.2533\n",
      "Epoch 12/100\n",
      "12/12 [==============================] - 0s 30ms/step - loss: 1.0955 - categorical_accuracy: 0.3533 - val_loss: 1.1223 - val_categorical_accuracy: 0.2533\n",
      "Epoch 13/100\n",
      "12/12 [==============================] - 0s 30ms/step - loss: 1.0831 - categorical_accuracy: 0.3800 - val_loss: 1.1223 - val_categorical_accuracy: 0.2533\n",
      "Epoch 14/100\n",
      "12/12 [==============================] - 0s 30ms/step - loss: 1.0885 - categorical_accuracy: 0.3833 - val_loss: 1.1218 - val_categorical_accuracy: 0.2667\n",
      "Epoch 15/100\n",
      "12/12 [==============================] - 0s 29ms/step - loss: 1.0829 - categorical_accuracy: 0.3900 - val_loss: 1.1215 - val_categorical_accuracy: 0.2667\n",
      "Epoch 16/100\n",
      "12/12 [==============================] - 0s 30ms/step - loss: 1.0925 - categorical_accuracy: 0.3733 - val_loss: 1.1210 - val_categorical_accuracy: 0.2667\n",
      "Epoch 17/100\n",
      "12/12 [==============================] - 0s 30ms/step - loss: 1.0867 - categorical_accuracy: 0.3967 - val_loss: 1.1208 - val_categorical_accuracy: 0.2800\n",
      "Epoch 18/100\n",
      "12/12 [==============================] - 0s 31ms/step - loss: 1.0951 - categorical_accuracy: 0.3500 - val_loss: 1.1204 - val_categorical_accuracy: 0.2933\n",
      "Epoch 19/100\n",
      "12/12 [==============================] - 0s 30ms/step - loss: 1.0876 - categorical_accuracy: 0.3967 - val_loss: 1.1201 - val_categorical_accuracy: 0.2667\n",
      "Epoch 20/100\n",
      "12/12 [==============================] - 0s 30ms/step - loss: 1.0874 - categorical_accuracy: 0.4133 - val_loss: 1.1203 - val_categorical_accuracy: 0.2933\n",
      "Epoch 21/100\n",
      "12/12 [==============================] - 0s 30ms/step - loss: 1.0781 - categorical_accuracy: 0.4233 - val_loss: 1.1193 - val_categorical_accuracy: 0.2933\n",
      "Epoch 22/100\n",
      "12/12 [==============================] - 0s 30ms/step - loss: 1.0787 - categorical_accuracy: 0.4000 - val_loss: 1.1194 - val_categorical_accuracy: 0.3200\n",
      "Epoch 23/100\n",
      "12/12 [==============================] - 0s 30ms/step - loss: 1.0741 - categorical_accuracy: 0.4267 - val_loss: 1.1190 - val_categorical_accuracy: 0.3200\n",
      "Epoch 24/100\n",
      "12/12 [==============================] - 0s 29ms/step - loss: 1.0842 - categorical_accuracy: 0.3900 - val_loss: 1.1189 - val_categorical_accuracy: 0.3200\n",
      "Epoch 25/100\n",
      "12/12 [==============================] - 0s 30ms/step - loss: 1.0729 - categorical_accuracy: 0.4367 - val_loss: 1.1188 - val_categorical_accuracy: 0.3067\n",
      "Epoch 26/100\n",
      "12/12 [==============================] - 0s 29ms/step - loss: 1.0739 - categorical_accuracy: 0.4133 - val_loss: 1.1185 - val_categorical_accuracy: 0.3333\n",
      "Epoch 27/100\n",
      "12/12 [==============================] - 0s 30ms/step - loss: 1.0732 - categorical_accuracy: 0.4033 - val_loss: 1.1184 - val_categorical_accuracy: 0.3333\n",
      "Epoch 28/100\n",
      "12/12 [==============================] - 0s 31ms/step - loss: 1.0787 - categorical_accuracy: 0.4400 - val_loss: 1.1183 - val_categorical_accuracy: 0.3200\n",
      "Epoch 29/100\n",
      "12/12 [==============================] - 0s 30ms/step - loss: 1.0807 - categorical_accuracy: 0.4033 - val_loss: 1.1181 - val_categorical_accuracy: 0.3200\n",
      "Epoch 30/100\n",
      "12/12 [==============================] - 0s 30ms/step - loss: 1.0778 - categorical_accuracy: 0.4033 - val_loss: 1.1177 - val_categorical_accuracy: 0.2800\n",
      "Epoch 31/100\n",
      "12/12 [==============================] - 0s 31ms/step - loss: 1.0758 - categorical_accuracy: 0.3900 - val_loss: 1.1174 - val_categorical_accuracy: 0.3067\n",
      "Epoch 32/100\n",
      "12/12 [==============================] - 0s 30ms/step - loss: 1.0770 - categorical_accuracy: 0.4033 - val_loss: 1.1172 - val_categorical_accuracy: 0.2800\n",
      "Epoch 33/100\n",
      "12/12 [==============================] - 0s 31ms/step - loss: 1.0653 - categorical_accuracy: 0.4367 - val_loss: 1.1172 - val_categorical_accuracy: 0.2800\n",
      "Epoch 34/100\n",
      "12/12 [==============================] - 0s 29ms/step - loss: 1.0751 - categorical_accuracy: 0.4300 - val_loss: 1.1171 - val_categorical_accuracy: 0.2933\n",
      "Epoch 35/100\n",
      "12/12 [==============================] - 0s 30ms/step - loss: 1.0658 - categorical_accuracy: 0.4200 - val_loss: 1.1163 - val_categorical_accuracy: 0.2933\n",
      "Epoch 36/100\n",
      "12/12 [==============================] - 0s 31ms/step - loss: 1.0688 - categorical_accuracy: 0.4300 - val_loss: 1.1161 - val_categorical_accuracy: 0.2933\n",
      "Epoch 37/100\n",
      "12/12 [==============================] - 0s 31ms/step - loss: 1.0687 - categorical_accuracy: 0.4600 - val_loss: 1.1161 - val_categorical_accuracy: 0.2933\n",
      "Epoch 38/100\n",
      "12/12 [==============================] - 0s 30ms/step - loss: 1.0677 - categorical_accuracy: 0.4167 - val_loss: 1.1159 - val_categorical_accuracy: 0.2933\n",
      "Epoch 39/100\n",
      "12/12 [==============================] - 0s 30ms/step - loss: 1.0656 - categorical_accuracy: 0.4333 - val_loss: 1.1156 - val_categorical_accuracy: 0.2933\n",
      "Epoch 40/100\n",
      "12/12 [==============================] - 0s 31ms/step - loss: 1.0730 - categorical_accuracy: 0.4000 - val_loss: 1.1155 - val_categorical_accuracy: 0.3067\n",
      "Epoch 41/100\n",
      "12/12 [==============================] - 0s 31ms/step - loss: 1.0698 - categorical_accuracy: 0.3967 - val_loss: 1.1155 - val_categorical_accuracy: 0.2933\n",
      "Epoch 42/100\n",
      "12/12 [==============================] - 0s 31ms/step - loss: 1.0751 - categorical_accuracy: 0.4200 - val_loss: 1.1150 - val_categorical_accuracy: 0.2933\n",
      "Epoch 43/100\n",
      "12/12 [==============================] - 0s 31ms/step - loss: 1.0664 - categorical_accuracy: 0.4200 - val_loss: 1.1150 - val_categorical_accuracy: 0.2800\n",
      "Epoch 44/100\n",
      "12/12 [==============================] - 0s 30ms/step - loss: 1.0686 - categorical_accuracy: 0.4267 - val_loss: 1.1148 - val_categorical_accuracy: 0.2933\n",
      "Epoch 45/100\n",
      "12/12 [==============================] - 0s 30ms/step - loss: 1.0696 - categorical_accuracy: 0.4367 - val_loss: 1.1144 - val_categorical_accuracy: 0.2800\n",
      "Epoch 46/100\n",
      "12/12 [==============================] - 0s 31ms/step - loss: 1.0690 - categorical_accuracy: 0.4167 - val_loss: 1.1145 - val_categorical_accuracy: 0.2933\n",
      "Epoch 47/100\n",
      "12/12 [==============================] - 0s 31ms/step - loss: 1.0652 - categorical_accuracy: 0.4167 - val_loss: 1.1142 - val_categorical_accuracy: 0.3067\n",
      "Epoch 48/100\n"
     ]
    },
    {
     "name": "stdout",
     "output_type": "stream",
     "text": [
      "12/12 [==============================] - 0s 30ms/step - loss: 1.0672 - categorical_accuracy: 0.3967 - val_loss: 1.1137 - val_categorical_accuracy: 0.2933\n",
      "Epoch 49/100\n",
      "12/12 [==============================] - 0s 31ms/step - loss: 1.0725 - categorical_accuracy: 0.4167 - val_loss: 1.1140 - val_categorical_accuracy: 0.2933\n",
      "Epoch 50/100\n",
      "12/12 [==============================] - 0s 30ms/step - loss: 1.0685 - categorical_accuracy: 0.4367 - val_loss: 1.1139 - val_categorical_accuracy: 0.3200\n",
      "Epoch 51/100\n",
      "12/12 [==============================] - 0s 32ms/step - loss: 1.0688 - categorical_accuracy: 0.4133 - val_loss: 1.1133 - val_categorical_accuracy: 0.2933\n",
      "Epoch 52/100\n",
      "12/12 [==============================] - 0s 31ms/step - loss: 1.0664 - categorical_accuracy: 0.4133 - val_loss: 1.1133 - val_categorical_accuracy: 0.2933\n",
      "Epoch 53/100\n",
      "12/12 [==============================] - 0s 30ms/step - loss: 1.0697 - categorical_accuracy: 0.4033 - val_loss: 1.1138 - val_categorical_accuracy: 0.3067\n",
      "Epoch 54/100\n",
      "12/12 [==============================] - 0s 31ms/step - loss: 1.0658 - categorical_accuracy: 0.4033 - val_loss: 1.1150 - val_categorical_accuracy: 0.2933\n",
      "Epoch 55/100\n",
      "12/12 [==============================] - 0s 30ms/step - loss: 1.0610 - categorical_accuracy: 0.4233 - val_loss: 1.1128 - val_categorical_accuracy: 0.3067\n",
      "Epoch 56/100\n",
      "12/12 [==============================] - 0s 31ms/step - loss: 1.0707 - categorical_accuracy: 0.4167 - val_loss: 1.1129 - val_categorical_accuracy: 0.3067\n",
      "Epoch 57/100\n",
      "12/12 [==============================] - 0s 30ms/step - loss: 1.0595 - categorical_accuracy: 0.4500 - val_loss: 1.1128 - val_categorical_accuracy: 0.3200\n",
      "Epoch 58/100\n",
      "12/12 [==============================] - 0s 31ms/step - loss: 1.0549 - categorical_accuracy: 0.4333 - val_loss: 1.1131 - val_categorical_accuracy: 0.3333\n",
      "Epoch 59/100\n",
      "12/12 [==============================] - 0s 30ms/step - loss: 1.0612 - categorical_accuracy: 0.4333 - val_loss: 1.1129 - val_categorical_accuracy: 0.3067\n",
      "Epoch 60/100\n",
      "12/12 [==============================] - 0s 31ms/step - loss: 1.0619 - categorical_accuracy: 0.4033 - val_loss: 1.1126 - val_categorical_accuracy: 0.2933\n",
      "Epoch 61/100\n",
      "12/12 [==============================] - 0s 30ms/step - loss: 1.0724 - categorical_accuracy: 0.3867 - val_loss: 1.1125 - val_categorical_accuracy: 0.3200\n",
      "Epoch 62/100\n",
      "12/12 [==============================] - 0s 30ms/step - loss: 1.0524 - categorical_accuracy: 0.4267 - val_loss: 1.1133 - val_categorical_accuracy: 0.2933\n",
      "Epoch 63/100\n",
      "12/12 [==============================] - 0s 31ms/step - loss: 1.0543 - categorical_accuracy: 0.4433 - val_loss: 1.1137 - val_categorical_accuracy: 0.2800\n",
      "Epoch 64/100\n",
      "12/12 [==============================] - 0s 30ms/step - loss: 1.0594 - categorical_accuracy: 0.4300 - val_loss: 1.1140 - val_categorical_accuracy: 0.2933\n",
      "Epoch 65/100\n",
      "12/12 [==============================] - 0s 31ms/step - loss: 1.0535 - categorical_accuracy: 0.4433 - val_loss: 1.1139 - val_categorical_accuracy: 0.2800\n",
      "Epoch 66/100\n",
      "12/12 [==============================] - 0s 30ms/step - loss: 1.0544 - categorical_accuracy: 0.4133 - val_loss: 1.1138 - val_categorical_accuracy: 0.2800\n",
      "Epoch 67/100\n",
      "12/12 [==============================] - 0s 30ms/step - loss: 1.0509 - categorical_accuracy: 0.4433 - val_loss: 1.1141 - val_categorical_accuracy: 0.3067\n",
      "Epoch 68/100\n",
      "12/12 [==============================] - 0s 31ms/step - loss: 1.0525 - categorical_accuracy: 0.4300 - val_loss: 1.1143 - val_categorical_accuracy: 0.2933\n",
      "Epoch 69/100\n",
      "12/12 [==============================] - 0s 30ms/step - loss: 1.0453 - categorical_accuracy: 0.4600 - val_loss: 1.1146 - val_categorical_accuracy: 0.3067\n",
      "Epoch 70/100\n",
      "12/12 [==============================] - 0s 30ms/step - loss: 1.0477 - categorical_accuracy: 0.4300 - val_loss: 1.1178 - val_categorical_accuracy: 0.2667\n",
      "Epoch 71/100\n",
      "12/12 [==============================] - 0s 30ms/step - loss: 1.0499 - categorical_accuracy: 0.4600 - val_loss: 1.1160 - val_categorical_accuracy: 0.2800\n",
      "Epoch 72/100\n",
      "12/12 [==============================] - 0s 32ms/step - loss: 1.0376 - categorical_accuracy: 0.4500 - val_loss: 1.1167 - val_categorical_accuracy: 0.2933\n",
      "Epoch 73/100\n",
      "12/12 [==============================] - 0s 31ms/step - loss: 1.0468 - categorical_accuracy: 0.4433 - val_loss: 1.1169 - val_categorical_accuracy: 0.3067\n",
      "Epoch 74/100\n",
      "12/12 [==============================] - 0s 31ms/step - loss: 1.0427 - categorical_accuracy: 0.4333 - val_loss: 1.1194 - val_categorical_accuracy: 0.2667\n",
      "Epoch 75/100\n",
      "12/12 [==============================] - 0s 31ms/step - loss: 1.0490 - categorical_accuracy: 0.4567 - val_loss: 1.1183 - val_categorical_accuracy: 0.2667\n",
      "Epoch 76/100\n",
      "12/12 [==============================] - 0s 30ms/step - loss: 1.0443 - categorical_accuracy: 0.4467 - val_loss: 1.1170 - val_categorical_accuracy: 0.2933\n",
      "Epoch 77/100\n",
      "12/12 [==============================] - 0s 31ms/step - loss: 1.0475 - categorical_accuracy: 0.4433 - val_loss: 1.1192 - val_categorical_accuracy: 0.3067\n",
      "Epoch 78/100\n",
      "12/12 [==============================] - 0s 31ms/step - loss: 1.0450 - categorical_accuracy: 0.4633 - val_loss: 1.1221 - val_categorical_accuracy: 0.2667\n",
      "Epoch 79/100\n",
      "12/12 [==============================] - 0s 32ms/step - loss: 1.0462 - categorical_accuracy: 0.4633 - val_loss: 1.1200 - val_categorical_accuracy: 0.3067\n",
      "Epoch 80/100\n",
      "12/12 [==============================] - 0s 31ms/step - loss: 1.0346 - categorical_accuracy: 0.4467 - val_loss: 1.1231 - val_categorical_accuracy: 0.2933\n",
      "Epoch 81/100\n",
      "12/12 [==============================] - 0s 30ms/step - loss: 1.0480 - categorical_accuracy: 0.4300 - val_loss: 1.1223 - val_categorical_accuracy: 0.3067\n",
      "Epoch 82/100\n",
      "12/12 [==============================] - 0s 30ms/step - loss: 1.0429 - categorical_accuracy: 0.4567 - val_loss: 1.1222 - val_categorical_accuracy: 0.3067\n",
      "Epoch 83/100\n",
      "12/12 [==============================] - 0s 31ms/step - loss: 1.0319 - categorical_accuracy: 0.4567 - val_loss: 1.1256 - val_categorical_accuracy: 0.2800\n",
      "Epoch 84/100\n",
      "12/12 [==============================] - 0s 31ms/step - loss: 1.0288 - categorical_accuracy: 0.4667 - val_loss: 1.1262 - val_categorical_accuracy: 0.2800\n",
      "Epoch 85/100\n",
      "12/12 [==============================] - 0s 30ms/step - loss: 1.0351 - categorical_accuracy: 0.4667 - val_loss: 1.1257 - val_categorical_accuracy: 0.3067\n",
      "Epoch 86/100\n",
      "12/12 [==============================] - 0s 29ms/step - loss: 1.0357 - categorical_accuracy: 0.4433 - val_loss: 1.1289 - val_categorical_accuracy: 0.3067\n",
      "Epoch 87/100\n",
      "12/12 [==============================] - 0s 31ms/step - loss: 1.0304 - categorical_accuracy: 0.4533 - val_loss: 1.1284 - val_categorical_accuracy: 0.3067\n",
      "Epoch 88/100\n",
      "12/12 [==============================] - 0s 31ms/step - loss: 1.0404 - categorical_accuracy: 0.4367 - val_loss: 1.1326 - val_categorical_accuracy: 0.2667\n",
      "Epoch 89/100\n",
      "12/12 [==============================] - 0s 31ms/step - loss: 1.0392 - categorical_accuracy: 0.4367 - val_loss: 1.1292 - val_categorical_accuracy: 0.2933\n",
      "Epoch 90/100\n",
      "12/12 [==============================] - 0s 31ms/step - loss: 1.0330 - categorical_accuracy: 0.4467 - val_loss: 1.1332 - val_categorical_accuracy: 0.2800\n",
      "Epoch 91/100\n",
      "12/12 [==============================] - 0s 30ms/step - loss: 1.0248 - categorical_accuracy: 0.4700 - val_loss: 1.1301 - val_categorical_accuracy: 0.3067\n",
      "Epoch 92/100\n",
      "12/12 [==============================] - 0s 31ms/step - loss: 1.0272 - categorical_accuracy: 0.4667 - val_loss: 1.1316 - val_categorical_accuracy: 0.3067\n",
      "Epoch 93/100\n",
      "12/12 [==============================] - 0s 32ms/step - loss: 1.0219 - categorical_accuracy: 0.4733 - val_loss: 1.1344 - val_categorical_accuracy: 0.2667\n",
      "Epoch 94/100\n",
      "12/12 [==============================] - 0s 32ms/step - loss: 1.0060 - categorical_accuracy: 0.4733 - val_loss: 1.1339 - val_categorical_accuracy: 0.3067\n",
      "Epoch 95/100\n",
      "12/12 [==============================] - 0s 30ms/step - loss: 1.0269 - categorical_accuracy: 0.4733 - val_loss: 1.1345 - val_categorical_accuracy: 0.3067\n",
      "Epoch 96/100\n",
      "12/12 [==============================] - 0s 30ms/step - loss: 1.0266 - categorical_accuracy: 0.4567 - val_loss: 1.1374 - val_categorical_accuracy: 0.2933\n",
      "Epoch 97/100\n"
     ]
    },
    {
     "name": "stdout",
     "output_type": "stream",
     "text": [
      "12/12 [==============================] - 0s 31ms/step - loss: 1.0227 - categorical_accuracy: 0.4767 - val_loss: 1.1398 - val_categorical_accuracy: 0.3067\n",
      "Epoch 98/100\n",
      "12/12 [==============================] - 0s 32ms/step - loss: 1.0214 - categorical_accuracy: 0.4267 - val_loss: 1.1380 - val_categorical_accuracy: 0.2933\n",
      "Epoch 99/100\n",
      "12/12 [==============================] - 0s 31ms/step - loss: 1.0274 - categorical_accuracy: 0.4633 - val_loss: 1.1391 - val_categorical_accuracy: 0.3200\n",
      "Epoch 100/100\n",
      "12/12 [==============================] - 0s 31ms/step - loss: 1.0205 - categorical_accuracy: 0.4667 - val_loss: 1.1403 - val_categorical_accuracy: 0.2800\n"
     ]
    }
   ],
   "source": [
    "history = model.fit(X_train, y_train, \n",
    "                    batch_size=batch_size, \n",
    "                    epochs=epochs, \n",
    "                    validation_data=(X_val, y_val), \n",
    "                    verbose=1, \n",
    "                    callbacks=[tensorboard_call]) #, val_loss_callback])"
   ]
  },
  {
   "cell_type": "code",
   "execution_count": 83,
   "metadata": {},
   "outputs": [
    {
     "name": "stdout",
     "output_type": "stream",
     "text": [
      "Model: \"sequential_6\"\n",
      "_________________________________________________________________\n",
      "Layer (type)                 Output Shape              Param #   \n",
      "=================================================================\n",
      "gru_6 (GRU)                  (None, 6)                 504       \n",
      "_________________________________________________________________\n",
      "gaussian_noise_4 (GaussianNo (None, 6)                 0         \n",
      "_________________________________________________________________\n",
      "dense_6 (Dense)              (None, 3)                 21        \n",
      "=================================================================\n",
      "Total params: 525\n",
      "Trainable params: 525\n",
      "Non-trainable params: 0\n",
      "_________________________________________________________________\n"
     ]
    }
   ],
   "source": [
    "model.summary()"
   ]
  },
  {
   "cell_type": "code",
   "execution_count": 84,
   "metadata": {},
   "outputs": [
    {
     "name": "stdout",
     "output_type": "stream",
     "text": [
      "94/94 [==============================] - 1s 9ms/step - loss: 1.1318 - categorical_accuracy: 0.3404\n",
      "test loss, test acc: [1.131770372390747, 0.3404255211353302]\n"
     ]
    }
   ],
   "source": [
    "#evaluate model on test set\n",
    "results = model.evaluate(X_test, y_test, batch_size=1, verbose=1)\n",
    "print(\"test loss, test acc:\", results)"
   ]
  },
  {
   "cell_type": "code",
   "execution_count": 85,
   "metadata": {},
   "outputs": [
    {
     "data": {
      "image/png": "[encoded data removed]",
      "text/plain": [
       "<Figure size 432x288 with 1 Axes>"
      ]
     },
     "metadata": {
      "needs_background": "light"
     },
     "output_type": "display_data"
    }
   ],
   "source": [
    "#summarize history for accuracy\n",
    "plt.plot(history.history[(list(history.history.keys())[1])])\n",
    "plt.plot(history.history[(list(history.history.keys())[3])])\n",
    "plt.title('model accuracy')\n",
    "plt.ylabel('accuracy')\n",
    "plt.xlabel('epoch')\n",
    "plt.legend(['train', 'val'], loc='upper left')\n",
    "plt.show()"
   ]
  },
  {
   "cell_type": "code",
   "execution_count": 86,
   "metadata": {},
   "outputs": [
    {
     "data": {
      "image/png": "[encoded data removed]",
      "text/plain": [
       "<Figure size 432x288 with 1 Axes>"
      ]
     },
     "metadata": {
      "needs_background": "light"
     },
     "output_type": "display_data"
    }
   ],
   "source": [
    "#summarize history for loss\n",
    "plt.plot(history.history[(list(history.history.keys())[0])])\n",
    "plt.plot(history.history[(list(history.history.keys())[2])])\n",
    "plt.title('model loss')\n",
    "plt.ylabel('loss')\n",
    "plt.xlabel('epoch')\n",
    "plt.legend(['train', 'val'], loc='upper left')\n",
    "plt.show()"
   ]
  },
  {
   "cell_type": "code",
   "execution_count": 87,
   "metadata": {},
   "outputs": [
    {
     "name": "stdout",
     "output_type": "stream",
     "text": [
      "WARNING:tensorflow:5 out of the last 13 calls to <function Model.make_predict_function.<locals>.predict_function at 0x0000020C138D3280> triggered tf.function retracing. Tracing is expensive and the excessive number of tracings could be due to (1) creating @tf.function repeatedly in a loop, (2) passing tensors with different shapes, (3) passing Python objects instead of tensors. For (1), please define your @tf.function outside of the loop. For (2), @tf.function has experimental_relax_shapes=True option that relaxes argument shapes that can avoid unnecessary retracing. For (3), please refer to https://www.tensorflow.org/tutorials/customization/performance#python_or_tensor_args and https://www.tensorflow.org/api_docs/python/tf/function for  more details.\n",
      "predictions: [[0.33890462 0.4388167  0.22227868]\n",
      " [0.38006574 0.25043172 0.36950257]\n",
      " [0.30769542 0.3033582  0.3889464 ]\n",
      " [0.27289888 0.20931779 0.5177833 ]\n",
      " [0.37542355 0.3121597  0.3124167 ]\n",
      " [0.46834323 0.26074317 0.2709135 ]\n",
      " [0.3693262  0.50304747 0.1276264 ]\n",
      " [0.3059358  0.57023865 0.12382556]\n",
      " [0.32222322 0.2822766  0.39550018]\n",
      " [0.4380621  0.36286637 0.19907153]\n",
      " [0.3777441  0.21283577 0.40942013]\n",
      " [0.44395947 0.21999992 0.33604062]\n",
      " [0.33645722 0.37533674 0.28820607]\n",
      " [0.39330164 0.17172363 0.43497473]\n",
      " [0.24577482 0.5549366  0.19928856]\n",
      " [0.31420374 0.5329789  0.1528174 ]\n",
      " [0.2606585  0.33317348 0.406168  ]\n",
      " [0.39705038 0.26568323 0.3372664 ]\n",
      " [0.4820311  0.12009414 0.39787474]\n",
      " [0.35278344 0.30686113 0.3403555 ]\n",
      " [0.2780918  0.50785387 0.21405427]\n",
      " [0.28849125 0.54898626 0.1625225 ]\n",
      " [0.3543368  0.36168176 0.28398147]\n",
      " [0.36713645 0.32336187 0.30950168]\n",
      " [0.50239706 0.2604778  0.23712505]\n",
      " [0.31559548 0.5038917  0.18051277]\n",
      " [0.28962147 0.48220855 0.22817002]\n",
      " [0.35328877 0.2774297  0.3692816 ]\n",
      " [0.39628977 0.30483964 0.29887062]\n",
      " [0.29313144 0.49645865 0.21040994]\n",
      " [0.470244   0.24286844 0.28688756]\n",
      " [0.33016434 0.17340554 0.49643013]\n",
      " [0.28424463 0.42444977 0.29130557]\n",
      " [0.33198604 0.39067525 0.27733868]\n",
      " [0.3042263  0.544131   0.15164271]\n",
      " [0.2662465  0.5141106  0.21964295]\n",
      " [0.62529373 0.14121406 0.2334922 ]\n",
      " [0.44773582 0.14989543 0.4023688 ]\n",
      " [0.3921163  0.3439604  0.26392326]\n",
      " [0.34488502 0.3704021  0.28471288]\n",
      " [0.36722758 0.379566   0.2532064 ]\n",
      " [0.3494752  0.4031842  0.2473406 ]\n",
      " [0.2171457  0.5781982  0.20465612]\n",
      " [0.23670167 0.61235005 0.15094832]\n",
      " [0.3567004  0.24622951 0.39707008]\n",
      " [0.27540037 0.23038663 0.49421299]\n",
      " [0.55456936 0.1539991  0.2914315 ]\n",
      " [0.36724383 0.25378245 0.37897375]\n",
      " [0.36836067 0.25265542 0.37898394]\n",
      " [0.23081306 0.56147605 0.20771094]\n",
      " [0.39136592 0.2133136  0.39532048]\n",
      " [0.52255553 0.25981137 0.21763308]\n",
      " [0.26996902 0.5839146  0.1461164 ]\n",
      " [0.40692464 0.2876364  0.30543894]\n",
      " [0.276979   0.3969937  0.3260273 ]\n",
      " [0.2621512  0.14134768 0.5965011 ]\n",
      " [0.26199204 0.453452   0.2845559 ]\n",
      " [0.30089307 0.4692578  0.22984914]\n",
      " [0.3184729  0.32774082 0.3537863 ]\n",
      " [0.35781047 0.2480204  0.3941692 ]\n",
      " [0.24985713 0.5361951  0.21394779]\n",
      " [0.39799204 0.14194697 0.46006107]\n",
      " [0.35195762 0.5159845  0.1320579 ]\n",
      " [0.34094095 0.38002616 0.2790329 ]\n",
      " [0.35409012 0.40916535 0.23674451]\n",
      " [0.27630177 0.439883   0.28381526]\n",
      " [0.28898948 0.4764299  0.23458071]\n",
      " [0.40621698 0.2084206  0.3853624 ]\n",
      " [0.2767407  0.47509706 0.24816231]\n",
      " [0.317545   0.3044717  0.37798336]\n",
      " [0.34184474 0.3348078  0.32334745]\n",
      " [0.27652925 0.3248022  0.39866853]\n",
      " [0.37060952 0.4898135  0.13957696]\n",
      " [0.284707   0.35929793 0.355995  ]\n",
      " [0.24954511 0.5686776  0.18177722]\n",
      " [0.39708522 0.3458967  0.2570181 ]\n",
      " [0.3203649  0.39914954 0.28048554]\n",
      " [0.34865806 0.27589342 0.3754485 ]\n",
      " [0.24662094 0.3499402  0.4034389 ]\n",
      " [0.24048036 0.52122647 0.23829316]\n",
      " [0.3345528  0.24044691 0.42500034]\n",
      " [0.4378869  0.37387156 0.18824157]\n",
      " [0.4045339  0.18039662 0.41506943]\n",
      " [0.2809176  0.42594326 0.29313916]\n",
      " [0.29228356 0.26444393 0.44327253]\n",
      " [0.24968593 0.34141064 0.40890342]\n",
      " [0.30420995 0.3857995  0.3099906 ]\n",
      " [0.33655375 0.4605796  0.20286666]\n",
      " [0.2168173  0.6297534  0.15342925]\n",
      " [0.30796137 0.30607134 0.3859673 ]\n",
      " [0.3054213  0.22055724 0.47402146]\n",
      " [0.18035921 0.5306096  0.28903118]\n",
      " [0.38092035 0.29213554 0.32694405]\n",
      " [0.31291646 0.3775473  0.30953622]]\n"
     ]
    }
   ],
   "source": [
    "#generate predictions\n",
    "predictions = model.predict(X_test)\n",
    "print(\"predictions:\", predictions)"
   ]
  },
  {
   "cell_type": "code",
   "execution_count": 88,
   "metadata": {},
   "outputs": [
    {
     "name": "stdout",
     "output_type": "stream",
     "text": [
      "['C' 'B' 'M' 'M' 'B' 'B' 'C' 'C' 'M' 'B' 'M' 'B' 'C' 'M' 'C' 'C' 'M' 'B'\n",
      " 'B' 'B' 'C' 'C' 'C' 'B' 'B' 'C' 'C' 'M' 'B' 'C' 'B' 'M' 'C' 'C' 'C' 'C'\n",
      " 'B' 'B' 'B' 'C' 'C' 'C' 'C' 'C' 'M' 'M' 'B' 'M' 'M' 'C' 'M' 'B' 'C' 'B'\n",
      " 'C' 'M' 'C' 'C' 'M' 'M' 'C' 'M' 'C' 'C' 'C' 'C' 'C' 'B' 'C' 'M' 'B' 'M'\n",
      " 'C' 'C' 'C' 'B' 'C' 'M' 'M' 'C' 'M' 'B' 'M' 'C' 'M' 'M' 'C' 'C' 'C' 'M'\n",
      " 'M' 'C' 'B' 'C']\n"
     ]
    }
   ],
   "source": [
    "#remove encoding\n",
    "real_predictions_B = a_encoder.inverse_transform(predictions)\n",
    "print(real_predictions_B)"
   ]
  },
  {
   "cell_type": "code",
   "execution_count": 89,
   "metadata": {},
   "outputs": [
    {
     "data": {
      "text/plain": [
       "{'B': 23, 'C': 44, 'M': 27}"
      ]
     },
     "execution_count": 89,
     "metadata": {},
     "output_type": "execute_result"
    }
   ],
   "source": [
    "#prediction counts\n",
    "unique, counts = np.unique(real_predictions_B, return_counts=True)\n",
    "dict(zip(unique, counts))"
   ]
  },
  {
   "cell_type": "code",
   "execution_count": 90,
   "metadata": {},
   "outputs": [
    {
     "name": "stdout",
     "output_type": "stream",
     "text": [
      "['C' 'C' 'C' 'M' 'B' 'M' 'B' 'C' 'B' 'M' 'B' 'B' 'M' 'M' 'C' 'C' 'B' 'B'\n",
      " 'C' 'B' 'M' 'C' 'B' 'M' 'B' 'B' 'C' 'C' 'M' 'B' 'B' 'M' 'M' 'C' 'M' 'M'\n",
      " 'M' 'M' 'M' 'M' 'B' 'B' 'B' 'B' 'C' 'B' 'M' 'B' 'M' 'C' 'B' 'M' 'B' 'C'\n",
      " 'C' 'M' 'C' 'C' 'C' 'B' 'M' 'C' 'B' 'M' 'C' 'B' 'B' 'M' 'M' 'M' 'B' 'C'\n",
      " 'B' 'C' 'M' 'C' 'C' 'C' 'C' 'B' 'M' 'M' 'B' 'B' 'C' 'M' 'C' 'C' 'M' 'B'\n",
      " 'B' 'B' 'B' 'M']\n"
     ]
    }
   ],
   "source": [
    "#y_test predictions\n",
    "ytest_predictions = a_encoder.inverse_transform(y_test)\n",
    "print(ytest_predictions)"
   ]
  },
  {
   "cell_type": "code",
   "execution_count": 91,
   "metadata": {},
   "outputs": [
    {
     "data": {
      "text/plain": [
       "{'B': 34, 'C': 29, 'M': 31}"
      ]
     },
     "execution_count": 91,
     "metadata": {},
     "output_type": "execute_result"
    }
   ],
   "source": [
    "#real count\n",
    "unique, counts = np.unique(ytest_predictions, return_counts=True)\n",
    "dict(zip(unique, counts))"
   ]
  },
  {
   "cell_type": "code",
   "execution_count": 92,
   "metadata": {},
   "outputs": [
    {
     "data": {
      "image/png": "[encoded data removed]",
      "text/plain": [
       "<Figure size 432x288 with 2 Axes>"
      ]
     },
     "metadata": {
      "needs_background": "light"
     },
     "output_type": "display_data"
    }
   ],
   "source": [
    "#confusion matrix\n",
    "matrix = confusion_matrix(ytest_predictions, real_predictions_B)\n",
    "#format confusion matrix\n",
    "ax=plt.subplot()\n",
    "sns.heatmap(matrix, annot=True, ax = ax, cmap='Purples', fmt='g');\n",
    "accuracy = np.trace(matrix) / np.sum(matrix).astype('float')\n",
    "misclass = 1 - accuracy\n",
    "ax.set_xlabel('Predicted label\\naccuracy={:0.4f}; misclass={:0.4f}'.format(accuracy, misclass));\n",
    "ax.set_ylabel('True labels'); \n",
    "ax.set_title('Confusion Matrix');\n",
    "ax.xaxis.set_ticklabels(unique); ax.yaxis.set_ticklabels(unique);"
   ]
  },
  {
   "cell_type": "code",
   "execution_count": 93,
   "metadata": {},
   "outputs": [
    {
     "name": "stdout",
     "output_type": "stream",
     "text": [
      "              precision    recall  f1-score   support\n",
      "\n",
      "           B       0.35      0.24      0.28        34\n",
      "           C       0.36      0.55      0.44        29\n",
      "           M       0.30      0.26      0.28        31\n",
      "\n",
      "    accuracy                           0.34        94\n",
      "   macro avg       0.34      0.35      0.33        94\n",
      "weighted avg       0.34      0.34      0.33        94\n",
      "\n"
     ]
    }
   ],
   "source": [
    "print(classification_report(ytest_predictions, real_predictions_B))"
   ]
  },
  {
   "cell_type": "code",
   "execution_count": 94,
   "metadata": {},
   "outputs": [
    {
     "name": "stdout",
     "output_type": "stream",
     "text": [
      "precision score:0.3359\n",
      "recall score:0.3484\n",
      "f1 score:0.3316\n"
     ]
    }
   ],
   "source": [
    "#macro - calculate metrics for each label, and find their unweighted mean\n",
    "pre_score = precision_score(ytest_predictions, real_predictions_B, average = \"macro\")\n",
    "print('precision score:{:0.4f}'.format(pre_score))\n",
    "recall_score_1 = recall_score(ytest_predictions, real_predictions_B, average= \"macro\")\n",
    "print('recall score:{:0.4f}'.format(recall_score_1))\n",
    "f1_score_1 = f1_score(ytest_predictions, real_predictions_B, average=\"macro\")\n",
    "print('f1 score:{:0.4f}'.format(f1_score_1))"
   ]
  },
  {
   "cell_type": "code",
   "execution_count": null,
   "metadata": {},
   "outputs": [],
   "source": []
  },
  {
   "cell_type": "code",
   "execution_count": null,
   "metadata": {},
   "outputs": [],
   "source": []
  }
 ],
 "metadata": {
  "kernelspec": {
   "display_name": "Python 3",
   "language": "python",
   "name": "python3"
  },
  "language_info": {
   "codemirror_mode": {
    "name": "ipython",
    "version": 3
   },
   "file_extension": ".py",
   "mimetype": "text/x-python",
   "name": "python",
   "nbconvert_exporter": "python",
   "pygments_lexer": "ipython3",
   "version": "3.8.3"
  }
 },
 "nbformat": 4,
 "nbformat_minor": 4
}
