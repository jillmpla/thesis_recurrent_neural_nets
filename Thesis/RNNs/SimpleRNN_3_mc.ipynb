{
 "cells": [
  {
   "cell_type": "code",
   "execution_count": 1,
   "metadata": {},
   "outputs": [],
   "source": [
    "#tensorboard via command-line:\n",
    "#tensorboard --logdir=where your Logs directory is"
   ]
  },
  {
   "cell_type": "code",
   "execution_count": 2,
   "metadata": {},
   "outputs": [],
   "source": [
    "#~~~~~~~~~~~~~~~~~~~~~~~~~~~~~~~~~~~~~~~~~~~~~~~~~~~~~~~~~~~~~~~~~~~~~~~~~~~~~~~~~~~~~~~~~~~~~~~~~~~~~~~#\n",
    "#What is the maximum flare class produced by an AR in the next 24hrs after a 24hr time sequence?\n",
    "#~~~~~~~~~~~~~~~~~~~~~~~~~~~~~~~~~~~~~~~~~~~~~~~~~~~~~~~~~~~~~~~~~~~~~~~~~~~~~~~~~~~~~~~~~~~~~~~~~~~~~~~#\n",
    "#feature data from - hmi.sharp_720s:::\n",
    "#http://jsoc.stanford.edu/doc/data/hmi/sharp/sharp.htm\n",
    "\n",
    "#label data from - GOES flare events:::\n",
    "#ftp://ftp.swpc.noaa.gov/pub/warehouse/\n",
    "\n",
    "#and from - GOES XRS Report:::\n",
    "#https://www.ngdc.noaa.gov/stp/space-weather/solar-data/solar-features/solar-flares/x-rays/goes/xrs/\n",
    "#~~~~~~~~~~~~~~~~~~~~~~~~~~~~~~~~~~~~~~~~~~~~~~~~~~~~~~~~~~~~~~~~~~~~~~~~~~~~~~~~~~~~~~~~~~~~~~~~~~~~~~~#\n",
    "#binary class - F for flare and N for no flare\n",
    "#multi-class - #6 flare classes: N is no flare, A is smallest, X is largest\n",
    "               #key = {'N', 'A', 'B', 'C', 'M', 'X'}\n",
    "               #['A' class flares generally not listed in official reports due to small size]\n",
    "#~~~~~~~~~~~~~~~~~~~~~~~~~~~~~~~~~~~~~~~~~~~~~~~~~~~~~~~~~~~~~~~~~~~~~~~~~~~~~~~~~~~~~~~~~~~~~~~~~~~~~~~#"
   ]
  },
  {
   "cell_type": "code",
   "execution_count": 3,
   "metadata": {},
   "outputs": [
    {
     "name": "stdout",
     "output_type": "stream",
     "text": [
      "tensorflow version: 2.3.1\n"
     ]
    }
   ],
   "source": [
    "import tensorflow as tf\n",
    "print(\"tensorflow version:\", tf.__version__) #2.3.1 used\n",
    "from tensorflow import keras\n",
    "import os\n",
    "import glob\n",
    "import shutil\n",
    "import datetime\n",
    "import numpy as np\n",
    "import pandas as pd\n",
    "import seaborn as sns\n",
    "from pathlib import Path\n",
    "from astropy.time import Time\n",
    "from matplotlib import pyplot as plt\n",
    "from sklearn.metrics import f1_score, precision_score, recall_score, classification_report, confusion_matrix\n",
    "from sklearn.metrics import plot_confusion_matrix\n",
    "from sklearn.preprocessing import LabelBinarizer\n",
    "from sklearn.model_selection import train_test_split\n",
    "from sklearn.preprocessing import MinMaxScaler\n",
    "from tensorflow.keras.layers import Dropout, Dense, SimpleRNN, LSTM, GRU, GaussianNoise\n",
    "from tensorflow.keras.models import Model, Sequential\n",
    "from tensorflow.keras.optimizers import SGD, RMSprop, Adam\n",
    "import drms #https://pypi.org/project/drms/\n",
    "#~~~~~~~~~~~~~~~~~~~~~~~~~~~~~~~~~~~~~~~~~~~~~~~~~~~~~~~~~~~~~~~~~~~~~~~~~~~~~~~~~~~~~~~~~~~~~~~~~~~~~~~#\n",
    "import Flare_Data\n",
    "import Feature_Years\n",
    "import Make_TB_Logs\n",
    "#~~~~~~~~~~~~~~~~~~~~~~~~~~~~~~~~~~~~~~~~~~~~~~~~~~~~~~~~~~~~~~~~~~~~~~~~~~~~~~~~~~~~~~~~~~~~~~~~~~~~~~~#"
   ]
  },
  {
   "cell_type": "code",
   "execution_count": 4,
   "metadata": {},
   "outputs": [
    {
     "name": "stdout",
     "output_type": "stream",
     "text": [
      "CSVs compiled.\n"
     ]
    }
   ],
   "source": [
    "Feature_Years.generate_all_feature_years()"
   ]
  },
  {
   "cell_type": "code",
   "execution_count": 5,
   "metadata": {},
   "outputs": [],
   "source": [
    "where_logs = Make_TB_Logs.make_clear_tensorboard_folder()"
   ]
  },
  {
   "cell_type": "code",
   "execution_count": 6,
   "metadata": {},
   "outputs": [
    {
     "name": "stdout",
     "output_type": "stream",
     "text": [
      "The time series starts from:  2011-01-01 00:11:26\n",
      "The time series ends on:  2016-12-31 23:47:24\n",
      "(array(['B', 'C', 'M'], dtype='<U1'), array([167, 147, 155], dtype=int64))\n"
     ]
    }
   ],
   "source": [
    "#binary = True for binary classification, binary = False for multi-class classification\n",
    "X_train, X_val, X_test, y_train, y_val, y_test, tim_steps, n_feats, count_of_classes, a_encoder = Flare_Data.getAllData(binary = False)"
   ]
  },
  {
   "cell_type": "code",
   "execution_count": 7,
   "metadata": {},
   "outputs": [
    {
     "name": "stdout",
     "output_type": "stream",
     "text": [
      "(300, 114, 20) (75, 114, 20) (94, 114, 20) (300, 3) (75, 3) (94, 3)\n"
     ]
    }
   ],
   "source": [
    "print(X_train.shape, X_val.shape, X_test.shape, y_train.shape, y_val.shape, y_test.shape)"
   ]
  },
  {
   "cell_type": "code",
   "execution_count": 8,
   "metadata": {},
   "outputs": [],
   "source": [
    "#~~~~~~~~~~~~~~~~~~~~~~~~~~~~~~~~~~~~~~~~~~~~~~~~~~~~~~~~~~~~~~~~~~~~~~~~~~~~~~~~~~~~~~~~~~~~~~~~~~~~~~~~~~#\n",
    "#~~~~~~~~~~~~~~~~~~~~~~~~~~~~~~~~~~~~~~~~~~~~~~~~~~~~~~~~~~~~~~~~~~~~~~~~~~~~~~~~~~~~~~~~~~~~~~~~~~~~~~~~~~#"
   ]
  },
  {
   "cell_type": "code",
   "execution_count": 9,
   "metadata": {},
   "outputs": [],
   "source": [
    "batch_size = 10\n",
    "epochs = 100\n",
    "optimizer = Adam(lr=0.0001, beta_1=0.9, beta_2=0.999, epsilon=1e-06, decay=0.0)"
   ]
  },
  {
   "cell_type": "code",
   "execution_count": 10,
   "metadata": {},
   "outputs": [],
   "source": [
    "#~~~~~~~~~~~~~~~~~~~~~~~~~~~~~~~~~~~~~~~~~[SimpleRNN_3 Model]~~~~~~~~~~~~~~~~~~~~~~~~~~~~~~~~~~~~~~~~~~~~~~#\n",
    "#~~~~~~~~~~~~~~~~~~~~~~~~~~~~~~~~~~~~~~~~~[Multi-Class]~~~~~~~~~~~~~~~~~~~~~~~~~~~~~~~~~~~~~~~~~~~~~~~~~~~~#\n",
    "#~~~~~~~~~~~~~~~~~~~~~~~~~~~~~~~~~~~~~~~~~[Single Layer]~~~~~~~~~~~~~~~~~~~~~~~~~~~~~~~~~~~~~~~~~~~~~~~~~~~#\n",
    "model = Sequential()\n",
    "model.add(SimpleRNN(32, input_shape=(tim_steps, n_feats)))\n",
    "model.add(GaussianNoise(0.01))\n",
    "model.add(Dropout(0.1))\n",
    "model.add(Dense(count_of_classes, activation='softmax'))\n",
    "model.compile(loss='categorical_crossentropy', optimizer=optimizer, metrics=['categorical_accuracy'])\n",
    "#~~~~~~~~~~~~~~~~~~~~~~~~~~~~~~~~~~~~~~~~~~~~~~~~~~~~~~~~~~~~~~~~~~~~~~~~~~~~~~~~~~~~~~~~~~~~~~~~~~~~~~~~~~#\n",
    "#~~~~~~~~~~~~~~~~~~~~~~~~~~~~~~~~~~~~~~~~~~~~~~~~~~~~~~~~~~~~~~~~~~~~~~~~~~~~~~~~~~~~~~~~~~~~~~~~~~~~~~~~~~#"
   ]
  },
  {
   "cell_type": "code",
   "execution_count": 11,
   "metadata": {},
   "outputs": [
    {
     "name": "stdout",
     "output_type": "stream",
     "text": [
      "Model: \"sequential\"\n",
      "_________________________________________________________________\n",
      "Layer (type)                 Output Shape              Param #   \n",
      "=================================================================\n",
      "simple_rnn (SimpleRNN)       (None, 32)                1696      \n",
      "_________________________________________________________________\n",
      "gaussian_noise (GaussianNois (None, 32)                0         \n",
      "_________________________________________________________________\n",
      "dropout (Dropout)            (None, 32)                0         \n",
      "_________________________________________________________________\n",
      "dense (Dense)                (None, 3)                 99        \n",
      "=================================================================\n",
      "Total params: 1,795\n",
      "Trainable params: 1,795\n",
      "Non-trainable params: 0\n",
      "_________________________________________________________________\n"
     ]
    }
   ],
   "source": [
    "model.summary()"
   ]
  },
  {
   "cell_type": "code",
   "execution_count": 12,
   "metadata": {},
   "outputs": [],
   "source": [
    "tensorboard_call = keras.callbacks.TensorBoard(log_dir=where_logs, histogram_freq=1)\n",
    "#val_loss_callback = tf.keras.callbacks.EarlyStopping(monitor='val_loss', patience=10)"
   ]
  },
  {
   "cell_type": "code",
   "execution_count": 13,
   "metadata": {},
   "outputs": [
    {
     "name": "stdout",
     "output_type": "stream",
     "text": [
      "Epoch 1/100\n",
      " 1/30 [>.............................] - ETA: 0s - loss: 1.5478 - categorical_accuracy: 0.2000WARNING:tensorflow:From C:\\ProgramData\\Anaconda3\\lib\\site-packages\\tensorflow\\python\\ops\\summary_ops_v2.py:1277: stop (from tensorflow.python.eager.profiler) is deprecated and will be removed after 2020-07-01.\n",
      "Instructions for updating:\n",
      "use `tf.profiler.experimental.stop` instead.\n",
      " 2/30 [=>............................] - ETA: 2s - loss: 1.3502 - categorical_accuracy: 0.3000WARNING:tensorflow:Callbacks method `on_train_batch_end` is slow compared to the batch time (batch time: 0.0130s vs `on_train_batch_end` time: 0.1768s). Check your callbacks.\n",
      "30/30 [==============================] - 1s 28ms/step - loss: 1.2146 - categorical_accuracy: 0.3400 - val_loss: 1.1371 - val_categorical_accuracy: 0.3600\n",
      "Epoch 2/100\n",
      "30/30 [==============================] - 0s 11ms/step - loss: 1.1961 - categorical_accuracy: 0.3533 - val_loss: 1.1199 - val_categorical_accuracy: 0.3600\n",
      "Epoch 3/100\n",
      "30/30 [==============================] - 0s 12ms/step - loss: 1.1683 - categorical_accuracy: 0.3733 - val_loss: 1.1092 - val_categorical_accuracy: 0.3867\n",
      "Epoch 4/100\n",
      "30/30 [==============================] - 0s 12ms/step - loss: 1.1886 - categorical_accuracy: 0.3233 - val_loss: 1.1033 - val_categorical_accuracy: 0.2933\n",
      "Epoch 5/100\n",
      "30/30 [==============================] - 0s 12ms/step - loss: 1.1619 - categorical_accuracy: 0.3533 - val_loss: 1.0988 - val_categorical_accuracy: 0.3200\n",
      "Epoch 6/100\n",
      "30/30 [==============================] - 0s 12ms/step - loss: 1.1580 - categorical_accuracy: 0.3833 - val_loss: 1.0945 - val_categorical_accuracy: 0.3467\n",
      "Epoch 7/100\n",
      "30/30 [==============================] - 0s 11ms/step - loss: 1.1503 - categorical_accuracy: 0.3467 - val_loss: 1.0927 - val_categorical_accuracy: 0.3467\n",
      "Epoch 8/100\n",
      "30/30 [==============================] - 0s 12ms/step - loss: 1.1528 - categorical_accuracy: 0.3667 - val_loss: 1.0906 - val_categorical_accuracy: 0.3467\n",
      "Epoch 9/100\n",
      "30/30 [==============================] - 0s 14ms/step - loss: 1.1317 - categorical_accuracy: 0.4000 - val_loss: 1.0887 - val_categorical_accuracy: 0.3600\n",
      "Epoch 10/100\n",
      "30/30 [==============================] - 0s 13ms/step - loss: 1.1519 - categorical_accuracy: 0.3333 - val_loss: 1.0874 - val_categorical_accuracy: 0.3600\n",
      "Epoch 11/100\n",
      "30/30 [==============================] - 0s 12ms/step - loss: 1.1423 - categorical_accuracy: 0.3567 - val_loss: 1.0856 - val_categorical_accuracy: 0.3467\n",
      "Epoch 12/100\n",
      "30/30 [==============================] - 0s 12ms/step - loss: 1.1561 - categorical_accuracy: 0.3367 - val_loss: 1.0837 - val_categorical_accuracy: 0.3600\n",
      "Epoch 13/100\n",
      "30/30 [==============================] - 0s 11ms/step - loss: 1.1232 - categorical_accuracy: 0.3600 - val_loss: 1.0829 - val_categorical_accuracy: 0.3467\n",
      "Epoch 14/100\n",
      "30/30 [==============================] - 0s 13ms/step - loss: 1.1573 - categorical_accuracy: 0.3433 - val_loss: 1.0815 - val_categorical_accuracy: 0.3467\n",
      "Epoch 15/100\n",
      "30/30 [==============================] - 0s 12ms/step - loss: 1.1299 - categorical_accuracy: 0.3700 - val_loss: 1.0809 - val_categorical_accuracy: 0.3467\n",
      "Epoch 16/100\n",
      "30/30 [==============================] - 0s 12ms/step - loss: 1.1522 - categorical_accuracy: 0.3600 - val_loss: 1.0801 - val_categorical_accuracy: 0.3333\n",
      "Epoch 17/100\n",
      "30/30 [==============================] - 0s 11ms/step - loss: 1.1281 - categorical_accuracy: 0.3733 - val_loss: 1.0794 - val_categorical_accuracy: 0.3333\n",
      "Epoch 18/100\n",
      "30/30 [==============================] - 0s 11ms/step - loss: 1.1104 - categorical_accuracy: 0.3833 - val_loss: 1.0788 - val_categorical_accuracy: 0.3467\n",
      "Epoch 19/100\n",
      "30/30 [==============================] - 0s 11ms/step - loss: 1.1291 - categorical_accuracy: 0.3467 - val_loss: 1.0774 - val_categorical_accuracy: 0.3333\n",
      "Epoch 20/100\n",
      "30/30 [==============================] - 0s 12ms/step - loss: 1.1369 - categorical_accuracy: 0.3667 - val_loss: 1.0773 - val_categorical_accuracy: 0.3733\n",
      "Epoch 21/100\n",
      "30/30 [==============================] - 0s 12ms/step - loss: 1.1065 - categorical_accuracy: 0.3700 - val_loss: 1.0758 - val_categorical_accuracy: 0.3333\n",
      "Epoch 22/100\n",
      "30/30 [==============================] - 0s 12ms/step - loss: 1.0886 - categorical_accuracy: 0.4167 - val_loss: 1.0753 - val_categorical_accuracy: 0.3200\n",
      "Epoch 23/100\n",
      "30/30 [==============================] - 0s 11ms/step - loss: 1.1003 - categorical_accuracy: 0.4167 - val_loss: 1.0748 - val_categorical_accuracy: 0.3600\n",
      "Epoch 24/100\n",
      "30/30 [==============================] - 0s 11ms/step - loss: 1.0984 - categorical_accuracy: 0.3867 - val_loss: 1.0751 - val_categorical_accuracy: 0.3600\n",
      "Epoch 25/100\n",
      "30/30 [==============================] - 0s 13ms/step - loss: 1.0981 - categorical_accuracy: 0.3733 - val_loss: 1.0750 - val_categorical_accuracy: 0.3867\n",
      "Epoch 26/100\n",
      "30/30 [==============================] - 0s 12ms/step - loss: 1.1017 - categorical_accuracy: 0.4067 - val_loss: 1.0748 - val_categorical_accuracy: 0.3733\n",
      "Epoch 27/100\n",
      "30/30 [==============================] - 0s 12ms/step - loss: 1.0779 - categorical_accuracy: 0.4067 - val_loss: 1.0746 - val_categorical_accuracy: 0.3733\n",
      "Epoch 28/100\n",
      "30/30 [==============================] - 0s 12ms/step - loss: 1.1050 - categorical_accuracy: 0.3900 - val_loss: 1.0741 - val_categorical_accuracy: 0.3467\n",
      "Epoch 29/100\n",
      "30/30 [==============================] - 0s 11ms/step - loss: 1.0880 - categorical_accuracy: 0.4133 - val_loss: 1.0736 - val_categorical_accuracy: 0.3600\n",
      "Epoch 30/100\n",
      "30/30 [==============================] - 0s 12ms/step - loss: 1.0763 - categorical_accuracy: 0.4500 - val_loss: 1.0743 - val_categorical_accuracy: 0.3867\n",
      "Epoch 31/100\n",
      "30/30 [==============================] - 0s 12ms/step - loss: 1.1014 - categorical_accuracy: 0.3833 - val_loss: 1.0735 - val_categorical_accuracy: 0.3733\n",
      "Epoch 32/100\n",
      "30/30 [==============================] - 0s 12ms/step - loss: 1.0933 - categorical_accuracy: 0.4000 - val_loss: 1.0742 - val_categorical_accuracy: 0.3867\n",
      "Epoch 33/100\n",
      "30/30 [==============================] - 0s 12ms/step - loss: 1.0843 - categorical_accuracy: 0.4067 - val_loss: 1.0743 - val_categorical_accuracy: 0.3867\n",
      "Epoch 34/100\n",
      "30/30 [==============================] - 0s 11ms/step - loss: 1.0852 - categorical_accuracy: 0.4200 - val_loss: 1.0747 - val_categorical_accuracy: 0.3867\n",
      "Epoch 35/100\n",
      "30/30 [==============================] - 0s 11ms/step - loss: 1.0741 - categorical_accuracy: 0.4000 - val_loss: 1.0743 - val_categorical_accuracy: 0.3867\n",
      "Epoch 36/100\n",
      "30/30 [==============================] - 0s 13ms/step - loss: 1.0620 - categorical_accuracy: 0.4333 - val_loss: 1.0739 - val_categorical_accuracy: 0.4000\n",
      "Epoch 37/100\n",
      "30/30 [==============================] - 0s 12ms/step - loss: 1.0934 - categorical_accuracy: 0.4100 - val_loss: 1.0742 - val_categorical_accuracy: 0.3733\n",
      "Epoch 38/100\n",
      "30/30 [==============================] - 0s 12ms/step - loss: 1.0678 - categorical_accuracy: 0.4633 - val_loss: 1.0744 - val_categorical_accuracy: 0.4000\n",
      "Epoch 39/100\n",
      "30/30 [==============================] - 0s 12ms/step - loss: 1.0830 - categorical_accuracy: 0.4000 - val_loss: 1.0746 - val_categorical_accuracy: 0.4000\n",
      "Epoch 40/100\n",
      "30/30 [==============================] - 0s 11ms/step - loss: 1.0708 - categorical_accuracy: 0.4667 - val_loss: 1.0736 - val_categorical_accuracy: 0.3733\n",
      "Epoch 41/100\n",
      "30/30 [==============================] - 0s 12ms/step - loss: 1.0780 - categorical_accuracy: 0.4267 - val_loss: 1.0734 - val_categorical_accuracy: 0.3733\n",
      "Epoch 42/100\n",
      "30/30 [==============================] - 0s 14ms/step - loss: 1.0530 - categorical_accuracy: 0.4233 - val_loss: 1.0733 - val_categorical_accuracy: 0.3467\n",
      "Epoch 43/100\n",
      "30/30 [==============================] - 0s 12ms/step - loss: 1.0807 - categorical_accuracy: 0.4300 - val_loss: 1.0738 - val_categorical_accuracy: 0.4000\n",
      "Epoch 44/100\n",
      "30/30 [==============================] - 0s 12ms/step - loss: 1.0374 - categorical_accuracy: 0.4800 - val_loss: 1.0739 - val_categorical_accuracy: 0.4000\n",
      "Epoch 45/100\n",
      "30/30 [==============================] - 0s 11ms/step - loss: 1.0705 - categorical_accuracy: 0.4233 - val_loss: 1.0734 - val_categorical_accuracy: 0.3867\n",
      "Epoch 46/100\n"
     ]
    },
    {
     "name": "stdout",
     "output_type": "stream",
     "text": [
      "30/30 [==============================] - 0s 11ms/step - loss: 1.0511 - categorical_accuracy: 0.4533 - val_loss: 1.0733 - val_categorical_accuracy: 0.3733\n",
      "Epoch 47/100\n",
      "30/30 [==============================] - 0s 12ms/step - loss: 1.0538 - categorical_accuracy: 0.4533 - val_loss: 1.0729 - val_categorical_accuracy: 0.3733\n",
      "Epoch 48/100\n",
      "30/30 [==============================] - 0s 12ms/step - loss: 1.0654 - categorical_accuracy: 0.4267 - val_loss: 1.0740 - val_categorical_accuracy: 0.4000\n",
      "Epoch 49/100\n",
      "30/30 [==============================] - 0s 12ms/step - loss: 1.0556 - categorical_accuracy: 0.4500 - val_loss: 1.0737 - val_categorical_accuracy: 0.4000\n",
      "Epoch 50/100\n",
      "30/30 [==============================] - 0s 11ms/step - loss: 1.0524 - categorical_accuracy: 0.4567 - val_loss: 1.0736 - val_categorical_accuracy: 0.4000\n",
      "Epoch 51/100\n",
      "30/30 [==============================] - 0s 11ms/step - loss: 1.0425 - categorical_accuracy: 0.4633 - val_loss: 1.0737 - val_categorical_accuracy: 0.4000\n",
      "Epoch 52/100\n",
      "30/30 [==============================] - 0s 12ms/step - loss: 1.0443 - categorical_accuracy: 0.4633 - val_loss: 1.0730 - val_categorical_accuracy: 0.3867\n",
      "Epoch 53/100\n",
      "30/30 [==============================] - 0s 12ms/step - loss: 1.0332 - categorical_accuracy: 0.4933 - val_loss: 1.0727 - val_categorical_accuracy: 0.3733\n",
      "Epoch 54/100\n",
      "30/30 [==============================] - 0s 12ms/step - loss: 1.0433 - categorical_accuracy: 0.4567 - val_loss: 1.0737 - val_categorical_accuracy: 0.4000\n",
      "Epoch 55/100\n",
      "30/30 [==============================] - 0s 12ms/step - loss: 1.0389 - categorical_accuracy: 0.4967 - val_loss: 1.0730 - val_categorical_accuracy: 0.3867\n",
      "Epoch 56/100\n",
      "30/30 [==============================] - 0s 11ms/step - loss: 1.0334 - categorical_accuracy: 0.4900 - val_loss: 1.0724 - val_categorical_accuracy: 0.3867\n",
      "Epoch 57/100\n",
      "30/30 [==============================] - 0s 11ms/step - loss: 1.0248 - categorical_accuracy: 0.4967 - val_loss: 1.0732 - val_categorical_accuracy: 0.3867\n",
      "Epoch 58/100\n",
      "30/30 [==============================] - 0s 13ms/step - loss: 1.0363 - categorical_accuracy: 0.4600 - val_loss: 1.0739 - val_categorical_accuracy: 0.4133\n",
      "Epoch 59/100\n",
      "30/30 [==============================] - 0s 12ms/step - loss: 1.0307 - categorical_accuracy: 0.4833 - val_loss: 1.0731 - val_categorical_accuracy: 0.4000\n",
      "Epoch 60/100\n",
      "30/30 [==============================] - 0s 12ms/step - loss: 1.0365 - categorical_accuracy: 0.4700 - val_loss: 1.0736 - val_categorical_accuracy: 0.4133\n",
      "Epoch 61/100\n",
      "30/30 [==============================] - 0s 11ms/step - loss: 1.0500 - categorical_accuracy: 0.4800 - val_loss: 1.0722 - val_categorical_accuracy: 0.3733\n",
      "Epoch 62/100\n",
      "30/30 [==============================] - 0s 11ms/step - loss: 1.0436 - categorical_accuracy: 0.4533 - val_loss: 1.0715 - val_categorical_accuracy: 0.3733\n",
      "Epoch 63/100\n",
      "30/30 [==============================] - 0s 12ms/step - loss: 1.0326 - categorical_accuracy: 0.4900 - val_loss: 1.0723 - val_categorical_accuracy: 0.3867\n",
      "Epoch 64/100\n",
      "30/30 [==============================] - 0s 12ms/step - loss: 1.0293 - categorical_accuracy: 0.4833 - val_loss: 1.0734 - val_categorical_accuracy: 0.4000\n",
      "Epoch 65/100\n",
      "30/30 [==============================] - 0s 12ms/step - loss: 1.0226 - categorical_accuracy: 0.4967 - val_loss: 1.0721 - val_categorical_accuracy: 0.3867\n",
      "Epoch 66/100\n",
      "30/30 [==============================] - 0s 12ms/step - loss: 1.0095 - categorical_accuracy: 0.4767 - val_loss: 1.0721 - val_categorical_accuracy: 0.3867\n",
      "Epoch 67/100\n",
      "30/30 [==============================] - 0s 11ms/step - loss: 1.0017 - categorical_accuracy: 0.5267 - val_loss: 1.0730 - val_categorical_accuracy: 0.4000\n",
      "Epoch 68/100\n",
      "30/30 [==============================] - 0s 11ms/step - loss: 1.0242 - categorical_accuracy: 0.4767 - val_loss: 1.0730 - val_categorical_accuracy: 0.4000\n",
      "Epoch 69/100\n",
      "30/30 [==============================] - 0s 14ms/step - loss: 1.0223 - categorical_accuracy: 0.4700 - val_loss: 1.0736 - val_categorical_accuracy: 0.4133\n",
      "Epoch 70/100\n",
      "30/30 [==============================] - 0s 12ms/step - loss: 0.9997 - categorical_accuracy: 0.5167 - val_loss: 1.0725 - val_categorical_accuracy: 0.4000\n",
      "Epoch 71/100\n",
      "30/30 [==============================] - 0s 12ms/step - loss: 1.0161 - categorical_accuracy: 0.4733 - val_loss: 1.0728 - val_categorical_accuracy: 0.3867\n",
      "Epoch 72/100\n",
      "30/30 [==============================] - 0s 11ms/step - loss: 1.0004 - categorical_accuracy: 0.5433 - val_loss: 1.0738 - val_categorical_accuracy: 0.4000\n",
      "Epoch 73/100\n",
      "30/30 [==============================] - 0s 11ms/step - loss: 0.9962 - categorical_accuracy: 0.5167 - val_loss: 1.0729 - val_categorical_accuracy: 0.3867\n",
      "Epoch 74/100\n",
      "30/30 [==============================] - 0s 12ms/step - loss: 1.0137 - categorical_accuracy: 0.5133 - val_loss: 1.0750 - val_categorical_accuracy: 0.4133\n",
      "Epoch 75/100\n",
      "30/30 [==============================] - 0s 12ms/step - loss: 0.9735 - categorical_accuracy: 0.5400 - val_loss: 1.0735 - val_categorical_accuracy: 0.4133\n",
      "Epoch 76/100\n",
      "30/30 [==============================] - 0s 12ms/step - loss: 0.9996 - categorical_accuracy: 0.5367 - val_loss: 1.0722 - val_categorical_accuracy: 0.4000\n",
      "Epoch 77/100\n",
      "30/30 [==============================] - 0s 12ms/step - loss: 0.9906 - categorical_accuracy: 0.5267 - val_loss: 1.0736 - val_categorical_accuracy: 0.4000\n",
      "Epoch 78/100\n",
      "30/30 [==============================] - 0s 11ms/step - loss: 0.9770 - categorical_accuracy: 0.5300 - val_loss: 1.0719 - val_categorical_accuracy: 0.4000\n",
      "Epoch 79/100\n",
      "30/30 [==============================] - 0s 11ms/step - loss: 0.9960 - categorical_accuracy: 0.4933 - val_loss: 1.0734 - val_categorical_accuracy: 0.4000\n",
      "Epoch 80/100\n",
      "30/30 [==============================] - 0s 12ms/step - loss: 1.0032 - categorical_accuracy: 0.4933 - val_loss: 1.0741 - val_categorical_accuracy: 0.4000\n",
      "Epoch 81/100\n",
      "30/30 [==============================] - 0s 12ms/step - loss: 0.9738 - categorical_accuracy: 0.5300 - val_loss: 1.0772 - val_categorical_accuracy: 0.3867\n",
      "Epoch 82/100\n",
      "30/30 [==============================] - 0s 12ms/step - loss: 0.9959 - categorical_accuracy: 0.5100 - val_loss: 1.0744 - val_categorical_accuracy: 0.4000\n",
      "Epoch 83/100\n",
      "30/30 [==============================] - 0s 11ms/step - loss: 0.9752 - categorical_accuracy: 0.5100 - val_loss: 1.0744 - val_categorical_accuracy: 0.3867\n",
      "Epoch 84/100\n",
      "30/30 [==============================] - 0s 11ms/step - loss: 0.9894 - categorical_accuracy: 0.4967 - val_loss: 1.0747 - val_categorical_accuracy: 0.4000\n",
      "Epoch 85/100\n",
      "30/30 [==============================] - 0s 12ms/step - loss: 0.9762 - categorical_accuracy: 0.5500 - val_loss: 1.0766 - val_categorical_accuracy: 0.4000\n",
      "Epoch 86/100\n",
      "30/30 [==============================] - 0s 12ms/step - loss: 0.9542 - categorical_accuracy: 0.5400 - val_loss: 1.0771 - val_categorical_accuracy: 0.4000\n",
      "Epoch 87/100\n",
      "30/30 [==============================] - 0s 12ms/step - loss: 0.9804 - categorical_accuracy: 0.5300 - val_loss: 1.0791 - val_categorical_accuracy: 0.4133\n",
      "Epoch 88/100\n",
      "30/30 [==============================] - 0s 12ms/step - loss: 0.9630 - categorical_accuracy: 0.5467 - val_loss: 1.0768 - val_categorical_accuracy: 0.3867\n",
      "Epoch 89/100\n",
      "30/30 [==============================] - 0s 11ms/step - loss: 0.9766 - categorical_accuracy: 0.5433 - val_loss: 1.0790 - val_categorical_accuracy: 0.3867\n",
      "Epoch 90/100\n",
      "30/30 [==============================] - 0s 11ms/step - loss: 0.9756 - categorical_accuracy: 0.5133 - val_loss: 1.0803 - val_categorical_accuracy: 0.4133\n",
      "Epoch 91/100\n",
      "30/30 [==============================] - 0s 12ms/step - loss: 0.9500 - categorical_accuracy: 0.5733 - val_loss: 1.0811 - val_categorical_accuracy: 0.4133\n",
      "Epoch 92/100\n",
      "30/30 [==============================] - 0s 12ms/step - loss: 0.9603 - categorical_accuracy: 0.5333 - val_loss: 1.0828 - val_categorical_accuracy: 0.4133\n",
      "Epoch 93/100\n",
      "30/30 [==============================] - 0s 12ms/step - loss: 0.9577 - categorical_accuracy: 0.5700 - val_loss: 1.0844 - val_categorical_accuracy: 0.4133\n",
      "Epoch 94/100\n",
      "30/30 [==============================] - 0s 11ms/step - loss: 0.9623 - categorical_accuracy: 0.5367 - val_loss: 1.0858 - val_categorical_accuracy: 0.4133\n",
      "Epoch 95/100\n"
     ]
    },
    {
     "name": "stdout",
     "output_type": "stream",
     "text": [
      "30/30 [==============================] - 0s 11ms/step - loss: 0.9419 - categorical_accuracy: 0.5767 - val_loss: 1.0877 - val_categorical_accuracy: 0.4133\n",
      "Epoch 96/100\n",
      "30/30 [==============================] - 0s 12ms/step - loss: 0.9390 - categorical_accuracy: 0.5733 - val_loss: 1.0910 - val_categorical_accuracy: 0.4133\n",
      "Epoch 97/100\n",
      "30/30 [==============================] - 0s 12ms/step - loss: 0.9457 - categorical_accuracy: 0.5467 - val_loss: 1.0899 - val_categorical_accuracy: 0.4000\n",
      "Epoch 98/100\n",
      "30/30 [==============================] - 0s 12ms/step - loss: 0.9388 - categorical_accuracy: 0.5667 - val_loss: 1.0913 - val_categorical_accuracy: 0.4133\n",
      "Epoch 99/100\n",
      "30/30 [==============================] - 0s 12ms/step - loss: 0.9408 - categorical_accuracy: 0.5567 - val_loss: 1.0963 - val_categorical_accuracy: 0.4133\n",
      "Epoch 100/100\n",
      "30/30 [==============================] - 0s 11ms/step - loss: 0.9319 - categorical_accuracy: 0.5567 - val_loss: 1.0954 - val_categorical_accuracy: 0.4000\n"
     ]
    }
   ],
   "source": [
    "history = model.fit(X_train, y_train, \n",
    "                    batch_size=batch_size, \n",
    "                    epochs=epochs, \n",
    "                    validation_data=(X_val, y_val), \n",
    "                    verbose=1, \n",
    "                    callbacks=[tensorboard_call]) #, val_loss_callback])"
   ]
  },
  {
   "cell_type": "code",
   "execution_count": 14,
   "metadata": {},
   "outputs": [
    {
     "name": "stdout",
     "output_type": "stream",
     "text": [
      "94/94 [==============================] - 0s 4ms/step - loss: 1.2420 - categorical_accuracy: 0.3511\n",
      "test loss, test acc: [1.2419793605804443, 0.3510638177394867]\n"
     ]
    }
   ],
   "source": [
    "#evaluate model on test set\n",
    "results = model.evaluate(X_test, y_test, batch_size=1, verbose=1)\n",
    "print(\"test loss, test acc:\", results)"
   ]
  },
  {
   "cell_type": "code",
   "execution_count": 15,
   "metadata": {},
   "outputs": [
    {
     "data": {
      "image/png": "[encoded data removed]",
      "text/plain": [
       "<Figure size 432x288 with 1 Axes>"
      ]
     },
     "metadata": {
      "needs_background": "light"
     },
     "output_type": "display_data"
    }
   ],
   "source": [
    "#summarize history for accuracy\n",
    "plt.plot(history.history[(list(history.history.keys())[1])])\n",
    "plt.plot(history.history[(list(history.history.keys())[3])])\n",
    "plt.title('model accuracy')\n",
    "plt.ylabel('accuracy')\n",
    "plt.xlabel('epoch')\n",
    "plt.legend(['train', 'val'], loc='upper left')\n",
    "plt.show()"
   ]
  },
  {
   "cell_type": "code",
   "execution_count": 16,
   "metadata": {},
   "outputs": [
    {
     "data": {
      "image/png": "[encoded data removed]",
      "text/plain": [
       "<Figure size 432x288 with 1 Axes>"
      ]
     },
     "metadata": {
      "needs_background": "light"
     },
     "output_type": "display_data"
    }
   ],
   "source": [
    "#summarize history for loss\n",
    "plt.plot(history.history[(list(history.history.keys())[0])])\n",
    "plt.plot(history.history[(list(history.history.keys())[2])])\n",
    "plt.title('model loss')\n",
    "plt.ylabel('loss')\n",
    "plt.xlabel('epoch')\n",
    "plt.legend(['train', 'val'], loc='upper left')\n",
    "plt.show()"
   ]
  },
  {
   "cell_type": "code",
   "execution_count": 17,
   "metadata": {},
   "outputs": [
    {
     "name": "stdout",
     "output_type": "stream",
     "text": [
      "predictions: [[0.3812459  0.37056598 0.2481881 ]\n",
      " [0.51339704 0.26887867 0.21772437]\n",
      " [0.4724721  0.39968795 0.12783992]\n",
      " [0.19799386 0.28971544 0.51229066]\n",
      " [0.19182628 0.2986817  0.50949204]\n",
      " [0.18631516 0.40054122 0.41314363]\n",
      " [0.5952849  0.29897964 0.10573543]\n",
      " [0.2585454  0.5312935  0.21016113]\n",
      " [0.0322515  0.45354885 0.5141997 ]\n",
      " [0.4968654  0.298635   0.20449972]\n",
      " [0.24271049 0.3189338  0.4383557 ]\n",
      " [0.50466937 0.24198458 0.2533461 ]\n",
      " [0.15352494 0.71648407 0.12999094]\n",
      " [0.25761455 0.35117522 0.39121026]\n",
      " [0.6437002  0.24274594 0.11355391]\n",
      " [0.15328363 0.56403536 0.28268102]\n",
      " [0.33533004 0.33226326 0.3324067 ]\n",
      " [0.237497   0.48184493 0.2806581 ]\n",
      " [0.28985915 0.20035565 0.5097852 ]\n",
      " [0.25007173 0.15643376 0.5934945 ]\n",
      " [0.7151321  0.23000236 0.0548655 ]\n",
      " [0.39782357 0.4468123  0.15536404]\n",
      " [0.42812768 0.2713538  0.30051845]\n",
      " [0.21908544 0.2249927  0.5559219 ]\n",
      " [0.07397544 0.17172728 0.75429726]\n",
      " [0.40933785 0.32716683 0.2634953 ]\n",
      " [0.3250054  0.30894163 0.36605293]\n",
      " [0.37982747 0.30654833 0.3136242 ]\n",
      " [0.1991822  0.16142687 0.6393909 ]\n",
      " [0.60180384 0.25832614 0.13987003]\n",
      " [0.23309648 0.13736466 0.6295389 ]\n",
      " [0.15370908 0.2211405  0.62515044]\n",
      " [0.53080606 0.19241208 0.27678183]\n",
      " [0.32995808 0.434072   0.2359699 ]\n",
      " [0.40459237 0.33456084 0.2608468 ]\n",
      " [0.365619   0.18206948 0.45231152]\n",
      " [0.6657289  0.18874742 0.14552358]\n",
      " [0.07149488 0.3891226  0.53938246]\n",
      " [0.31616557 0.33797985 0.34585455]\n",
      " [0.36476445 0.27472633 0.36050922]\n",
      " [0.31280932 0.33481917 0.3523715 ]\n",
      " [0.50899255 0.3294942  0.16151328]\n",
      " [0.14030851 0.5549467  0.30474478]\n",
      " [0.3439047  0.47550854 0.18058673]\n",
      " [0.08934939 0.39214912 0.5185015 ]\n",
      " [0.17061763 0.15385318 0.6755292 ]\n",
      " [0.16835544 0.39835033 0.4332942 ]\n",
      " [0.17347553 0.18769498 0.63882947]\n",
      " [0.24768335 0.35049635 0.4018202 ]\n",
      " [0.37946197 0.3321826  0.2883554 ]\n",
      " [0.14065248 0.23052381 0.62882376]\n",
      " [0.18553923 0.44493917 0.36952162]\n",
      " [0.14080492 0.34729213 0.51190287]\n",
      " [0.5589697  0.14002717 0.3010032 ]\n",
      " [0.17934142 0.5812046  0.23945406]\n",
      " [0.12825872 0.24705441 0.6246869 ]\n",
      " [0.12038443 0.68215597 0.19745964]\n",
      " [0.5387856  0.3731055  0.08810893]\n",
      " [0.32734606 0.38225922 0.29039475]\n",
      " [0.29059446 0.515043   0.1943625 ]\n",
      " [0.24484703 0.37789422 0.37725872]\n",
      " [0.60396093 0.1885967  0.20744242]\n",
      " [0.4558632  0.3145554  0.22958133]\n",
      " [0.50541574 0.29960266 0.19498162]\n",
      " [0.3874665  0.43396255 0.17857097]\n",
      " [0.23519616 0.39816156 0.36664227]\n",
      " [0.24000502 0.4370233  0.3229718 ]\n",
      " [0.09574561 0.2856153  0.6186391 ]\n",
      " [0.5907201  0.25449994 0.1547799 ]\n",
      " [0.2649836  0.4404796  0.2945369 ]\n",
      " [0.3180286  0.10857743 0.57339394]\n",
      " [0.69477576 0.14294764 0.16227661]\n",
      " [0.43866152 0.4445693  0.11676925]\n",
      " [0.0904009  0.40817642 0.5014227 ]\n",
      " [0.3065468  0.2551301  0.43832308]\n",
      " [0.53909236 0.18145908 0.27944854]\n",
      " [0.6862527  0.23247159 0.08127559]\n",
      " [0.4550181  0.42304078 0.12194114]\n",
      " [0.44476795 0.24462217 0.31060997]\n",
      " [0.19954287 0.39485487 0.40560228]\n",
      " [0.10330229 0.27313364 0.62356406]\n",
      " [0.16383463 0.3855805  0.45058483]\n",
      " [0.24056914 0.22043104 0.53899986]\n",
      " [0.20634535 0.5794522  0.21420242]\n",
      " [0.06804948 0.20501326 0.72693723]\n",
      " [0.3217145  0.3903418  0.28794372]\n",
      " [0.5516604  0.16190913 0.2864304 ]\n",
      " [0.24507256 0.29337123 0.4615563 ]\n",
      " [0.4428837  0.39661437 0.16050194]\n",
      " [0.5790443  0.27001846 0.1509373 ]\n",
      " [0.19960462 0.18184303 0.6185524 ]\n",
      " [0.18178228 0.524979   0.2932388 ]\n",
      " [0.08789237 0.35326403 0.5588436 ]\n",
      " [0.62617016 0.21818675 0.15564315]]\n"
     ]
    }
   ],
   "source": [
    "#generate predictions\n",
    "predictions = model.predict(X_test)\n",
    "print(\"predictions:\", predictions)"
   ]
  },
  {
   "cell_type": "code",
   "execution_count": 18,
   "metadata": {},
   "outputs": [
    {
     "name": "stdout",
     "output_type": "stream",
     "text": [
      "['B' 'B' 'B' 'M' 'M' 'M' 'B' 'C' 'M' 'B' 'M' 'B' 'C' 'M' 'B' 'C' 'B' 'C'\n",
      " 'M' 'M' 'B' 'C' 'B' 'M' 'M' 'B' 'M' 'B' 'M' 'B' 'M' 'M' 'B' 'C' 'B' 'M'\n",
      " 'B' 'M' 'M' 'B' 'M' 'B' 'C' 'C' 'M' 'M' 'M' 'M' 'M' 'B' 'M' 'C' 'M' 'B'\n",
      " 'C' 'M' 'C' 'B' 'C' 'C' 'C' 'B' 'B' 'B' 'C' 'C' 'C' 'M' 'B' 'C' 'M' 'B'\n",
      " 'C' 'M' 'M' 'B' 'B' 'B' 'B' 'M' 'M' 'M' 'M' 'C' 'M' 'C' 'B' 'M' 'B' 'B'\n",
      " 'M' 'C' 'M' 'B']\n"
     ]
    }
   ],
   "source": [
    "#remove encoding\n",
    "real_predictions_B = a_encoder.inverse_transform(predictions)\n",
    "print(real_predictions_B)"
   ]
  },
  {
   "cell_type": "code",
   "execution_count": 19,
   "metadata": {},
   "outputs": [
    {
     "data": {
      "text/plain": [
       "{'B': 34, 'C': 22, 'M': 38}"
      ]
     },
     "execution_count": 19,
     "metadata": {},
     "output_type": "execute_result"
    }
   ],
   "source": [
    "#prediction counts\n",
    "unique, counts = np.unique(real_predictions_B, return_counts=True)\n",
    "dict(zip(unique, counts))"
   ]
  },
  {
   "cell_type": "code",
   "execution_count": 20,
   "metadata": {},
   "outputs": [
    {
     "name": "stdout",
     "output_type": "stream",
     "text": [
      "['C' 'C' 'C' 'M' 'B' 'M' 'B' 'C' 'B' 'M' 'B' 'B' 'M' 'M' 'C' 'C' 'B' 'B'\n",
      " 'C' 'B' 'M' 'C' 'B' 'M' 'B' 'B' 'C' 'C' 'M' 'B' 'B' 'M' 'M' 'C' 'M' 'M'\n",
      " 'M' 'M' 'M' 'M' 'B' 'B' 'B' 'B' 'C' 'B' 'M' 'B' 'M' 'C' 'B' 'M' 'B' 'C'\n",
      " 'C' 'M' 'C' 'C' 'C' 'B' 'M' 'C' 'B' 'M' 'C' 'B' 'B' 'M' 'M' 'M' 'B' 'C'\n",
      " 'B' 'C' 'M' 'C' 'C' 'C' 'C' 'B' 'M' 'M' 'B' 'B' 'C' 'M' 'C' 'C' 'M' 'B'\n",
      " 'B' 'B' 'B' 'M']\n"
     ]
    }
   ],
   "source": [
    "#y_test predictions\n",
    "ytest_predictions = a_encoder.inverse_transform(y_test)\n",
    "print(ytest_predictions)"
   ]
  },
  {
   "cell_type": "code",
   "execution_count": 21,
   "metadata": {},
   "outputs": [
    {
     "data": {
      "text/plain": [
       "{'B': 34, 'C': 29, 'M': 31}"
      ]
     },
     "execution_count": 21,
     "metadata": {},
     "output_type": "execute_result"
    }
   ],
   "source": [
    "#real count\n",
    "unique, counts = np.unique(ytest_predictions, return_counts=True)\n",
    "dict(zip(unique, counts))"
   ]
  },
  {
   "cell_type": "code",
   "execution_count": 22,
   "metadata": {},
   "outputs": [
    {
     "data": {
      "image/png": "[encoded data removed]",
      "text/plain": [
       "<Figure size 432x288 with 2 Axes>"
      ]
     },
     "metadata": {
      "needs_background": "light"
     },
     "output_type": "display_data"
    }
   ],
   "source": [
    "#confusion matrix\n",
    "matrix = confusion_matrix(ytest_predictions, real_predictions_B)\n",
    "#format confusion matrix\n",
    "ax=plt.subplot()\n",
    "sns.heatmap(matrix, annot=True, ax = ax, cmap='Purples', fmt='g');\n",
    "accuracy = np.trace(matrix) / np.sum(matrix).astype('float')\n",
    "misclass = 1 - accuracy\n",
    "ax.set_xlabel('Predicted label\\naccuracy={:0.4f}; misclass={:0.4f}'.format(accuracy, misclass));\n",
    "ax.set_ylabel('True labels'); \n",
    "ax.set_title('Confusion Matrix');\n",
    "ax.xaxis.set_ticklabels(unique); ax.yaxis.set_ticklabels(unique);"
   ]
  },
  {
   "cell_type": "code",
   "execution_count": 23,
   "metadata": {},
   "outputs": [
    {
     "name": "stdout",
     "output_type": "stream",
     "text": [
      "              precision    recall  f1-score   support\n",
      "\n",
      "           B       0.26      0.26      0.26        34\n",
      "           C       0.36      0.28      0.31        29\n",
      "           M       0.42      0.52      0.46        31\n",
      "\n",
      "    accuracy                           0.35        94\n",
      "   macro avg       0.35      0.35      0.35        94\n",
      "weighted avg       0.35      0.35      0.35        94\n",
      "\n"
     ]
    }
   ],
   "source": [
    "print(classification_report(ytest_predictions, real_predictions_B))"
   ]
  },
  {
   "cell_type": "code",
   "execution_count": 24,
   "metadata": {},
   "outputs": [
    {
     "name": "stdout",
     "output_type": "stream",
     "text": [
      "precision score:0.3498\n",
      "recall score:0.3522\n",
      "f1 score:0.3474\n"
     ]
    }
   ],
   "source": [
    "#macro - calculate metrics for each label, and find their unweighted mean\n",
    "pre_score = precision_score(ytest_predictions, real_predictions_B, average = \"macro\")\n",
    "print('precision score:{:0.4f}'.format(pre_score))\n",
    "recall_score_1 = recall_score(ytest_predictions, real_predictions_B, average= \"macro\")\n",
    "print('recall score:{:0.4f}'.format(recall_score_1))\n",
    "f1_score_1 = f1_score(ytest_predictions, real_predictions_B, average=\"macro\")\n",
    "print('f1 score:{:0.4f}'.format(f1_score_1))"
   ]
  },
  {
   "cell_type": "code",
   "execution_count": null,
   "metadata": {},
   "outputs": [],
   "source": []
  }
 ],
 "metadata": {
  "kernelspec": {
   "display_name": "Python 3",
   "language": "python",
   "name": "python3"
  },
  "language_info": {
   "codemirror_mode": {
    "name": "ipython",
    "version": 3
   },
   "file_extension": ".py",
   "mimetype": "text/x-python",
   "name": "python",
   "nbconvert_exporter": "python",
   "pygments_lexer": "ipython3",
   "version": "3.8.3"
  }
 },
 "nbformat": 4,
 "nbformat_minor": 4
}
