{
 "cells": [
  {
   "cell_type": "code",
   "execution_count": 1,
   "metadata": {},
   "outputs": [],
   "source": [
    "#tensorboard via command-line:\n",
    "#tensorboard --logdir=where your Logs directory is"
   ]
  },
  {
   "cell_type": "code",
   "execution_count": 2,
   "metadata": {},
   "outputs": [],
   "source": [
    "#~~~~~~~~~~~~~~~~~~~~~~~~~~~~~~~~~~~~~~~~~~~~~~~~~~~~~~~~~~~~~~~~~~~~~~~~~~~~~~~~~~~~~~~~~~~~~~~~~~~~~~~#\n",
    "#What is the maximum flare class produced by an AR in the next 24hrs after a 24hr time sequence?\n",
    "#~~~~~~~~~~~~~~~~~~~~~~~~~~~~~~~~~~~~~~~~~~~~~~~~~~~~~~~~~~~~~~~~~~~~~~~~~~~~~~~~~~~~~~~~~~~~~~~~~~~~~~~#\n",
    "#feature data from - hmi.sharp_720s:::\n",
    "#http://jsoc.stanford.edu/doc/data/hmi/sharp/sharp.htm\n",
    "\n",
    "#label data from - GOES flare events:::\n",
    "#ftp://ftp.swpc.noaa.gov/pub/warehouse/\n",
    "\n",
    "#and from - GOES XRS Report:::\n",
    "#https://www.ngdc.noaa.gov/stp/space-weather/solar-data/solar-features/solar-flares/x-rays/goes/xrs/\n",
    "#~~~~~~~~~~~~~~~~~~~~~~~~~~~~~~~~~~~~~~~~~~~~~~~~~~~~~~~~~~~~~~~~~~~~~~~~~~~~~~~~~~~~~~~~~~~~~~~~~~~~~~~#\n",
    "#binary class - F for flare and N for no flare\n",
    "#multi-class - #6 flare classes: N is no flare, A is smallest, X is largest\n",
    "               #key = {'N', 'A', 'B', 'C', 'M', 'X'}\n",
    "               #['A' class flares generally not listed in official reports due to small size]\n",
    "#~~~~~~~~~~~~~~~~~~~~~~~~~~~~~~~~~~~~~~~~~~~~~~~~~~~~~~~~~~~~~~~~~~~~~~~~~~~~~~~~~~~~~~~~~~~~~~~~~~~~~~~#"
   ]
  },
  {
   "cell_type": "code",
   "execution_count": 3,
   "metadata": {},
   "outputs": [
    {
     "name": "stdout",
     "output_type": "stream",
     "text": [
      "tensorflow version: 2.3.1\n"
     ]
    }
   ],
   "source": [
    "import tensorflow as tf\n",
    "print(\"tensorflow version:\", tf.__version__) #2.3.1 used\n",
    "from tensorflow import keras\n",
    "import os\n",
    "import glob\n",
    "import shutil\n",
    "import datetime\n",
    "import numpy as np\n",
    "import pandas as pd\n",
    "import seaborn as sns\n",
    "from pathlib import Path\n",
    "from astropy.time import Time\n",
    "from matplotlib import pyplot as plt\n",
    "from sklearn.metrics import f1_score, precision_score, recall_score, classification_report, confusion_matrix\n",
    "from sklearn.metrics import plot_confusion_matrix\n",
    "from sklearn.preprocessing import LabelBinarizer\n",
    "from sklearn.model_selection import train_test_split\n",
    "from sklearn.preprocessing import MinMaxScaler\n",
    "from tensorflow.keras.layers import Dropout, Dense, SimpleRNN, LSTM, GRU, GaussianNoise\n",
    "from tensorflow.keras.models import Model, Sequential\n",
    "from tensorflow.keras.optimizers import SGD, RMSprop, Adam\n",
    "import drms #https://pypi.org/project/drms/\n",
    "#~~~~~~~~~~~~~~~~~~~~~~~~~~~~~~~~~~~~~~~~~~~~~~~~~~~~~~~~~~~~~~~~~~~~~~~~~~~~~~~~~~~~~~~~~~~~~~~~~~~~~~~#\n",
    "import Flare_Data\n",
    "import Feature_Years\n",
    "import Make_TB_Logs\n",
    "#~~~~~~~~~~~~~~~~~~~~~~~~~~~~~~~~~~~~~~~~~~~~~~~~~~~~~~~~~~~~~~~~~~~~~~~~~~~~~~~~~~~~~~~~~~~~~~~~~~~~~~~#"
   ]
  },
  {
   "cell_type": "code",
   "execution_count": 4,
   "metadata": {},
   "outputs": [
    {
     "name": "stdout",
     "output_type": "stream",
     "text": [
      "CSVs compiled.\n"
     ]
    }
   ],
   "source": [
    "Feature_Years.generate_all_feature_years()"
   ]
  },
  {
   "cell_type": "code",
   "execution_count": 5,
   "metadata": {},
   "outputs": [],
   "source": [
    "where_logs = Make_TB_Logs.make_clear_tensorboard_folder()"
   ]
  },
  {
   "cell_type": "code",
   "execution_count": 6,
   "metadata": {},
   "outputs": [
    {
     "name": "stdout",
     "output_type": "stream",
     "text": [
      "The time series starts from:  2011-01-01 00:11:26\n",
      "The time series ends on:  2016-12-31 23:47:24\n",
      "(array(['B', 'C', 'M'], dtype='<U1'), array([167, 147, 155], dtype=int64))\n"
     ]
    }
   ],
   "source": [
    "#binary = True for binary classification, binary = False for multi-class classification\n",
    "X_train, X_val, X_test, y_train, y_val, y_test, tim_steps, n_feats, count_of_classes, a_encoder = Flare_Data.getAllData(binary = False)"
   ]
  },
  {
   "cell_type": "code",
   "execution_count": 7,
   "metadata": {},
   "outputs": [
    {
     "name": "stdout",
     "output_type": "stream",
     "text": [
      "(300, 114, 20) (75, 114, 20) (94, 114, 20) (300, 3) (75, 3) (94, 3)\n"
     ]
    }
   ],
   "source": [
    "print(X_train.shape, X_val.shape, X_test.shape, y_train.shape, y_val.shape, y_test.shape)"
   ]
  },
  {
   "cell_type": "code",
   "execution_count": 8,
   "metadata": {},
   "outputs": [],
   "source": [
    "#~~~~~~~~~~~~~~~~~~~~~~~~~~~~~~~~~~~~~~~~~~~~~~~~~~~~~~~~~~~~~~~~~~~~~~~~~~~~~~~~~~~~~~~~~~~~~~~~~~~~~~~~~~~#\n",
    "#~~~~~~~~~~~~~~~~~~~~~~~~~~~~~~~~~~~~~~~~~~~~~~~~~~~~~~~~~~~~~~~~~~~~~~~~~~~~~~~~~~~~~~~~~~~~~~~~~~~~~~~~~~~#"
   ]
  },
  {
   "cell_type": "code",
   "execution_count": 9,
   "metadata": {},
   "outputs": [],
   "source": [
    "batch_size = 10\n",
    "epochs = 100\n",
    "optimizer = Adam(lr=0.0001, beta_1=0.9, beta_2=0.999, epsilon=1e-06, decay=0.0)"
   ]
  },
  {
   "cell_type": "code",
   "execution_count": 10,
   "metadata": {},
   "outputs": [],
   "source": [
    "#~~~~~~~~~~~~~~~~~~~~~~~~~~~~~~~~~~~~~~~~[LSTM_4 Model]~~~~~~~~~~~~~~~~~~~~~~~~~~~~~~~~~~~~~~~~~~~~~~~~~~~~~#\n",
    "#~~~~~~~~~~~~~~~~~~~~~~~~~~~~~~~~~~~~~~~~[Multi-Class]~~~~~~~~~~~~~~~~~~~~~~~~~~~~~~~~~~~~~~~~~~~~~~~~~~~~~~#\n",
    "#~~~~~~~~~~~~~~~~~~~~~~~~~~~~~~~~~~~~~~~~[Multiple Layers]~~~~~~~~~~~~~~~~~~~~~~~~~~~~~~~~~~~~~~~~~~~~~~~~~~#\n",
    "model = Sequential()\n",
    "model.add(LSTM(20, return_sequences=True, input_shape=(tim_steps, n_feats)))\n",
    "model.add(GaussianNoise(0.01))\n",
    "model.add(Dropout(0.1))\n",
    "model.add(LSTM(10, return_sequences=False))\n",
    "model.add(GaussianNoise(0.01))\n",
    "model.add(Dropout(0.1))\n",
    "model.add(Dense(count_of_classes, activation='softmax'))\n",
    "model.compile(loss='categorical_crossentropy', optimizer=optimizer, metrics=['categorical_accuracy'])\n",
    "#~~~~~~~~~~~~~~~~~~~~~~~~~~~~~~~~~~~~~~~~~~~~~~~~~~~~~~~~~~~~~~~~~~~~~~~~~~~~~~~~~~~~~~~~~~~~~~~~~~~~~~~~~~~#\n",
    "#~~~~~~~~~~~~~~~~~~~~~~~~~~~~~~~~~~~~~~~~~~~~~~~~~~~~~~~~~~~~~~~~~~~~~~~~~~~~~~~~~~~~~~~~~~~~~~~~~~~~~~~~~~~#"
   ]
  },
  {
   "cell_type": "code",
   "execution_count": 11,
   "metadata": {},
   "outputs": [
    {
     "name": "stdout",
     "output_type": "stream",
     "text": [
      "Model: \"sequential\"\n",
      "_________________________________________________________________\n",
      "Layer (type)                 Output Shape              Param #   \n",
      "=================================================================\n",
      "lstm (LSTM)                  (None, 114, 20)           3280      \n",
      "_________________________________________________________________\n",
      "gaussian_noise (GaussianNois (None, 114, 20)           0         \n",
      "_________________________________________________________________\n",
      "dropout (Dropout)            (None, 114, 20)           0         \n",
      "_________________________________________________________________\n",
      "lstm_1 (LSTM)                (None, 10)                1240      \n",
      "_________________________________________________________________\n",
      "gaussian_noise_1 (GaussianNo (None, 10)                0         \n",
      "_________________________________________________________________\n",
      "dropout_1 (Dropout)          (None, 10)                0         \n",
      "_________________________________________________________________\n",
      "dense (Dense)                (None, 3)                 33        \n",
      "=================================================================\n",
      "Total params: 4,553\n",
      "Trainable params: 4,553\n",
      "Non-trainable params: 0\n",
      "_________________________________________________________________\n"
     ]
    }
   ],
   "source": [
    "model.summary()"
   ]
  },
  {
   "cell_type": "code",
   "execution_count": 12,
   "metadata": {},
   "outputs": [],
   "source": [
    "tensorboard_call = keras.callbacks.TensorBoard(log_dir=where_logs, histogram_freq=1)\n",
    "#val_loss_callback = tf.keras.callbacks.EarlyStopping(monitor='val_loss', patience=10)"
   ]
  },
  {
   "cell_type": "code",
   "execution_count": 13,
   "metadata": {},
   "outputs": [
    {
     "name": "stdout",
     "output_type": "stream",
     "text": [
      "Epoch 1/100\n",
      " 1/30 [>.............................] - ETA: 0s - loss: 1.1329 - categorical_accuracy: 0.0000e+00WARNING:tensorflow:From C:\\ProgramData\\Anaconda3\\lib\\site-packages\\tensorflow\\python\\ops\\summary_ops_v2.py:1277: stop (from tensorflow.python.eager.profiler) is deprecated and will be removed after 2020-07-01.\n",
      "Instructions for updating:\n",
      "use `tf.profiler.experimental.stop` instead.\n",
      " 2/30 [=>............................] - ETA: 9s - loss: 1.1402 - categorical_accuracy: 0.0000e+00WARNING:tensorflow:Callbacks method `on_train_batch_end` is slow compared to the batch time (batch time: 0.0430s vs `on_train_batch_end` time: 0.5884s). Check your callbacks.\n",
      "30/30 [==============================] - 6s 187ms/step - loss: 1.1039 - categorical_accuracy: 0.3167 - val_loss: 1.0976 - val_categorical_accuracy: 0.3867\n",
      "Epoch 2/100\n",
      "30/30 [==============================] - 1s 48ms/step - loss: 1.1020 - categorical_accuracy: 0.3500 - val_loss: 1.0970 - val_categorical_accuracy: 0.3733\n",
      "Epoch 3/100\n",
      "30/30 [==============================] - 1s 49ms/step - loss: 1.1011 - categorical_accuracy: 0.3433 - val_loss: 1.0961 - val_categorical_accuracy: 0.3867\n",
      "Epoch 4/100\n",
      "30/30 [==============================] - 1s 45ms/step - loss: 1.1038 - categorical_accuracy: 0.3433 - val_loss: 1.0956 - val_categorical_accuracy: 0.4400\n",
      "Epoch 5/100\n",
      "30/30 [==============================] - 1s 43ms/step - loss: 1.1005 - categorical_accuracy: 0.3333 - val_loss: 1.0949 - val_categorical_accuracy: 0.4400\n",
      "Epoch 6/100\n",
      "30/30 [==============================] - 1s 41ms/step - loss: 1.0996 - categorical_accuracy: 0.3400 - val_loss: 1.0949 - val_categorical_accuracy: 0.4133\n",
      "Epoch 7/100\n",
      "30/30 [==============================] - 1s 44ms/step - loss: 1.0983 - categorical_accuracy: 0.3567 - val_loss: 1.0948 - val_categorical_accuracy: 0.3867\n",
      "Epoch 8/100\n",
      "30/30 [==============================] - 1s 41ms/step - loss: 1.0974 - categorical_accuracy: 0.3400 - val_loss: 1.0949 - val_categorical_accuracy: 0.3600\n",
      "Epoch 9/100\n",
      "30/30 [==============================] - 1s 42ms/step - loss: 1.0978 - categorical_accuracy: 0.3667 - val_loss: 1.0946 - val_categorical_accuracy: 0.3467\n",
      "Epoch 10/100\n",
      "30/30 [==============================] - 1s 45ms/step - loss: 1.1070 - categorical_accuracy: 0.3100 - val_loss: 1.0947 - val_categorical_accuracy: 0.3200\n",
      "Epoch 11/100\n",
      "30/30 [==============================] - 1s 44ms/step - loss: 1.0970 - categorical_accuracy: 0.3733 - val_loss: 1.0946 - val_categorical_accuracy: 0.3867\n",
      "Epoch 12/100\n",
      "30/30 [==============================] - 1s 41ms/step - loss: 1.0948 - categorical_accuracy: 0.3667 - val_loss: 1.0946 - val_categorical_accuracy: 0.3600\n",
      "Epoch 13/100\n",
      "30/30 [==============================] - 1s 40ms/step - loss: 1.0940 - categorical_accuracy: 0.3867 - val_loss: 1.0946 - val_categorical_accuracy: 0.4000\n",
      "Epoch 14/100\n",
      "30/30 [==============================] - 1s 45ms/step - loss: 1.1022 - categorical_accuracy: 0.3367 - val_loss: 1.0946 - val_categorical_accuracy: 0.3467\n",
      "Epoch 15/100\n",
      "30/30 [==============================] - 1s 44ms/step - loss: 1.0981 - categorical_accuracy: 0.3700 - val_loss: 1.0948 - val_categorical_accuracy: 0.3333\n",
      "Epoch 16/100\n",
      "30/30 [==============================] - 1s 45ms/step - loss: 1.0931 - categorical_accuracy: 0.3600 - val_loss: 1.0949 - val_categorical_accuracy: 0.3600\n",
      "Epoch 17/100\n",
      "30/30 [==============================] - 1s 41ms/step - loss: 1.0955 - categorical_accuracy: 0.3867 - val_loss: 1.0952 - val_categorical_accuracy: 0.3733\n",
      "Epoch 18/100\n",
      "30/30 [==============================] - 1s 41ms/step - loss: 1.1037 - categorical_accuracy: 0.3300 - val_loss: 1.0951 - val_categorical_accuracy: 0.3733\n",
      "Epoch 19/100\n",
      "30/30 [==============================] - 1s 44ms/step - loss: 1.0911 - categorical_accuracy: 0.3867 - val_loss: 1.0954 - val_categorical_accuracy: 0.3733\n",
      "Epoch 20/100\n",
      "30/30 [==============================] - 1s 43ms/step - loss: 1.0919 - categorical_accuracy: 0.3833 - val_loss: 1.0958 - val_categorical_accuracy: 0.3733\n",
      "Epoch 21/100\n",
      "30/30 [==============================] - 1s 45ms/step - loss: 1.0940 - categorical_accuracy: 0.3867 - val_loss: 1.0958 - val_categorical_accuracy: 0.3733\n",
      "Epoch 22/100\n",
      "30/30 [==============================] - 1s 44ms/step - loss: 1.0981 - categorical_accuracy: 0.3633 - val_loss: 1.0956 - val_categorical_accuracy: 0.3733\n",
      "Epoch 23/100\n",
      "30/30 [==============================] - 1s 44ms/step - loss: 1.0965 - categorical_accuracy: 0.3467 - val_loss: 1.0960 - val_categorical_accuracy: 0.3867\n",
      "Epoch 24/100\n",
      "30/30 [==============================] - 1s 43ms/step - loss: 1.0932 - categorical_accuracy: 0.3733 - val_loss: 1.0961 - val_categorical_accuracy: 0.3867\n",
      "Epoch 25/100\n",
      "30/30 [==============================] - 1s 40ms/step - loss: 1.0920 - categorical_accuracy: 0.3733 - val_loss: 1.0966 - val_categorical_accuracy: 0.3867\n",
      "Epoch 26/100\n",
      "30/30 [==============================] - 1s 42ms/step - loss: 1.0974 - categorical_accuracy: 0.3767 - val_loss: 1.0967 - val_categorical_accuracy: 0.3600\n",
      "Epoch 27/100\n",
      "30/30 [==============================] - 1s 46ms/step - loss: 1.0940 - categorical_accuracy: 0.3733 - val_loss: 1.0966 - val_categorical_accuracy: 0.3867\n",
      "Epoch 28/100\n",
      "30/30 [==============================] - 1s 41ms/step - loss: 1.0928 - categorical_accuracy: 0.4167 - val_loss: 1.0970 - val_categorical_accuracy: 0.3600\n",
      "Epoch 29/100\n",
      "30/30 [==============================] - 1s 41ms/step - loss: 1.0921 - categorical_accuracy: 0.3833 - val_loss: 1.0971 - val_categorical_accuracy: 0.3733\n",
      "Epoch 30/100\n",
      "30/30 [==============================] - 1s 44ms/step - loss: 1.0933 - categorical_accuracy: 0.3500 - val_loss: 1.0976 - val_categorical_accuracy: 0.3733\n",
      "Epoch 31/100\n",
      "30/30 [==============================] - 1s 44ms/step - loss: 1.0929 - categorical_accuracy: 0.3833 - val_loss: 1.0981 - val_categorical_accuracy: 0.3467\n",
      "Epoch 32/100\n",
      "30/30 [==============================] - 1s 49ms/step - loss: 1.0929 - categorical_accuracy: 0.3933 - val_loss: 1.0984 - val_categorical_accuracy: 0.3333\n",
      "Epoch 33/100\n",
      "30/30 [==============================] - 1s 42ms/step - loss: 1.0860 - categorical_accuracy: 0.4133 - val_loss: 1.0989 - val_categorical_accuracy: 0.3467\n",
      "Epoch 34/100\n",
      "30/30 [==============================] - 1s 42ms/step - loss: 1.0890 - categorical_accuracy: 0.4033 - val_loss: 1.0991 - val_categorical_accuracy: 0.3600\n",
      "Epoch 35/100\n",
      "30/30 [==============================] - 1s 44ms/step - loss: 1.0848 - categorical_accuracy: 0.4400 - val_loss: 1.1000 - val_categorical_accuracy: 0.3333\n",
      "Epoch 36/100\n",
      "30/30 [==============================] - 1s 43ms/step - loss: 1.0899 - categorical_accuracy: 0.3767 - val_loss: 1.1005 - val_categorical_accuracy: 0.3733\n",
      "Epoch 37/100\n",
      "30/30 [==============================] - 1s 43ms/step - loss: 1.0906 - categorical_accuracy: 0.4067 - val_loss: 1.1013 - val_categorical_accuracy: 0.3333\n",
      "Epoch 38/100\n",
      "30/30 [==============================] - 1s 45ms/step - loss: 1.0897 - categorical_accuracy: 0.3833 - val_loss: 1.1020 - val_categorical_accuracy: 0.3600\n",
      "Epoch 39/100\n",
      "30/30 [==============================] - 1s 44ms/step - loss: 1.0824 - categorical_accuracy: 0.4000 - val_loss: 1.1017 - val_categorical_accuracy: 0.4000\n",
      "Epoch 40/100\n",
      "30/30 [==============================] - 1s 43ms/step - loss: 1.0870 - categorical_accuracy: 0.3800 - val_loss: 1.1023 - val_categorical_accuracy: 0.3600\n",
      "Epoch 41/100\n",
      "30/30 [==============================] - 1s 41ms/step - loss: 1.0811 - categorical_accuracy: 0.4200 - val_loss: 1.1036 - val_categorical_accuracy: 0.3600\n",
      "Epoch 42/100\n",
      "30/30 [==============================] - 1s 47ms/step - loss: 1.0870 - categorical_accuracy: 0.3600 - val_loss: 1.1036 - val_categorical_accuracy: 0.3600\n",
      "Epoch 43/100\n",
      "30/30 [==============================] - 1s 48ms/step - loss: 1.0839 - categorical_accuracy: 0.4133 - val_loss: 1.1039 - val_categorical_accuracy: 0.3600\n",
      "Epoch 44/100\n",
      "30/30 [==============================] - 1s 46ms/step - loss: 1.0891 - categorical_accuracy: 0.3867 - val_loss: 1.1047 - val_categorical_accuracy: 0.3733\n",
      "Epoch 45/100\n",
      "30/30 [==============================] - 1s 44ms/step - loss: 1.0825 - categorical_accuracy: 0.4167 - val_loss: 1.1059 - val_categorical_accuracy: 0.4133\n",
      "Epoch 46/100\n"
     ]
    },
    {
     "name": "stdout",
     "output_type": "stream",
     "text": [
      "30/30 [==============================] - 1s 42ms/step - loss: 1.0865 - categorical_accuracy: 0.3900 - val_loss: 1.1059 - val_categorical_accuracy: 0.3600\n",
      "Epoch 47/100\n",
      "30/30 [==============================] - 1s 45ms/step - loss: 1.0817 - categorical_accuracy: 0.3900 - val_loss: 1.1061 - val_categorical_accuracy: 0.3733\n",
      "Epoch 48/100\n",
      "30/30 [==============================] - 1s 44ms/step - loss: 1.0782 - categorical_accuracy: 0.4300 - val_loss: 1.1074 - val_categorical_accuracy: 0.4000\n",
      "Epoch 49/100\n",
      "30/30 [==============================] - 2s 50ms/step - loss: 1.0728 - categorical_accuracy: 0.4100 - val_loss: 1.1080 - val_categorical_accuracy: 0.3733\n",
      "Epoch 50/100\n",
      "30/30 [==============================] - 1s 44ms/step - loss: 1.0766 - categorical_accuracy: 0.4100 - val_loss: 1.1091 - val_categorical_accuracy: 0.3600\n",
      "Epoch 51/100\n",
      "30/30 [==============================] - 1s 48ms/step - loss: 1.0759 - categorical_accuracy: 0.3733 - val_loss: 1.1100 - val_categorical_accuracy: 0.3600\n",
      "Epoch 52/100\n",
      "30/30 [==============================] - 1s 48ms/step - loss: 1.0735 - categorical_accuracy: 0.4367 - val_loss: 1.1102 - val_categorical_accuracy: 0.3733\n",
      "Epoch 53/100\n",
      "30/30 [==============================] - 1s 47ms/step - loss: 1.0752 - categorical_accuracy: 0.4100 - val_loss: 1.1102 - val_categorical_accuracy: 0.3600\n",
      "Epoch 54/100\n",
      "30/30 [==============================] - 1s 48ms/step - loss: 1.0807 - categorical_accuracy: 0.4133 - val_loss: 1.1106 - val_categorical_accuracy: 0.3733\n",
      "Epoch 55/100\n",
      "30/30 [==============================] - 1s 46ms/step - loss: 1.0763 - categorical_accuracy: 0.4067 - val_loss: 1.1110 - val_categorical_accuracy: 0.4000\n",
      "Epoch 56/100\n",
      "30/30 [==============================] - 1s 45ms/step - loss: 1.0789 - categorical_accuracy: 0.4200 - val_loss: 1.1120 - val_categorical_accuracy: 0.3467\n",
      "Epoch 57/100\n",
      "30/30 [==============================] - 1s 46ms/step - loss: 1.0701 - categorical_accuracy: 0.4133 - val_loss: 1.1115 - val_categorical_accuracy: 0.4000\n",
      "Epoch 58/100\n",
      "30/30 [==============================] - 1s 43ms/step - loss: 1.0746 - categorical_accuracy: 0.4433 - val_loss: 1.1122 - val_categorical_accuracy: 0.4000\n",
      "Epoch 59/100\n",
      "30/30 [==============================] - 1s 42ms/step - loss: 1.0732 - categorical_accuracy: 0.4333 - val_loss: 1.1140 - val_categorical_accuracy: 0.3467\n",
      "Epoch 60/100\n",
      "30/30 [==============================] - 1s 45ms/step - loss: 1.0726 - categorical_accuracy: 0.3967 - val_loss: 1.1137 - val_categorical_accuracy: 0.3600\n",
      "Epoch 61/100\n",
      "30/30 [==============================] - 1s 44ms/step - loss: 1.0673 - categorical_accuracy: 0.4267 - val_loss: 1.1146 - val_categorical_accuracy: 0.3467\n",
      "Epoch 62/100\n",
      "30/30 [==============================] - 1s 48ms/step - loss: 1.0735 - categorical_accuracy: 0.4133 - val_loss: 1.1149 - val_categorical_accuracy: 0.3867\n",
      "Epoch 63/100\n",
      "30/30 [==============================] - 1s 46ms/step - loss: 1.0614 - categorical_accuracy: 0.4500 - val_loss: 1.1158 - val_categorical_accuracy: 0.3467\n",
      "Epoch 64/100\n",
      "30/30 [==============================] - 2s 50ms/step - loss: 1.0622 - categorical_accuracy: 0.4133 - val_loss: 1.1154 - val_categorical_accuracy: 0.3733\n",
      "Epoch 65/100\n",
      "30/30 [==============================] - 1s 47ms/step - loss: 1.0675 - categorical_accuracy: 0.4433 - val_loss: 1.1163 - val_categorical_accuracy: 0.3733\n",
      "Epoch 66/100\n",
      "30/30 [==============================] - 1s 49ms/step - loss: 1.0703 - categorical_accuracy: 0.4500 - val_loss: 1.1169 - val_categorical_accuracy: 0.4133\n",
      "Epoch 67/100\n",
      "30/30 [==============================] - 1s 50ms/step - loss: 1.0652 - categorical_accuracy: 0.4233 - val_loss: 1.1192 - val_categorical_accuracy: 0.3600\n",
      "Epoch 68/100\n",
      "30/30 [==============================] - 1s 47ms/step - loss: 1.0708 - categorical_accuracy: 0.4167 - val_loss: 1.1166 - val_categorical_accuracy: 0.3867\n",
      "Epoch 69/100\n",
      "30/30 [==============================] - 2s 51ms/step - loss: 1.0658 - categorical_accuracy: 0.4433 - val_loss: 1.1177 - val_categorical_accuracy: 0.3733\n",
      "Epoch 70/100\n",
      "30/30 [==============================] - 1s 44ms/step - loss: 1.0585 - categorical_accuracy: 0.4667 - val_loss: 1.1191 - val_categorical_accuracy: 0.3600\n",
      "Epoch 71/100\n",
      "30/30 [==============================] - 1s 45ms/step - loss: 1.0709 - categorical_accuracy: 0.4467 - val_loss: 1.1189 - val_categorical_accuracy: 0.3867\n",
      "Epoch 72/100\n",
      "30/30 [==============================] - 1s 49ms/step - loss: 1.0615 - categorical_accuracy: 0.4233 - val_loss: 1.1227 - val_categorical_accuracy: 0.3200\n",
      "Epoch 73/100\n",
      "30/30 [==============================] - 1s 49ms/step - loss: 1.0590 - categorical_accuracy: 0.4433 - val_loss: 1.1206 - val_categorical_accuracy: 0.4133\n",
      "Epoch 74/100\n",
      "30/30 [==============================] - 1s 46ms/step - loss: 1.0582 - categorical_accuracy: 0.4500 - val_loss: 1.1224 - val_categorical_accuracy: 0.4133\n",
      "Epoch 75/100\n",
      "30/30 [==============================] - 1s 49ms/step - loss: 1.0580 - categorical_accuracy: 0.4700 - val_loss: 1.1253 - val_categorical_accuracy: 0.3333\n",
      "Epoch 76/100\n",
      "30/30 [==============================] - 1s 47ms/step - loss: 1.0494 - categorical_accuracy: 0.4367 - val_loss: 1.1226 - val_categorical_accuracy: 0.3867\n",
      "Epoch 77/100\n",
      "30/30 [==============================] - 1s 48ms/step - loss: 1.0622 - categorical_accuracy: 0.4267 - val_loss: 1.1231 - val_categorical_accuracy: 0.4000\n",
      "Epoch 78/100\n",
      "30/30 [==============================] - 1s 47ms/step - loss: 1.0545 - categorical_accuracy: 0.4300 - val_loss: 1.1256 - val_categorical_accuracy: 0.3733\n",
      "Epoch 79/100\n",
      "30/30 [==============================] - 1s 43ms/step - loss: 1.0640 - categorical_accuracy: 0.4600 - val_loss: 1.1243 - val_categorical_accuracy: 0.3733\n",
      "Epoch 80/100\n",
      "30/30 [==============================] - 1s 49ms/step - loss: 1.0489 - categorical_accuracy: 0.4467 - val_loss: 1.1261 - val_categorical_accuracy: 0.3600\n",
      "Epoch 81/100\n",
      "30/30 [==============================] - 2s 50ms/step - loss: 1.0594 - categorical_accuracy: 0.4433 - val_loss: 1.1289 - val_categorical_accuracy: 0.3200\n",
      "Epoch 82/100\n",
      "30/30 [==============================] - 1s 46ms/step - loss: 1.0424 - categorical_accuracy: 0.4667 - val_loss: 1.1311 - val_categorical_accuracy: 0.3333\n",
      "Epoch 83/100\n",
      "30/30 [==============================] - 1s 45ms/step - loss: 1.0411 - categorical_accuracy: 0.4867 - val_loss: 1.1353 - val_categorical_accuracy: 0.3333\n",
      "Epoch 84/100\n",
      "30/30 [==============================] - 1s 43ms/step - loss: 1.0402 - categorical_accuracy: 0.4633 - val_loss: 1.1337 - val_categorical_accuracy: 0.3467\n",
      "Epoch 85/100\n",
      "30/30 [==============================] - 1s 44ms/step - loss: 1.0504 - categorical_accuracy: 0.4400 - val_loss: 1.1347 - val_categorical_accuracy: 0.3467\n",
      "Epoch 86/100\n",
      "30/30 [==============================] - 1s 42ms/step - loss: 1.0484 - categorical_accuracy: 0.4533 - val_loss: 1.1392 - val_categorical_accuracy: 0.3467\n",
      "Epoch 87/100\n",
      "30/30 [==============================] - 1s 49ms/step - loss: 1.0474 - categorical_accuracy: 0.4467 - val_loss: 1.1400 - val_categorical_accuracy: 0.3467\n",
      "Epoch 88/100\n",
      "30/30 [==============================] - 1s 45ms/step - loss: 1.0422 - categorical_accuracy: 0.4633 - val_loss: 1.1395 - val_categorical_accuracy: 0.3467\n",
      "Epoch 89/100\n",
      "30/30 [==============================] - 1s 44ms/step - loss: 1.0469 - categorical_accuracy: 0.4500 - val_loss: 1.1436 - val_categorical_accuracy: 0.3467\n",
      "Epoch 90/100\n",
      "30/30 [==============================] - 1s 41ms/step - loss: 1.0443 - categorical_accuracy: 0.4600 - val_loss: 1.1432 - val_categorical_accuracy: 0.3467\n",
      "Epoch 91/100\n",
      "30/30 [==============================] - 1s 42ms/step - loss: 1.0349 - categorical_accuracy: 0.4700 - val_loss: 1.1433 - val_categorical_accuracy: 0.3333\n",
      "Epoch 92/100\n",
      "30/30 [==============================] - 1s 41ms/step - loss: 1.0427 - categorical_accuracy: 0.4233 - val_loss: 1.1496 - val_categorical_accuracy: 0.3733\n",
      "Epoch 93/100\n",
      "30/30 [==============================] - 1s 40ms/step - loss: 1.0366 - categorical_accuracy: 0.4767 - val_loss: 1.1452 - val_categorical_accuracy: 0.3467\n",
      "Epoch 94/100\n",
      "30/30 [==============================] - 1s 43ms/step - loss: 1.0417 - categorical_accuracy: 0.4367 - val_loss: 1.1532 - val_categorical_accuracy: 0.3600\n",
      "Epoch 95/100\n"
     ]
    },
    {
     "name": "stdout",
     "output_type": "stream",
     "text": [
      "30/30 [==============================] - 1s 44ms/step - loss: 1.0392 - categorical_accuracy: 0.4533 - val_loss: 1.1463 - val_categorical_accuracy: 0.3733\n",
      "Epoch 96/100\n",
      "30/30 [==============================] - 1s 40ms/step - loss: 1.0252 - categorical_accuracy: 0.4800 - val_loss: 1.1541 - val_categorical_accuracy: 0.3600\n",
      "Epoch 97/100\n",
      "30/30 [==============================] - 1s 38ms/step - loss: 1.0448 - categorical_accuracy: 0.4500 - val_loss: 1.1602 - val_categorical_accuracy: 0.3733\n",
      "Epoch 98/100\n",
      "30/30 [==============================] - 1s 40ms/step - loss: 1.0326 - categorical_accuracy: 0.4867 - val_loss: 1.1470 - val_categorical_accuracy: 0.3867\n",
      "Epoch 99/100\n",
      "30/30 [==============================] - 1s 39ms/step - loss: 1.0406 - categorical_accuracy: 0.4567 - val_loss: 1.1496 - val_categorical_accuracy: 0.4000\n",
      "Epoch 100/100\n",
      "30/30 [==============================] - 1s 39ms/step - loss: 1.0466 - categorical_accuracy: 0.4767 - val_loss: 1.1438 - val_categorical_accuracy: 0.3733\n"
     ]
    }
   ],
   "source": [
    "history = model.fit(X_train, y_train, \n",
    "                    batch_size=batch_size, \n",
    "                    epochs=epochs, \n",
    "                    validation_data=(X_val, y_val), \n",
    "                    verbose=1, \n",
    "                    callbacks=[tensorboard_call]) #, val_loss_callback])"
   ]
  },
  {
   "cell_type": "code",
   "execution_count": 14,
   "metadata": {},
   "outputs": [
    {
     "name": "stdout",
     "output_type": "stream",
     "text": [
      "94/94 [==============================] - 1s 8ms/step - loss: 1.1373 - categorical_accuracy: 0.3298\n",
      "test loss, test acc: [1.137316346168518, 0.3297872245311737]\n"
     ]
    }
   ],
   "source": [
    "#evaluate model on test set\n",
    "results = model.evaluate(X_test, y_test, batch_size=1, verbose=1)\n",
    "print(\"test loss, test acc:\", results)"
   ]
  },
  {
   "cell_type": "code",
   "execution_count": 15,
   "metadata": {},
   "outputs": [
    {
     "data": {
      "image/png": "[encoded data removed]",
      "text/plain": [
       "<Figure size 432x288 with 1 Axes>"
      ]
     },
     "metadata": {
      "needs_background": "light"
     },
     "output_type": "display_data"
    }
   ],
   "source": [
    "#summarize history for accuracy\n",
    "plt.plot(history.history[(list(history.history.keys())[1])])\n",
    "plt.plot(history.history[(list(history.history.keys())[3])])\n",
    "plt.title('model accuracy')\n",
    "plt.ylabel('accuracy')\n",
    "plt.xlabel('epoch')\n",
    "plt.legend(['train', 'val'], loc='upper left')\n",
    "plt.show()"
   ]
  },
  {
   "cell_type": "code",
   "execution_count": 16,
   "metadata": {},
   "outputs": [
    {
     "data": {
      "image/png": "[encoded data removed]",
      "text/plain": [
       "<Figure size 432x288 with 1 Axes>"
      ]
     },
     "metadata": {
      "needs_background": "light"
     },
     "output_type": "display_data"
    }
   ],
   "source": [
    "#summarize history for loss\n",
    "plt.plot(history.history[(list(history.history.keys())[0])])\n",
    "plt.plot(history.history[(list(history.history.keys())[2])])\n",
    "plt.title('model loss')\n",
    "plt.ylabel('loss')\n",
    "plt.xlabel('epoch')\n",
    "plt.legend(['train', 'val'], loc='upper left')\n",
    "plt.show()"
   ]
  },
  {
   "cell_type": "code",
   "execution_count": 17,
   "metadata": {},
   "outputs": [
    {
     "name": "stdout",
     "output_type": "stream",
     "text": [
      "predictions: [[0.31856725 0.40770498 0.27372783]\n",
      " [0.25321144 0.26928312 0.47750542]\n",
      " [0.21227123 0.2867972  0.5009316 ]\n",
      " [0.26369074 0.25622892 0.48008028]\n",
      " [0.5155193  0.23720716 0.2472736 ]\n",
      " [0.2416226  0.29740056 0.46097687]\n",
      " [0.33576927 0.28654614 0.37768462]\n",
      " [0.5363167  0.23753673 0.22614655]\n",
      " [0.47640955 0.22996187 0.29362863]\n",
      " [0.3838107  0.36143947 0.25474983]\n",
      " [0.44115525 0.24537861 0.31346616]\n",
      " [0.43162555 0.23466134 0.3337131 ]\n",
      " [0.393113   0.41484377 0.19204323]\n",
      " [0.39754274 0.3952331  0.20722419]\n",
      " [0.2878376  0.34113935 0.37102303]\n",
      " [0.39247668 0.31028277 0.29724059]\n",
      " [0.19545223 0.35755438 0.4469934 ]\n",
      " [0.18685526 0.33381155 0.47933313]\n",
      " [0.5014664  0.21719924 0.2813344 ]\n",
      " [0.3204362  0.2890814  0.39048234]\n",
      " [0.32797107 0.41940558 0.25262338]\n",
      " [0.47917718 0.32397997 0.19684286]\n",
      " [0.20311926 0.2674467  0.529434  ]\n",
      " [0.2851671  0.25949788 0.45533502]\n",
      " [0.29345042 0.27599967 0.43054995]\n",
      " [0.4191069  0.31554553 0.26534757]\n",
      " [0.5861239  0.26824152 0.14563458]\n",
      " [0.175123   0.35744274 0.4674342 ]\n",
      " [0.38676268 0.4141005  0.19913675]\n",
      " [0.42013475 0.3315309  0.24833433]\n",
      " [0.33075863 0.42256176 0.24667954]\n",
      " [0.31193957 0.33133712 0.3567233 ]\n",
      " [0.14296336 0.32027718 0.53675944]\n",
      " [0.45724097 0.29172406 0.25103495]\n",
      " [0.15485403 0.30844805 0.536698  ]\n",
      " [0.31610352 0.4043373  0.2795591 ]\n",
      " [0.56588244 0.21878558 0.21533203]\n",
      " [0.42791134 0.2613433  0.31074533]\n",
      " [0.476337   0.29276618 0.2308968 ]\n",
      " [0.4170538  0.2800015  0.3029448 ]\n",
      " [0.43345806 0.24991627 0.31662565]\n",
      " [0.281584   0.32514337 0.3932727 ]\n",
      " [0.26943988 0.404505   0.3260551 ]\n",
      " [0.32993454 0.3557452  0.3143204 ]\n",
      " [0.30374664 0.39806315 0.2981902 ]\n",
      " [0.23847151 0.2784006  0.48312792]\n",
      " [0.25391585 0.25917655 0.4869076 ]\n",
      " [0.15476978 0.30672836 0.5385019 ]\n",
      " [0.49586573 0.23844813 0.2656861 ]\n",
      " [0.3048976  0.40907001 0.28603238]\n",
      " [0.39988592 0.2876657  0.31244832]\n",
      " [0.32980058 0.27137053 0.3988288 ]\n",
      " [0.603834   0.25635225 0.13981378]\n",
      " [0.16392027 0.33825812 0.4978217 ]\n",
      " [0.29156736 0.2957308  0.4127018 ]\n",
      " [0.24816686 0.26744157 0.48439157]\n",
      " [0.34568417 0.40370074 0.2506151 ]\n",
      " [0.37838668 0.39567593 0.22593743]\n",
      " [0.17017435 0.3735304  0.45629522]\n",
      " [0.37241828 0.34599048 0.28159118]\n",
      " [0.33036196 0.431269   0.23836909]\n",
      " [0.36544907 0.24817184 0.38637906]\n",
      " [0.32035264 0.38302827 0.2966191 ]\n",
      " [0.5536883  0.21881007 0.2275016 ]\n",
      " [0.3754828  0.29610893 0.32840827]\n",
      " [0.28515288 0.4204714  0.29437566]\n",
      " [0.23984152 0.2910352  0.4691232 ]\n",
      " [0.2636802  0.25270864 0.48361123]\n",
      " [0.45863903 0.23678897 0.304572  ]\n",
      " [0.3690096  0.3819748  0.24901552]\n",
      " [0.31921056 0.3440393  0.33675018]\n",
      " [0.22553249 0.28405723 0.49041027]\n",
      " [0.5190947  0.27574727 0.20515804]\n",
      " [0.34693596 0.31379372 0.33927035]\n",
      " [0.43161303 0.26838535 0.30000162]\n",
      " [0.23935764 0.32992133 0.43072107]\n",
      " [0.55016875 0.25279686 0.19703445]\n",
      " [0.44985998 0.2657368  0.28440326]\n",
      " [0.15952775 0.32934892 0.51112336]\n",
      " [0.30860564 0.3875288  0.30386555]\n",
      " [0.376636   0.40819302 0.21517105]\n",
      " [0.23257495 0.29427445 0.47315058]\n",
      " [0.46818802 0.29902437 0.23278764]\n",
      " [0.21202302 0.30366054 0.48431647]\n",
      " [0.25964355 0.2984156  0.44194084]\n",
      " [0.18998888 0.31355497 0.49645618]\n",
      " [0.40099895 0.392036   0.20696504]\n",
      " [0.1470781  0.31155834 0.54136354]\n",
      " [0.3776923  0.28868574 0.33362198]\n",
      " [0.391203   0.29671034 0.3120867 ]\n",
      " [0.24825442 0.28298712 0.46875852]\n",
      " [0.32605097 0.3888527  0.28509635]\n",
      " [0.21191896 0.30263263 0.48544836]\n",
      " [0.19140524 0.33549362 0.47310117]]\n"
     ]
    }
   ],
   "source": [
    "#generate predictions\n",
    "predictions = model.predict(X_test)\n",
    "print(\"predictions:\", predictions)"
   ]
  },
  {
   "cell_type": "code",
   "execution_count": 18,
   "metadata": {},
   "outputs": [
    {
     "name": "stdout",
     "output_type": "stream",
     "text": [
      "['C' 'M' 'M' 'M' 'B' 'M' 'M' 'B' 'B' 'B' 'B' 'B' 'C' 'B' 'M' 'B' 'M' 'M'\n",
      " 'B' 'M' 'C' 'B' 'M' 'M' 'M' 'B' 'B' 'M' 'C' 'B' 'C' 'M' 'M' 'B' 'M' 'C'\n",
      " 'B' 'B' 'B' 'B' 'B' 'M' 'C' 'C' 'C' 'M' 'M' 'M' 'B' 'C' 'B' 'M' 'B' 'M'\n",
      " 'M' 'M' 'C' 'C' 'M' 'B' 'C' 'M' 'C' 'B' 'B' 'C' 'M' 'M' 'B' 'C' 'C' 'M'\n",
      " 'B' 'B' 'B' 'M' 'B' 'B' 'M' 'C' 'C' 'M' 'B' 'M' 'M' 'M' 'B' 'M' 'B' 'B'\n",
      " 'M' 'C' 'M' 'M']\n"
     ]
    }
   ],
   "source": [
    "#remove encoding\n",
    "real_predictions_B = a_encoder.inverse_transform(predictions)\n",
    "print(real_predictions_B)"
   ]
  },
  {
   "cell_type": "code",
   "execution_count": 19,
   "metadata": {},
   "outputs": [
    {
     "data": {
      "text/plain": [
       "{'B': 35, 'C': 20, 'M': 39}"
      ]
     },
     "execution_count": 19,
     "metadata": {},
     "output_type": "execute_result"
    }
   ],
   "source": [
    "#prediction counts\n",
    "unique, counts = np.unique(real_predictions_B, return_counts=True)\n",
    "dict(zip(unique, counts))"
   ]
  },
  {
   "cell_type": "code",
   "execution_count": 20,
   "metadata": {},
   "outputs": [
    {
     "name": "stdout",
     "output_type": "stream",
     "text": [
      "['C' 'C' 'C' 'M' 'B' 'M' 'B' 'C' 'B' 'M' 'B' 'B' 'M' 'M' 'C' 'C' 'B' 'B'\n",
      " 'C' 'B' 'M' 'C' 'B' 'M' 'B' 'B' 'C' 'C' 'M' 'B' 'B' 'M' 'M' 'C' 'M' 'M'\n",
      " 'M' 'M' 'M' 'M' 'B' 'B' 'B' 'B' 'C' 'B' 'M' 'B' 'M' 'C' 'B' 'M' 'B' 'C'\n",
      " 'C' 'M' 'C' 'C' 'C' 'B' 'M' 'C' 'B' 'M' 'C' 'B' 'B' 'M' 'M' 'M' 'B' 'C'\n",
      " 'B' 'C' 'M' 'C' 'C' 'C' 'C' 'B' 'M' 'M' 'B' 'B' 'C' 'M' 'C' 'C' 'M' 'B'\n",
      " 'B' 'B' 'B' 'M']\n"
     ]
    }
   ],
   "source": [
    "#y_test predictions\n",
    "ytest_predictions = a_encoder.inverse_transform(y_test)\n",
    "print(ytest_predictions)"
   ]
  },
  {
   "cell_type": "code",
   "execution_count": 21,
   "metadata": {},
   "outputs": [
    {
     "data": {
      "text/plain": [
       "{'B': 34, 'C': 29, 'M': 31}"
      ]
     },
     "execution_count": 21,
     "metadata": {},
     "output_type": "execute_result"
    }
   ],
   "source": [
    "#real count\n",
    "unique, counts = np.unique(ytest_predictions, return_counts=True)\n",
    "dict(zip(unique, counts))"
   ]
  },
  {
   "cell_type": "code",
   "execution_count": 22,
   "metadata": {},
   "outputs": [
    {
     "data": {
      "image/png": "[encoded data removed]",
      "text/plain": [
       "<Figure size 432x288 with 2 Axes>"
      ]
     },
     "metadata": {
      "needs_background": "light"
     },
     "output_type": "display_data"
    }
   ],
   "source": [
    "#confusion matrix\n",
    "matrix = confusion_matrix(ytest_predictions, real_predictions_B)\n",
    "#format confusion matrix\n",
    "ax=plt.subplot()\n",
    "sns.heatmap(matrix, annot=True, ax = ax, cmap='Oranges', fmt='g');\n",
    "accuracy = np.trace(matrix) / np.sum(matrix).astype('float')\n",
    "misclass = 1 - accuracy\n",
    "ax.set_xlabel('Predicted label\\naccuracy={:0.4f}; misclass={:0.4f}'.format(accuracy, misclass));\n",
    "ax.set_ylabel('True labels'); \n",
    "ax.set_title('Confusion Matrix');\n",
    "ax.xaxis.set_ticklabels(unique); ax.yaxis.set_ticklabels(unique);"
   ]
  },
  {
   "cell_type": "code",
   "execution_count": 23,
   "metadata": {},
   "outputs": [
    {
     "name": "stdout",
     "output_type": "stream",
     "text": [
      "              precision    recall  f1-score   support\n",
      "\n",
      "           B       0.37      0.38      0.38        34\n",
      "           C       0.25      0.17      0.20        29\n",
      "           M       0.33      0.42      0.37        31\n",
      "\n",
      "    accuracy                           0.33        94\n",
      "   macro avg       0.32      0.32      0.32        94\n",
      "weighted avg       0.32      0.33      0.32        94\n",
      "\n"
     ]
    }
   ],
   "source": [
    "print(classification_report(ytest_predictions, real_predictions_B))"
   ]
  },
  {
   "cell_type": "code",
   "execution_count": 24,
   "metadata": {},
   "outputs": [
    {
     "name": "stdout",
     "output_type": "stream",
     "text": [
      "precision score:0.3183\n",
      "recall score:0.3247\n",
      "f1 score:0.3174\n"
     ]
    }
   ],
   "source": [
    "#macro - calculate metrics for each label, and find their unweighted mean\n",
    "pre_score = precision_score(ytest_predictions, real_predictions_B, average = \"macro\")\n",
    "print('precision score:{:0.4f}'.format(pre_score))\n",
    "recall_score_1 = recall_score(ytest_predictions, real_predictions_B, average= \"macro\")\n",
    "print('recall score:{:0.4f}'.format(recall_score_1))\n",
    "f1_score_1 = f1_score(ytest_predictions, real_predictions_B, average=\"macro\")\n",
    "print('f1 score:{:0.4f}'.format(f1_score_1))"
   ]
  }
 ],
 "metadata": {
  "kernelspec": {
   "display_name": "Python 3",
   "language": "python",
   "name": "python3"
  },
  "language_info": {
   "codemirror_mode": {
    "name": "ipython",
    "version": 3
   },
   "file_extension": ".py",
   "mimetype": "text/x-python",
   "name": "python",
   "nbconvert_exporter": "python",
   "pygments_lexer": "ipython3",
   "version": "3.8.3"
  }
 },
 "nbformat": 4,
 "nbformat_minor": 4
}
