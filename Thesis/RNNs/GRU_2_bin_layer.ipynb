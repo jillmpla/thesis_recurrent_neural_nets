{
 "cells": [
  {
   "cell_type": "code",
   "execution_count": 1,
   "metadata": {},
   "outputs": [],
   "source": [
    "#tensorboard via command-line:\n",
    "#tensorboard --logdir=where your Logs directory is"
   ]
  },
  {
   "cell_type": "code",
   "execution_count": 2,
   "metadata": {},
   "outputs": [],
   "source": [
    "#~~~~~~~~~~~~~~~~~~~~~~~~~~~~~~~~~~~~~~~~~~~~~~~~~~~~~~~~~~~~~~~~~~~~~~~~~~~~~~~~~~~~~~~~~~~~~~~~~~~~~~~#\n",
    "#Predict whether or not a flare will occur in the next 24hrs after a 24hr time sequence, per monitored AR.\n",
    "#~~~~~~~~~~~~~~~~~~~~~~~~~~~~~~~~~~~~~~~~~~~~~~~~~~~~~~~~~~~~~~~~~~~~~~~~~~~~~~~~~~~~~~~~~~~~~~~~~~~~~~~#\n",
    "#feature data from - hmi.sharp_720s:::\n",
    "#http://jsoc.stanford.edu/doc/data/hmi/sharp/sharp.htm\n",
    "\n",
    "#label data from - GOES flare events:::\n",
    "#ftp://ftp.swpc.noaa.gov/pub/warehouse/\n",
    "\n",
    "#and from - GOES XRS Report:::\n",
    "#https://www.ngdc.noaa.gov/stp/space-weather/solar-data/solar-features/solar-flares/x-rays/goes/xrs/\n",
    "#~~~~~~~~~~~~~~~~~~~~~~~~~~~~~~~~~~~~~~~~~~~~~~~~~~~~~~~~~~~~~~~~~~~~~~~~~~~~~~~~~~~~~~~~~~~~~~~~~~~~~~~#\n",
    "#binary class - F for flare and N for no flare\n",
    "#multi-class - #6 flare classes: N is no flare, A is smallest, X is largest\n",
    "               #key = {'N', 'A', 'B', 'C', 'M', 'X'}\n",
    "               #['A' class flares generally not listed in official reports due to small size]\n",
    "#~~~~~~~~~~~~~~~~~~~~~~~~~~~~~~~~~~~~~~~~~~~~~~~~~~~~~~~~~~~~~~~~~~~~~~~~~~~~~~~~~~~~~~~~~~~~~~~~~~~~~~~#"
   ]
  },
  {
   "cell_type": "code",
   "execution_count": 3,
   "metadata": {},
   "outputs": [
    {
     "name": "stdout",
     "output_type": "stream",
     "text": [
      "tensorflow version: 2.3.1\n"
     ]
    }
   ],
   "source": [
    "import tensorflow as tf\n",
    "print(\"tensorflow version:\", tf.__version__) #2.3.1 used\n",
    "from tensorflow import keras\n",
    "import os\n",
    "import glob\n",
    "import shutil\n",
    "import datetime\n",
    "import numpy as np\n",
    "import pandas as pd\n",
    "import seaborn as sns\n",
    "from pathlib import Path\n",
    "from astropy.time import Time\n",
    "from matplotlib import pyplot as plt\n",
    "from sklearn.metrics import f1_score, precision_score, recall_score, classification_report, confusion_matrix\n",
    "from sklearn.metrics import plot_confusion_matrix\n",
    "from sklearn.preprocessing import LabelBinarizer\n",
    "from sklearn.model_selection import train_test_split\n",
    "from sklearn.preprocessing import MinMaxScaler\n",
    "from tensorflow.keras.layers import Dropout, Dense, SimpleRNN, LSTM, GRU, GaussianNoise\n",
    "from tensorflow.keras.models import Model, Sequential\n",
    "from tensorflow.keras.optimizers import SGD, RMSprop, Adam\n",
    "import drms #https://pypi.org/project/drms/\n",
    "#~~~~~~~~~~~~~~~~~~~~~~~~~~~~~~~~~~~~~~~~~~~~~~~~~~~~~~~~~~~~~~~~~~~~~~~~~~~~~~~~~~~~~~~~~~~~~~~~~~~~~~~#\n",
    "import Flare_Data\n",
    "import Feature_Years\n",
    "import Make_TB_Logs\n",
    "#~~~~~~~~~~~~~~~~~~~~~~~~~~~~~~~~~~~~~~~~~~~~~~~~~~~~~~~~~~~~~~~~~~~~~~~~~~~~~~~~~~~~~~~~~~~~~~~~~~~~~~~#"
   ]
  },
  {
   "cell_type": "code",
   "execution_count": 4,
   "metadata": {},
   "outputs": [
    {
     "name": "stdout",
     "output_type": "stream",
     "text": [
      "CSVs compiled.\n"
     ]
    }
   ],
   "source": [
    "Feature_Years.generate_all_feature_years()"
   ]
  },
  {
   "cell_type": "code",
   "execution_count": 5,
   "metadata": {},
   "outputs": [],
   "source": [
    "where_logs = Make_TB_Logs.make_clear_tensorboard_folder()"
   ]
  },
  {
   "cell_type": "code",
   "execution_count": 6,
   "metadata": {},
   "outputs": [
    {
     "name": "stdout",
     "output_type": "stream",
     "text": [
      "The time series starts from:  2011-01-01 00:11:26\n",
      "The time series ends on:  2016-12-31 23:47:24\n",
      "(array(['F', 'N'], dtype='<U1'), array([741, 729], dtype=int64))\n"
     ]
    }
   ],
   "source": [
    "#binary = True for binary classification, binary = False for multi-class classification\n",
    "X_train, X_val, X_test, y_train, y_val, y_test, tim_steps, n_feats, count_of_classes, a_encoder = Flare_Data.getAllData(binary = True)"
   ]
  },
  {
   "cell_type": "code",
   "execution_count": 7,
   "metadata": {},
   "outputs": [
    {
     "name": "stdout",
     "output_type": "stream",
     "text": [
      "(940, 114, 20) (236, 114, 20) (294, 114, 20) (940, 1) (236, 1) (294, 1)\n"
     ]
    }
   ],
   "source": [
    "print(X_train.shape, X_val.shape, X_test.shape, y_train.shape, y_val.shape, y_test.shape)"
   ]
  },
  {
   "cell_type": "code",
   "execution_count": 8,
   "metadata": {},
   "outputs": [],
   "source": [
    "#~~~~~~~~~~~~~~~~~~~~~~~~~~~~~~~~~~~~~~~~~~~~~~~~~~~~~~~~~~~~~~~~~~~~~~~~~~~~~~~~~~~~~~~~~~~~~~~~~~~~~~~#\n",
    "#~~~~~~~~~~~~~~~~~~~~~~~~~~~~~~~~~~~~~~~~~~~~~~~~~~~~~~~~~~~~~~~~~~~~~~~~~~~~~~~~~~~~~~~~~~~~~~~~~~~~~~~#"
   ]
  },
  {
   "cell_type": "code",
   "execution_count": 9,
   "metadata": {},
   "outputs": [],
   "source": [
    "batch_size = 50\n",
    "epochs = 100\n",
    "optimizer = Adam(lr=0.001, beta_1=0.9, beta_2=0.999, epsilon=1e-06, decay=0.0)"
   ]
  },
  {
   "cell_type": "code",
   "execution_count": 10,
   "metadata": {},
   "outputs": [],
   "source": [
    "#~~~~~~~~~~~~~~~~~~~~~~~~~~~~~~~~~~~~~~~[GRU_2 Model]~~~~~~~~~~~~~~~~~~~~~~~~~~~~~~~~~~~~~~~~~~~~~~~~~~~#\n",
    "#~~~~~~~~~~~~~~~~~~~~~~~~~~~~~~~~~~~~~~~[Binary-Class]~~~~~~~~~~~~~~~~~~~~~~~~~~~~~~~~~~~~~~~~~~~~~~~~~~#\n",
    "#~~~~~~~~~~~~~~~~~~~~~~~~~~~~~~~~~~~~~~~[Multiple Layers]~~~~~~~~~~~~~~~~~~~~~~~~~~~~~~~~~~~~~~~~~~~~~~~#\n",
    "model = Sequential()\n",
    "model.add(GRU(16, return_sequences=True, input_shape=(tim_steps, n_feats), recurrent_dropout=0.05))\n",
    "model.add(GaussianNoise(0.01))\n",
    "model.add(GRU(6, return_sequences=False, recurrent_dropout=0.05))\n",
    "model.add(GaussianNoise(0.01))\n",
    "model.add(Dense(1, activation='sigmoid'))\n",
    "model.compile(loss='binary_crossentropy', optimizer=optimizer, metrics=['binary_accuracy'])\n",
    "#~~~~~~~~~~~~~~~~~~~~~~~~~~~~~~~~~~~~~~~~~~~~~~~~~~~~~~~~~~~~~~~~~~~~~~~~~~~~~~~~~~~~~~~~~~~~~~~~~~~~~~~#\n",
    "#~~~~~~~~~~~~~~~~~~~~~~~~~~~~~~~~~~~~~~~~~~~~~~~~~~~~~~~~~~~~~~~~~~~~~~~~~~~~~~~~~~~~~~~~~~~~~~~~~~~~~~~#"
   ]
  },
  {
   "cell_type": "code",
   "execution_count": 11,
   "metadata": {},
   "outputs": [],
   "source": [
    "tensorboard_call = keras.callbacks.TensorBoard(log_dir=where_logs, histogram_freq=1)\n",
    "#val_loss_callback = tf.keras.callbacks.EarlyStopping(monitor='val_loss', patience=10)"
   ]
  },
  {
   "cell_type": "code",
   "execution_count": 12,
   "metadata": {},
   "outputs": [
    {
     "name": "stdout",
     "output_type": "stream",
     "text": [
      "Epoch 1/100\n",
      " 1/19 [>.............................] - ETA: 0s - loss: 0.7223 - binary_accuracy: 0.5200WARNING:tensorflow:From C:\\ProgramData\\Anaconda3\\lib\\site-packages\\tensorflow\\python\\ops\\summary_ops_v2.py:1277: stop (from tensorflow.python.eager.profiler) is deprecated and will be removed after 2020-07-01.\n",
      "Instructions for updating:\n",
      "use `tf.profiler.experimental.stop` instead.\n",
      " 2/19 [==>...........................] - ETA: 5s - loss: 0.7252 - binary_accuracy: 0.5100WARNING:tensorflow:Callbacks method `on_train_batch_end` is slow compared to the batch time (batch time: 0.1195s vs `on_train_batch_end` time: 0.5665s). Check your callbacks.\n",
      "19/19 [==============================] - 3s 162ms/step - loss: 0.7028 - binary_accuracy: 0.4819 - val_loss: 0.6961 - val_binary_accuracy: 0.5085\n",
      "Epoch 2/100\n",
      "19/19 [==============================] - 2s 100ms/step - loss: 0.6981 - binary_accuracy: 0.5000 - val_loss: 0.6944 - val_binary_accuracy: 0.5042\n",
      "Epoch 3/100\n",
      "19/19 [==============================] - 2s 101ms/step - loss: 0.6970 - binary_accuracy: 0.4787 - val_loss: 0.6951 - val_binary_accuracy: 0.4534\n",
      "Epoch 4/100\n",
      "19/19 [==============================] - 2s 100ms/step - loss: 0.6942 - binary_accuracy: 0.5043 - val_loss: 0.6962 - val_binary_accuracy: 0.4788\n",
      "Epoch 5/100\n",
      "19/19 [==============================] - 2s 99ms/step - loss: 0.6901 - binary_accuracy: 0.5319 - val_loss: 0.6977 - val_binary_accuracy: 0.4661\n",
      "Epoch 6/100\n",
      "19/19 [==============================] - 2s 100ms/step - loss: 0.6870 - binary_accuracy: 0.5681 - val_loss: 0.6999 - val_binary_accuracy: 0.4661\n",
      "Epoch 7/100\n",
      "19/19 [==============================] - 2s 99ms/step - loss: 0.6856 - binary_accuracy: 0.5500 - val_loss: 0.7023 - val_binary_accuracy: 0.4703\n",
      "Epoch 8/100\n",
      "19/19 [==============================] - 2s 99ms/step - loss: 0.6825 - binary_accuracy: 0.5511 - val_loss: 0.7046 - val_binary_accuracy: 0.4958\n",
      "Epoch 9/100\n",
      "19/19 [==============================] - 2s 104ms/step - loss: 0.6765 - binary_accuracy: 0.5809 - val_loss: 0.7092 - val_binary_accuracy: 0.4958\n",
      "Epoch 10/100\n",
      "19/19 [==============================] - 2s 101ms/step - loss: 0.6710 - binary_accuracy: 0.5904 - val_loss: 0.7167 - val_binary_accuracy: 0.4873\n",
      "Epoch 11/100\n",
      "19/19 [==============================] - 2s 101ms/step - loss: 0.6670 - binary_accuracy: 0.5894 - val_loss: 0.7279 - val_binary_accuracy: 0.4915\n",
      "Epoch 12/100\n",
      "19/19 [==============================] - 2s 103ms/step - loss: 0.6665 - binary_accuracy: 0.5851 - val_loss: 0.7224 - val_binary_accuracy: 0.5297\n",
      "Epoch 13/100\n",
      "19/19 [==============================] - 2s 101ms/step - loss: 0.6566 - binary_accuracy: 0.6181 - val_loss: 0.7367 - val_binary_accuracy: 0.4958\n",
      "Epoch 14/100\n",
      "19/19 [==============================] - 2s 101ms/step - loss: 0.6652 - binary_accuracy: 0.5968 - val_loss: 0.7226 - val_binary_accuracy: 0.5085\n",
      "Epoch 15/100\n",
      "19/19 [==============================] - 2s 101ms/step - loss: 0.6565 - binary_accuracy: 0.6043 - val_loss: 0.7199 - val_binary_accuracy: 0.5297\n",
      "Epoch 16/100\n",
      "19/19 [==============================] - 2s 100ms/step - loss: 0.6554 - binary_accuracy: 0.6170 - val_loss: 0.7407 - val_binary_accuracy: 0.5042\n",
      "Epoch 17/100\n",
      "19/19 [==============================] - 2s 102ms/step - loss: 0.6529 - binary_accuracy: 0.6128 - val_loss: 0.7290 - val_binary_accuracy: 0.5085\n",
      "Epoch 18/100\n",
      "19/19 [==============================] - 2s 99ms/step - loss: 0.6521 - binary_accuracy: 0.6181 - val_loss: 0.7264 - val_binary_accuracy: 0.5085\n",
      "Epoch 19/100\n",
      "19/19 [==============================] - 2s 98ms/step - loss: 0.6457 - binary_accuracy: 0.6245 - val_loss: 0.7255 - val_binary_accuracy: 0.5212\n",
      "Epoch 20/100\n",
      "19/19 [==============================] - 2s 97ms/step - loss: 0.6487 - binary_accuracy: 0.6351 - val_loss: 0.7314 - val_binary_accuracy: 0.5339\n",
      "Epoch 21/100\n",
      "19/19 [==============================] - 2s 97ms/step - loss: 0.6465 - binary_accuracy: 0.6213 - val_loss: 0.7181 - val_binary_accuracy: 0.5297\n",
      "Epoch 22/100\n",
      "19/19 [==============================] - 2s 98ms/step - loss: 0.6423 - binary_accuracy: 0.6362 - val_loss: 0.7234 - val_binary_accuracy: 0.5254\n",
      "Epoch 23/100\n",
      "19/19 [==============================] - 2s 97ms/step - loss: 0.6464 - binary_accuracy: 0.6309 - val_loss: 0.7192 - val_binary_accuracy: 0.5339\n",
      "Epoch 24/100\n",
      "19/19 [==============================] - 2s 100ms/step - loss: 0.6419 - binary_accuracy: 0.6362 - val_loss: 0.7281 - val_binary_accuracy: 0.5169\n",
      "Epoch 25/100\n",
      "19/19 [==============================] - 2s 101ms/step - loss: 0.6546 - binary_accuracy: 0.6202 - val_loss: 0.7176 - val_binary_accuracy: 0.5297\n",
      "Epoch 26/100\n",
      "19/19 [==============================] - 2s 98ms/step - loss: 0.6433 - binary_accuracy: 0.6266 - val_loss: 0.7162 - val_binary_accuracy: 0.5339\n",
      "Epoch 27/100\n",
      "19/19 [==============================] - 2s 98ms/step - loss: 0.6386 - binary_accuracy: 0.6404 - val_loss: 0.7243 - val_binary_accuracy: 0.5466\n",
      "Epoch 28/100\n",
      "19/19 [==============================] - 2s 98ms/step - loss: 0.6378 - binary_accuracy: 0.6351 - val_loss: 0.7271 - val_binary_accuracy: 0.5254\n",
      "Epoch 29/100\n",
      "19/19 [==============================] - 2s 98ms/step - loss: 0.6344 - binary_accuracy: 0.6362 - val_loss: 0.7233 - val_binary_accuracy: 0.5339\n",
      "Epoch 30/100\n",
      "19/19 [==============================] - 2s 98ms/step - loss: 0.6341 - binary_accuracy: 0.6394 - val_loss: 0.7251 - val_binary_accuracy: 0.5381\n",
      "Epoch 31/100\n",
      "19/19 [==============================] - 2s 98ms/step - loss: 0.6319 - binary_accuracy: 0.6457 - val_loss: 0.7286 - val_binary_accuracy: 0.5381\n",
      "Epoch 32/100\n",
      "19/19 [==============================] - 2s 96ms/step - loss: 0.6353 - binary_accuracy: 0.6394 - val_loss: 0.7316 - val_binary_accuracy: 0.5127\n",
      "Epoch 33/100\n",
      "19/19 [==============================] - 2s 98ms/step - loss: 0.6381 - binary_accuracy: 0.6404 - val_loss: 0.7238 - val_binary_accuracy: 0.5127\n",
      "Epoch 34/100\n",
      "19/19 [==============================] - 2s 99ms/step - loss: 0.6304 - binary_accuracy: 0.6426 - val_loss: 0.7223 - val_binary_accuracy: 0.5466\n",
      "Epoch 35/100\n",
      "19/19 [==============================] - 2s 98ms/step - loss: 0.6316 - binary_accuracy: 0.6362 - val_loss: 0.7241 - val_binary_accuracy: 0.5381\n",
      "Epoch 36/100\n",
      "19/19 [==============================] - 2s 96ms/step - loss: 0.6323 - binary_accuracy: 0.6351 - val_loss: 0.7215 - val_binary_accuracy: 0.5508\n",
      "Epoch 37/100\n",
      "19/19 [==============================] - 2s 97ms/step - loss: 0.6347 - binary_accuracy: 0.6340 - val_loss: 0.7214 - val_binary_accuracy: 0.5466\n",
      "Epoch 38/100\n",
      "19/19 [==============================] - 2s 96ms/step - loss: 0.6300 - binary_accuracy: 0.6404 - val_loss: 0.7239 - val_binary_accuracy: 0.5297\n",
      "Epoch 39/100\n",
      "19/19 [==============================] - 2s 94ms/step - loss: 0.6333 - binary_accuracy: 0.6351 - val_loss: 0.7210 - val_binary_accuracy: 0.5254\n",
      "Epoch 40/100\n",
      "19/19 [==============================] - 2s 94ms/step - loss: 0.6251 - binary_accuracy: 0.6564 - val_loss: 0.7268 - val_binary_accuracy: 0.5508\n",
      "Epoch 41/100\n",
      "19/19 [==============================] - 2s 96ms/step - loss: 0.6262 - binary_accuracy: 0.6511 - val_loss: 0.7254 - val_binary_accuracy: 0.5636\n",
      "Epoch 42/100\n",
      "19/19 [==============================] - 2s 95ms/step - loss: 0.6326 - binary_accuracy: 0.6447 - val_loss: 0.7302 - val_binary_accuracy: 0.5297\n",
      "Epoch 43/100\n",
      "19/19 [==============================] - 2s 95ms/step - loss: 0.6344 - binary_accuracy: 0.6309 - val_loss: 0.7181 - val_binary_accuracy: 0.5381\n",
      "Epoch 44/100\n",
      "19/19 [==============================] - 2s 97ms/step - loss: 0.6257 - binary_accuracy: 0.6585 - val_loss: 0.7220 - val_binary_accuracy: 0.5424\n",
      "Epoch 45/100\n",
      "19/19 [==============================] - 2s 97ms/step - loss: 0.6261 - binary_accuracy: 0.6628 - val_loss: 0.7209 - val_binary_accuracy: 0.5720\n",
      "Epoch 46/100\n",
      "19/19 [==============================] - 2s 97ms/step - loss: 0.6359 - binary_accuracy: 0.6362 - val_loss: 0.7186 - val_binary_accuracy: 0.5678\n",
      "Epoch 47/100\n",
      "19/19 [==============================] - 2s 95ms/step - loss: 0.6205 - binary_accuracy: 0.6585 - val_loss: 0.7215 - val_binary_accuracy: 0.5381\n",
      "Epoch 48/100\n",
      "19/19 [==============================] - 2s 95ms/step - loss: 0.6209 - binary_accuracy: 0.6500 - val_loss: 0.7317 - val_binary_accuracy: 0.5297\n",
      "Epoch 49/100\n"
     ]
    },
    {
     "name": "stdout",
     "output_type": "stream",
     "text": [
      "19/19 [==============================] - 2s 94ms/step - loss: 0.6198 - binary_accuracy: 0.6585 - val_loss: 0.7268 - val_binary_accuracy: 0.5508\n",
      "Epoch 50/100\n",
      "19/19 [==============================] - 2s 95ms/step - loss: 0.6202 - binary_accuracy: 0.6479 - val_loss: 0.7274 - val_binary_accuracy: 0.5466\n",
      "Epoch 51/100\n",
      "19/19 [==============================] - 2s 95ms/step - loss: 0.6202 - binary_accuracy: 0.6574 - val_loss: 0.7273 - val_binary_accuracy: 0.5508\n",
      "Epoch 52/100\n",
      "19/19 [==============================] - 2s 96ms/step - loss: 0.6270 - binary_accuracy: 0.6660 - val_loss: 0.7165 - val_binary_accuracy: 0.5678\n",
      "Epoch 53/100\n",
      "19/19 [==============================] - 2s 94ms/step - loss: 0.6218 - binary_accuracy: 0.6532 - val_loss: 0.7131 - val_binary_accuracy: 0.5720\n",
      "Epoch 54/100\n",
      "19/19 [==============================] - 2s 95ms/step - loss: 0.6162 - binary_accuracy: 0.6628 - val_loss: 0.7193 - val_binary_accuracy: 0.5424\n",
      "Epoch 55/100\n",
      "19/19 [==============================] - 2s 94ms/step - loss: 0.6199 - binary_accuracy: 0.6553 - val_loss: 0.7203 - val_binary_accuracy: 0.5678\n",
      "Epoch 56/100\n",
      "19/19 [==============================] - 2s 96ms/step - loss: 0.6161 - binary_accuracy: 0.6596 - val_loss: 0.7208 - val_binary_accuracy: 0.5551\n",
      "Epoch 57/100\n",
      "19/19 [==============================] - 2s 98ms/step - loss: 0.6196 - binary_accuracy: 0.6617 - val_loss: 0.7196 - val_binary_accuracy: 0.5593\n",
      "Epoch 58/100\n",
      "19/19 [==============================] - 2s 94ms/step - loss: 0.6156 - binary_accuracy: 0.6574 - val_loss: 0.7314 - val_binary_accuracy: 0.5593\n",
      "Epoch 59/100\n",
      "19/19 [==============================] - 2s 93ms/step - loss: 0.6150 - binary_accuracy: 0.6511 - val_loss: 0.7206 - val_binary_accuracy: 0.5593\n",
      "Epoch 60/100\n",
      "19/19 [==============================] - 2s 93ms/step - loss: 0.6149 - binary_accuracy: 0.6596 - val_loss: 0.7189 - val_binary_accuracy: 0.5720\n",
      "Epoch 61/100\n",
      "19/19 [==============================] - 2s 93ms/step - loss: 0.6104 - binary_accuracy: 0.6628 - val_loss: 0.7256 - val_binary_accuracy: 0.5466\n",
      "Epoch 62/100\n",
      "19/19 [==============================] - 2s 94ms/step - loss: 0.6116 - binary_accuracy: 0.6564 - val_loss: 0.7247 - val_binary_accuracy: 0.5593\n",
      "Epoch 63/100\n",
      "19/19 [==============================] - 2s 96ms/step - loss: 0.6105 - binary_accuracy: 0.6681 - val_loss: 0.7299 - val_binary_accuracy: 0.5381\n",
      "Epoch 64/100\n",
      "19/19 [==============================] - 2s 94ms/step - loss: 0.6117 - binary_accuracy: 0.6553 - val_loss: 0.7176 - val_binary_accuracy: 0.5593\n",
      "Epoch 65/100\n",
      "19/19 [==============================] - 2s 93ms/step - loss: 0.6056 - binary_accuracy: 0.6734 - val_loss: 0.7237 - val_binary_accuracy: 0.5593\n",
      "Epoch 66/100\n",
      "19/19 [==============================] - 2s 99ms/step - loss: 0.6039 - binary_accuracy: 0.6628 - val_loss: 0.7229 - val_binary_accuracy: 0.5678\n",
      "Epoch 67/100\n",
      "19/19 [==============================] - 2s 94ms/step - loss: 0.6074 - binary_accuracy: 0.6713 - val_loss: 0.7299 - val_binary_accuracy: 0.5636\n",
      "Epoch 68/100\n",
      "19/19 [==============================] - 2s 93ms/step - loss: 0.6132 - binary_accuracy: 0.6755 - val_loss: 0.7243 - val_binary_accuracy: 0.5720\n",
      "Epoch 69/100\n",
      "19/19 [==============================] - 2s 93ms/step - loss: 0.6074 - binary_accuracy: 0.6543 - val_loss: 0.7202 - val_binary_accuracy: 0.5847\n",
      "Epoch 70/100\n",
      "19/19 [==============================] - 2s 94ms/step - loss: 0.5989 - binary_accuracy: 0.6691 - val_loss: 0.7175 - val_binary_accuracy: 0.5636\n",
      "Epoch 71/100\n",
      "19/19 [==============================] - 2s 92ms/step - loss: 0.6011 - binary_accuracy: 0.6798 - val_loss: 0.7226 - val_binary_accuracy: 0.5720\n",
      "Epoch 72/100\n",
      "19/19 [==============================] - 2s 103ms/step - loss: 0.6160 - binary_accuracy: 0.6532 - val_loss: 0.7259 - val_binary_accuracy: 0.5254\n",
      "Epoch 73/100\n",
      "19/19 [==============================] - 2s 95ms/step - loss: 0.6109 - binary_accuracy: 0.6670 - val_loss: 0.7124 - val_binary_accuracy: 0.5805\n",
      "Epoch 74/100\n",
      "19/19 [==============================] - 2s 95ms/step - loss: 0.6053 - binary_accuracy: 0.6766 - val_loss: 0.7183 - val_binary_accuracy: 0.5720\n",
      "Epoch 75/100\n",
      "19/19 [==============================] - 2s 98ms/step - loss: 0.6148 - binary_accuracy: 0.6585 - val_loss: 0.7114 - val_binary_accuracy: 0.5763\n",
      "Epoch 76/100\n",
      "19/19 [==============================] - 2s 97ms/step - loss: 0.6079 - binary_accuracy: 0.6713 - val_loss: 0.7109 - val_binary_accuracy: 0.5890\n",
      "Epoch 77/100\n",
      "19/19 [==============================] - 2s 94ms/step - loss: 0.5999 - binary_accuracy: 0.6755 - val_loss: 0.7285 - val_binary_accuracy: 0.5720\n",
      "Epoch 78/100\n",
      "19/19 [==============================] - 2s 96ms/step - loss: 0.6051 - binary_accuracy: 0.6819 - val_loss: 0.7158 - val_binary_accuracy: 0.5932\n",
      "Epoch 79/100\n",
      "19/19 [==============================] - 2s 95ms/step - loss: 0.5988 - binary_accuracy: 0.6702 - val_loss: 0.7169 - val_binary_accuracy: 0.5890\n",
      "Epoch 80/100\n",
      "19/19 [==============================] - 2s 95ms/step - loss: 0.5932 - binary_accuracy: 0.6872 - val_loss: 0.7250 - val_binary_accuracy: 0.5551\n",
      "Epoch 81/100\n",
      "19/19 [==============================] - 2s 95ms/step - loss: 0.5927 - binary_accuracy: 0.6809 - val_loss: 0.7289 - val_binary_accuracy: 0.5847\n",
      "Epoch 82/100\n",
      "19/19 [==============================] - 2s 96ms/step - loss: 0.5951 - binary_accuracy: 0.6755 - val_loss: 0.7217 - val_binary_accuracy: 0.5847\n",
      "Epoch 83/100\n",
      "19/19 [==============================] - 2s 96ms/step - loss: 0.5936 - binary_accuracy: 0.6766 - val_loss: 0.7131 - val_binary_accuracy: 0.5847\n",
      "Epoch 84/100\n",
      "19/19 [==============================] - 2s 97ms/step - loss: 0.5893 - binary_accuracy: 0.6851 - val_loss: 0.7264 - val_binary_accuracy: 0.5466\n",
      "Epoch 85/100\n",
      "19/19 [==============================] - 2s 96ms/step - loss: 0.5882 - binary_accuracy: 0.6787 - val_loss: 0.7238 - val_binary_accuracy: 0.5593\n",
      "Epoch 86/100\n",
      "19/19 [==============================] - 2s 97ms/step - loss: 0.5892 - binary_accuracy: 0.6926 - val_loss: 0.7196 - val_binary_accuracy: 0.5805\n",
      "Epoch 87/100\n",
      "19/19 [==============================] - 2s 96ms/step - loss: 0.5872 - binary_accuracy: 0.6883 - val_loss: 0.7174 - val_binary_accuracy: 0.5932\n",
      "Epoch 88/100\n",
      "19/19 [==============================] - 2s 96ms/step - loss: 0.5920 - binary_accuracy: 0.6777 - val_loss: 0.7262 - val_binary_accuracy: 0.5508\n",
      "Epoch 89/100\n",
      "19/19 [==============================] - 2s 97ms/step - loss: 0.5920 - binary_accuracy: 0.6755 - val_loss: 0.7352 - val_binary_accuracy: 0.5720\n",
      "Epoch 90/100\n",
      "19/19 [==============================] - 2s 97ms/step - loss: 0.5892 - binary_accuracy: 0.6830 - val_loss: 0.7255 - val_binary_accuracy: 0.5890\n",
      "Epoch 91/100\n",
      "19/19 [==============================] - 2s 96ms/step - loss: 0.5927 - binary_accuracy: 0.6766 - val_loss: 0.7180 - val_binary_accuracy: 0.5678\n",
      "Epoch 92/100\n",
      "19/19 [==============================] - 2s 97ms/step - loss: 0.5867 - binary_accuracy: 0.6926 - val_loss: 0.7155 - val_binary_accuracy: 0.5805\n",
      "Epoch 93/100\n",
      "19/19 [==============================] - 2s 97ms/step - loss: 0.5811 - binary_accuracy: 0.6915 - val_loss: 0.7255 - val_binary_accuracy: 0.6059\n",
      "Epoch 94/100\n",
      "19/19 [==============================] - 2s 97ms/step - loss: 0.5838 - binary_accuracy: 0.6989 - val_loss: 0.7179 - val_binary_accuracy: 0.5975\n",
      "Epoch 95/100\n",
      "19/19 [==============================] - 2s 97ms/step - loss: 0.5778 - binary_accuracy: 0.7011 - val_loss: 0.7205 - val_binary_accuracy: 0.5720\n",
      "Epoch 96/100\n",
      "19/19 [==============================] - 2s 97ms/step - loss: 0.5799 - binary_accuracy: 0.6894 - val_loss: 0.7182 - val_binary_accuracy: 0.6102\n",
      "Epoch 97/100\n",
      "19/19 [==============================] - 2s 96ms/step - loss: 0.5769 - binary_accuracy: 0.6851 - val_loss: 0.7250 - val_binary_accuracy: 0.6059\n",
      "Epoch 98/100\n",
      "19/19 [==============================] - 2s 97ms/step - loss: 0.6144 - binary_accuracy: 0.6585 - val_loss: 0.7034 - val_binary_accuracy: 0.6017\n",
      "Epoch 99/100\n",
      "19/19 [==============================] - 2s 98ms/step - loss: 0.5918 - binary_accuracy: 0.6926 - val_loss: 0.7332 - val_binary_accuracy: 0.5297\n",
      "Epoch 100/100\n",
      "19/19 [==============================] - 2s 97ms/step - loss: 0.5962 - binary_accuracy: 0.6691 - val_loss: 0.7018 - val_binary_accuracy: 0.5975\n"
     ]
    }
   ],
   "source": [
    "history = model.fit(X_train, y_train, \n",
    "                    batch_size=batch_size, \n",
    "                    epochs=epochs, \n",
    "                    validation_data=(X_val, y_val), \n",
    "                    verbose=1, \n",
    "                    callbacks=[tensorboard_call]) #, val_loss_callback])"
   ]
  },
  {
   "cell_type": "code",
   "execution_count": 13,
   "metadata": {},
   "outputs": [
    {
     "name": "stdout",
     "output_type": "stream",
     "text": [
      "Model: \"sequential\"\n",
      "_________________________________________________________________\n",
      "Layer (type)                 Output Shape              Param #   \n",
      "=================================================================\n",
      "gru (GRU)                    (None, 114, 16)           1824      \n",
      "_________________________________________________________________\n",
      "gaussian_noise (GaussianNois (None, 114, 16)           0         \n",
      "_________________________________________________________________\n",
      "gru_1 (GRU)                  (None, 6)                 432       \n",
      "_________________________________________________________________\n",
      "gaussian_noise_1 (GaussianNo (None, 6)                 0         \n",
      "_________________________________________________________________\n",
      "dense (Dense)                (None, 1)                 7         \n",
      "=================================================================\n",
      "Total params: 2,263\n",
      "Trainable params: 2,263\n",
      "Non-trainable params: 0\n",
      "_________________________________________________________________\n"
     ]
    }
   ],
   "source": [
    "model.summary()"
   ]
  },
  {
   "cell_type": "code",
   "execution_count": 14,
   "metadata": {},
   "outputs": [
    {
     "name": "stdout",
     "output_type": "stream",
     "text": [
      "294/294 [==============================] - 5s 16ms/step - loss: 0.6278 - binary_accuracy: 0.6599\n",
      "test loss, test acc: [0.6278077960014343, 0.6598639488220215]\n"
     ]
    }
   ],
   "source": [
    "#evaluate model on test set\n",
    "results = model.evaluate(X_test, y_test, batch_size=1, verbose=1)\n",
    "print(\"test loss, test acc:\", results)"
   ]
  },
  {
   "cell_type": "code",
   "execution_count": 15,
   "metadata": {},
   "outputs": [
    {
     "data": {
      "image/png": "[encoded data removed]",
      "text/plain": [
       "<Figure size 432x288 with 1 Axes>"
      ]
     },
     "metadata": {
      "needs_background": "light"
     },
     "output_type": "display_data"
    }
   ],
   "source": [
    "#summarize history for accuracy\n",
    "plt.plot(history.history[(list(history.history.keys())[1])])\n",
    "plt.plot(history.history[(list(history.history.keys())[3])])\n",
    "plt.title('model accuracy')\n",
    "plt.ylabel('accuracy')\n",
    "plt.xlabel('epoch')\n",
    "plt.legend(['train', 'val'], loc='upper left')\n",
    "plt.show()"
   ]
  },
  {
   "cell_type": "code",
   "execution_count": 16,
   "metadata": {},
   "outputs": [
    {
     "data": {
      "image/png": "[encoded data removed]",
      "text/plain": [
       "<Figure size 432x288 with 1 Axes>"
      ]
     },
     "metadata": {
      "needs_background": "light"
     },
     "output_type": "display_data"
    }
   ],
   "source": [
    "#summarize history for loss\n",
    "plt.plot(history.history[(list(history.history.keys())[0])])\n",
    "plt.plot(history.history[(list(history.history.keys())[2])])\n",
    "plt.title('model loss')\n",
    "plt.ylabel('loss')\n",
    "plt.xlabel('epoch')\n",
    "plt.legend(['train', 'val'], loc='upper left')\n",
    "plt.show()"
   ]
  },
  {
   "cell_type": "code",
   "execution_count": 17,
   "metadata": {},
   "outputs": [
    {
     "name": "stdout",
     "output_type": "stream",
     "text": [
      "predictions: [[0.656815  ]\n",
      " [0.16737708]\n",
      " [0.46523   ]\n",
      " [0.41598424]\n",
      " [0.14097232]\n",
      " [0.23758975]\n",
      " [0.55912966]\n",
      " [0.5023604 ]\n",
      " [0.698806  ]\n",
      " [0.16641086]\n",
      " [0.4400263 ]\n",
      " [0.52772844]\n",
      " [0.8003415 ]\n",
      " [0.24612877]\n",
      " [0.16389754]\n",
      " [0.23234361]\n",
      " [0.24850991]\n",
      " [0.30359787]\n",
      " [0.38646442]\n",
      " [0.20771852]\n",
      " [0.74538857]\n",
      " [0.8667604 ]\n",
      " [0.6467073 ]\n",
      " [0.1796011 ]\n",
      " [0.7315473 ]\n",
      " [0.202977  ]\n",
      " [0.59683746]\n",
      " [0.29026204]\n",
      " [0.49916345]\n",
      " [0.34688568]\n",
      " [0.7693271 ]\n",
      " [0.83277977]\n",
      " [0.50138164]\n",
      " [0.35763407]\n",
      " [0.6595876 ]\n",
      " [0.74769604]\n",
      " [0.32311392]\n",
      " [0.60892254]\n",
      " [0.24116066]\n",
      " [0.5082154 ]\n",
      " [0.367825  ]\n",
      " [0.41259295]\n",
      " [0.4312263 ]\n",
      " [0.21593583]\n",
      " [0.608402  ]\n",
      " [0.49236608]\n",
      " [0.16352892]\n",
      " [0.68113756]\n",
      " [0.6250678 ]\n",
      " [0.7133825 ]\n",
      " [0.7530017 ]\n",
      " [0.75239974]\n",
      " [0.4108211 ]\n",
      " [0.19333377]\n",
      " [0.7323378 ]\n",
      " [0.33729684]\n",
      " [0.663304  ]\n",
      " [0.23875791]\n",
      " [0.63397086]\n",
      " [0.6644152 ]\n",
      " [0.27382445]\n",
      " [0.19882312]\n",
      " [0.28063038]\n",
      " [0.6344973 ]\n",
      " [0.61423194]\n",
      " [0.37893486]\n",
      " [0.25192344]\n",
      " [0.28368312]\n",
      " [0.3409106 ]\n",
      " [0.18507388]\n",
      " [0.26619542]\n",
      " [0.47834647]\n",
      " [0.44538462]\n",
      " [0.4369051 ]\n",
      " [0.8664116 ]\n",
      " [0.69538563]\n",
      " [0.27305216]\n",
      " [0.7006107 ]\n",
      " [0.35983568]\n",
      " [0.61450815]\n",
      " [0.4934392 ]\n",
      " [0.4045825 ]\n",
      " [0.80528617]\n",
      " [0.35412714]\n",
      " [0.533878  ]\n",
      " [0.76846385]\n",
      " [0.8572257 ]\n",
      " [0.44997543]\n",
      " [0.25195473]\n",
      " [0.73478484]\n",
      " [0.20132536]\n",
      " [0.44730285]\n",
      " [0.4337113 ]\n",
      " [0.3361212 ]\n",
      " [0.55006313]\n",
      " [0.4476751 ]\n",
      " [0.6022028 ]\n",
      " [0.51547194]\n",
      " [0.77229536]\n",
      " [0.6663123 ]\n",
      " [0.51343036]\n",
      " [0.48520085]\n",
      " [0.36332768]\n",
      " [0.36778802]\n",
      " [0.82607996]\n",
      " [0.54044986]\n",
      " [0.58802766]\n",
      " [0.55530286]\n",
      " [0.3500144 ]\n",
      " [0.32345763]\n",
      " [0.48500225]\n",
      " [0.7286247 ]\n",
      " [0.27804485]\n",
      " [0.66008365]\n",
      " [0.7021925 ]\n",
      " [0.65763855]\n",
      " [0.38707045]\n",
      " [0.37023506]\n",
      " [0.5980388 ]\n",
      " [0.3517968 ]\n",
      " [0.3078755 ]\n",
      " [0.1565958 ]\n",
      " [0.1742518 ]\n",
      " [0.5212793 ]\n",
      " [0.32763594]\n",
      " [0.2306594 ]\n",
      " [0.7957463 ]\n",
      " [0.6610785 ]\n",
      " [0.87063146]\n",
      " [0.45227155]\n",
      " [0.38491243]\n",
      " [0.34255296]\n",
      " [0.7827673 ]\n",
      " [0.6695655 ]\n",
      " [0.25274068]\n",
      " [0.30138525]\n",
      " [0.4873476 ]\n",
      " [0.41877404]\n",
      " [0.18442264]\n",
      " [0.24043015]\n",
      " [0.18844074]\n",
      " [0.44660163]\n",
      " [0.77472186]\n",
      " [0.4325813 ]\n",
      " [0.68566483]\n",
      " [0.48087543]\n",
      " [0.40009585]\n",
      " [0.6936197 ]\n",
      " [0.86989725]\n",
      " [0.17757785]\n",
      " [0.19325945]\n",
      " [0.3944865 ]\n",
      " [0.16517437]\n",
      " [0.31842843]\n",
      " [0.58223385]\n",
      " [0.57854337]\n",
      " [0.27080092]\n",
      " [0.19372612]\n",
      " [0.6191852 ]\n",
      " [0.36733705]\n",
      " [0.6346307 ]\n",
      " [0.31985652]\n",
      " [0.36939305]\n",
      " [0.20022479]\n",
      " [0.21209827]\n",
      " [0.6863618 ]\n",
      " [0.7619946 ]\n",
      " [0.21163434]\n",
      " [0.16136804]\n",
      " [0.56578046]\n",
      " [0.6087331 ]\n",
      " [0.49595928]\n",
      " [0.24666947]\n",
      " [0.43937078]\n",
      " [0.77882004]\n",
      " [0.6465634 ]\n",
      " [0.560739  ]\n",
      " [0.5583899 ]\n",
      " [0.4311693 ]\n",
      " [0.80938494]\n",
      " [0.3166533 ]\n",
      " [0.32715186]\n",
      " [0.32435232]\n",
      " [0.45301667]\n",
      " [0.57644963]\n",
      " [0.6672997 ]\n",
      " [0.22463417]\n",
      " [0.3360266 ]\n",
      " [0.13640809]\n",
      " [0.3294989 ]\n",
      " [0.2656627 ]\n",
      " [0.71117187]\n",
      " [0.54716057]\n",
      " [0.72979164]\n",
      " [0.16338402]\n",
      " [0.40244594]\n",
      " [0.7584305 ]\n",
      " [0.33106062]\n",
      " [0.3317319 ]\n",
      " [0.35872442]\n",
      " [0.6339751 ]\n",
      " [0.7627219 ]\n",
      " [0.21616036]\n",
      " [0.7683369 ]\n",
      " [0.61848867]\n",
      " [0.6536799 ]\n",
      " [0.28080416]\n",
      " [0.5748312 ]\n",
      " [0.78215677]\n",
      " [0.35591447]\n",
      " [0.31914723]\n",
      " [0.7241063 ]\n",
      " [0.17784873]\n",
      " [0.30198973]\n",
      " [0.7047006 ]\n",
      " [0.80804557]\n",
      " [0.48657462]\n",
      " [0.4268637 ]\n",
      " [0.4015671 ]\n",
      " [0.5638555 ]\n",
      " [0.47159615]\n",
      " [0.8176626 ]\n",
      " [0.6893942 ]\n",
      " [0.5104345 ]\n",
      " [0.29652426]\n",
      " [0.50595987]\n",
      " [0.49683747]\n",
      " [0.49209696]\n",
      " [0.24623618]\n",
      " [0.631618  ]\n",
      " [0.3240968 ]\n",
      " [0.7637163 ]\n",
      " [0.797744  ]\n",
      " [0.3088364 ]\n",
      " [0.74810016]\n",
      " [0.13870242]\n",
      " [0.3183092 ]\n",
      " [0.27380687]\n",
      " [0.70097566]\n",
      " [0.6398371 ]\n",
      " [0.2555368 ]\n",
      " [0.8224287 ]\n",
      " [0.33391523]\n",
      " [0.8666557 ]\n",
      " [0.552203  ]\n",
      " [0.7351306 ]\n",
      " [0.4925826 ]\n",
      " [0.6249789 ]\n",
      " [0.48821986]\n",
      " [0.70988727]\n",
      " [0.75814915]\n",
      " [0.54942346]\n",
      " [0.558053  ]\n",
      " [0.6817833 ]\n",
      " [0.4224524 ]\n",
      " [0.36542964]\n",
      " [0.4479205 ]\n",
      " [0.542797  ]\n",
      " [0.13867775]\n",
      " [0.19605842]\n",
      " [0.4348922 ]\n",
      " [0.65812653]\n",
      " [0.72867453]\n",
      " [0.35736722]\n",
      " [0.39689833]\n",
      " [0.3898185 ]\n",
      " [0.64300907]\n",
      " [0.6576998 ]\n",
      " [0.6481894 ]\n",
      " [0.55160093]\n",
      " [0.70459545]\n",
      " [0.6582991 ]\n",
      " [0.41118038]\n",
      " [0.31518817]\n",
      " [0.6747344 ]\n",
      " [0.6939061 ]\n",
      " [0.32178476]\n",
      " [0.83396685]\n",
      " [0.47964117]\n",
      " [0.3151878 ]\n",
      " [0.35452306]\n",
      " [0.68118703]\n",
      " [0.497105  ]\n",
      " [0.65896827]\n",
      " [0.31009492]\n",
      " [0.26801717]\n",
      " [0.31705534]\n",
      " [0.22804427]\n",
      " [0.7632332 ]\n",
      " [0.75893986]\n",
      " [0.5803916 ]\n",
      " [0.56578076]\n",
      " [0.22960326]\n",
      " [0.17223382]]\n"
     ]
    }
   ],
   "source": [
    "#generate predictions\n",
    "predictions = model.predict(X_test)\n",
    "print(\"predictions:\", predictions)"
   ]
  },
  {
   "cell_type": "code",
   "execution_count": 18,
   "metadata": {},
   "outputs": [
    {
     "name": "stdout",
     "output_type": "stream",
     "text": [
      "['N' 'F' 'F' 'F' 'F' 'F' 'N' 'N' 'N' 'F' 'F' 'N' 'N' 'F' 'F' 'F' 'F' 'F'\n",
      " 'F' 'F' 'N' 'N' 'N' 'F' 'N' 'F' 'N' 'F' 'F' 'F' 'N' 'N' 'N' 'F' 'N' 'N'\n",
      " 'F' 'N' 'F' 'N' 'F' 'F' 'F' 'F' 'N' 'F' 'F' 'N' 'N' 'N' 'N' 'N' 'F' 'F'\n",
      " 'N' 'F' 'N' 'F' 'N' 'N' 'F' 'F' 'F' 'N' 'N' 'F' 'F' 'F' 'F' 'F' 'F' 'F'\n",
      " 'F' 'F' 'N' 'N' 'F' 'N' 'F' 'N' 'F' 'F' 'N' 'F' 'N' 'N' 'N' 'F' 'F' 'N'\n",
      " 'F' 'F' 'F' 'F' 'N' 'F' 'N' 'N' 'N' 'N' 'N' 'F' 'F' 'F' 'N' 'N' 'N' 'N'\n",
      " 'F' 'F' 'F' 'N' 'F' 'N' 'N' 'N' 'F' 'F' 'N' 'F' 'F' 'F' 'F' 'N' 'F' 'F'\n",
      " 'N' 'N' 'N' 'F' 'F' 'F' 'N' 'N' 'F' 'F' 'F' 'F' 'F' 'F' 'F' 'F' 'N' 'F'\n",
      " 'N' 'F' 'F' 'N' 'N' 'F' 'F' 'F' 'F' 'F' 'N' 'N' 'F' 'F' 'N' 'F' 'N' 'F'\n",
      " 'F' 'F' 'F' 'N' 'N' 'F' 'F' 'N' 'N' 'F' 'F' 'F' 'N' 'N' 'N' 'N' 'F' 'N'\n",
      " 'F' 'F' 'F' 'F' 'N' 'N' 'F' 'F' 'F' 'F' 'F' 'N' 'N' 'N' 'F' 'F' 'N' 'F'\n",
      " 'F' 'F' 'N' 'N' 'F' 'N' 'N' 'N' 'F' 'N' 'N' 'F' 'F' 'N' 'F' 'F' 'N' 'N'\n",
      " 'F' 'F' 'F' 'N' 'F' 'N' 'N' 'N' 'F' 'N' 'F' 'F' 'F' 'N' 'F' 'N' 'N' 'F'\n",
      " 'N' 'F' 'F' 'F' 'N' 'N' 'F' 'N' 'F' 'N' 'N' 'N' 'F' 'N' 'F' 'N' 'N' 'N'\n",
      " 'N' 'N' 'F' 'F' 'F' 'N' 'F' 'F' 'F' 'N' 'N' 'F' 'F' 'F' 'N' 'N' 'N' 'N'\n",
      " 'N' 'N' 'F' 'F' 'N' 'N' 'F' 'N' 'F' 'F' 'F' 'N' 'F' 'N' 'F' 'F' 'F' 'F'\n",
      " 'N' 'N' 'N' 'N' 'F' 'F']\n"
     ]
    }
   ],
   "source": [
    "#remove encoding\n",
    "real_predictions_B = a_encoder.inverse_transform(predictions)\n",
    "print(real_predictions_B)"
   ]
  },
  {
   "cell_type": "code",
   "execution_count": 19,
   "metadata": {},
   "outputs": [
    {
     "data": {
      "text/plain": [
       "{'F': 162, 'N': 132}"
      ]
     },
     "execution_count": 19,
     "metadata": {},
     "output_type": "execute_result"
    }
   ],
   "source": [
    "#prediction counts\n",
    "unique, counts = np.unique(real_predictions_B, return_counts=True)\n",
    "dict(zip(unique, counts))"
   ]
  },
  {
   "cell_type": "code",
   "execution_count": 20,
   "metadata": {},
   "outputs": [
    {
     "name": "stdout",
     "output_type": "stream",
     "text": [
      "['N' 'F' 'F' 'F' 'F' 'F' 'F' 'F' 'F' 'F' 'F' 'F' 'F' 'F' 'F' 'N' 'F' 'F'\n",
      " 'F' 'N' 'N' 'N' 'F' 'F' 'N' 'F' 'N' 'F' 'N' 'F' 'N' 'N' 'F' 'N' 'N' 'N'\n",
      " 'F' 'F' 'F' 'N' 'F' 'N' 'F' 'F' 'F' 'N' 'F' 'N' 'N' 'N' 'F' 'F' 'N' 'N'\n",
      " 'N' 'N' 'N' 'N' 'N' 'F' 'F' 'F' 'F' 'N' 'F' 'N' 'N' 'N' 'N' 'F' 'F' 'N'\n",
      " 'F' 'N' 'F' 'N' 'N' 'N' 'F' 'N' 'F' 'F' 'N' 'N' 'N' 'F' 'N' 'F' 'N' 'N'\n",
      " 'F' 'N' 'F' 'N' 'N' 'F' 'N' 'F' 'N' 'N' 'N' 'F' 'N' 'N' 'N' 'F' 'N' 'N'\n",
      " 'N' 'F' 'F' 'N' 'F' 'N' 'N' 'N' 'F' 'N' 'N' 'F' 'F' 'F' 'F' 'F' 'N' 'N'\n",
      " 'N' 'F' 'N' 'N' 'N' 'N' 'N' 'N' 'F' 'F' 'N' 'N' 'F' 'F' 'F' 'F' 'F' 'F'\n",
      " 'F' 'F' 'F' 'F' 'N' 'F' 'F' 'F' 'F' 'F' 'N' 'N' 'F' 'F' 'N' 'F' 'N' 'N'\n",
      " 'F' 'N' 'F' 'N' 'N' 'F' 'N' 'N' 'F' 'F' 'F' 'F' 'N' 'N' 'N' 'F' 'F' 'N'\n",
      " 'N' 'F' 'N' 'F' 'N' 'F' 'F' 'F' 'F' 'F' 'F' 'N' 'F' 'F' 'F' 'F' 'F' 'F'\n",
      " 'F' 'F' 'F' 'N' 'F' 'F' 'N' 'N' 'F' 'N' 'N' 'F' 'N' 'F' 'N' 'N' 'F' 'N'\n",
      " 'N' 'N' 'N' 'F' 'N' 'N' 'N' 'N' 'N' 'F' 'N' 'F' 'N' 'F' 'F' 'N' 'N' 'F'\n",
      " 'N' 'F' 'F' 'N' 'F' 'N' 'F' 'N' 'N' 'N' 'N' 'N' 'F' 'N' 'F' 'N' 'N' 'N'\n",
      " 'F' 'N' 'N' 'F' 'F' 'N' 'N' 'N' 'F' 'F' 'N' 'F' 'F' 'F' 'N' 'F' 'N' 'F'\n",
      " 'N' 'F' 'N' 'F' 'N' 'N' 'F' 'N' 'N' 'F' 'N' 'N' 'N' 'F' 'N' 'F' 'F' 'F'\n",
      " 'N' 'F' 'N' 'N' 'F' 'F']\n"
     ]
    }
   ],
   "source": [
    "#y_test predictions\n",
    "ytest_predictions = a_encoder.inverse_transform(y_test)\n",
    "print(ytest_predictions)"
   ]
  },
  {
   "cell_type": "code",
   "execution_count": 21,
   "metadata": {},
   "outputs": [
    {
     "data": {
      "text/plain": [
       "{'F': 148, 'N': 146}"
      ]
     },
     "execution_count": 21,
     "metadata": {},
     "output_type": "execute_result"
    }
   ],
   "source": [
    "#real count\n",
    "unique, counts = np.unique(ytest_predictions, return_counts=True)\n",
    "dict(zip(unique, counts))"
   ]
  },
  {
   "cell_type": "code",
   "execution_count": 22,
   "metadata": {},
   "outputs": [
    {
     "data": {
      "image/png": "[encoded data removed]",
      "text/plain": [
       "<Figure size 432x288 with 2 Axes>"
      ]
     },
     "metadata": {
      "needs_background": "light"
     },
     "output_type": "display_data"
    }
   ],
   "source": [
    "#confusion matrix\n",
    "matrix = confusion_matrix(ytest_predictions, real_predictions_B)\n",
    "#format confusion matrix\n",
    "ax=plt.subplot()\n",
    "sns.heatmap(matrix, annot=True, ax = ax, cmap='Greens', fmt='g');\n",
    "accuracy = np.trace(matrix) / np.sum(matrix).astype('float')\n",
    "misclass = 1 - accuracy\n",
    "ax.set_xlabel('Predicted label\\naccuracy={:0.4f}; misclass={:0.4f}'.format(accuracy, misclass));\n",
    "ax.set_ylabel('True labels'); \n",
    "ax.set_title('Confusion Matrix');\n",
    "ax.xaxis.set_ticklabels(unique); ax.yaxis.set_ticklabels(unique);"
   ]
  },
  {
   "cell_type": "code",
   "execution_count": 23,
   "metadata": {},
   "outputs": [
    {
     "name": "stdout",
     "output_type": "stream",
     "text": [
      "              precision    recall  f1-score   support\n",
      "\n",
      "           F       0.65      0.71      0.68       148\n",
      "           N       0.67      0.61      0.64       146\n",
      "\n",
      "    accuracy                           0.66       294\n",
      "   macro avg       0.66      0.66      0.66       294\n",
      "weighted avg       0.66      0.66      0.66       294\n",
      "\n"
     ]
    }
   ],
   "source": [
    "print(classification_report(ytest_predictions, real_predictions_B))"
   ]
  },
  {
   "cell_type": "code",
   "execution_count": 24,
   "metadata": {},
   "outputs": [
    {
     "name": "stdout",
     "output_type": "stream",
     "text": [
      "precision score:0.6612\n",
      "recall score:0.6595\n",
      "f1 score:0.6589\n"
     ]
    }
   ],
   "source": [
    "#macro - calculate metrics for each label, and find their unweighted mean\n",
    "pre_score = precision_score(ytest_predictions, real_predictions_B, average = \"macro\")\n",
    "print('precision score:{:0.4f}'.format(pre_score))\n",
    "recall_score_1 = recall_score(ytest_predictions, real_predictions_B, average= \"macro\")\n",
    "print('recall score:{:0.4f}'.format(recall_score_1))\n",
    "f1_score_1 = f1_score(ytest_predictions, real_predictions_B, average=\"macro\")\n",
    "print('f1 score:{:0.4f}'.format(f1_score_1))"
   ]
  },
  {
   "cell_type": "code",
   "execution_count": null,
   "metadata": {},
   "outputs": [],
   "source": []
  }
 ],
 "metadata": {
  "kernelspec": {
   "display_name": "Python 3",
   "language": "python",
   "name": "python3"
  },
  "language_info": {
   "codemirror_mode": {
    "name": "ipython",
    "version": 3
   },
   "file_extension": ".py",
   "mimetype": "text/x-python",
   "name": "python",
   "nbconvert_exporter": "python",
   "pygments_lexer": "ipython3",
   "version": "3.8.3"
  }
 },
 "nbformat": 4,
 "nbformat_minor": 4
}
