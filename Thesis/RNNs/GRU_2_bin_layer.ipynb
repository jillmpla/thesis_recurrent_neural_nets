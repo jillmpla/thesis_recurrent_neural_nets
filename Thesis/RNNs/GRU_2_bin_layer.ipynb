{
 "cells": [
  {
   "cell_type": "code",
   "execution_count": 1,
   "metadata": {},
   "outputs": [],
   "source": [
    "#tensorboard via command-line:\n",
    "#tensorboard --logdir=where your Logs directory is"
   ]
  },
  {
   "cell_type": "code",
   "execution_count": 2,
   "metadata": {},
   "outputs": [],
   "source": [
    "#~~~~~~~~~~~~~~~~~~~~~~~~~~~~~~~~~~~~~~~~~~~~~~~~~~~~~~~~~~~~~~~~~~~~~~~~~~~~~~~~~~~~~~~~~~~~~~~~~~~~~~~#\n",
    "#What is the maximum flare class produced by an AR in the next 24hrs after a 24hr time sequence?\n",
    "#~~~~~~~~~~~~~~~~~~~~~~~~~~~~~~~~~~~~~~~~~~~~~~~~~~~~~~~~~~~~~~~~~~~~~~~~~~~~~~~~~~~~~~~~~~~~~~~~~~~~~~~#\n",
    "#feature data from - hmi.sharp_720s:::\n",
    "#http://jsoc.stanford.edu/doc/data/hmi/sharp/sharp.htm\n",
    "\n",
    "#label data from - GOES flare events:::\n",
    "#ftp://ftp.swpc.noaa.gov/pub/warehouse/\n",
    "\n",
    "#and from - GOES XRS Report:::\n",
    "#https://www.ngdc.noaa.gov/stp/space-weather/solar-data/solar-features/solar-flares/x-rays/goes/xrs/\n",
    "#~~~~~~~~~~~~~~~~~~~~~~~~~~~~~~~~~~~~~~~~~~~~~~~~~~~~~~~~~~~~~~~~~~~~~~~~~~~~~~~~~~~~~~~~~~~~~~~~~~~~~~~#\n",
    "#binary class - F for flare and N for no flare\n",
    "#multi-class - #6 flare classes: N is no flare, A is smallest, X is largest\n",
    "               #key = {'N', 'A', 'B', 'C', 'M', 'X'}\n",
    "               #['A' class flares generally not listed in official reports due to small size]\n",
    "#~~~~~~~~~~~~~~~~~~~~~~~~~~~~~~~~~~~~~~~~~~~~~~~~~~~~~~~~~~~~~~~~~~~~~~~~~~~~~~~~~~~~~~~~~~~~~~~~~~~~~~~#"
   ]
  },
  {
   "cell_type": "code",
   "execution_count": 3,
   "metadata": {},
   "outputs": [
    {
     "name": "stdout",
     "output_type": "stream",
     "text": [
      "tensorflow version: 2.3.1\n"
     ]
    }
   ],
   "source": [
    "import tensorflow as tf\n",
    "print(\"tensorflow version:\", tf.__version__) #2.3.1 used\n",
    "from tensorflow import keras\n",
    "import os\n",
    "import glob\n",
    "import shutil\n",
    "import datetime\n",
    "import numpy as np\n",
    "import pandas as pd\n",
    "import seaborn as sns\n",
    "from pathlib import Path\n",
    "from astropy.time import Time\n",
    "from matplotlib import pyplot as plt\n",
    "from sklearn.metrics import f1_score, precision_score, recall_score, classification_report, confusion_matrix\n",
    "from sklearn.metrics import plot_confusion_matrix\n",
    "from sklearn.preprocessing import LabelBinarizer\n",
    "from sklearn.model_selection import train_test_split\n",
    "from sklearn.preprocessing import MinMaxScaler\n",
    "from tensorflow.keras.layers import Dropout, Dense, SimpleRNN, LSTM, GRU, GaussianNoise\n",
    "from tensorflow.keras.models import Model, Sequential\n",
    "from tensorflow.keras.optimizers import SGD, RMSprop, Adam\n",
    "import drms #https://pypi.org/project/drms/\n",
    "#~~~~~~~~~~~~~~~~~~~~~~~~~~~~~~~~~~~~~~~~~~~~~~~~~~~~~~~~~~~~~~~~~~~~~~~~~~~~~~~~~~~~~~~~~~~~~~~~~~~~~~~#\n",
    "import Flare_Data\n",
    "import Feature_Years\n",
    "import Make_TB_Logs\n",
    "#~~~~~~~~~~~~~~~~~~~~~~~~~~~~~~~~~~~~~~~~~~~~~~~~~~~~~~~~~~~~~~~~~~~~~~~~~~~~~~~~~~~~~~~~~~~~~~~~~~~~~~~#"
   ]
  },
  {
   "cell_type": "code",
   "execution_count": 4,
   "metadata": {},
   "outputs": [
    {
     "name": "stdout",
     "output_type": "stream",
     "text": [
      "CSVs compiled.\n"
     ]
    }
   ],
   "source": [
    "Feature_Years.generate_all_feature_years()"
   ]
  },
  {
   "cell_type": "code",
   "execution_count": 5,
   "metadata": {},
   "outputs": [],
   "source": [
    "where_logs = Make_TB_Logs.make_clear_tensorboard_folder()"
   ]
  },
  {
   "cell_type": "code",
   "execution_count": 6,
   "metadata": {},
   "outputs": [
    {
     "name": "stdout",
     "output_type": "stream",
     "text": [
      "The time series starts from:  2011-01-01 00:11:26\n",
      "The time series ends on:  2016-12-31 23:47:24\n",
      "(array(['F', 'N'], dtype='<U1'), array([741, 729], dtype=int64))\n"
     ]
    }
   ],
   "source": [
    "#binary = True for binary classification, binary = False for multi-class classification\n",
    "X_train, X_val, X_test, y_train, y_val, y_test, tim_steps, n_feats, count_of_classes, a_encoder = Flare_Data.getAllData(binary = True)"
   ]
  },
  {
   "cell_type": "code",
   "execution_count": 7,
   "metadata": {},
   "outputs": [
    {
     "name": "stdout",
     "output_type": "stream",
     "text": [
      "(940, 114, 20) (236, 114, 20) (294, 114, 20) (940, 1) (236, 1) (294, 1)\n"
     ]
    }
   ],
   "source": [
    "print(X_train.shape, X_val.shape, X_test.shape, y_train.shape, y_val.shape, y_test.shape)"
   ]
  },
  {
   "cell_type": "code",
   "execution_count": 8,
   "metadata": {},
   "outputs": [],
   "source": [
    "#~~~~~~~~~~~~~~~~~~~~~~~~~~~~~~~~~~~~~~~~~~~~~~~~~~~~~~~~~~~~~~~~~~~~~~~~~~~~~~~~~~~~~~~~~~~~~~~~~~~~~~~#\n",
    "#~~~~~~~~~~~~~~~~~~~~~~~~~~~~~~~~~~~~~~~~~~~~~~~~~~~~~~~~~~~~~~~~~~~~~~~~~~~~~~~~~~~~~~~~~~~~~~~~~~~~~~~#"
   ]
  },
  {
   "cell_type": "code",
   "execution_count": 25,
   "metadata": {},
   "outputs": [],
   "source": [
    "batch_size = 50\n",
    "epochs = 100\n",
    "optimizer = Adam(lr=0.001, beta_1=0.9, beta_2=0.999, epsilon=1e-06, decay=0.0)"
   ]
  },
  {
   "cell_type": "code",
   "execution_count": 26,
   "metadata": {},
   "outputs": [],
   "source": [
    "#~~~~~~~~~~~~~~~~~~~~~~~~~~~~~~~~~~~~~~~[GRU_2 Model]~~~~~~~~~~~~~~~~~~~~~~~~~~~~~~~~~~~~~~~~~~~~~~~~~~~#\n",
    "#~~~~~~~~~~~~~~~~~~~~~~~~~~~~~~~~~~~~~~~[Binary-Class]~~~~~~~~~~~~~~~~~~~~~~~~~~~~~~~~~~~~~~~~~~~~~~~~~~#\n",
    "#~~~~~~~~~~~~~~~~~~~~~~~~~~~~~~~~~~~~~~~[Multiple Layers]~~~~~~~~~~~~~~~~~~~~~~~~~~~~~~~~~~~~~~~~~~~~~~~#\n",
    "model = Sequential()\n",
    "model.add(GRU(16, return_sequences=True, input_shape=(tim_steps, n_feats), recurrent_dropout=0.05))\n",
    "model.add(GaussianNoise(0.01))\n",
    "model.add(GRU(6, return_sequences=False, recurrent_dropout=0.05))\n",
    "model.add(GaussianNoise(0.01))\n",
    "model.add(Dense(1, activation='sigmoid'))\n",
    "model.compile(loss='binary_crossentropy', optimizer=optimizer, metrics=['binary_accuracy'])\n",
    "#~~~~~~~~~~~~~~~~~~~~~~~~~~~~~~~~~~~~~~~~~~~~~~~~~~~~~~~~~~~~~~~~~~~~~~~~~~~~~~~~~~~~~~~~~~~~~~~~~~~~~~~#\n",
    "#~~~~~~~~~~~~~~~~~~~~~~~~~~~~~~~~~~~~~~~~~~~~~~~~~~~~~~~~~~~~~~~~~~~~~~~~~~~~~~~~~~~~~~~~~~~~~~~~~~~~~~~#"
   ]
  },
  {
   "cell_type": "code",
   "execution_count": 27,
   "metadata": {},
   "outputs": [],
   "source": [
    "tensorboard_call = keras.callbacks.TensorBoard(log_dir=where_logs, histogram_freq=1)\n",
    "#val_loss_callback = tf.keras.callbacks.EarlyStopping(monitor='val_loss', patience=10)"
   ]
  },
  {
   "cell_type": "code",
   "execution_count": 28,
   "metadata": {},
   "outputs": [
    {
     "name": "stdout",
     "output_type": "stream",
     "text": [
      "Epoch 1/100\n",
      " 2/19 [==>...........................] - ETA: 55s - loss: 0.7040 - binary_accuracy: 0.5000WARNING:tensorflow:Callbacks method `on_train_batch_end` is slow compared to the batch time (batch time: 0.1253s vs `on_train_batch_end` time: 6.4108s). Check your callbacks.\n",
      "19/19 [==============================] - 9s 482ms/step - loss: 0.7016 - binary_accuracy: 0.4787 - val_loss: 0.6994 - val_binary_accuracy: 0.4619\n",
      "Epoch 2/100\n",
      "19/19 [==============================] - 2s 103ms/step - loss: 0.6971 - binary_accuracy: 0.5117 - val_loss: 0.6977 - val_binary_accuracy: 0.4703\n",
      "Epoch 3/100\n",
      "19/19 [==============================] - 2s 106ms/step - loss: 0.6934 - binary_accuracy: 0.5202 - val_loss: 0.6988 - val_binary_accuracy: 0.4788\n",
      "Epoch 4/100\n",
      "19/19 [==============================] - 2s 101ms/step - loss: 0.6918 - binary_accuracy: 0.5351 - val_loss: 0.6998 - val_binary_accuracy: 0.4661\n",
      "Epoch 5/100\n",
      "19/19 [==============================] - 2s 102ms/step - loss: 0.6897 - binary_accuracy: 0.5319 - val_loss: 0.7010 - val_binary_accuracy: 0.4576\n",
      "Epoch 6/100\n",
      "19/19 [==============================] - 2s 99ms/step - loss: 0.6877 - binary_accuracy: 0.5500 - val_loss: 0.7023 - val_binary_accuracy: 0.4746\n",
      "Epoch 7/100\n",
      "19/19 [==============================] - 2s 103ms/step - loss: 0.6858 - binary_accuracy: 0.5340 - val_loss: 0.7047 - val_binary_accuracy: 0.4703\n",
      "Epoch 8/100\n",
      "19/19 [==============================] - 2s 100ms/step - loss: 0.6840 - binary_accuracy: 0.5574 - val_loss: 0.7058 - val_binary_accuracy: 0.4746\n",
      "Epoch 9/100\n",
      "19/19 [==============================] - 2s 102ms/step - loss: 0.6805 - binary_accuracy: 0.5649 - val_loss: 0.7078 - val_binary_accuracy: 0.4873\n",
      "Epoch 10/100\n",
      "19/19 [==============================] - 2s 100ms/step - loss: 0.6780 - binary_accuracy: 0.5660 - val_loss: 0.7121 - val_binary_accuracy: 0.4873\n",
      "Epoch 11/100\n",
      "19/19 [==============================] - 2s 101ms/step - loss: 0.6773 - binary_accuracy: 0.5713 - val_loss: 0.7137 - val_binary_accuracy: 0.4873\n",
      "Epoch 12/100\n",
      "19/19 [==============================] - 2s 98ms/step - loss: 0.6735 - binary_accuracy: 0.5777 - val_loss: 0.7158 - val_binary_accuracy: 0.4873\n",
      "Epoch 13/100\n",
      "19/19 [==============================] - 2s 101ms/step - loss: 0.6701 - binary_accuracy: 0.5809 - val_loss: 0.7204 - val_binary_accuracy: 0.4746\n",
      "Epoch 14/100\n",
      "19/19 [==============================] - 2s 97ms/step - loss: 0.6675 - binary_accuracy: 0.5968 - val_loss: 0.7236 - val_binary_accuracy: 0.5085\n",
      "Epoch 15/100\n",
      "19/19 [==============================] - 2s 100ms/step - loss: 0.6626 - binary_accuracy: 0.5830 - val_loss: 0.7270 - val_binary_accuracy: 0.5169\n",
      "Epoch 16/100\n",
      "19/19 [==============================] - 2s 98ms/step - loss: 0.6586 - binary_accuracy: 0.6011 - val_loss: 0.7273 - val_binary_accuracy: 0.5127\n",
      "Epoch 17/100\n",
      "19/19 [==============================] - 2s 100ms/step - loss: 0.6586 - binary_accuracy: 0.6011 - val_loss: 0.7311 - val_binary_accuracy: 0.5085\n",
      "Epoch 18/100\n",
      "19/19 [==============================] - 2s 98ms/step - loss: 0.6558 - binary_accuracy: 0.6085 - val_loss: 0.7296 - val_binary_accuracy: 0.5297\n",
      "Epoch 19/100\n",
      "19/19 [==============================] - 2s 99ms/step - loss: 0.6511 - binary_accuracy: 0.6181 - val_loss: 0.7348 - val_binary_accuracy: 0.5127\n",
      "Epoch 20/100\n",
      "19/19 [==============================] - 2s 98ms/step - loss: 0.6534 - binary_accuracy: 0.6160 - val_loss: 0.7316 - val_binary_accuracy: 0.5212\n",
      "Epoch 21/100\n",
      "19/19 [==============================] - 2s 100ms/step - loss: 0.6474 - binary_accuracy: 0.6223 - val_loss: 0.7316 - val_binary_accuracy: 0.5424\n",
      "Epoch 22/100\n",
      "19/19 [==============================] - 2s 99ms/step - loss: 0.6481 - binary_accuracy: 0.6202 - val_loss: 0.7277 - val_binary_accuracy: 0.5339\n",
      "Epoch 23/100\n",
      "19/19 [==============================] - 2s 100ms/step - loss: 0.6455 - binary_accuracy: 0.6287 - val_loss: 0.7312 - val_binary_accuracy: 0.5169\n",
      "Epoch 24/100\n",
      "19/19 [==============================] - 2s 97ms/step - loss: 0.6448 - binary_accuracy: 0.6255 - val_loss: 0.7257 - val_binary_accuracy: 0.5339\n",
      "Epoch 25/100\n",
      "19/19 [==============================] - 2s 98ms/step - loss: 0.6410 - binary_accuracy: 0.6202 - val_loss: 0.7253 - val_binary_accuracy: 0.5424\n",
      "Epoch 26/100\n",
      "19/19 [==============================] - 2s 97ms/step - loss: 0.6388 - binary_accuracy: 0.6319 - val_loss: 0.7303 - val_binary_accuracy: 0.5339\n",
      "Epoch 27/100\n",
      "19/19 [==============================] - 2s 98ms/step - loss: 0.6389 - binary_accuracy: 0.6436 - val_loss: 0.7208 - val_binary_accuracy: 0.5297\n",
      "Epoch 28/100\n",
      "19/19 [==============================] - 2s 95ms/step - loss: 0.6419 - binary_accuracy: 0.6255 - val_loss: 0.7176 - val_binary_accuracy: 0.5381\n",
      "Epoch 29/100\n",
      "19/19 [==============================] - 2s 98ms/step - loss: 0.6390 - binary_accuracy: 0.6394 - val_loss: 0.7208 - val_binary_accuracy: 0.5254\n",
      "Epoch 30/100\n",
      "19/19 [==============================] - 2s 97ms/step - loss: 0.6365 - binary_accuracy: 0.6340 - val_loss: 0.7165 - val_binary_accuracy: 0.5424\n",
      "Epoch 31/100\n",
      "19/19 [==============================] - 2s 99ms/step - loss: 0.6370 - binary_accuracy: 0.6436 - val_loss: 0.7146 - val_binary_accuracy: 0.5466\n",
      "Epoch 32/100\n",
      "19/19 [==============================] - 2s 97ms/step - loss: 0.6357 - binary_accuracy: 0.6245 - val_loss: 0.7139 - val_binary_accuracy: 0.5424\n",
      "Epoch 33/100\n",
      "19/19 [==============================] - 2s 99ms/step - loss: 0.6322 - binary_accuracy: 0.6521 - val_loss: 0.7172 - val_binary_accuracy: 0.5424\n",
      "Epoch 34/100\n",
      "19/19 [==============================] - 2s 97ms/step - loss: 0.6290 - binary_accuracy: 0.6479 - val_loss: 0.7158 - val_binary_accuracy: 0.5551\n",
      "Epoch 35/100\n",
      "19/19 [==============================] - 2s 98ms/step - loss: 0.6272 - binary_accuracy: 0.6500 - val_loss: 0.7506 - val_binary_accuracy: 0.5381\n",
      "Epoch 36/100\n",
      "19/19 [==============================] - 2s 96ms/step - loss: 0.6309 - binary_accuracy: 0.6479 - val_loss: 0.7106 - val_binary_accuracy: 0.5466\n",
      "Epoch 37/100\n",
      "19/19 [==============================] - 2s 97ms/step - loss: 0.6266 - binary_accuracy: 0.6479 - val_loss: 0.7090 - val_binary_accuracy: 0.5678\n",
      "Epoch 38/100\n",
      "19/19 [==============================] - 2s 96ms/step - loss: 0.6238 - binary_accuracy: 0.6564 - val_loss: 0.7240 - val_binary_accuracy: 0.5678\n",
      "Epoch 39/100\n",
      "19/19 [==============================] - 2s 98ms/step - loss: 0.6237 - binary_accuracy: 0.6521 - val_loss: 0.7071 - val_binary_accuracy: 0.5763\n",
      "Epoch 40/100\n",
      "19/19 [==============================] - 2s 96ms/step - loss: 0.6247 - binary_accuracy: 0.6564 - val_loss: 0.7082 - val_binary_accuracy: 0.5720\n",
      "Epoch 41/100\n",
      "19/19 [==============================] - 2s 98ms/step - loss: 0.6188 - binary_accuracy: 0.6553 - val_loss: 0.7047 - val_binary_accuracy: 0.5763\n",
      "Epoch 42/100\n",
      "19/19 [==============================] - 2s 97ms/step - loss: 0.6131 - binary_accuracy: 0.6681 - val_loss: 0.7265 - val_binary_accuracy: 0.5763\n",
      "Epoch 43/100\n",
      "19/19 [==============================] - 2s 99ms/step - loss: 0.6287 - binary_accuracy: 0.6521 - val_loss: 0.7297 - val_binary_accuracy: 0.5593\n",
      "Epoch 44/100\n",
      "19/19 [==============================] - 2s 97ms/step - loss: 0.6254 - binary_accuracy: 0.6489 - val_loss: 0.7021 - val_binary_accuracy: 0.5678\n",
      "Epoch 45/100\n",
      "19/19 [==============================] - 2s 101ms/step - loss: 0.6157 - binary_accuracy: 0.6574 - val_loss: 0.7080 - val_binary_accuracy: 0.5636\n",
      "Epoch 46/100\n",
      "19/19 [==============================] - 2s 101ms/step - loss: 0.6121 - binary_accuracy: 0.6574 - val_loss: 0.7026 - val_binary_accuracy: 0.5975\n",
      "Epoch 47/100\n",
      "19/19 [==============================] - 2s 99ms/step - loss: 0.6172 - binary_accuracy: 0.6617 - val_loss: 0.7067 - val_binary_accuracy: 0.5763\n",
      "Epoch 48/100\n",
      "19/19 [==============================] - 2s 100ms/step - loss: 0.6145 - binary_accuracy: 0.6574 - val_loss: 0.7003 - val_binary_accuracy: 0.5847\n",
      "Epoch 49/100\n",
      "19/19 [==============================] - 2s 97ms/step - loss: 0.6198 - binary_accuracy: 0.6596 - val_loss: 0.6997 - val_binary_accuracy: 0.5805\n",
      "Epoch 50/100\n",
      "19/19 [==============================] - 2s 95ms/step - loss: 0.6328 - binary_accuracy: 0.6532 - val_loss: 0.7074 - val_binary_accuracy: 0.5466\n",
      "Epoch 51/100\n",
      "19/19 [==============================] - 2s 96ms/step - loss: 0.6177 - binary_accuracy: 0.6649 - val_loss: 0.6938 - val_binary_accuracy: 0.5975\n",
      "Epoch 52/100\n",
      "19/19 [==============================] - 2s 98ms/step - loss: 0.6085 - binary_accuracy: 0.6660 - val_loss: 0.7045 - val_binary_accuracy: 0.5720\n",
      "Epoch 53/100\n",
      "19/19 [==============================] - 2s 97ms/step - loss: 0.6100 - binary_accuracy: 0.6777 - val_loss: 0.7186 - val_binary_accuracy: 0.5720\n",
      "Epoch 54/100\n",
      "19/19 [==============================] - 2s 99ms/step - loss: 0.6061 - binary_accuracy: 0.6872 - val_loss: 0.6944 - val_binary_accuracy: 0.6017\n",
      "Epoch 55/100\n",
      "19/19 [==============================] - 2s 98ms/step - loss: 0.6101 - binary_accuracy: 0.6606 - val_loss: 0.7211 - val_binary_accuracy: 0.5763\n",
      "Epoch 56/100\n",
      "19/19 [==============================] - 2s 99ms/step - loss: 0.6211 - binary_accuracy: 0.6532 - val_loss: 0.7068 - val_binary_accuracy: 0.5678\n",
      "Epoch 57/100\n",
      "19/19 [==============================] - 2s 96ms/step - loss: 0.6107 - binary_accuracy: 0.6660 - val_loss: 0.6881 - val_binary_accuracy: 0.6102\n",
      "Epoch 58/100\n",
      "19/19 [==============================] - 2s 99ms/step - loss: 0.6027 - binary_accuracy: 0.6723 - val_loss: 0.6947 - val_binary_accuracy: 0.6059\n",
      "Epoch 59/100\n",
      "19/19 [==============================] - 2s 96ms/step - loss: 0.6032 - binary_accuracy: 0.6819 - val_loss: 0.7034 - val_binary_accuracy: 0.5805\n",
      "Epoch 60/100\n",
      "19/19 [==============================] - 2s 100ms/step - loss: 0.6007 - binary_accuracy: 0.6723 - val_loss: 0.6942 - val_binary_accuracy: 0.5975\n",
      "Epoch 61/100\n",
      "19/19 [==============================] - 2s 96ms/step - loss: 0.6046 - binary_accuracy: 0.6649 - val_loss: 0.6915 - val_binary_accuracy: 0.5932\n",
      "Epoch 62/100\n",
      "19/19 [==============================] - 2s 100ms/step - loss: 0.5966 - binary_accuracy: 0.6872 - val_loss: 0.6876 - val_binary_accuracy: 0.6059\n",
      "Epoch 63/100\n",
      "19/19 [==============================] - 2s 97ms/step - loss: 0.6026 - binary_accuracy: 0.6809 - val_loss: 0.7221 - val_binary_accuracy: 0.5763\n",
      "Epoch 64/100\n",
      "19/19 [==============================] - 2s 99ms/step - loss: 0.6059 - binary_accuracy: 0.6702 - val_loss: 0.6966 - val_binary_accuracy: 0.5805\n",
      "Epoch 65/100\n",
      "19/19 [==============================] - 2s 97ms/step - loss: 0.6100 - binary_accuracy: 0.6777 - val_loss: 0.7118 - val_binary_accuracy: 0.5763\n",
      "Epoch 66/100\n",
      "19/19 [==============================] - 2s 98ms/step - loss: 0.6054 - binary_accuracy: 0.6734 - val_loss: 0.6850 - val_binary_accuracy: 0.6059\n",
      "Epoch 67/100\n",
      "19/19 [==============================] - 2s 96ms/step - loss: 0.5967 - binary_accuracy: 0.6819 - val_loss: 0.6880 - val_binary_accuracy: 0.6059\n",
      "Epoch 68/100\n",
      "19/19 [==============================] - 2s 98ms/step - loss: 0.6007 - binary_accuracy: 0.6596 - val_loss: 0.6958 - val_binary_accuracy: 0.5805\n",
      "Epoch 69/100\n",
      "19/19 [==============================] - 2s 95ms/step - loss: 0.5976 - binary_accuracy: 0.6840 - val_loss: 0.6830 - val_binary_accuracy: 0.6144\n",
      "Epoch 70/100\n",
      "19/19 [==============================] - 2s 98ms/step - loss: 0.5930 - binary_accuracy: 0.6798 - val_loss: 0.6841 - val_binary_accuracy: 0.5932\n",
      "Epoch 71/100\n",
      "19/19 [==============================] - 2s 96ms/step - loss: 0.5885 - binary_accuracy: 0.6915 - val_loss: 0.6915 - val_binary_accuracy: 0.6017\n",
      "Epoch 72/100\n",
      "19/19 [==============================] - 2s 98ms/step - loss: 0.5954 - binary_accuracy: 0.6915 - val_loss: 0.6873 - val_binary_accuracy: 0.6017\n",
      "Epoch 73/100\n",
      "19/19 [==============================] - 2s 96ms/step - loss: 0.5939 - binary_accuracy: 0.6872 - val_loss: 0.6989 - val_binary_accuracy: 0.5890\n",
      "Epoch 74/100\n",
      "19/19 [==============================] - 2s 99ms/step - loss: 0.5937 - binary_accuracy: 0.6734 - val_loss: 0.6820 - val_binary_accuracy: 0.6102\n",
      "Epoch 75/100\n",
      "19/19 [==============================] - 2s 96ms/step - loss: 0.5870 - binary_accuracy: 0.6989 - val_loss: 0.6804 - val_binary_accuracy: 0.6059\n",
      "Epoch 76/100\n",
      "19/19 [==============================] - 2s 99ms/step - loss: 0.5860 - binary_accuracy: 0.6979 - val_loss: 0.6840 - val_binary_accuracy: 0.6229\n",
      "Epoch 77/100\n",
      "19/19 [==============================] - 2s 96ms/step - loss: 0.5831 - binary_accuracy: 0.6915 - val_loss: 0.6890 - val_binary_accuracy: 0.6017\n",
      "Epoch 78/100\n",
      "19/19 [==============================] - 2s 99ms/step - loss: 0.5879 - binary_accuracy: 0.6819 - val_loss: 0.6808 - val_binary_accuracy: 0.6059\n",
      "Epoch 79/100\n",
      "19/19 [==============================] - 2s 96ms/step - loss: 0.5814 - binary_accuracy: 0.6989 - val_loss: 0.6810 - val_binary_accuracy: 0.6017\n",
      "Epoch 80/100\n",
      "19/19 [==============================] - 2s 98ms/step - loss: 0.5815 - binary_accuracy: 0.7053 - val_loss: 0.6830 - val_binary_accuracy: 0.6102\n",
      "Epoch 81/100\n",
      "19/19 [==============================] - 2s 99ms/step - loss: 0.5767 - binary_accuracy: 0.7011 - val_loss: 0.6786 - val_binary_accuracy: 0.6144\n",
      "Epoch 82/100\n",
      "19/19 [==============================] - 2s 101ms/step - loss: 0.5774 - binary_accuracy: 0.7021 - val_loss: 0.6821 - val_binary_accuracy: 0.6229\n",
      "Epoch 83/100\n",
      "19/19 [==============================] - 2s 98ms/step - loss: 0.5787 - binary_accuracy: 0.7021 - val_loss: 0.6799 - val_binary_accuracy: 0.6186\n",
      "Epoch 84/100\n",
      "19/19 [==============================] - 2s 99ms/step - loss: 0.5780 - binary_accuracy: 0.7053 - val_loss: 0.6772 - val_binary_accuracy: 0.6144\n",
      "Epoch 85/100\n",
      "19/19 [==============================] - 2s 97ms/step - loss: 0.5731 - binary_accuracy: 0.7032 - val_loss: 0.6927 - val_binary_accuracy: 0.6186\n",
      "Epoch 86/100\n",
      "19/19 [==============================] - 2s 98ms/step - loss: 0.5932 - binary_accuracy: 0.6862 - val_loss: 0.7123 - val_binary_accuracy: 0.5847\n",
      "Epoch 87/100\n",
      "19/19 [==============================] - 2s 98ms/step - loss: 0.5754 - binary_accuracy: 0.6989 - val_loss: 0.6797 - val_binary_accuracy: 0.6314\n",
      "Epoch 88/100\n",
      "19/19 [==============================] - 2s 98ms/step - loss: 0.5682 - binary_accuracy: 0.7096 - val_loss: 0.6768 - val_binary_accuracy: 0.6271\n",
      "Epoch 89/100\n",
      "19/19 [==============================] - 2s 100ms/step - loss: 0.5756 - binary_accuracy: 0.6968 - val_loss: 0.6803 - val_binary_accuracy: 0.6229\n",
      "Epoch 90/100\n",
      "19/19 [==============================] - 2s 96ms/step - loss: 0.5715 - binary_accuracy: 0.7053 - val_loss: 0.6826 - val_binary_accuracy: 0.6017\n",
      "Epoch 91/100\n",
      "19/19 [==============================] - 2s 97ms/step - loss: 0.5700 - binary_accuracy: 0.7021 - val_loss: 0.6869 - val_binary_accuracy: 0.6229\n",
      "Epoch 92/100\n",
      "19/19 [==============================] - 2s 96ms/step - loss: 0.5667 - binary_accuracy: 0.7106 - val_loss: 0.6846 - val_binary_accuracy: 0.6102\n",
      "Epoch 93/100\n",
      "19/19 [==============================] - 2s 97ms/step - loss: 0.5721 - binary_accuracy: 0.7032 - val_loss: 0.7002 - val_binary_accuracy: 0.5975\n",
      "Epoch 94/100\n",
      "19/19 [==============================] - 2s 96ms/step - loss: 0.5714 - binary_accuracy: 0.7000 - val_loss: 0.7022 - val_binary_accuracy: 0.6102\n",
      "Epoch 95/100\n",
      "19/19 [==============================] - 2s 97ms/step - loss: 0.5653 - binary_accuracy: 0.7106 - val_loss: 0.6778 - val_binary_accuracy: 0.6186\n",
      "Epoch 96/100\n",
      "19/19 [==============================] - 2s 98ms/step - loss: 0.5693 - binary_accuracy: 0.7032 - val_loss: 0.6798 - val_binary_accuracy: 0.6229\n",
      "Epoch 97/100\n",
      "19/19 [==============================] - 2s 103ms/step - loss: 0.5708 - binary_accuracy: 0.7053 - val_loss: 0.6774 - val_binary_accuracy: 0.6356\n",
      "Epoch 98/100\n",
      "19/19 [==============================] - 2s 97ms/step - loss: 0.5678 - binary_accuracy: 0.7085 - val_loss: 0.6997 - val_binary_accuracy: 0.6102\n",
      "Epoch 99/100\n",
      "19/19 [==============================] - 2s 100ms/step - loss: 0.5612 - binary_accuracy: 0.7128 - val_loss: 0.6872 - val_binary_accuracy: 0.6144\n",
      "Epoch 100/100\n",
      "19/19 [==============================] - 2s 98ms/step - loss: 0.5610 - binary_accuracy: 0.7106 - val_loss: 0.6755 - val_binary_accuracy: 0.6398\n"
     ]
    }
   ],
   "source": [
    "history = model.fit(X_train, y_train, \n",
    "                    batch_size=batch_size, \n",
    "                    epochs=epochs, \n",
    "                    validation_data=(X_val, y_val), \n",
    "                    verbose=1, \n",
    "                    callbacks=[tensorboard_call]) #, val_loss_callback])"
   ]
  },
  {
   "cell_type": "code",
   "execution_count": 29,
   "metadata": {},
   "outputs": [
    {
     "name": "stdout",
     "output_type": "stream",
     "text": [
      "Model: \"sequential_1\"\n",
      "_________________________________________________________________\n",
      "Layer (type)                 Output Shape              Param #   \n",
      "=================================================================\n",
      "gru_2 (GRU)                  (None, 114, 16)           1824      \n",
      "_________________________________________________________________\n",
      "gaussian_noise_2 (GaussianNo (None, 114, 16)           0         \n",
      "_________________________________________________________________\n",
      "gru_3 (GRU)                  (None, 6)                 432       \n",
      "_________________________________________________________________\n",
      "gaussian_noise_3 (GaussianNo (None, 6)                 0         \n",
      "_________________________________________________________________\n",
      "dense_1 (Dense)              (None, 1)                 7         \n",
      "=================================================================\n",
      "Total params: 2,263\n",
      "Trainable params: 2,263\n",
      "Non-trainable params: 0\n",
      "_________________________________________________________________\n"
     ]
    }
   ],
   "source": [
    "model.summary()"
   ]
  },
  {
   "cell_type": "code",
   "execution_count": 30,
   "metadata": {},
   "outputs": [
    {
     "name": "stdout",
     "output_type": "stream",
     "text": [
      "294/294 [==============================] - 5s 18ms/step - loss: 0.6275 - binary_accuracy: 0.6667\n",
      "test loss, test acc: [0.6274934411048889, 0.6666666865348816]\n"
     ]
    }
   ],
   "source": [
    "#evaluate model on test set\n",
    "results = model.evaluate(X_test, y_test, batch_size=1, verbose=1)\n",
    "print(\"test loss, test acc:\", results)"
   ]
  },
  {
   "cell_type": "code",
   "execution_count": 31,
   "metadata": {},
   "outputs": [
    {
     "data": {
      "image/png": "[encoded data removed]",
      "text/plain": [
       "<Figure size 432x288 with 1 Axes>"
      ]
     },
     "metadata": {
      "needs_background": "light"
     },
     "output_type": "display_data"
    }
   ],
   "source": [
    "#summarize history for accuracy\n",
    "plt.plot(history.history[(list(history.history.keys())[1])])\n",
    "plt.plot(history.history[(list(history.history.keys())[3])])\n",
    "plt.title('model accuracy')\n",
    "plt.ylabel('accuracy')\n",
    "plt.xlabel('epoch')\n",
    "plt.legend(['train', 'val'], loc='upper left')\n",
    "plt.show()"
   ]
  },
  {
   "cell_type": "code",
   "execution_count": 32,
   "metadata": {},
   "outputs": [
    {
     "data": {
      "image/png": "[encoded data removed]",
      "text/plain": [
       "<Figure size 432x288 with 1 Axes>"
      ]
     },
     "metadata": {
      "needs_background": "light"
     },
     "output_type": "display_data"
    }
   ],
   "source": [
    "#summarize history for loss\n",
    "plt.plot(history.history[(list(history.history.keys())[0])])\n",
    "plt.plot(history.history[(list(history.history.keys())[2])])\n",
    "plt.title('model loss')\n",
    "plt.ylabel('loss')\n",
    "plt.xlabel('epoch')\n",
    "plt.legend(['train', 'val'], loc='upper left')\n",
    "plt.show()"
   ]
  },
  {
   "cell_type": "code",
   "execution_count": 33,
   "metadata": {},
   "outputs": [
    {
     "name": "stdout",
     "output_type": "stream",
     "text": [
      "predictions: [[0.6957338 ]\n",
      " [0.23771417]\n",
      " [0.52861035]\n",
      " [0.6316051 ]\n",
      " [0.15560693]\n",
      " [0.7107873 ]\n",
      " [0.72182655]\n",
      " [0.61283445]\n",
      " [0.7934366 ]\n",
      " [0.23671985]\n",
      " [0.46152616]\n",
      " [0.7146684 ]\n",
      " [0.58547854]\n",
      " [0.12975067]\n",
      " [0.18717489]\n",
      " [0.54992485]\n",
      " [0.2562027 ]\n",
      " [0.56649786]\n",
      " [0.26515383]\n",
      " [0.27596033]\n",
      " [0.81194866]\n",
      " [0.8953943 ]\n",
      " [0.78775334]\n",
      " [0.22314596]\n",
      " [0.85665226]\n",
      " [0.12422842]\n",
      " [0.7482245 ]\n",
      " [0.26159292]\n",
      " [0.6493876 ]\n",
      " [0.24913007]\n",
      " [0.673817  ]\n",
      " [0.85173655]\n",
      " [0.33589682]\n",
      " [0.68711954]\n",
      " [0.7302986 ]\n",
      " [0.64077413]\n",
      " [0.5528532 ]\n",
      " [0.7258081 ]\n",
      " [0.28684014]\n",
      " [0.5578278 ]\n",
      " [0.26552635]\n",
      " [0.7265969 ]\n",
      " [0.5356984 ]\n",
      " [0.2502934 ]\n",
      " [0.79628044]\n",
      " [0.4824948 ]\n",
      " [0.11107093]\n",
      " [0.7113604 ]\n",
      " [0.80579704]\n",
      " [0.81050795]\n",
      " [0.6500547 ]\n",
      " [0.86942977]\n",
      " [0.5294843 ]\n",
      " [0.15680778]\n",
      " [0.8595406 ]\n",
      " [0.5118935 ]\n",
      " [0.78316486]\n",
      " [0.2577059 ]\n",
      " [0.5004974 ]\n",
      " [0.8083559 ]\n",
      " [0.38784218]\n",
      " [0.2129566 ]\n",
      " [0.23396075]\n",
      " [0.6892917 ]\n",
      " [0.8248453 ]\n",
      " [0.29903996]\n",
      " [0.2386899 ]\n",
      " [0.3266728 ]\n",
      " [0.52273995]\n",
      " [0.26674125]\n",
      " [0.42924562]\n",
      " [0.4449213 ]\n",
      " [0.59728986]\n",
      " [0.5540329 ]\n",
      " [0.9118353 ]\n",
      " [0.8027779 ]\n",
      " [0.2595706 ]\n",
      " [0.8403443 ]\n",
      " [0.31818566]\n",
      " [0.8276417 ]\n",
      " [0.39765495]\n",
      " [0.5324212 ]\n",
      " [0.83650905]\n",
      " [0.45044792]\n",
      " [0.6432501 ]\n",
      " [0.7391732 ]\n",
      " [0.9025804 ]\n",
      " [0.41614467]\n",
      " [0.3171252 ]\n",
      " [0.8678415 ]\n",
      " [0.26550418]\n",
      " [0.7276285 ]\n",
      " [0.36709806]\n",
      " [0.5360773 ]\n",
      " [0.7239618 ]\n",
      " [0.4648161 ]\n",
      " [0.52437425]\n",
      " [0.545693  ]\n",
      " [0.86946464]\n",
      " [0.80023265]\n",
      " [0.48209035]\n",
      " [0.43725726]\n",
      " [0.26988912]\n",
      " [0.3605381 ]\n",
      " [0.8691014 ]\n",
      " [0.45596772]\n",
      " [0.70004284]\n",
      " [0.39724326]\n",
      " [0.51295316]\n",
      " [0.6368323 ]\n",
      " [0.45431876]\n",
      " [0.7924595 ]\n",
      " [0.34851354]\n",
      " [0.78148156]\n",
      " [0.7793477 ]\n",
      " [0.80517405]\n",
      " [0.40693605]\n",
      " [0.5328437 ]\n",
      " [0.73438007]\n",
      " [0.25352222]\n",
      " [0.15135533]\n",
      " [0.19814208]\n",
      " [0.21892238]\n",
      " [0.37004447]\n",
      " [0.24912244]\n",
      " [0.54728776]\n",
      " [0.8777157 ]\n",
      " [0.7247001 ]\n",
      " [0.8816798 ]\n",
      " [0.6119962 ]\n",
      " [0.53413785]\n",
      " [0.3900374 ]\n",
      " [0.81125844]\n",
      " [0.7632395 ]\n",
      " [0.2216909 ]\n",
      " [0.18400326]\n",
      " [0.46427175]\n",
      " [0.47474605]\n",
      " [0.16291401]\n",
      " [0.21773615]\n",
      " [0.17861977]\n",
      " [0.35374862]\n",
      " [0.80821764]\n",
      " [0.5877625 ]\n",
      " [0.694571  ]\n",
      " [0.5871444 ]\n",
      " [0.3069884 ]\n",
      " [0.6654141 ]\n",
      " [0.84253556]\n",
      " [0.23389378]\n",
      " [0.18425655]\n",
      " [0.2805936 ]\n",
      " [0.15980709]\n",
      " [0.23164502]\n",
      " [0.76228535]\n",
      " [0.36222196]\n",
      " [0.38658816]\n",
      " [0.30380327]\n",
      " [0.7386841 ]\n",
      " [0.5157326 ]\n",
      " [0.705064  ]\n",
      " [0.30192554]\n",
      " [0.28849667]\n",
      " [0.25216025]\n",
      " [0.2785956 ]\n",
      " [0.76502025]\n",
      " [0.8461306 ]\n",
      " [0.32137138]\n",
      " [0.14200401]\n",
      " [0.5451234 ]\n",
      " [0.7511181 ]\n",
      " [0.3411994 ]\n",
      " [0.3480212 ]\n",
      " [0.5899144 ]\n",
      " [0.8898227 ]\n",
      " [0.7850244 ]\n",
      " [0.4440275 ]\n",
      " [0.6899614 ]\n",
      " [0.6146121 ]\n",
      " [0.8361825 ]\n",
      " [0.17678234]\n",
      " [0.2231864 ]\n",
      " [0.3706823 ]\n",
      " [0.63360846]\n",
      " [0.78358734]\n",
      " [0.61169004]\n",
      " [0.3378252 ]\n",
      " [0.24176139]\n",
      " [0.13180345]\n",
      " [0.13723633]\n",
      " [0.52482694]\n",
      " [0.7369522 ]\n",
      " [0.45597678]\n",
      " [0.81072724]\n",
      " [0.085648  ]\n",
      " [0.345995  ]\n",
      " [0.757514  ]\n",
      " [0.27179414]\n",
      " [0.40896663]\n",
      " [0.29071742]\n",
      " [0.57628083]\n",
      " [0.75286674]\n",
      " [0.12332761]\n",
      " [0.69541454]\n",
      " [0.62311345]\n",
      " [0.6677292 ]\n",
      " [0.34811217]\n",
      " [0.501369  ]\n",
      " [0.8654362 ]\n",
      " [0.40868568]\n",
      " [0.29282838]\n",
      " [0.8290183 ]\n",
      " [0.10157466]\n",
      " [0.4473018 ]\n",
      " [0.7342755 ]\n",
      " [0.8462011 ]\n",
      " [0.25192282]\n",
      " [0.4500918 ]\n",
      " [0.5799601 ]\n",
      " [0.6897089 ]\n",
      " [0.61006373]\n",
      " [0.7862451 ]\n",
      " [0.7324196 ]\n",
      " [0.7350317 ]\n",
      " [0.24189776]\n",
      " [0.47326484]\n",
      " [0.5849072 ]\n",
      " [0.4789208 ]\n",
      " [0.4358391 ]\n",
      " [0.678305  ]\n",
      " [0.38221636]\n",
      " [0.82765555]\n",
      " [0.89489675]\n",
      " [0.48222214]\n",
      " [0.8745755 ]\n",
      " [0.25723666]\n",
      " [0.2694818 ]\n",
      " [0.31870803]\n",
      " [0.7517453 ]\n",
      " [0.6943599 ]\n",
      " [0.28154978]\n",
      " [0.864465  ]\n",
      " [0.32281935]\n",
      " [0.8353214 ]\n",
      " [0.40900445]\n",
      " [0.6994352 ]\n",
      " [0.67196155]\n",
      " [0.7192359 ]\n",
      " [0.69535375]\n",
      " [0.82153237]\n",
      " [0.66395533]\n",
      " [0.5194757 ]\n",
      " [0.42843765]\n",
      " [0.76546454]\n",
      " [0.48561418]\n",
      " [0.58431244]\n",
      " [0.409577  ]\n",
      " [0.5151088 ]\n",
      " [0.08838418]\n",
      " [0.20140755]\n",
      " [0.45000294]\n",
      " [0.58261275]\n",
      " [0.83244306]\n",
      " [0.34222174]\n",
      " [0.2112701 ]\n",
      " [0.12663862]\n",
      " [0.57985854]\n",
      " [0.48448798]\n",
      " [0.7727816 ]\n",
      " [0.696219  ]\n",
      " [0.82000655]\n",
      " [0.7047881 ]\n",
      " [0.47966322]\n",
      " [0.31466338]\n",
      " [0.7720785 ]\n",
      " [0.71586466]\n",
      " [0.30371872]\n",
      " [0.86925465]\n",
      " [0.74054104]\n",
      " [0.38899264]\n",
      " [0.28504527]\n",
      " [0.7266917 ]\n",
      " [0.83827215]\n",
      " [0.7136115 ]\n",
      " [0.34485167]\n",
      " [0.35677326]\n",
      " [0.4776199 ]\n",
      " [0.15225267]\n",
      " [0.8643309 ]\n",
      " [0.9013494 ]\n",
      " [0.36732423]\n",
      " [0.6847631 ]\n",
      " [0.28301293]\n",
      " [0.28650832]]\n"
     ]
    }
   ],
   "source": [
    "#generate predictions\n",
    "predictions = model.predict(X_test)\n",
    "print(\"predictions:\", predictions)"
   ]
  },
  {
   "cell_type": "code",
   "execution_count": 34,
   "metadata": {},
   "outputs": [
    {
     "name": "stdout",
     "output_type": "stream",
     "text": [
      "['N' 'F' 'N' 'N' 'F' 'N' 'N' 'N' 'N' 'F' 'F' 'N' 'N' 'F' 'F' 'N' 'F' 'N'\n",
      " 'F' 'F' 'N' 'N' 'N' 'F' 'N' 'F' 'N' 'F' 'N' 'F' 'N' 'N' 'F' 'N' 'N' 'N'\n",
      " 'N' 'N' 'F' 'N' 'F' 'N' 'N' 'F' 'N' 'F' 'F' 'N' 'N' 'N' 'N' 'N' 'N' 'F'\n",
      " 'N' 'N' 'N' 'F' 'N' 'N' 'F' 'F' 'F' 'N' 'N' 'F' 'F' 'F' 'N' 'F' 'F' 'F'\n",
      " 'N' 'N' 'N' 'N' 'F' 'N' 'F' 'N' 'F' 'N' 'N' 'F' 'N' 'N' 'N' 'F' 'F' 'N'\n",
      " 'F' 'N' 'F' 'N' 'N' 'F' 'N' 'N' 'N' 'N' 'F' 'F' 'F' 'F' 'N' 'F' 'N' 'F'\n",
      " 'N' 'N' 'F' 'N' 'F' 'N' 'N' 'N' 'F' 'N' 'N' 'F' 'F' 'F' 'F' 'F' 'F' 'N'\n",
      " 'N' 'N' 'N' 'N' 'N' 'F' 'N' 'N' 'F' 'F' 'F' 'F' 'F' 'F' 'F' 'F' 'N' 'N'\n",
      " 'N' 'N' 'F' 'N' 'N' 'F' 'F' 'F' 'F' 'F' 'N' 'F' 'F' 'F' 'N' 'N' 'N' 'F'\n",
      " 'F' 'F' 'F' 'N' 'N' 'F' 'F' 'N' 'N' 'F' 'F' 'N' 'N' 'N' 'F' 'N' 'N' 'N'\n",
      " 'F' 'F' 'F' 'N' 'N' 'N' 'F' 'F' 'F' 'F' 'N' 'N' 'F' 'N' 'F' 'F' 'N' 'F'\n",
      " 'F' 'F' 'N' 'N' 'F' 'N' 'N' 'N' 'F' 'N' 'N' 'F' 'F' 'N' 'F' 'F' 'N' 'N'\n",
      " 'F' 'F' 'N' 'N' 'N' 'N' 'N' 'N' 'F' 'F' 'N' 'F' 'F' 'N' 'F' 'N' 'N' 'F'\n",
      " 'N' 'F' 'F' 'F' 'N' 'N' 'F' 'N' 'F' 'N' 'F' 'N' 'N' 'N' 'N' 'N' 'N' 'N'\n",
      " 'F' 'N' 'F' 'N' 'F' 'N' 'F' 'F' 'F' 'N' 'N' 'F' 'F' 'F' 'N' 'F' 'N' 'N'\n",
      " 'N' 'N' 'F' 'F' 'N' 'N' 'F' 'N' 'N' 'F' 'F' 'N' 'N' 'N' 'F' 'F' 'F' 'F'\n",
      " 'N' 'N' 'F' 'N' 'F' 'F']\n"
     ]
    }
   ],
   "source": [
    "#remove encoding\n",
    "real_predictions_B = a_encoder.inverse_transform(predictions)\n",
    "print(real_predictions_B)"
   ]
  },
  {
   "cell_type": "code",
   "execution_count": 35,
   "metadata": {},
   "outputs": [
    {
     "data": {
      "text/plain": [
       "{'F': 136, 'N': 158}"
      ]
     },
     "execution_count": 35,
     "metadata": {},
     "output_type": "execute_result"
    }
   ],
   "source": [
    "#prediction counts\n",
    "unique, counts = np.unique(real_predictions_B, return_counts=True)\n",
    "dict(zip(unique, counts))"
   ]
  },
  {
   "cell_type": "code",
   "execution_count": 36,
   "metadata": {},
   "outputs": [
    {
     "name": "stdout",
     "output_type": "stream",
     "text": [
      "['N' 'F' 'F' 'F' 'F' 'F' 'F' 'F' 'F' 'F' 'F' 'F' 'F' 'F' 'F' 'N' 'F' 'F'\n",
      " 'F' 'N' 'N' 'N' 'F' 'F' 'N' 'F' 'N' 'F' 'N' 'F' 'N' 'N' 'F' 'N' 'N' 'N'\n",
      " 'F' 'F' 'F' 'N' 'F' 'N' 'F' 'F' 'F' 'N' 'F' 'N' 'N' 'N' 'F' 'F' 'N' 'N'\n",
      " 'N' 'N' 'N' 'N' 'N' 'F' 'F' 'F' 'F' 'N' 'F' 'N' 'N' 'N' 'N' 'F' 'F' 'N'\n",
      " 'F' 'N' 'F' 'N' 'N' 'N' 'F' 'N' 'F' 'F' 'N' 'N' 'N' 'F' 'N' 'F' 'N' 'N'\n",
      " 'F' 'N' 'F' 'N' 'N' 'F' 'N' 'F' 'N' 'N' 'N' 'F' 'N' 'N' 'N' 'F' 'N' 'N'\n",
      " 'N' 'F' 'F' 'N' 'F' 'N' 'N' 'N' 'F' 'N' 'N' 'F' 'F' 'F' 'F' 'F' 'N' 'N'\n",
      " 'N' 'F' 'N' 'N' 'N' 'N' 'N' 'N' 'F' 'F' 'N' 'N' 'F' 'F' 'F' 'F' 'F' 'F'\n",
      " 'F' 'F' 'F' 'F' 'N' 'F' 'F' 'F' 'F' 'F' 'N' 'N' 'F' 'F' 'N' 'F' 'N' 'N'\n",
      " 'F' 'N' 'F' 'N' 'N' 'F' 'N' 'N' 'F' 'F' 'F' 'F' 'N' 'N' 'N' 'F' 'F' 'N'\n",
      " 'N' 'F' 'N' 'F' 'N' 'F' 'F' 'F' 'F' 'F' 'F' 'N' 'F' 'F' 'F' 'F' 'F' 'F'\n",
      " 'F' 'F' 'F' 'N' 'F' 'F' 'N' 'N' 'F' 'N' 'N' 'F' 'N' 'F' 'N' 'N' 'F' 'N'\n",
      " 'N' 'N' 'N' 'F' 'N' 'N' 'N' 'N' 'N' 'F' 'N' 'F' 'N' 'F' 'F' 'N' 'N' 'F'\n",
      " 'N' 'F' 'F' 'N' 'F' 'N' 'F' 'N' 'N' 'N' 'N' 'N' 'F' 'N' 'F' 'N' 'N' 'N'\n",
      " 'F' 'N' 'N' 'F' 'F' 'N' 'N' 'N' 'F' 'F' 'N' 'F' 'F' 'F' 'N' 'F' 'N' 'F'\n",
      " 'N' 'F' 'N' 'F' 'N' 'N' 'F' 'N' 'N' 'F' 'N' 'N' 'N' 'F' 'N' 'F' 'F' 'F'\n",
      " 'N' 'F' 'N' 'N' 'F' 'F']\n"
     ]
    }
   ],
   "source": [
    "#y_test predictions\n",
    "ytest_predictions = a_encoder.inverse_transform(y_test)\n",
    "print(ytest_predictions)"
   ]
  },
  {
   "cell_type": "code",
   "execution_count": 37,
   "metadata": {},
   "outputs": [
    {
     "data": {
      "text/plain": [
       "{'F': 148, 'N': 146}"
      ]
     },
     "execution_count": 37,
     "metadata": {},
     "output_type": "execute_result"
    }
   ],
   "source": [
    "#real count\n",
    "unique, counts = np.unique(ytest_predictions, return_counts=True)\n",
    "dict(zip(unique, counts))"
   ]
  },
  {
   "cell_type": "code",
   "execution_count": 38,
   "metadata": {},
   "outputs": [
    {
     "data": {
      "image/png": "[encoded data removed]",
      "text/plain": [
       "<Figure size 432x288 with 2 Axes>"
      ]
     },
     "metadata": {
      "needs_background": "light"
     },
     "output_type": "display_data"
    }
   ],
   "source": [
    "#confusion matrix\n",
    "matrix = confusion_matrix(ytest_predictions, real_predictions_B)\n",
    "#format confusion matrix\n",
    "ax=plt.subplot()\n",
    "sns.heatmap(matrix, annot=True, ax = ax, cmap='Greens', fmt='g');\n",
    "accuracy = np.trace(matrix) / np.sum(matrix).astype('float')\n",
    "misclass = 1 - accuracy\n",
    "ax.set_xlabel('Predicted label\\naccuracy={:0.4f}; misclass={:0.4f}'.format(accuracy, misclass));\n",
    "ax.set_ylabel('True labels'); \n",
    "ax.set_title('Confusion Matrix');\n",
    "ax.xaxis.set_ticklabels(unique); ax.yaxis.set_ticklabels(unique);"
   ]
  },
  {
   "cell_type": "code",
   "execution_count": 39,
   "metadata": {},
   "outputs": [
    {
     "name": "stdout",
     "output_type": "stream",
     "text": [
      "              precision    recall  f1-score   support\n",
      "\n",
      "           F       0.68      0.63      0.65       148\n",
      "           N       0.65      0.71      0.68       146\n",
      "\n",
      "    accuracy                           0.67       294\n",
      "   macro avg       0.67      0.67      0.67       294\n",
      "weighted avg       0.67      0.67      0.67       294\n",
      "\n"
     ]
    }
   ],
   "source": [
    "print(classification_report(ytest_predictions, real_predictions_B))"
   ]
  },
  {
   "cell_type": "code",
   "execution_count": 40,
   "metadata": {},
   "outputs": [
    {
     "name": "stdout",
     "output_type": "stream",
     "text": [
      "precision score:0.6679\n",
      "recall score:0.6669\n",
      "f1 score:0.6663\n"
     ]
    }
   ],
   "source": [
    "#macro - calculate metrics for each label, and find their unweighted mean\n",
    "pre_score = precision_score(ytest_predictions, real_predictions_B, average = \"macro\")\n",
    "print('precision score:{:0.4f}'.format(pre_score))\n",
    "recall_score_1 = recall_score(ytest_predictions, real_predictions_B, average= \"macro\")\n",
    "print('recall score:{:0.4f}'.format(recall_score_1))\n",
    "f1_score_1 = f1_score(ytest_predictions, real_predictions_B, average=\"macro\")\n",
    "print('f1 score:{:0.4f}'.format(f1_score_1))"
   ]
  },
  {
   "cell_type": "code",
   "execution_count": null,
   "metadata": {},
   "outputs": [],
   "source": []
  }
 ],
 "metadata": {
  "kernelspec": {
   "display_name": "Python 3",
   "language": "python",
   "name": "python3"
  },
  "language_info": {
   "codemirror_mode": {
    "name": "ipython",
    "version": 3
   },
   "file_extension": ".py",
   "mimetype": "text/x-python",
   "name": "python",
   "nbconvert_exporter": "python",
   "pygments_lexer": "ipython3",
   "version": "3.8.3"
  }
 },
 "nbformat": 4,
 "nbformat_minor": 4
}
